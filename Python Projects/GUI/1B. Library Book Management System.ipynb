{
 "cells": [
  {
   "cell_type": "markdown",
   "id": "1b7f2315",
   "metadata": {},
   "source": [
    "## 1B: Library Book Management System"
   ]
  },
  {
   "cell_type": "code",
   "execution_count": 1,
   "id": "539c4c63",
   "metadata": {},
   "outputs": [],
   "source": [
    "# libraries\n",
    "from tkinter import *\n",
    "import sqlite3\n",
    "import tkinter.ttk as ttk\n",
    "import tkinter.messagebox as tkMessageBox"
   ]
  },
  {
   "cell_type": "code",
   "execution_count": 2,
   "id": "82250afa",
   "metadata": {},
   "outputs": [
    {
     "data": {
      "text/plain": [
       "''"
      ]
     },
     "execution_count": 2,
     "metadata": {},
     "output_type": "execute_result"
    }
   ],
   "source": [
    "root=Tk()\n",
    "root.title(\"Library Book Management System\")\n",
    "root.geometry(\"1300x600\")"
   ]
  },
  {
   "cell_type": "code",
   "execution_count": 3,
   "id": "89a34d1b",
   "metadata": {},
   "outputs": [],
   "source": [
    "#create database\n",
    "def database1():\n",
    "    global connect,c_obj\n",
    "    connect=sqlite3.connect(\"Library_Book_Management.db\")\n",
    "    c_obj=connect.cursor()\n",
    "    c_obj.execute(\"CREATE TABLE IF NOT EXISTS catalogue(booktitle TEXT,author TEXT,year INTEGER,isbn VARCHAR(13))\")\n",
    "#adds new entry to the database\n",
    "def add():\n",
    "    if BOOKTITLE.get()==\"\" or AUTHOR.get()==\"\" or YEAR.get()==\"\":\n",
    "        txt_result.config(text=\"Please dont leave blank.\",fg=\"red\")\n",
    "    else:\n",
    "        if ISBN.get()==\"\":\n",
    "            ISBN.set(\"-\")\n",
    "        else:\n",
    "            database1()\n",
    "            c_obj.execute(\"INSERT INTO catalogue(booktitle,author,year,isbn) VALUES(?,?,?,?)\",(str(BOOKTITLE.get()),str(AUTHOR.get()),str(YEAR.get()),str(ISBN.get())))\n",
    "            connect.commit()\n",
    "            BOOKTITLE.set(\"\")\n",
    "            AUTHOR.set(\"\")\n",
    "            YEAR.set(\"\")\n",
    "            ISBN.set(\"\")\n",
    "            c_obj.close()\n",
    "            connect.close()\n",
    "            txt_result.config(text=\"Record inserted.\",fg=\"green\")\n",
    "#display all data in the database\n",
    "def display():\n",
    "    tree.delete(*tree.get_children())\n",
    "    database1()\n",
    "    c_obj.execute(\"SELECT * FROM catalogue\")\n",
    "    fetch=c_obj.fetchall()\n",
    "    for data in fetch:\n",
    "        tree.insert('',\"end\",values=(data[0],data[1],data[2],data[3]))\n",
    "    c_obj.close()\n",
    "    txt_result.config(text=\"Successfully fetched data.\",fg=\"black\")\n",
    "#to search any data in the database\n",
    "def search():\n",
    "    tree.delete(*tree.get_children())\n",
    "    if BOOKTITLE.get()==\"\" or AUTHOR.get()==\"\" or YEAR.get()==\"\":\n",
    "        txt_result.config(text=\"Please dont leave blank.\",fg=\"red\")\n",
    "    else:\n",
    "        if ISBN.get()==\"\":\n",
    "            database1()\n",
    "            c_obj.execute(\"SELECT * FROM catalogue WHERE booktitle=? AND author=? AND year=?\",(str(BOOKTITLE.get()),str(AUTHOR.get()),str(YEAR.get())))\n",
    "            fetch=c_obj.fetchall()\n",
    "            for data in fetch:\n",
    "                tree.insert('',\"end\",values=(data[0],data[1],data[2],data[3]))\n",
    "            c_obj.close()\n",
    "            BOOKTITLE.set(\"\")\n",
    "            AUTHOR.set(\"\")\n",
    "            YEAR.set(\"\")\n",
    "            ISBN.set(\"\")\n",
    "            txt_result.config(text=\"Successfully fetched data.\",fg=\"black\")\n",
    "        else :    \n",
    "            database1()\n",
    "            c_obj.execute(\"SELECT * FROM catalogue WHERE booktitle=? AND author=? AND year=? AND isbn=?\",(str(BOOKTITLE.get()),str(AUTHOR.get()),str(YEAR.get()),str(ISBN.get())))\n",
    "            fetch=c_obj.fetchall()\n",
    "            for data in fetch:\n",
    "                tree.insert('',\"end\",values=(data[0],data[1],data[2],data[3]))\n",
    "            c_obj.close()\n",
    "            BOOKTITLE.set(\"\")\n",
    "            AUTHOR.set(\"\")\n",
    "            YEAR.set(\"\")\n",
    "            ISBN.set(\"\")\n",
    "            txt_result.config(text=\"Successfully fetched data.\",fg=\"black\")\n",
    "#To search data connected to issue date\n",
    "def issue():\n",
    "    tree.delete(*tree.get_children())\n",
    "    if YEAR.get()==\"\":\n",
    "        txt_result.config(text=\"Please dont leave YEAR blank.\",fg=\"red\")\n",
    "    else:\n",
    "        database1()\n",
    "        c_obj.execute(\"SELECT * FROM catalogue WHERE year=?\",(str(YEAR.get()),))\n",
    "        fetch=c_obj.fetchall()\n",
    "        for data in fetch:\n",
    "            tree.insert('',\"end\",values=(data[0],data[1],data[2],data[3]))\n",
    "        c_obj.close()\n",
    "        BOOKTITLE.set(\"\")\n",
    "        AUTHOR.set(\"\")\n",
    "        YEAR.set(\"\")\n",
    "        ISBN.set(\"\")\n",
    "        txt_result.config(text=\"Successfully fetched data.\",fg=\"black\")\n",
    "#deleting particular data from database\n",
    "def delete():\n",
    "    tree.delete(*tree.get_children())\n",
    "    if BOOKTITLE.get()==\"\" or AUTHOR.get()==\"\" or YEAR.get()==\"\" or ISBN.get()==\"\":\n",
    "        txt_result.config(text=\"Please dont leave blank.\",fg=\"red\")\n",
    "    else:\n",
    "        database1()\n",
    "        c_obj.execute(\"DELETE FROM catalogue WHERE booktitle=? AND author=? AND year=? AND isbn=?\",(str(BOOKTITLE.get()),str(AUTHOR.get()),str(YEAR.get()),str(ISBN.get())))\n",
    "        connect.commit()\n",
    "        c_obj.close()\n",
    "        BOOKTITLE.set(\"\")\n",
    "        AUTHOR.set(\"\")\n",
    "        YEAR.set(\"\")\n",
    "        ISBN.set(\"\")\n",
    "        txt_result.config(text=\"Successfully data deleted.\",fg=\"black\")\n",
    "#Exiting from the database        \n",
    "def exit():\n",
    "    result=tkMessageBox.askquestion(\"Do you want to exit? (y/n)\",icon=\"warning\")\n",
    "    if result==\"yes\":\n",
    "        root.destroy()"
   ]
  },
  {
   "cell_type": "code",
   "execution_count": 4,
   "id": "0e260c4e",
   "metadata": {},
   "outputs": [],
   "source": [
    "BOOKTITLE=StringVar()\n",
    "AUTHOR=StringVar()\n",
    "YEAR=StringVar()\n",
    "ISBN=StringVar()"
   ]
  },
  {
   "cell_type": "code",
   "execution_count": 5,
   "id": "fe3ef803",
   "metadata": {},
   "outputs": [],
   "source": [
    "#frame declaration\n",
    "Top=Frame(root,width=900,height=50,bd=8,relief=\"raise\",bg ='blue')\n",
    "Top.pack(side=TOP)\n",
    "Left=Frame(root,width=300,height=500,bd=8,relief=\"raise\",bg = 'red')\n",
    "Left.pack(side=LEFT)\n",
    "Right=Frame(root,width=600,height=500,bd=8,relief=\"raise\",bg ='yellow')\n",
    "Right.pack(side=RIGHT)\n",
    "Forms=Frame(Left,width=300,height=450)\n",
    "Forms.pack(side=TOP)\n",
    "Buttons=Frame(Left,width=300,height=100,bd=8,relief=\"raise\")\n",
    "Buttons.pack(side=BOTTOM)"
   ]
  },
  {
   "cell_type": "code",
   "execution_count": 6,
   "id": "80fcad5a",
   "metadata": {},
   "outputs": [],
   "source": [
    "# all lable declaration\n",
    "txt_title=Label(Top,width=900,font=(\"arial\",24),text=\"...Library Book Management System...\")\n",
    "txt_title.pack()\n",
    "\n",
    "txt_booktitle=Label(Forms,text=\"Booktitle:\",font=(\"arial\",16),bd=15)\n",
    "txt_booktitle.grid(row=0,stick=\"e\")\n",
    "\n",
    "txt_author=Label(Forms,text=\"Author:\",font=(\"arial\",16),bd=15)\n",
    "txt_author.grid(row=1,stick=\"e\")\n",
    "\n",
    "txt_year=Label(Forms,text=\"Year:\",font=(\"arial\",16),bd=15)\n",
    "txt_year.grid(row=2,stick=\"e\")\n",
    "\n",
    "txt_isbn=Label(Forms,text=\"ISBN:\",font=(\"arial\",16),bd=15)\n",
    "txt_isbn.grid(row=3,stick=\"e\")\n",
    "\n",
    "txt_result=Label(Buttons)\n",
    "txt_result.pack(side=TOP)"
   ]
  },
  {
   "cell_type": "code",
   "execution_count": 7,
   "id": "7c5349a0",
   "metadata": {},
   "outputs": [],
   "source": [
    "#All Entry\n",
    "booktitle=Entry(Forms,textvariable=BOOKTITLE,width=30)\n",
    "booktitle.grid(row=0,column=1)\n",
    "\n",
    "author=Entry(Forms,textvariable=AUTHOR,width=30)\n",
    "author.grid(row=1,column=1)\n",
    "\n",
    "year=Entry(Forms,textvariable=YEAR,width=30)\n",
    "year.grid(row=2,column=1)\n",
    "\n",
    "isbn=Entry(Forms,textvariable=ISBN,width=30)\n",
    "isbn.grid(row=3,column=1)"
   ]
  },
  {
   "cell_type": "code",
   "execution_count": 8,
   "id": "24a5ec0b",
   "metadata": {},
   "outputs": [],
   "source": [
    "#All Buttons\n",
    "btn_create=Button(Buttons,width=10,text=\"ADD\",command=add)\n",
    "btn_create.pack(side=LEFT)\n",
    "\n",
    "btn_read=Button(Buttons,width=10,text=\"DISPLAY\",command=display)\n",
    "btn_read.pack(side=LEFT)\n",
    "\n",
    "btn_search=Button(Buttons,width=10,text=\"SEARCH\",command=search)\n",
    "btn_search.pack(side=LEFT)\n",
    "\n",
    "btn_issue=Button(Buttons,width=10,text=\"ISSUE\",command=issue)\n",
    "btn_issue.pack(side=LEFT)\n",
    "\n",
    "btn_delete=Button(Buttons,width=10,text=\"DELETE\",command=delete)\n",
    "btn_delete.pack(side=LEFT)\n",
    "\n",
    "btn_exit=Button(Buttons,width=10,text=\"EXIT\",command=exit)\n",
    "btn_exit.pack(side=LEFT)"
   ]
  },
  {
   "cell_type": "code",
   "execution_count": 9,
   "id": "965e7902",
   "metadata": {},
   "outputs": [],
   "source": [
    "scrollbary=Scrollbar(Right,orient=VERTICAL)\n",
    "scrollbarx=Scrollbar(Right,orient=HORIZONTAL)\n",
    "\n",
    "tree=ttk.Treeview(Right,columns=(\"Booktitle\",\"Author\",\"Year\",\"ISBN\"))\n",
    "\n",
    "scrollbary.config(command=tree.yview)\n",
    "scrollbary.pack(side=RIGHT,fill=Y)\n",
    "\n",
    "scrollbarx.config(command=tree.xview)\n",
    "scrollbarx.pack(side=BOTTOM,fill=X)"
   ]
  },
  {
   "cell_type": "code",
   "execution_count": 10,
   "id": "08185b7e",
   "metadata": {},
   "outputs": [],
   "source": [
    "#declaring tree\n",
    "tree.heading(\"Booktitle\",text=\"Booktitle\",anchor=W)\n",
    "tree.heading(\"Author\",text=\"Author\",anchor=W)\n",
    "tree.heading(\"Year\",text=\"Year\",anchor=W)\n",
    "tree.heading(\"ISBN\",text=\"ISBN\",anchor=W)\n",
    "tree.column(\"#0\",stretch=NO,minwidth=0,width=0)\n",
    "tree.column(\"#1\",stretch=NO,minwidth=0,width=150)\n",
    "tree.column(\"#2\",stretch=NO,minwidth=0,width=150)\n",
    "tree.column(\"#3\",stretch=NO,minwidth=0,width=150)\n",
    "tree.column(\"#4\",stretch=NO,minwidth=0,width=150)\n",
    "tree.pack()"
   ]
  },
  {
   "cell_type": "code",
   "execution_count": 11,
   "id": "adb41d66",
   "metadata": {},
   "outputs": [],
   "source": [
    "# instalization\n",
    "if __name__==\"__main__\":\n",
    "    root.mainloop()"
   ]
  }
 ],
 "metadata": {
  "kernelspec": {
   "display_name": "Python 3 (ipykernel)",
   "language": "python",
   "name": "python3"
  },
  "language_info": {
   "codemirror_mode": {
    "name": "ipython",
    "version": 3
   },
   "file_extension": ".py",
   "mimetype": "text/x-python",
   "name": "python",
   "nbconvert_exporter": "python",
   "pygments_lexer": "ipython3",
   "version": "3.9.7"
  }
 },
 "nbformat": 4,
 "nbformat_minor": 5
}
