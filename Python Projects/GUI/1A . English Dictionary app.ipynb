{
 "cells": [
  {
   "cell_type": "markdown",
   "id": "f2da48eb",
   "metadata": {},
   "source": [
    "## 1A: English Dictionary app"
   ]
  },
  {
   "cell_type": "code",
   "execution_count": 1,
   "id": "1dbf0d8c",
   "metadata": {},
   "outputs": [],
   "source": [
    "import json"
   ]
  },
  {
   "cell_type": "code",
   "execution_count": 2,
   "id": "38d57e79",
   "metadata": {},
   "outputs": [
    {
     "name": "stdout",
     "output_type": "stream",
     "text": [
      "Mainmenu \n",
      "\n",
      " 1.Add a word \n",
      " 2.Find the meaning \n",
      " 3.Update a word \n",
      " 4.Exit \n",
      "\n",
      "Please select from the given mainmenu(1,2,3,4):1\n",
      "Enter a new word:fan\n",
      "Enter meaning of the word you entered:a wind blow machine\n",
      "Word added sucessfully\n",
      "##################################################\n",
      "Please select from the given mainmenu(1,2,3,4):2\n",
      "Enter a word to find its meaning:fan\n",
      "Meaning of the word you entered is : a wind blow machine\n",
      "##################################################\n",
      "Please select from the given mainmenu(1,2,3,4):3\n",
      "Enter a word to be updated:fan\n",
      "Enter new a word:Fan\n",
      "fan has been updated to Fan\n",
      "##################################################\n",
      "Please select from the given mainmenu(1,2,3,4):4\n",
      "Are you sure you want to exit?(yes/no):yes\n",
      "Thank you have a nice day!!\n",
      "##################################################\n"
     ]
    }
   ],
   "source": [
    "print('Mainmenu \\n\\n 1.Add a word \\n 2.Find the meaning \\n 3.Update a word \\n 4.Exit \\n')\n",
    "while True:\n",
    "    try:\n",
    "        action=int(input('Please select from the given mainmenu(1,2,3,4):'))\n",
    "    except ValueError :\n",
    "        print('!!!!Please enter interger values only!!!')\n",
    "        print('#'*50)\n",
    "    else:\n",
    "        if action==4:\n",
    "            e=input('Are you sure you want to exit?(yes/no):')\n",
    "            if e=='Yes' or e=='yes':\n",
    "                print('Thank you have a nice day!!')\n",
    "                print('#'*50)\n",
    "                break\n",
    "            else:\n",
    "                continue\n",
    "        elif action==1:\n",
    "            word=input('Enter a new word:')\n",
    "            meaning=input('Enter meaning of the word you entered:')\n",
    "            add={word:meaning}\n",
    "            with open('words.txt','a')as f:\n",
    "                f.write(json.dumps(add))\n",
    "                f.write('\\n')\n",
    "            print('Word added sucessfully')\n",
    "            print('#'*50)\n",
    "        elif action==2:\n",
    "            find=input('Enter a word to find its meaning:')\n",
    "            with open ('words.txt','r')as f:\n",
    "                data=f.read()\n",
    "                if find in data:\n",
    "                    print(f'Meaning of the word you entered is : {meaning}')\n",
    "                    print('#'*50)\n",
    "                    continue\n",
    "                else:\n",
    "                    print('Word not found')\n",
    "                    print('#'*50)\n",
    "        elif action==3:\n",
    "            oldword=input('Enter a word to be updated:')\n",
    "            with open ('words.txt','r')as f:\n",
    "                data=f.read()\n",
    "                if oldword in data:\n",
    "                    newword=input('Enter new a word:')\n",
    "                    data = data.replace(oldword,newword)\n",
    "                    with open(\"words.txt\", \"w\") as file:\n",
    "                          file.write(data)\n",
    "                    print(f'{oldword} has been updated to {newword}')\n",
    "                    print('#'*50)\n",
    "                    continue\n",
    "                else:\n",
    "                    print('Word not found')\n",
    "                    print('#'*50)\n",
    "        else:\n",
    "            print('!!!Please chose the correct option from the Mainmenu!!!')\n",
    "            print('#'*50)\n",
    "            "
   ]
  }
 ],
 "metadata": {
  "kernelspec": {
   "display_name": "Python 3 (ipykernel)",
   "language": "python",
   "name": "python3"
  },
  "language_info": {
   "codemirror_mode": {
    "name": "ipython",
    "version": 3
   },
   "file_extension": ".py",
   "mimetype": "text/x-python",
   "name": "python",
   "nbconvert_exporter": "python",
   "pygments_lexer": "ipython3",
   "version": "3.9.7"
  }
 },
 "nbformat": 4,
 "nbformat_minor": 5
}
