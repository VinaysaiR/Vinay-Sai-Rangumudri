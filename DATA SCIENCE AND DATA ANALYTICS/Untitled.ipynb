{
 "cells": [
  {
   "cell_type": "code",
   "execution_count": 9,
   "id": "148be413",
   "metadata": {},
   "outputs": [
    {
     "name": "stdout",
     "output_type": "stream",
     "text": [
      "10 is greater\n"
     ]
    }
   ],
   "source": [
    "if 10>0:\n",
    "    #print(\"positive number\")\n",
    "    print(\"10 is greater\")\n",
    "else:\n",
    "    print(\"10 is smaller\")"
   ]
  },
  {
   "cell_type": "code",
   "execution_count": 12,
   "id": "8517c5aa",
   "metadata": {},
   "outputs": [
    {
     "name": "stdout",
     "output_type": "stream",
     "text": [
      "15 is greater\n"
     ]
    }
   ],
   "source": [
    "if 15>0:\n",
    "    \"\"\"print(\"positive number\")\"\"\"\n",
    "    print(\"15 is greater\")\n",
    "else:\n",
    "    print(\"vinay sai\")"
   ]
  },
  {
   "cell_type": "code",
   "execution_count": 13,
   "id": "732455a1",
   "metadata": {},
   "outputs": [
    {
     "name": "stdout",
     "output_type": "stream",
     "text": [
      "2127 is positive number\n",
      "21 is greater then 27\n"
     ]
    }
   ],
   "source": [
    "if int:\n",
    "    '''print(\" natural number\")'''\n",
    "    print(\"2127 is positive number\")\n",
    "    print(\"21 is greater then 27\")\n",
    "else:\n",
    "    print(\"vinay sravani\")"
   ]
  },
  {
   "cell_type": "code",
   "execution_count": 16,
   "id": "e0cc9cbf",
   "metadata": {},
   "outputs": [
    {
     "name": "stdout",
     "output_type": "stream",
     "text": [
      "True\n"
     ]
    }
   ],
   "source": [
    "f=None\n",
    "\n",
    "for i in range(5):\n",
    "    with open(\"data.txt\",\"w\") as f:\n",
    "        if i>2:\n",
    "            break\n",
    "            \n",
    "print(f.closed)"
   ]
  },
  {
   "cell_type": "code",
   "execution_count": 25,
   "id": "6edd68c0",
   "metadata": {},
   "outputs": [
    {
     "name": "stdout",
     "output_type": "stream",
     "text": [
      "the sum: 60\n",
      "the multipilication: 6000\n",
      "the division: 0.016666666666666666\n"
     ]
    }
   ],
   "source": [
    "a=10\n",
    "b=20\n",
    "c=30\n",
    "print(\"the sum:\",(a+b+c));\n",
    "print(\"the multipilication:\",(a*b*c));\n",
    "print(\"the division:\",(a/b/c));"
   ]
  },
  {
   "cell_type": "code",
   "execution_count": 29,
   "id": "4d11ab72",
   "metadata": {},
   "outputs": [
    {
     "data": {
      "text/plain": [
       "float"
      ]
     },
     "execution_count": 29,
     "metadata": {},
     "output_type": "execute_result"
    }
   ],
   "source": [
    "f=1.234\n",
    "type(f)"
   ]
  },
  {
   "cell_type": "code",
   "execution_count": 30,
   "id": "db63d0ac",
   "metadata": {},
   "outputs": [
    {
     "data": {
      "text/plain": [
       "int"
      ]
     },
     "execution_count": 30,
     "metadata": {},
     "output_type": "execute_result"
    }
   ],
   "source": [
    "f=52\n",
    "type(f)"
   ]
  },
  {
   "cell_type": "code",
   "execution_count": 33,
   "id": "fa391d98",
   "metadata": {},
   "outputs": [
    {
     "data": {
      "text/plain": [
       "int"
      ]
     },
     "execution_count": 33,
     "metadata": {},
     "output_type": "execute_result"
    }
   ],
   "source": [
    "f=a\n",
    "type(f)"
   ]
  },
  {
   "cell_type": "code",
   "execution_count": 34,
   "id": "8ef20bbb",
   "metadata": {},
   "outputs": [
    {
     "name": "stdout",
     "output_type": "stream",
     "text": [
      "1200.0\n"
     ]
    }
   ],
   "source": [
    "f=1.2e3\n",
    "print(f)"
   ]
  },
  {
   "cell_type": "code",
   "execution_count": 44,
   "id": "b6df42a2",
   "metadata": {},
   "outputs": [
    {
     "name": "stdout",
     "output_type": "stream",
     "text": [
      "True\n",
      "False\n"
     ]
    }
   ],
   "source": [
    "a=10\n",
    "b=20\n",
    "c=a<b\n",
    "d=a>=b\n",
    "print(c)\n",
    "print(d)"
   ]
  },
  {
   "cell_type": "code",
   "execution_count": 41,
   "id": "a9dfc173",
   "metadata": {},
   "outputs": [
    {
     "name": "stdout",
     "output_type": "stream",
     "text": [
      "False\n",
      "True\n"
     ]
    }
   ],
   "source": [
    "a=150\n",
    "b=100\n",
    "c=a<b\n",
    "d=a>b\n",
    "print(c)\n",
    "print(d)"
   ]
  },
  {
   "cell_type": "code",
   "execution_count": 76,
   "id": "2ff49dae",
   "metadata": {},
   "outputs": [
    {
     "data": {
      "text/plain": [
       "'u'"
      ]
     },
     "execution_count": 76,
     "metadata": {},
     "output_type": "execute_result"
    }
   ],
   "source": [
    "s=\"durga\"\n",
    "s[1]"
   ]
  },
  {
   "cell_type": "code",
   "execution_count": 52,
   "id": "a2a5c9bc",
   "metadata": {},
   "outputs": [
    {
     "data": {
      "text/plain": [
       "123"
      ]
     },
     "execution_count": 52,
     "metadata": {},
     "output_type": "execute_result"
    }
   ],
   "source": [
    "int(123.87)"
   ]
  },
  {
   "cell_type": "code",
   "execution_count": 77,
   "id": "aef6828c",
   "metadata": {},
   "outputs": [
    {
     "ename": "TypeError",
     "evalue": "can't convert complex to int",
     "output_type": "error",
     "traceback": [
      "\u001b[1;31m---------------------------------------------------------------------------\u001b[0m",
      "\u001b[1;31mTypeError\u001b[0m                                 Traceback (most recent call last)",
      "\u001b[1;32mC:\\Users\\SANJEE~1\\AppData\\Local\\Temp/ipykernel_13232/2189727595.py\u001b[0m in \u001b[0;36m<module>\u001b[1;34m\u001b[0m\n\u001b[1;32m----> 1\u001b[1;33m \u001b[0mint\u001b[0m\u001b[1;33m(\u001b[0m\u001b[1;36m10\u001b[0m\u001b[1;33m+\u001b[0m\u001b[1;36m5j\u001b[0m\u001b[1;33m)\u001b[0m\u001b[1;33m\u001b[0m\u001b[1;33m\u001b[0m\u001b[0m\n\u001b[0m",
      "\u001b[1;31mTypeError\u001b[0m: can't convert complex to int"
     ]
    }
   ],
   "source": [
    "int(10+5j)"
   ]
  },
  {
   "cell_type": "code",
   "execution_count": 79,
   "id": "98033c09",
   "metadata": {},
   "outputs": [
    {
     "data": {
      "text/plain": [
       "1"
      ]
     },
     "execution_count": 79,
     "metadata": {},
     "output_type": "execute_result"
    }
   ],
   "source": [
    "int(True)\n",
    "int(False)\n",
    "int(True+True)\n",
    "int(True+False)\n",
    "int(10+5j)\n",
    "int(\"10\")\n",
    "int(123.87)"
   ]
  },
  {
   "cell_type": "code",
   "execution_count": 80,
   "id": "f0c5a2f0",
   "metadata": {},
   "outputs": [
    {
     "data": {
      "text/plain": [
       "0"
      ]
     },
     "execution_count": 80,
     "metadata": {},
     "output_type": "execute_result"
    }
   ],
   "source": [
    "int(False)"
   ]
  },
  {
   "cell_type": "code",
   "execution_count": 81,
   "id": "80759bae",
   "metadata": {},
   "outputs": [
    {
     "data": {
      "text/plain": [
       "2"
      ]
     },
     "execution_count": 81,
     "metadata": {},
     "output_type": "execute_result"
    }
   ],
   "source": [
    "int(True+True)"
   ]
  },
  {
   "cell_type": "code",
   "execution_count": 82,
   "id": "16e345ee",
   "metadata": {},
   "outputs": [
    {
     "data": {
      "text/plain": [
       "1"
      ]
     },
     "execution_count": 82,
     "metadata": {},
     "output_type": "execute_result"
    }
   ],
   "source": [
    "int(True+False)"
   ]
  },
  {
   "cell_type": "code",
   "execution_count": 83,
   "id": "5e894199",
   "metadata": {},
   "outputs": [
    {
     "data": {
      "text/plain": [
       "10"
      ]
     },
     "execution_count": 83,
     "metadata": {},
     "output_type": "execute_result"
    }
   ],
   "source": [
    "int(\"10\")"
   ]
  },
  {
   "cell_type": "code",
   "execution_count": 85,
   "id": "2e979066",
   "metadata": {},
   "outputs": [
    {
     "data": {
      "text/plain": [
       "10.5"
      ]
     },
     "execution_count": 85,
     "metadata": {},
     "output_type": "execute_result"
    }
   ],
   "source": [
    "float(\"10.5\")\n",
    "float(\"10\")\n",
    "float(True+True)\n",
    "float(\"10.5\")\n",
    "complex(10)\n",
    "complex(10.5)\n",
    "complex(True+True+False)\n",
    "bool(0)\n",
    "bool(10)\n",
    "bool(-105)\n",
    "bool(0+0j)\n",
    "bool(True)\n",
    "bool(False)"
   ]
  },
  {
   "cell_type": "code",
   "execution_count": 86,
   "id": "1ab2b708",
   "metadata": {},
   "outputs": [
    {
     "data": {
      "text/plain": [
       "10.0"
      ]
     },
     "execution_count": 86,
     "metadata": {},
     "output_type": "execute_result"
    }
   ],
   "source": [
    "float(\"10\")"
   ]
  },
  {
   "cell_type": "code",
   "execution_count": 87,
   "id": "a73f5adc",
   "metadata": {},
   "outputs": [
    {
     "data": {
      "text/plain": [
       "2.0"
      ]
     },
     "execution_count": 87,
     "metadata": {},
     "output_type": "execute_result"
    }
   ],
   "source": [
    "float(True+True)"
   ]
  },
  {
   "cell_type": "code",
   "execution_count": 88,
   "id": "c02420da",
   "metadata": {},
   "outputs": [
    {
     "data": {
      "text/plain": [
       "10.5"
      ]
     },
     "execution_count": 88,
     "metadata": {},
     "output_type": "execute_result"
    }
   ],
   "source": [
    "float(\"10.5\")"
   ]
  },
  {
   "cell_type": "code",
   "execution_count": 89,
   "id": "97e9354b",
   "metadata": {},
   "outputs": [
    {
     "data": {
      "text/plain": [
       "(10+0j)"
      ]
     },
     "execution_count": 89,
     "metadata": {},
     "output_type": "execute_result"
    }
   ],
   "source": [
    "complex(10)"
   ]
  },
  {
   "cell_type": "code",
   "execution_count": 90,
   "id": "52e66cc0",
   "metadata": {},
   "outputs": [
    {
     "data": {
      "text/plain": [
       "(10.5+0j)"
      ]
     },
     "execution_count": 90,
     "metadata": {},
     "output_type": "execute_result"
    }
   ],
   "source": [
    "complex(10.5)"
   ]
  },
  {
   "cell_type": "code",
   "execution_count": 91,
   "id": "c79dbb95",
   "metadata": {},
   "outputs": [
    {
     "data": {
      "text/plain": [
       "(2+0j)"
      ]
     },
     "execution_count": 91,
     "metadata": {},
     "output_type": "execute_result"
    }
   ],
   "source": [
    "complex(True+True+False)"
   ]
  },
  {
   "cell_type": "code",
   "execution_count": 92,
   "id": "41343376",
   "metadata": {},
   "outputs": [
    {
     "data": {
      "text/plain": [
       "False"
      ]
     },
     "execution_count": 92,
     "metadata": {},
     "output_type": "execute_result"
    }
   ],
   "source": [
    "bool(0)"
   ]
  },
  {
   "cell_type": "code",
   "execution_count": 1,
   "id": "bc4360dc",
   "metadata": {},
   "outputs": [
    {
     "data": {
      "text/plain": [
       "True"
      ]
     },
     "execution_count": 1,
     "metadata": {},
     "output_type": "execute_result"
    }
   ],
   "source": [
    "bool(10)"
   ]
  },
  {
   "cell_type": "code",
   "execution_count": 94,
   "id": "3ec1a100",
   "metadata": {},
   "outputs": [
    {
     "data": {
      "text/plain": [
       "True"
      ]
     },
     "execution_count": 94,
     "metadata": {},
     "output_type": "execute_result"
    }
   ],
   "source": [
    "bool(-105)"
   ]
  },
  {
   "cell_type": "code",
   "execution_count": 96,
   "id": "d1736630",
   "metadata": {},
   "outputs": [
    {
     "data": {
      "text/plain": [
       "True"
      ]
     },
     "execution_count": 96,
     "metadata": {},
     "output_type": "execute_result"
    }
   ],
   "source": [
    "bool(-0.5)"
   ]
  },
  {
   "cell_type": "code",
   "execution_count": 100,
   "id": "f93fc9ab",
   "metadata": {},
   "outputs": [
    {
     "data": {
      "text/plain": [
       "False"
      ]
     },
     "execution_count": 100,
     "metadata": {},
     "output_type": "execute_result"
    }
   ],
   "source": [
    "bool(0+0j)"
   ]
  },
  {
   "cell_type": "code",
   "execution_count": 102,
   "id": "4abe04c8",
   "metadata": {},
   "outputs": [
    {
     "data": {
      "text/plain": [
       "True"
      ]
     },
     "execution_count": 102,
     "metadata": {},
     "output_type": "execute_result"
    }
   ],
   "source": [
    "bool(True)"
   ]
  },
  {
   "cell_type": "code",
   "execution_count": 104,
   "id": "2b4c4853",
   "metadata": {},
   "outputs": [
    {
     "data": {
      "text/plain": [
       "False"
      ]
     },
     "execution_count": 104,
     "metadata": {},
     "output_type": "execute_result"
    }
   ],
   "source": [
    "bool(False)"
   ]
  },
  {
   "cell_type": "code",
   "execution_count": 5,
   "id": "7f77bfc0",
   "metadata": {},
   "outputs": [
    {
     "name": "stdout",
     "output_type": "stream",
     "text": [
      "Enter a string : vinay\n",
      "v\n",
      "i\n",
      "n\n",
      "a\n",
      "y\n"
     ]
    },
    {
     "ename": "NameError",
     "evalue": "name 'str1' is not defined",
     "output_type": "error",
     "traceback": [
      "\u001b[1;31m---------------------------------------------------------------------------\u001b[0m",
      "\u001b[1;31mNameError\u001b[0m                                 Traceback (most recent call last)",
      "\u001b[1;32mC:\\Users\\SANJEE~1\\AppData\\Local\\Temp/ipykernel_22004/914621632.py\u001b[0m in \u001b[0;36m<module>\u001b[1;34m\u001b[0m\n\u001b[0;32m      5\u001b[0m     \u001b[0mprint\u001b[0m\u001b[1;33m(\u001b[0m\u001b[0mi\u001b[0m\u001b[1;33m)\u001b[0m\u001b[1;33m\u001b[0m\u001b[1;33m\u001b[0m\u001b[0m\n\u001b[0;32m      6\u001b[0m     \u001b[0mreverse\u001b[0m \u001b[1;33m=\u001b[0m \u001b[0mi\u001b[0m \u001b[1;33m+\u001b[0m \u001b[0mreverse\u001b[0m\u001b[1;33m\u001b[0m\u001b[1;33m\u001b[0m\u001b[0m\n\u001b[1;32m----> 7\u001b[1;33m \u001b[0mprint\u001b[0m\u001b[1;33m(\u001b[0m\u001b[0mstr1\u001b[0m\u001b[1;33m)\u001b[0m\u001b[1;33m\u001b[0m\u001b[1;33m\u001b[0m\u001b[0m\n\u001b[0m",
      "\u001b[1;31mNameError\u001b[0m: name 'str1' is not defined"
     ]
    }
   ],
   "source": [
    "n = input(\"Enter a string : \")\n",
    "\n",
    "reverse = \"\"\n",
    "for i in n:\n",
    "    print(i)\n",
    "    reverse = i + reverse\n",
    "print(str1)"
   ]
  },
  {
   "cell_type": "code",
   "execution_count": 1,
   "id": "b5fb62a0",
   "metadata": {},
   "outputs": [
    {
     "name": "stdout",
     "output_type": "stream",
     "text": [
      "Enter value of x: 50\n",
      "Enter value of y: 12\n",
      "The value of x after swapping: 12\n",
      "The value of y after swapping: 50\n"
     ]
    }
   ],
   "source": [
    "x = input('Enter value of x: ')\n",
    "y = input('Enter value of y: ')\n",
    "temp = x\n",
    "x = y\n",
    "y = temp\n",
    "print('The value of x after swapping: {}'.format(x))\n",
    "print('The value of y after swapping: {}'.format(y))"
   ]
  },
  {
   "cell_type": "code",
   "execution_count": 2,
   "id": "2b8165f4",
   "metadata": {},
   "outputs": [
    {
     "name": "stdout",
     "output_type": "stream",
     "text": [
      "['Welcome', 'to', 'Skill-lync']\n",
      "Welcome-to-Skill-lync\n"
     ]
    }
   ],
   "source": [
    "s = 'Welcome to Skill-lync'\n",
    "# print the string after split method\n",
    "print(s.split(\" \"))\n",
    "# print the string after join method\n",
    "print(\"-\".join(s.split()))"
   ]
  },
  {
   "cell_type": "code",
   "execution_count": 3,
   "id": "41fb69fc",
   "metadata": {},
   "outputs": [
    {
     "name": "stdout",
     "output_type": "stream",
     "text": [
      "Enter the string :vinay\n",
      "Enter character :v\n",
      "1 is the frequency of given character\n"
     ]
    }
   ],
   "source": [
    "Str1 = input('Enter the string :')\n",
    "Character = input('Enter character :')\n",
    "freq = 0\n",
    "freq = Str1.count(Character)\n",
    "print(str(freq) + ' is the frequency of given character')"
   ]
  },
  {
   "cell_type": "code",
   "execution_count": 1,
   "id": "01248771",
   "metadata": {},
   "outputs": [
    {
     "name": "stdout",
     "output_type": "stream",
     "text": [
      "Brand   : Apple\n",
      "Battery : 5000mah\n",
      "Camera  : 40mp\n",
      "Storage : 128GB\n",
      "Price   : 1,20,000\n"
     ]
    }
   ],
   "source": [
    "class mobile:\n",
    "    def __init__ (self,brand,battery,camera,storage,price):\n",
    "        self.brand = brand\n",
    "        self.battery = battery\n",
    "        self.camera = camera\n",
    "        self.storage = storage\n",
    "        self.price = price\n",
    "    def display(self):\n",
    "        print(\"Brand   :\",self.brand)\n",
    "        print(\"Battery :\",self.battery)\n",
    "        print(\"Camera  :\",self.camera)\n",
    "        print(\"Storage :\",self.storage)\n",
    "        print(\"Price   :\",self.price)\n",
    "obj = mobile(\"Apple\",\"5000mah\",\"40mp\",\"128GB\",\"1,20,000\")\n",
    "obj.display()"
   ]
  },
  {
   "cell_type": "code",
   "execution_count": 6,
   "id": "328f592d",
   "metadata": {},
   "outputs": [
    {
     "name": "stdout",
     "output_type": "stream",
     "text": [
      "Enter the Brand name : Apple\n",
      "Enter the Battery capacity : 5000mah\n",
      "Enter the camera feature: 40Mp\n",
      "Enter the storage : 128GB\n",
      "Enter the Price : 1,20,000\n",
      "----------------------------------------\n",
      "Brand   : Apple\n",
      "Battery : 5000mah\n",
      "Camera  : 40Mp\n",
      "Storage : 128GB\n",
      "Price   : 1,20,000\n"
     ]
    }
   ],
   "source": [
    "class mobile:\n",
    "    def __init__ (self,brand,battery,camera,storage,price):\n",
    "        self.brand = brand\n",
    "        self.battery = battery\n",
    "        self.camera = camera\n",
    "        self.storage = storage\n",
    "        self.price = price\n",
    "    def display(self):\n",
    "        print(\"Brand   :\",self.brand)\n",
    "        print(\"Battery :\",self.battery)\n",
    "        print(\"Camera  :\",self.camera)\n",
    "        print(\"Storage :\",self.storage)\n",
    "        print(\"Price   :\",self.price)\n",
    "Br = input(\"Enter the Brand name : \")\n",
    "Ba = input(\"Enter the Battery capacity : \")\n",
    "cam = input(\"Enter the camera feature: \")\n",
    "sto = input(\"Enter the storage : \")\n",
    "pr = input(\"Enter the Price : \")\n",
    "print(\"-\"*40)\n",
    "obj = mobile(Br,Ba,cam,sto,pr)\n",
    "obj.display()"
   ]
  },
  {
   "cell_type": "code",
   "execution_count": 8,
   "id": "0660ea8f",
   "metadata": {},
   "outputs": [
    {
     "name": "stdout",
     "output_type": "stream",
     "text": [
      "Car Brand : Ferrori\n",
      "Car Seats : 2 seats\n",
      "Car Color : Red\n",
      "Car Price : 2 crores\n"
     ]
    }
   ],
   "source": [
    "class car:\n",
    "    def __init__(self,Brand,Seats,Color,Price):\n",
    "        self.Brand = Brand\n",
    "        self.Seats = Seats\n",
    "        self.Color = Color\n",
    "        self.Price = Price\n",
    "    def display(self):\n",
    "        print(\"Car Brand :\",self.Brand)\n",
    "        print(\"Car Seats :\",self.Seats)\n",
    "        print(\"Car Color :\",self.Color)\n",
    "        print(\"Car Price :\",self.Price)\n",
    "obj = car(\"Ferrori\",\"2 seats\",\"Red\",\"2 crores\")\n",
    "obj.display()"
   ]
  },
  {
   "cell_type": "code",
   "execution_count": 3,
   "id": "4f37a861",
   "metadata": {},
   "outputs": [
    {
     "name": "stdout",
     "output_type": "stream",
     "text": [
      "Tuple :  (4, 9, 1, 7, 3, 6, 5, 2)\n",
      "K maximum and minimum values :  (1, 2, 7, 9)\n"
     ]
    }
   ],
   "source": [
    "myTuple = (4, 9, 1, 7, 3, 6, 5, 2)\n",
    "K = 2\n",
    "\n",
    "sortedColl = sorted(list(myTuple))\n",
    "vals = tuple(sortedColl[:K] + sortedColl[-K:])\n",
    "\n",
    "\n",
    "print(\"Tuple : \",str(myTuple))\n",
    "print(\"K maximum and minimum values : \",str(vals))"
   ]
  },
  {
   "cell_type": "code",
   "execution_count": 4,
   "id": "546dde91",
   "metadata": {},
   "outputs": [
    {
     "name": "stdout",
     "output_type": "stream",
     "text": [
      "Tuple :  (4, 9, 1, 7, 3, 6, 5, 2)\n",
      "K maximum and minimum values :  (1, 9)\n"
     ]
    }
   ],
   "source": [
    "myTuple = (4, 9, 1, 7, 3, 6, 5, 2)\n",
    "K = 1\n",
    "\n",
    "sortedColl = sorted(list(myTuple))\n",
    "vals = tuple(sortedColl[:K] + sortedColl[-K:])\n",
    "\n",
    "\n",
    "print(\"Tuple : \",str(myTuple))\n",
    "print(\"K maximum and minimum values : \",str(vals))"
   ]
  },
  {
   "cell_type": "code",
   "execution_count": 5,
   "id": "425075ac",
   "metadata": {},
   "outputs": [
    {
     "name": "stdout",
     "output_type": "stream",
     "text": [
      "Tuple :  (4, 9, 1, 7, 3, 6, 5, 2)\n",
      "K maximum and minimum values :  (1, 2, 3, 6, 7, 9)\n"
     ]
    }
   ],
   "source": [
    "myTuple = (4, 9, 1, 7, 3, 6, 5, 2)\n",
    "K = 3\n",
    "\n",
    "sortedColl = sorted(list(myTuple))\n",
    "vals = tuple(sortedColl[:K] + sortedColl[-K:])\n",
    "\n",
    "\n",
    "print(\"Tuple : \",str(myTuple))\n",
    "print(\"K maximum and minimum values : \",str(vals))"
   ]
  },
  {
   "cell_type": "code",
   "execution_count": 6,
   "id": "3f4a2525",
   "metadata": {},
   "outputs": [
    {
     "name": "stdout",
     "output_type": "stream",
     "text": [
      "Tuple :  (4, 9, 1, 7, 3, 6, 5, 2)\n",
      "K maximum and minimum values :  (1, 2, 3, 4, 5, 6, 7, 9)\n"
     ]
    }
   ],
   "source": [
    "myTuple = (4, 9, 1, 7, 3, 6, 5, 2)\n",
    "K = 4\n",
    "\n",
    "sortedColl = sorted(list(myTuple))\n",
    "vals = tuple(sortedColl[:K] + sortedColl[-K:])\n",
    "\n",
    "\n",
    "print(\"Tuple : \",str(myTuple))\n",
    "print(\"K maximum and minimum values : \",str(vals))"
   ]
  },
  {
   "cell_type": "code",
   "execution_count": 7,
   "id": "da31dcdf",
   "metadata": {},
   "outputs": [
    {
     "name": "stdout",
     "output_type": "stream",
     "text": [
      "Enter a Kth max and min element in Python : 2\n",
      "Tuple :  (4, 9, 1, 7, 3, 6, 5, 2)\n",
      "K maximum and minimum values :  (1, 2, 7, 9)\n"
     ]
    }
   ],
   "source": [
    "myTuple = (4, 9, 1, 7, 3, 6, 5, 2)\n",
    "K = int(input(\"Enter a Kth max and min element in Python : \"))\n",
    "\n",
    "sortedColl = sorted(list(myTuple))\n",
    "vals = tuple(sortedColl[:K] + sortedColl[-K:])\n",
    "\n",
    "\n",
    "print(\"Tuple : \",str(myTuple))\n",
    "print(\"K maximum and minimum values : \",str(vals))"
   ]
  },
  {
   "cell_type": "code",
   "execution_count": null,
   "id": "55375ba7",
   "metadata": {},
   "outputs": [],
   "source": []
  }
 ],
 "metadata": {
  "kernelspec": {
   "display_name": "Python 3 (ipykernel)",
   "language": "python",
   "name": "python3"
  },
  "language_info": {
   "codemirror_mode": {
    "name": "ipython",
    "version": 3
   },
   "file_extension": ".py",
   "mimetype": "text/x-python",
   "name": "python",
   "nbconvert_exporter": "python",
   "pygments_lexer": "ipython3",
   "version": "3.9.7"
  }
 },
 "nbformat": 4,
 "nbformat_minor": 5
}
