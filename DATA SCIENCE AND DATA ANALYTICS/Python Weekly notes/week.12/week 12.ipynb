{
 "cells": [
  {
   "cell_type": "markdown",
   "id": "8177bb1a",
   "metadata": {},
   "source": [
    "## DataBase"
   ]
  },
  {
   "cell_type": "code",
   "execution_count": 1,
   "id": "32bd4270",
   "metadata": {},
   "outputs": [],
   "source": [
    "import sqlite3"
   ]
  },
  {
   "cell_type": "code",
   "execution_count": 2,
   "id": "977c8bb1",
   "metadata": {},
   "outputs": [],
   "source": [
    "#connect to the database\n",
    "con = sqlite3.connect('mystudent.db')"
   ]
  },
  {
   "cell_type": "code",
   "execution_count": 3,
   "id": "4f0bdb5e",
   "metadata": {},
   "outputs": [],
   "source": [
    "# step2: create a cursor object\n",
    "cursorobj = con.cursor()"
   ]
  },
  {
   "cell_type": "code",
   "execution_count": 4,
   "id": "7b87d5dd",
   "metadata": {},
   "outputs": [
    {
     "data": {
      "text/plain": [
       "<sqlite3.Cursor at 0x2345c28f260>"
      ]
     },
     "execution_count": 4,
     "metadata": {},
     "output_type": "execute_result"
    }
   ],
   "source": [
    "cursorobj.execute(\"CREATE TABLE IF NOT EXISTS student(rollno INTEGER, name TEXT, gpa REAL)\")"
   ]
  },
  {
   "cell_type": "code",
   "execution_count": 5,
   "id": "0c05b7e2",
   "metadata": {},
   "outputs": [
    {
     "data": {
      "text/plain": [
       "<sqlite3.Cursor at 0x2345c28f260>"
      ]
     },
     "execution_count": 5,
     "metadata": {},
     "output_type": "execute_result"
    }
   ],
   "source": [
    "cursorobj.execute('SELECT * FROM student')"
   ]
  },
  {
   "cell_type": "code",
   "execution_count": 6,
   "id": "effb2888",
   "metadata": {},
   "outputs": [
    {
     "data": {
      "text/plain": [
       "<sqlite3.Cursor at 0x2345c28f260>"
      ]
     },
     "execution_count": 6,
     "metadata": {},
     "output_type": "execute_result"
    }
   ],
   "source": [
    "cursorobj.execute('INSERT INTO student values(101,\"Ramesh\",9.0)')"
   ]
  },
  {
   "cell_type": "code",
   "execution_count": 13,
   "id": "e79d6863",
   "metadata": {},
   "outputs": [],
   "source": [
    "def insert(r,n,g):\n",
    "    con = sqlite3.connect('mystudent.db')\n",
    "    cursorobj = con.cursor()\n",
    "    cursorobj.execute('INSERT INTO student values(?,?,?)',(r,n,g))\n",
    "    con.commit()\n",
    "    con.close()"
   ]
  },
  {
   "cell_type": "code",
   "execution_count": 40,
   "id": "68324af1",
   "metadata": {},
   "outputs": [],
   "source": [
    "insert(102,\"suresh\",8.9)"
   ]
  },
  {
   "cell_type": "code",
   "execution_count": 9,
   "id": "230c7f70",
   "metadata": {},
   "outputs": [],
   "source": [
    "import sqlite3\n",
    "def create_table():\n",
    "    conn = sqlite3.connect(\"mystudent.db\")\n",
    "    cur = conn.cursor()\n",
    "    cur.execute(\"CREATE TABLE IF NOT EXISTS student(rollno INTEGER, name TEXT, gpa REAL)\")\n",
    "    conn.commit()\n",
    "    conn.close()"
   ]
  },
  {
   "cell_type": "code",
   "execution_count": 10,
   "id": "49c23bde",
   "metadata": {},
   "outputs": [],
   "source": [
    "create_table()"
   ]
  },
  {
   "cell_type": "code",
   "execution_count": 11,
   "id": "5ff2ab31",
   "metadata": {},
   "outputs": [],
   "source": [
    "def view():\n",
    "    conn = sqlite3.connect(\"mystudent.db\")\n",
    "    cur = conn.cursor()\n",
    "    cur.execute(\"SELECT * FROM student\")\n",
    "    rows = cur.fetchall()\n",
    "    conn.close()\n",
    "    return rows"
   ]
  },
  {
   "cell_type": "code",
   "execution_count": 12,
   "id": "773a2f35",
   "metadata": {},
   "outputs": [
    {
     "data": {
      "text/plain": [
       "[(101, 'Ramesh', 9.0), (102, 'suresh', 8.9)]"
      ]
     },
     "execution_count": 12,
     "metadata": {},
     "output_type": "execute_result"
    }
   ],
   "source": [
    "view()"
   ]
  },
  {
   "cell_type": "code",
   "execution_count": 41,
   "id": "8cbc5b08",
   "metadata": {},
   "outputs": [],
   "source": [
    "insert(103,\"Mahesh\",9.3)"
   ]
  },
  {
   "cell_type": "code",
   "execution_count": 15,
   "id": "263cadc5",
   "metadata": {},
   "outputs": [
    {
     "data": {
      "text/plain": [
       "[(101, 'Ramesh', 9.0), (102, 'suresh', 8.9), (103, 'Mahesh', 9.3)]"
      ]
     },
     "execution_count": 15,
     "metadata": {},
     "output_type": "execute_result"
    }
   ],
   "source": [
    "view()"
   ]
  },
  {
   "cell_type": "code",
   "execution_count": 16,
   "id": "ecbe1540",
   "metadata": {},
   "outputs": [],
   "source": [
    "def view1(n):\n",
    "    conn = sqlite3.connect(\"mystudent.db\")\n",
    "    cur = conn.cursor()\n",
    "    cur.execute(\"SELECT * FROM student where gpa >?\",(n,))\n",
    "    rows = cur.fetchall()\n",
    "    conn.close()\n",
    "    return rows"
   ]
  },
  {
   "cell_type": "code",
   "execution_count": 17,
   "id": "adda6f8d",
   "metadata": {},
   "outputs": [
    {
     "data": {
      "text/plain": [
       "[(103, 'Mahesh', 9.3)]"
      ]
     },
     "execution_count": 17,
     "metadata": {},
     "output_type": "execute_result"
    }
   ],
   "source": [
    "view1(9.2)"
   ]
  },
  {
   "cell_type": "code",
   "execution_count": 18,
   "id": "26158c41",
   "metadata": {},
   "outputs": [],
   "source": [
    "def view2(n1,n2):\n",
    "    conn = sqlite3.connect(\"mystudent.db\")\n",
    "    cur = conn.cursor()\n",
    "    cur.execute(\"SELECT * FROM student where gpa >? and gpa <?\",(n1,n2))\n",
    "    rows = cur.fetchall()\n",
    "    conn.close()\n",
    "    return rows"
   ]
  },
  {
   "cell_type": "code",
   "execution_count": 42,
   "id": "3c1ff16b",
   "metadata": {},
   "outputs": [],
   "source": [
    "insert(104,\"Dinesh\",8.2)"
   ]
  },
  {
   "cell_type": "code",
   "execution_count": 43,
   "id": "126048ac",
   "metadata": {},
   "outputs": [],
   "source": [
    "insert(105,\"Harish\",8.5)"
   ]
  },
  {
   "cell_type": "code",
   "execution_count": 21,
   "id": "c88b837b",
   "metadata": {},
   "outputs": [
    {
     "data": {
      "text/plain": [
       "[(101, 'Ramesh', 9.0),\n",
       " (102, 'suresh', 8.9),\n",
       " (103, 'Mahesh', 9.3),\n",
       " (104, 'Dinesh', 8.2),\n",
       " (105, 'Harish', 8.5)]"
      ]
     },
     "execution_count": 21,
     "metadata": {},
     "output_type": "execute_result"
    }
   ],
   "source": [
    "view()"
   ]
  },
  {
   "cell_type": "code",
   "execution_count": 22,
   "id": "90f232c3",
   "metadata": {},
   "outputs": [
    {
     "data": {
      "text/plain": [
       "[(101, 'Ramesh', 9.0), (102, 'suresh', 8.9), (103, 'Mahesh', 9.3)]"
      ]
     },
     "execution_count": 22,
     "metadata": {},
     "output_type": "execute_result"
    }
   ],
   "source": [
    "view2(8.5,10.0)"
   ]
  },
  {
   "cell_type": "code",
   "execution_count": 23,
   "id": "da0c018e",
   "metadata": {},
   "outputs": [],
   "source": [
    "def view3(n1,n2):\n",
    "    conn = sqlite3.connect(\"mystudent.db\")\n",
    "    cur = conn.cursor()\n",
    "    cur.execute(\"SELECT * FROM student where name = ? or name = ?\",(n1,n2))\n",
    "    rows = cur.fetchall()\n",
    "    conn.close()\n",
    "    return rows"
   ]
  },
  {
   "cell_type": "code",
   "execution_count": 24,
   "id": "0fb7ee8a",
   "metadata": {},
   "outputs": [
    {
     "data": {
      "text/plain": [
       "[(101, 'Ramesh', 9.0)]"
      ]
     },
     "execution_count": 24,
     "metadata": {},
     "output_type": "execute_result"
    }
   ],
   "source": [
    "view3('Ramesh','Basha')"
   ]
  },
  {
   "cell_type": "code",
   "execution_count": 25,
   "id": "b02605c8",
   "metadata": {},
   "outputs": [
    {
     "data": {
      "text/plain": [
       "[(101, 'Ramesh', 9.0), (104, 'Dinesh', 8.2)]"
      ]
     },
     "execution_count": 25,
     "metadata": {},
     "output_type": "execute_result"
    }
   ],
   "source": [
    "view3('Ramesh','Dinesh')"
   ]
  },
  {
   "cell_type": "code",
   "execution_count": 26,
   "id": "cf82d537",
   "metadata": {},
   "outputs": [
    {
     "data": {
      "text/plain": [
       "[(101, 'Ramesh', 9.0),\n",
       " (102, 'suresh', 8.9),\n",
       " (103, 'Mahesh', 9.3),\n",
       " (104, 'Dinesh', 8.2),\n",
       " (105, 'Harish', 8.5)]"
      ]
     },
     "execution_count": 26,
     "metadata": {},
     "output_type": "execute_result"
    }
   ],
   "source": [
    "view()"
   ]
  },
  {
   "cell_type": "code",
   "execution_count": 27,
   "id": "d65e7bdb",
   "metadata": {},
   "outputs": [],
   "source": [
    "def view4():\n",
    "    conn = sqlite3.connect(\"mystudent.db\")\n",
    "    cur = conn.cursor()\n",
    "    cur.execute(\"SELECT rollno, gpa FROM student\")\n",
    "    rows = cur.fetchall()\n",
    "    conn.close()\n",
    "    return rows"
   ]
  },
  {
   "cell_type": "code",
   "execution_count": 28,
   "id": "ea8d08c6",
   "metadata": {},
   "outputs": [
    {
     "data": {
      "text/plain": [
       "[(101, 9.0), (102, 8.9), (103, 9.3), (104, 8.2), (105, 8.5)]"
      ]
     },
     "execution_count": 28,
     "metadata": {},
     "output_type": "execute_result"
    }
   ],
   "source": [
    "view4()"
   ]
  },
  {
   "cell_type": "code",
   "execution_count": 29,
   "id": "a3a307ea",
   "metadata": {},
   "outputs": [],
   "source": [
    "def view4(n):\n",
    "    conn = sqlite3.connect(\"mystudent.db\")\n",
    "    cur = conn.cursor()\n",
    "    cur.execute(\"SELECT rollno, gpa FROM student where gpa >?\",(n,))\n",
    "    rows = cur.fetchall()\n",
    "    conn.close()\n",
    "    return rows"
   ]
  },
  {
   "cell_type": "code",
   "execution_count": 30,
   "id": "e3ba14d5",
   "metadata": {},
   "outputs": [
    {
     "data": {
      "text/plain": [
       "[(103, 9.3)]"
      ]
     },
     "execution_count": 30,
     "metadata": {},
     "output_type": "execute_result"
    }
   ],
   "source": [
    "view4(9.0)"
   ]
  },
  {
   "cell_type": "code",
   "execution_count": 31,
   "id": "27618cb6",
   "metadata": {},
   "outputs": [
    {
     "data": {
      "text/plain": [
       "[(101, 9.0), (102, 8.9), (103, 9.3), (105, 8.5)]"
      ]
     },
     "execution_count": 31,
     "metadata": {},
     "output_type": "execute_result"
    }
   ],
   "source": [
    "view4(8.4)"
   ]
  },
  {
   "cell_type": "code",
   "execution_count": 32,
   "id": "9f5ef226",
   "metadata": {},
   "outputs": [],
   "source": [
    "# Deleting data from a tabel\n",
    "def delete(r):\n",
    "    conn = sqlite3.connect(\"mystudent.db\")\n",
    "    cur = conn.cursor()\n",
    "    cur.execute(\"DELETE FROM student where rollno = ?\",(r,))\n",
    "    conn.commit()\n",
    "    conn.close()"
   ]
  },
  {
   "cell_type": "code",
   "execution_count": 33,
   "id": "0d516e38",
   "metadata": {},
   "outputs": [],
   "source": [
    "delete(104)"
   ]
  },
  {
   "cell_type": "code",
   "execution_count": 34,
   "id": "3089ccd6",
   "metadata": {},
   "outputs": [
    {
     "data": {
      "text/plain": [
       "[(101, 'Ramesh', 9.0),\n",
       " (102, 'suresh', 8.9),\n",
       " (103, 'Mahesh', 9.3),\n",
       " (105, 'Harish', 8.5)]"
      ]
     },
     "execution_count": 34,
     "metadata": {},
     "output_type": "execute_result"
    }
   ],
   "source": [
    "view()"
   ]
  },
  {
   "cell_type": "code",
   "execution_count": 35,
   "id": "23c92fce",
   "metadata": {},
   "outputs": [],
   "source": [
    "insert(104,\"Basha\",8.9)"
   ]
  },
  {
   "cell_type": "code",
   "execution_count": 36,
   "id": "c3d4492e",
   "metadata": {},
   "outputs": [],
   "source": [
    "def delete1():\n",
    "    conn = sqlite3.connect('mystudent.db')\n",
    "    cur = conn.cursor()\n",
    "    cur.execute('DELETE FROM student')\n",
    "    conn.commit()\n",
    "    conn.close()"
   ]
  },
  {
   "cell_type": "code",
   "execution_count": 37,
   "id": "e5c88e1a",
   "metadata": {},
   "outputs": [
    {
     "data": {
      "text/plain": [
       "[(101, 'Ramesh', 9.0),\n",
       " (102, 'suresh', 8.9),\n",
       " (103, 'Mahesh', 9.3),\n",
       " (105, 'Harish', 8.5),\n",
       " (104, 'Basha', 8.9)]"
      ]
     },
     "execution_count": 37,
     "metadata": {},
     "output_type": "execute_result"
    }
   ],
   "source": [
    "view()"
   ]
  },
  {
   "cell_type": "code",
   "execution_count": 38,
   "id": "449ad50e",
   "metadata": {},
   "outputs": [],
   "source": [
    "delete1()"
   ]
  },
  {
   "cell_type": "code",
   "execution_count": 39,
   "id": "3612a15c",
   "metadata": {},
   "outputs": [
    {
     "data": {
      "text/plain": [
       "[]"
      ]
     },
     "execution_count": 39,
     "metadata": {},
     "output_type": "execute_result"
    }
   ],
   "source": [
    "view()"
   ]
  },
  {
   "cell_type": "code",
   "execution_count": 44,
   "id": "bcdff3e0",
   "metadata": {},
   "outputs": [
    {
     "data": {
      "text/plain": [
       "[(102, 'suresh', 8.9),\n",
       " (103, 'Mahesh', 9.3),\n",
       " (104, 'Dinesh', 8.2),\n",
       " (105, 'Harish', 8.5)]"
      ]
     },
     "execution_count": 44,
     "metadata": {},
     "output_type": "execute_result"
    }
   ],
   "source": [
    "view()"
   ]
  },
  {
   "cell_type": "code",
   "execution_count": 45,
   "id": "c5ed328f",
   "metadata": {},
   "outputs": [],
   "source": [
    "insert(101,\"Ramesh\",9.5)"
   ]
  },
  {
   "cell_type": "code",
   "execution_count": 46,
   "id": "2579453b",
   "metadata": {},
   "outputs": [
    {
     "data": {
      "text/plain": [
       "[(102, 'suresh', 8.9),\n",
       " (103, 'Mahesh', 9.3),\n",
       " (104, 'Dinesh', 8.2),\n",
       " (105, 'Harish', 8.5),\n",
       " (101, 'Ramesh', 9.5)]"
      ]
     },
     "execution_count": 46,
     "metadata": {},
     "output_type": "execute_result"
    }
   ],
   "source": [
    "view()"
   ]
  },
  {
   "cell_type": "code",
   "execution_count": 47,
   "id": "793d1a28",
   "metadata": {},
   "outputs": [],
   "source": [
    "delete(101)"
   ]
  },
  {
   "cell_type": "code",
   "execution_count": 48,
   "id": "c7981c04",
   "metadata": {},
   "outputs": [],
   "source": [
    "#updating a row in the student table\n",
    "def update(r,g):\n",
    "    conn = sqlite3.connect('mystudent.db')\n",
    "    cur = conn.cursor()\n",
    "    cur.execute('UPDATE student SET gpa =? WHERE rollno =?',(g,r))\n",
    "    conn.commit()\n",
    "    conn.close()"
   ]
  },
  {
   "cell_type": "code",
   "execution_count": 49,
   "id": "a242bd0c",
   "metadata": {},
   "outputs": [],
   "source": [
    "update(104,9.3)"
   ]
  },
  {
   "cell_type": "code",
   "execution_count": 50,
   "id": "d5da6bbe",
   "metadata": {},
   "outputs": [
    {
     "data": {
      "text/plain": [
       "[(102, 'suresh', 8.9),\n",
       " (103, 'Mahesh', 9.3),\n",
       " (104, 'Dinesh', 9.3),\n",
       " (105, 'Harish', 8.5)]"
      ]
     },
     "execution_count": 50,
     "metadata": {},
     "output_type": "execute_result"
    }
   ],
   "source": [
    "view()"
   ]
  },
  {
   "cell_type": "code",
   "execution_count": 51,
   "id": "29d9f547",
   "metadata": {},
   "outputs": [],
   "source": [
    "#updating a row in the student table\n",
    "def update1(r,g):\n",
    "    conn = sqlite3.connect('mystudent.db')\n",
    "    cur = conn.cursor()\n",
    "    cur.execute('UPDATE student SET gpa =? WHERE rollno =?',(g,r))\n",
    "    conn.commit()\n",
    "    conn.close()"
   ]
  },
  {
   "cell_type": "code",
   "execution_count": 52,
   "id": "58575336",
   "metadata": {},
   "outputs": [],
   "source": [
    "update(103,9.0)"
   ]
  },
  {
   "cell_type": "code",
   "execution_count": 53,
   "id": "a607046e",
   "metadata": {},
   "outputs": [
    {
     "data": {
      "text/plain": [
       "[(102, 'suresh', 8.9),\n",
       " (103, 'Mahesh', 9.0),\n",
       " (104, 'Dinesh', 9.3),\n",
       " (105, 'Harish', 8.5)]"
      ]
     },
     "execution_count": 53,
     "metadata": {},
     "output_type": "execute_result"
    }
   ],
   "source": [
    "view()"
   ]
  },
  {
   "cell_type": "code",
   "execution_count": 62,
   "id": "7b0783f8",
   "metadata": {},
   "outputs": [],
   "source": [
    "def update2(r,n):\n",
    "    conn = sqlite3.connect('mystudent.db')\n",
    "    cur = conn.cursor()\n",
    "    cur.execute('UPDATE student SET rollno =? WHERE name =?',(r,n))\n",
    "    conn.commit()\n",
    "    conn.close()"
   ]
  },
  {
   "cell_type": "code",
   "execution_count": 63,
   "id": "ca6186e3",
   "metadata": {},
   "outputs": [],
   "source": [
    "update2(103,'Basha')"
   ]
  },
  {
   "cell_type": "code",
   "execution_count": 64,
   "id": "a528aea4",
   "metadata": {},
   "outputs": [
    {
     "data": {
      "text/plain": [
       "[(102, 'suresh', 8.5),\n",
       " (103, 'Mahesh', 8.5),\n",
       " (104, 'Dinesh', 8.5),\n",
       " (105, 'Harish', 8.5)]"
      ]
     },
     "execution_count": 64,
     "metadata": {},
     "output_type": "execute_result"
    }
   ],
   "source": [
    "view()"
   ]
  },
  {
   "cell_type": "code",
   "execution_count": 57,
   "id": "d3fd870d",
   "metadata": {},
   "outputs": [],
   "source": [
    "def update3(g):\n",
    "    conn = sqlite3.connect('mystudent.db')\n",
    "    cur = conn.cursor()\n",
    "    cur.execute(\"UPDATE student SET gpa =?\",(g,))\n",
    "    conn.commit()\n",
    "    conn.close()"
   ]
  },
  {
   "cell_type": "code",
   "execution_count": 58,
   "id": "0fa04d22",
   "metadata": {},
   "outputs": [
    {
     "data": {
      "text/plain": [
       "[(102, 'suresh', 8.9),\n",
       " (103, 'Mahesh', 9.0),\n",
       " (104, 'Dinesh', 9.3),\n",
       " (105, 'Harish', 8.5)]"
      ]
     },
     "execution_count": 58,
     "metadata": {},
     "output_type": "execute_result"
    }
   ],
   "source": [
    "view()"
   ]
  },
  {
   "cell_type": "code",
   "execution_count": 59,
   "id": "14b020d5",
   "metadata": {},
   "outputs": [],
   "source": [
    "update3(8.5)"
   ]
  },
  {
   "cell_type": "code",
   "execution_count": 60,
   "id": "f19255f2",
   "metadata": {},
   "outputs": [
    {
     "data": {
      "text/plain": [
       "[(102, 'suresh', 8.5),\n",
       " (103, 'Mahesh', 8.5),\n",
       " (104, 'Dinesh', 8.5),\n",
       " (105, 'Harish', 8.5)]"
      ]
     },
     "execution_count": 60,
     "metadata": {},
     "output_type": "execute_result"
    }
   ],
   "source": [
    "view()"
   ]
  },
  {
   "cell_type": "code",
   "execution_count": 66,
   "id": "a4fbc33c",
   "metadata": {},
   "outputs": [],
   "source": [
    "def update4(r,n,g):\n",
    "    conn = sqlite3.connect('mystudent.db')\n",
    "    cur = conn.cursor()\n",
    "    cur.execute(\"UPDATE student SET name =?,gpa = ? WHERE rollno =?\",(n,g,r))\n",
    "    conn.commit()\n",
    "    conn.close()"
   ]
  },
  {
   "cell_type": "code",
   "execution_count": 67,
   "id": "eb1f40ac",
   "metadata": {},
   "outputs": [],
   "source": [
    "update4(105,'Dinesh',9.5)"
   ]
  },
  {
   "cell_type": "code",
   "execution_count": 68,
   "id": "c899594a",
   "metadata": {},
   "outputs": [
    {
     "data": {
      "text/plain": [
       "[(102, 'suresh', 8.5),\n",
       " (103, 'Mahesh', 8.5),\n",
       " (104, 'Dinesh', 8.5),\n",
       " (105, 'Dinesh', 9.5)]"
      ]
     },
     "execution_count": 68,
     "metadata": {},
     "output_type": "execute_result"
    }
   ],
   "source": [
    "view()"
   ]
  },
  {
   "cell_type": "code",
   "execution_count": 69,
   "id": "9314deb2",
   "metadata": {},
   "outputs": [],
   "source": [
    "# =, >, <, >=, <=, !=\n",
    "#drop a table\n",
    "def drop():\n",
    "    conn = sqlite3.connect('mystudent.db')\n",
    "    cur = conn.cursor()\n",
    "    cur.execute(\"DROP TABLE\")\n",
    "    conn.commit()\n",
    "    conn.close()"
   ]
  },
  {
   "cell_type": "code",
   "execution_count": null,
   "id": "8d68eb24",
   "metadata": {},
   "outputs": [],
   "source": [
    "drop()"
   ]
  },
  {
   "cell_type": "code",
   "execution_count": null,
   "id": "2b119d49",
   "metadata": {},
   "outputs": [],
   "source": [
    "view()"
   ]
  }
 ],
 "metadata": {
  "kernelspec": {
   "display_name": "Python 3 (ipykernel)",
   "language": "python",
   "name": "python3"
  },
  "language_info": {
   "codemirror_mode": {
    "name": "ipython",
    "version": 3
   },
   "file_extension": ".py",
   "mimetype": "text/x-python",
   "name": "python",
   "nbconvert_exporter": "python",
   "pygments_lexer": "ipython3",
   "version": "3.9.7"
  }
 },
 "nbformat": 4,
 "nbformat_minor": 5
}
