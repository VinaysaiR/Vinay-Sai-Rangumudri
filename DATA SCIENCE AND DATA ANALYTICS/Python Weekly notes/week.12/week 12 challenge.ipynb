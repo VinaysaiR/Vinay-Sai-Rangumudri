{
 "cells": [
  {
   "cell_type": "markdown",
   "id": "a403872b",
   "metadata": {},
   "source": [
    "### 1.Create a database called temp_db. Open a cursor to this newly created database."
   ]
  },
  {
   "cell_type": "code",
   "execution_count": 1,
   "id": "64350a8d",
   "metadata": {},
   "outputs": [],
   "source": [
    "import sqlite3\n",
    "con=sqlite3.connect('temp_db')\n",
    "cur=con.cursor()"
   ]
  },
  {
   "cell_type": "markdown",
   "id": "6a2efaa7",
   "metadata": {},
   "source": [
    "### 2.In the database temp_db created in Q.No.1, create a table called emp with the attributes empno, ename, salary and deptno\\"
   ]
  },
  {
   "cell_type": "code",
   "execution_count": 2,
   "id": "c13fc392",
   "metadata": {},
   "outputs": [
    {
     "data": {
      "text/plain": [
       "<sqlite3.Cursor at 0x1c922743c00>"
      ]
     },
     "execution_count": 2,
     "metadata": {},
     "output_type": "execute_result"
    }
   ],
   "source": [
    "cur.execute('create table if not exists emp(empno INTEGER,ename TEXT,salary INTEGER,deptno INTEGER)')"
   ]
  },
  {
   "cell_type": "markdown",
   "id": "a4c2a3ba",
   "metadata": {},
   "source": [
    "### 3.In the emp table created in Q.No. 2, insert any five records."
   ]
  },
  {
   "cell_type": "code",
   "execution_count": 3,
   "id": "9b009daf",
   "metadata": {},
   "outputs": [],
   "source": [
    "def insert(empno,ename,salary,deptno):\n",
    "    cur.execute('insert into emp values(?,?,?,?)',(empno,ename,salary,deptno))\n",
    "    con.commit()"
   ]
  },
  {
   "cell_type": "code",
   "execution_count": 4,
   "id": "6cf0799e",
   "metadata": {},
   "outputs": [],
   "source": [
    "insert(101,'Vinay Sai',15000,10)\n",
    "insert(102,'Pravalika',20000,20)\n",
    "insert(103,'Hari',24000,30)\n",
    "insert(104,'Hema',25000,10)\n",
    "insert(105,'Manish',30000,50)"
   ]
  },
  {
   "cell_type": "markdown",
   "id": "896efd59",
   "metadata": {},
   "source": [
    "### 4.From the emp table, display all the records"
   ]
  },
  {
   "cell_type": "code",
   "execution_count": 5,
   "id": "324ace2f",
   "metadata": {},
   "outputs": [],
   "source": [
    "def view():\n",
    "    con=sqlite3.connect('temp_db')\n",
    "    cur=con.cursor()\n",
    "    cur.execute('select * from emp')\n",
    "    rows=cur.fetchall()\n",
    "    con.close()\n",
    "    return rows"
   ]
  },
  {
   "cell_type": "code",
   "execution_count": 6,
   "id": "114b2cc9",
   "metadata": {},
   "outputs": [
    {
     "data": {
      "text/plain": [
       "[(101, 'Vinay Sai', 15000, 10),\n",
       " (102, 'Pravalika', 20000, 20),\n",
       " (103, 'Hari', 24000, 30),\n",
       " (104, 'Hema', 25000, 10),\n",
       " (105, 'Manish', 30000, 50)]"
      ]
     },
     "execution_count": 6,
     "metadata": {},
     "output_type": "execute_result"
    }
   ],
   "source": [
    "view()"
   ]
  },
  {
   "cell_type": "markdown",
   "id": "13a39423",
   "metadata": {},
   "source": [
    "### 5.From the emp table, display the records of only those employees whose salary is greater than 15000 and who belong to deptno 10"
   ]
  },
  {
   "cell_type": "code",
   "execution_count": 7,
   "id": "d1acfcc9",
   "metadata": {},
   "outputs": [],
   "source": [
    "def view1():\n",
    "    con=sqlite3.connect('temp_db')\n",
    "    cur=con.cursor()\n",
    "    cur.execute('select * from emp where salary>15000 and deptno==10')\n",
    "    rows=cur.fetchall()\n",
    "    con.close()\n",
    "    return rows"
   ]
  },
  {
   "cell_type": "code",
   "execution_count": 8,
   "id": "13e85a0b",
   "metadata": {},
   "outputs": [
    {
     "data": {
      "text/plain": [
       "[(104, 'Hema', 25000, 10)]"
      ]
     },
     "execution_count": 8,
     "metadata": {},
     "output_type": "execute_result"
    }
   ],
   "source": [
    "view1()"
   ]
  },
  {
   "cell_type": "markdown",
   "id": "6f3b382f",
   "metadata": {},
   "source": [
    "### 6.From the emp table, display the records of only those employees whose salary lies between 20000 and 25000 and who do not belong to the deptno 10."
   ]
  },
  {
   "cell_type": "code",
   "execution_count": 9,
   "id": "28250c83",
   "metadata": {},
   "outputs": [],
   "source": [
    "def view2():\n",
    "    con=sqlite3.connect('temp_db')\n",
    "    cur=con.cursor()\n",
    "    cur.execute('select * from emp where salary>20000 and salary<25000 and deptno!=10')\n",
    "    rows=cur.fetchall()\n",
    "    con.close()\n",
    "    return rows"
   ]
  },
  {
   "cell_type": "code",
   "execution_count": 10,
   "id": "4deb4ed8",
   "metadata": {},
   "outputs": [
    {
     "data": {
      "text/plain": [
       "[(103, 'Hari', 24000, 30)]"
      ]
     },
     "execution_count": 10,
     "metadata": {},
     "output_type": "execute_result"
    }
   ],
   "source": [
    "view2()"
   ]
  },
  {
   "cell_type": "markdown",
   "id": "dda88f23",
   "metadata": {},
   "source": [
    "### 7.From the emp table, display the records of only those employees whose name begins with M."
   ]
  },
  {
   "cell_type": "code",
   "execution_count": 11,
   "id": "4cca33ea",
   "metadata": {},
   "outputs": [],
   "source": [
    "def viewM():\n",
    "    con=sqlite3.connect('temp_db')\n",
    "    cur=con.cursor()\n",
    "    cur.execute('select * from emp where ename LIKE \"M%\" ')\n",
    "    rows=cur.fetchall()\n",
    "    con.close()\n",
    "    return rows"
   ]
  },
  {
   "cell_type": "code",
   "execution_count": 12,
   "id": "a29f5bbe",
   "metadata": {},
   "outputs": [
    {
     "data": {
      "text/plain": [
       "[(105, 'Manish', 30000, 50)]"
      ]
     },
     "execution_count": 12,
     "metadata": {},
     "output_type": "execute_result"
    }
   ],
   "source": [
    "viewM()"
   ]
  },
  {
   "cell_type": "markdown",
   "id": "3a13bb47",
   "metadata": {},
   "source": [
    "### 8.In the emp table, delete the records of those employees who belong to deptno 30"
   ]
  },
  {
   "cell_type": "code",
   "execution_count": 13,
   "id": "709c2a77",
   "metadata": {},
   "outputs": [],
   "source": [
    "import sqlite3\n",
    "def delete():\n",
    "    con=sqlite3.connect('temp_db')\n",
    "    cur=con.cursor()\n",
    "    cur.execute('delete from emp where deptno==30')\n",
    "    rows=cur.fetchall()\n",
    "    con.commit()\n",
    "    con.close()\n",
    "    return rows"
   ]
  },
  {
   "cell_type": "code",
   "execution_count": 14,
   "id": "b55cf955",
   "metadata": {},
   "outputs": [
    {
     "data": {
      "text/plain": [
       "[]"
      ]
     },
     "execution_count": 14,
     "metadata": {},
     "output_type": "execute_result"
    }
   ],
   "source": [
    "delete()"
   ]
  },
  {
   "cell_type": "code",
   "execution_count": 15,
   "id": "e73c5724",
   "metadata": {},
   "outputs": [
    {
     "data": {
      "text/plain": [
       "[(101, 'Vinay Sai', 15000, 10),\n",
       " (102, 'Pravalika', 20000, 20),\n",
       " (104, 'Hema', 25000, 10),\n",
       " (105, 'Manish', 30000, 50)]"
      ]
     },
     "execution_count": 15,
     "metadata": {},
     "output_type": "execute_result"
    }
   ],
   "source": [
    "view()"
   ]
  },
  {
   "cell_type": "markdown",
   "id": "7ff363f3",
   "metadata": {},
   "source": [
    "### 9.In the emp table, update the salary of an employee by 10 % by accepting the empno from the user."
   ]
  },
  {
   "cell_type": "code",
   "execution_count": 16,
   "id": "474d1161",
   "metadata": {},
   "outputs": [],
   "source": [
    "def update(emp):\n",
    "    con=sqlite3.connect(\"temp_db\")\n",
    "    cur=con.cursor()\n",
    "    cur.execute(\"update emp set salary=salary+(salary*10/100) where empno=?\",(emp,))\n",
    "    con.commit()\n",
    "    con.close()"
   ]
  },
  {
   "cell_type": "code",
   "execution_count": 17,
   "id": "8a40077c",
   "metadata": {},
   "outputs": [],
   "source": [
    "update(101)"
   ]
  },
  {
   "cell_type": "code",
   "execution_count": 18,
   "id": "5883fb27",
   "metadata": {},
   "outputs": [
    {
     "data": {
      "text/plain": [
       "[(101, 'Vinay Sai', 16500, 10),\n",
       " (102, 'Pravalika', 20000, 20),\n",
       " (104, 'Hema', 25000, 10),\n",
       " (105, 'Manish', 30000, 50)]"
      ]
     },
     "execution_count": 18,
     "metadata": {},
     "output_type": "execute_result"
    }
   ],
   "source": [
    "view()"
   ]
  },
  {
   "cell_type": "markdown",
   "id": "05074ec8",
   "metadata": {},
   "source": [
    "### 10.Delete the emp table."
   ]
  },
  {
   "cell_type": "code",
   "execution_count": 19,
   "id": "2cd6f33e",
   "metadata": {},
   "outputs": [],
   "source": [
    "def drop():\n",
    "    con = sqlite3.connect('temp_db')\n",
    "    cur = con.cursor()\n",
    "    cur.execute(\"DROP TABLE emp\")\n",
    "    con.commit()\n",
    "    con.close"
   ]
  },
  {
   "cell_type": "code",
   "execution_count": 20,
   "id": "64d5c57d",
   "metadata": {},
   "outputs": [],
   "source": [
    "drop()"
   ]
  },
  {
   "cell_type": "code",
   "execution_count": 21,
   "id": "6d07c1c7",
   "metadata": {},
   "outputs": [
    {
     "ename": "OperationalError",
     "evalue": "no such table: emp",
     "output_type": "error",
     "traceback": [
      "\u001b[1;31m---------------------------------------------------------------------------\u001b[0m",
      "\u001b[1;31mOperationalError\u001b[0m                          Traceback (most recent call last)",
      "\u001b[1;32mC:\\Users\\SANJEE~1\\AppData\\Local\\Temp/ipykernel_22524/3561359898.py\u001b[0m in \u001b[0;36m<module>\u001b[1;34m\u001b[0m\n\u001b[1;32m----> 1\u001b[1;33m \u001b[0mview\u001b[0m\u001b[1;33m(\u001b[0m\u001b[1;33m)\u001b[0m\u001b[1;33m\u001b[0m\u001b[1;33m\u001b[0m\u001b[0m\n\u001b[0m",
      "\u001b[1;32mC:\\Users\\SANJEE~1\\AppData\\Local\\Temp/ipykernel_22524/2349096851.py\u001b[0m in \u001b[0;36mview\u001b[1;34m()\u001b[0m\n\u001b[0;32m      2\u001b[0m     \u001b[0mcon\u001b[0m\u001b[1;33m=\u001b[0m\u001b[0msqlite3\u001b[0m\u001b[1;33m.\u001b[0m\u001b[0mconnect\u001b[0m\u001b[1;33m(\u001b[0m\u001b[1;34m'temp_db'\u001b[0m\u001b[1;33m)\u001b[0m\u001b[1;33m\u001b[0m\u001b[1;33m\u001b[0m\u001b[0m\n\u001b[0;32m      3\u001b[0m     \u001b[0mcur\u001b[0m\u001b[1;33m=\u001b[0m\u001b[0mcon\u001b[0m\u001b[1;33m.\u001b[0m\u001b[0mcursor\u001b[0m\u001b[1;33m(\u001b[0m\u001b[1;33m)\u001b[0m\u001b[1;33m\u001b[0m\u001b[1;33m\u001b[0m\u001b[0m\n\u001b[1;32m----> 4\u001b[1;33m     \u001b[0mcur\u001b[0m\u001b[1;33m.\u001b[0m\u001b[0mexecute\u001b[0m\u001b[1;33m(\u001b[0m\u001b[1;34m'select * from emp'\u001b[0m\u001b[1;33m)\u001b[0m\u001b[1;33m\u001b[0m\u001b[1;33m\u001b[0m\u001b[0m\n\u001b[0m\u001b[0;32m      5\u001b[0m     \u001b[0mrows\u001b[0m\u001b[1;33m=\u001b[0m\u001b[0mcur\u001b[0m\u001b[1;33m.\u001b[0m\u001b[0mfetchall\u001b[0m\u001b[1;33m(\u001b[0m\u001b[1;33m)\u001b[0m\u001b[1;33m\u001b[0m\u001b[1;33m\u001b[0m\u001b[0m\n\u001b[0;32m      6\u001b[0m     \u001b[0mcon\u001b[0m\u001b[1;33m.\u001b[0m\u001b[0mclose\u001b[0m\u001b[1;33m(\u001b[0m\u001b[1;33m)\u001b[0m\u001b[1;33m\u001b[0m\u001b[1;33m\u001b[0m\u001b[0m\n",
      "\u001b[1;31mOperationalError\u001b[0m: no such table: emp"
     ]
    }
   ],
   "source": [
    "view()"
   ]
  }
 ],
 "metadata": {
  "kernelspec": {
   "display_name": "Python 3 (ipykernel)",
   "language": "python",
   "name": "python3"
  },
  "language_info": {
   "codemirror_mode": {
    "name": "ipython",
    "version": 3
   },
   "file_extension": ".py",
   "mimetype": "text/x-python",
   "name": "python",
   "nbconvert_exporter": "python",
   "pygments_lexer": "ipython3",
   "version": "3.9.7"
  }
 },
 "nbformat": 4,
 "nbformat_minor": 5
}
