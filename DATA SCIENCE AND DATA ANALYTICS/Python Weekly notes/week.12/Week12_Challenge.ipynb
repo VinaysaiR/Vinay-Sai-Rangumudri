{
 "cells": [
  {
   "cell_type": "markdown",
   "id": "0d4d7be9",
   "metadata": {},
   "source": [
    "# Q 1"
   ]
  },
  {
   "cell_type": "code",
   "execution_count": 5,
   "id": "c077a80f",
   "metadata": {},
   "outputs": [],
   "source": [
    "import sqlite3\n",
    "con=sqlite3.connect('temp_db')\n",
    "cur=con.cursor()"
   ]
  },
  {
   "cell_type": "markdown",
   "id": "5b2d05cf",
   "metadata": {},
   "source": [
    "# Q 2"
   ]
  },
  {
   "cell_type": "code",
   "execution_count": 6,
   "id": "9e87a185",
   "metadata": {},
   "outputs": [
    {
     "data": {
      "text/plain": [
       "<sqlite3.Cursor at 0x1c499c0e490>"
      ]
     },
     "execution_count": 6,
     "metadata": {},
     "output_type": "execute_result"
    }
   ],
   "source": [
    "cur.execute('create table if not exists emp(empno INTEGER,ename TEXT,salary INTEGER,deptno INTEGER)')"
   ]
  },
  {
   "cell_type": "markdown",
   "id": "a2389757",
   "metadata": {},
   "source": [
    "# Q 3"
   ]
  },
  {
   "cell_type": "code",
   "execution_count": 7,
   "id": "527091b9",
   "metadata": {},
   "outputs": [],
   "source": [
    "def insert(empno,ename,salary,deptno):\n",
    "    cur.execute('insert into emp values(?,?,?,?)',(empno,ename,salary,deptno))\n",
    "    con.commit()"
   ]
  },
  {
   "cell_type": "code",
   "execution_count": 8,
   "id": "f8f86059",
   "metadata": {},
   "outputs": [],
   "source": [
    "insert(101,'Rose Daniels',15000,10)\n",
    "insert(102,'Mia Madison',20000,20)\n",
    "insert(103,'Ashley Stonegal',25000,30)\n",
    "insert(104,'Andrew Olesten',25000,10)\n",
    "insert(105,'Danny MILLS',30000,50)"
   ]
  },
  {
   "cell_type": "markdown",
   "id": "f6ddc63d",
   "metadata": {},
   "source": [
    "# Q 4"
   ]
  },
  {
   "cell_type": "code",
   "execution_count": 9,
   "id": "7aad2469",
   "metadata": {},
   "outputs": [],
   "source": [
    "def view():\n",
    "    con=sqlite3.connect('temp_db')\n",
    "    cur=con.cursor()\n",
    "    cur.execute('select * from emp')\n",
    "    rows=cur.fetchall()\n",
    "    con.close()\n",
    "    return rows"
   ]
  },
  {
   "cell_type": "code",
   "execution_count": 10,
   "id": "0acaa1a1",
   "metadata": {},
   "outputs": [
    {
     "data": {
      "text/plain": [
       "[(101, 'Rose Daniels', 15000, 10),\n",
       " (102, 'Mia Madison', 20000, 20),\n",
       " (103, 'Ashley Stonegal', 25000, 30),\n",
       " (104, 'Andrew Olesten', 25000, 10),\n",
       " (105, 'Danny MILLS', 30000, 50)]"
      ]
     },
     "execution_count": 10,
     "metadata": {},
     "output_type": "execute_result"
    }
   ],
   "source": [
    "view()"
   ]
  },
  {
   "cell_type": "markdown",
   "id": "c1e119de",
   "metadata": {},
   "source": [
    "# Q 5"
   ]
  },
  {
   "cell_type": "code",
   "execution_count": 11,
   "id": "fae58c35",
   "metadata": {},
   "outputs": [],
   "source": [
    "def view1():\n",
    "    con=sqlite3.connect('temp_db')\n",
    "    cur=con.cursor()\n",
    "    cur.execute('select * from emp where salary>15000 and deptno==10')\n",
    "    rows=cur.fetchall()\n",
    "    con.close()\n",
    "    return rows"
   ]
  },
  {
   "cell_type": "code",
   "execution_count": 12,
   "id": "04660f21",
   "metadata": {},
   "outputs": [
    {
     "data": {
      "text/plain": [
       "[(104, 'Andrew Olesten', 25000, 10)]"
      ]
     },
     "execution_count": 12,
     "metadata": {},
     "output_type": "execute_result"
    }
   ],
   "source": [
    "view1()"
   ]
  },
  {
   "cell_type": "markdown",
   "id": "5d125c33",
   "metadata": {},
   "source": [
    "# Q 6"
   ]
  },
  {
   "cell_type": "code",
   "execution_count": 13,
   "id": "08093e9a",
   "metadata": {},
   "outputs": [],
   "source": [
    "def view2():\n",
    "    con=sqlite3.connect('temp_db')\n",
    "    cur=con.cursor()\n",
    "    cur.execute('select * from emp where salary>20000 and salary<25000 and deptno!=10')\n",
    "    rows=cur.fetchall()\n",
    "    con.close()\n",
    "    return rows"
   ]
  },
  {
   "cell_type": "code",
   "execution_count": 14,
   "id": "724c7f16",
   "metadata": {},
   "outputs": [
    {
     "data": {
      "text/plain": [
       "[]"
      ]
     },
     "execution_count": 14,
     "metadata": {},
     "output_type": "execute_result"
    }
   ],
   "source": [
    "view2()"
   ]
  },
  {
   "cell_type": "markdown",
   "id": "a33d4dde",
   "metadata": {},
   "source": [
    "# Q 7"
   ]
  },
  {
   "cell_type": "code",
   "execution_count": 15,
   "id": "65acbab4",
   "metadata": {},
   "outputs": [],
   "source": [
    "def viewM():\n",
    "    con=sqlite3.connect('temp_db')\n",
    "    cur=con.cursor()\n",
    "    cur.execute('select * from emp where ename LIKE \"M%\" ')\n",
    "    rows=cur.fetchall()\n",
    "    con.close()\n",
    "    return rows"
   ]
  },
  {
   "cell_type": "code",
   "execution_count": 16,
   "id": "9d83aca4",
   "metadata": {},
   "outputs": [
    {
     "data": {
      "text/plain": [
       "[(102, 'Mia Madison', 20000, 20)]"
      ]
     },
     "execution_count": 16,
     "metadata": {},
     "output_type": "execute_result"
    }
   ],
   "source": [
    "viewM()"
   ]
  },
  {
   "cell_type": "markdown",
   "id": "b48471cf",
   "metadata": {},
   "source": [
    "# Q 8"
   ]
  },
  {
   "cell_type": "code",
   "execution_count": 17,
   "id": "9540ae93",
   "metadata": {},
   "outputs": [],
   "source": [
    "import sqlite3\n",
    "def delete():\n",
    "    con=sqlite3.connect('temp_db')\n",
    "    cur=con.cursor()\n",
    "    cur.execute('delete from emp where deptno==30')\n",
    "    rows=cur.fetchall()\n",
    "    con.commit()\n",
    "    con.close()\n",
    "    return rows"
   ]
  },
  {
   "cell_type": "code",
   "execution_count": 18,
   "id": "f93436df",
   "metadata": {},
   "outputs": [
    {
     "data": {
      "text/plain": [
       "[]"
      ]
     },
     "execution_count": 18,
     "metadata": {},
     "output_type": "execute_result"
    }
   ],
   "source": [
    "delete()"
   ]
  },
  {
   "cell_type": "code",
   "execution_count": 19,
   "id": "cbe816a9",
   "metadata": {},
   "outputs": [
    {
     "data": {
      "text/plain": [
       "[(101, 'Rose Daniels', 15000, 10),\n",
       " (102, 'Mia Madison', 20000, 20),\n",
       " (104, 'Andrew Olesten', 25000, 10),\n",
       " (105, 'Danny MILLS', 30000, 50)]"
      ]
     },
     "execution_count": 19,
     "metadata": {},
     "output_type": "execute_result"
    }
   ],
   "source": [
    "view()"
   ]
  },
  {
   "cell_type": "markdown",
   "id": "2a962caa",
   "metadata": {},
   "source": [
    "# Q 9"
   ]
  },
  {
   "cell_type": "code",
   "execution_count": 22,
   "id": "c4852681",
   "metadata": {},
   "outputs": [],
   "source": [
    "def update(emp):\n",
    "    con=sqlite3.connect(\"temp_db\")\n",
    "    cur=con.cursor()\n",
    "    cur.execute(\"update emp set salary=salary+(salary*10/100) where empno=?\",(emp,))\n",
    "    con.commit()\n",
    "    con.close()"
   ]
  },
  {
   "cell_type": "code",
   "execution_count": 24,
   "id": "a41f4382",
   "metadata": {},
   "outputs": [],
   "source": [
    "update(101)"
   ]
  },
  {
   "cell_type": "code",
   "execution_count": 25,
   "id": "ebeca68e",
   "metadata": {},
   "outputs": [
    {
     "data": {
      "text/plain": [
       "[(101, 'Rose Daniels', 16500, 10),\n",
       " (102, 'Mia Madison', 20000, 20),\n",
       " (103, 'Ashley Stonegal', 25000, 30),\n",
       " (104, 'Andrew Olesten', 25000, 10),\n",
       " (105, 'Danny MILLS', 30000, 50)]"
      ]
     },
     "execution_count": 25,
     "metadata": {},
     "output_type": "execute_result"
    }
   ],
   "source": [
    "view()"
   ]
  },
  {
   "cell_type": "markdown",
   "id": "4e246185",
   "metadata": {},
   "source": [
    "# Q 10"
   ]
  },
  {
   "cell_type": "code",
   "execution_count": 31,
   "id": "88a56c0c",
   "metadata": {},
   "outputs": [],
   "source": [
    "def drop():\n",
    "    con = sqlite3.connect('temp_db')\n",
    "    cur = con.cursor()\n",
    "    cur.execute(\"DROP TABLE emp\")\n",
    "    con.commit()\n",
    "    con.close "
   ]
  },
  {
   "cell_type": "code",
   "execution_count": 32,
   "id": "a61efd3c",
   "metadata": {},
   "outputs": [],
   "source": [
    "drop()"
   ]
  },
  {
   "cell_type": "code",
   "execution_count": 33,
   "id": "5fa1aecb",
   "metadata": {},
   "outputs": [
    {
     "ename": "OperationalError",
     "evalue": "no such table: emp",
     "output_type": "error",
     "traceback": [
      "\u001b[1;31m---------------------------------------------------------------------------\u001b[0m",
      "\u001b[1;31mOperationalError\u001b[0m                          Traceback (most recent call last)",
      "Input \u001b[1;32mIn [33]\u001b[0m, in \u001b[0;36m<cell line: 1>\u001b[1;34m()\u001b[0m\n\u001b[1;32m----> 1\u001b[0m \u001b[43mview\u001b[49m\u001b[43m(\u001b[49m\u001b[43m)\u001b[49m\n",
      "Input \u001b[1;32mIn [5]\u001b[0m, in \u001b[0;36mview\u001b[1;34m()\u001b[0m\n\u001b[0;32m      2\u001b[0m con\u001b[38;5;241m=\u001b[39msqlite3\u001b[38;5;241m.\u001b[39mconnect(\u001b[38;5;124m'\u001b[39m\u001b[38;5;124mtemp_db\u001b[39m\u001b[38;5;124m'\u001b[39m)\n\u001b[0;32m      3\u001b[0m cur\u001b[38;5;241m=\u001b[39mcon\u001b[38;5;241m.\u001b[39mcursor()\n\u001b[1;32m----> 4\u001b[0m \u001b[43mcur\u001b[49m\u001b[38;5;241;43m.\u001b[39;49m\u001b[43mexecute\u001b[49m\u001b[43m(\u001b[49m\u001b[38;5;124;43m'\u001b[39;49m\u001b[38;5;124;43mselect * from emp\u001b[39;49m\u001b[38;5;124;43m'\u001b[39;49m\u001b[43m)\u001b[49m\n\u001b[0;32m      5\u001b[0m rows\u001b[38;5;241m=\u001b[39mcur\u001b[38;5;241m.\u001b[39mfetchall()\n\u001b[0;32m      6\u001b[0m con\u001b[38;5;241m.\u001b[39mclose()\n",
      "\u001b[1;31mOperationalError\u001b[0m: no such table: emp"
     ]
    }
   ],
   "source": [
    "view()"
   ]
  },
  {
   "cell_type": "code",
   "execution_count": null,
   "id": "a37a621c",
   "metadata": {},
   "outputs": [],
   "source": []
  }
 ],
 "metadata": {
  "kernelspec": {
   "display_name": "Python 3 (ipykernel)",
   "language": "python",
   "name": "python3"
  },
  "language_info": {
   "codemirror_mode": {
    "name": "ipython",
    "version": 3
   },
   "file_extension": ".py",
   "mimetype": "text/x-python",
   "name": "python",
   "nbconvert_exporter": "python",
   "pygments_lexer": "ipython3",
   "version": "3.9.7"
  }
 },
 "nbformat": 4,
 "nbformat_minor": 5
}
