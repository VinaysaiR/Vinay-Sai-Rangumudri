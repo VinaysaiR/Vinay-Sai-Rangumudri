{
 "cells": [
  {
   "cell_type": "markdown",
   "id": "b14071ee",
   "metadata": {},
   "source": [
    "## A SIMPLE GUI BASED APPLICATION TO IMPLEMENT CRUD OPERATIONS"
   ]
  },
  {
   "cell_type": "code",
   "execution_count": 113,
   "id": "e5d9b340",
   "metadata": {},
   "outputs": [],
   "source": [
    "# libraries\n",
    "from tkinter import *\n",
    "import sqlite3\n",
    "import tkinter.ttk as ttk\n",
    "import tkinter.messagebox as tkMessageBox"
   ]
  },
  {
   "cell_type": "code",
   "execution_count": 114,
   "id": "b3d40b0a",
   "metadata": {},
   "outputs": [
    {
     "data": {
      "text/plain": [
       "''"
      ]
     },
     "execution_count": 114,
     "metadata": {},
     "output_type": "execute_result"
    }
   ],
   "source": [
    "root = Tk()\n",
    "root.title('A Simple CRUD application')"
   ]
  },
  {
   "cell_type": "code",
   "execution_count": 115,
   "id": "63d4a029",
   "metadata": {},
   "outputs": [],
   "source": [
    "# Methods\n",
    "def Database():\n",
    "    global conn, cursor\n",
    "    conn = sqlite3.connect('simple.db')\n",
    "    cursor = conn.cursor()\n",
    "    cursor.execute(\"CREATE TABLE IF NOT EXISTS member (mem_id INTEGER PRIMARY KEY AUTOINCREMENT NOT NULL, firstname TEXT, lastname TEXT, gender TEXT, username TEXT)\")\n",
    "    \n",
    "def Create():\n",
    "    if FIRSTNAME.get() == \"\" or LASTNAME.get() == \"\" or GENDER.get() == \"\" or ADDRESS.get() ==\"\" or USERNAME.get() == \"\" or PASSWORD.get() ==\"\":\n",
    "        txt_result.config(text = \"please enter all the fields\",fd = 'red')\n",
    "    else:\n",
    "        Database()\n",
    "        cursor.execute(\"INSERT INTO member(firstname,lastname,gender,address,username,password) VALUES(?,?,?,?,?,?)\",str(FIRSTNAME.get()),str(LASTNAME.get()),str(GENDER.get()),str(ADDRESS.get()),str(USERNAME.get()),str(PASSWORD.get()))\n",
    "        conn.commit()\n",
    "        FIRSTNAME.set(\"\")\n",
    "        LASTNAME.set(\"\")\n",
    "        GENDER.set(\"\")\n",
    "        ADDRESS.set(\"\")\n",
    "        USERNAME.set(\"\")\n",
    "        PASSWORD.set(\"\")\n",
    "        cursor.close()\n",
    "        conn.close()\n",
    "        txt_result.config(text =\"Record Inserted !\",fg = \"green\")\n",
    "        \n",
    "def Read():\n",
    "    tree.delete(*tree.get_children)\n",
    "    Database()\n",
    "    cursor.execute(\"SELECT * FROM member ORDER BY lastname ASC\")\n",
    "    fetch = cursor.fetchall()\n",
    "    for data in fetch:\n",
    "        tree.insert('','end',values = (data[1],data[2],data[3],data[4],data[5],data[6]))\n",
    "    cursor.close()\n",
    "    txt_result.config(text = \"Successfully fetched data !\",fg = \"black\")\n",
    "    \n",
    "def delete():\n",
    "    tree.delete(*tree.get_children)\n",
    "    Database()\n",
    "    if FIRSTNAME.get() == \"\" or LASTNAME.get() == \"\" or GENDER.get() == \"\" or ADDRESS.get() ==\"\" or USERNAME.get() == \"\" or PASSWORD.get() ==\"\":\n",
    "        txt_result.config(text=\"Please dont leave blank.\",fd=\"red\")\n",
    "    else:\n",
    "        Database()\n",
    "        cursor.execute(\"DELETE FROM member(firstname,lastname,gender,address,username,password) VALUES(?,?,?,?,?,?)\",str(FIRSTNAME.get()),str(LASTNAME.get()),str(GENDER.get()),str(ADDRESS.get()),str(USERNAME.get()),str(PASSWORD.get()))\n",
    "        conn.commit()\n",
    "        FIRSTNAME.set(\"\")\n",
    "        LASTNAME.set(\"\")\n",
    "        GENDER.set(\"\")\n",
    "        ADDRESS.set(\"\")\n",
    "        USERNAME.set(\"\")\n",
    "        PASSWORD.set(\"\")\n",
    "        cursor.close()\n",
    "        conn.close()\n",
    "        txt_result.config(text =\"Successfully data deleted\",fg = \"green\")\n",
    "\n",
    "    \n",
    "def Exit():\n",
    "    result = tkMessageBox.askquestion('Do you want to exit ? (y/n)',icon='warning')\n",
    "    if result == 'yes':\n",
    "        root.destroy()\n",
    "        exit()"
   ]
  },
  {
   "cell_type": "code",
   "execution_count": 116,
   "id": "55d5b280",
   "metadata": {},
   "outputs": [],
   "source": [
    "FIRSTNAME = StringVar()\n",
    "LASTNAME = StringVar()\n",
    "GENDER = StringVar()\n",
    "ADDRESS = StringVar()\n",
    "USERNAME = StringVar()\n",
    "PASSWORD = StringVar()"
   ]
  },
  {
   "cell_type": "code",
   "execution_count": 117,
   "id": "73a45ac7",
   "metadata": {},
   "outputs": [],
   "source": [
    "#FRAME \n",
    "Top = Frame(root, width =900, height = 50, bd = 8, relief = 'raise',bg ='violet')\n",
    "Top.pack(side = TOP)\n",
    "Left = Frame(root, width =300, height = 500, bd = 8, relief = 'raise',bg = 'red')\n",
    "Left.pack(side = LEFT)\n",
    "Right = Frame(root, width =600, height = 500, bd = 8, relief = 'raise',bg ='yellow')\n",
    "Right.pack(side = RIGHT)\n",
    "\n",
    "Forms = Frame(Left, width =300, height = 450)\n",
    "Forms.pack(side = TOP)\n",
    "\n",
    "Buttons = Frame(Left,width =300,height = 100, bd =8, relief = 'raise')\n",
    "Buttons.pack(side = BOTTOM)\n",
    "\n",
    "RadioGroup=Frame(Forms)\n",
    "Male=Radiobutton(RadioGroup, text='Male', variable=GENDER, value='Male').pack (side=LEFT) \n",
    "Female=Radiobutton(RadioGroup, text='Female', variable=GENDER, value='Female').pack(side=LEFT)"
   ]
  },
  {
   "cell_type": "code",
   "execution_count": 118,
   "id": "6bd2eaac",
   "metadata": {},
   "outputs": [],
   "source": [
    "# labels\n",
    "txt_title = Label(Top, width=900, font=('arial', 24), text = \"Python: Simple CRUD Application\")\n",
    "txt_title.pack()\n",
    "\n",
    "txt_firstname = Label (Forms, text=\"Firstname:\", font=('arial', 16), bd=15)\n",
    "txt_firstname.grid(row=0, stick=\"e\")\n",
    "\n",
    "txt_lastname = Label (Forms, text=\"Lastname:\", font=('arial', 16), bd=15)\n",
    "txt_lastname.grid(row=1, stick=\"e\")\n",
    "\n",
    "txt_gender = Label (Forms, text=\"Gender:\", font=('arial', 16), bd=15)\n",
    "txt_gender.grid(row=2, stick=\"e\")\n",
    "\n",
    "txt_address = Label (Forms, text=\"Address:\", font=('arial', 16), bd=15) \n",
    "txt_address.grid(row=3, stick=\"e\")\n",
    "\n",
    "txt_username = Label (Forms, text=\"Username:\", font=('arial', 16), bd=15)\n",
    "txt_username.grid(row=4, stick=\"e\")\n",
    "\n",
    "txt_password = Label (Forms, text=\"Password: \", font = ('arial', 16), bd=15)\n",
    "txt_password.grid(row=5, stick=\"e\")\n",
    "\n",
    "txt_result = Label (Buttons)\n",
    "txt_result.pack(side=TOP)"
   ]
  },
  {
   "cell_type": "code",
   "execution_count": 119,
   "id": "a376fcd6",
   "metadata": {},
   "outputs": [],
   "source": [
    "firstname = Entry (Forms, textvariable=FIRSTNAME, width=30)\n",
    "firstname.grid(row=0, column=1)\n",
    "\n",
    "lastname = Entry(Forms, textvariable=LASTNAME, width=30)\n",
    "lastname.grid(row=1, column=1)\n",
    "\n",
    "RadioGroup.grid(row=2, column=1)\n",
    "\n",
    "address = Entry (Forms, textvariable=ADDRESS, width=30) \n",
    "address.grid(row=3, column=1)\n",
    "\n",
    "username = Entry (Forms, textvariable=USERNAME, width=30)\n",
    "username.grid(row=4, column=1)\n",
    "\n",
    "password = Entry (Forms, textvariable=PASSWORD, show=\"*\", width=30) \n",
    "password.grid(row=5, column=1)"
   ]
  },
  {
   "cell_type": "code",
   "execution_count": 120,
   "id": "acce9b09",
   "metadata": {},
   "outputs": [
    {
     "ename": "NameError",
     "evalue": "name 'Delete' is not defined",
     "output_type": "error",
     "traceback": [
      "\u001b[1;31m---------------------------------------------------------------------------\u001b[0m",
      "\u001b[1;31mNameError\u001b[0m                                 Traceback (most recent call last)",
      "\u001b[1;32mC:\\Users\\SANJEE~1\\AppData\\Local\\Temp/ipykernel_21372/3381350287.py\u001b[0m in \u001b[0;36m<module>\u001b[1;34m\u001b[0m\n\u001b[0;32m      8\u001b[0m \u001b[0mbtn_update\u001b[0m\u001b[1;33m.\u001b[0m\u001b[0mpack\u001b[0m \u001b[1;33m(\u001b[0m\u001b[0mside\u001b[0m\u001b[1;33m=\u001b[0m\u001b[0mLEFT\u001b[0m\u001b[1;33m)\u001b[0m\u001b[1;33m\u001b[0m\u001b[1;33m\u001b[0m\u001b[0m\n\u001b[0;32m      9\u001b[0m \u001b[1;33m\u001b[0m\u001b[0m\n\u001b[1;32m---> 10\u001b[1;33m \u001b[0mbtn_delete\u001b[0m \u001b[1;33m=\u001b[0m \u001b[0mButton\u001b[0m \u001b[1;33m(\u001b[0m\u001b[0mButtons\u001b[0m\u001b[1;33m,\u001b[0m \u001b[0mwidth\u001b[0m\u001b[1;33m=\u001b[0m\u001b[1;36m10\u001b[0m\u001b[1;33m,\u001b[0m \u001b[0mtext\u001b[0m\u001b[1;33m=\u001b[0m\u001b[1;34m\"Delete\"\u001b[0m\u001b[1;33m,\u001b[0m \u001b[0mcommand\u001b[0m \u001b[1;33m=\u001b[0m \u001b[0mDelete\u001b[0m\u001b[1;33m)\u001b[0m\u001b[1;33m\u001b[0m\u001b[1;33m\u001b[0m\u001b[0m\n\u001b[0m\u001b[0;32m     11\u001b[0m \u001b[0mbtn_delete\u001b[0m\u001b[1;33m.\u001b[0m\u001b[0mpack\u001b[0m \u001b[1;33m(\u001b[0m\u001b[0mside\u001b[0m\u001b[1;33m=\u001b[0m\u001b[0mLEFT\u001b[0m\u001b[1;33m)\u001b[0m\u001b[1;33m\u001b[0m\u001b[1;33m\u001b[0m\u001b[0m\n\u001b[0;32m     12\u001b[0m \u001b[1;33m\u001b[0m\u001b[0m\n",
      "\u001b[1;31mNameError\u001b[0m: name 'Delete' is not defined"
     ]
    }
   ],
   "source": [
    "btn_create = Button (Buttons, width=10, text=\"Create\", command=Create) \n",
    "btn_create.pack (side=LEFT)\n",
    "\n",
    "btn_read = Button (Buttons, width=10, text=\"Read\", command=Read) \n",
    "btn_read.pack(side=LEFT)\n",
    "\n",
    "btn_update = Button (Buttons, width=10, text=\"Update\", state=DISABLED) \n",
    "btn_update.pack (side=LEFT)\n",
    "\n",
    "btn_delete = Button (Buttons, width=10, text=\"Delete\", command = Delete)\n",
    "btn_delete.pack (side=LEFT)\n",
    "\n",
    "btn_exit = Button (Buttons, width=10, text=\"Exit\", command=Exit) \n",
    "btn_exit.pack (side=LEFT)"
   ]
  },
  {
   "cell_type": "code",
   "execution_count": 121,
   "id": "98ad15e8",
   "metadata": {},
   "outputs": [],
   "source": [
    "scrollbary = Scrollbar (Right, orient=VERTICAL)\n",
    "scrollbarx = Scrollbar (Right, orient=HORIZONTAL)\n",
    "\n",
    "tree = ttk.Treeview (Right, columns=(\"Firstname\", \"Lastname\", \"Gender\", \"Address\", \"Username\", \"Password\")) \n",
    "\n",
    "scrollbary.config(command=tree.yview)\n",
    "scrollbary.pack (side=RIGHT, fill=Y)\n",
    "\n",
    "scrollbarx.config(command=tree.xview)\n",
    "scrollbarx.pack(side=BOTTOM, fill=X)\n",
    "\n",
    "tree.heading('Firstname', text=\"Firstname\", anchor=W)\n",
    "tree.heading('Lastname', text=\"Lastname\", anchor=W)\n",
    "tree.heading('Gender', text=\"Gender\", anchor=W)\n",
    "tree.heading('Address', text=\"Address\", anchor=W)\n",
    "tree.heading('Username', text=\"Username\", anchor=W)\n",
    "tree.heading('Password', text=\"Password\", anchor=W)\n",
    "\n",
    "tree.column('#0', stretch=NO, minwidth=0, width=0)\n",
    "tree.column('#1', stretch=NO, minwidth=0, width=80)\n",
    "tree.column('#2', stretch=NO, minwidth=0, width=120)\n",
    "tree.column('#3', stretch=NO, minwidth=0, width=80)\n",
    "tree.column('#4', stretch=NO, minwidth=0, width=150)\n",
    "tree.column('#5', stretch=NO, minwidth=0, width=120)\n",
    "tree.column('#6', stretch=NO, minwidth=0, width=120) \n",
    "\n",
    "tree.pack()"
   ]
  },
  {
   "cell_type": "code",
   "execution_count": 122,
   "id": "16aa89e9",
   "metadata": {},
   "outputs": [],
   "source": [
    "if __name__ == '__main__':\n",
    "    root.mainloop()"
   ]
  },
  {
   "cell_type": "code",
   "execution_count": null,
   "id": "d9c2a310",
   "metadata": {},
   "outputs": [],
   "source": [
    "WHERE booktitle=? AND author=? AND year=? AND isbn=?"
   ]
  }
 ],
 "metadata": {
  "kernelspec": {
   "display_name": "Python 3 (ipykernel)",
   "language": "python",
   "name": "python3"
  },
  "language_info": {
   "codemirror_mode": {
    "name": "ipython",
    "version": 3
   },
   "file_extension": ".py",
   "mimetype": "text/x-python",
   "name": "python",
   "nbconvert_exporter": "python",
   "pygments_lexer": "ipython3",
   "version": "3.9.7"
  }
 },
 "nbformat": 4,
 "nbformat_minor": 5
}
