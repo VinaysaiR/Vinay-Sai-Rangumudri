{
 "cells": [
  {
   "cell_type": "markdown",
   "id": "93f2693a",
   "metadata": {},
   "source": [
    "## Challenge 1"
   ]
  },
  {
   "cell_type": "code",
   "execution_count": 1,
   "id": "cc7ac279",
   "metadata": {},
   "outputs": [],
   "source": [
    "import sqlite3"
   ]
  },
  {
   "cell_type": "code",
   "execution_count": 2,
   "id": "78423169",
   "metadata": {},
   "outputs": [],
   "source": [
    "con = sqlite3.connect('temp_db.db')\n",
    "cursorObj = con.cursor()"
   ]
  },
  {
   "cell_type": "markdown",
   "id": "68f60173",
   "metadata": {},
   "source": [
    "## Challenge 2"
   ]
  },
  {
   "cell_type": "code",
   "execution_count": 3,
   "id": "c0f5526e",
   "metadata": {},
   "outputs": [
    {
     "data": {
      "text/plain": [
       "<sqlite3.Cursor at 0x1361bfb3f10>"
      ]
     },
     "execution_count": 3,
     "metadata": {},
     "output_type": "execute_result"
    }
   ],
   "source": [
    "cursorObj.execute('CREATE TABLE IF NOT EXISTS emp(empno INTEGER,ename TEXT,salary INTEGER,deptno INTEGER)')"
   ]
  },
  {
   "cell_type": "markdown",
   "id": "6315ac45",
   "metadata": {},
   "source": [
    "## Challenge 3"
   ]
  },
  {
   "cell_type": "code",
   "execution_count": 4,
   "id": "9dc47fd8",
   "metadata": {},
   "outputs": [],
   "source": [
    "def insert(eno,ena,s,d):\n",
    "    con = sqlite3.connect('temp_db.db')\n",
    "    cursorObj = con.cursor()\n",
    "    cursorObj.execute('INSERT INTO emp values(?,?,?,?)',(eno,ena,s,d))\n",
    "    con.commit()\n",
    "    con.close()"
   ]
  },
  {
   "cell_type": "code",
   "execution_count": 5,
   "id": "36880341",
   "metadata": {},
   "outputs": [],
   "source": [
    "insert(101,'Ramesh',15000,10)"
   ]
  },
  {
   "cell_type": "code",
   "execution_count": 6,
   "id": "ab8aa068",
   "metadata": {},
   "outputs": [],
   "source": [
    "insert(102,'Suresh',22000,10)"
   ]
  },
  {
   "cell_type": "code",
   "execution_count": 7,
   "id": "c9b72df1",
   "metadata": {},
   "outputs": [],
   "source": [
    "insert(103,'Mahesh',21000,30)"
   ]
  },
  {
   "cell_type": "code",
   "execution_count": 8,
   "id": "6385e628",
   "metadata": {},
   "outputs": [],
   "source": [
    "insert(104,'Dinesh',25000,30)"
   ]
  },
  {
   "cell_type": "code",
   "execution_count": 9,
   "id": "b6c39c68",
   "metadata": {},
   "outputs": [],
   "source": [
    "insert(105,'Harish',26000,10)"
   ]
  },
  {
   "cell_type": "markdown",
   "id": "d4e32ba5",
   "metadata": {},
   "source": [
    "## Challenge 4"
   ]
  },
  {
   "cell_type": "code",
   "execution_count": 10,
   "id": "aa2046a2",
   "metadata": {},
   "outputs": [],
   "source": [
    "# From emp table, displaying all records\n",
    "\n",
    "def view():\n",
    "    conn = sqlite3.connect('temp_db.db')\n",
    "    cur = conn.cursor()\n",
    "    cur.execute('SELECT * FROM emp')\n",
    "    rows = cur.fetchall()\n",
    "    conn.close()\n",
    "    return rows"
   ]
  },
  {
   "cell_type": "code",
   "execution_count": 11,
   "id": "a941610c",
   "metadata": {},
   "outputs": [
    {
     "data": {
      "text/plain": [
       "[(101, 'Ramesh', 15000, 10),\n",
       " (102, 'Suresh', 22000, 10),\n",
       " (103, 'Mahesh', 21000, 30),\n",
       " (104, 'Dinesh', 25000, 30),\n",
       " (105, 'Harish', 26000, 10)]"
      ]
     },
     "execution_count": 11,
     "metadata": {},
     "output_type": "execute_result"
    }
   ],
   "source": [
    "view()"
   ]
  },
  {
   "cell_type": "markdown",
   "id": "8bb1fa80",
   "metadata": {},
   "source": [
    "## Challenge 5"
   ]
  },
  {
   "cell_type": "code",
   "execution_count": 12,
   "id": "26a6061a",
   "metadata": {},
   "outputs": [],
   "source": [
    "def view1(s,d):\n",
    "    conn = sqlite3.connect('temp_db.db')\n",
    "    cur = conn.cursor()\n",
    "    cur.execute('SELECT empno,ename,salary,deptno FROM emp where deptno=? and salary>?',(d,s))\n",
    "    rows = cur.fetchall()\n",
    "    conn.close()\n",
    "    return rows"
   ]
  },
  {
   "cell_type": "code",
   "execution_count": 13,
   "id": "ccf3bdfb",
   "metadata": {},
   "outputs": [
    {
     "data": {
      "text/plain": [
       "[(102, 'Suresh', 22000, 10), (105, 'Harish', 26000, 10)]"
      ]
     },
     "execution_count": 13,
     "metadata": {},
     "output_type": "execute_result"
    }
   ],
   "source": [
    "view1(15000,10)"
   ]
  },
  {
   "cell_type": "markdown",
   "id": "81e7832e",
   "metadata": {},
   "source": [
    "## Challenge 6"
   ]
  },
  {
   "cell_type": "code",
   "execution_count": 14,
   "id": "9444a893",
   "metadata": {},
   "outputs": [],
   "source": [
    "def view2(d):\n",
    "    conn = sqlite3.connect('temp_db.db')\n",
    "    cur = conn.cursor()\n",
    "    cur.execute('SELECT empno,ename,salary,deptno FROM emp where deptno!=? and salary BETWEEN 20000 AND 25000',(d,))\n",
    "    rows = cur.fetchall()\n",
    "    conn.close()\n",
    "    return rows"
   ]
  },
  {
   "cell_type": "code",
   "execution_count": 15,
   "id": "6d5c97d9",
   "metadata": {},
   "outputs": [
    {
     "data": {
      "text/plain": [
       "[(103, 'Mahesh', 21000, 30), (104, 'Dinesh', 25000, 30)]"
      ]
     },
     "execution_count": 15,
     "metadata": {},
     "output_type": "execute_result"
    }
   ],
   "source": [
    "view2(10)"
   ]
  },
  {
   "cell_type": "markdown",
   "id": "ab783603",
   "metadata": {},
   "source": [
    "## Challenge 7"
   ]
  },
  {
   "cell_type": "code",
   "execution_count": 16,
   "id": "dec29ee7",
   "metadata": {},
   "outputs": [],
   "source": [
    "def view3():\n",
    "    conn = sqlite3.connect('temp_db.db')\n",
    "    cur = conn.cursor()\n",
    "    cur.execute('SELECT * FROM emp where ename LIKE \"M%\"')\n",
    "    rows = cur.fetchall()\n",
    "    conn.close()\n",
    "    return rows"
   ]
  },
  {
   "cell_type": "code",
   "execution_count": 17,
   "id": "6dc7906d",
   "metadata": {},
   "outputs": [
    {
     "data": {
      "text/plain": [
       "[(103, 'Mahesh', 21000, 30)]"
      ]
     },
     "execution_count": 17,
     "metadata": {},
     "output_type": "execute_result"
    }
   ],
   "source": [
    "view3()"
   ]
  },
  {
   "cell_type": "markdown",
   "id": "14d8a2e8",
   "metadata": {},
   "source": [
    "## Challenge 8"
   ]
  },
  {
   "cell_type": "code",
   "execution_count": 18,
   "id": "f943bf23",
   "metadata": {},
   "outputs": [],
   "source": [
    "def delete(d):\n",
    "    conn = sqlite3.connect('temp_db.db')\n",
    "    cur = conn.cursor()\n",
    "    cur.execute('DELETE FROM emp where deptno = ?',(d,))\n",
    "    conn.commit()\n",
    "    conn.close()"
   ]
  },
  {
   "cell_type": "code",
   "execution_count": 19,
   "id": "6e2c0599",
   "metadata": {},
   "outputs": [],
   "source": [
    "delete(30)"
   ]
  },
  {
   "cell_type": "code",
   "execution_count": 20,
   "id": "ba8d8d48",
   "metadata": {},
   "outputs": [
    {
     "data": {
      "text/plain": [
       "[(101, 'Ramesh', 15000, 10),\n",
       " (102, 'Suresh', 22000, 10),\n",
       " (105, 'Harish', 26000, 10)]"
      ]
     },
     "execution_count": 20,
     "metadata": {},
     "output_type": "execute_result"
    }
   ],
   "source": [
    "view()"
   ]
  },
  {
   "cell_type": "markdown",
   "id": "b5ae07f8",
   "metadata": {},
   "source": [
    "## Challenge 9"
   ]
  },
  {
   "cell_type": "code",
   "execution_count": 21,
   "id": "66d43b5b",
   "metadata": {},
   "outputs": [],
   "source": [
    "def update3(s,d):\n",
    "    conn = sqlite3.connect('temp_db.db')\n",
    "    cur = conn.cursor()\n",
    "    cur.execute('UPDATE emp SET salary=?*1.1 WHERE deptno=?',(s,d))\n",
    "    conn.commit()\n",
    "    conn.close()"
   ]
  },
  {
   "cell_type": "code",
   "execution_count": 22,
   "id": "adfd068f",
   "metadata": {},
   "outputs": [],
   "source": [
    "update3(15000,101)"
   ]
  },
  {
   "cell_type": "code",
   "execution_count": 23,
   "id": "b41c4ed9",
   "metadata": {},
   "outputs": [
    {
     "data": {
      "text/plain": [
       "[(101, 'Ramesh', 15000, 10),\n",
       " (102, 'Suresh', 22000, 10),\n",
       " (105, 'Harish', 26000, 10)]"
      ]
     },
     "execution_count": 23,
     "metadata": {},
     "output_type": "execute_result"
    }
   ],
   "source": [
    "view()"
   ]
  },
  {
   "cell_type": "markdown",
   "id": "5d49ca5c",
   "metadata": {},
   "source": [
    "## Challenge 10"
   ]
  },
  {
   "cell_type": "code",
   "execution_count": 24,
   "id": "e980235c",
   "metadata": {},
   "outputs": [],
   "source": [
    "def delete():\n",
    "    conn = sqlite3.connect('temp_db.db')\n",
    "    cur = conn.cursor()\n",
    "    cur.execute('DELETE FROM emp')\n",
    "    conn.commit()\n",
    "    conn.close()"
   ]
  },
  {
   "cell_type": "code",
   "execution_count": 25,
   "id": "df7abaa3",
   "metadata": {},
   "outputs": [],
   "source": [
    "delete()"
   ]
  },
  {
   "cell_type": "code",
   "execution_count": 26,
   "id": "2cb63506",
   "metadata": {},
   "outputs": [
    {
     "data": {
      "text/plain": [
       "[]"
      ]
     },
     "execution_count": 26,
     "metadata": {},
     "output_type": "execute_result"
    }
   ],
   "source": [
    "view()"
   ]
  },
  {
   "cell_type": "code",
   "execution_count": 27,
   "id": "f42db0b1",
   "metadata": {},
   "outputs": [],
   "source": [
    "def drop():\n",
    "    conn = sqlite3.connect('temp_db.db')\n",
    "    cur = conn.cursor()\n",
    "    cur.execute('DROP TABLE emp')\n",
    "    conn.commit()\n",
    "    conn.close()"
   ]
  },
  {
   "cell_type": "code",
   "execution_count": 28,
   "id": "b6696927",
   "metadata": {},
   "outputs": [],
   "source": [
    "drop()"
   ]
  },
  {
   "cell_type": "code",
   "execution_count": 29,
   "id": "ad039216",
   "metadata": {},
   "outputs": [
    {
     "ename": "OperationalError",
     "evalue": "no such table: emp",
     "output_type": "error",
     "traceback": [
      "\u001b[1;31m---------------------------------------------------------------------------\u001b[0m",
      "\u001b[1;31mOperationalError\u001b[0m                          Traceback (most recent call last)",
      "Input \u001b[1;32mIn [29]\u001b[0m, in \u001b[0;36m<cell line: 1>\u001b[1;34m()\u001b[0m\n\u001b[1;32m----> 1\u001b[0m \u001b[43mview\u001b[49m\u001b[43m(\u001b[49m\u001b[43m)\u001b[49m\n",
      "Input \u001b[1;32mIn [10]\u001b[0m, in \u001b[0;36mview\u001b[1;34m()\u001b[0m\n\u001b[0;32m      4\u001b[0m conn \u001b[38;5;241m=\u001b[39m sqlite3\u001b[38;5;241m.\u001b[39mconnect(\u001b[38;5;124m'\u001b[39m\u001b[38;5;124mtemp_db.db\u001b[39m\u001b[38;5;124m'\u001b[39m)\n\u001b[0;32m      5\u001b[0m cur \u001b[38;5;241m=\u001b[39m conn\u001b[38;5;241m.\u001b[39mcursor()\n\u001b[1;32m----> 6\u001b[0m \u001b[43mcur\u001b[49m\u001b[38;5;241;43m.\u001b[39;49m\u001b[43mexecute\u001b[49m\u001b[43m(\u001b[49m\u001b[38;5;124;43m'\u001b[39;49m\u001b[38;5;124;43mSELECT * FROM emp\u001b[39;49m\u001b[38;5;124;43m'\u001b[39;49m\u001b[43m)\u001b[49m\n\u001b[0;32m      7\u001b[0m rows \u001b[38;5;241m=\u001b[39m cur\u001b[38;5;241m.\u001b[39mfetchall()\n\u001b[0;32m      8\u001b[0m conn\u001b[38;5;241m.\u001b[39mclose()\n",
      "\u001b[1;31mOperationalError\u001b[0m: no such table: emp"
     ]
    }
   ],
   "source": [
    "view()"
   ]
  }
 ],
 "metadata": {
  "kernelspec": {
   "display_name": "Python 3 (ipykernel)",
   "language": "python",
   "name": "python3"
  },
  "language_info": {
   "codemirror_mode": {
    "name": "ipython",
    "version": 3
   },
   "file_extension": ".py",
   "mimetype": "text/x-python",
   "name": "python",
   "nbconvert_exporter": "python",
   "pygments_lexer": "ipython3",
   "version": "3.9.7"
  }
 },
 "nbformat": 4,
 "nbformat_minor": 5
}
