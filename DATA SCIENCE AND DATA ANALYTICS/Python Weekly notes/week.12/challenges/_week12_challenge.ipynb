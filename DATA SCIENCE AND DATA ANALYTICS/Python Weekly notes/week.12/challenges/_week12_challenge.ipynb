{
 "cells": [
  {
   "cell_type": "markdown",
   "id": "1660cbc9",
   "metadata": {},
   "source": [
    "# 1.Create a database called temp_db. Open a cursor to this newly created database.\n"
   ]
  },
  {
   "cell_type": "code",
   "execution_count": 5,
   "id": "bab68b56",
   "metadata": {},
   "outputs": [],
   "source": [
    "import sqlite3\n",
    "con=sqlite3.connect('temp_db')\n",
    "cur=con.cursor()"
   ]
  },
  {
   "cell_type": "markdown",
   "id": "d4f0460d",
   "metadata": {},
   "source": [
    "# 2.In the database temp_db created in Q.No.1, create a table called emp with the attributes empno, ename, salary and deptno\\\n"
   ]
  },
  {
   "cell_type": "code",
   "execution_count": 6,
   "id": "948b660f",
   "metadata": {},
   "outputs": [
    {
     "data": {
      "text/plain": [
       "<sqlite3.Cursor at 0x2382e61d5e0>"
      ]
     },
     "execution_count": 6,
     "metadata": {},
     "output_type": "execute_result"
    }
   ],
   "source": [
    "cur.execute('create table if not exists emp(empno INTEGER,ename TEXT,salary INTEGER,deptno INTEGER)')"
   ]
  },
  {
   "cell_type": "markdown",
   "id": "6dee5c93",
   "metadata": {},
   "source": [
    "# 3.In the emp table created in Q.No. 2, insert any five records.\n"
   ]
  },
  {
   "cell_type": "code",
   "execution_count": 7,
   "id": "661c33e7",
   "metadata": {},
   "outputs": [],
   "source": [
    "def insert(empno,ename,salary,deptno):\n",
    "    cur.execute('insert into emp values(?,?,?,?)',(empno,ename,salary,deptno))\n",
    "    con.commit()"
   ]
  },
  {
   "cell_type": "code",
   "execution_count": 8,
   "id": "f310efab",
   "metadata": {},
   "outputs": [],
   "source": [
    "insert(1,'Rose',15000,10)\n",
    "insert(2,'Mia Madison',20000,20)\n",
    "insert(3,'Ashley stonegal',25000,30)\n",
    "insert(4,'Andrew olesten',30000,40)\n",
    "insert(5,'Danny',35000,50)\n",
    "insert(6,'Andy sas',35000,60)\n",
    "insert(7,'Mia cummins',35000,70)\n",
    "insert(8,'Assli cumms',45000,80)"
   ]
  },
  {
   "cell_type": "markdown",
   "id": "9f680ee7",
   "metadata": {},
   "source": [
    "# 4.From the emp table, display all the records.\n"
   ]
  },
  {
   "cell_type": "code",
   "execution_count": 9,
   "id": "cb500cb9",
   "metadata": {},
   "outputs": [],
   "source": [
    "def view():\n",
    "    con=sqlite3.connect('temp_db')\n",
    "    cur=con.cursor()\n",
    "    cur.execute('select * from emp')\n",
    "    rows=cur.fetchall()\n",
    "    con.close()\n",
    "    return rows"
   ]
  },
  {
   "cell_type": "code",
   "execution_count": 10,
   "id": "2a9305c8",
   "metadata": {},
   "outputs": [
    {
     "data": {
      "text/plain": [
       "[(1, 'Rose', 15000, 10),\n",
       " (2, 'Mia Madison', 20000, 20),\n",
       " (3, 'Ashley stonegal', 25000, 30),\n",
       " (4, 'Andrew olesten', 30000, 40),\n",
       " (5, 'Danny', 35000, 50),\n",
       " (6, 'Andy sas', 35000, 60),\n",
       " (7, 'Mia cummins', 35000, 70),\n",
       " (8, 'Assli cumms', 45000, 80)]"
      ]
     },
     "execution_count": 10,
     "metadata": {},
     "output_type": "execute_result"
    }
   ],
   "source": [
    "view()"
   ]
  },
  {
   "cell_type": "markdown",
   "id": "6d6ad5c1",
   "metadata": {},
   "source": [
    "# 5.From the emp table, display the records of only those employees whose salary is greater than 15000 and who belong to deptno 10\n"
   ]
  },
  {
   "cell_type": "code",
   "execution_count": 11,
   "id": "225e0d5d",
   "metadata": {},
   "outputs": [],
   "source": [
    "def view1():\n",
    "    con=sqlite3.connect('temp_db')\n",
    "    cur=con.cursor()\n",
    "    cur.execute('select * from emp where salary>15000 and deptno==10')\n",
    "    rows=cur.fetchall()\n",
    "    con.close()\n",
    "    return rows"
   ]
  },
  {
   "cell_type": "code",
   "execution_count": 12,
   "id": "a6312f4f",
   "metadata": {},
   "outputs": [
    {
     "data": {
      "text/plain": [
       "[]"
      ]
     },
     "execution_count": 12,
     "metadata": {},
     "output_type": "execute_result"
    }
   ],
   "source": [
    "view1()"
   ]
  },
  {
   "cell_type": "markdown",
   "id": "3ca347e1",
   "metadata": {},
   "source": [
    "# 6.From the emp table, display the records of only those employees whose salary lies between 20000 and 25000 and who do not belong to the deptno 10."
   ]
  },
  {
   "cell_type": "code",
   "execution_count": 13,
   "id": "8478a168",
   "metadata": {},
   "outputs": [],
   "source": [
    "def view2():\n",
    "    con=sqlite3.connect('temp_db')\n",
    "    cur=con.cursor()\n",
    "    cur.execute('select * from emp where salary>=20000 and salary<=25000 and deptno!=10')\n",
    "    rows=cur.fetchall()\n",
    "    con.close()\n",
    "    return rows"
   ]
  },
  {
   "cell_type": "code",
   "execution_count": 14,
   "id": "ca3cdd44",
   "metadata": {},
   "outputs": [
    {
     "data": {
      "text/plain": [
       "[(2, 'Mia Madison', 20000, 20), (3, 'Ashley stonegal', 25000, 30)]"
      ]
     },
     "execution_count": 14,
     "metadata": {},
     "output_type": "execute_result"
    }
   ],
   "source": [
    "view2()"
   ]
  },
  {
   "cell_type": "markdown",
   "id": "e3faf8cd",
   "metadata": {},
   "source": [
    "# 7.From the emp table, display the records of only those employees whose name begins with M.\n"
   ]
  },
  {
   "cell_type": "code",
   "execution_count": 24,
   "id": "67d1fc1f",
   "metadata": {},
   "outputs": [
    {
     "ename": "SyntaxError",
     "evalue": "invalid syntax (<ipython-input-24-0a0423904fae>, line 1)",
     "output_type": "error",
     "traceback": [
      "\u001b[1;36m  File \u001b[1;32m\"<ipython-input-24-0a0423904fae>\"\u001b[1;36m, line \u001b[1;32m1\u001b[0m\n\u001b[1;33m    SELECT * FROM 'temp_db' WHERE 'ename' LIKE 'M%';\u001b[0m\n\u001b[1;37m                  ^\u001b[0m\n\u001b[1;31mSyntaxError\u001b[0m\u001b[1;31m:\u001b[0m invalid syntax\n"
     ]
    }
   ],
   "source": [
    " SELECT * FROM temp_db WHERE ename LIKE 'M%';"
   ]
  },
  {
   "cell_type": "markdown",
   "id": "ba800549",
   "metadata": {},
   "source": [
    "# 8.In the emp table, delete the records of those employees who belong to deptno 30\n"
   ]
  },
  {
   "cell_type": "code",
   "execution_count": 17,
   "id": "70303e98",
   "metadata": {},
   "outputs": [],
   "source": [
    "def view4():\n",
    "    con=sqlite3.connect('temp.db')\n",
    "    cur=con.cursor()\n",
    "    cur.execute('delete from emp where deptno==30')\n",
    "    rows=cur.fetchall()\n",
    "    con.close()\n",
    "    return rows"
   ]
  },
  {
   "cell_type": "code",
   "execution_count": 18,
   "id": "3bb07687",
   "metadata": {},
   "outputs": [
    {
     "data": {
      "text/plain": [
       "[]"
      ]
     },
     "execution_count": 18,
     "metadata": {},
     "output_type": "execute_result"
    }
   ],
   "source": [
    "view4()"
   ]
  },
  {
   "cell_type": "markdown",
   "id": "f6730e85",
   "metadata": {},
   "source": [
    "# 9.In the emp table, update the salary of an employee by 10 % by accepting the empno from the user."
   ]
  },
  {
   "cell_type": "code",
   "execution_count": 31,
   "id": "4c3213a1",
   "metadata": {},
   "outputs": [
    {
     "ename": "NameError",
     "evalue": "name 'emp' is not defined",
     "output_type": "error",
     "traceback": [
      "\u001b[1;31m---------------------------------------------------------------------------\u001b[0m",
      "\u001b[1;31mNameError\u001b[0m                                 Traceback (most recent call last)",
      "\u001b[1;32m<ipython-input-31-c71f7f9ea54f>\u001b[0m in \u001b[0;36m<module>\u001b[1;34m\u001b[0m\n\u001b[0;32m      6\u001b[0m     \u001b[0mcon\u001b[0m\u001b[1;33m.\u001b[0m\u001b[0mclose\u001b[0m\u001b[1;33m(\u001b[0m\u001b[1;33m)\u001b[0m\u001b[1;33m\u001b[0m\u001b[1;33m\u001b[0m\u001b[0m\n\u001b[0;32m      7\u001b[0m \u001b[1;33m\u001b[0m\u001b[0m\n\u001b[1;32m----> 8\u001b[1;33m \u001b[0mupdate\u001b[0m\u001b[1;33m(\u001b[0m\u001b[0memp\u001b[0m\u001b[1;33m)\u001b[0m\u001b[1;33m\u001b[0m\u001b[1;33m\u001b[0m\u001b[0m\n\u001b[0m\u001b[0;32m      9\u001b[0m \u001b[1;33m\u001b[0m\u001b[0m\n\u001b[0;32m     10\u001b[0m \u001b[0mview\u001b[0m\u001b[1;33m(\u001b[0m\u001b[1;33m)\u001b[0m\u001b[1;33m\u001b[0m\u001b[1;33m\u001b[0m\u001b[0m\n",
      "\u001b[1;31mNameError\u001b[0m: name 'emp' is not defined"
     ]
    }
   ],
   "source": [
    "def update(emp):\n",
    "    con=sqlite3.connect(\"temp_db\")\n",
    "    cur=con.cursor()\n",
    "    cur.execute(\"update emp set salary=salary+(salary*10/100) where empno=?\",(emp,))\n",
    "    con.commit()\n",
    "    con.close()\n",
    "    \n",
    "update(emp)\n",
    "    \n",
    "view()"
   ]
  },
  {
   "cell_type": "markdown",
   "id": "c272d4c1",
   "metadata": {},
   "source": [
    "# 10.Delete the emp table.\n"
   ]
  },
  {
   "cell_type": "code",
   "execution_count": 23,
   "id": "0f9f9bde",
   "metadata": {},
   "outputs": [
    {
     "ename": "NameError",
     "evalue": "name 'r' is not defined",
     "output_type": "error",
     "traceback": [
      "\u001b[1;31m---------------------------------------------------------------------------\u001b[0m",
      "\u001b[1;31mNameError\u001b[0m                                 Traceback (most recent call last)",
      "\u001b[1;32m<ipython-input-23-98ab78f7bd66>\u001b[0m in \u001b[0;36m<module>\u001b[1;34m\u001b[0m\n\u001b[0;32m      8\u001b[0m \u001b[0mview\u001b[0m\u001b[1;33m(\u001b[0m\u001b[1;33m)\u001b[0m\u001b[1;33m\u001b[0m\u001b[1;33m\u001b[0m\u001b[0m\n\u001b[0;32m      9\u001b[0m \u001b[1;33m\u001b[0m\u001b[0m\n\u001b[1;32m---> 10\u001b[1;33m \u001b[0mdelete\u001b[0m\u001b[1;33m(\u001b[0m\u001b[0mr\u001b[0m\u001b[1;33m)\u001b[0m\u001b[1;33m\u001b[0m\u001b[1;33m\u001b[0m\u001b[0m\n\u001b[0m",
      "\u001b[1;31mNameError\u001b[0m: name 'r' is not defined"
     ]
    }
   ],
   "source": [
    "def delete(r):\n",
    "    con=sqlite3.connect(\"temp_db\")\n",
    "    cur=con.cursor()\n",
    "    cur.execute('DELETE emp in temp_db','r,')\n",
    "    con.commit()\n",
    "    con.close()\n",
    "    \n",
    "view()\n",
    "\n",
    "delete(r)"
   ]
  },
  {
   "cell_type": "code",
   "execution_count": null,
   "id": "91f1dc10",
   "metadata": {},
   "outputs": [],
   "source": []
  },
  {
   "cell_type": "code",
   "execution_count": null,
   "id": "958b8fa0",
   "metadata": {},
   "outputs": [],
   "source": []
  }
 ],
 "metadata": {
  "kernelspec": {
   "display_name": "Python 3",
   "language": "python",
   "name": "python3"
  },
  "language_info": {
   "codemirror_mode": {
    "name": "ipython",
    "version": 3
   },
   "file_extension": ".py",
   "mimetype": "text/x-python",
   "name": "python",
   "nbconvert_exporter": "python",
   "pygments_lexer": "ipython3",
   "version": "3.8.8"
  }
 },
 "nbformat": 4,
 "nbformat_minor": 5
}
