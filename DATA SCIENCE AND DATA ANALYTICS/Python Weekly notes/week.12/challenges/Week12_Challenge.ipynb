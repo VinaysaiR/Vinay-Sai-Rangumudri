{
 "cells": [
  {
   "cell_type": "markdown",
   "id": "0d4d7be9",
   "metadata": {},
   "source": [
    "# Q 1"
   ]
  },
  {
   "cell_type": "code",
   "execution_count": 1,
   "id": "c077a80f",
   "metadata": {},
   "outputs": [],
   "source": [
    "import sqlite3\n",
    "con=sqlite3.connect('temp_db')\n",
    "cur=con.cursor()"
   ]
  },
  {
   "cell_type": "markdown",
   "id": "5b2d05cf",
   "metadata": {},
   "source": [
    "# Q 2"
   ]
  },
  {
   "cell_type": "code",
   "execution_count": 2,
   "id": "9e87a185",
   "metadata": {},
   "outputs": [
    {
     "data": {
      "text/plain": [
       "<sqlite3.Cursor at 0x25823bf3ea0>"
      ]
     },
     "execution_count": 2,
     "metadata": {},
     "output_type": "execute_result"
    }
   ],
   "source": [
    "cur.execute('create table if not exists emp(empno INTEGER,ename TEXT,salary INTEGER,deptno INTEGER)')"
   ]
  },
  {
   "cell_type": "markdown",
   "id": "a2389757",
   "metadata": {},
   "source": [
    "# Q 3"
   ]
  },
  {
   "cell_type": "code",
   "execution_count": 3,
   "id": "527091b9",
   "metadata": {},
   "outputs": [],
   "source": [
    "def insert(empno,ename,salary,deptno):\n",
    "    cur.execute('insert into emp values(?,?,?,?)',(empno,ename,salary,deptno))\n",
    "    con.commit()"
   ]
  },
  {
   "cell_type": "code",
   "execution_count": 4,
   "id": "f8f86059",
   "metadata": {},
   "outputs": [],
   "source": [
    "insert(101,'Rose Daniels',15000,10)\n",
    "insert(102,'Mia Madison',20000,20)\n",
    "insert(103,'Ashley Stonegal',25000,30)\n",
    "insert(104,'Andrew Olesten',25000,10)\n",
    "insert(105,'Danny MILLS',30000,50)"
   ]
  },
  {
   "cell_type": "markdown",
   "id": "f6ddc63d",
   "metadata": {},
   "source": [
    "# Q 4"
   ]
  },
  {
   "cell_type": "code",
   "execution_count": 5,
   "id": "7aad2469",
   "metadata": {},
   "outputs": [],
   "source": [
    "def view():\n",
    "    con=sqlite3.connect('temp_db')\n",
    "    cur=con.cursor()\n",
    "    cur.execute('select * from emp')\n",
    "    rows=cur.fetchall()\n",
    "    con.close()\n",
    "    return rows"
   ]
  },
  {
   "cell_type": "code",
   "execution_count": 6,
   "id": "0acaa1a1",
   "metadata": {},
   "outputs": [
    {
     "data": {
      "text/plain": [
       "[(101, 'Rose Daniels', 15000, 10),\n",
       " (102, 'Mia Madison', 20000, 20),\n",
       " (103, 'Ashley Stonegal', 25000, 30),\n",
       " (104, 'Andrew Olesten', 25000, 10),\n",
       " (105, 'Danny MILLS', 30000, 50)]"
      ]
     },
     "execution_count": 6,
     "metadata": {},
     "output_type": "execute_result"
    }
   ],
   "source": [
    "view()"
   ]
  },
  {
   "cell_type": "markdown",
   "id": "c1e119de",
   "metadata": {},
   "source": [
    "# Q 5"
   ]
  },
  {
   "cell_type": "code",
   "execution_count": 7,
   "id": "fae58c35",
   "metadata": {},
   "outputs": [],
   "source": [
    "def view1():\n",
    "    con=sqlite3.connect('temp_db')\n",
    "    cur=con.cursor()\n",
    "    cur.execute('select * from emp where salary>15000 and deptno==10')\n",
    "    rows=cur.fetchall()\n",
    "    con.close()\n",
    "    return rows"
   ]
  },
  {
   "cell_type": "code",
   "execution_count": 8,
   "id": "04660f21",
   "metadata": {},
   "outputs": [
    {
     "data": {
      "text/plain": [
       "[(104, 'Andrew Olesten', 25000, 10)]"
      ]
     },
     "execution_count": 8,
     "metadata": {},
     "output_type": "execute_result"
    }
   ],
   "source": [
    "view1()"
   ]
  },
  {
   "cell_type": "markdown",
   "id": "5d125c33",
   "metadata": {},
   "source": [
    "# Q 6"
   ]
  },
  {
   "cell_type": "code",
   "execution_count": 9,
   "id": "08093e9a",
   "metadata": {},
   "outputs": [],
   "source": [
    "def view2():\n",
    "    con=sqlite3.connect('temp_db')\n",
    "    cur=con.cursor()\n",
    "    cur.execute('select * from emp where salary>20000 and salary<25000 and deptno!=10')\n",
    "    rows=cur.fetchall()\n",
    "    con.close()\n",
    "    return rows"
   ]
  },
  {
   "cell_type": "code",
   "execution_count": 10,
   "id": "724c7f16",
   "metadata": {},
   "outputs": [
    {
     "data": {
      "text/plain": [
       "[]"
      ]
     },
     "execution_count": 10,
     "metadata": {},
     "output_type": "execute_result"
    }
   ],
   "source": [
    "view2()"
   ]
  },
  {
   "cell_type": "markdown",
   "id": "a33d4dde",
   "metadata": {},
   "source": [
    "# Q 7"
   ]
  },
  {
   "cell_type": "code",
   "execution_count": 11,
   "id": "65acbab4",
   "metadata": {},
   "outputs": [],
   "source": [
    "def viewM():\n",
    "    con=sqlite3.connect('temp_db')\n",
    "    cur=con.cursor()\n",
    "    cur.execute('select * from emp where ename LIKE \"M%\" ')\n",
    "    rows=cur.fetchall()\n",
    "    con.close()\n",
    "    return rows"
   ]
  },
  {
   "cell_type": "code",
   "execution_count": 12,
   "id": "9d83aca4",
   "metadata": {},
   "outputs": [
    {
     "data": {
      "text/plain": [
       "[(102, 'Mia Madison', 20000, 20)]"
      ]
     },
     "execution_count": 12,
     "metadata": {},
     "output_type": "execute_result"
    }
   ],
   "source": [
    "viewM()"
   ]
  },
  {
   "cell_type": "markdown",
   "id": "b48471cf",
   "metadata": {},
   "source": [
    "# Q 8"
   ]
  },
  {
   "cell_type": "code",
   "execution_count": 13,
   "id": "9540ae93",
   "metadata": {},
   "outputs": [],
   "source": [
    "import sqlite3\n",
    "def delete():\n",
    "    con=sqlite3.connect('temp_db')\n",
    "    cur=con.cursor()\n",
    "    cur.execute('delete from emp where deptno==30')\n",
    "    rows=cur.fetchall()\n",
    "    con.commit()\n",
    "    con.close()\n",
    "    return rows"
   ]
  },
  {
   "cell_type": "code",
   "execution_count": 14,
   "id": "f93436df",
   "metadata": {},
   "outputs": [
    {
     "data": {
      "text/plain": [
       "[]"
      ]
     },
     "execution_count": 14,
     "metadata": {},
     "output_type": "execute_result"
    }
   ],
   "source": [
    "delete()"
   ]
  },
  {
   "cell_type": "code",
   "execution_count": 15,
   "id": "cbe816a9",
   "metadata": {},
   "outputs": [
    {
     "data": {
      "text/plain": [
       "[(101, 'Rose Daniels', 15000, 10),\n",
       " (102, 'Mia Madison', 20000, 20),\n",
       " (104, 'Andrew Olesten', 25000, 10),\n",
       " (105, 'Danny MILLS', 30000, 50)]"
      ]
     },
     "execution_count": 15,
     "metadata": {},
     "output_type": "execute_result"
    }
   ],
   "source": [
    "view()"
   ]
  },
  {
   "cell_type": "markdown",
   "id": "2a962caa",
   "metadata": {},
   "source": [
    "# Q 9"
   ]
  },
  {
   "cell_type": "code",
   "execution_count": 16,
   "id": "c4852681",
   "metadata": {},
   "outputs": [],
   "source": [
    "def update(emp):\n",
    "    con=sqlite3.connect(\"temp_db\")\n",
    "    cur=con.cursor()\n",
    "    cur.execute(\"update emp set salary=salary+(salary*10/100) where empno=?\",(emp,))\n",
    "    con.commit()\n",
    "    con.close()"
   ]
  },
  {
   "cell_type": "code",
   "execution_count": 17,
   "id": "a41f4382",
   "metadata": {},
   "outputs": [],
   "source": [
    "update(101)"
   ]
  },
  {
   "cell_type": "code",
   "execution_count": 18,
   "id": "ebeca68e",
   "metadata": {},
   "outputs": [
    {
     "data": {
      "text/plain": [
       "[(101, 'Rose Daniels', 16500, 10),\n",
       " (102, 'Mia Madison', 20000, 20),\n",
       " (104, 'Andrew Olesten', 25000, 10),\n",
       " (105, 'Danny MILLS', 30000, 50)]"
      ]
     },
     "execution_count": 18,
     "metadata": {},
     "output_type": "execute_result"
    }
   ],
   "source": [
    "view()"
   ]
  },
  {
   "cell_type": "markdown",
   "id": "4e246185",
   "metadata": {},
   "source": [
    "# Q 10"
   ]
  },
  {
   "cell_type": "code",
   "execution_count": 19,
   "id": "88a56c0c",
   "metadata": {},
   "outputs": [],
   "source": [
    "def drop():\n",
    "    con = sqlite3.connect('temp_db')\n",
    "    cur = con.cursor()\n",
    "    cur.execute(\"DROP TABLE emp\")\n",
    "    con.commit()\n",
    "    con.close "
   ]
  },
  {
   "cell_type": "code",
   "execution_count": 20,
   "id": "a61efd3c",
   "metadata": {},
   "outputs": [],
   "source": [
    "drop()"
   ]
  },
  {
   "cell_type": "code",
   "execution_count": 21,
   "id": "5fa1aecb",
   "metadata": {},
   "outputs": [
    {
     "ename": "OperationalError",
     "evalue": "no such table: emp",
     "output_type": "error",
     "traceback": [
      "\u001b[1;31m---------------------------------------------------------------------------\u001b[0m",
      "\u001b[1;31mOperationalError\u001b[0m                          Traceback (most recent call last)",
      "\u001b[1;32mC:\\Users\\SANJEE~1\\AppData\\Local\\Temp/ipykernel_39248/3561359898.py\u001b[0m in \u001b[0;36m<module>\u001b[1;34m\u001b[0m\n\u001b[1;32m----> 1\u001b[1;33m \u001b[0mview\u001b[0m\u001b[1;33m(\u001b[0m\u001b[1;33m)\u001b[0m\u001b[1;33m\u001b[0m\u001b[1;33m\u001b[0m\u001b[0m\n\u001b[0m",
      "\u001b[1;32mC:\\Users\\SANJEE~1\\AppData\\Local\\Temp/ipykernel_39248/2349096851.py\u001b[0m in \u001b[0;36mview\u001b[1;34m()\u001b[0m\n\u001b[0;32m      2\u001b[0m     \u001b[0mcon\u001b[0m\u001b[1;33m=\u001b[0m\u001b[0msqlite3\u001b[0m\u001b[1;33m.\u001b[0m\u001b[0mconnect\u001b[0m\u001b[1;33m(\u001b[0m\u001b[1;34m'temp_db'\u001b[0m\u001b[1;33m)\u001b[0m\u001b[1;33m\u001b[0m\u001b[1;33m\u001b[0m\u001b[0m\n\u001b[0;32m      3\u001b[0m     \u001b[0mcur\u001b[0m\u001b[1;33m=\u001b[0m\u001b[0mcon\u001b[0m\u001b[1;33m.\u001b[0m\u001b[0mcursor\u001b[0m\u001b[1;33m(\u001b[0m\u001b[1;33m)\u001b[0m\u001b[1;33m\u001b[0m\u001b[1;33m\u001b[0m\u001b[0m\n\u001b[1;32m----> 4\u001b[1;33m     \u001b[0mcur\u001b[0m\u001b[1;33m.\u001b[0m\u001b[0mexecute\u001b[0m\u001b[1;33m(\u001b[0m\u001b[1;34m'select * from emp'\u001b[0m\u001b[1;33m)\u001b[0m\u001b[1;33m\u001b[0m\u001b[1;33m\u001b[0m\u001b[0m\n\u001b[0m\u001b[0;32m      5\u001b[0m     \u001b[0mrows\u001b[0m\u001b[1;33m=\u001b[0m\u001b[0mcur\u001b[0m\u001b[1;33m.\u001b[0m\u001b[0mfetchall\u001b[0m\u001b[1;33m(\u001b[0m\u001b[1;33m)\u001b[0m\u001b[1;33m\u001b[0m\u001b[1;33m\u001b[0m\u001b[0m\n\u001b[0;32m      6\u001b[0m     \u001b[0mcon\u001b[0m\u001b[1;33m.\u001b[0m\u001b[0mclose\u001b[0m\u001b[1;33m(\u001b[0m\u001b[1;33m)\u001b[0m\u001b[1;33m\u001b[0m\u001b[1;33m\u001b[0m\u001b[0m\n",
      "\u001b[1;31mOperationalError\u001b[0m: no such table: emp"
     ]
    }
   ],
   "source": [
    "view()"
   ]
  },
  {
   "cell_type": "code",
   "execution_count": null,
   "id": "a37a621c",
   "metadata": {},
   "outputs": [],
   "source": []
  }
 ],
 "metadata": {
  "kernelspec": {
   "display_name": "Python 3 (ipykernel)",
   "language": "python",
   "name": "python3"
  },
  "language_info": {
   "codemirror_mode": {
    "name": "ipython",
    "version": 3
   },
   "file_extension": ".py",
   "mimetype": "text/x-python",
   "name": "python",
   "nbconvert_exporter": "python",
   "pygments_lexer": "ipython3",
   "version": "3.9.7"
  }
 },
 "nbformat": 4,
 "nbformat_minor": 5
}
