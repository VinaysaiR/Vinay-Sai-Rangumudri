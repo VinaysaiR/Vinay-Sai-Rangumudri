{
 "cells": [
  {
   "cell_type": "markdown",
   "id": "22b4eaf2",
   "metadata": {},
   "source": [
    "### 1. A set contains names which begin either with A or with B. Write a program to separate the names into two sets, one containing names beginning with A and the other containing names beginning with B"
   ]
  },
  {
   "cell_type": "code",
   "execution_count": 24,
   "id": "c68b46b1",
   "metadata": {},
   "outputs": [
    {
     "name": "stdout",
     "output_type": "stream",
     "text": [
      "The set contains the names:\n",
      "{'anil', 'bhuvan', 'ashu', 'bhavani', 'balu', 'avinash', 'adarsh'}\n",
      "Set a contains :  {'anil', 'avinash', 'ashu', 'adarsh'}\n",
      "Set b contains :  {'bhuvan', 'balu', 'bhavani'}\n"
     ]
    }
   ],
   "source": [
    "# A set contains names which begin either with A or with B\n",
    "a = set() \n",
    "b = set()\n",
    "print('The set contains the names:')\n",
    "names = {'anil', 'balu', 'avinash', 'ashu', 'bhavani', 'adarsh','bhuvan'}\n",
    "print(names)\n",
    "\n",
    "\n",
    "for i in names:\n",
    "    if i.startswith('a'): # one containing names beginning with A\n",
    "        a.add(i)\n",
    "    elif i.startswith('b'): #the other containing names beginning with B\n",
    "        b.add(i)\n",
    "    else:\n",
    "        print(\"no set\")\n",
    "\n",
    "print(\"Set a contains : \", a)\n",
    "print(\"Set b contains : \", b)"
   ]
  },
  {
   "cell_type": "markdown",
   "id": "a5bdd054",
   "metadata": {},
   "source": [
    "### 2. Create a list of tuples. Each tuple should contain an item and its price in float. Write a program to print each item and its price in a proper format"
   ]
  },
  {
   "cell_type": "code",
   "execution_count": 10,
   "id": "1266a84f",
   "metadata": {},
   "outputs": [
    {
     "name": "stdout",
     "output_type": "stream",
     "text": [
      "list of tuples contains an iteam and its price [('item1', '16.40'), ('item2', '21.92'), ('item3', '36.5')]\n"
     ]
    }
   ],
   "source": [
    "# Create a list of tuples. Each tuple should contain an item and its price in float. \n",
    "price = [('item1', '16.40'), ('item2', '21.92'), ('item3', '36.5')]\n",
    "print( \"list of tuples contains an iteam and its price\", sorted(price, key=lambda x: float(x[1])))"
   ]
  },
  {
   "cell_type": "markdown",
   "id": "e79c421c",
   "metadata": {},
   "source": [
    "### 3. Write a program that reads integers from the user and stores them in a list. Your program should continue reading values until the user enters 0. Then it should display all of the values entered by the user (except for the 0) in order from smallest to largest, with one value appearing on each line. Use either the sort method or the sorted function to sort the list."
   ]
  },
  {
   "cell_type": "code",
   "execution_count": 2,
   "id": "df9eb793",
   "metadata": {},
   "outputs": [
    {
     "name": "stdout",
     "output_type": "stream",
     "text": [
      "Enter the integer values:\n",
      "52\n",
      "23\n",
      "1\n",
      "16\n",
      "21\n",
      "64\n",
      "0\n",
      "The order from smallest to largest, with one value appearing on each line\n",
      "1\n",
      "16\n",
      "21\n",
      "23\n",
      "52\n",
      "64\n"
     ]
    }
   ],
   "source": [
    "a = list()\n",
    "print(\"Enter the integer values:\")\n",
    "while True:\n",
    "    value = int(input())  # reads integers from the user and stores them in a list.\n",
    "    if value != 0:        # Your program should continue reading values until the user enters 0.\n",
    "        a.append(value)\n",
    "    else:                 # Then it should display all of the values entered by the user (except for the 0)\n",
    "        a.sort()          # The sort method or the sorted function to sort the list.\n",
    "        print(\"The order from smallest to largest, with one value appearing on each line\")\n",
    "        for i in a:\n",
    "            print(i)      # in order from smallest to largest, with one value appearing on each line\n",
    "        break"
   ]
  },
  {
   "cell_type": "markdown",
   "id": "4cfa67f1",
   "metadata": {},
   "source": [
    "### 4. Write a program to read a list of numbers from the user and remove the two largest and two smallest values from it. Display the list with the values removed, followed by the original list. Your program should generate an appropriate error message if the user enters less than 5 values."
   ]
  },
  {
   "cell_type": "code",
   "execution_count": 39,
   "id": "98ed3fac",
   "metadata": {},
   "outputs": [
    {
     "name": "stdout",
     "output_type": "stream",
     "text": [
      "Enter the numbers seperated by spaces: 12 36 23 86 3 64 22\n",
      "The entered value of original list = [12, 36, 23, 86, 3, 64, 22]\n",
      "The list remove two largest and two smallest values = [36, 23, 22]\n"
     ]
    }
   ],
   "source": [
    "str = input(\"Enter the numbers seperated by spaces: \") #to read a list of numbers from the user\n",
    "number = str.split()\n",
    "\n",
    "num = []\n",
    "ret = []\n",
    "\n",
    "if len(number)>4:\n",
    "    for i in number:\n",
    "        num.append(int(i))\n",
    "    ret = num.copy()\n",
    "    list = num.copy()\n",
    "    list.sort()\n",
    "    list1 = list[0:2]\n",
    "    list2 = list[-2:]\n",
    "    list3 = list1 + list2\n",
    "    for i in list3:\n",
    "        ret.remove(i) #remove the two largest and two smallest values\n",
    "    \n",
    "    print(\"The entered value of original list =\",num)\n",
    "    print(\"The list remove two largest and two smallest values =\",ret) #the list with the values removed\n",
    "else:                                        #appropriate error message if the user enters less than 5 values\n",
    "    print(\"you entered less than 5 values\")"
   ]
  },
  {
   "cell_type": "markdown",
   "id": "b4119ca8",
   "metadata": {},
   "source": [
    "### 5. In this exercise, you will create a program that reads words from the user until the user enters a blank line. After the user enters a blank line your program should display each word entered by the user exactly once."
   ]
  },
  {
   "cell_type": "code",
   "execution_count": 43,
   "id": "277b7f65",
   "metadata": {},
   "outputs": [
    {
     "name": "stdout",
     "output_type": "stream",
     "text": [
      "vinay\n",
      "sai\n",
      "pravali\n",
      "hari\n",
      "manu\n",
      "______\n",
      "\n",
      "vinay\n",
      "sai\n",
      "pravali\n",
      "hari\n",
      "manu\n",
      "______\n"
     ]
    }
   ],
   "source": [
    "lines = []\n",
    "while True:\n",
    "    words = input() # reads words from the user\n",
    "    if words:\n",
    "        lines.append(words) # the user until the user enters a blank line\n",
    "    else:\n",
    "        break; #the user enters a blank line your program should display each word entered by the user exactly once.\n",
    "\n",
    "for words in lines:\n",
    "    print(words)"
   ]
  },
  {
   "cell_type": "markdown",
   "id": "c9e0f616",
   "metadata": {},
   "source": [
    "### 6. Write a program that reads numbers from the user until a 0 is entered. Your program should display the average of all of the values entered by the user. Then the program should display all of the below average values, followed by all of the average values (if any), followed by all of the above average values. An appropriate label should be displayed before each list of values."
   ]
  },
  {
   "cell_type": "code",
   "execution_count": 1,
   "id": "f41b5f46",
   "metadata": {},
   "outputs": [
    {
     "name": "stdout",
     "output_type": "stream",
     "text": [
      "enter the integer =12\n",
      "enter the integer =65\n",
      "enter the integer =75\n",
      "enter the integer =78\n",
      "enter the integer =36\n",
      "enter the integer =45\n",
      "enter the integer =0\n",
      "end of input\n",
      "original list [12, 65, 75, 78, 36, 45]\n",
      "overall average 51.833333333333336\n",
      "below average value [12, 36, 45]\n",
      "average value 51.833333333333336\n",
      "above average value [65, 75, 78]\n"
     ]
    }
   ],
   "source": [
    "l = list()\n",
    "while True:\n",
    "    n = int(input('enter the integer ='))\n",
    "    if n == 0:\n",
    "        print('end of input')  # that reads numbers from the user until a 0 is entered  \n",
    "        break\n",
    "    l.append(n)\n",
    "print('original list', l)    ## the average of all of the values entered by the user\n",
    "                            # by all of the average values\n",
    "sum = 0\n",
    "for i in l:\n",
    "    sum += i\n",
    "avr = sum/len(l)\n",
    "print('overall average',avr)  \n",
    "\n",
    "l2 = list()\n",
    "l3 = list()\n",
    "l4 = list()\n",
    "\n",
    "for i in l:\n",
    "    if i < avr:      # the program should display all of the below average values \n",
    "        l2.append(i)\n",
    "    elif i == avr:    \n",
    "        l3.append(i)\n",
    "    else:             # followed by all of the above average values.\n",
    "        l4.append(i)\n",
    "print(\"below average value\",l2)\n",
    "print(\"average value\",avr)\n",
    "print(\"above average value\",l4)"
   ]
  },
  {
   "cell_type": "markdown",
   "id": "38592753",
   "metadata": {},
   "source": [
    "### 7. Create a program that determines and displays the number of unique characters in a string entered by the user. For example, Hello World! has 9 unique characters while zzz has only one unique character. Use a dictionary to solve this problem."
   ]
  },
  {
   "cell_type": "code",
   "execution_count": 5,
   "id": "42136fee",
   "metadata": {},
   "outputs": [
    {
     "name": "stdout",
     "output_type": "stream",
     "text": [
      "Enter a string:    Hello World!\n",
      "That string Hello World! contained 9 unique characters\n"
     ]
    }
   ],
   "source": [
    "# the number of unique characters in a string entered by the user\n",
    "str  = input (\"Enter a string:    \")\n",
    "characters = {} # Use a dictionary to solve this problem\n",
    "for ch in str:\n",
    "    characters[ch] = True\n",
    "# Display the result\n",
    "print(\"That string\", str,\"contained\",len (characters),\"unique characters\")"
   ]
  },
  {
   "cell_type": "code",
   "execution_count": 6,
   "id": "a04bf8b4",
   "metadata": {},
   "outputs": [
    {
     "name": "stdout",
     "output_type": "stream",
     "text": [
      "Enter a string:    Hello Hello Hello Hello\n",
      "That string Hello Hello Hello Hello contained 5 unique characters.\n"
     ]
    }
   ],
   "source": [
    "# the number of unique characters in a string entered by the user\n",
    "str  = input (\"Enter a string:    \")\n",
    "characters = {} # Use a dictionary to solve this problem\n",
    "for ch in str:\n",
    "    characters[ch] = True\n",
    "# Display the result\n",
    "print(\"That string\", str, \"contained\",  len (characters),\"unique characters.\")"
   ]
  },
  {
   "cell_type": "markdown",
   "id": "788abe0d",
   "metadata": {},
   "source": [
    "### 8. Two words are anagrams if they contain all of the same letters, but in a different order. For example, “evil” and “live” are anagrams because each contains one e, one i, one l, and one v. Create a program that reads two strings from the user, determines whether or not they are anagrams, and reports the result."
   ]
  },
  {
   "cell_type": "code",
   "execution_count": 76,
   "id": "ce039c0d",
   "metadata": {},
   "outputs": [
    {
     "name": "stdout",
     "output_type": "stream",
     "text": [
      "enter the first word: hello\n",
      "enter the second word: olleh\n",
      "Strings are anagram\n"
     ]
    }
   ],
   "source": [
    "str1 = input(\"enter the first word: \")\n",
    "str2 = input(\"enter the second word: \")\n",
    "list1=[]\n",
    "list2=[]\n",
    "\n",
    "for char in str1:\n",
    "    list1.append(char)\n",
    "\n",
    "for letter in str2:\n",
    "    list2.append(letter)\n",
    "\n",
    "list1=sorted(list1)\n",
    "list2=sorted(list2)\n",
    "\n",
    "if list1==list2:\n",
    "    print('Strings are anagram')\n",
    "else:\n",
    "    print('Strings are not anagrams')"
   ]
  },
  {
   "cell_type": "code",
   "execution_count": 77,
   "id": "c1b08d88",
   "metadata": {},
   "outputs": [
    {
     "name": "stdout",
     "output_type": "stream",
     "text": [
      "enter the first word: vinay\n",
      "enter the second word: pravli\n",
      "Strings are not anagrams\n"
     ]
    }
   ],
   "source": [
    "str1 = input(\"enter the first word: \")\n",
    "str2 = input(\"enter the second word: \")\n",
    "list1=[]\n",
    "list2=[]\n",
    "\n",
    "for char in str1:\n",
    "    list1.append(char)\n",
    "\n",
    "for letter in str2:\n",
    "    list2.append(letter)\n",
    "\n",
    "list1=sorted(list1)\n",
    "list2=sorted(list2)\n",
    "\n",
    "if list1==list2:\n",
    "    print('Strings are anagram')\n",
    "else:\n",
    "    print('Strings are not anagrams')"
   ]
  },
  {
   "cell_type": "code",
   "execution_count": 53,
   "id": "a1898777",
   "metadata": {},
   "outputs": [
    {
     "name": "stdout",
     "output_type": "stream",
     "text": [
      "Enter a first word: evil\n",
      "Enter a second word: live\n",
      "True\n",
      "Those strings are anagrams.\n"
     ]
    }
   ],
   "source": [
    "# Two words are anagrams if they contain all of the same letters, but in a different order\n",
    "first = list(input(\"Enter a first word: \"))     \n",
    "second = list(input(\"Enter a second word: \"))    # A program that reads two strings from the user\n",
    "result = True         # whether anagrams is True\n",
    "for a in first:\n",
    "    try:          # The try block lets you test a block of code for errors\n",
    "        second.remove(a) \n",
    "    except ValueError:   # The except block lets you handle the error.\n",
    "        result = False   # not they are anagrams is False\n",
    "\n",
    "if len(second) > 0: \n",
    "    result = False\n",
    "print(result)\n",
    "if result is True:\n",
    "    print(\"Those strings are anagrams.\")\n",
    "else:\n",
    "    print(\"Those strings are not anagrams.\")"
   ]
  },
  {
   "cell_type": "code",
   "execution_count": 52,
   "id": "c58993d4",
   "metadata": {},
   "outputs": [
    {
     "name": "stdout",
     "output_type": "stream",
     "text": [
      "Enter a first word: vinay\n",
      "Enter a second word: pravli\n",
      "False\n",
      "Those strings are not anagrams.\n"
     ]
    }
   ],
   "source": [
    "first = list(input(\"Enter a first word: \"))\n",
    "second = list(input(\"Enter a second word: \"))\n",
    "result = True\n",
    "for a in first:\n",
    "    try:\n",
    "        second.remove(a) \n",
    "    except ValueError:\n",
    "        result = False\n",
    "if len(second) > 0: \n",
    "    result = False\n",
    "    \n",
    "print(result)\n",
    "if result is True:\n",
    "    print(\"Those strings are anagrams.\")\n",
    "else:\n",
    "    print(\"Those strings are not anagrams.\")"
   ]
  },
  {
   "cell_type": "markdown",
   "id": "5fcb6737",
   "metadata": {},
   "source": [
    "### 9. An integer, n, is said to be perfect when the sum of all of the proper divisors of n is equal to n. For example, 28 is a perfect number because its proper divisors are 1, 2, 4, 7 and 14, and 1 + 2 + 4 + 7 + 14 = 28. Write a program that determines whether or not a positive integer is perfect. Your program will accept a number from the user. If that number is a perfect number then your program will display true. Otherwise it will display false."
   ]
  },
  {
   "cell_type": "code",
   "execution_count": 69,
   "id": "1c259943",
   "metadata": {},
   "outputs": [
    {
     "name": "stdout",
     "output_type": "stream",
     "text": [
      "Enter the integer value: 28\n",
      "True\n",
      "The number is a Perfect number!\n"
     ]
    }
   ],
   "source": [
    "# An integer, n, is said to be perfect when the sum of all of the proper divisors of n is equal to n.\n",
    "num = int(input('Enter the integer value: '))\n",
    "def perfect_number(n):\n",
    "    sum = 0\n",
    "    for x in range(1, n):\n",
    "        if n % x == 0:\n",
    "            sum += x          # Some peerfect numbers [6, 28, 496, 8128]\n",
    "    return sum == n\n",
    "print(perfect_number(num))\n",
    "\n",
    "if perfect_number(num) is True:\n",
    "    print(\"The number is a Perfect number!\")\n",
    "else:\n",
    "    print(\"The number is not a Perfect number!\")"
   ]
  },
  {
   "cell_type": "code",
   "execution_count": 70,
   "id": "e6c1c1be",
   "metadata": {},
   "outputs": [
    {
     "name": "stdout",
     "output_type": "stream",
     "text": [
      "Enter the integer value: 36\n",
      "False\n",
      "The number is not a Perfect number!\n"
     ]
    }
   ],
   "source": [
    "num = int(input('Enter the integer value: '))\n",
    "def perfect_number(n):\n",
    "    sum = 0\n",
    "    for x in range(1, n):\n",
    "        if n % x == 0:\n",
    "            sum += x\n",
    "    return sum == n\n",
    "print(perfect_number(num))\n",
    "\n",
    "if perfect_number(num) is True:\n",
    "    print(\"The number is a Perfect number!\")\n",
    "else:\n",
    "    print(\"The number is not a Perfect number!\")"
   ]
  },
  {
   "cell_type": "code",
   "execution_count": 31,
   "id": "ec87dc2c",
   "metadata": {},
   "outputs": [
    {
     "name": "stdout",
     "output_type": "stream",
     "text": [
      "Enter any number: 496\n",
      "The number is a Perfect number!\n"
     ]
    }
   ],
   "source": [
    "n = int(input(\"Enter any number: \"))\n",
    "sum1 = 0\n",
    "for i in range(1, n):\n",
    "    if(n % i == 0):\n",
    "        sum1 += i\n",
    "if (sum1 == n):\n",
    "    print(\"The number is a Perfect number!\")\n",
    "else:\n",
    "    print(\"The number is not a Perfect number!\")"
   ]
  },
  {
   "cell_type": "code",
   "execution_count": 32,
   "id": "5b1f76b4",
   "metadata": {},
   "outputs": [
    {
     "name": "stdout",
     "output_type": "stream",
     "text": [
      "Enter any number: 36\n",
      "The number is not a Perfect number!\n"
     ]
    }
   ],
   "source": [
    "n = int(input(\"Enter any number: \"))\n",
    "sum1 = 0\n",
    "for i in range(1, n):\n",
    "    if(n % i == 0):\n",
    "        sum1 = sum1 + i\n",
    "if (sum1 == n):\n",
    "    print(\"The number is a Perfect number!\")\n",
    "else:\n",
    "    print(\"The number is not a Perfect number!\")"
   ]
  },
  {
   "cell_type": "markdown",
   "id": "b1ea17df",
   "metadata": {},
   "source": [
    "### 10. Write a program that finds all of the keys in a dictionary that map to a specific value. The program will take the value to search for as its input. It will display a (possibly empty) list of keys from the dictionary that map to the provided value."
   ]
  },
  {
   "cell_type": "code",
   "execution_count": 38,
   "id": "c78e4720",
   "metadata": {},
   "outputs": [
    {
     "name": "stdout",
     "output_type": "stream",
     "text": [
      "original dictionary elements\n",
      "{'vinay': 58, 'pravali': 62, 'hema': 72, 'hari': 93}\n",
      "finds all of the keys in a dictionary that map to a specific value\n",
      "[]\n"
     ]
    }
   ],
   "source": [
    "def test(dict,val):\n",
    "    return list(key for key, value in dict.items() if value == val)\n",
    "students = {\n",
    "    'vinay': 58,\n",
    "    'pravali': 62,\n",
    "    'hema': 72,\n",
    "    'hari': 93\n",
    "}\n",
    "print(\"original dictionary elements\")\n",
    "print(students)\n",
    "print(\"finds all of the keys in a dictionary that map to a specific value\")\n",
    "print(test(students,29))"
   ]
  },
  {
   "cell_type": "code",
   "execution_count": 39,
   "id": "50f07f1e",
   "metadata": {},
   "outputs": [
    {
     "name": "stdout",
     "output_type": "stream",
     "text": [
      "original dictionary elements\n",
      "{'vinay': 58, 'pravali': 62, 'hema': 72, 'hari': 93}\n",
      "finds all of the keys in a dictionary that map to a specific value\n",
      "Enter the value in dictionary =23\n",
      "[]\n"
     ]
    }
   ],
   "source": [
    "def test(dict,val):\n",
    "    return list(key for key, value in dict.items() if value == val)\n",
    "students = {\n",
    "    'vinay': 58,\n",
    "    'pravali': 62,\n",
    "    'hema': 72,\n",
    "    'hari': 93\n",
    "}\n",
    "print(\"original dictionary elements\")\n",
    "print(students)\n",
    "print(\"finds all of the keys in a dictionary that map to a specific value\")\n",
    "num = int(input(\"Enter the value in dictionary =\"))\n",
    "print(test(students,29))"
   ]
  }
 ],
 "metadata": {
  "kernelspec": {
   "display_name": "Python 3 (ipykernel)",
   "language": "python",
   "name": "python3"
  },
  "language_info": {
   "codemirror_mode": {
    "name": "ipython",
    "version": 3
   },
   "file_extension": ".py",
   "mimetype": "text/x-python",
   "name": "python",
   "nbconvert_exporter": "python",
   "pygments_lexer": "ipython3",
   "version": "3.9.7"
  }
 },
 "nbformat": 4,
 "nbformat_minor": 5
}
