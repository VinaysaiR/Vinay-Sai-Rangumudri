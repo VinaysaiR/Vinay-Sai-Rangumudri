{
 "cells": [
  {
   "cell_type": "code",
   "execution_count": 20,
   "id": "50eec3a2",
   "metadata": {},
   "outputs": [
    {
     "name": "stdout",
     "output_type": "stream",
     "text": [
      "[30, 40, 50]\n",
      "<class 'list'>\n",
      "python\n",
      "['python', 20, 40]\n"
     ]
    }
   ],
   "source": [
    "list = [30,40,50]\n",
    "print(list)\n",
    "print(type(list))\n",
    "list2 = ['python',20,40]\n",
    "print(list2[0])\n",
    "print(list2)"
   ]
  },
  {
   "cell_type": "code",
   "execution_count": 2,
   "id": "1a0d9433",
   "metadata": {},
   "outputs": [
    {
     "name": "stdout",
     "output_type": "stream",
     "text": [
      "hello world\n",
      "['h', 'e', 'l', 'l', 'o', ' ', 'w', 'o', 'r', 'l', 'd']\n",
      "11\n"
     ]
    }
   ],
   "source": [
    "s = 'hello world'\n",
    "print(s)\n",
    "l1 = list(s)\n",
    "print(l1)\n",
    "print(len(l1))"
   ]
  },
  {
   "cell_type": "code",
   "execution_count": 3,
   "id": "057e565a",
   "metadata": {},
   "outputs": [
    {
     "name": "stdout",
     "output_type": "stream",
     "text": [
      "[]\n",
      "0\n"
     ]
    }
   ],
   "source": [
    "l4 = list()\n",
    "print(l4)\n",
    "print(len(l4))"
   ]
  },
  {
   "cell_type": "code",
   "execution_count": 4,
   "id": "b66daa28",
   "metadata": {},
   "outputs": [
    {
     "name": "stdout",
     "output_type": "stream",
     "text": [
      "hello\n",
      "['h', 'e', 'l', 'l', 'o']\n",
      "5\n"
     ]
    }
   ],
   "source": [
    "str = \"hello\"\n",
    "print(str)\n",
    "list4 = list(str)\n",
    "print(list4)\n",
    "print(len(list4))"
   ]
  },
  {
   "cell_type": "code",
   "execution_count": 24,
   "id": "9248127f",
   "metadata": {},
   "outputs": [
    {
     "name": "stdout",
     "output_type": "stream",
     "text": [
      "[10, 20, 30, 40, 50, 60, 70, 80, 90]\n",
      "30\n",
      "[10, 20, 30, 40, 50]\n",
      "[10, 20, 30, 40, 50, 60, 70, 80, 90]\n",
      "[20, 30, 40, 50, 60]\n",
      "70\n",
      "[70, 80]\n",
      "[10, 20, 30, 40, 50, 60, 70]\n",
      "[10, 20, 30, 40, 50, 60, 70, 80, 90]\n",
      "[10, 20, 50, 60, 50, 60, 70, 80, 90]\n"
     ]
    }
   ],
   "source": [
    "list = [10,20,30,40,50,60,70,80,90]\n",
    "print(list)\n",
    "print(list[2])\n",
    "print(list[:5])\n",
    "print(list[0:])\n",
    "print(list[1:6])\n",
    "print(list[-3])\n",
    "print(list[-3:-1])\n",
    "print(list[:-2])\n",
    "print(list[:])\n",
    "list[2:4] = [50,60]\n",
    "print(list)"
   ]
  },
  {
   "cell_type": "code",
   "execution_count": 25,
   "id": "5e04f4ed",
   "metadata": {},
   "outputs": [
    {
     "name": "stdout",
     "output_type": "stream",
     "text": [
      "[1, 'vinay', 25.3, 'pravali', 15, 8.3]\n"
     ]
    }
   ],
   "source": [
    "t1 = [1,'vinay',25.3]\n",
    "t2 = ['pravali',15,8.3]\n",
    "\n",
    "t = t1 + t2\n",
    "\n",
    "print(t)"
   ]
  },
  {
   "cell_type": "markdown",
   "id": "26f244d2",
   "metadata": {},
   "source": [
    "## adding and removing the elements in the lis"
   ]
  },
  {
   "cell_type": "code",
   "execution_count": 26,
   "id": "a0ad6aee",
   "metadata": {},
   "outputs": [
    {
     "name": "stdout",
     "output_type": "stream",
     "text": [
      "[1, 'vinay', 25.3, 'pravali', 15, 8.3]\n"
     ]
    }
   ],
   "source": [
    "print(t)"
   ]
  },
  {
   "cell_type": "code",
   "execution_count": 27,
   "id": "2798ba2b",
   "metadata": {},
   "outputs": [
    {
     "name": "stdout",
     "output_type": "stream",
     "text": [
      "enter something: vinay\n",
      "adding the word in list: [1, 'vinay', 25.3, 'pravali', 15, 8.3, 'vinay']\n"
     ]
    }
   ],
   "source": [
    "x = input(\"enter something: \")\n",
    "t.append(x)\n",
    "print(\"adding the word in list:\",t)"
   ]
  },
  {
   "cell_type": "code",
   "execution_count": 28,
   "id": "7aed6f5e",
   "metadata": {},
   "outputs": [
    {
     "name": "stdout",
     "output_type": "stream",
     "text": [
      "[1, 'vinay', 'pravalika', 25.3, 'pravali', 15, 8.3, 'vinay']\n"
     ]
    }
   ],
   "source": [
    "t.insert(2,'pravalika')\n",
    "print(t)"
   ]
  },
  {
   "cell_type": "code",
   "execution_count": 29,
   "id": "7e1717f0",
   "metadata": {},
   "outputs": [
    {
     "name": "stdout",
     "output_type": "stream",
     "text": [
      "[1, 'pravalika', 25.3, 'pravali', 15, 8.3, 'vinay']\n"
     ]
    }
   ],
   "source": [
    "t.remove('vinay')\n",
    "print(t)"
   ]
  },
  {
   "cell_type": "code",
   "execution_count": 30,
   "id": "86ff6c08",
   "metadata": {},
   "outputs": [
    {
     "name": "stdout",
     "output_type": "stream",
     "text": [
      "[1, 'pravalika', 25.3, 15, 8.3, 'vinay']\n"
     ]
    }
   ],
   "source": [
    "t.pop(3)\n",
    "print(t)"
   ]
  },
  {
   "cell_type": "code",
   "execution_count": 31,
   "id": "307ffded",
   "metadata": {},
   "outputs": [
    {
     "name": "stdout",
     "output_type": "stream",
     "text": [
      "remove the last element in the list [1, 'pravalika', 25.3, 15, 8.3]\n"
     ]
    }
   ],
   "source": [
    "t.pop()\n",
    "print(\"remove the last element in the list\",t)"
   ]
  },
  {
   "cell_type": "code",
   "execution_count": 32,
   "id": "409ac00e",
   "metadata": {},
   "outputs": [
    {
     "name": "stdout",
     "output_type": "stream",
     "text": [
      "[1, 'pravalika', 8.3]\n"
     ]
    }
   ],
   "source": [
    "del t[2:4]\n",
    "print(t)"
   ]
  },
  {
   "cell_type": "code",
   "execution_count": 33,
   "id": "92920cc0",
   "metadata": {},
   "outputs": [
    {
     "name": "stdout",
     "output_type": "stream",
     "text": [
      "['pravali', 15, 8.3]\n",
      "[]\n"
     ]
    }
   ],
   "source": [
    "print(t2)\n",
    "t2.clear()\n",
    "print(t2)"
   ]
  },
  {
   "cell_type": "code",
   "execution_count": 34,
   "id": "b3ec9c2b",
   "metadata": {},
   "outputs": [
    {
     "name": "stdout",
     "output_type": "stream",
     "text": [
      "[1, 'pravalika', 8.3]\n"
     ]
    }
   ],
   "source": [
    "t2=t.copy()\n",
    "print(t2)"
   ]
  },
  {
   "cell_type": "code",
   "execution_count": 36,
   "id": "7528349b",
   "metadata": {},
   "outputs": [
    {
     "name": "stdout",
     "output_type": "stream",
     "text": [
      "[1, 'pravalika', 8.3, 'pravalika', 'vinay']\n"
     ]
    }
   ],
   "source": [
    "t2.append('pravalika')\n",
    "t2.append(\"vinay\")\n",
    "print(t2)"
   ]
  },
  {
   "cell_type": "code",
   "execution_count": 37,
   "id": "f2b2056e",
   "metadata": {},
   "outputs": [
    {
     "name": "stdout",
     "output_type": "stream",
     "text": [
      "count the number of pravalika name repeat 2\n"
     ]
    }
   ],
   "source": [
    "print(\"count the number of pravalika name repeat\",t2.count(\"pravalika\"))"
   ]
  },
  {
   "cell_type": "code",
   "execution_count": 41,
   "id": "e3765415",
   "metadata": {},
   "outputs": [
    {
     "name": "stdout",
     "output_type": "stream",
     "text": [
      "[1, 'vinay', 25.3, 1, 'pravalika', 8.3, 'pravalika', 'vinay', 1, 'vinay', 25.3]\n",
      "[1, 'pravalika', 8.3, 'pravalika', 'vinay', 1, 'vinay', 25.3]\n",
      "None\n"
     ]
    }
   ],
   "source": [
    "print(t1)\n",
    "print(t2)\n",
    "\n",
    "print(t1.extend(t2))"
   ]
  },
  {
   "cell_type": "code",
   "execution_count": 42,
   "id": "b1ab592e",
   "metadata": {},
   "outputs": [
    {
     "name": "stdout",
     "output_type": "stream",
     "text": [
      "['pravali', 15, 8.3, 1, 'vinay', 25.3]\n"
     ]
    }
   ],
   "source": [
    "t1 = [1,'vinay',25.3]\n",
    "t2 = ['pravali',15,8.3]\n",
    "\n",
    "t2.extend(t1)\n",
    "\n",
    "print(t2)"
   ]
  },
  {
   "cell_type": "code",
   "execution_count": 47,
   "id": "9f252916",
   "metadata": {},
   "outputs": [
    {
     "name": "stdout",
     "output_type": "stream",
     "text": [
      "['pravali', 15, 8.3, 1, 'vinay', 25.3]\n",
      "3\n"
     ]
    }
   ],
   "source": [
    "print(t2)\n",
    "\n",
    "print(t2.index(1))"
   ]
  },
  {
   "cell_type": "code",
   "execution_count": 49,
   "id": "86d42b84",
   "metadata": {},
   "outputs": [
    {
     "name": "stdout",
     "output_type": "stream",
     "text": [
      "[25.3, 'vinay', 1, 8.3, 15, 'pravali']\n"
     ]
    }
   ],
   "source": [
    "t2.reverse()\n",
    "print(t2)"
   ]
  },
  {
   "cell_type": "code",
   "execution_count": 50,
   "id": "8b961f4b",
   "metadata": {},
   "outputs": [
    {
     "name": "stdout",
     "output_type": "stream",
     "text": [
      "[10, 20, 30, 40, 50, 60, 70, 80, 90]\n"
     ]
    }
   ],
   "source": [
    "t3 = [10,90,20,70,30,80,40,60,50]\n",
    "\n",
    "t3.sort()\n",
    "print(t3)"
   ]
  },
  {
   "cell_type": "code",
   "execution_count": 54,
   "id": "98c5eb6c",
   "metadata": {},
   "outputs": [
    {
     "name": "stdout",
     "output_type": "stream",
     "text": [
      "tne names of list ['vinay', 'pravalika', 'hema', 'hari', 'ashok']\n",
      "hello vinay\n",
      "hello pravalika\n",
      "hello hema\n",
      "hello hari\n",
      "hello ashok\n"
     ]
    }
   ],
   "source": [
    "x = ['vinay','pravalika','hema','hari','ashok']\n",
    "\n",
    "print(\"tne names of list\",x)\n",
    "\n",
    "for i in x:\n",
    "    print(\"hello \" +i)"
   ]
  },
  {
   "cell_type": "code",
   "execution_count": 56,
   "id": "d6d26e6f",
   "metadata": {},
   "outputs": [
    {
     "name": "stdout",
     "output_type": "stream",
     "text": [
      "['vinay', 'pravalika', 'hema', 'hari', 'ashok']\n",
      "enter the name to se3arching in the list =hari\n",
      "yes hari in the given list\n"
     ]
    }
   ],
   "source": [
    "print(x)\n",
    "\n",
    "name_val = input(\"enter the name to se3arching in the list =\")\n",
    "\n",
    "if name_val in x:\n",
    "    print(\"yes\",name_val,\"in the given list\")\n",
    "else:\n",
    "    print(\"no\",name_val,\"in the given list\")"
   ]
  },
  {
   "cell_type": "code",
   "execution_count": 57,
   "id": "2a83c640",
   "metadata": {},
   "outputs": [
    {
     "name": "stdout",
     "output_type": "stream",
     "text": [
      "['vinay', 'pravalika', 'hema', 'hari', 'ashok']\n",
      "enter the name to se3arching in the list =pravi\n",
      "no pravi in the given list\n"
     ]
    }
   ],
   "source": [
    "print(x)\n",
    "\n",
    "name_val = input(\"enter the name to se3arching in the list =\")\n",
    "\n",
    "if name_val in x:\n",
    "    print(\"yes\",name_val,\"in the given list\")\n",
    "else:\n",
    "    print(\"no\",name_val,\"in the given list\")"
   ]
  },
  {
   "cell_type": "markdown",
   "id": "8105d64d",
   "metadata": {},
   "source": [
    "## Tuple"
   ]
  },
  {
   "cell_type": "code",
   "execution_count": 58,
   "id": "04876902",
   "metadata": {},
   "outputs": [
    {
     "name": "stdout",
     "output_type": "stream",
     "text": [
      "(10, 20, 30, 40, 50, 60)\n"
     ]
    }
   ],
   "source": [
    "tuple = (10,20,30,40,50,60)\n",
    "print(tuple)"
   ]
  },
  {
   "cell_type": "code",
   "execution_count": 2,
   "id": "f470749b",
   "metadata": {},
   "outputs": [
    {
     "name": "stdout",
     "output_type": "stream",
     "text": [
      "(50, 60, 40, 50, 70, 80, 90)\n",
      "<class 'tuple'>\n"
     ]
    }
   ],
   "source": [
    "list6 = [50,60,40,50,70,80,90]\n",
    "t1 = tuple(list6)\n",
    "print(t1) \n",
    "print(type(t1))"
   ]
  },
  {
   "cell_type": "code",
   "execution_count": 6,
   "id": "fcdcead2",
   "metadata": {},
   "outputs": [
    {
     "name": "stdout",
     "output_type": "stream",
     "text": [
      "(50, 60, 40, 50, 70, 80, 90)\n",
      "7\n",
      "(50, 60, 40, 50, 70, 80)\n",
      "60\n",
      "(40, 50, 70, 80, 90)\n",
      "(60, 40, 50, 70, 80)\n",
      "70\n",
      "(50, 60, 40, 50, 70, 80)\n",
      "(50, 70)\n"
     ]
    }
   ],
   "source": [
    "print(t1)\n",
    "print(len(t1))\n",
    "print(t1[:6])\n",
    "print(t1[1])\n",
    "print(t1[2:])\n",
    "print(t1[1:6])\n",
    "print(t1[-3])\n",
    "print(t1[:-1])\n",
    "print(t1[-4:-2])"
   ]
  },
  {
   "cell_type": "markdown",
   "id": "bfa255a5",
   "metadata": {},
   "source": [
    "### tuple operations"
   ]
  },
  {
   "cell_type": "code",
   "execution_count": 8,
   "id": "4d19fb66",
   "metadata": {},
   "outputs": [
    {
     "name": "stdout",
     "output_type": "stream",
     "text": [
      "10\n",
      "20\n",
      "vinay\n",
      "23.6\n",
      "pravalika\n",
      "vinay in the tuple\n"
     ]
    }
   ],
   "source": [
    "tuple = (10,20, 'vinay',23.6,'pravalika')\n",
    "\n",
    "for i in tuple:\n",
    "    print(i)\n",
    "if 'vinay' in tuple:\n",
    "    print(\"vinay in the tuple\")"
   ]
  },
  {
   "cell_type": "code",
   "execution_count": 11,
   "id": "66ee2f17",
   "metadata": {},
   "outputs": [
    {
     "name": "stdout",
     "output_type": "stream",
     "text": [
      "(10, 30, (10, 20, 30, 40, 50), ('vinay', 'pravalika', 'hari', 'hema', 'ashok'), 45.3)\n",
      "(10, 20, 30, 40, 50)\n",
      "pravalika\n"
     ]
    }
   ],
   "source": [
    "tup1 = (10,20,30,40,50)\n",
    "tup2 = ('vinay','pravalika','hari','hema','ashok')\n",
    "\n",
    "tup3 =(10,30,tup1,tup2,45.3)\n",
    "print(tup3)\n",
    "print(tup3[2])\n",
    "print(tup3[3][1])"
   ]
  },
  {
   "cell_type": "code",
   "execution_count": 13,
   "id": "11dbd2b7",
   "metadata": {},
   "outputs": [
    {
     "name": "stdout",
     "output_type": "stream",
     "text": [
      "True\n"
     ]
    }
   ],
   "source": [
    "print((0,1,20000)<(2,3,4))"
   ]
  },
  {
   "cell_type": "code",
   "execution_count": 14,
   "id": "18b7e881",
   "metadata": {},
   "outputs": [
    {
     "name": "stdout",
     "output_type": "stream",
     "text": [
      "False\n"
     ]
    }
   ],
   "source": [
    "print((10,20,30)>(40,50,60))"
   ]
  },
  {
   "cell_type": "code",
   "execution_count": 15,
   "id": "c5b130ab",
   "metadata": {},
   "outputs": [
    {
     "name": "stdout",
     "output_type": "stream",
     "text": [
      "True\n"
     ]
    }
   ],
   "source": [
    "print((10,20,30)<(40,50,60))"
   ]
  },
  {
   "cell_type": "markdown",
   "id": "56d60fee",
   "metadata": {},
   "source": [
    "## sets"
   ]
  },
  {
   "cell_type": "code",
   "execution_count": 18,
   "id": "d046d015",
   "metadata": {},
   "outputs": [
    {
     "name": "stdout",
     "output_type": "stream",
     "text": [
      "{50, 20, 40, 10, 30}\n",
      "{'pravinay', 'pravlika', 'vinay'}\n",
      "{70, 40, 50, 20, 60, 30}\n"
     ]
    }
   ],
   "source": [
    "s1 = {10,20,30,40,50}\n",
    "s2 = {'vinay','pravlika','pravinay'}\n",
    "\n",
    "\n",
    "print(s1)\n",
    "print(s2)\n",
    "\n",
    "l = [20,30,40,50,60,70]\n",
    "\n",
    "s3 = set(l)\n",
    "print(s3)"
   ]
  },
  {
   "cell_type": "code",
   "execution_count": 20,
   "id": "0b54faf8",
   "metadata": {},
   "outputs": [
    {
     "name": "stdout",
     "output_type": "stream",
     "text": [
      "apple\n",
      "mango\n",
      "grape\n",
      "banana\n",
      "orange\n",
      "yes orange in basket\n"
     ]
    }
   ],
   "source": [
    "basket = {'apple','banana','grape','orange','mango'}\n",
    "\n",
    "for i in basket:\n",
    "    print(i)\n",
    "    \n",
    "if 'orange' in basket:\n",
    "    print(\"yes orange in basket\")\n",
    "else:\n",
    "    print(\"no orange is not in basket\")"
   ]
  },
  {
   "cell_type": "code",
   "execution_count": 32,
   "id": "58f6f4e7",
   "metadata": {},
   "outputs": [
    {
     "name": "stdout",
     "output_type": "stream",
     "text": [
      "{'apple', 'mango', 'grape', 'custed apple', 'watermelon', 'banana', 'orange', 'vinay'}\n"
     ]
    }
   ],
   "source": [
    "basket = {'apple','banana','grape','orange','mango'}\n",
    "basket.add('vinay')\n",
    "basket.update(['watermelon','custed apple'])\n",
    "print(basket)"
   ]
  },
  {
   "cell_type": "code",
   "execution_count": 33,
   "id": "249fd141",
   "metadata": {},
   "outputs": [
    {
     "name": "stdout",
     "output_type": "stream",
     "text": [
      "8\n"
     ]
    }
   ],
   "source": [
    "print(len(basket))"
   ]
  },
  {
   "cell_type": "code",
   "execution_count": 36,
   "id": "690fcb0d",
   "metadata": {},
   "outputs": [
    {
     "name": "stdout",
     "output_type": "stream",
     "text": [
      "0.03 91\n"
     ]
    }
   ],
   "source": [
    "s1 ={10,65,42,91,2,42,50,.03,54}\n",
    "print(min(s1),max(s1))\n"
   ]
  },
  {
   "cell_type": "code",
   "execution_count": 37,
   "id": "966b624b",
   "metadata": {},
   "outputs": [
    {
     "name": "stdout",
     "output_type": "stream",
     "text": [
      "{'apple', 'mango', 'grape', 'custed apple', 'watermelon', 'banana', 'orange'}\n"
     ]
    }
   ],
   "source": [
    "basket.remove('vinay')\n",
    "print(basket)"
   ]
  },
  {
   "cell_type": "code",
   "execution_count": 38,
   "id": "79e6e614",
   "metadata": {},
   "outputs": [
    {
     "name": "stdout",
     "output_type": "stream",
     "text": [
      "{'vinay sai loves', 'pravalika'}\n"
     ]
    }
   ],
   "source": [
    "s1 = {'vinay sai loves'}\n",
    "s2 = {'pravalika'}\n",
    "\n",
    "print(s1|s2)"
   ]
  },
  {
   "cell_type": "code",
   "execution_count": 41,
   "id": "cc0c0e59",
   "metadata": {},
   "outputs": [
    {
     "name": "stdout",
     "output_type": "stream",
     "text": [
      "{70, 40, 10, 80, 50, 20, 60, 30}\n",
      "{40, 50, 60, 30}\n",
      "{40, 50, 60, 30}\n",
      "{10, 20}\n",
      "{80, 70}\n",
      "{80, 20, 70, 10}\n"
     ]
    }
   ],
   "source": [
    "s1 = {10,20,30,40,50,60}\n",
    "s2 = {30,40,50,60,70,80}\n",
    "\n",
    "print(s1|s2)\n",
    "print(s1&s2)\n",
    "print(s1-s2)\n",
    "print(s2-s1)\n",
    "print(s1^s2)"
   ]
  },
  {
   "cell_type": "code",
   "execution_count": 44,
   "id": "44ef06e7",
   "metadata": {},
   "outputs": [
    {
     "name": "stdout",
     "output_type": "stream",
     "text": [
      "{'pravali', 'hema', 'hari', 'ashok', 'prasanna', 'vinay'}\n",
      "{'pravali', 'vinay'}\n",
      "{'hema', 'hari'}\n",
      "{'ashok', 'prasanna'}\n",
      "{'hema', 'hari', 'ashok', 'prasanna'}\n"
     ]
    }
   ],
   "source": [
    "s1 = {'vinay','pravali','hari','hema'}\n",
    "s2 = {'ashok', 'vinay','prasanna','pravali'}\n",
    "\n",
    "print(s1.union(s2))\n",
    "print(s1.intersection(s2))\n",
    "print(s1.difference(s2))\n",
    "print(s2.difference(s1))\n",
    "print(s1.symmetric_difference(s2))"
   ]
  },
  {
   "cell_type": "markdown",
   "id": "8590fa0b",
   "metadata": {},
   "source": [
    "### dictionarey"
   ]
  },
  {
   "cell_type": "code",
   "execution_count": 2,
   "id": "b4b9fa6b",
   "metadata": {},
   "outputs": [
    {
     "name": "stdout",
     "output_type": "stream",
     "text": [
      "{'telangana': 'hydrabad', 'andhra pradesh': 'amaravathi', 'oddisa': 'bhuvaneshwar', 'tamil nadu': 'chennai'}\n"
     ]
    }
   ],
   "source": [
    "dict = {'telangana':'hydrabad','andhra pradesh':'amaravathi','oddisa':'bhuvaneshwar','tamil nadu':'chennai'}\n",
    "\n",
    "print(dict)"
   ]
  },
  {
   "cell_type": "code",
   "execution_count": 5,
   "id": "46dfb87c",
   "metadata": {},
   "outputs": [
    {
     "name": "stdout",
     "output_type": "stream",
     "text": [
      "bhuvaneshwar\n",
      "chennai\n"
     ]
    }
   ],
   "source": [
    "dict1 = dict['tamil nadu']\n",
    "print(dict['oddisa'])\n",
    "print(dict1)"
   ]
  },
  {
   "cell_type": "code",
   "execution_count": 17,
   "id": "19713566",
   "metadata": {},
   "outputs": [
    {
     "name": "stdout",
     "output_type": "stream",
     "text": [
      "{'telangana': 'hydrabad', 'andhra pradesh': 'amaravathi', 'oddisa': 'bhuvaneshwar', 'tamil nadu': 'chennai', 'vinay': 'pravalika'}\n",
      "telangana\n",
      "andhra pradesh\n",
      "oddisa\n",
      "tamil nadu\n",
      "vinay\n"
     ]
    }
   ],
   "source": [
    "d1 = {'vinay':'pravalika'}\n",
    "dict.update(d1)\n",
    "print(dict)\n",
    "for i in dict:\n",
    "    print(i)"
   ]
  },
  {
   "cell_type": "code",
   "execution_count": 16,
   "id": "c4578466",
   "metadata": {},
   "outputs": [
    {
     "name": "stdout",
     "output_type": "stream",
     "text": [
      "{}\n"
     ]
    }
   ],
   "source": [
    "d2 = {'name':'vinaypravalika','age':'25','relationship':'married'}\n",
    "d2.clear()\n",
    "print(d2)"
   ]
  },
  {
   "cell_type": "code",
   "execution_count": 11,
   "id": "467ed758",
   "metadata": {},
   "outputs": [
    {
     "name": "stdout",
     "output_type": "stream",
     "text": [
      "{'telangana': 'hydrabad', 'andhra pradesh': 'amaravathi', 'oddisa': 'bhuvaneshwar', 'tamil nadu': 'chennai', 'vinay': 'pravalika'}\n"
     ]
    }
   ],
   "source": [
    "d2 = dict.copy()\n",
    "print(d2)"
   ]
  },
  {
   "cell_type": "code",
   "execution_count": 12,
   "id": "6f8c8920",
   "metadata": {},
   "outputs": [
    {
     "name": "stdout",
     "output_type": "stream",
     "text": [
      "{0: 0, 1: 1, 2: 4, 3: 9, 4: 16, 5: 25, 6: 36, 7: 49, 8: 64, 9: 81}\n"
     ]
    }
   ],
   "source": [
    "d3 = {i:i**2 for i in range(10) if 1}\n",
    "print(d3)"
   ]
  },
  {
   "cell_type": "code",
   "execution_count": 13,
   "id": "71f54756",
   "metadata": {},
   "outputs": [
    {
     "name": "stdout",
     "output_type": "stream",
     "text": [
      "{0: 0, 2: 4, 4: 16, 6: 36, 8: 64, 10: 100, 12: 144, 14: 196, 16: 256, 18: 324, 20: 400, 22: 484, 24: 576, 26: 676, 28: 784, 30: 900, 32: 1024, 34: 1156, 36: 1296, 38: 1444, 40: 1600, 42: 1764, 44: 1936, 46: 2116, 48: 2304, 50: 2500, 52: 2704, 54: 2916, 56: 3136, 58: 3364, 60: 3600, 62: 3844, 64: 4096, 66: 4356, 68: 4624, 70: 4900, 72: 5184, 74: 5476, 76: 5776, 78: 6084, 80: 6400, 82: 6724, 84: 7056, 86: 7396, 88: 7744, 90: 8100, 92: 8464, 94: 8836, 96: 9216, 98: 9604}\n"
     ]
    }
   ],
   "source": [
    "d4 = {i:i**2 for i in range(100) if i%2 == 0}\n",
    "print(d4)"
   ]
  },
  {
   "cell_type": "code",
   "execution_count": 14,
   "id": "e67a2fef",
   "metadata": {},
   "outputs": [
    {
     "name": "stdout",
     "output_type": "stream",
     "text": [
      "{1: 1, 3: 9, 5: 25, 7: 49, 9: 81, 11: 121, 13: 169, 15: 225, 17: 289, 19: 361, 21: 441, 23: 529, 25: 625, 27: 729, 29: 841, 31: 961, 33: 1089, 35: 1225, 37: 1369, 39: 1521, 41: 1681, 43: 1849, 45: 2025, 47: 2209, 49: 2401, 51: 2601, 53: 2809, 55: 3025, 57: 3249, 59: 3481, 61: 3721, 63: 3969, 65: 4225, 67: 4489, 69: 4761, 71: 5041, 73: 5329, 75: 5625, 77: 5929, 79: 6241, 81: 6561, 83: 6889, 85: 7225, 87: 7569, 89: 7921, 91: 8281, 93: 8649, 95: 9025, 97: 9409, 99: 9801}\n"
     ]
    }
   ],
   "source": [
    "d5 = {i:i**2 for i in range(100) if i%2 != 0}\n",
    "print(d5)"
   ]
  },
  {
   "cell_type": "code",
   "execution_count": null,
   "id": "250f2c62",
   "metadata": {},
   "outputs": [],
   "source": [
    "d6 = {}"
   ]
  }
 ],
 "metadata": {
  "kernelspec": {
   "display_name": "Python 3 (ipykernel)",
   "language": "python",
   "name": "python3"
  },
  "language_info": {
   "codemirror_mode": {
    "name": "ipython",
    "version": 3
   },
   "file_extension": ".py",
   "mimetype": "text/x-python",
   "name": "python",
   "nbconvert_exporter": "python",
   "pygments_lexer": "ipython3",
   "version": "3.9.7"
  }
 },
 "nbformat": 4,
 "nbformat_minor": 5
}
