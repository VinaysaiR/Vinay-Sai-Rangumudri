{
 "cells": [
  {
   "cell_type": "code",
   "execution_count": 16,
   "id": "e47c7797",
   "metadata": {},
   "outputs": [
    {
     "name": "stdout",
     "output_type": "stream",
     "text": [
      "Reading file:\n",
      "Hello world!\n",
      "Welcome to python\n",
      "This is vinay sai From mechanical engineering\n",
      "its a good day to proposal to pravali"
     ]
    }
   ],
   "source": [
    "print(\"Reading file:\")\n",
    "file_obj = open('messages.txt','r')\n",
    "\n",
    "lines = file_obj.readlines()\n",
    "\n",
    "for line in lines:\n",
    "    print(line,end = '')\n",
    "    \n",
    "file_obj.close()"
   ]
  },
  {
   "cell_type": "code",
   "execution_count": 18,
   "id": "3d7804dc",
   "metadata": {},
   "outputs": [
    {
     "name": "stdout",
     "output_type": "stream",
     "text": [
      "writing file: \n"
     ]
    }
   ],
   "source": [
    "print(\"writing file: \")\n",
    "f = open(\"note.txt\",'w')\n",
    "f.write(\"hi pravali..\\n\")\n",
    "f.write(\"The is vinay sai.\\n\")\n",
    "f.write(\"after a long time we meet together\")\n",
    "\n",
    "f.close()"
   ]
  },
  {
   "cell_type": "code",
   "execution_count": 20,
   "id": "a3b4b273",
   "metadata": {},
   "outputs": [
    {
     "name": "stdout",
     "output_type": "stream",
     "text": [
      "hi pravali..\n",
      "The is vinay sai.\n",
      "after a long time we meet together"
     ]
    }
   ],
   "source": [
    "with open('note.txt','r') as f:\n",
    "    lines = f.readlines()\n",
    "    for line in lines:\n",
    "        print(line,end = '')"
   ]
  },
  {
   "cell_type": "code",
   "execution_count": 22,
   "id": "346a70c9",
   "metadata": {},
   "outputs": [
    {
     "name": "stdout",
     "output_type": "stream",
     "text": [
      "the note.txt is close :  True\n",
      "the note.txt is in which mode :  r\n",
      "The file name of a txt :  note.txt\n"
     ]
    }
   ],
   "source": [
    "print('the note.txt is close : ',f.closed)\n",
    "print('the note.txt is in which mode : ',f.mode)\n",
    "print('The file name of a txt : ',f.name)"
   ]
  },
  {
   "cell_type": "code",
   "execution_count": 33,
   "id": "61d7633d",
   "metadata": {},
   "outputs": [
    {
     "name": "stdout",
     "output_type": "stream",
     "text": [
      "abPYTHONLLOYEnopqrstuvwxyz\n",
      "Hello World!\n"
     ]
    }
   ],
   "source": [
    "f = open('text.txt','w')\n",
    "\n",
    "f.write(\"abcdwfghijklmnopqrstuvwxyz\\n\")\n",
    "\n",
    "f.write(\"Hello World!\\n\")\n",
    "\n",
    "f.seek(10,0)\n",
    "f.write('BYE')\n",
    "\n",
    "f.seek(6,0)\n",
    "f.write('HELLO')\n",
    "\n",
    "f.seek(2,0)\n",
    "f.write('PYTHON')\n",
    "\n",
    "f.close()\n",
    "\n",
    "with open('text.txt','r') as f:\n",
    "    for line in f:\n",
    "        print(line,end = '')       "
   ]
  },
  {
   "cell_type": "markdown",
   "id": "7b4e068d",
   "metadata": {},
   "source": [
    "### serialization"
   ]
  },
  {
   "cell_type": "code",
   "execution_count": 38,
   "id": "6b1dbc51",
   "metadata": {},
   "outputs": [],
   "source": [
    "import json\n",
    "\n",
    "f = open('Data_type.txt','w')\n",
    "students = ('vinay sai','pravali','hema','hari')\n",
    "json.dump(students,f)\n",
    "f.close()"
   ]
  },
  {
   "cell_type": "code",
   "execution_count": 40,
   "id": "404b0d13",
   "metadata": {},
   "outputs": [
    {
     "name": "stdout",
     "output_type": "stream",
     "text": [
      "The Data Read :  ['vinay sai', 'pravali', 'hema', 'hari']\n",
      "the type od data : <class 'list'>\n"
     ]
    }
   ],
   "source": [
    "import json\n",
    "\n",
    "f = open('Data_type.txt','r')\n",
    "students = json.load(f)\n",
    "print(\"The Data Read : \",students)\n",
    "print(\"the type od data :\",type(students))\n",
    "f.close()"
   ]
  },
  {
   "cell_type": "code",
   "execution_count": 42,
   "id": "cd971623",
   "metadata": {},
   "outputs": [],
   "source": [
    "import json\n",
    "\n",
    "f = open('Data_type1.txt','w')\n",
    "students = {'vinay sai':300,'pravali':'vinay','hema':200,'hari':'hari'}\n",
    "json.dump(students,f)\n",
    "f.close()"
   ]
  },
  {
   "cell_type": "code",
   "execution_count": 43,
   "id": "ed59deca",
   "metadata": {},
   "outputs": [
    {
     "name": "stdout",
     "output_type": "stream",
     "text": [
      "The Data Read :  {'vinay sai': 300, 'pravali': 'vinay', 'hema': 200, 'hari': 'hari'}\n",
      "the type od data : <class 'dict'>\n"
     ]
    }
   ],
   "source": [
    "import json\n",
    "\n",
    "f = open('Data_type1.txt','r')\n",
    "students = json.load(f)\n",
    "print(\"The Data Read : \",students)\n",
    "print(\"the type od data :\",type(students))\n",
    "f.close()"
   ]
  },
  {
   "cell_type": "code",
   "execution_count": 6,
   "id": "3aca9599",
   "metadata": {},
   "outputs": [
    {
     "name": "stdout",
     "output_type": "stream",
     "text": [
      "the current working directory is os.getcwd() C:\\Users\\SANJEEV SRIDEVI\\python, data science, machine learning\\week 6\n",
      "List the contects of current directory os.listdir() ['.ipynb_checkpoints', 'Data_type.txt', 'Data_type1.txt', 'messages.txt', 'mydir', 'note.txt', 'text.txt', 'week 6.ipynb']\n",
      "let us creat dictrory called mydir...\n",
      "the contects of my directory ['.ipynb_checkpoints', 'Data_type.txt', 'Data_type1.txt', 'messages.txt', 'mydir', 'mydir1', 'note.txt', 'text.txt', 'week 6.ipynb']\n"
     ]
    }
   ],
   "source": [
    "import os\n",
    "print(\"the current working directory is os.getcwd()\",os.getcwd())\n",
    "print(\"List the contects of current directory os.listdir()\",os.listdir())\n",
    "print('let us creat dictrory called mydir...')\n",
    "os.mkdir('mydir1')\n",
    "print('the contects of my directory',os.listdir())"
   ]
  },
  {
   "cell_type": "code",
   "execution_count": 7,
   "id": "ddc92162",
   "metadata": {},
   "outputs": [
    {
     "name": "stdout",
     "output_type": "stream",
     "text": [
      " change my director\n",
      "The my director change into mydir C:\\Users\\SANJEEV SRIDEVI\\python, data science, machine learning\\week 6\\mydir\n"
     ]
    }
   ],
   "source": [
    "import os\n",
    "print(' change my director')\n",
    "os.chdir('mydir')\n",
    "print('The my director change into mydir',os.getcwd())\n"
   ]
  },
  {
   "cell_type": "code",
   "execution_count": 8,
   "id": "e20e721b",
   "metadata": {},
   "outputs": [
    {
     "name": "stdout",
     "output_type": "stream",
     "text": [
      "change back to the parent directory....\n",
      "the current working directory called   C:\\Users\\SANJEEV SRIDEVI\\python, data science, machine learning\\week 6\n"
     ]
    }
   ],
   "source": [
    "print('change back to the parent directory....')\n",
    "os.chdir('..')\n",
    "print(\"the current working directory called  \", os.getcwd())"
   ]
  },
  {
   "cell_type": "code",
   "execution_count": 6,
   "id": "6593d6ef",
   "metadata": {},
   "outputs": [
    {
     "name": "stdout",
     "output_type": "stream",
     "text": [
      "the contents in the directory\n",
      "Remove my  diretory\n",
      "None\n",
      "After deleting my dir: contents of my dir are\n",
      "['.ipynb_checkpoints', 'Data_type.txt', 'Data_type1.txt', 'math.py', 'messages.txt', 'messages1.txt', 'mymath.py', 'note.txt', 'text.txt', 'Untitled.ipynb', 'week 6.ipynb', '__pycache__']\n"
     ]
    }
   ],
   "source": [
    "import os\n",
    "print(\"the contents in the directory\")\n",
    "os.listdir()\n",
    "print('Remove my  diretory')\n",
    "print(os.rmdir('Untitled Folder'))\n",
    "print(\"After deleting my dir: contents of my dir are\")\n",
    "print(os.listdir())"
   ]
  },
  {
   "cell_type": "code",
   "execution_count": 30,
   "id": "3f66ee8a",
   "metadata": {},
   "outputs": [
    {
     "name": "stdout",
     "output_type": "stream",
     "text": [
      "Reading file:\n",
      "Hello world!\n",
      "Welcome to python\n",
      "This is vinay sai From mechanical engineering\n",
      "its a good day to proposal to pravali"
     ]
    }
   ],
   "source": [
    "print(\"Reading file:\")\n",
    "file_obj = open('messages.txt','r')\n",
    "\n",
    "lines = file_obj.readlines()\n",
    "\n",
    "for line in lines:\n",
    "    print(line,end = '')\n",
    "    \n",
    "file_obj.close()"
   ]
  },
  {
   "cell_type": "code",
   "execution_count": 33,
   "id": "77f68b35",
   "metadata": {},
   "outputs": [
    {
     "name": "stdout",
     "output_type": "stream",
     "text": [
      "Enter the name of the source file : messages.txt\n",
      "Enter the name of the destination file: messages1.txt\n"
     ]
    }
   ],
   "source": [
    "# file copy applications\n",
    "source_file = input(\"Enter the name of the source file : \")\n",
    "destination_file = input('Enter the name of the destination file: ')\n",
    "\n",
    "f1 = open(source_file,'r')\n",
    "f2 = open(destination_file,'w')\n",
    "\n",
    "while True:\n",
    "    data = f1.read(1)\n",
    "    if data == '':\n",
    "        break\n",
    "    f2.write(data)\n",
    "\n",
    "f1.close()\n",
    "f2.close()"
   ]
  },
  {
   "cell_type": "code",
   "execution_count": 34,
   "id": "b826b686",
   "metadata": {},
   "outputs": [
    {
     "name": "stdout",
     "output_type": "stream",
     "text": [
      "Enter the name of source file : messages.txt\n",
      "Enter the name of destination file: note.txt\n"
     ]
    }
   ],
   "source": [
    "# file append application\n",
    "source_file = input(\"Enter the name of source file : \")\n",
    "destination_file = input(\"Enter the name of destination file: \")\n",
    "\n",
    "f1 = open(source_file,'r')\n",
    "f2 = open(destination_file,'a')\n",
    "\n",
    "while True:\n",
    "    data = f1.read(1)\n",
    "    if data == '':\n",
    "        break\n",
    "    f2.write(data)\n",
    "\n",
    "f1.close()\n",
    "f2.close()"
   ]
  },
  {
   "cell_type": "code",
   "execution_count": 1,
   "id": "c6371ef0",
   "metadata": {},
   "outputs": [
    {
     "name": "stdout",
     "output_type": "stream",
     "text": [
      "\n",
      "::: Welcome to mymath modul fuctions::: \n",
      "Enter the value of first integer =4\n",
      "Enter the value of second integer =5\n",
      "sum of  4  and  5 is :  9\n",
      "multiplication of 4 and 5 is :  20\n",
      "subtract of 4 and 5 is :  -1\n",
      "divison of 4 and 5 is :  0.8\n",
      "modul of 4 and 5 is :  4\n"
     ]
    }
   ],
   "source": [
    "#create a module called mymath in a file is called my.math.py\n",
    "import mymath\n",
    "\n",
    "x = int(input(\"Enter the value of first integer =\"))\n",
    "y = int(input(\"Enter the value of second integer =\"))\n",
    "\n",
    "print('sum of ',x,' and ',y,'is : ',mymath.add(x,y))\n",
    "\n",
    "print(\"multiplication of\",x,\"and\",y,\"is : \",mymath.mult(x,y))\n",
    "\n",
    "print(\"subtract of\",x,\"and\",y,\"is : \",mymath.sub(x,y))\n",
    "\n",
    "print(\"divison of\",x,\"and\",y,\"is : \",mymath.div(x,y))\n",
    "\n",
    "print(\"modul of\",x,\"and\",y,\"is : \",mymath.mod(x,y))"
   ]
  },
  {
   "cell_type": "code",
   "execution_count": 3,
   "id": "43d875ca",
   "metadata": {},
   "outputs": [
    {
     "name": "stdout",
     "output_type": "stream",
     "text": [
      "The name of mymath modul is: mymath\n",
      "The docstring is mymath modul is :  This model implements the basic mathmatical operations\n",
      "the name of the file in which module my math is defined is :  C:\\Users\\SANJEEV SRIDEVI\\python, data science, machine learning\\week 6\\mymath.py\n"
     ]
    }
   ],
   "source": [
    "print(\"The name of mymath modul is:\",mymath.__name__)\n",
    "print('The docstring is mymath modul is : ',mymath.__doc__)\n",
    "print('the name of the file in which module my math is defined is : ',mymath.__file__)"
   ]
  },
  {
   "cell_type": "code",
   "execution_count": 7,
   "id": "a17c772e",
   "metadata": {},
   "outputs": [
    {
     "name": "stdout",
     "output_type": "stream",
     "text": [
      "sys.version :  3.9.7 (default, Sep 16 2021, 16:59:28) [MSC v.1916 64 bit (AMD64)]\n",
      "sys.maxsize :  9223372036854775807\n",
      "sys.path    :  ['C:\\\\Users\\\\SANJEEV SRIDEVI\\\\python, data science, machine learning\\\\week 6', 'C:\\\\ProgramData\\\\Anaconda3\\\\python39.zip', 'C:\\\\ProgramData\\\\Anaconda3\\\\DLLs', 'C:\\\\ProgramData\\\\Anaconda3\\\\lib', 'C:\\\\ProgramData\\\\Anaconda3', '', 'C:\\\\ProgramData\\\\Anaconda3\\\\lib\\\\site-packages', 'C:\\\\ProgramData\\\\Anaconda3\\\\lib\\\\site-packages\\\\locket-0.2.1-py3.9.egg', 'C:\\\\ProgramData\\\\Anaconda3\\\\lib\\\\site-packages\\\\win32', 'C:\\\\ProgramData\\\\Anaconda3\\\\lib\\\\site-packages\\\\win32\\\\lib', 'C:\\\\ProgramData\\\\Anaconda3\\\\lib\\\\site-packages\\\\Pythonwin', 'C:\\\\ProgramData\\\\Anaconda3\\\\lib\\\\site-packages\\\\IPython\\\\extensions', 'C:\\\\Users\\\\SANJEEV SRIDEVI\\\\.ipython']\n",
      "sys.paltform:  win32\n"
     ]
    }
   ],
   "source": [
    "# acessing the properties of the system module\n",
    "import sys\n",
    "\n",
    "print('sys.version : ',sys.version)\n",
    "print('sys.maxsize : ',sys.maxsize)\n",
    "print('sys.path    : ',sys.path)\n",
    "print('sys.paltform: ',sys.platform)"
   ]
  },
  {
   "cell_type": "code",
   "execution_count": 11,
   "id": "d3f77b2d",
   "metadata": {},
   "outputs": [
    {
     "name": "stdout",
     "output_type": "stream",
     "text": [
      "Enter a string : vinay\n",
      "Enter a another string : pravali\n",
      "The string vinay length is 5\n",
      "The string pravali length is 7\n",
      "The string vinay and pravali are equal : False\n",
      "The string vinay and pravali are compact : vinaypravali\n",
      "Enter the value of first integer =12\n",
      "Enter the value of second integer =5\n",
      "sum of  12  and  5 is         :  17\n",
      "multiplication of 12 and 5 is :  60\n",
      "subtract of 12 and 5 is       :  7\n",
      "divison of 12 and 5 is        :  2.4\n",
      "modul of 12 and 5 is          :  2\n"
     ]
    }
   ],
   "source": [
    "import mypack.mystr as ms\n",
    "from mypack.mymath import *\n",
    "\n",
    "\n",
    "str1 = input(\"Enter a string : \")\n",
    "\n",
    "str2 = input(\"Enter a another string : \")\n",
    "\n",
    "print('The string',str1,\"length is\",ms.str_len(str1))\n",
    "\n",
    "print('The string',str2,'length is',ms.str_len(str2))\n",
    "\n",
    "print('The string',str1,'and',str2,'are equal :',ms.str_cmp(str1,str2))\n",
    "\n",
    "print('The string',str1,'and',str2,'are compact :',ms.str_cat(str1,str2))\n",
    "\n",
    "x = int(input(\"Enter the value of first integer =\"))\n",
    "\n",
    "y = int(input(\"Enter the value of second integer =\"))\n",
    "\n",
    "print('sum of ',x,' and ',y,'is         : ',mymath.add(x,y))\n",
    "\n",
    "print(\"multiplication of\",x,\"and\",y,\"is : \",mymath.mult(x,y))\n",
    "\n",
    "print(\"subtract of\",x,\"and\",y,\"is       : \",mymath.sub(x,y))\n",
    "\n",
    "print(\"divison of\",x,\"and\",y,\"is        : \",mymath.div(x,y))\n",
    "\n",
    "print(\"modul of\",x,\"and\",y,\"is          : \",mymath.mod(x,y))"
   ]
  },
  {
   "cell_type": "code",
   "execution_count": 13,
   "id": "5e453a19",
   "metadata": {},
   "outputs": [
    {
     "name": "stdout",
     "output_type": "stream",
     "text": [
      "Enter a string : level\n",
      "Enter a another string : level\n",
      "The string level length is 5\n",
      "The string level length is 5\n",
      "The string level and level are equal : True\n",
      "The string level and level are compact : levellevel\n",
      "Enter the value of first integer =12\n",
      "Enter the value of second integer =5\n",
      "sum of  12  and  5 is         :  17\n",
      "multiplication of 12 and 5 is :  60\n",
      "subtract of 12 and 5 is       :  7\n",
      "divison of 12 and 5 is        :  2.4\n",
      "modul of 12 and 5 is          :  2\n"
     ]
    }
   ],
   "source": [
    "import mypack.mystr as ms\n",
    "from mypack.mymath import add,sub\n",
    "\n",
    "\n",
    "str1 = input(\"Enter a string : \")\n",
    "\n",
    "str2 = input(\"Enter a another string : \")\n",
    "\n",
    "print('The string',str1,\"length is\",ms.str_len(str1))\n",
    "\n",
    "print('The string',str2,'length is',ms.str_len(str2))\n",
    "\n",
    "print('The string',str1,'and',str2,'are equal :',ms.str_cmp(str1,str2))\n",
    "\n",
    "print('The string',str1,'and',str2,'are compact :',ms.str_cat(str1,str2))\n",
    "\n",
    "x = int(input(\"Enter the value of first integer =\"))\n",
    "\n",
    "y = int(input(\"Enter the value of second integer =\"))\n",
    "\n",
    "print('sum of ',x,' and ',y,'is         : ',mymath.add(x,y))\n",
    "\n",
    "print(\"multiplication of\",x,\"and\",y,\"is : \",mymath.mult(x,y))\n",
    "\n",
    "print(\"subtract of\",x,\"and\",y,\"is       : \",mymath.sub(x,y))\n",
    "\n",
    "print(\"divison of\",x,\"and\",y,\"is        : \",mymath.div(x,y))\n",
    "\n",
    "print(\"modul of\",x,\"and\",y,\"is          : \",mymath.mod(x,y))"
   ]
  },
  {
   "cell_type": "code",
   "execution_count": 1,
   "id": "d420f2e7",
   "metadata": {},
   "outputs": [
    {
     "name": "stdout",
     "output_type": "stream",
     "text": [
      "\n",
      " :::The size of the file:::\n",
      "Enter the file name : messages.txt\n",
      "The file size is :  (114, 'bytes')\n"
     ]
    }
   ],
   "source": [
    "import mypack.myfile as mf \n",
    "\n",
    "file_name = input('Enter the file name : ')\n",
    "\n",
    "print('The file size is : ',mf.file_size(file_name))"
   ]
  },
  {
   "cell_type": "code",
   "execution_count": 2,
   "id": "97578484",
   "metadata": {},
   "outputs": [
    {
     "name": "stdout",
     "output_type": "stream",
     "text": [
      "Enter the file name : messages1.txt\n",
      "The file size is :  (117, 'bytes')\n"
     ]
    }
   ],
   "source": [
    "import mypack.myfile as mf \n",
    "\n",
    "file_name = input('Enter the file name : ')\n",
    "\n",
    "print('The file size is : ',mf.file_size(file_name))"
   ]
  },
  {
   "cell_type": "code",
   "execution_count": 3,
   "id": "6b616d55",
   "metadata": {},
   "outputs": [
    {
     "name": "stdout",
     "output_type": "stream",
     "text": [
      "Enter the file name : math.py\n",
      "The file size is :  (0, 'bytes')\n"
     ]
    }
   ],
   "source": [
    "import mypack.myfile as mf \n",
    "\n",
    "file_name = input('Enter the file name : ')\n",
    "\n",
    "print('The file size is : ',mf.file_size(file_name))"
   ]
  },
  {
   "cell_type": "code",
   "execution_count": 4,
   "id": "e02b597d",
   "metadata": {},
   "outputs": [
    {
     "name": "stdout",
     "output_type": "stream",
     "text": [
      "Enter the file name : mymath.py\n",
      "The file size is :  (263, 'bytes')\n"
     ]
    }
   ],
   "source": [
    "import mypack.myfile as mf \n",
    "\n",
    "file_name = input('Enter the file name : ')\n",
    "\n",
    "print('The file size is : ',mf.file_size(file_name))"
   ]
  },
  {
   "cell_type": "code",
   "execution_count": 7,
   "id": "e202b959",
   "metadata": {},
   "outputs": [
    {
     "name": "stdout",
     "output_type": "stream",
     "text": [
      "Enter the file name : myfile.py\n",
      "The file size is :  None\n"
     ]
    }
   ],
   "source": [
    "import mypack.myfile as mf \n",
    "\n",
    "file_name = input('Enter the file name : ')\n",
    "\n",
    "print('The file size is : ',mf.file_size(file_name))"
   ]
  },
  {
   "cell_type": "code",
   "execution_count": 8,
   "id": "e9876c36",
   "metadata": {},
   "outputs": [
    {
     "name": "stdout",
     "output_type": "stream",
     "text": [
      "Enter the file name : week 6.ipynb\n",
      "The file size is :  (19.896484375, 'KB')\n"
     ]
    }
   ],
   "source": [
    "import mypack.myfile as mf \n",
    "\n",
    "file_name = input('Enter the file name : ')\n",
    "\n",
    "print('The file size is : ',mf.file_size(file_name))"
   ]
  }
 ],
 "metadata": {
  "kernelspec": {
   "display_name": "Python 3 (ipykernel)",
   "language": "python",
   "name": "python3"
  },
  "language_info": {
   "codemirror_mode": {
    "name": "ipython",
    "version": 3
   },
   "file_extension": ".py",
   "mimetype": "text/x-python",
   "name": "python",
   "nbconvert_exporter": "python",
   "pygments_lexer": "ipython3",
   "version": "3.9.7"
  }
 },
 "nbformat": 4,
 "nbformat_minor": 5
}
