{
 "cells": [
  {
   "cell_type": "code",
   "execution_count": 1,
   "id": "cab555c2",
   "metadata": {},
   "outputs": [
    {
     "name": "stdout",
     "output_type": "stream",
     "text": [
      "hellohellohellohellohellohellohellohellohellohello\n"
     ]
    }
   ],
   "source": [
    "str1 = \"hello\"\n",
    "\n",
    "str = str1*10\n",
    "\n",
    "print(str)"
   ]
  },
  {
   "cell_type": "code",
   "execution_count": 16,
   "id": "cbfa5671",
   "metadata": {},
   "outputs": [
    {
     "name": "stdout",
     "output_type": "stream",
     "text": [
      "hi vinay\n",
      "star of the mechanical\n",
      "hello vinay sai\n",
      "          rangumudri\n",
      "          this is pravi\n",
      "\n"
     ]
    }
   ],
   "source": [
    "str2 = \"hi vinay\"\n",
    "str3 = \"star of the mechanical\"\n",
    "str4 = \"\"\"hello vinay sai\n",
    "          rangumudri\n",
    "          this is pravi\n",
    "\"\"\"\n",
    "\n",
    "print(str2)\n",
    "print(str3)\n",
    "print(str4)"
   ]
  },
  {
   "cell_type": "code",
   "execution_count": 20,
   "id": "4789bcde",
   "metadata": {},
   "outputs": [
    {
     "name": "stdout",
     "output_type": "stream",
     "text": [
      "ilove you pravlika\n"
     ]
    }
   ],
   "source": [
    "string_1 = \"ilove you \"\n",
    "string_2 = \"pravlika\"\n",
    "string_3 = string_1 + string_2\n",
    "\n",
    "print(string_3)"
   ]
  },
  {
   "cell_type": "code",
   "execution_count": 1,
   "id": "9b1a9ef5",
   "metadata": {},
   "outputs": [
    {
     "name": "stdout",
     "output_type": "stream",
     "text": [
      "hello world\n"
     ]
    }
   ],
   "source": [
    "print('hello '+'world')"
   ]
  },
  {
   "cell_type": "code",
   "execution_count": 6,
   "id": "22f904a5",
   "metadata": {},
   "outputs": [
    {
     "name": "stdout",
     "output_type": "stream",
     "text": [
      "hello vinay sai\n",
      "the length of the string_1 =  15\n"
     ]
    }
   ],
   "source": [
    "string_1 = \"hello vinay sai\"\n",
    "print(string_1)\n",
    "print(\"the length of the string_1 = \",len(string_1))"
   ]
  },
  {
   "cell_type": "code",
   "execution_count": 7,
   "id": "aedabf6d",
   "metadata": {},
   "outputs": [
    {
     "name": "stdout",
     "output_type": "stream",
     "text": [
      "hello vinay sai\n"
     ]
    }
   ],
   "source": [
    "print(string_1[:])"
   ]
  },
  {
   "cell_type": "code",
   "execution_count": 8,
   "id": "f922c00d",
   "metadata": {},
   "outputs": [
    {
     "name": "stdout",
     "output_type": "stream",
     "text": [
      "o\n"
     ]
    }
   ],
   "source": [
    "print(string_1[4])"
   ]
  },
  {
   "cell_type": "code",
   "execution_count": 9,
   "id": "21fec505",
   "metadata": {},
   "outputs": [
    {
     "name": "stdout",
     "output_type": "stream",
     "text": [
      "hello \n"
     ]
    }
   ],
   "source": [
    "print(string_1[:6])"
   ]
  },
  {
   "cell_type": "code",
   "execution_count": 10,
   "id": "90afc0a6",
   "metadata": {},
   "outputs": [
    {
     "name": "stdout",
     "output_type": "stream",
     "text": [
      "llo vinay sai\n"
     ]
    }
   ],
   "source": [
    "print(string_1[2:])"
   ]
  },
  {
   "cell_type": "code",
   "execution_count": 11,
   "id": "d0632466",
   "metadata": {},
   "outputs": [
    {
     "name": "stdout",
     "output_type": "stream",
     "text": [
      "llo vin\n"
     ]
    }
   ],
   "source": [
    "print(string[2:9])"
   ]
  },
  {
   "cell_type": "code",
   "execution_count": 14,
   "id": "8d1aaef5",
   "metadata": {},
   "outputs": [
    {
     "name": "stdout",
     "output_type": "stream",
     "text": [
      "vinu vinu vinu vinu vinu \n"
     ]
    }
   ],
   "source": [
    "str = 'vinu '*5\n",
    "print(str)"
   ]
  },
  {
   "cell_type": "code",
   "execution_count": 19,
   "id": "90c4cb70",
   "metadata": {},
   "outputs": [
    {
     "name": "stdout",
     "output_type": "stream",
     "text": [
      "#####################\n"
     ]
    }
   ],
   "source": [
    "str = '#' * 21\n",
    "print(str)"
   ]
  },
  {
   "cell_type": "code",
   "execution_count": 29,
   "id": "496b05ed",
   "metadata": {},
   "outputs": [
    {
     "name": "stdout",
     "output_type": "stream",
     "text": [
      "string seperastion ['vinay', 'loves', 'pravalika']\n",
      "['vinay loves pravalika']\n",
      "['vinay loves pravalika']\n",
      "['vinay', 'loves', 'pravalika']\n"
     ]
    }
   ],
   "source": [
    "str1 = \"vinay loves pravalika\"\n",
    "print(\"string seperastion\",str1.split( ))\n",
    "print(str1.split('*'))\n",
    "print(str1.split(' # '))\n",
    "print(str1.split())"
   ]
  },
  {
   "cell_type": "code",
   "execution_count": 32,
   "id": "93611203",
   "metadata": {},
   "outputs": [
    {
     "name": "stdout",
     "output_type": "stream",
     "text": [
      "['we', 'are', 'indians,', 'we', 'love', 'our', 'country,', 'we', 'have', 'lot', 'of', 'peoples']\n"
     ]
    }
   ],
   "source": [
    "str2 = \"we are indians, we love our country, we have lot of peoples\"\n",
    "print(str2.split( ))"
   ]
  },
  {
   "cell_type": "code",
   "execution_count": 45,
   "id": "b2a6e01f",
   "metadata": {},
   "outputs": [
    {
     "name": "stdout",
     "output_type": "stream",
     "text": [
      "welcome, to the python, of new strings\n",
      "['welcome', ' to the python', ' of new strings']\n",
      "['welcome, to the python, of new strings']\n",
      "['welcome, to the python, of new strings']\n",
      "['welcome,', 'to', 'the', 'python,', 'of', 'new', 'strings']\n",
      "12\n",
      "4\n",
      "welcome, to the java, of new strings\n",
      "-1\n"
     ]
    }
   ],
   "source": [
    "str3 = 'welcome, to the python, of new strings'\n",
    "print(str3)\n",
    "print(str3.split(','))\n",
    "print(str3.split('.'))\n",
    "print(str3.split('#'))\n",
    "print(str3.split())\n",
    "\n",
    "\n",
    "print(str3.find('the'))\n",
    "\n",
    "print(str3.count('e'))\n",
    "\n",
    "print(str3.replace('python','java'))\n",
    "\n",
    "print(str3.find('java'))"
   ]
  },
  {
   "cell_type": "code",
   "execution_count": 65,
   "id": "6bfa39de",
   "metadata": {},
   "outputs": [
    {
     "name": "stdout",
     "output_type": "stream",
     "text": [
      "False\n",
      "True\n",
      "True\n",
      "False\n",
      "True\n",
      "True\n",
      "False\n",
      "True\n",
      "True\n",
      "False\n",
      "True\n",
      "False\n",
      "PRAVALIKA\n",
      "VINAY\n",
      "VINAY PRAVALIKA\n",
      "Pravalika\n",
      "pRAVALIKA\n"
     ]
    }
   ],
   "source": [
    "str1 = 'vinay'\n",
    "str2 = 'Pravalika'\n",
    "str3 = '12345688'\n",
    "\n",
    "print(str1 == str2)\n",
    "print(str1 != str2)\n",
    "\n",
    "print(str1.startswith('v'))\n",
    "print(str1.startswith('V'))\n",
    "print(str1.endswith('y'))\n",
    "print(str2.endswith('a'))\n",
    "print(str1.istitle())\n",
    "print(str2.istitle())\n",
    "print(str1.islower())\n",
    "print(str1.isupper())\n",
    "print(str1.isalpha())\n",
    "print(str3.isalpha())\n",
    "\n",
    "print(str2.upper())\n",
    "print(str1.upper())\n",
    "print(str1.upper() , str2.upper())\n",
    "\n",
    "print(str2.title())\n",
    "\n",
    "print(str2.swapcase())# if it is lower to became  an upper  if it is upper it became an lower"
   ]
  },
  {
   "cell_type": "markdown",
   "id": "239ab039",
   "metadata": {},
   "source": [
    "# markdown operations\n",
    "## ==, !=, <=, >= ,< >"
   ]
  },
  {
   "cell_type": "code",
   "execution_count": 75,
   "id": "77f5f787",
   "metadata": {},
   "outputs": [
    {
     "name": "stdout",
     "output_type": "stream",
     "text": [
      "False\n",
      "True\n",
      "True\n",
      "False\n",
      "True\n",
      "False\n"
     ]
    }
   ],
   "source": [
    "a = 10\n",
    "b = 20\n",
    "c = 30\n",
    "print( a > b)\n",
    "print( a < b)\n",
    "print( a != b)\n",
    "print(a == b)\n",
    "print( a<= b)\n",
    "print( a>= b)"
   ]
  },
  {
   "cell_type": "markdown",
   "id": "e285ba09",
   "metadata": {},
   "source": [
    "## logical relations \n",
    "### or and not"
   ]
  },
  {
   "cell_type": "code",
   "execution_count": 77,
   "id": "49a68e19",
   "metadata": {},
   "outputs": [
    {
     "name": "stdout",
     "output_type": "stream",
     "text": [
      "10 20 30\n",
      "False\n",
      "False\n",
      "True\n"
     ]
    }
   ],
   "source": [
    "c = 30\n",
    "print(a, b, c)\n",
    "print(a>b and a>c)\n",
    "print(a>b or a>c)\n",
    "print( not a>b)"
   ]
  },
  {
   "cell_type": "markdown",
   "id": "a06eed2e",
   "metadata": {},
   "source": [
    "# if operation"
   ]
  },
  {
   "cell_type": "code",
   "execution_count": 4,
   "id": "8be8392d",
   "metadata": {},
   "outputs": [
    {
     "name": "stdout",
     "output_type": "stream",
     "text": [
      "enter the value of digit :-52\n",
      "the enter value is -52 negitive\n",
      "the program completed\n"
     ]
    }
   ],
   "source": [
    "str = int(input(\"enter the value of digit :\"))\n",
    "\n",
    "if str > 0:\n",
    "    print(\"the enter value is\",str,\"positive\")\n",
    "elif str < 0:\n",
    "    print(\"the enter value is\",str,\"negitive\")\n",
    "else:\n",
    "    print(\"the enter value is\",str,\"whole number\")\n",
    "    \n",
    "print(\"the program completed\")"
   ]
  },
  {
   "cell_type": "code",
   "execution_count": 6,
   "id": "3a1efe16",
   "metadata": {},
   "outputs": [
    {
     "name": "stdout",
     "output_type": "stream",
     "text": [
      "enter the value of digit15\n",
      "the value of digit 15 odd\n"
     ]
    }
   ],
   "source": [
    "x = int(input(\"enter the value of digit\"))\n",
    "\n",
    "if x%2 == 0:\n",
    "    print(\"the value of digit\",x,\"even\")\n",
    "else:\n",
    "    print(\"the value of digit\",x,\"odd\")"
   ]
  },
  {
   "cell_type": "code",
   "execution_count": 7,
   "id": "b17242c6",
   "metadata": {},
   "outputs": [
    {
     "name": "stdout",
     "output_type": "stream",
     "text": [
      "enter the value of digit15\n",
      "enter the value of digit13\n",
      "the value of digiit 15 greater than or equal 13\n"
     ]
    }
   ],
   "source": [
    "x = int(input(\"enter the value of digit\"))\n",
    "y = int(input(\"enter the value of digit\"))\n",
    "\n",
    "if x >= y:\n",
    "    print(\"the value of digiit\",x,\"greater than or equal\",y)\n",
    "elif x <= y:\n",
    "    print(\"the value of digit\",x,\"less than or equal\",y)\n",
    "else:\n",
    "    print(\"the value of digit\",x,y,\"both are equal\")"
   ]
  },
  {
   "cell_type": "code",
   "execution_count": 9,
   "id": "06bb3838",
   "metadata": {},
   "outputs": [
    {
     "name": "stdout",
     "output_type": "stream",
     "text": [
      "enter the value of digit15\n",
      "enter the value of digit32\n",
      "the value of 15 lessthan or equal 32\n"
     ]
    }
   ],
   "source": [
    "x = int(input(\"enter the value of digit\"))\n",
    "y = int(input(\"enter the value of digit\"))\n",
    "\n",
    "if x==y:\n",
    "    print(\"the values are equal\",x,y)\n",
    "elif x>=y:\n",
    "    print*(\"the value of \",x,\"greater than or equal\",y)\n",
    "else:\n",
    "    if x <= y:\n",
    "        print(\"the value of\",x,\"lessthan or equal\",y)\n",
    "    else:\n",
    "        print(\"the value of\",x,y,\"both are not equal\")"
   ]
  },
  {
   "cell_type": "code",
   "execution_count": 11,
   "id": "f48c02dd",
   "metadata": {},
   "outputs": [
    {
     "name": "stdout",
     "output_type": "stream",
     "text": [
      "enter the value of digit6\n",
      "enter the value of digit15\n",
      "the value of 6 lessthan or equal 15\n"
     ]
    }
   ],
   "source": [
    "x = int(input(\"enter the value of digit\"))\n",
    "y = int(input(\"enter the value of digit\"))\n",
    "\n",
    "if x==y and x <= 10:\n",
    "    print(\"the values are equal\",x,y)\n",
    "elif x>=y:\n",
    "    print*(\"the value of \",x,\"greater than or equal\",y)\n",
    "else:\n",
    "    if x <= y:\n",
    "        print(\"the value of\",x,\"lessthan or equal\",y)\n",
    "    else:\n",
    "        print(\"the value of\",x,y,\"both are not equal\")"
   ]
  },
  {
   "cell_type": "code",
   "execution_count": 19,
   "id": "d901bf65",
   "metadata": {},
   "outputs": [
    {
     "name": "stdout",
     "output_type": "stream",
     "text": [
      "enter the value of digit5\n",
      "it is single digit\n"
     ]
    }
   ],
   "source": [
    "x = int(input(\"enter the value of digit\"))\n",
    "if x >0:\n",
    "    if x<10:\n",
    "        print(\"it is single digit\")"
   ]
  },
  {
   "cell_type": "code",
   "execution_count": 21,
   "id": "532576dc",
   "metadata": {},
   "outputs": [
    {
     "name": "stdout",
     "output_type": "stream",
     "text": [
      "enter the value of digit5\n",
      "it is single digit\n"
     ]
    }
   ],
   "source": [
    "x = int(input(\"enter the value of digit\"))\n",
    "if x >0 and x<10:\n",
    "    print(\"it is single digit\")"
   ]
  },
  {
   "cell_type": "code",
   "execution_count": 26,
   "id": "b1759d7d",
   "metadata": {},
   "outputs": [
    {
     "name": "stdout",
     "output_type": "stream",
     "text": [
      "enter a charecter= vinnu\n",
      "the enter word is charecter\n",
      "the character is lower\n"
     ]
    }
   ],
   "source": [
    "chr = input(\"enter a charecter= \")\n",
    "\n",
    "if chr.isalpha():\n",
    "    print(\"the enter word is charecter\")\n",
    "    if chr.islower():\n",
    "        print(\"the character is lower\")\n",
    "    else:\n",
    "        print(\"the character is upper\")"
   ]
  },
  {
   "cell_type": "code",
   "execution_count": 30,
   "id": "5b94fb63",
   "metadata": {},
   "outputs": [
    {
     "name": "stdout",
     "output_type": "stream",
     "text": [
      "enter a charecter= vinnu\n",
      "the enter word is charecter\n",
      "the character is lower\n",
      "upper case VINNU\n"
     ]
    }
   ],
   "source": [
    "chr = input(\"enter a charecter= \")\n",
    "\n",
    "if chr.isalpha():\n",
    "    print(\"the enter word is charecter\")\n",
    "    if chr.islower():\n",
    "        print(\"the character is lower\")\n",
    "        if chr.upper():\n",
    "            print(\"upper case\",chr.upper())\n",
    "            "
   ]
  },
  {
   "cell_type": "code",
   "execution_count": 35,
   "id": "12fcc2c1",
   "metadata": {},
   "outputs": [
    {
     "name": "stdout",
     "output_type": "stream",
     "text": [
      "enter a charecter=  \n",
      "the charecter is space\n"
     ]
    }
   ],
   "source": [
    "chr = input(\"enter a charecter= \")\n",
    "\n",
    "if chr.isalpha():\n",
    "    print(\"the enter word is charecter\")\n",
    "    if chr.islower():\n",
    "        print(\"the character is lower\")\n",
    "    elif chr.isupper():\n",
    "        print(\"the charater is upper\")\n",
    "elif chr.isdigit():\n",
    "    print(\"the charater is digit\")\n",
    "elif chr.isspace():\n",
    "    print(\"the charecter is space\")\n",
    "else:\n",
    "    print(\"the charater not let\")"
   ]
  },
  {
   "cell_type": "code",
   "execution_count": 4,
   "id": "54da9b45",
   "metadata": {},
   "outputs": [
    {
     "name": "stdout",
     "output_type": "stream",
     "text": [
      "enter the month you will get the number of dates in that month: February\n",
      "enter the year leap (yes or no) = yes\n",
      "the February is leap year having 28days\n"
     ]
    }
   ],
   "source": [
    "month = input('enter the month you will get the number of dates in that month: ')\n",
    "\n",
    "if month =='January' or month =='March' or month =='May' or month =='July' or month =='August' or month == 'October' or month =='December':\n",
    "    print(\"the\",month,\"having 31 days\")\n",
    "elif month =='April' or month =='June' or month =='July' or month =='September' or month =='November':\n",
    "    print(\"the\",month,\"having 30days\")\n",
    "else:\n",
    "    year = input('enter the year leap (yes or no) = ')\n",
    "    if month =='February' or year == yes:\n",
    "        print(\"the\",month,\"is leap year having 28days\")\n",
    "    elif month =='February' or year == no:\n",
    "        print(\"the\",month,\"is not leap year having 29days\")\n",
    "    else:\n",
    "        print(\"hence month is invalid\")"
   ]
  },
  {
   "cell_type": "code",
   "execution_count": 6,
   "id": "7eedd7c2",
   "metadata": {},
   "outputs": [
    {
     "name": "stdout",
     "output_type": "stream",
     "text": [
      "enter the month you will get the season: december\n",
      "the december is winter season\n"
     ]
    }
   ],
   "source": [
    "month = input('enter the month you will get the season: ')\n",
    "\n",
    "if month == 'march' or month == 'april' or month == 'may' or month == 'june':\n",
    "    print(\"the\",month,\"is summer season\")\n",
    "elif month == 'july' or month == 'august' or month == 'september' or month == 'october':\n",
    "    print(\"the\",month,\"is rainy season\")\n",
    "elif month == 'november' or month == 'december' or month == 'january' or month == 'february':\n",
    "    print('the',month,\"is winter season\")\n",
    "else:\n",
    "    print('month is invalid! please check it')"
   ]
  },
  {
   "cell_type": "code",
   "execution_count": 8,
   "id": "7927e846",
   "metadata": {},
   "outputs": [
    {
     "name": "stdout",
     "output_type": "stream",
     "text": [
      "enter the value of first digit: 10\n",
      "enter the value of second digit: 20\n",
      "enter the value of third digit: 30\n",
      "the value of 30 is greater than the 10 20\n"
     ]
    }
   ],
   "source": [
    "x = int(input('enter the value of first digit: '))\n",
    "y = int(input(\"enter the value of second digit: \"))\n",
    "z = int(input('enter the value of third digit: '))\n",
    "\n",
    "if x>y and x>z:\n",
    "    print(\"the value of\",x,\"is greater than the\",y,z)\n",
    "elif y>x and y>z:\n",
    "    print(\"the value of\",y,\"is greater than the\",x,z)\n",
    "else:\n",
    "    print(\"the value of\",z,\"is greater than the\",x,y)"
   ]
  },
  {
   "cell_type": "code",
   "execution_count": null,
   "id": "e3e389bf",
   "metadata": {},
   "outputs": [],
   "source": []
  }
 ],
 "metadata": {
  "kernelspec": {
   "display_name": "Python 3 (ipykernel)",
   "language": "python",
   "name": "python3"
  },
  "language_info": {
   "codemirror_mode": {
    "name": "ipython",
    "version": 3
   },
   "file_extension": ".py",
   "mimetype": "text/x-python",
   "name": "python",
   "nbconvert_exporter": "python",
   "pygments_lexer": "ipython3",
   "version": "3.9.7"
  }
 },
 "nbformat": 4,
 "nbformat_minor": 5
}
