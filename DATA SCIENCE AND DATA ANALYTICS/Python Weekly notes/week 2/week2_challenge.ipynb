{
 "cells": [
  {
   "cell_type": "markdown",
   "id": "cc85610b",
   "metadata": {},
   "source": [
    "### 1. Demonstrate how to create simple and multi-line strings, and check whether a string can change after its creation"
   ]
  },
  {
   "cell_type": "code",
   "execution_count": 9,
   "id": "f8238f21",
   "metadata": {},
   "outputs": [
    {
     "name": "stdout",
     "output_type": "stream",
     "text": [
      "The first string is:  hello world\n",
      "the second string is:  welcome\n",
      "          to\n",
      "          python programing     \n",
      "          \n"
     ]
    }
   ],
   "source": [
    "str1 = 'hello world' #simple string\n",
    "str2 = \"\"\"welcome\n",
    "          to\n",
    "          python programing     \n",
    "          \"\"\"                #multi-line string \n",
    "\n",
    "print(\"The first string is: \",str1)\n",
    "print(\"the second string is: \",str2)"
   ]
  },
  {
   "cell_type": "markdown",
   "id": "85466421",
   "metadata": {},
   "source": [
    "### 2. For a given string \"Hello World!\", extract the following:\n",
    "### a. HW\n",
    "### b.oo\n",
    "### c. llorld\n",
    "### d. !dlrow olleH\n",
    "### e. World!\n",
    "### f. Hello"
   ]
  },
  {
   "cell_type": "code",
   "execution_count": 32,
   "id": "cadcb94a",
   "metadata": {},
   "outputs": [
    {
     "name": "stdout",
     "output_type": "stream",
     "text": [
      "H W\n",
      "o o\n",
      "llorld\n",
      "!dlroW olleH\n",
      "World!\n",
      "Hello\n"
     ]
    }
   ],
   "source": [
    "str1 = \"Hello World!\"\n",
    "\n",
    "print(str1[0],str1[6])\n",
    "print(str1[4],str1[7])\n",
    "\n",
    "str = str1[2:5]+str1[8:11]\n",
    "\n",
    "print(str)\n",
    "print(str1[::-1])\n",
    "print(str1[6:12])\n",
    "print(str1[:5])"
   ]
  },
  {
   "cell_type": "markdown",
   "id": "f0402598",
   "metadata": {},
   "source": [
    "### 3. For the following strings, determine which contain only alphabets, only digits, alphanumeric, which are in lowercase, and which are in uppercase. Also check whether str3 begins or ends with the word \"Now\".\n",
    "##### str1 = \"Wellcome\"\n",
    "##### str2 = \"Hello World!\"\n",
    "##### str3 = \"Now is the best time ever!\"\n",
    "##### str4 = \"500017\"\n",
    "##### str5 = \"IPhone 6\""
   ]
  },
  {
   "cell_type": "code",
   "execution_count": 40,
   "id": "70e11495",
   "metadata": {},
   "outputs": [
    {
     "name": "stdout",
     "output_type": "stream",
     "text": [
      "string_1: True False True False False\n",
      "string_2: False False False False False\n",
      "string_3: False False False False False\n",
      "string_4: False True True False False\n",
      "string_5: False False False False False\n",
      "string_3: True False\n"
     ]
    }
   ],
   "source": [
    "str1 = \"Wellcome\"\n",
    "str2 = \"Hello World!\"\n",
    "str3 = \"Now is the best time ever!\"\n",
    "str4 = \"500017\"\n",
    "str5 = \"IPhone 6\"\n",
    "                  # alphabets       digits       alphanumeric    lowercase      uppercase      \n",
    "print(\"string_1:\",str1.isalpha(),str1.isdigit(),str1.isalnum(),str1.islower(),str1.isupper())\n",
    "print(\"string_2:\",str2.isalpha(),str2.isdigit(),str2.isalnum(),str2.islower(),str2.isupper())\n",
    "print(\"string_3:\",str3.isalpha(),str3.isdigit(),str3.isalnum(),str3.islower(),str3.isupper())\n",
    "print(\"string_4:\",str4.isalpha(),str4.isdigit(),str4.isalnum(),str4.islower(),str4.isupper())\n",
    "print(\"string_5:\",str5.isalpha(),str5.isdigit(),str5.isalnum(),str5.islower(),str5.isupper())\n",
    "\n",
    "                   # startswith            #endswith\n",
    "print(\"string_3:\",str3.startswith(\"Now\"),str3.endswith(\"Now\"))"
   ]
  },
  {
   "cell_type": "markdown",
   "id": "b9b1d2e1",
   "metadata": {},
   "source": [
    "### 4. Accept a sentence from the user. Convert the case of the input into title case"
   ]
  },
  {
   "cell_type": "code",
   "execution_count": 41,
   "id": "3ff7e39b",
   "metadata": {},
   "outputs": [
    {
     "name": "stdout",
     "output_type": "stream",
     "text": [
      "Enter a sentence:good mottos for children\n",
      "Good Mottos For Children\n"
     ]
    }
   ],
   "source": [
    "chr = input(\"Enter a sentence:\")\n",
    "\n",
    "print(chr.title())"
   ]
  },
  {
   "cell_type": "markdown",
   "id": "5014201a",
   "metadata": {},
   "source": [
    "### 5. Write a program that reads an integer from the user. Then your program should display a message indicating whether the integer is even or odd."
   ]
  },
  {
   "cell_type": "code",
   "execution_count": 43,
   "id": "c7f68b21",
   "metadata": {},
   "outputs": [
    {
     "name": "stdout",
     "output_type": "stream",
     "text": [
      "Enter a number:15\n",
      "The number 15 is odd integer\n"
     ]
    }
   ],
   "source": [
    "num = int(input(\"Enter a number:\"))\n",
    "\n",
    "if num%2 == 0: #condition even or odd integer\n",
    "    print(\"the number\",num,\"is even integer\")\n",
    "else:\n",
    "    print(\"The number\",num,\"is odd integer\")"
   ]
  },
  {
   "cell_type": "markdown",
   "id": "0a045bf5",
   "metadata": {},
   "source": [
    "### 6. Create a program that reads a letter of the alphabet from the user. If the user enters a, e, i, o or u then your program should display a message indicating that the entered letter is a vowel. Otherwise, the program should display a message that the entered letter is a consonant"
   ]
  },
  {
   "cell_type": "code",
   "execution_count": 60,
   "id": "4c36d990",
   "metadata": {},
   "outputs": [
    {
     "name": "stdout",
     "output_type": "stream",
     "text": [
      "Enter an alphabet:v\n",
      "The letter v is a consonant\n"
     ]
    }
   ],
   "source": [
    "al = input(\"Enter an alphabet:\")\n",
    "\n",
    "if al == 'a' or al == 'e' or al == 'i' or all == 'o' or al == 'u':\n",
    "    print(\"The letter\",al,\"is a vowel\")\n",
    "elif al == 'b' or al == 'c' or al == 'd' or al == 'f' or al == 'g' or al == 'h' or al == 'j' or al == 'k' or al == 'l' or al == 'm' or al == 'n' or al == 'p' or al == 'q' or al == 'r' or al == 's' or all == 't' or al == 'v' or al == 'w' or al == 'x' or al == 'y' or al == 'z':\n",
    "    print(\"The letter\",al,\"is a consonant\")\n",
    "else:\n",
    "    (\"The letter is not a alphabet\")"
   ]
  },
  {
   "cell_type": "markdown",
   "id": "5e13f5eb",
   "metadata": {},
   "source": [
    "### 7. The length of a month varies from 28 to 31 days. Create a program that reads the name of a month from the user as a string. Then your program should display the number of days in that month. Display “28 or 29 days” for February so that leap years is addressed"
   ]
  },
  {
   "cell_type": "code",
   "execution_count": 1,
   "id": "aee4eb4c",
   "metadata": {},
   "outputs": [
    {
     "name": "stdout",
     "output_type": "stream",
     "text": [
      "enter the month you will get the number of dates in that month: February\n",
      "enter the year leap (yes or no) = yes\n",
      "the February is leap year having 28days\n"
     ]
    }
   ],
   "source": [
    "month = input('enter the month you will get the number of dates in that month: ')\n",
    "\n",
    "if month =='January' or month =='March' or month =='May' or month =='July' or month =='August' or month == 'October' or month =='December':\n",
    "    print(\"the\",month,\"having 31 days\")\n",
    "elif month =='April' or month =='June' or month =='July' or month =='September' or month =='November':\n",
    "    print(\"the\",month,\"having 30days\")\n",
    "else:\n",
    "    year = input('enter the year leap (yes or no) = ')\n",
    "    if month =='February' or year == yes:\n",
    "        print(\"the\",month,\"is leap year having 28days\")\n",
    "    elif month =='February' or year == no:\n",
    "        print(\"the\",month,\"is not leap year having 29days\")\n",
    "    else:\n",
    "        print(\"hence month is invalid\")"
   ]
  },
  {
   "cell_type": "code",
   "execution_count": 2,
   "id": "fea9047f",
   "metadata": {},
   "outputs": [
    {
     "name": "stdout",
     "output_type": "stream",
     "text": [
      "enter the month you will get the number of dates in that month: February\n",
      "The February having 28 or 29days is leap year\n"
     ]
    }
   ],
   "source": [
    "month = input('enter the month you will get the number of dates in that month: ')\n",
    "\n",
    "if month =='January' or month =='March' or month =='May' or month =='July' or month =='August' or month == 'October' or month =='December':\n",
    "    print(\"the\",month,\"having 31 days\")\n",
    "elif month =='April' or month =='June' or month =='July' or month =='September' or month =='November':\n",
    "    print(\"the\",month,\"having 30days\")\n",
    "elif month =='February':\n",
    "    print(\"The\",month,\"having 28 or 29days is leap year\")\n",
    "else:\n",
    "    print(\"hence month is invalid\")"
   ]
  },
  {
   "cell_type": "markdown",
   "id": "31387e6e",
   "metadata": {},
   "source": [
    "### 8. A triangle can be classified based on the lengths of its sides as equilateral, isosceles or scalene. All 3 sides of an equilateral triangle have the same length. An isosceles triangle has two sides that are the same length, and a third side that is a different length. If all of the sides have different lengths then the triangle is scalene. Write a program that reads the lengths of 3 sides of a triangle from the user. Display a message indicating the type of the triangle."
   ]
  },
  {
   "cell_type": "code",
   "execution_count": 4,
   "id": "2372846a",
   "metadata": {},
   "outputs": [
    {
     "name": "stdout",
     "output_type": "stream",
     "text": [
      "Enter the value of side_1 =85 \n",
      "Enter the value of side_2 =5\n",
      "Enter the value of side_3 =5\n",
      "two sides are equal, one side not equal = Isosceles Triangle \n"
     ]
    }
   ],
   "source": [
    "s1 = int(input(\"Enter the value of side_1 =\"))\n",
    "s2 = int(input(\"Enter the value of side_2 =\"))\n",
    "s3 = int(input(\"Enter the value of side_3 =\"))\n",
    "\n",
    "if s1 == s2 == s3:\n",
    "    print(\"All sides are equal = Equilateral Triangle\")\n",
    "elif s1 == s2 !=s3 or s1 == s3 != s2 or s2 == s3 != s1:\n",
    "    print(\"two sides are equal, one side not equal = Isosceles Triangle \")\n",
    "#elif s1 != s2 != s3\n",
    "else:                                                        \n",
    "    print(\"the three sides are differet = Scalene Triangle\")"
   ]
  },
  {
   "cell_type": "code",
   "execution_count": 6,
   "id": "0b1b8d78",
   "metadata": {},
   "outputs": [
    {
     "name": "stdout",
     "output_type": "stream",
     "text": [
      "Enter the value of side_1 =5\n",
      "Enter the value of side_2 =96\n",
      "Enter the value of side_3 =6\n",
      "the three sides are differet = Scalene Triangle\n"
     ]
    }
   ],
   "source": [
    "s1 = int(input(\"Enter the value of side_1 =\"))\n",
    "s2 = int(input(\"Enter the value of side_2 =\"))\n",
    "s3 = int(input(\"Enter the value of side_3 =\"))\n",
    "\n",
    "if s1 == s2 == s3:\n",
    "    print(\"All sides are equal = Equilateral Triangle\")\n",
    "elif s1 == s2 !=s3 or s1 == s3 != s2 or s2 == s3 != s1:\n",
    "    print(\"two sides are equal, one side not equal = Isosceles Triangle \")\n",
    "elif s1 != s2 != s3:\n",
    "    print(\"the three sides are differet = Scalene Triangle\")\n",
    "else:                                                        \n",
    "    print(\"Enter invalid in digits\")"
   ]
  },
  {
   "cell_type": "markdown",
   "id": "683af59e",
   "metadata": {},
   "source": [
    "### The rules for determining whether or not a year is a leap year follow:\n",
    "##### Any year that is divisible by 400 is a leap year.\n",
    "##### Of the remaining years, any year that is divisible by 100 is not a leap year.\n",
    "##### Of the remaining years, any year that is divisible by 4 is a leap year.\n",
    "##### All other years are not leap years. \n",
    "#### Write a program that reads a year from the user and displays a message indicating whether or not it is a leap year"
   ]
  },
  {
   "cell_type": "code",
   "execution_count": 25,
   "id": "7997c5bb",
   "metadata": {},
   "outputs": [
    {
     "name": "stdout",
     "output_type": "stream",
     "text": [
      "Enter a yaer = 1263\n",
      "the 1263 not leap year\n"
     ]
    }
   ],
   "source": [
    "year = int(input(\"Enter a yaer = \"))\n",
    "\n",
    "if year%400 == 0:\n",
    "    print(\"The\",year,\"is leap year\")\n",
    "elif year%100 == 0:\n",
    "    print(\"The\",year,\"is not leap year\")\n",
    "elif year%4 == 0:\n",
    "    print(\"The\",year,\"is leap year\")\n",
    "else:\n",
    "    print(\"the\",year,\"not leap year\")"
   ]
  },
  {
   "cell_type": "markdown",
   "id": "d4db602a",
   "metadata": {},
   "source": [
    "### 10. Write a program that computes the real roots of a quadratic function. Your program should begin by prompting the user for the values of a, b and c. Then it should display a message indicating the number of real roots, along with the values of the real roots (if any)."
   ]
  },
  {
   "cell_type": "code",
   "execution_count": 6,
   "id": "f3313b9a",
   "metadata": {},
   "outputs": [
    {
     "name": "stdout",
     "output_type": "stream",
     "text": [
      "general form: ax**2+b*x+c\n",
      "Enter a(a!=0):4\n",
      "Enter b:5\n",
      "Enter c:3\n",
      " the first is imaginary not real: (-0.625-0.5994789404140899j)\n",
      " the second is imaginary not real: (-0.625+0.5994789404140899j)\n",
      "the number of real roots are: 0\n"
     ]
    }
   ],
   "source": [
    "print(\"general form: ax**2+b*x+c\")\n",
    "a = int(input('Enter a(a!=0):'))  \n",
    "b = int(input('Enter b:'))  \n",
    "c = int(input('Enter c:')) \n",
    "d = (b**2)- (4 * a * c)\n",
    "sol1 = (-b-(d**(1/2)))/(2*a)\n",
    "sol2 = (-b+(d**(1/2)))/(2*a)\n",
    "cntr = 0\n",
    "if type(sol1) == int: \n",
    "        print(\" the first root is distict and real roots1: \",sol1) \n",
    "        cntr+=1\n",
    "elif type(sol1) == float: \n",
    "        print(\" the first root is distict and real roots1: \",sol1)  \n",
    "        cntr+=1\n",
    "else:\n",
    "        print(\" the first is imaginary not real:\",sol1) \n",
    "        \n",
    "if type(sol2) == int:\n",
    "        print(\" the second root is distict and real roots2: \",sol2) \n",
    "        cntr+=1\n",
    "elif type(sol2) == float: \n",
    "        print(\" the second root is distict and real roots2: \",sol2)  \n",
    "        cntr+=1\n",
    "else:\n",
    "        print(\" the second is imaginary not real:\",sol2) \n",
    "print(\"the number of real roots are:\",cntr)"
   ]
  }
 ],
 "metadata": {
  "kernelspec": {
   "display_name": "Python 3 (ipykernel)",
   "language": "python",
   "name": "python3"
  },
  "language_info": {
   "codemirror_mode": {
    "name": "ipython",
    "version": 3
   },
   "file_extension": ".py",
   "mimetype": "text/x-python",
   "name": "python",
   "nbconvert_exporter": "python",
   "pygments_lexer": "ipython3",
   "version": "3.9.7"
  }
 },
 "nbformat": 4,
 "nbformat_minor": 5
}
