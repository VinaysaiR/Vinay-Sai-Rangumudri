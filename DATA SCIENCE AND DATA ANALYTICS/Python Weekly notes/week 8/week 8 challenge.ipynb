{
 "cells": [
  {
   "cell_type": "markdown",
   "id": "e166c496",
   "metadata": {},
   "source": [
    "### Q1 -- Write a program that accepts two integers and displays the result of dividing the first number by the second number. It should raise ZeroDivisionError if the denominator is zero."
   ]
  },
  {
   "cell_type": "code",
   "execution_count": 1,
   "id": "834b3a02",
   "metadata": {},
   "outputs": [
    {
     "name": "stdout",
     "output_type": "stream",
     "text": [
      "Enter the first integer : 6\n",
      "Enter the second integer : 0\n",
      "----------------------------------------\n",
      "Zero division error in runcalc function\n"
     ]
    }
   ],
   "source": [
    "x = int(input(\"Enter the first integer : \"))\n",
    "y = int(input(\"Enter the second integer : \"))\n",
    "def runcalc(x,y):\n",
    "    x/y\n",
    "try:\n",
    "    runcalc(x,y)\n",
    "    print(\"Function no error\")\n",
    "except ZeroDivisionError:\n",
    "    print('-'*40)\n",
    "    print(\"Zero division error in runcalc function\")"
   ]
  },
  {
   "cell_type": "markdown",
   "id": "4b801fd5",
   "metadata": {},
   "source": [
    "### Q2 -- Implement the above program with the help of Assertion"
   ]
  },
  {
   "cell_type": "code",
   "execution_count": 2,
   "id": "2b0b76aa",
   "metadata": {},
   "outputs": [
    {
     "name": "stdout",
     "output_type": "stream",
     "text": [
      "enter the first number  :6\n",
      "enter the second number :2\n",
      "------------------------------\n",
      "the result is : 3.0\n"
     ]
    }
   ],
   "source": [
    "x = int(input('enter the first number  :'))\n",
    "y = int(input('enter the second number :'))\n",
    "assert y != 0, 'Denomenator should be zero'\n",
    "result = x/y\n",
    "print('-'*30)\n",
    "print('the result is :',result)"
   ]
  },
  {
   "cell_type": "code",
   "execution_count": 3,
   "id": "299d979c",
   "metadata": {
    "scrolled": true
   },
   "outputs": [
    {
     "name": "stdout",
     "output_type": "stream",
     "text": [
      "enter the first number :6\n",
      "enter the second number :0\n"
     ]
    },
    {
     "ename": "AssertionError",
     "evalue": "[ Denomenator should be zero ]",
     "output_type": "error",
     "traceback": [
      "\u001b[1;31m---------------------------------------------------------------------------\u001b[0m",
      "\u001b[1;31mAssertionError\u001b[0m                            Traceback (most recent call last)",
      "\u001b[1;32mC:\\Users\\SANJEE~1\\AppData\\Local\\Temp/ipykernel_16544/4180198544.py\u001b[0m in \u001b[0;36m<module>\u001b[1;34m\u001b[0m\n\u001b[0;32m      1\u001b[0m \u001b[0mx\u001b[0m \u001b[1;33m=\u001b[0m \u001b[0mint\u001b[0m\u001b[1;33m(\u001b[0m\u001b[0minput\u001b[0m\u001b[1;33m(\u001b[0m\u001b[1;34m'enter the first number :'\u001b[0m\u001b[1;33m)\u001b[0m\u001b[1;33m)\u001b[0m\u001b[1;33m\u001b[0m\u001b[1;33m\u001b[0m\u001b[0m\n\u001b[0;32m      2\u001b[0m \u001b[0my\u001b[0m \u001b[1;33m=\u001b[0m \u001b[0mint\u001b[0m\u001b[1;33m(\u001b[0m\u001b[0minput\u001b[0m\u001b[1;33m(\u001b[0m\u001b[1;34m'enter the second number :'\u001b[0m\u001b[1;33m)\u001b[0m\u001b[1;33m)\u001b[0m\u001b[1;33m\u001b[0m\u001b[1;33m\u001b[0m\u001b[0m\n\u001b[1;32m----> 3\u001b[1;33m \u001b[1;32massert\u001b[0m \u001b[0my\u001b[0m \u001b[1;33m!=\u001b[0m \u001b[1;36m0\u001b[0m\u001b[1;33m,\u001b[0m \u001b[1;34m'[ Denomenator should be zero ]'\u001b[0m\u001b[1;33m\u001b[0m\u001b[1;33m\u001b[0m\u001b[0m\n\u001b[0m\u001b[0;32m      4\u001b[0m \u001b[0mresult\u001b[0m \u001b[1;33m=\u001b[0m \u001b[0mx\u001b[0m\u001b[1;33m/\u001b[0m\u001b[0my\u001b[0m\u001b[1;33m\u001b[0m\u001b[1;33m\u001b[0m\u001b[0m\n\u001b[0;32m      5\u001b[0m \u001b[0mprint\u001b[0m\u001b[1;33m(\u001b[0m\u001b[1;34m'the result is :'\u001b[0m\u001b[1;33m,\u001b[0m\u001b[0mresult\u001b[0m\u001b[1;33m)\u001b[0m\u001b[1;33m\u001b[0m\u001b[1;33m\u001b[0m\u001b[0m\n",
      "\u001b[1;31mAssertionError\u001b[0m: [ Denomenator should be zero ]"
     ]
    }
   ],
   "source": [
    "x = int(input('enter the first number :'))\n",
    "y = int(input('enter the second number :'))\n",
    "assert y != 0, '[ Denomenator should be zero ]'\n",
    "result = x/y\n",
    "print('the result is :',result)"
   ]
  },
  {
   "cell_type": "markdown",
   "id": "8ad21b91",
   "metadata": {},
   "source": [
    "### Q3 -- Write a program that accepts n positive integers as input and prints their square. If a negative number is entered, then raise ValueError exception and display a relevant error message and make an exit."
   ]
  },
  {
   "cell_type": "code",
   "execution_count": 4,
   "id": "5a17b0d2",
   "metadata": {},
   "outputs": [],
   "source": [
    "class Square:\n",
    "    def __init__(self,l):\n",
    "        self._limit = l\n",
    "        self._val = 0\n",
    "        \n",
    "    #make this class  iterable\n",
    "    def __iter__(self):\n",
    "        return self\n",
    "    \n",
    "    #make this class an iterator\n",
    "    def __next__(self):\n",
    "        if self._val > self._limit:\n",
    "            raise StopIteration\n",
    "        else:\n",
    "            return_val = self._val*self._val\n",
    "            self._val += 1\n",
    "            return return_val"
   ]
  },
  {
   "cell_type": "code",
   "execution_count": 5,
   "id": "c0da0367",
   "metadata": {},
   "outputs": [
    {
     "name": "stdout",
     "output_type": "stream",
     "text": [
      "start the program ...\n",
      "Enter the only positive integer :36\n",
      "------------------------------------------------------------------------------------------------------------------------\n",
      "36 positive integers as input and prints their square.\n",
      "0 , 1 , 4 , 9 , 16 , 25 , 36 , 49 , 64 , 81 , 100 , 121 , 144 , 169 , 196 , 225 , 256 , 289 , 324 , 361 , 400 , 441 , 484 , 529 , 576 , 625 , 676 , 729 , 784 , 841 , 900 , 961 , 1024 , 1089 , 1156 , 1225 , 1296 , \n",
      " ------------------------------------------------------------------------------------------------------------------------\n",
      "End of this program\n"
     ]
    }
   ],
   "source": [
    "print('start the program ...')\n",
    "n = int(input('Enter the only positive integer :'))\n",
    "\n",
    "try:\n",
    "    if n <= 0:\n",
    "        raise ValueError()\n",
    "except ValueError as ve:\n",
    "    print('-'*60)\n",
    "    print('{ Value Error :- Not entered negetive number and zero }')\n",
    "    print('You have to Entered the positive number ')\n",
    "print('-'*120)\n",
    "print(n,\"positive integers as input and prints their square.\")\n",
    "for i in Square(n):\n",
    "    print(i,end=' , ')  \n",
    "print('\\n','-'*120)    \n",
    "print('End of this program')"
   ]
  },
  {
   "cell_type": "code",
   "execution_count": 6,
   "id": "bf6b2a04",
   "metadata": {},
   "outputs": [
    {
     "name": "stdout",
     "output_type": "stream",
     "text": [
      "start the program ...\n",
      "Enter the only positive integer :-12\n",
      "------------------------------------------------------------\n",
      "{ Value Error :- Not entered negetive number and zero }\n",
      "You have to Entered the positive number \n",
      "------------------------------------------------------------------------------------------------------------------------\n",
      "Negative number not valid, Enter a valid Positive Number\n",
      "\n",
      " ------------------------------------------------------------------------------------------------------------------------\n",
      "End of this program\n"
     ]
    }
   ],
   "source": [
    "print('start the program ...')\n",
    "n = int(input('Enter the only positive integer :'))\n",
    "\n",
    "try:\n",
    "    if n <= 0:\n",
    "        raise ValueError()\n",
    "except ValueError as ve:\n",
    "    print('-'*60)\n",
    "    print('{ Value Error :- Not entered negetive number and zero }')\n",
    "    print('You have to Entered the positive number ')\n",
    "print('-'*120)  \n",
    "for i in Square(n):\n",
    "    print(i,end=' , ')\n",
    "print('Negative number not valid, Enter a valid Positive Number')\n",
    "print('\\n','-'*120)    \n",
    "print('End of this program')"
   ]
  },
  {
   "cell_type": "markdown",
   "id": "2e06ef58",
   "metadata": {},
   "source": [
    "### Q4 -- Write a program that receives an integer as input and finds its factorial. If a non-integer input is entered, then report an error and accept the input again. Continue this process until correct input is entered."
   ]
  },
  {
   "cell_type": "code",
   "execution_count": 7,
   "id": "0698ec64",
   "metadata": {},
   "outputs": [
    {
     "name": "stdout",
     "output_type": "stream",
     "text": [
      "------------------------------------------------------------\n",
      "Enter the number : 4j\n",
      "user Entered the non-Integer value, put the valid integer value\n",
      "------------------------------------------------------------\n",
      "Enter the number : 5+6j\n",
      "user Entered the non-Integer value, put the valid integer value\n",
      "------------------------------------------------------------\n",
      "Enter the number : 4lakh\n",
      "user Entered the non-Integer value, put the valid integer value\n",
      "------------------------------------------------------------\n",
      "Enter the number : 5\n",
      "5 is the correct integer \n",
      "============================================================\n",
      "The factorial of  5  is :  120\n"
     ]
    }
   ],
   "source": [
    "def factorial(n):\n",
    "    fact = 1 \n",
    "    for i in range(n):\n",
    "        fact = fact * (i+1)\n",
    "    return fact\n",
    "\n",
    "while True:\n",
    "    try:\n",
    "        print('-'*60)\n",
    "        n = int(input('Enter the number : '))\n",
    "        if n == ValueError:\n",
    "            raise ValueError\n",
    "        break\n",
    "    except ValueError:\n",
    "        print('user Entered the non-Integer value, put the valid integer value')\n",
    "print(n,'is the correct integer ')\n",
    "print('='*60)\n",
    "print('The factorial of ',n,' is : ',factorial(n))"
   ]
  },
  {
   "cell_type": "markdown",
   "id": "6bf56e55",
   "metadata": {},
   "source": [
    "### Q5 -- Create an iterator that returns numbers, starting with 1, and each sequence will increase by one (returning 1,2,3,4,5 etc.):"
   ]
  },
  {
   "cell_type": "code",
   "execution_count": 8,
   "id": "5b7ccda8",
   "metadata": {},
   "outputs": [],
   "source": [
    "class sequence:\n",
    "    def __init__(self,l):\n",
    "        self._limit = l\n",
    "        self._val = 0\n",
    "        \n",
    "    #make this class  iterable\n",
    "    def __iter__(self):\n",
    "        return self\n",
    "    \n",
    "    #make this class an iterator\n",
    "    def __next__(self):\n",
    "        if self._val > self._limit:\n",
    "            raise StopIteration\n",
    "        else:\n",
    "            return_val = self._val\n",
    "            self._val += 1\n",
    "            return return_val"
   ]
  },
  {
   "cell_type": "code",
   "execution_count": 9,
   "id": "191e71c7",
   "metadata": {},
   "outputs": [
    {
     "name": "stdout",
     "output_type": "stream",
     "text": [
      "Enter a number = 9\n",
      "Start the program\n",
      "-------------------------\n",
      "0\n",
      "1\n",
      "2\n",
      "3\n",
      "4\n",
      "5\n",
      "6\n",
      "7\n",
      "8\n",
      "-------------------------\n",
      "Done\n"
     ]
    }
   ],
   "source": [
    "n = int(input('Enter a number = '))\n",
    "print('Start the program')\n",
    "print('-'*25)\n",
    "for i in sequence(8):\n",
    "    print(i)\n",
    "print('-'*25)\n",
    "print('Done')"
   ]
  },
  {
   "cell_type": "markdown",
   "id": "db9c2344",
   "metadata": {},
   "source": [
    "### Q6 -- Write a program that implements iterator class called Prime and which prints prime numbers up to n."
   ]
  },
  {
   "cell_type": "code",
   "execution_count": 10,
   "id": "c50bc83c",
   "metadata": {},
   "outputs": [],
   "source": [
    "class Prime:\n",
    "    def __init__(self,limit):\n",
    "        self.l=limit\n",
    "        self.val=2\n",
    "    def __iter__(self):\n",
    "        return self\n",
    "    def __next__(self):\n",
    "        if self.val>self.l:\n",
    "            raise StopIteration\n",
    "        else:\n",
    "            return_val=self.val\n",
    "            self.val+=1\n",
    "            return return_val"
   ]
  },
  {
   "cell_type": "code",
   "execution_count": 11,
   "id": "c1625a49",
   "metadata": {},
   "outputs": [
    {
     "name": "stdout",
     "output_type": "stream",
     "text": [
      "Enter the limit = 89\n",
      "------------------------------------------------------------------------------------------------------------------------\n",
      "Prime numbers :   2 ,3 ,5 ,7 ,11 ,13 ,17 ,19 ,23 ,29 ,31 ,37 ,41 ,43 ,47 ,53 ,59 ,61 ,67 ,71 ,73 ,79 ,83 ,89 ,"
     ]
    }
   ],
   "source": [
    "p = int(input('Enter the limit = '))\n",
    "print('-'*120)\n",
    "print(\"Prime numbers : \",end='  ')\n",
    "n = []\n",
    "for n in Prime(p):\n",
    "    for i in range(2,n):\n",
    "        if(n%i==0):\n",
    "            break\n",
    "    else:\n",
    "        print(n,end=' ,')"
   ]
  },
  {
   "cell_type": "markdown",
   "id": "0c5da817",
   "metadata": {},
   "source": [
    "### Q7 -- Define a class, Circle, which takes two arguments when defined — a sequence and a number. The idea is that the object will then return elements the defined number of times. If the number is greater than the number of elements, then the sequence repeats as necessary."
   ]
  },
  {
   "cell_type": "code",
   "execution_count": 12,
   "id": "70205839",
   "metadata": {},
   "outputs": [],
   "source": [
    "class Circle:\n",
    "    \n",
    "    def __init__(self,number,sequence):\n",
    "        self.limit = number\n",
    "        self.data = sequence\n",
    "        self.val = 0\n",
    "        \n",
    "    def __iter__(self):\n",
    "        return Circle(self.limit,self.data)\n",
    "    \n",
    "    def __next__(self):\n",
    "        if self.val >= self.limit:\n",
    "            raise StopIteration\n",
    "        else:\n",
    "            value = self.data[self.val % len(self.data)]\n",
    "            self.val += 1\n",
    "            return value"
   ]
  },
  {
   "cell_type": "code",
   "execution_count": 13,
   "id": "97bdbcc9",
   "metadata": {},
   "outputs": [
    {
     "name": "stdout",
     "output_type": "stream",
     "text": [
      "The object will then return elements the defined number of times:\n",
      " ----------------------------------------------------------------------\n",
      "1 , 2 , 3 , 4 , 5 , 1 , 2 , 3 , 4 , 5 , 1 , 2 , 3 , 4 , "
     ]
    }
   ],
   "source": [
    "print('The object will then return elements the defined number of times:\\n','-'*70)\n",
    "for i in Circle(14,[1,2,3,4,5]):\n",
    "    print(i,end=' , ')"
   ]
  },
  {
   "cell_type": "markdown",
   "id": "e7cfd293",
   "metadata": {},
   "source": [
    "### Q8 -- Write a Python program to demonstrate working of iterators using an example type that iterates from 10 to given value"
   ]
  },
  {
   "cell_type": "code",
   "execution_count": 14,
   "id": "d54797c0",
   "metadata": {},
   "outputs": [],
   "source": [
    "class x:\n",
    "    def __init__(self,limit):\n",
    "        self._limit=limit\n",
    "        self._val=10\n",
    "    def __iter__(self):\n",
    "        return self\n",
    "    def __next__(self):\n",
    "        if self._val>self._limit:\n",
    "            raise StopIteration\n",
    "        else:\n",
    "            return_val=self._val\n",
    "            self._val+=1\n",
    "            return return_val"
   ]
  },
  {
   "cell_type": "code",
   "execution_count": 15,
   "id": "b20b1a07",
   "metadata": {},
   "outputs": [
    {
     "name": "stdout",
     "output_type": "stream",
     "text": [
      "Enter the limit:40\n",
      "The numbers from 10 to 40 are:\n",
      "--------------------------------------------------\n",
      "10 11 12 13 14 15 16 17 18 19 20 21 22 23 24 25 26 27 28 29 30 31 32 33 34 35 36 37 38 39 40 "
     ]
    }
   ],
   "source": [
    "n=int(input('Enter the limit:'))\n",
    "print('The numbers from 10 to',n,'are:')\n",
    "print('-'*50)\n",
    "for i in x(n):\n",
    "    print(i,end=' ')"
   ]
  },
  {
   "cell_type": "markdown",
   "id": "046703e8",
   "metadata": {},
   "source": [
    "### Q9 -- Write a program to illustrate the concept of multiple decorators"
   ]
  },
  {
   "cell_type": "code",
   "execution_count": 16,
   "id": "dc5d3c64",
   "metadata": {},
   "outputs": [],
   "source": [
    "def start(func):\n",
    "    def inner(*args,**kwargs):\n",
    "        print('#~@~'*30)\n",
    "        func(*args,**kwargs)\n",
    "        print('#~@~'*30)\n",
    "        \n",
    "    return inner\n",
    "\n",
    "def mid(func):\n",
    "    def inner(*args,**kwargs):\n",
    "        print('%'*120)\n",
    "        func(*args,**kwargs)\n",
    "        print('%'*120)\n",
    "    return inner\n",
    "\n",
    "@start\n",
    "@mid\n",
    "def printer(value):\n",
    "    print(value)"
   ]
  },
  {
   "cell_type": "code",
   "execution_count": 17,
   "id": "1602c551",
   "metadata": {},
   "outputs": [
    {
     "name": "stdout",
     "output_type": "stream",
     "text": [
      "#~@~#~@~#~@~#~@~#~@~#~@~#~@~#~@~#~@~#~@~#~@~#~@~#~@~#~@~#~@~#~@~#~@~#~@~#~@~#~@~#~@~#~@~#~@~#~@~#~@~#~@~#~@~#~@~#~@~#~@~\n",
      "%%%%%%%%%%%%%%%%%%%%%%%%%%%%%%%%%%%%%%%%%%%%%%%%%%%%%%%%%%%%%%%%%%%%%%%%%%%%%%%%%%%%%%%%%%%%%%%%%%%%%%%%%%%%%%%%%%%%%%%%\n",
      "Hello World!, Welocme to Python programming\n",
      "%%%%%%%%%%%%%%%%%%%%%%%%%%%%%%%%%%%%%%%%%%%%%%%%%%%%%%%%%%%%%%%%%%%%%%%%%%%%%%%%%%%%%%%%%%%%%%%%%%%%%%%%%%%%%%%%%%%%%%%%\n",
      "#~@~#~@~#~@~#~@~#~@~#~@~#~@~#~@~#~@~#~@~#~@~#~@~#~@~#~@~#~@~#~@~#~@~#~@~#~@~#~@~#~@~#~@~#~@~#~@~#~@~#~@~#~@~#~@~#~@~#~@~\n",
      "#~@~#~@~#~@~#~@~#~@~#~@~#~@~#~@~#~@~#~@~#~@~#~@~#~@~#~@~#~@~#~@~#~@~#~@~#~@~#~@~#~@~#~@~#~@~#~@~#~@~#~@~#~@~#~@~#~@~#~@~\n",
      "%%%%%%%%%%%%%%%%%%%%%%%%%%%%%%%%%%%%%%%%%%%%%%%%%%%%%%%%%%%%%%%%%%%%%%%%%%%%%%%%%%%%%%%%%%%%%%%%%%%%%%%%%%%%%%%%%%%%%%%%\n",
      "This is the type of multiple Decorator\n",
      "%%%%%%%%%%%%%%%%%%%%%%%%%%%%%%%%%%%%%%%%%%%%%%%%%%%%%%%%%%%%%%%%%%%%%%%%%%%%%%%%%%%%%%%%%%%%%%%%%%%%%%%%%%%%%%%%%%%%%%%%\n",
      "#~@~#~@~#~@~#~@~#~@~#~@~#~@~#~@~#~@~#~@~#~@~#~@~#~@~#~@~#~@~#~@~#~@~#~@~#~@~#~@~#~@~#~@~#~@~#~@~#~@~#~@~#~@~#~@~#~@~#~@~\n"
     ]
    }
   ],
   "source": [
    "printer('Hello World!, Welocme to Python programming')\n",
    "printer('This is the type of multiple Decorator')"
   ]
  },
  {
   "cell_type": "markdown",
   "id": "6f337040",
   "metadata": {},
   "source": [
    "### Q10 -- Write a decorator called timer that calculates the time required to execute a function. Its wrapper function called calculates should take all the parameters that are passed to the decorated function"
   ]
  },
  {
   "cell_type": "code",
   "execution_count": 18,
   "id": "f29568c9",
   "metadata": {},
   "outputs": [],
   "source": [
    "import time\n",
    "def timer(func):\n",
    "    def calculate(*args,**kwargs):\n",
    "        start_time=time.perf_counter()\n",
    "        value = func(*args,**kwargs)\n",
    "        end_time = time.perf_counter()\n",
    "        runtime = end_time - start_time\n",
    "        print('Execution time   : {0:10.10f}secs'.format(runtime))\n",
    "        return value\n",
    "    return calculate\n",
    "@timer\n",
    "def factorial(n):\n",
    "    fact=1\n",
    "    for i in range(n):\n",
    "        fact=fact*(i+1)\n",
    "    return fact"
   ]
  },
  {
   "cell_type": "code",
   "execution_count": 19,
   "id": "b5c99439",
   "metadata": {},
   "outputs": [
    {
     "name": "stdout",
     "output_type": "stream",
     "text": [
      "enter the number : 6\n",
      "Execution time   : 0.0000039000secs\n",
      "The factorial is : 720\n"
     ]
    }
   ],
   "source": [
    "x = int(input('enter the number : '))\n",
    "print('The factorial is :',factorial(x))"
   ]
  }
 ],
 "metadata": {
  "kernelspec": {
   "display_name": "Python 3 (ipykernel)",
   "language": "python",
   "name": "python3"
  },
  "language_info": {
   "codemirror_mode": {
    "name": "ipython",
    "version": 3
   },
   "file_extension": ".py",
   "mimetype": "text/x-python",
   "name": "python",
   "nbconvert_exporter": "python",
   "pygments_lexer": "ipython3",
   "version": "3.9.7"
  }
 },
 "nbformat": 4,
 "nbformat_minor": 5
}
