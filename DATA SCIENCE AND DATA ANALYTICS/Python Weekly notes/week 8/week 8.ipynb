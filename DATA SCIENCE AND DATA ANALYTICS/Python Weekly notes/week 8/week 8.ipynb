{
 "cells": [
  {
   "cell_type": "markdown",
   "id": "f8ab3b97",
   "metadata": {},
   "source": [
    "## iterators"
   ]
  },
  {
   "cell_type": "code",
   "execution_count": 22,
   "id": "b36d59c6",
   "metadata": {},
   "outputs": [],
   "source": [
    "# program to implement an iterator called evens that return \n",
    "class Evens:\n",
    "    def __init__(self,l):\n",
    "        self._limit = l\n",
    "        self._val = 0\n",
    "        \n",
    "    #make this class  iterable\n",
    "    def __iter__(self):\n",
    "        return self\n",
    "    \n",
    "    #make this class an iterator\n",
    "    def __next__(self):\n",
    "        if self._val > self._limit:\n",
    "            raise StopIteration\n",
    "        else:\n",
    "            return_val = self._val\n",
    "            self._val += 2\n",
    "            return return_val"
   ]
  },
  {
   "cell_type": "code",
   "execution_count": 23,
   "id": "fbce57cc",
   "metadata": {},
   "outputs": [
    {
     "name": "stdout",
     "output_type": "stream",
     "text": [
      "Start\n",
      "i = 0,i = 2,i = 4,i = 6,i = 8,i = 10,i = 12,i = 14,i = 16,Done\n"
     ]
    }
   ],
   "source": [
    "print('Start')\n",
    "for i in Evens(16):\n",
    "    print(\"i =\",i,end = ',')\n",
    "print('Done')"
   ]
  },
  {
   "cell_type": "code",
   "execution_count": 30,
   "id": "6b916370",
   "metadata": {},
   "outputs": [],
   "source": [
    "class Evens:\n",
    "    def __init__(self,l):\n",
    "        self._limit = l\n",
    "        self._val = 0\n",
    "        \n",
    "    #make this class  iterable\n",
    "    def __iter__(self):\n",
    "        return self\n",
    "    \n",
    "    #make this class an iterator\n",
    "    def __next__(self):\n",
    "        if self._val > self._limit:\n",
    "            raise StopIteration\n",
    "        else:\n",
    "            return_val = self._val\n",
    "            self._val += 2\n",
    "            return return_val"
   ]
  },
  {
   "cell_type": "code",
   "execution_count": 34,
   "id": "45a8df88",
   "metadata": {},
   "outputs": [
    {
     "name": "stdout",
     "output_type": "stream",
     "text": [
      "Start\n",
      "i = 0\n",
      "i = 2\n",
      "i = 4\n",
      "i = 6\n",
      "i = 8\n",
      "i = 10\n",
      "i = 12\n",
      "i = 14\n",
      "i = 16\n",
      "Done\n"
     ]
    }
   ],
   "source": [
    "print('Start')\n",
    "for i in Evens(16):\n",
    "    print(\"i =\",i)\n",
    "print('Done')"
   ]
  },
  {
   "cell_type": "code",
   "execution_count": 24,
   "id": "e31d65cc",
   "metadata": {},
   "outputs": [],
   "source": [
    "class Evens(object):\n",
    "    def __init__(self, l):\n",
    "        self._limit = l\n",
    "        self._val = 0\n",
    "# Makes this class iterable\n",
    "    def __iter__(self):\n",
    "        return self\n",
    "    # Makes this class an iterator\n",
    "    def __next__(self):\n",
    "        if self._val > self._limit:\n",
    "            raise StopIteration\n",
    "        else:\n",
    "            return_val = self._val\n",
    "            self._val += 2\n",
    "        return return_val"
   ]
  },
  {
   "cell_type": "code",
   "execution_count": 25,
   "id": "c6219b53",
   "metadata": {},
   "outputs": [
    {
     "name": "stdout",
     "output_type": "stream",
     "text": [
      "Start\n",
      "0, 2, 4, 6, 8, 10, 12, 14, 16, Done\n"
     ]
    }
   ],
   "source": [
    "print('Start')\n",
    "for i in Evens(16):\n",
    "    print(i, end=', ')\n",
    "print('Done')"
   ]
  },
  {
   "cell_type": "code",
   "execution_count": 36,
   "id": "19272ea5",
   "metadata": {},
   "outputs": [],
   "source": [
    "class Evens(object):\n",
    "    def __init__(self, l):\n",
    "        self._limit = l\n",
    "        self._val = 0\n",
    "# Makes this class iterable\n",
    "    def __iter__(self):\n",
    "        return self\n",
    "    # Makes this class an iterator\n",
    "    def __next__(self):\n",
    "        if self._val > self._limit:\n",
    "            raise StopIteration\n",
    "        else:\n",
    "            return_val = self._val\n",
    "            self._val += 2\n",
    "        return return_val"
   ]
  },
  {
   "cell_type": "code",
   "execution_count": 37,
   "id": "e2ac64cb",
   "metadata": {},
   "outputs": [
    {
     "name": "stdout",
     "output_type": "stream",
     "text": [
      "Start\n",
      "Enter the n value:80\n",
      "0, 2, 4, 6, 8, 10, 12, 14, 16, 18, 20, 22, 24, 26, 28, 30, 32, 34, 36, 38, 40, 42, 44, 46, 48, 50, 52, 54, 56, 58, 60, 62, 64, 66, 68, 70, 72, 74, 76, 78, 80, Done\n"
     ]
    }
   ],
   "source": [
    "print('Start')\n",
    "n = int(input(\"Enter the n value:\"))\n",
    "for i in Evens(n):\n",
    "    print(i, end=', ')\n",
    "print('Done')"
   ]
  },
  {
   "cell_type": "code",
   "execution_count": 28,
   "id": "28a6ff23",
   "metadata": {},
   "outputs": [],
   "source": [
    "class Fact:\n",
    "    def __init__(self,l):\n",
    "        self._limit = l\n",
    "        self._val = 0\n",
    "        \n",
    "    def __iter__(self):\n",
    "        return  self\n",
    "    def fact(sef,num):\n",
    "        prod = 1\n",
    "        for i in range(1,num+1):\n",
    "            prod*= i\n",
    "            \n",
    "        return prod\n",
    "    \n",
    "    def __next__(self):\n",
    "        if self._val > self._limit:\n",
    "            raise StopIteration\n",
    "        else:\n",
    "            return_val = self.fact(self._val)\n",
    "            self._val += 1\n",
    "            return return_val"
   ]
  },
  {
   "cell_type": "code",
   "execution_count": 29,
   "id": "1a712955",
   "metadata": {},
   "outputs": [
    {
     "name": "stdout",
     "output_type": "stream",
     "text": [
      "Start iterator\n",
      "Factorials from 1 to n\n",
      "Enter the limit (n is greater than 1) : 10\n",
      "i = 1\n",
      "i = 1\n",
      "i = 2\n",
      "i = 6\n",
      "i = 24\n",
      "i = 120\n",
      "i = 720\n",
      "i = 5040\n",
      "i = 40320\n",
      "i = 362880\n",
      "i = 3628800\n",
      "End of the iterator\n"
     ]
    }
   ],
   "source": [
    "print(\"Start iterator\")\n",
    "print(\"Factorials from 1 to n\")\n",
    "n = int(input(\"Enter the limit (n is greater than 1) : \"))\n",
    "\n",
    "for i in Fact(n):\n",
    "    print(\"i =\",i)\n",
    "    \n",
    "print(\"End of the iterator\")"
   ]
  },
  {
   "cell_type": "markdown",
   "id": "ac9413df",
   "metadata": {},
   "source": [
    "### Exception Handling"
   ]
  },
  {
   "cell_type": "code",
   "execution_count": 7,
   "id": "4e36fc11",
   "metadata": {},
   "outputs": [
    {
     "name": "stdout",
     "output_type": "stream",
     "text": [
      "Zero division error in runcalc function\n"
     ]
    }
   ],
   "source": [
    "def runcalc(x):\n",
    "    x/0\n",
    "try:\n",
    "    runcalc(6)\n",
    "except ZeroDivisionError:\n",
    "    print(\"Zero division error in runcalc function\")"
   ]
  },
  {
   "cell_type": "code",
   "execution_count": 8,
   "id": "f101b87e",
   "metadata": {},
   "outputs": [],
   "source": [
    "def runcalc(x):\n",
    "    x/1\n",
    "try:\n",
    "    runcalc(6)\n",
    "except ZeroDivisionError:\n",
    "    print(\"Zero division error in runcalc function\")"
   ]
  },
  {
   "cell_type": "code",
   "execution_count": 9,
   "id": "0104cc74",
   "metadata": {},
   "outputs": [
    {
     "name": "stdout",
     "output_type": "stream",
     "text": [
      "division by zero Zero division error in runcalc function\n"
     ]
    }
   ],
   "source": [
    "def runcalc(x):\n",
    "    x/0\n",
    "try:\n",
    "    runcalc(6)\n",
    "except ZeroDivisionError as z:\n",
    "    print(z,\"Zero division error in runcalc function\")\n",
    "except IndexError as i:\n",
    "    print(i,\"Error has occured\")\n",
    "except FileNotFoundError as f:\n",
    "    print(f,\"Error has occured\")\n",
    "except Exception:\n",
    "    print('An unknown error has occured')"
   ]
  },
  {
   "cell_type": "code",
   "execution_count": 10,
   "id": "ac6285a9",
   "metadata": {},
   "outputs": [
    {
     "name": "stdout",
     "output_type": "stream",
     "text": [
      "division by zero Zero division error in runcalc function\n"
     ]
    }
   ],
   "source": [
    "def runcalc(x):\n",
    "    x/0\n",
    "try:\n",
    "    runcalc(6)\n",
    "except IndexError as i:\n",
    "    print(i,\"Error has occured\")\n",
    "except ZeroDivisionError as z:\n",
    "    print(z,\"Zero division error in runcalc function\")\n",
    "except FileNotFoundError as f:\n",
    "    print(f,\"Error has occured\")\n",
    "except Exception:\n",
    "    print('An unknown error has occured')"
   ]
  },
  {
   "cell_type": "code",
   "execution_count": 11,
   "id": "d2e5e70f",
   "metadata": {},
   "outputs": [
    {
     "name": "stdout",
     "output_type": "stream",
     "text": [
      "An unknown error has occured\n"
     ]
    }
   ],
   "source": [
    "def runcalc(x):\n",
    "    x/0\n",
    "try:\n",
    "    runcalc(6)\n",
    "except Exception:\n",
    "    print('An unknown error has occured')\n",
    "except IndexError as i:\n",
    "    print(i,\"Error has occured\")\n",
    "except ZeroDivisionError as z:\n",
    "    print(z,\"Zero division error in runcalc function\")\n",
    "except FileNotFoundError as f:\n",
    "    print(f,\"Error has occured\")"
   ]
  },
  {
   "cell_type": "code",
   "execution_count": 12,
   "id": "48f3287b",
   "metadata": {},
   "outputs": [],
   "source": [
    "def my_function(x,y):\n",
    "    print('my_function start')\n",
    "    result = x/y\n",
    "    print('my_function End')\n",
    "    return result"
   ]
  },
  {
   "cell_type": "code",
   "execution_count": 13,
   "id": "796d89d9",
   "metadata": {},
   "outputs": [
    {
     "name": "stdout",
     "output_type": "stream",
     "text": [
      "Starting\n",
      "Before my_function\n",
      "my_function in\n",
      "division by zero error raised\n",
      "Done\n"
     ]
    }
   ],
   "source": [
    "print('Starting')\n",
    "try:\n",
    "    print('Before my_function')\n",
    "    my_function(6,0)\n",
    "    print('After my_function')\n",
    "except ZeroDivisionError as exp:\n",
    "    print(exp,'error raised')\n",
    "print('Done')"
   ]
  },
  {
   "cell_type": "code",
   "execution_count": 14,
   "id": "f56cce02",
   "metadata": {},
   "outputs": [
    {
     "name": "stdout",
     "output_type": "stream",
     "text": [
      "Starting\n",
      "Before my_function\n",
      "my_function in\n",
      "my_function out\n",
      "After my_function\n",
      "Done\n"
     ]
    }
   ],
   "source": [
    "print('Starting')\n",
    "try:\n",
    "    print('Before my_function')\n",
    "    my_function(6,2)\n",
    "    print('After my_function')\n",
    "except ZeroDivisionError as exp:\n",
    "    print(exp,'error raised')\n",
    "print('Done')"
   ]
  },
  {
   "cell_type": "code",
   "execution_count": 15,
   "id": "53c39d06",
   "metadata": {},
   "outputs": [
    {
     "name": "stdout",
     "output_type": "stream",
     "text": [
      "Starting\n",
      "Before function call......\n",
      "my_function in\n",
      "division by zero error raised\n",
      "Done\n"
     ]
    }
   ],
   "source": [
    "print('Starting')\n",
    "try:\n",
    "    print('Before function call......')\n",
    "    res = my_function(6,0)\n",
    "    print('The result returned is : ',res)\n",
    "    print('After my_function')\n",
    "except ZeroDivisionError as exp:\n",
    "    print(exp,'error raised')\n",
    "print('Done')"
   ]
  },
  {
   "cell_type": "code",
   "execution_count": 16,
   "id": "559c17b7",
   "metadata": {},
   "outputs": [
    {
     "name": "stdout",
     "output_type": "stream",
     "text": [
      "Starting\n",
      "Before function call......\n",
      "my_function in\n",
      "my_function out\n",
      "The result returned is :  3.0\n",
      "After my_function\n",
      "Done\n"
     ]
    }
   ],
   "source": [
    "print('Starting')\n",
    "try:\n",
    "    print('Before function call......')\n",
    "    res = my_function(6,2)\n",
    "    print('The result returned is : ',res)\n",
    "    print('After my_function')\n",
    "except ZeroDivisionError as exp:\n",
    "    print(exp,'error raised')\n",
    "print('Done')"
   ]
  },
  {
   "cell_type": "code",
   "execution_count": 17,
   "id": "87da770f",
   "metadata": {},
   "outputs": [
    {
     "name": "stdout",
     "output_type": "stream",
     "text": [
      "my_function in\n",
      "something went wrong\n"
     ]
    }
   ],
   "source": [
    "try:\n",
    "    my_function(6,0)\n",
    "except IndexError as e:\n",
    "    print(e)\n",
    "except:\n",
    "    print('something went wrong')"
   ]
  },
  {
   "cell_type": "code",
   "execution_count": 18,
   "id": "10520316",
   "metadata": {},
   "outputs": [
    {
     "name": "stdout",
     "output_type": "stream",
     "text": [
      "my_function in\n",
      "my_function out\n"
     ]
    }
   ],
   "source": [
    "try:\n",
    "    my_function(6,2)\n",
    "except ZeroDivisionError as e:\n",
    "    print(e)\n",
    "except:\n",
    "    print('something went wrong')"
   ]
  },
  {
   "cell_type": "code",
   "execution_count": 19,
   "id": "3cb3a46a",
   "metadata": {},
   "outputs": [
    {
     "name": "stdout",
     "output_type": "stream",
     "text": [
      "my_function in\n",
      "my_function out\n",
      "The result  of division is :  3.0\n",
      "no exception raised, everthing is ok\n"
     ]
    }
   ],
   "source": [
    "try:\n",
    "    print(\"The result  of division is : \",my_function(6,2))\n",
    "except ZeroDivisionError as e:\n",
    "    print(e)\n",
    "else:\n",
    "    print(\"no exception raised, everthing is ok\")"
   ]
  },
  {
   "cell_type": "code",
   "execution_count": 21,
   "id": "92701fb3",
   "metadata": {},
   "outputs": [
    {
     "name": "stdout",
     "output_type": "stream",
     "text": [
      "my_function in\n",
      "division by zero\n"
     ]
    }
   ],
   "source": [
    "#else clause\n",
    "try:\n",
    "    print(\"The result  of division is : \",my_function(6,0))\n",
    "except ZeroDivisionError as e:\n",
    "    print(e)\n",
    "else:\n",
    "    print(\"no exception raised, everthing is ok\")"
   ]
  },
  {
   "cell_type": "code",
   "execution_count": 22,
   "id": "47a50fcf",
   "metadata": {},
   "outputs": [
    {
     "name": "stdout",
     "output_type": "stream",
     "text": [
      "my_function in\n",
      "my_function out\n",
      "the result of division is : 3.0\n",
      "No exception raised, Everthing is ok\n",
      "The code run\n"
     ]
    }
   ],
   "source": [
    "#final clause\n",
    "try:\n",
    "    print('the result of division is :', my_function(6,2))\n",
    "except ZeroDivisionError as e:\n",
    "    print(e)\n",
    "else:\n",
    "    print(\"No exception raised, Everthing is ok\")\n",
    "finally:\n",
    "    print(\"The code run\")"
   ]
  },
  {
   "cell_type": "code",
   "execution_count": 23,
   "id": "a6f89176",
   "metadata": {},
   "outputs": [
    {
     "name": "stdout",
     "output_type": "stream",
     "text": [
      "my_function in\n",
      "division by zero\n",
      "The code run\n"
     ]
    }
   ],
   "source": [
    "try:\n",
    "    print('the result of division is :', my_function(6,0))\n",
    "except ZeroDivisionError as e:\n",
    "    print(e)\n",
    "else:\n",
    "    print(\"No exception raised, Everthing is ok\")\n",
    "finally:\n",
    "    print(\"The code run\")"
   ]
  },
  {
   "cell_type": "code",
   "execution_count": 26,
   "id": "269cf3c2",
   "metadata": {},
   "outputs": [
    {
     "name": "stdout",
     "output_type": "stream",
     "text": [
      "my_function in\n",
      "my_function out\n",
      "the result of the division is :  3.0\n",
      "Everthig worked Ok\n"
     ]
    }
   ],
   "source": [
    "# raise an exception\n",
    "\n",
    "x = 6\n",
    "y = 2\n",
    "\n",
    "try:\n",
    "    if y == 0:\n",
    "        raise ValueError('Division is  not possible by 0')\n",
    "        \n",
    "    print('the result of the division is : ',my_function(6,2))\n",
    "except ValueError as e:\n",
    "    print(e)\n",
    "else:\n",
    "    print(\"Everthig worked Ok\")"
   ]
  },
  {
   "cell_type": "code",
   "execution_count": 27,
   "id": "ce45a54c",
   "metadata": {},
   "outputs": [
    {
     "name": "stdout",
     "output_type": "stream",
     "text": [
      "my_function in\n"
     ]
    },
    {
     "ename": "ZeroDivisionError",
     "evalue": "division by zero",
     "output_type": "error",
     "traceback": [
      "\u001b[1;31m---------------------------------------------------------------------------\u001b[0m",
      "\u001b[1;31mZeroDivisionError\u001b[0m                         Traceback (most recent call last)",
      "\u001b[1;32mC:\\Users\\SANJEE~1\\AppData\\Local\\Temp/ipykernel_37836/2818940827.py\u001b[0m in \u001b[0;36m<module>\u001b[1;34m\u001b[0m\n\u001b[0;32m      6\u001b[0m         \u001b[1;32mraise\u001b[0m \u001b[0mValueError\u001b[0m\u001b[1;33m(\u001b[0m\u001b[1;34m'Division is  not possible by 0'\u001b[0m\u001b[1;33m)\u001b[0m\u001b[1;33m\u001b[0m\u001b[1;33m\u001b[0m\u001b[0m\n\u001b[0;32m      7\u001b[0m \u001b[1;33m\u001b[0m\u001b[0m\n\u001b[1;32m----> 8\u001b[1;33m     \u001b[0mprint\u001b[0m\u001b[1;33m(\u001b[0m\u001b[1;34m'the result of the division is : '\u001b[0m\u001b[1;33m,\u001b[0m\u001b[0mmy_function\u001b[0m\u001b[1;33m(\u001b[0m\u001b[1;36m6\u001b[0m\u001b[1;33m,\u001b[0m\u001b[1;36m0\u001b[0m\u001b[1;33m)\u001b[0m\u001b[1;33m)\u001b[0m\u001b[1;33m\u001b[0m\u001b[1;33m\u001b[0m\u001b[0m\n\u001b[0m\u001b[0;32m      9\u001b[0m \u001b[1;32mexcept\u001b[0m \u001b[0mValueError\u001b[0m \u001b[1;32mas\u001b[0m \u001b[0me\u001b[0m\u001b[1;33m:\u001b[0m\u001b[1;33m\u001b[0m\u001b[1;33m\u001b[0m\u001b[0m\n\u001b[0;32m     10\u001b[0m     \u001b[0mprint\u001b[0m\u001b[1;33m(\u001b[0m\u001b[0me\u001b[0m\u001b[1;33m)\u001b[0m\u001b[1;33m\u001b[0m\u001b[1;33m\u001b[0m\u001b[0m\n",
      "\u001b[1;32mC:\\Users\\SANJEE~1\\AppData\\Local\\Temp/ipykernel_37836/1785609406.py\u001b[0m in \u001b[0;36mmy_function\u001b[1;34m(x, y)\u001b[0m\n\u001b[0;32m      1\u001b[0m \u001b[1;32mdef\u001b[0m \u001b[0mmy_function\u001b[0m\u001b[1;33m(\u001b[0m\u001b[0mx\u001b[0m\u001b[1;33m,\u001b[0m\u001b[0my\u001b[0m\u001b[1;33m)\u001b[0m\u001b[1;33m:\u001b[0m\u001b[1;33m\u001b[0m\u001b[1;33m\u001b[0m\u001b[0m\n\u001b[0;32m      2\u001b[0m     \u001b[0mprint\u001b[0m\u001b[1;33m(\u001b[0m\u001b[1;34m'my_function in'\u001b[0m\u001b[1;33m)\u001b[0m\u001b[1;33m\u001b[0m\u001b[1;33m\u001b[0m\u001b[0m\n\u001b[1;32m----> 3\u001b[1;33m     \u001b[0mresult\u001b[0m \u001b[1;33m=\u001b[0m \u001b[0mx\u001b[0m\u001b[1;33m/\u001b[0m\u001b[0my\u001b[0m\u001b[1;33m\u001b[0m\u001b[1;33m\u001b[0m\u001b[0m\n\u001b[0m\u001b[0;32m      4\u001b[0m     \u001b[0mprint\u001b[0m\u001b[1;33m(\u001b[0m\u001b[1;34m'my_function out'\u001b[0m\u001b[1;33m)\u001b[0m\u001b[1;33m\u001b[0m\u001b[1;33m\u001b[0m\u001b[0m\n\u001b[0;32m      5\u001b[0m     \u001b[1;32mreturn\u001b[0m \u001b[0mresult\u001b[0m\u001b[1;33m\u001b[0m\u001b[1;33m\u001b[0m\u001b[0m\n",
      "\u001b[1;31mZeroDivisionError\u001b[0m: division by zero"
     ]
    }
   ],
   "source": [
    "x = 6\n",
    "y = 2\n",
    "\n",
    "try:\n",
    "    if y == 0:\n",
    "        raise ValueError('Division is  not possible by 0')\n",
    "        \n",
    "    print('the result of the division is : ',my_function(6,0))\n",
    "except ValueError as e:\n",
    "    print(e)\n",
    "else:\n",
    "    print(\"Everthig worked Ok\")"
   ]
  },
  {
   "cell_type": "code",
   "execution_count": 28,
   "id": "6c5bf1a9",
   "metadata": {},
   "outputs": [
    {
     "name": "stdout",
     "output_type": "stream",
     "text": [
      "my_function in\n",
      "my_function out\n",
      "the result of the division is :  3.0\n",
      "Everthig worked Ok\n"
     ]
    }
   ],
   "source": [
    "x = 6\n",
    "y = 2\n",
    "\n",
    "try:\n",
    "    if y == 0:\n",
    "        raise ValueError('Division is  not possible by 0')\n",
    "        \n",
    "    print('the result of the division is : ',my_function(x,y))\n",
    "except ValueError as e:\n",
    "    print(e)\n",
    "else:\n",
    "    print(\"Everthig worked Ok\")"
   ]
  },
  {
   "cell_type": "markdown",
   "id": "9c6abc9c",
   "metadata": {},
   "source": [
    "### Assertions"
   ]
  },
  {
   "cell_type": "code",
   "execution_count": 30,
   "id": "9bea6f07",
   "metadata": {},
   "outputs": [
    {
     "ename": "AssertionError",
     "evalue": "Denominator should not be Zero",
     "output_type": "error",
     "traceback": [
      "\u001b[1;31m---------------------------------------------------------------------------\u001b[0m",
      "\u001b[1;31mAssertionError\u001b[0m                            Traceback (most recent call last)",
      "\u001b[1;32mC:\\Users\\SANJEE~1\\AppData\\Local\\Temp/ipykernel_37836/3150233669.py\u001b[0m in \u001b[0;36m<module>\u001b[1;34m\u001b[0m\n\u001b[0;32m      3\u001b[0m \u001b[0my\u001b[0m \u001b[1;33m=\u001b[0m \u001b[1;36m2\u001b[0m\u001b[1;33m\u001b[0m\u001b[1;33m\u001b[0m\u001b[0m\n\u001b[0;32m      4\u001b[0m \u001b[1;33m\u001b[0m\u001b[0m\n\u001b[1;32m----> 5\u001b[1;33m \u001b[1;32massert\u001b[0m \u001b[0my\u001b[0m \u001b[1;33m==\u001b[0m \u001b[1;36m0\u001b[0m\u001b[1;33m,\u001b[0m\u001b[1;34m'Denominator should not be Zero'\u001b[0m\u001b[1;33m\u001b[0m\u001b[1;33m\u001b[0m\u001b[0m\n\u001b[0m\u001b[0;32m      6\u001b[0m \u001b[1;33m\u001b[0m\u001b[0m\n\u001b[0;32m      7\u001b[0m \u001b[0mprint\u001b[0m\u001b[1;33m(\u001b[0m\u001b[1;34m'after assert statement'\u001b[0m\u001b[1;33m)\u001b[0m\u001b[1;33m\u001b[0m\u001b[1;33m\u001b[0m\u001b[0m\n",
      "\u001b[1;31mAssertionError\u001b[0m: Denominator should not be Zero"
     ]
    }
   ],
   "source": [
    "# assert \n",
    "x = 6\n",
    "y = 2\n",
    "\n",
    "assert y == 0,'Denominator should not be Zero'\n",
    "\n",
    "print('after assert statement')\n",
    "\n",
    "my_function(x,y)"
   ]
  },
  {
   "cell_type": "code",
   "execution_count": 32,
   "id": "c7daba1b",
   "metadata": {},
   "outputs": [
    {
     "name": "stdout",
     "output_type": "stream",
     "text": [
      "after assert statement\n",
      "my_function in\n",
      "my_function out\n",
      "3.0\n"
     ]
    }
   ],
   "source": [
    "# assert \n",
    "x = 6\n",
    "y = 2\n",
    "\n",
    "assert y != 0,'Denominator should not be Zero'\n",
    "\n",
    "print('after assert statement')\n",
    "\n",
    "print(my_function(x,y))"
   ]
  },
  {
   "cell_type": "code",
   "execution_count": 33,
   "id": "ba2ceeed",
   "metadata": {},
   "outputs": [],
   "source": [
    "# programe to accept n positive integers as input and print the squares of numbers from 1 to n.\n",
    "# if a negtive  number is entered, then raise ValueError exception and display a relevant error\n",
    "# message and exit"
   ]
  },
  {
   "cell_type": "code",
   "execution_count": 37,
   "id": "e691d1df",
   "metadata": {},
   "outputs": [],
   "source": [
    "class squares(object):\n",
    "    def __init__(self,l):\n",
    "        self._limit = l\n",
    "        self._val = 0\n",
    "    def __iter__(self):\n",
    "        return self\n",
    "    def __next__(self):\n",
    "        if self._val > self._limit:\n",
    "            raise StopIteration\n",
    "        else:\n",
    "            return_val = self._val*self._val\n",
    "            self._val += 1\n",
    "            return return_val"
   ]
  },
  {
   "cell_type": "code",
   "execution_count": 42,
   "id": "bdd03f4e",
   "metadata": {},
   "outputs": [
    {
     "name": "stdout",
     "output_type": "stream",
     "text": [
      "start.....\n",
      "Enter the value of n: 100\n",
      "0, 1, 4, 9, 16, 25, 36, 49, 64, 81, 100, 121, 144, 169, 196, 225, 256, 289, 324, 361, 400, 441, 484, 529, 576, 625, 676, 729, 784, 841, 900, 961, 1024, 1089, 1156, 1225, 1296, 1369, 1444, 1521, 1600, 1681, 1764, 1849, 1936, 2025, 2116, 2209, 2304, 2401, 2500, 2601, 2704, 2809, 2916, 3025, 3136, 3249, 3364, 3481, 3600, 3721, 3844, 3969, 4096, 4225, 4356, 4489, 4624, 4761, 4900, 5041, 5184, 5329, 5476, 5625, 5776, 5929, 6084, 6241, 6400, 6561, 6724, 6889, 7056, 7225, 7396, 7569, 7744, 7921, 8100, 8281, 8464, 8649, 8836, 9025, 9216, 9409, 9604, 9801, 10000, \n",
      " End\n"
     ]
    }
   ],
   "source": [
    "print('start.....')\n",
    "n = int(input(\"Enter the value of n: \"))\n",
    "try:\n",
    "    if n < 0:\n",
    "        raise ValueError()\n",
    "except ValueError:\n",
    "    print('Enter a positive value for n')\n",
    "    \n",
    "for i in squares(n):\n",
    "    print(i,end = ', ')\n",
    "    \n",
    "print('\\n End')"
   ]
  },
  {
   "cell_type": "code",
   "execution_count": 40,
   "id": "744b5703",
   "metadata": {},
   "outputs": [],
   "source": [
    "class add(object):\n",
    "    def __init__(self,l):\n",
    "        self._limit = l\n",
    "        self._val = 0\n",
    "    def __iter__(self):\n",
    "        return self\n",
    "    def __next__(self):\n",
    "        if self._val > self._limit:\n",
    "            raise StopIteration\n",
    "        else:\n",
    "            return_val = self._val+self._val\n",
    "            self._val += 1\n",
    "            return return_val"
   ]
  },
  {
   "cell_type": "code",
   "execution_count": 41,
   "id": "765ba85f",
   "metadata": {},
   "outputs": [
    {
     "name": "stdout",
     "output_type": "stream",
     "text": [
      "start.....\n",
      "Enter the value of n: 5\n",
      "0, 2, 4, 6, 8, 10, \n",
      " End\n"
     ]
    }
   ],
   "source": [
    "print('start.....')\n",
    "n = int(input(\"Enter the value of n: \"))\n",
    "try:\n",
    "    if n < 0:\n",
    "        raise ValueError()\n",
    "except ValueError:\n",
    "    print('Enter a positive value for n')\n",
    "    \n",
    "for i in add(n):\n",
    "    print(i,end = ', ')\n",
    "    \n",
    "print('\\n End')"
   ]
  },
  {
   "cell_type": "code",
   "execution_count": 43,
   "id": "521a8eb7",
   "metadata": {},
   "outputs": [],
   "source": [
    "class add(object):\n",
    "    def __init__(self,l):\n",
    "        self._limit = l\n",
    "        self._val = 0\n",
    "    def __iter__(self):\n",
    "        return self\n",
    "    def __next__(self):\n",
    "        if self._val > self._limit:\n",
    "            raise StopIteration\n",
    "        else:\n",
    "            return_val = self._val+self._val\n",
    "            self._val += 1\n",
    "            return return_val"
   ]
  },
  {
   "cell_type": "code",
   "execution_count": 45,
   "id": "3da453c7",
   "metadata": {},
   "outputs": [
    {
     "name": "stdout",
     "output_type": "stream",
     "text": [
      "start.....\n",
      "Enter the value of n: -1\n",
      "Enter a positive value for n\n",
      "\n",
      " End\n"
     ]
    }
   ],
   "source": [
    "print('start.....')\n",
    "n = int(input(\"Enter the value of n: \"))\n",
    "try:\n",
    "    if n < 0:\n",
    "        raise ValueError()\n",
    "except ValueError:\n",
    "    print('Enter a positive value for n')\n",
    "    \n",
    "for i in squares(n):\n",
    "    print(i,end = ', ')\n",
    "    \n",
    "print('\\n End')"
   ]
  },
  {
   "cell_type": "markdown",
   "id": "6cb190bc",
   "metadata": {},
   "source": [
    "### Decorators"
   ]
  },
  {
   "cell_type": "code",
   "execution_count": 103,
   "id": "a58e5c44",
   "metadata": {},
   "outputs": [],
   "source": [
    "def my_decorator(func):\n",
    "    def wrapper():\n",
    "        print('*'*70)\n",
    "        func()\n",
    "        print('*'*70)\n",
    "    return wrapper\n",
    "\n",
    "@my_decorator\n",
    "def display():\n",
    "    print(\"   !!!  :::  hello world  :::  !!!   \")"
   ]
  },
  {
   "cell_type": "code",
   "execution_count": 104,
   "id": "b5939aa9",
   "metadata": {},
   "outputs": [
    {
     "name": "stdout",
     "output_type": "stream",
     "text": [
      "**********************************************************************\n",
      "   !!!  :::  hello world  :::  !!!   \n",
      "**********************************************************************\n"
     ]
    }
   ],
   "source": [
    "display()"
   ]
  },
  {
   "cell_type": "code",
   "execution_count": 114,
   "id": "cb328c8d",
   "metadata": {},
   "outputs": [
    {
     "name": "stdout",
     "output_type": "stream",
     "text": [
      "######################################################################\n",
      "%%%%%%%%%%%%%%%%%%%%%%%%%%%%%%%%%%%%%%%%%%%%%%%%%%%%%%%%%%%%%%%%%%%%%%\n",
      "**********************************************************************\n",
      "             !!!  :::  hello world  :::  !!!                \n",
      "**********************************************************************\n",
      "######################################################################\n",
      "%%%%%%%%%%%%%%%%%%%%%%%%%%%%%%%%%%%%%%%%%%%%%%%%%%%%%%%%%%%%%%%%%%%%%%\n"
     ]
    }
   ],
   "source": [
    "# Demonstrate Multiple Decorators\n",
    "def star (func):\n",
    "    def inner(*args,**kwargs):\n",
    "        print('#'*70)\n",
    "        print(\"%\"*70)\n",
    "        func(*args,**kwargs)\n",
    "        print('#'*70)\n",
    "        print(\"%\"*70)\n",
    "        \n",
    "    return inner\n",
    "def percent(func):\n",
    "    def inner(*args,**kwargs):\n",
    "        print('*'*70)\n",
    "        func(*args,**kwargs)\n",
    "        print('*'*70)\n",
    "        \n",
    "    return inner\n",
    "@star\n",
    "@percent\n",
    "\n",
    "def printer(msg):\n",
    "    print(msg)\n",
    "printer(\"             !!!  :::  hello world  :::  !!!                \")"
   ]
  },
  {
   "cell_type": "code",
   "execution_count": 115,
   "id": "dc85a133",
   "metadata": {},
   "outputs": [
    {
     "name": "stdout",
     "output_type": "stream",
     "text": [
      "######################################################################\n",
      "%%%%%%%%%%%%%%%%%%%%%%%%%%%%%%%%%%%%%%%%%%%%%%%%%%%%%%%%%%%%%%%%%%%%%%\n",
      "######################################################################\n",
      "%%%%%%%%%%%%%%%%%%%%%%%%%%%%%%%%%%%%%%%%%%%%%%%%%%%%%%%%%%%%%%%%%%%%%%\n",
      "None\n"
     ]
    }
   ],
   "source": [
    "## Decorating functions with arugements\n",
    "@star\n",
    "def factorial(n):\n",
    "    fact = 1\n",
    "    for i in range(n):\n",
    "        fact = fact*(i+1)\n",
    "    return fact\n",
    "\n",
    "print(factorial(5))"
   ]
  },
  {
   "cell_type": "code",
   "execution_count": 116,
   "id": "06220e79",
   "metadata": {},
   "outputs": [
    {
     "name": "stdout",
     "output_type": "stream",
     "text": [
      "**********************************************************************\n",
      "**********************************************************************\n",
      "None\n"
     ]
    }
   ],
   "source": [
    "@percent\n",
    "def factorial(n):\n",
    "    fact = 1\n",
    "    for i in range(n):\n",
    "        fact = fact*(i+1)\n",
    "    return fact\n",
    "\n",
    "print(factorial(5))"
   ]
  },
  {
   "cell_type": "code",
   "execution_count": 117,
   "id": "06f2f39f",
   "metadata": {},
   "outputs": [
    {
     "name": "stdout",
     "output_type": "stream",
     "text": [
      "######################################################################\n",
      "%%%%%%%%%%%%%%%%%%%%%%%%%%%%%%%%%%%%%%%%%%%%%%%%%%%%%%%%%%%%%%%%%%%%%%\n",
      "**********************************************************************\n",
      "**********************************************************************\n",
      "######################################################################\n",
      "%%%%%%%%%%%%%%%%%%%%%%%%%%%%%%%%%%%%%%%%%%%%%%%%%%%%%%%%%%%%%%%%%%%%%%\n",
      "None\n"
     ]
    }
   ],
   "source": [
    "@star\n",
    "@percent\n",
    "def factorial(n):\n",
    "    fact = 1\n",
    "    for i in range(n):\n",
    "        fact = fact*(i+1)\n",
    "    return fact\n",
    "\n",
    "print(factorial(5))"
   ]
  },
  {
   "cell_type": "code",
   "execution_count": 118,
   "id": "4360d917",
   "metadata": {},
   "outputs": [],
   "source": [
    "import time\n",
    "def timer(func):\n",
    "    def calculate(*args,**kwargs):\n",
    "        start_time = time.perf_counter()\n",
    "        value = func(*args,**kwargs)\n",
    "        end_time = time.perf_counter()\n",
    "        runtime = end_time - start_time\n",
    "        print('Execution time ::: {0:20.10f}secs'.format(runtime))\n",
    "        return value\n",
    "    return calculate"
   ]
  },
  {
   "cell_type": "code",
   "execution_count": 119,
   "id": "ff702ddc",
   "metadata": {},
   "outputs": [
    {
     "name": "stdout",
     "output_type": "stream",
     "text": [
      "Execution time :::         0.0000051000secs\n",
      "362880\n"
     ]
    }
   ],
   "source": [
    "@timer\n",
    "def factorial(n):\n",
    "    fact = 1\n",
    "    for i in range(n):\n",
    "        fact = fact*(i+1)\n",
    "    return fact\n",
    "\n",
    "print(factorial(9))"
   ]
  },
  {
   "cell_type": "code",
   "execution_count": 120,
   "id": "88a23c7f",
   "metadata": {},
   "outputs": [
    {
     "name": "stdout",
     "output_type": "stream",
     "text": [
      "Execution time :::         0.0000065000secs\n",
      "The factorial is :  24\n"
     ]
    }
   ],
   "source": [
    "print('The factorial is : ',factorial(4))"
   ]
  },
  {
   "cell_type": "code",
   "execution_count": 121,
   "id": "5a862666",
   "metadata": {},
   "outputs": [
    {
     "name": "stdout",
     "output_type": "stream",
     "text": [
      "The decatration my_function is :\n",
      "my_function start\n",
      "my_function End\n",
      "Execution time :::         0.0000418000secs\n",
      "2.5\n"
     ]
    }
   ],
   "source": [
    "@timer\n",
    "def my_function(x,y):\n",
    "    print('my_function start')\n",
    "    result = x/y\n",
    "    print('my_function End')\n",
    "    return result\n",
    "\n",
    "print('The decatration my_function is :')\n",
    "\n",
    "print(my_function(5,2))"
   ]
  }
 ],
 "metadata": {
  "kernelspec": {
   "display_name": "Python 3 (ipykernel)",
   "language": "python",
   "name": "python3"
  },
  "language_info": {
   "codemirror_mode": {
    "name": "ipython",
    "version": 3
   },
   "file_extension": ".py",
   "mimetype": "text/x-python",
   "name": "python",
   "nbconvert_exporter": "python",
   "pygments_lexer": "ipython3",
   "version": "3.9.7"
  }
 },
 "nbformat": 4,
 "nbformat_minor": 5
}
