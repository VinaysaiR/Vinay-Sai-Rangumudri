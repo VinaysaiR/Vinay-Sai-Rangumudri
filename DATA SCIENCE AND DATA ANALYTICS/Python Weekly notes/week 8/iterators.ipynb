{
 "cells": [
  {
   "cell_type": "markdown",
   "id": "b086f0d3",
   "metadata": {},
   "source": [
    "### ERROR AND HANDLING"
   ]
  },
  {
   "cell_type": "code",
   "execution_count": 2,
   "id": "abdfbd03",
   "metadata": {},
   "outputs": [
    {
     "ename": "NameError",
     "evalue": "name 'T' is not defined",
     "output_type": "error",
     "traceback": [
      "\u001b[1;31m---------------------------------------------------------------------------\u001b[0m",
      "\u001b[1;31mNameError\u001b[0m                                 Traceback (most recent call last)",
      "\u001b[1;32mC:\\Users\\SANJEE~1\\AppData\\Local\\Temp/ipykernel_35664/1057231435.py\u001b[0m in \u001b[0;36m<module>\u001b[1;34m\u001b[0m\n\u001b[1;32m----> 1\u001b[1;33m \u001b[0mprint\u001b[0m\u001b[1;33m(\u001b[0m\u001b[0mT\u001b[0m\u001b[1;33m)\u001b[0m\u001b[1;33m\u001b[0m\u001b[1;33m\u001b[0m\u001b[0m\n\u001b[0m\u001b[0;32m      2\u001b[0m \u001b[1;32mfor\u001b[0m \u001b[0mi\u001b[0m \u001b[1;32min\u001b[0m \u001b[0mrange\u001b[0m\u001b[1;33m(\u001b[0m\u001b[1;36m1\u001b[0m\u001b[1;33m,\u001b[0m\u001b[1;36m10\u001b[0m\u001b[1;33m)\u001b[0m\u001b[1;33m:\u001b[0m\u001b[1;33m\u001b[0m\u001b[1;33m\u001b[0m\u001b[0m\n\u001b[0;32m      3\u001b[0m     \u001b[0mprint\u001b[0m\u001b[1;33m(\u001b[0m\u001b[1;34m'teh squares of i is:'\u001b[0m\u001b[1;33m,\u001b[0m \u001b[0mi\u001b[0m\u001b[1;33m**\u001b[0m\u001b[1;36m2\u001b[0m\u001b[1;33m)\u001b[0m\u001b[1;33m\u001b[0m\u001b[1;33m\u001b[0m\u001b[0m\n",
      "\u001b[1;31mNameError\u001b[0m: name 'T' is not defined"
     ]
    }
   ],
   "source": [
    "print(T)\n",
    "for i in range(1,10):\n",
    "    print('teh squares of i is:', i**2)"
   ]
  },
  {
   "cell_type": "code",
   "execution_count": 3,
   "id": "7e573bdb",
   "metadata": {},
   "outputs": [
    {
     "name": "stdout",
     "output_type": "stream",
     "text": [
      "The variable is not declared\n"
     ]
    }
   ],
   "source": [
    "try:\n",
    "    print(T)\n",
    "    for i in range(1,10):\n",
    "        print('the square of i is: ',i**2)\n",
    "except NameError:\n",
    "    print('The variable is not declared')"
   ]
  },
  {
   "cell_type": "code",
   "execution_count": 5,
   "id": "8cc92a62",
   "metadata": {},
   "outputs": [
    {
     "name": "stdout",
     "output_type": "stream",
     "text": [
      "The variable is not declared\n"
     ]
    }
   ],
   "source": [
    "try:\n",
    "    print(T)\n",
    "\n",
    "except NameError:\n",
    "    print('The variable is not declared')"
   ]
  },
  {
   "cell_type": "code",
   "execution_count": 6,
   "id": "84b3f5ac",
   "metadata": {},
   "outputs": [
    {
     "name": "stdout",
     "output_type": "stream",
     "text": [
      "The variable is not declared\n",
      "the square of i is:  1\n",
      "the square of i is:  4\n",
      "the square of i is:  9\n",
      "the square of i is:  16\n",
      "the square of i is:  25\n",
      "the square of i is:  36\n",
      "the square of i is:  49\n",
      "the square of i is:  64\n",
      "the square of i is:  81\n"
     ]
    }
   ],
   "source": [
    "try:\n",
    "    print(T)\n",
    "\n",
    "except NameError:\n",
    "    print('The variable is not declared')\n",
    "finally:\n",
    "    for i in range(1,10):\n",
    "        print('the square of i is: ',i**2)"
   ]
  },
  {
   "cell_type": "code",
   "execution_count": 8,
   "id": "ed1ab95d",
   "metadata": {},
   "outputs": [
    {
     "name": "stdout",
     "output_type": "stream",
     "text": [
      "10\n",
      "the square of i is:  1\n",
      "the square of i is:  4\n",
      "the square of i is:  9\n",
      "the square of i is:  16\n",
      "the square of i is:  25\n",
      "the square of i is:  36\n",
      "the square of i is:  49\n",
      "the square of i is:  64\n",
      "the square of i is:  81\n"
     ]
    }
   ],
   "source": [
    "try:\n",
    "    T = 10\n",
    "    print(T)\n",
    "except NameError:\n",
    "    print('The variable is not declared')\n",
    "finally:\n",
    "    for i in range(1,10):\n",
    "        print('the square of i is: ',i**2)"
   ]
  },
  {
   "cell_type": "code",
   "execution_count": 9,
   "id": "f5659fd8",
   "metadata": {},
   "outputs": [
    {
     "name": "stdout",
     "output_type": "stream",
     "text": [
      "Enter a number : 4a\n"
     ]
    },
    {
     "ename": "ValueError",
     "evalue": "invalid literal for int() with base 10: '4a'",
     "output_type": "error",
     "traceback": [
      "\u001b[1;31m---------------------------------------------------------------------------\u001b[0m",
      "\u001b[1;31mValueError\u001b[0m                                Traceback (most recent call last)",
      "\u001b[1;32mC:\\Users\\SANJEE~1\\AppData\\Local\\Temp/ipykernel_35664/2692859112.py\u001b[0m in \u001b[0;36m<module>\u001b[1;34m\u001b[0m\n\u001b[1;32m----> 1\u001b[1;33m \u001b[0mnum\u001b[0m \u001b[1;33m=\u001b[0m \u001b[0mint\u001b[0m\u001b[1;33m(\u001b[0m\u001b[0minput\u001b[0m\u001b[1;33m(\u001b[0m\u001b[1;34m'Enter a number : '\u001b[0m\u001b[1;33m)\u001b[0m\u001b[1;33m)\u001b[0m\u001b[1;33m\u001b[0m\u001b[1;33m\u001b[0m\u001b[0m\n\u001b[0m\u001b[0;32m      2\u001b[0m \u001b[0mprint\u001b[0m\u001b[1;33m(\u001b[0m\u001b[0mnum\u001b[0m\u001b[1;33m)\u001b[0m\u001b[1;33m\u001b[0m\u001b[1;33m\u001b[0m\u001b[0m\n",
      "\u001b[1;31mValueError\u001b[0m: invalid literal for int() with base 10: '4a'"
     ]
    }
   ],
   "source": [
    "num = int(input('Enter a number : '))\n",
    "print(num)"
   ]
  },
  {
   "cell_type": "code",
   "execution_count": 10,
   "id": "c26739ad",
   "metadata": {},
   "outputs": [
    {
     "name": "stdout",
     "output_type": "stream",
     "text": [
      "Enter a number : 5\n",
      "5\n"
     ]
    }
   ],
   "source": [
    "num = int(input('Enter a number : '))\n",
    "print(num)"
   ]
  },
  {
   "cell_type": "code",
   "execution_count": 11,
   "id": "86f1dd17",
   "metadata": {},
   "outputs": [
    {
     "name": "stdout",
     "output_type": "stream",
     "text": [
      "Enter a number : 5a\n",
      "invalid\n"
     ]
    }
   ],
   "source": [
    "try:\n",
    "    num = int(input('Enter a number : '))\n",
    "    print(num)for line in lines:\n",
    "        print(line,end = '')\n",
    "    \n",
    "except:\n",
    "    print('invalid')"
   ]
  },
  {
   "cell_type": "code",
   "execution_count": 12,
   "id": "75caf793",
   "metadata": {},
   "outputs": [
    {
     "ename": "ZeroDivisionError",
     "evalue": "division by zero",
     "output_type": "error",
     "traceback": [
      "\u001b[1;31m---------------------------------------------------------------------------\u001b[0m",
      "\u001b[1;31mZeroDivisionError\u001b[0m                         Traceback (most recent call last)",
      "\u001b[1;32mC:\\Users\\SANJEE~1\\AppData\\Local\\Temp/ipykernel_35664/1603994460.py\u001b[0m in \u001b[0;36m<module>\u001b[1;34m\u001b[0m\n\u001b[1;32m----> 1\u001b[1;33m \u001b[0mval\u001b[0m \u001b[1;33m=\u001b[0m \u001b[1;36m100\u001b[0m\u001b[1;33m/\u001b[0m\u001b[1;36m0\u001b[0m\u001b[1;33m\u001b[0m\u001b[1;33m\u001b[0m\u001b[0m\n\u001b[0m\u001b[0;32m      2\u001b[0m \u001b[1;32mtry\u001b[0m\u001b[1;33m:\u001b[0m\u001b[1;33m\u001b[0m\u001b[1;33m\u001b[0m\u001b[0m\n\u001b[0;32m      3\u001b[0m     \u001b[0mnum\u001b[0m \u001b[1;33m=\u001b[0m \u001b[0mint\u001b[0m\u001b[1;33m(\u001b[0m\u001b[0minput\u001b[0m\u001b[1;33m(\u001b[0m\u001b[1;34m'Enter a number : '\u001b[0m\u001b[1;33m)\u001b[0m\u001b[1;33m)\u001b[0m\u001b[1;33m\u001b[0m\u001b[1;33m\u001b[0m\u001b[0m\n\u001b[0;32m      4\u001b[0m     \u001b[0mprint\u001b[0m\u001b[1;33m(\u001b[0m\u001b[0mnum\u001b[0m\u001b[1;33m)\u001b[0m\u001b[1;33m\u001b[0m\u001b[1;33m\u001b[0m\u001b[0m\n\u001b[0;32m      5\u001b[0m \u001b[1;33m\u001b[0m\u001b[0m\n",
      "\u001b[1;31mZeroDivisionError\u001b[0m: division by zero"
     ]
    }
   ],
   "source": [
    "val = 100/0\n",
    "try:\n",
    "    num = int(input('Enter a number : '))\n",
    "    print(num)\n",
    "    \n",
    "except:\n",
    "    print('invalid')"
   ]
  },
  {
   "cell_type": "code",
   "execution_count": 13,
   "id": "de6e8174",
   "metadata": {},
   "outputs": [
    {
     "name": "stdout",
     "output_type": "stream",
     "text": [
      "invalid\n"
     ]
    }
   ],
   "source": [
    "try:\n",
    "    val = 100/0\n",
    "    num = int(input('Enter a number : '))\n",
    "    print(num)\n",
    "    \n",
    "except:\n",
    "    print('invalid')"
   ]
  },
  {
   "cell_type": "code",
   "execution_count": 15,
   "id": "f151e4c1",
   "metadata": {},
   "outputs": [
    {
     "name": "stdout",
     "output_type": "stream",
     "text": [
      "You are try to divided by zero\n"
     ]
    }
   ],
   "source": [
    "try:\n",
    "    val = 100/0\n",
    "    num = int(input('Enter a number : '))\n",
    "    print(num)\n",
    "    \n",
    "except ZeroDivisionError:\n",
    "    print('You are try to divided by zero')\n",
    "    \n",
    "except ValueError:\n",
    "    print('invalid input')"
   ]
  },
  {
   "cell_type": "code",
   "execution_count": 18,
   "id": "37edde09",
   "metadata": {},
   "outputs": [
    {
     "name": "stdout",
     "output_type": "stream",
     "text": [
      "Enter a number : 4\n",
      "4\n"
     ]
    }
   ],
   "source": [
    "try:\n",
    "    val = 100/2\n",
    "    num = int(input('Enter a number : '))\n",
    "    print(num)\n",
    "    \n",
    "except ZeroDivisionError:\n",
    "    print('You are try to divided by zero')\n",
    "    \n",
    "except ValueError:\n",
    "    print('invalid input')"
   ]
  },
  {
   "cell_type": "markdown",
   "id": "f7080909",
   "metadata": {},
   "source": [
    "### ASSERSTION"
   ]
  },
  {
   "cell_type": "code",
   "execution_count": 19,
   "id": "b636f883",
   "metadata": {},
   "outputs": [
    {
     "name": "stdout",
     "output_type": "stream",
     "text": [
      "Enter the person age : 25\n",
      "The Person's age is:  25\n"
     ]
    }
   ],
   "source": [
    "def age(value):\n",
    "    print(\"The Person's age is: \",value )\n",
    "    \n",
    "value = int(input('Enter the person age : ' ))\n",
    "age(value)"
   ]
  },
  {
   "cell_type": "code",
   "execution_count": 21,
   "id": "f4e7fe29",
   "metadata": {},
   "outputs": [
    {
     "name": "stdout",
     "output_type": "stream",
     "text": [
      "Enter the person age : -10\n"
     ]
    },
    {
     "ename": "AssertionError",
     "evalue": "Enter a age greater than zero",
     "output_type": "error",
     "traceback": [
      "\u001b[1;31m---------------------------------------------------------------------------\u001b[0m",
      "\u001b[1;31mAssertionError\u001b[0m                            Traceback (most recent call last)",
      "\u001b[1;32mC:\\Users\\SANJEE~1\\AppData\\Local\\Temp/ipykernel_35664/542041606.py\u001b[0m in \u001b[0;36m<module>\u001b[1;34m\u001b[0m\n\u001b[0;32m      4\u001b[0m \u001b[1;33m\u001b[0m\u001b[0m\n\u001b[0;32m      5\u001b[0m \u001b[0mvalue\u001b[0m \u001b[1;33m=\u001b[0m \u001b[0mint\u001b[0m\u001b[1;33m(\u001b[0m\u001b[0minput\u001b[0m\u001b[1;33m(\u001b[0m\u001b[1;34m'Enter the person age : '\u001b[0m \u001b[1;33m)\u001b[0m\u001b[1;33m)\u001b[0m\u001b[1;33m\u001b[0m\u001b[1;33m\u001b[0m\u001b[0m\n\u001b[1;32m----> 6\u001b[1;33m \u001b[0mage\u001b[0m\u001b[1;33m(\u001b[0m\u001b[0mvalue\u001b[0m\u001b[1;33m)\u001b[0m\u001b[1;33m\u001b[0m\u001b[1;33m\u001b[0m\u001b[0m\n\u001b[0m",
      "\u001b[1;32mC:\\Users\\SANJEE~1\\AppData\\Local\\Temp/ipykernel_35664/542041606.py\u001b[0m in \u001b[0;36mage\u001b[1;34m(value)\u001b[0m\n\u001b[0;32m      1\u001b[0m \u001b[1;32mdef\u001b[0m \u001b[0mage\u001b[0m\u001b[1;33m(\u001b[0m\u001b[0mvalue\u001b[0m\u001b[1;33m)\u001b[0m\u001b[1;33m:\u001b[0m\u001b[1;33m\u001b[0m\u001b[1;33m\u001b[0m\u001b[0m\n\u001b[1;32m----> 2\u001b[1;33m     \u001b[1;32massert\u001b[0m \u001b[0mvalue\u001b[0m\u001b[1;33m>\u001b[0m\u001b[1;36m0\u001b[0m\u001b[1;33m,\u001b[0m\u001b[1;34m'Enter a age greater than zero'\u001b[0m\u001b[1;33m\u001b[0m\u001b[1;33m\u001b[0m\u001b[0m\n\u001b[0m\u001b[0;32m      3\u001b[0m     \u001b[0mprint\u001b[0m\u001b[1;33m(\u001b[0m\u001b[1;34m\"The Person's age is: \"\u001b[0m\u001b[1;33m,\u001b[0m\u001b[0mvalue\u001b[0m \u001b[1;33m)\u001b[0m\u001b[1;33m\u001b[0m\u001b[1;33m\u001b[0m\u001b[0m\n\u001b[0;32m      4\u001b[0m \u001b[1;33m\u001b[0m\u001b[0m\n\u001b[0;32m      5\u001b[0m \u001b[0mvalue\u001b[0m \u001b[1;33m=\u001b[0m \u001b[0mint\u001b[0m\u001b[1;33m(\u001b[0m\u001b[0minput\u001b[0m\u001b[1;33m(\u001b[0m\u001b[1;34m'Enter the person age : '\u001b[0m \u001b[1;33m)\u001b[0m\u001b[1;33m)\u001b[0m\u001b[1;33m\u001b[0m\u001b[1;33m\u001b[0m\u001b[0m\n",
      "\u001b[1;31mAssertionError\u001b[0m: Enter a age greater than zero"
     ]
    }
   ],
   "source": [
    "def age(value):\n",
    "    assert value>0,'Enter a age greater than zero'\n",
    "    print(\"The Person's age is: \",value )\n",
    "    \n",
    "value = int(input('Enter the person age : ' ))\n",
    "age(value)"
   ]
  },
  {
   "cell_type": "markdown",
   "id": "c24b389f",
   "metadata": {},
   "source": [
    "### $Catching Exception$"
   ]
  },
  {
   "cell_type": "code",
   "execution_count": 22,
   "id": "b5017f3d",
   "metadata": {},
   "outputs": [],
   "source": [
    "a = [2, 4, 6,'a', 8, 0]"
   ]
  },
  {
   "cell_type": "code",
   "execution_count": 24,
   "id": "4334a29e",
   "metadata": {},
   "outputs": [
    {
     "name": "stdout",
     "output_type": "stream",
     "text": [
      "1.0\n",
      "0.5\n",
      "0.3333333333333333\n"
     ]
    },
    {
     "ename": "TypeError",
     "evalue": "unsupported operand type(s) for /: 'int' and 'str'",
     "output_type": "error",
     "traceback": [
      "\u001b[1;31m---------------------------------------------------------------------------\u001b[0m",
      "\u001b[1;31mTypeError\u001b[0m                                 Traceback (most recent call last)",
      "\u001b[1;32mC:\\Users\\SANJEE~1\\AppData\\Local\\Temp/ipykernel_35664/3878613924.py\u001b[0m in \u001b[0;36m<module>\u001b[1;34m\u001b[0m\n\u001b[0;32m      1\u001b[0m \u001b[1;32mfor\u001b[0m \u001b[0mi\u001b[0m \u001b[1;32min\u001b[0m \u001b[0ma\u001b[0m\u001b[1;33m:\u001b[0m\u001b[1;33m\u001b[0m\u001b[1;33m\u001b[0m\u001b[0m\n\u001b[1;32m----> 2\u001b[1;33m     \u001b[0mc\u001b[0m \u001b[1;33m=\u001b[0m \u001b[1;36m2\u001b[0m\u001b[1;33m/\u001b[0m\u001b[0mi\u001b[0m\u001b[1;33m\u001b[0m\u001b[1;33m\u001b[0m\u001b[0m\n\u001b[0m\u001b[0;32m      3\u001b[0m     \u001b[0mprint\u001b[0m\u001b[1;33m(\u001b[0m\u001b[0mc\u001b[0m\u001b[1;33m)\u001b[0m\u001b[1;33m\u001b[0m\u001b[1;33m\u001b[0m\u001b[0m\n",
      "\u001b[1;31mTypeError\u001b[0m: unsupported operand type(s) for /: 'int' and 'str'"
     ]
    }
   ],
   "source": [
    "for i in a:\n",
    "    c = 2/i\n",
    "    print(c)"
   ]
  },
  {
   "cell_type": "code",
   "execution_count": 26,
   "id": "5145ccb5",
   "metadata": {},
   "outputs": [
    {
     "name": "stdout",
     "output_type": "stream",
     "text": [
      "1.0\n",
      "0.5\n",
      "0.3333333333333333\n",
      "problem <class 'TypeError'> occured\n",
      "0.25\n",
      "problem <class 'ZeroDivisionError'> occured\n"
     ]
    }
   ],
   "source": [
    "import sys\n",
    "a = [2, 4, 6,'a', 8, 0]\n",
    "for i in a:\n",
    "    try:\n",
    "        c = 2/i\n",
    "        print(c)\n",
    "    except:\n",
    "        print('problem',sys.exc_info()[0],'occured')"
   ]
  },
  {
   "cell_type": "code",
   "execution_count": 27,
   "id": "13cd02e4",
   "metadata": {},
   "outputs": [
    {
     "name": "stdout",
     "output_type": "stream",
     "text": [
      "1.0\n",
      "0.5\n",
      "0.3333333333333333\n",
      "problem occured\n",
      "0.25\n",
      "problem occured\n"
     ]
    }
   ],
   "source": [
    "import sys\n",
    "a = [2, 4, 6,'a', 8, 0]\n",
    "for i in a:\n",
    "    try:\n",
    "        c = 2/i\n",
    "        print(c)\n",
    "    except:\n",
    "        print('problem occured')"
   ]
  },
  {
   "cell_type": "code",
   "execution_count": 33,
   "id": "59e350b2",
   "metadata": {},
   "outputs": [
    {
     "name": "stdout",
     "output_type": "stream",
     "text": [
      "1.0\n",
      "problem <class 'NameError'> occured\n",
      "0.5\n",
      "problem <class 'NameError'> occured\n",
      "0.3333333333333333\n",
      "problem <class 'NameError'> occured\n",
      "problem <class 'TypeError'> occured\n",
      "0.25\n",
      "problem <class 'NameError'> occured\n",
      "problem <class 'ZeroDivisionError'> occured\n"
     ]
    }
   ],
   "source": [
    "import sys\n",
    "a = [2, 4, 6,'a', 8, 0]\n",
    "for i in a:\n",
    "    try:\n",
    "        c = 2/i\n",
    "        print(c)\n",
    "        b = x\n",
    "    except:\n",
    "        print('problem',sys.exc_info()[0],'occured')"
   ]
  },
  {
   "cell_type": "code",
   "execution_count": 32,
   "id": "16b2618a",
   "metadata": {},
   "outputs": [
    {
     "name": "stdout",
     "output_type": "stream",
     "text": [
      "problem <class 'NameError'> occured\n",
      "problem <class 'NameError'> occured\n",
      "problem <class 'NameError'> occured\n",
      "problem <class 'NameError'> occured\n",
      "problem <class 'NameError'> occured\n",
      "problem <class 'NameError'> occured\n"
     ]
    }
   ],
   "source": [
    "import sys\n",
    "a = [2, 4, 6,'a', 8, 0]\n",
    "for i in a:\n",
    "    try:\n",
    "        #c = 2/i\n",
    "        printf(c)\n",
    "    #b = x\n",
    "    except:\n",
    "        print('problem',sys.exc_info()[0],'occured')"
   ]
  },
  {
   "cell_type": "code",
   "execution_count": 36,
   "id": "5e590cd4",
   "metadata": {},
   "outputs": [
    {
     "name": "stdout",
     "output_type": "stream",
     "text": [
      "Enter a number : -12\n",
      "You have entered a small number\n",
      "Enter a number : -45\n",
      "You have entered a small number\n",
      "Enter a number : 45\n",
      "you have entered a big number\n",
      "Enter a number : 25\n",
      "you have entered a big number\n",
      "Enter a number : 2\n",
      "the correct number is 10\n"
     ]
    }
   ],
   "source": [
    "# number guessing game\n",
    "# we have to guess the number\n",
    "class Error(Exception):\n",
    "    pass\n",
    "class TooSmallError(Error):\n",
    "    pass\n",
    "class TooLargeError(Error):\n",
    "    pass\n",
    "\n",
    "num = 10\n",
    "while True:\n",
    "    try:\n",
    "        choice = int(input('Enter a number : '))\n",
    "        if choice < 0:\n",
    "            raise TooSmallError\n",
    "        elif choice >10:\n",
    "            raise TooLargeError\n",
    "        break\n",
    "    except TooSmallError:\n",
    "        print('You have entered a small number')\n",
    "    except TooLargeError:\n",
    "        print('you have entered a big number')\n",
    "\n",
    "print('the correct number is 10')"
   ]
  },
  {
   "cell_type": "code",
   "execution_count": 49,
   "id": "089a60a8",
   "metadata": {
    "scrolled": true
   },
   "outputs": [
    {
     "name": "stdout",
     "output_type": "stream",
     "text": [
      "Enter a conform password : 1321\n",
      "Enter a password : 150\n",
      "You have entered a small password\n",
      "Enter a password : 1236\n",
      "You have entered a small password\n",
      "Enter a password : 1325\n",
      "you have entered a big password\n",
      "Enter a password : 1320\n",
      "You have entered a small password\n",
      "Enter a password : 1321\n",
      "Correct password\n"
     ]
    }
   ],
   "source": [
    "class Error(Exception):\n",
    "    pass\n",
    "class TooSmallError(Error):\n",
    "    pass\n",
    "class TooLargeError(Error):\n",
    "    pass\n",
    "val = int(input(\"Enter a conform password : \"))\n",
    "num = val\n",
    "while True:\n",
    "    try:\n",
    "        choice = int(input('Enter a password : '))\n",
    "        if choice < val:\n",
    "            raise TooSmallError\n",
    "        elif choice >val:\n",
    "            raise TooLargeError\n",
    "        break\n",
    "    except TooSmallError:\n",
    "        print('You have entered a small password')\n",
    "    except TooLargeError:\n",
    "        print('you have entered a big password')\n",
    "\n",
    "print('Correct password')"
   ]
  },
  {
   "cell_type": "markdown",
   "id": "b7ec2acc",
   "metadata": {},
   "source": [
    "### decorator"
   ]
  },
  {
   "cell_type": "code",
   "execution_count": 5,
   "id": "6ad49fd5",
   "metadata": {},
   "outputs": [
    {
     "name": "stdout",
     "output_type": "stream",
     "text": [
      "This is a edutech\n"
     ]
    }
   ],
   "source": [
    "def skilllync():\n",
    "    print('This is a edutech')\n",
    "\n",
    "skilllync()"
   ]
  },
  {
   "cell_type": "code",
   "execution_count": 2,
   "id": "f512a294",
   "metadata": {},
   "outputs": [
    {
     "name": "stdout",
     "output_type": "stream",
     "text": [
      "9\n",
      "inner\n",
      "<function outer.<locals>.inner at 0x00000251AA600940>\n"
     ]
    }
   ],
   "source": [
    "def outer():\n",
    "    n1 = 3\n",
    "    def inner():\n",
    "        n2 =  6\n",
    "        res = n1 + n2\n",
    "        return res\n",
    "    return inner\n",
    "obj = outer()\n",
    "print(obj())\n",
    "print(obj.__name__)\n",
    "print(obj)"
   ]
  },
  {
   "cell_type": "code",
   "execution_count": 4,
   "id": "602888ba",
   "metadata": {},
   "outputs": [
    {
     "name": "stdout",
     "output_type": "stream",
     "text": [
      "hello this is function 2 calling function 1\n",
      "Hello this is function 1\n"
     ]
    }
   ],
   "source": [
    "# passing the function with parameters\n",
    "def func1():\n",
    "    print(\"Hello this is function 1\")\n",
    "def func2(apple):\n",
    "    print(\"hello this is function 2 calling function 1\")\n",
    "    apple()\n",
    "    \n",
    "func2(func1)"
   ]
  },
  {
   "cell_type": "code",
   "execution_count": 7,
   "id": "f47ab0d6",
   "metadata": {},
   "outputs": [
    {
     "name": "stdout",
     "output_type": "stream",
     "text": [
      "THIS IS A EDUTECH\n"
     ]
    }
   ],
   "source": [
    "def UpperString(ref):\n",
    "    def process():\n",
    "        data = ref()\n",
    "        return data.upper()\n",
    "    return process\n",
    "def skilllync():\n",
    "    return 'This is a edutech'\n",
    "\n",
    "result = UpperString(skilllync)\n",
    "print(result())"
   ]
  },
  {
   "cell_type": "code",
   "execution_count": 8,
   "id": "d72fb209",
   "metadata": {},
   "outputs": [
    {
     "name": "stdout",
     "output_type": "stream",
     "text": [
      "VINAY LOVES PRAVLIKA & SHE WAS HIS WIFE\n"
     ]
    }
   ],
   "source": [
    "def UpperString(ref):\n",
    "    def process():\n",
    "        data = ref()\n",
    "        return data.upper()\n",
    "    return process\n",
    "def skilllync():\n",
    "    return 'vinay loves pravlika & she was his wife'\n",
    "\n",
    "result = UpperString(skilllync)\n",
    "print(result())"
   ]
  },
  {
   "cell_type": "code",
   "execution_count": 10,
   "id": "c5badb72",
   "metadata": {},
   "outputs": [
    {
     "name": "stdout",
     "output_type": "stream",
     "text": [
      "vinay loves pravlika & she was his wife\n"
     ]
    }
   ],
   "source": [
    "print(skilllync())"
   ]
  },
  {
   "cell_type": "code",
   "execution_count": 12,
   "id": "7ab2dcec",
   "metadata": {},
   "outputs": [
    {
     "name": "stdout",
     "output_type": "stream",
     "text": [
      "THIS IS GOOD\n"
     ]
    }
   ],
   "source": [
    "@UpperString\n",
    "def myfunction():\n",
    "    return \"this is good\"\n",
    "print(myfunction())"
   ]
  },
  {
   "cell_type": "code",
   "execution_count": 17,
   "id": "eaf71377",
   "metadata": {},
   "outputs": [],
   "source": [
    "def this_is_some_decorator(func):\n",
    "    def googlecolab():\n",
    "        print(\"Wellcome to skill-Lync\")\n",
    "        func()\n",
    "        print(\"thansk for choosing us\")\n",
    "    return googlecolab()"
   ]
  },
  {
   "cell_type": "code",
   "execution_count": 18,
   "id": "dac8c5c6",
   "metadata": {},
   "outputs": [
    {
     "name": "stdout",
     "output_type": "stream",
     "text": [
      "Wellcome to skill-Lync\n",
      "thansk for choosing us\n"
     ]
    }
   ],
   "source": [
    "this_is_some_decorator(skilllync)"
   ]
  },
  {
   "cell_type": "code",
   "execution_count": 19,
   "id": "d30eec02",
   "metadata": {},
   "outputs": [
    {
     "name": "stdout",
     "output_type": "stream",
     "text": [
      "Wellcome to skill-Lync\n",
      "thansk for choosing us\n"
     ]
    }
   ],
   "source": [
    "skilllinc = this_is_some_decorator(skilllync)"
   ]
  },
  {
   "cell_type": "code",
   "execution_count": 20,
   "id": "ead03789",
   "metadata": {},
   "outputs": [],
   "source": [
    "def UpperString(ref):\n",
    "    def process():\n",
    "        data = ref()\n",
    "        return data.upper()\n",
    "    return process\n",
    "def split(ref):\n",
    "    def process():\n",
    "        data = ref()\n",
    "        return data.split()\n",
    "    return process\n",
    "@UpperString\n",
    "def skilllync():\n",
    "    return 'this is a edutech'"
   ]
  },
  {
   "cell_type": "code",
   "execution_count": 21,
   "id": "74a3df59",
   "metadata": {},
   "outputs": [
    {
     "name": "stdout",
     "output_type": "stream",
     "text": [
      "['THIS', 'IS', 'A', 'EDUTECH']\n"
     ]
    }
   ],
   "source": [
    "result = split(skilllync)\n",
    "print(result())"
   ]
  },
  {
   "cell_type": "code",
   "execution_count": null,
   "id": "19964c99",
   "metadata": {},
   "outputs": [],
   "source": [
    "def UpperString(ref):\n",
    "    def process():\n",
    "        data = ref()\n",
    "        return data.upper()\n",
    "    return process\n",
    "def split(ref):\n",
    "    def process():\n",
    "        data = ref()\n",
    "        return data.split()\n",
    "    return process\n",
    "@split\n",
    "@UpperString\n",
    "def skilllync():\n",
    "    return 'this is a edutech'"
   ]
  },
  {
   "cell_type": "code",
   "execution_count": 22,
   "id": "83e77aea",
   "metadata": {},
   "outputs": [
    {
     "name": "stdout",
     "output_type": "stream",
     "text": [
      "['THIS', 'IS', 'A', 'EDUTECH']\n"
     ]
    }
   ],
   "source": [
    "result = split(skilllync)\n",
    "print(result())"
   ]
  },
  {
   "cell_type": "code",
   "execution_count": 24,
   "id": "68ddffde",
   "metadata": {},
   "outputs": [],
   "source": [
    "def UpperString(ref):\n",
    "    def process():\n",
    "        data = ref()\n",
    "        return data.upper()\n",
    "    return process\n",
    "def split(ref):\n",
    "    def process():\n",
    "        data = ref()\n",
    "        return data.split()\n",
    "    return process\n",
    "@split\n",
    "@UpperString\n",
    "def skilllync():\n",
    "    return 'this is a edutech'"
   ]
  },
  {
   "cell_type": "code",
   "execution_count": 25,
   "id": "c588c51d",
   "metadata": {},
   "outputs": [
    {
     "name": "stdout",
     "output_type": "stream",
     "text": [
      "['THIS', 'IS', 'A', 'EDUTECH']\n"
     ]
    }
   ],
   "source": [
    "print(skilllync())"
   ]
  },
  {
   "cell_type": "code",
   "execution_count": 26,
   "id": "1ab696ba",
   "metadata": {},
   "outputs": [],
   "source": [
    "# Decorator with a parameter\n",
    "\n",
    "def OuterFunction(string):\n",
    "    def UpperString(ref):\n",
    "        def process():\n",
    "            data = ref()\n",
    "            return data.upper()+' '+string\n",
    "        return process\n",
    "    return UpperString\n",
    "\n",
    "@OuterFunction(\" we teach Data sciences\")\n",
    "def skilllync():\n",
    "    return 'welcome to skilllync'"
   ]
  },
  {
   "cell_type": "code",
   "execution_count": 27,
   "id": "100792a6",
   "metadata": {},
   "outputs": [
    {
     "name": "stdout",
     "output_type": "stream",
     "text": [
      "WELCOME TO SKILLLYNC  we teach Data sciences\n"
     ]
    }
   ],
   "source": [
    "print(skilllync())"
   ]
  },
  {
   "cell_type": "code",
   "execution_count": 29,
   "id": "c8652586",
   "metadata": {},
   "outputs": [
    {
     "name": "stdout",
     "output_type": "stream",
     "text": [
      "WELCOME TO SKILLLYNC  we teach Data sciences\n",
      "WELCOME TO SKILLLYNC  we teach Data Analatics\n",
      "WELCOME TO SKILLLYNC  we have lot of faculity\n",
      "WELCOME TO SKILLLYNC  we have a large network\n",
      "WELCOME TO SKILLLYNC  we given a more information\n",
      "WELCOME TO SKILLLYNC  we teach Data sciences\n"
     ]
    }
   ],
   "source": [
    "def OuterFunction(string):\n",
    "    def UpperString(ref):\n",
    "        def process():\n",
    "            data = ref()\n",
    "            return data.upper()+' '+string\n",
    "        return process\n",
    "    return UpperString\n",
    "\n",
    "@OuterFunction(\" we teach Data sciences\")\n",
    "def skilllync():\n",
    "    return 'welcome to skilllync'\n",
    "print(skilllync())\n",
    "\n",
    "@OuterFunction(\" we teach Data Analatics\")\n",
    "def skilllync():\n",
    "    return 'welcome to skilllync'\n",
    "print(skilllync())\n",
    "\n",
    "@OuterFunction(\" we have lot of faculity\")\n",
    "def skilllync():\n",
    "    return 'welcome to skilllync'\n",
    "print(skilllync())\n",
    "@OuterFunction(\" we have a large network\")\n",
    "def skilllync():\n",
    "    return 'welcome to skilllync'\n",
    "print(skilllync())\n",
    "@OuterFunction(\" we given a more information\")\n",
    "def skilllync():\n",
    "    return 'welcome to skilllync'\n",
    "print(skilllync())\n",
    "@OuterFunction(\" we teach Data sciences\")\n",
    "def skilllync():\n",
    "    return 'welcome to skilllync'\n",
    "print(skilllync())"
   ]
  },
  {
   "cell_type": "code",
   "execution_count": 30,
   "id": "b440b365",
   "metadata": {},
   "outputs": [],
   "source": [
    "# more examples of decorator\n",
    "def OuterFunction(B):\n",
    "    def UpperString(ref):\n",
    "        def process():\n",
    "            data = ref()\n",
    "            Total_salary = 1.6*B\n",
    "            return data.upper()+' '+' your salary is '+' '+str(Total_salary)\n",
    "        return process\n",
    "    return UpperString"
   ]
  },
  {
   "cell_type": "code",
   "execution_count": 31,
   "id": "9acfe65c",
   "metadata": {},
   "outputs": [],
   "source": [
    "@OuterFunction(10000)\n",
    "def skilllync():\n",
    "    return 'Welcome To skill-lync'"
   ]
  },
  {
   "cell_type": "code",
   "execution_count": 32,
   "id": "e3bc1912",
   "metadata": {},
   "outputs": [
    {
     "name": "stdout",
     "output_type": "stream",
     "text": [
      "WELCOME TO SKILL-LYNC  your salary is  16000.0\n"
     ]
    }
   ],
   "source": [
    "print(skilllync())"
   ]
  },
  {
   "cell_type": "code",
   "execution_count": 40,
   "id": "2d3f3cbc",
   "metadata": {},
   "outputs": [
    {
     "name": "stdout",
     "output_type": "stream",
     "text": [
      "WELCOME TO SKILL-LYNC  your salary is  16000.0\n",
      "WELCOME TO SKILL-LYNC  your salary is  16000.0\n"
     ]
    }
   ],
   "source": [
    "def OuterFunction1(dept_name):\n",
    "    def UpperString(ref):\n",
    "        def process():\n",
    "            data = ref()\n",
    "            if dept_name == \"Mechanical\":\n",
    "                Total_salary = 150000\n",
    "            elif dept_name == \"Computer science\":\n",
    "                Total_salary = 160000\n",
    "            elif dept_name == \"Electrical\":\n",
    "                Total_salary = 240000\n",
    "            return data.upper() + ' you have to pay us a total of ' + str(Total_salary)\n",
    "        return process\n",
    "    return UpperString\n",
    "\n",
    "@OuterFunction1(\"Computer science\")\n",
    "def skilllnc():\n",
    "    return 'welcome to skilllync'\n",
    "\n",
    "print(skilllync())\n",
    "@OuterFunction1(\"Mechanical\")\n",
    "def skilllnc():\n",
    "    return 'welcome to skilllync'\n",
    "\n",
    "print(skilllync())"
   ]
  },
  {
   "cell_type": "code",
   "execution_count": 41,
   "id": "b96ed73a",
   "metadata": {},
   "outputs": [
    {
     "name": "stdout",
     "output_type": "stream",
     "text": [
      "HELLO VINAY AND PRAVALI\n"
     ]
    }
   ],
   "source": [
    "def OuterFunction(ref):\n",
    "    def Innerfunction(*args):\n",
    "        return ref(*args).upper()\n",
    "    return Innerfunction\n",
    "\n",
    "def Myfunction(str1,str2):\n",
    "    return \"Hello {} and {}\".format(str1,str2)\n",
    "obj = OuterFunction(Myfunction)\n",
    "print(obj('Vinay','pravali'))"
   ]
  },
  {
   "cell_type": "code",
   "execution_count": 43,
   "id": "5b1fa24d",
   "metadata": {},
   "outputs": [
    {
     "data": {
      "text/plain": [
       "'HI VINAY AND PRAVALI'"
      ]
     },
     "execution_count": 43,
     "metadata": {},
     "output_type": "execute_result"
    }
   ],
   "source": [
    "class MyDecorator:\n",
    "    def __init__(self,ref):\n",
    "        self.ref = ref\n",
    "        \n",
    "    def __call__(self,*args):\n",
    "        return self.ref(*args).upper()\n",
    "    \n",
    "def Myfunction(str1,str2):\n",
    "    return 'Hi {} and {}'.format(str1,str2)\n",
    "    \n",
    "obj = MyDecorator(Myfunction)\n",
    "obj(\"vinay\",\"pravali\")"
   ]
  },
  {
   "cell_type": "code",
   "execution_count": 44,
   "id": "382f449c",
   "metadata": {},
   "outputs": [
    {
     "data": {
      "text/plain": [
       "'HI VINAY AND PRAVALI'"
      ]
     },
     "execution_count": 44,
     "metadata": {},
     "output_type": "execute_result"
    }
   ],
   "source": [
    "class MyDecorator:\n",
    "    def __init__(self,ref):\n",
    "        self.ref = ref\n",
    "        \n",
    "    def __call__(self,*args):\n",
    "        return self.ref(*args).upper()\n",
    "@MyDecorator    \n",
    "def Myfunction(str1,str2):\n",
    "    return 'Hi {} and {}'.format(str1,str2)\n",
    "obj(\"vinay\",\"pravali\")"
   ]
  },
  {
   "cell_type": "code",
   "execution_count": 45,
   "id": "44074a26",
   "metadata": {},
   "outputs": [
    {
     "name": "stdout",
     "output_type": "stream",
     "text": [
      "a\n",
      "p\n",
      "p\n",
      "l\n",
      "e\n"
     ]
    }
   ],
   "source": [
    "a = 'apple'   # int is not iterable\n",
    "for i in a:\n",
    "    print(i)"
   ]
  },
  {
   "cell_type": "code",
   "execution_count": 47,
   "id": "6d65d616",
   "metadata": {},
   "outputs": [
    {
     "name": "stdout",
     "output_type": "stream",
     "text": [
      "1\n",
      "2\n",
      "3\n",
      "4\n",
      "5\n"
     ]
    }
   ],
   "source": [
    "a = '12345'   # int is not iterable\n",
    "for i in a:\n",
    "    print(i)"
   ]
  },
  {
   "cell_type": "code",
   "execution_count": 48,
   "id": "10ec183e",
   "metadata": {},
   "outputs": [
    {
     "name": "stdout",
     "output_type": "stream",
     "text": [
      "<str_iterator object at 0x00000251AA62E910>\n"
     ]
    }
   ],
   "source": [
    "a = 'apple'\n",
    "print(a.__iter__())"
   ]
  },
  {
   "cell_type": "code",
   "execution_count": 49,
   "id": "dc20cc23",
   "metadata": {},
   "outputs": [
    {
     "ename": "NameError",
     "evalue": "name 'b' is not defined",
     "output_type": "error",
     "traceback": [
      "\u001b[1;31m---------------------------------------------------------------------------\u001b[0m",
      "\u001b[1;31mNameError\u001b[0m                                 Traceback (most recent call last)",
      "\u001b[1;32mC:\\Users\\SANJEE~1\\AppData\\Local\\Temp/ipykernel_3760/2318974739.py\u001b[0m in \u001b[0;36m<module>\u001b[1;34m\u001b[0m\n\u001b[0;32m      1\u001b[0m \u001b[0mn\u001b[0m \u001b[1;33m=\u001b[0m \u001b[1;36m12345\u001b[0m\u001b[1;33m\u001b[0m\u001b[1;33m\u001b[0m\u001b[0m\n\u001b[1;32m----> 2\u001b[1;33m \u001b[0mprint\u001b[0m\u001b[1;33m(\u001b[0m\u001b[0mb\u001b[0m\u001b[1;33m.\u001b[0m\u001b[0m__iter__\u001b[0m\u001b[1;33m(\u001b[0m\u001b[1;33m)\u001b[0m\u001b[1;33m)\u001b[0m\u001b[1;33m\u001b[0m\u001b[1;33m\u001b[0m\u001b[0m\n\u001b[0m",
      "\u001b[1;31mNameError\u001b[0m: name 'b' is not defined"
     ]
    }
   ],
   "source": [
    "n = 12345\n",
    "print(b.__iter__())"
   ]
  },
  {
   "cell_type": "code",
   "execution_count": 54,
   "id": "0f7f176d",
   "metadata": {},
   "outputs": [
    {
     "name": "stdout",
     "output_type": "stream",
     "text": [
      "1\n",
      "2\n",
      "3\n",
      "4\n",
      "5\n"
     ]
    }
   ],
   "source": [
    "my_list = [1, 2, 3, 4, 5]\n",
    "for i in my_list:\n",
    "    print(i)"
   ]
  },
  {
   "cell_type": "code",
   "execution_count": 58,
   "id": "053fd6ea",
   "metadata": {},
   "outputs": [
    {
     "data": {
      "text/plain": [
       "<list_iterator at 0x251aa6f38e0>"
      ]
     },
     "execution_count": 58,
     "metadata": {},
     "output_type": "execute_result"
    }
   ],
   "source": [
    "my_list = iter(my_list)\n",
    "my_list"
   ]
  },
  {
   "cell_type": "code",
   "execution_count": 59,
   "id": "b93c2823",
   "metadata": {},
   "outputs": [
    {
     "data": {
      "text/plain": [
       "1"
      ]
     },
     "execution_count": 59,
     "metadata": {},
     "output_type": "execute_result"
    }
   ],
   "source": [
    "next(my_list)"
   ]
  },
  {
   "cell_type": "code",
   "execution_count": 56,
   "id": "60027164",
   "metadata": {},
   "outputs": [
    {
     "data": {
      "text/plain": [
       "<list_iterator at 0x251aa6f3850>"
      ]
     },
     "execution_count": 56,
     "metadata": {},
     "output_type": "execute_result"
    }
   ],
   "source": [
    "my_list.__iter__()"
   ]
  },
  {
   "cell_type": "code",
   "execution_count": 60,
   "id": "480391aa",
   "metadata": {},
   "outputs": [
    {
     "data": {
      "text/plain": [
       "2"
      ]
     },
     "execution_count": 60,
     "metadata": {},
     "output_type": "execute_result"
    }
   ],
   "source": [
    "next(my_list)"
   ]
  },
  {
   "cell_type": "code",
   "execution_count": 61,
   "id": "50da69a1",
   "metadata": {},
   "outputs": [
    {
     "data": {
      "text/plain": [
       "3"
      ]
     },
     "execution_count": 61,
     "metadata": {},
     "output_type": "execute_result"
    }
   ],
   "source": [
    "next(my_list)"
   ]
  },
  {
   "cell_type": "code",
   "execution_count": 62,
   "id": "bb97b538",
   "metadata": {},
   "outputs": [
    {
     "data": {
      "text/plain": [
       "4"
      ]
     },
     "execution_count": 62,
     "metadata": {},
     "output_type": "execute_result"
    }
   ],
   "source": [
    "next(my_list)"
   ]
  },
  {
   "cell_type": "code",
   "execution_count": 63,
   "id": "a8415f23",
   "metadata": {},
   "outputs": [
    {
     "data": {
      "text/plain": [
       "5"
      ]
     },
     "execution_count": 63,
     "metadata": {},
     "output_type": "execute_result"
    }
   ],
   "source": [
    "next(my_list)"
   ]
  },
  {
   "cell_type": "code",
   "execution_count": 64,
   "id": "5f61d8ce",
   "metadata": {},
   "outputs": [
    {
     "ename": "StopIteration",
     "evalue": "",
     "output_type": "error",
     "traceback": [
      "\u001b[1;31m---------------------------------------------------------------------------\u001b[0m",
      "\u001b[1;31mStopIteration\u001b[0m                             Traceback (most recent call last)",
      "\u001b[1;32mC:\\Users\\SANJEE~1\\AppData\\Local\\Temp/ipykernel_3760/1507139513.py\u001b[0m in \u001b[0;36m<module>\u001b[1;34m\u001b[0m\n\u001b[1;32m----> 1\u001b[1;33m \u001b[0mnext\u001b[0m\u001b[1;33m(\u001b[0m\u001b[0mmy_list\u001b[0m\u001b[1;33m)\u001b[0m\u001b[1;33m\u001b[0m\u001b[1;33m\u001b[0m\u001b[0m\n\u001b[0m",
      "\u001b[1;31mStopIteration\u001b[0m: "
     ]
    }
   ],
   "source": [
    "next(my_list)"
   ]
  },
  {
   "cell_type": "code",
   "execution_count": 73,
   "id": "7716a40f",
   "metadata": {},
   "outputs": [],
   "source": [
    "class Evens(object):\n",
    "    def __init__(self,l):\n",
    "        self._limit = l\n",
    "        self._val = 0\n",
    "        \n",
    "    def __iter__(self):\n",
    "        return self\n",
    "    def __next__(self):\n",
    "        if self._val > self._limit:\n",
    "            raise StopIteration\n",
    "        else:\n",
    "            return_val = self._val\n",
    "            self._val += 2\n",
    "            return return_val"
   ]
  },
  {
   "cell_type": "code",
   "execution_count": 74,
   "id": "ed5118c0",
   "metadata": {},
   "outputs": [
    {
     "name": "stdout",
     "output_type": "stream",
     "text": [
      "0\n",
      "2\n",
      "4\n",
      "6\n",
      "8\n",
      "10\n",
      "12\n",
      "14\n",
      "16\n",
      "18\n",
      "20\n"
     ]
    }
   ],
   "source": [
    "for i in Evens(20):\n",
    "    print(i)"
   ]
  },
  {
   "cell_type": "code",
   "execution_count": 76,
   "id": "cbd36d7d",
   "metadata": {},
   "outputs": [
    {
     "name": "stdout",
     "output_type": "stream",
     "text": [
      "[2, 4, 6, 8, 10, 12, 14, 16, 18]\n",
      "[2, 4, 6, 8, 10, 12, 14, 16, 18]\n"
     ]
    }
   ],
   "source": [
    "list0 = []\n",
    "for i in range(1,20):\n",
    "    if i % 2 == 0:\n",
    "        list0.append(i)\n",
    "        \n",
    "print(list0)\n",
    "\n",
    "def Evens2(a):\n",
    "    list0 = []\n",
    "    for i in range(1,a):\n",
    "        if i%2 == 0:\n",
    "            list0.append(i)\n",
    "    return list0\n",
    "\n",
    "print(Evens2(20))"
   ]
  },
  {
   "cell_type": "code",
   "execution_count": 77,
   "id": "e3314233",
   "metadata": {},
   "outputs": [
    {
     "name": "stdout",
     "output_type": "stream",
     "text": [
      "0\n",
      "[0]\n",
      "[0]\n",
      "4\n",
      "[0, 4]\n",
      "[0, 4]\n",
      "8\n",
      "[0, 4, 8]\n",
      "[0, 4, 8]\n",
      "12\n",
      "[0, 4, 8, 12]\n",
      "[0, 4, 8, 12]\n",
      "16\n",
      "[0, 4, 8, 12, 16]\n",
      "[0, 4, 8, 12, 16]\n",
      "20\n",
      "[0, 4, 8, 12, 16, 20]\n",
      "[0, 4, 8, 12, 16, 20]\n",
      "24\n",
      "[0, 4, 8, 12, 16, 20, 24]\n"
     ]
    }
   ],
   "source": [
    "list2 = []\n",
    "for i in Evens(25):\n",
    "    if i%4==0:\n",
    "        list2.append(i)\n",
    "        print(i)\n",
    "        \n",
    "    print(list2)"
   ]
  },
  {
   "cell_type": "code",
   "execution_count": 78,
   "id": "7add61a7",
   "metadata": {},
   "outputs": [
    {
     "name": "stdout",
     "output_type": "stream",
     "text": [
      "0\n",
      "4\n",
      "8\n",
      "12\n",
      "16\n",
      "20\n",
      "24\n",
      "[0, 4, 8, 12, 16, 20, 24]\n"
     ]
    }
   ],
   "source": [
    "list2 = []\n",
    "for i in Evens(25):\n",
    "    if i%4==0:\n",
    "        list2.append(i)\n",
    "        print(i)\n",
    "        \n",
    "print(list2)"
   ]
  }
 ],
 "metadata": {
  "kernelspec": {
   "display_name": "Python 3 (ipykernel)",
   "language": "python",
   "name": "python3"
  },
  "language_info": {
   "codemirror_mode": {
    "name": "ipython",
    "version": 3
   },
   "file_extension": ".py",
   "mimetype": "text/x-python",
   "name": "python",
   "nbconvert_exporter": "python",
   "pygments_lexer": "ipython3",
   "version": "3.9.7"
  }
 },
 "nbformat": 4,
 "nbformat_minor": 5
}
