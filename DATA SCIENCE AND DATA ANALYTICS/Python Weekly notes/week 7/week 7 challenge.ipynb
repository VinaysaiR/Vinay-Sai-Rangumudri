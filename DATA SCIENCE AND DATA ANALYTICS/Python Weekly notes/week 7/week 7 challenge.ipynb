{
 "cells": [
  {
   "cell_type": "markdown",
   "id": "5359e38c",
   "metadata": {},
   "source": [
    "### Q1 -- Create a class called number which contains an integer. It should contain various methods to set the value of the integer, return the integer value, print the integer value, check whether the integer is negative."
   ]
  },
  {
   "cell_type": "code",
   "execution_count": 1,
   "id": "24afecdf",
   "metadata": {},
   "outputs": [
    {
     "name": "stdout",
     "output_type": "stream",
     "text": [
      "Enter an integer number : -12\n",
      "The entered number is   : -12\n",
      "--------------------------------------------------\n",
      "-12 is a negative number\n"
     ]
    }
   ],
   "source": [
    "class Number:\n",
    "    def set_num(self,num):\n",
    "        self.num=num\n",
    "        return self.num\n",
    "    def check(self):\n",
    "        if self.num > 0:\n",
    "            print(self.num,\"is a positive number\")\n",
    "        elif self.num == 0:\n",
    "            print(self.num,\"is a Whole number\")\n",
    "        else:\n",
    "            print(self.num,\"is a negative number\")\n",
    "n=Number()\n",
    "x=int(input(\"Enter an integer number : \"))\n",
    "print(\"The entered number is   :\",x)\n",
    "print('-'*50)\n",
    "n.set_num(x)\n",
    "n.check()"
   ]
  },
  {
   "cell_type": "markdown",
   "id": "2dca6514",
   "metadata": {},
   "source": [
    "### Q 2 -- Create a class that can calculate the perimeter/ circumference and area of a regular shape. The class should also have a provision to accept the data relevant to the shap"
   ]
  },
  {
   "cell_type": "code",
   "execution_count": 2,
   "id": "6a4fe2e4",
   "metadata": {},
   "outputs": [],
   "source": [
    "class Regular:\n",
    "    def __init__(self,shape,side1,side2=None,side3=None):\n",
    "        self.shape=shape\n",
    "        self.side1=side1\n",
    "        self.side2=side2\n",
    "        self.side3=side3\n",
    "    def perimeter(self):\n",
    "        if self.shape=='Circle' or self.shape=='circle':\n",
    "            p=2*3.14*self.side1\n",
    "            print('perimeter of circle is',p)\n",
    "        elif self.shape=='Square' or self.shape=='square':\n",
    "            p=4*self.side1\n",
    "            print('perimeter of square is',p)\n",
    "        elif self.shape=='Rectangle' or self.shape=='rectangle':\n",
    "            p=2*(self.side1+self.side2)\n",
    "            print('perimeter of rectangle is',p)\n",
    "        elif self.shape=='Triangle' or self.shape=='triangle':\n",
    "            p = (self.side1 + self.side2 + self.side3)\n",
    "            print('perimeter of Triangle is',p)  \n",
    "            \n",
    "    def area(self):\n",
    "        if self.shape=='Circle' or self.shape=='circle':\n",
    "            a=3.14*self.side1*self.side1\n",
    "            print('area of circle is',a)\n",
    "        elif self.shape=='Square' or self.shape=='square':\n",
    "            a=self.side1*self.side1\n",
    "            print('area of square is',a)\n",
    "        elif self.shape=='Rectangle' or self.shape=='rectangle':\n",
    "            a=self.side1*self.side2\n",
    "            print('area of rectangle is',a)\n",
    "        elif self.shape == 'Triangle' or self.shape=='triangle':\n",
    "            p = (self.side1 + self.side2 + self.side3)\n",
    "            a = (p*(p - self.side1)*(p - self.side2)*(p - self.side3))**(1/2)\n",
    "            print('area of Traiangle is',a)\n",
    "            "
   ]
  },
  {
   "cell_type": "code",
   "execution_count": 3,
   "id": "0339b889",
   "metadata": {},
   "outputs": [
    {
     "name": "stdout",
     "output_type": "stream",
     "text": [
      "Enter the shape name : Rectangle\n",
      "Enter the side1 : 3\n",
      "Enter the side2 : 4\n",
      "--------------------------------------------------\n",
      "perimeter of rectangle is 14.0\n",
      "--------------------------------------------------\n",
      "area of rectangle is 12.0\n"
     ]
    }
   ],
   "source": [
    "shape_name = input(\"Enter the shape name : \")\n",
    "\n",
    "if shape_name == 'circle' or shape_name == 'Circle' or shape_name == 'square' or shape_name == 'Square':\n",
    "    side1 = float(input(\"Enter the side1 : \"))\n",
    "    r=Regular(shape_name,side1)\n",
    "\n",
    "elif shape_name == 'rectangle' or shape_name == 'Rectangle':\n",
    "    side1 = float(input(\"Enter the side1 : \"))\n",
    "    side2 = float(input(\"Enter the side2 : \"))\n",
    "    r=Regular(shape_name,side1,side2)\n",
    "elif shape_name == 'triangle' or shape_name == 'Triangle':\n",
    "    side1 = float(input(\"Enter the side1 : \"))\n",
    "    side2 = float(input(\"Enter the side2 : \"))\n",
    "    side3 = float(input(\"Enter the side3 : \")) \n",
    "    r=Regular(shape_name,side1,side2,side3)\n",
    "else:\n",
    "    print(\"Shape name invalid, please Enter valid shape name\")\n",
    "print('-'*50)\n",
    "r.perimeter()\n",
    "print('-'*50)\n",
    "r.area()"
   ]
  },
  {
   "cell_type": "markdown",
   "id": "472ac9f9",
   "metadata": {},
   "source": [
    "### Q 3 -- Create a class called student which contains the data members called rollno, sname and branch. The class should contain methods to initialize the data members and to set and display data members. Finally, the class should contain the del method to release the memory at the time of object destruction. Test your class with at least two objects of the student class."
   ]
  },
  {
   "cell_type": "code",
   "execution_count": 6,
   "id": "91fb5390",
   "metadata": {},
   "outputs": [],
   "source": [
    "class Student:\n",
    "    def __init__(self,rollno=0,sname=\"<>\",branch=\" <> \"):\n",
    "        self.rollno = rollno\n",
    "        self.sname = sname\n",
    "        self.branch = branch\n",
    "        \n",
    "    def set_data(self,rollno,sname,branch):\n",
    "        self.rollno = rollno\n",
    "        self.sname = sname\n",
    "        self.branch = branch\n",
    "        \n",
    "    def Display_data(self):\n",
    "        print('Name   : ',self.sname)\n",
    "        print('Rollno : ',self.rollno)\n",
    "        print('Branch : ',self.branch)\n",
    "        \n",
    "    def __del__(self):\n",
    "        print('-'*80)\n",
    "        print(\"{ Deleting the object : \"+str(self),'}')\n",
    "        print('-'*80)"
   ]
  },
  {
   "cell_type": "code",
   "execution_count": 7,
   "id": "692345c4",
   "metadata": {},
   "outputs": [
    {
     "name": "stdout",
     "output_type": "stream",
     "text": [
      "--------------------------------------------------------------------------------\n",
      "{ Deleting the object : <__main__.Student object at 0x00000207C3F7C850> }\n",
      "--------------------------------------------------------------------------------\n",
      "Name   :  Athili Pravalika\n",
      "Rollno :  13\n",
      "Branch :  Computer science\n",
      "--------------------------------------------------------------------------------\n",
      "{ Deleting the object : <__main__.Student object at 0x00000207C3F7C8B0> }\n",
      "--------------------------------------------------------------------------------\n",
      "Name   :  <>\n",
      "Rollno :  0\n",
      "Branch :   <> \n",
      "********************************************************************************\n",
      "Name   :  Rangumudri Vinay sai\n",
      "Rollno :  21\n",
      "Branch :  Mechanical\n",
      "--------------------------------------------------------------------------------\n",
      "{ Deleting the object : <__main__.Student object at 0x00000207C3F82C10> }\n",
      "--------------------------------------------------------------------------------\n",
      "--------------------------------------------------------------------------------\n",
      "{ Deleting the object : <__main__.Student object at 0x00000207C3F97970> }\n",
      "--------------------------------------------------------------------------------\n"
     ]
    }
   ],
   "source": [
    "s1=Student(13,'Athili Pravalika','Computer science')\n",
    "s1.Display_data()\n",
    "\n",
    "s2 = Student()\n",
    "s2.Display_data()\n",
    "print(\"*\"*80)\n",
    "s2.set_data(21,'Rangumudri Vinay sai','Mechanical')\n",
    "s2.Display_data()\n",
    "\n",
    "s1.__del__()\n",
    "s2.__del__()"
   ]
  },
  {
   "cell_type": "markdown",
   "id": "74f2ce65",
   "metadata": {},
   "source": [
    "### Q4 -- Modify the student class defined in Q. No. 1 in so that it now includes a class variable to count the number of student objects created from this class and also add a class function in order to display the value of the class variable. The modified class should be named as student1 class."
   ]
  },
  {
   "cell_type": "code",
   "execution_count": 10,
   "id": "457760bd",
   "metadata": {},
   "outputs": [],
   "source": [
    "class Student1:\n",
    "    counter = 0\n",
    "    def __init__(self,rollno=0,sname=\"<>\",branch=\" <> \"):\n",
    "        self.rollno = rollno\n",
    "        self.sname = sname\n",
    "        self.branch = branch\n",
    "        Student1.counter = Student1.counter+1\n",
    "    def set_data(self,rollno,sname,branch):\n",
    "        self.rollno = rollno\n",
    "        self.sname = sname\n",
    "        self.branch = branch\n",
    "        \n",
    "    def Display_data(self):\n",
    "        print('Name   : ',self.sname)\n",
    "        print('Rollno : ',self.rollno)\n",
    "        print('Branch : ',self.branch)   \n",
    "    @classmethod \n",
    "    def no_of_obj(cls):\n",
    "        return cls.counter"
   ]
  },
  {
   "cell_type": "code",
   "execution_count": 11,
   "id": "2128a76f",
   "metadata": {},
   "outputs": [
    {
     "name": "stdout",
     "output_type": "stream",
     "text": [
      "Name   :  Athili Pravalika\n",
      "Rollno :  13\n",
      "Branch :  Computer science\n",
      "--------------------------------------------------\n",
      "Name   :  <>\n",
      "Rollno :  0\n",
      "Branch :   <> \n",
      "--------------------------------------------------\n",
      "Name   :  Rangumudri Vinay sai\n",
      "Rollno :  21\n",
      "Branch :  Mechanical\n",
      "--------------------------------------------------\n",
      "The number of objects in Student1 class: 2\n"
     ]
    }
   ],
   "source": [
    "s1=Student1(13,'Athili Pravalika','Computer science')\n",
    "s1.Display_data()\n",
    "print(\"-\"*50)\n",
    "s2 = Student1()\n",
    "s2.Display_data()\n",
    "print(\"-\"*50)\n",
    "s2.set_data(21,'Rangumudri Vinay sai','Mechanical')\n",
    "s2.Display_data()\n",
    "print(\"-\"*50)\n",
    "print('The number of objects in Student1 class:',Student1.no_of_obj())"
   ]
  },
  {
   "cell_type": "markdown",
   "id": "1a6e1beb",
   "metadata": {},
   "source": [
    "### Q5 -- Apply the vars() and dir() global function on student and student1 classes"
   ]
  },
  {
   "cell_type": "code",
   "execution_count": 12,
   "id": "80a92e95",
   "metadata": {},
   "outputs": [
    {
     "data": {
      "text/plain": [
       "mappingproxy({'__module__': '__main__',\n",
       "              '__init__': <function __main__.Student.__init__(self, rollno=0, sname='<>', branch=' <> ')>,\n",
       "              'set_data': <function __main__.Student.set_data(self, rollno, sname, branch)>,\n",
       "              'Display_data': <function __main__.Student.Display_data(self)>,\n",
       "              '__del__': <function __main__.Student.__del__(self)>,\n",
       "              '__dict__': <attribute '__dict__' of 'Student' objects>,\n",
       "              '__weakref__': <attribute '__weakref__' of 'Student' objects>,\n",
       "              '__doc__': None})"
      ]
     },
     "execution_count": 12,
     "metadata": {},
     "output_type": "execute_result"
    }
   ],
   "source": [
    "vars(Student)"
   ]
  },
  {
   "cell_type": "code",
   "execution_count": 13,
   "id": "9109063a",
   "metadata": {},
   "outputs": [
    {
     "data": {
      "text/plain": [
       "mappingproxy({'__module__': '__main__',\n",
       "              'counter': 2,\n",
       "              '__init__': <function __main__.Student1.__init__(self, rollno=0, sname='<>', branch=' <> ')>,\n",
       "              'set_data': <function __main__.Student1.set_data(self, rollno, sname, branch)>,\n",
       "              'Display_data': <function __main__.Student1.Display_data(self)>,\n",
       "              'no_of_obj': <classmethod at 0x207c3f97fd0>,\n",
       "              '__dict__': <attribute '__dict__' of 'Student1' objects>,\n",
       "              '__weakref__': <attribute '__weakref__' of 'Student1' objects>,\n",
       "              '__doc__': None})"
      ]
     },
     "execution_count": 13,
     "metadata": {},
     "output_type": "execute_result"
    }
   ],
   "source": [
    "vars(Student1)"
   ]
  },
  {
   "cell_type": "code",
   "execution_count": 14,
   "id": "00557607",
   "metadata": {},
   "outputs": [
    {
     "data": {
      "text/plain": [
       "['Display_data',\n",
       " '__class__',\n",
       " '__del__',\n",
       " '__delattr__',\n",
       " '__dict__',\n",
       " '__dir__',\n",
       " '__doc__',\n",
       " '__eq__',\n",
       " '__format__',\n",
       " '__ge__',\n",
       " '__getattribute__',\n",
       " '__gt__',\n",
       " '__hash__',\n",
       " '__init__',\n",
       " '__init_subclass__',\n",
       " '__le__',\n",
       " '__lt__',\n",
       " '__module__',\n",
       " '__ne__',\n",
       " '__new__',\n",
       " '__reduce__',\n",
       " '__reduce_ex__',\n",
       " '__repr__',\n",
       " '__setattr__',\n",
       " '__sizeof__',\n",
       " '__str__',\n",
       " '__subclasshook__',\n",
       " '__weakref__',\n",
       " 'set_data']"
      ]
     },
     "execution_count": 14,
     "metadata": {},
     "output_type": "execute_result"
    }
   ],
   "source": [
    "dir(Student)"
   ]
  },
  {
   "cell_type": "code",
   "execution_count": 15,
   "id": "da3a1f24",
   "metadata": {},
   "outputs": [
    {
     "data": {
      "text/plain": [
       "['Display_data',\n",
       " '__class__',\n",
       " '__delattr__',\n",
       " '__dict__',\n",
       " '__dir__',\n",
       " '__doc__',\n",
       " '__eq__',\n",
       " '__format__',\n",
       " '__ge__',\n",
       " '__getattribute__',\n",
       " '__gt__',\n",
       " '__hash__',\n",
       " '__init__',\n",
       " '__init_subclass__',\n",
       " '__le__',\n",
       " '__lt__',\n",
       " '__module__',\n",
       " '__ne__',\n",
       " '__new__',\n",
       " '__reduce__',\n",
       " '__reduce_ex__',\n",
       " '__repr__',\n",
       " '__setattr__',\n",
       " '__sizeof__',\n",
       " '__str__',\n",
       " '__subclasshook__',\n",
       " '__weakref__',\n",
       " 'counter',\n",
       " 'no_of_obj',\n",
       " 'set_data']"
      ]
     },
     "execution_count": 15,
     "metadata": {},
     "output_type": "execute_result"
    }
   ],
   "source": [
    "dir(Student1)"
   ]
  },
  {
   "cell_type": "markdown",
   "id": "d34cbc10",
   "metadata": {},
   "source": [
    "### Q 6 -- Create a class called Date. It should contain data members day, month and year. It should also contain functions to set and display date, as well as function to initialize date objects. Overload the == operator to check if two dates are equal"
   ]
  },
  {
   "cell_type": "code",
   "execution_count": 16,
   "id": "3ff49e3f",
   "metadata": {},
   "outputs": [],
   "source": [
    "class Date:\n",
    "    def __init__(self,day=0,month=0,year=0):\n",
    "        self._day = day\n",
    "        self._month = month\n",
    "        self._year = year\n",
    "        \n",
    "    def set_data(self,day,month,year):\n",
    "        self._day = day\n",
    "        self._month = month\n",
    "        self._year = year\n",
    "        \n",
    "    def display_data(self):\n",
    "        print(\"Entered Date of Birth : \",\"[\",self._day,\"/\",self._month,\"/\",self._year,\"]\")\n",
    "    def __eq__(self,other):\n",
    "        if self._day == other._day and self._month == other._month and self._year == other._year:\n",
    "            return 'both dates are equal'\n",
    "        else:\n",
    "            return 'both dates are not equal'"
   ]
  },
  {
   "cell_type": "code",
   "execution_count": 17,
   "id": "2d25968b",
   "metadata": {},
   "outputs": [
    {
     "name": "stdout",
     "output_type": "stream",
     "text": [
      "Enter a date of birth(DOB)\n",
      "--------------------------------------------------\n",
      "Enter a day   : 21\n",
      "Enter a month : 12\n",
      "Enter a year  : 1999\n",
      "Entered Date of Birth :  [ 21 / 12 / 1999 ]\n",
      "**************************************************\n",
      "Enter a day   : 21\n",
      "Enter a month : 12\n",
      "Enter a year  : 1999\n",
      "Entered Date of Birth :  [ 21 / 12 / 1999 ]\n",
      "**************************************************\n",
      "both dates are equal\n"
     ]
    }
   ],
   "source": [
    "print(\"Enter a date of birth(DOB)\")\n",
    "print('-'*50)\n",
    "d1 = int(input(\"Enter a day   : \"))\n",
    "m1 = int(input(\"Enter a month : \"))\n",
    "y1 = int(input(\"Enter a year  : \"))\n",
    "d1=Date(d1,m1,y1)\n",
    "d1.display_data()\n",
    "print('*'*50)\n",
    "d2 = int(input(\"Enter a day   : \"))\n",
    "m2 = int(input(\"Enter a month : \"))\n",
    "y2 = int(input(\"Enter a year  : \"))\n",
    "d2=Date(d2,m2,y2)\n",
    "d2.display_data()\n",
    "print('*'*50)\n",
    "print(d1==d2)"
   ]
  },
  {
   "cell_type": "markdown",
   "id": "9247a67d",
   "metadata": {},
   "source": [
    "### Q7 -- Create a class called weather that has a list containing weather parameters. Overload the in operator that checks whether an item is present in the list or not."
   ]
  },
  {
   "cell_type": "code",
   "execution_count": 18,
   "id": "6dd6519e",
   "metadata": {},
   "outputs": [],
   "source": [
    "class Weather:\n",
    "    \n",
    "    def __init__(self,t,h,w,m,p):\n",
    "        self.temperature= t\n",
    "        self.humidity   = h\n",
    "        self.wind_speed = w\n",
    "        self.moisture   = m\n",
    "        self.pressure   = p\n",
    "        self.list = [self.pressure,self.temperature,self.humidity,self.wind_speed,self.moisture]\n",
    "        \n",
    "    def set_data(self,t,h,w,m,p):\n",
    "        self.temperature = t\n",
    "        self.humidity    = h\n",
    "        self.wind_speed  = w\n",
    "        self.moisture    = m\n",
    "        self.pressure    = p\n",
    "    def display(self):\n",
    "        return self.list\n",
    "        \n",
    "    def contains(self,other):\n",
    "        if other in self.list:\n",
    "            print(\"Item is present\")\n",
    "        else:\n",
    "            print(\"Item is not present\")"
   ]
  },
  {
   "cell_type": "code",
   "execution_count": 19,
   "id": "8e00172d",
   "metadata": {},
   "outputs": [
    {
     "name": "stdout",
     "output_type": "stream",
     "text": [
      "Item is present\n"
     ]
    }
   ],
   "source": [
    "w1=Weather('Temperature','Humidity','Wind speed','moisture','pressure')\n",
    "w1.display()\n",
    "w1.contains('Humidity')"
   ]
  },
  {
   "cell_type": "markdown",
   "id": "00625099",
   "metadata": {},
   "source": [
    "### Q 8 -- Create a class called complex containing real and imaginary parts and then use it to check whether two objects are of the same type, whether their attributes are same and whether they are pointing to the same object"
   ]
  },
  {
   "cell_type": "code",
   "execution_count": 20,
   "id": "b2e6e954",
   "metadata": {},
   "outputs": [],
   "source": [
    "class Complex:\n",
    "    def __init__(self,r,i):\n",
    "        self._real=r\n",
    "        self._imaginary=i\n",
    "        \n",
    "    def display_complex(self):\n",
    "        print(\"Complex value = [\",self._real,',',self._imaginary,\"]\")\n",
    "        \n",
    "    def __eq__(self,other):\n",
    "        if self._imaginary == other._imaginary and self._real == other._real:\n",
    "            print(\"Two objects are same \")\n",
    "        else:\n",
    "            print(\"Two objects are not same\")"
   ]
  },
  {
   "cell_type": "code",
   "execution_count": 21,
   "id": "a4d46e17",
   "metadata": {},
   "outputs": [
    {
     "name": "stdout",
     "output_type": "stream",
     "text": [
      "Complex value = [ 12 , 6j ]\n",
      "Complex value = [ 4 , 5j ]\n",
      "==============================\n",
      "Two objects are not same\n"
     ]
    }
   ],
   "source": [
    "n1 = Complex(12,6j)\n",
    "n1.display_complex()\n",
    "n2 = Complex(4,5j)\n",
    "n2.display_complex()\n",
    "print('='*30)\n",
    "n1 == n2"
   ]
  },
  {
   "cell_type": "markdown",
   "id": "356b6f0d",
   "metadata": {},
   "source": [
    "### Q9 -- Create a class called department with the attributes deptname and deptid. Modify the student class defined in Q.No. 3 such that it contains an object of department class. Name the new modified student class as student2."
   ]
  },
  {
   "cell_type": "code",
   "execution_count": 22,
   "id": "21012016",
   "metadata": {},
   "outputs": [],
   "source": [
    "class Department:\n",
    "    def set_department(self):\n",
    "        self._deptid = input('Enter department id   : ')\n",
    "        self._deptname = input('Enter department name : ')\n",
    "    def display_department(self):\n",
    "        print('Department ID   : ',self._deptid)\n",
    "        print('Department Name : ',self._deptname)\n",
    "class Student2:\n",
    "    def set_data(self):\n",
    "        self._sid = input('Enter Student id      : ')\n",
    "        self._sname = input('Enter Student name    : ')\n",
    "        self._dept = Department()\n",
    "        self._dept.set_department()\n",
    "    def display_data(self):\n",
    "        print('Student ID      : ',self._sid)\n",
    "        print('Student Name    : ',self._sname)\n",
    "        self._dept.display_department()"
   ]
  },
  {
   "cell_type": "code",
   "execution_count": 24,
   "id": "e8a5c0f9",
   "metadata": {},
   "outputs": [
    {
     "name": "stdout",
     "output_type": "stream",
     "text": [
      "Enter Student id      : 324\n",
      "Enter Student name    : RANGUMUDRI VINAY SAI\n",
      "Enter department id   : MECH\n",
      "Enter department name : MECHANICAL\n",
      "--------------------------------------------------\n",
      "Student Details\n",
      "Student ID      :  324\n",
      "Student Name    :  RANGUMUDRI VINAY SAI\n",
      "Department ID   :  MECH\n",
      "Department Name :  MECHANICAL\n",
      "**************************************************\n",
      "Enter Student id      : 512\n",
      "Enter Student name    : ATHILI PRAVALIKA\n",
      "Enter department id   : CSE\n",
      "Enter department name : COMPUTER SCIENCE\n",
      "--------------------------------------------------\n",
      "Student Details\n",
      "Student ID      :  512\n",
      "Student Name    :  ATHILI PRAVALIKA\n",
      "Department ID   :  CSE\n",
      "Department Name :  COMPUTER SCIENCE\n"
     ]
    }
   ],
   "source": [
    "s1 = Student2()\n",
    "s1.set_data()\n",
    "print('-'*50)\n",
    "print(\"Student Details\")\n",
    "s1.display_data()\n",
    "print('*'*50)\n",
    "s2 = Student2()\n",
    "s2.set_data()\n",
    "print('-'*50)\n",
    "print(\"Student Details\")\n",
    "s2.display_data()"
   ]
  },
  {
   "cell_type": "markdown",
   "id": "4e59809a",
   "metadata": {},
   "source": [
    "### Q10 -- Create a class called Person. From this class, inherit another class called student. Assume suitable data members and member functions for these two classes. In both the classes, define the str function and demonstrate method overriding."
   ]
  },
  {
   "cell_type": "code",
   "execution_count": 25,
   "id": "104141bb",
   "metadata": {},
   "outputs": [],
   "source": [
    "class Person:\n",
    "    def __init__(self,n,a):\n",
    "        self._name = n\n",
    "        self._age  = a\n",
    "    def birthday(self):\n",
    "        print('Happy birthday you were',self._age)\n",
    "        self._age += 1\n",
    "        print('you are now : ',self._age)\n",
    "    def __str__(self):\n",
    "        return self._name + ' is ' + str(self._age) + ' years old'"
   ]
  },
  {
   "cell_type": "code",
   "execution_count": 26,
   "id": "84f7827a",
   "metadata": {},
   "outputs": [],
   "source": [
    "class Student(Person):\n",
    "    def __init__(self,n,a,r,b):\n",
    "        super().__init__(n,a)\n",
    "        self._rollno=r\n",
    "        self._branch=b\n",
    "    def display_data(self):\n",
    "        print('Student name :',self._name)\n",
    "        print('Roll no is   :',self._rollno)\n",
    "        print('Branch is    :',self._branch)\n",
    "    \n",
    "    def __str__(self): \n",
    "        return self._name +' is '+ str(self._age) + \" old and from branch of \" + self._branch"
   ]
  },
  {
   "cell_type": "code",
   "execution_count": 27,
   "id": "2fc54fa5",
   "metadata": {},
   "outputs": [
    {
     "name": "stdout",
     "output_type": "stream",
     "text": [
      "A Person Object \n",
      "The person  Vinay Sai is 21 years old\n",
      "Happy birthday you were 21\n",
      "you are now :  22\n",
      "**************************************************\n",
      "Student object:\n",
      "Student name : Pravali\n",
      "Roll no is   : 521\n",
      "Branch is    : COMPUTER SCIENCE\n",
      "Pravali is 19 old and from branch of COMPUTER SCIENCE\n"
     ]
    }
   ],
   "source": [
    "print('A Person Object ')\n",
    "p = Person('Vinay Sai',21)\n",
    "print('The person ',p)\n",
    "p.birthday()\n",
    "print('*'*50)\n",
    "print('Student object:')\n",
    "S = Student('Pravali',19,521,'COMPUTER SCIENCE')\n",
    "S.display_data()\n",
    "print(S)"
   ]
  }
 ],
 "metadata": {
  "kernelspec": {
   "display_name": "Python 3 (ipykernel)",
   "language": "python",
   "name": "python3"
  },
  "language_info": {
   "codemirror_mode": {
    "name": "ipython",
    "version": 3
   },
   "file_extension": ".py",
   "mimetype": "text/x-python",
   "name": "python",
   "nbconvert_exporter": "python",
   "pygments_lexer": "ipython3",
   "version": "3.9.7"
  }
 },
 "nbformat": 4,
 "nbformat_minor": 5
}
