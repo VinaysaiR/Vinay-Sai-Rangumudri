{
 "cells": [
  {
   "cell_type": "code",
   "execution_count": 74,
   "id": "81225718",
   "metadata": {},
   "outputs": [
    {
     "name": "stdout",
     "output_type": "stream",
     "text": [
      "<class 'str'>\n",
      "<class 'list'>\n"
     ]
    }
   ],
   "source": [
    "name = 'vinay'\n",
    "print(type(name))\n",
    "li = []\n",
    "print(type(li))"
   ]
  },
  {
   "cell_type": "code",
   "execution_count": 75,
   "id": "a396389e",
   "metadata": {},
   "outputs": [
    {
     "name": "stdout",
     "output_type": "stream",
     "text": [
      "<class 'list'>\n",
      "<class 'tuple'>\n",
      "<class 'dict'>\n"
     ]
    }
   ],
   "source": [
    "l = []\n",
    "t = ()\n",
    "e = {}\n",
    "print(type(l))\n",
    "print(type(t))\n",
    "print(type(e))"
   ]
  },
  {
   "cell_type": "code",
   "execution_count": 76,
   "id": "798fd998",
   "metadata": {},
   "outputs": [
    {
     "name": "stdout",
     "output_type": "stream",
     "text": [
      "The is vinay\n",
      "False\n"
     ]
    }
   ],
   "source": [
    "name1 = \" The is vinay\"\n",
    "print(name1.strip(' '))\n",
    "print(name1.isdigit())"
   ]
  },
  {
   "cell_type": "code",
   "execution_count": 77,
   "id": "67b91e54",
   "metadata": {},
   "outputs": [
    {
     "name": "stdout",
     "output_type": "stream",
     "text": [
      "['__add__', '__class__', '__contains__', '__delattr__', '__dir__', '__doc__', '__eq__', '__format__', '__ge__', '__getattribute__', '__getitem__', '__getnewargs__', '__gt__', '__hash__', '__init__', '__init_subclass__', '__iter__', '__le__', '__len__', '__lt__', '__mod__', '__mul__', '__ne__', '__new__', '__reduce__', '__reduce_ex__', '__repr__', '__rmod__', '__rmul__', '__setattr__', '__sizeof__', '__str__', '__subclasshook__', 'capitalize', 'casefold', 'center', 'count', 'encode', 'endswith', 'expandtabs', 'find', 'format', 'format_map', 'index', 'isalnum', 'isalpha', 'isascii', 'isdecimal', 'isdigit', 'isidentifier', 'islower', 'isnumeric', 'isprintable', 'isspace', 'istitle', 'isupper', 'join', 'ljust', 'lower', 'lstrip', 'maketrans', 'partition', 'removeprefix', 'removesuffix', 'replace', 'rfind', 'rindex', 'rjust', 'rpartition', 'rsplit', 'rstrip', 'split', 'splitlines', 'startswith', 'strip', 'swapcase', 'title', 'translate', 'upper', 'zfill']\n"
     ]
    }
   ],
   "source": [
    "print(dir(name))"
   ]
  },
  {
   "cell_type": "code",
   "execution_count": 78,
   "id": "38bc98fe",
   "metadata": {},
   "outputs": [
    {
     "name": "stdout",
     "output_type": "stream",
     "text": [
      "['__add__', '__class__', '__class_getitem__', '__contains__', '__delattr__', '__delitem__', '__dir__', '__doc__', '__eq__', '__format__', '__ge__', '__getattribute__', '__getitem__', '__gt__', '__hash__', '__iadd__', '__imul__', '__init__', '__init_subclass__', '__iter__', '__le__', '__len__', '__lt__', '__mul__', '__ne__', '__new__', '__reduce__', '__reduce_ex__', '__repr__', '__reversed__', '__rmul__', '__setattr__', '__setitem__', '__sizeof__', '__str__', '__subclasshook__', 'append', 'clear', 'copy', 'count', 'extend', 'index', 'insert', 'pop', 'remove', 'reverse', 'sort']\n"
     ]
    }
   ],
   "source": [
    "print(dir(l))"
   ]
  },
  {
   "cell_type": "code",
   "execution_count": 79,
   "id": "8bf3eb8b",
   "metadata": {},
   "outputs": [
    {
     "name": "stdout",
     "output_type": "stream",
     "text": [
      "['__add__', '__class__', '__class_getitem__', '__contains__', '__delattr__', '__dir__', '__doc__', '__eq__', '__format__', '__ge__', '__getattribute__', '__getitem__', '__getnewargs__', '__gt__', '__hash__', '__init__', '__init_subclass__', '__iter__', '__le__', '__len__', '__lt__', '__mul__', '__ne__', '__new__', '__reduce__', '__reduce_ex__', '__repr__', '__rmul__', '__setattr__', '__sizeof__', '__str__', '__subclasshook__', 'count', 'index']\n"
     ]
    }
   ],
   "source": [
    "print(dir(t))"
   ]
  },
  {
   "cell_type": "code",
   "execution_count": 80,
   "id": "911cdf3a",
   "metadata": {},
   "outputs": [
    {
     "name": "stdout",
     "output_type": "stream",
     "text": [
      "['__class__', '__class_getitem__', '__contains__', '__delattr__', '__delitem__', '__dir__', '__doc__', '__eq__', '__format__', '__ge__', '__getattribute__', '__getitem__', '__gt__', '__hash__', '__init__', '__init_subclass__', '__ior__', '__iter__', '__le__', '__len__', '__lt__', '__ne__', '__new__', '__or__', '__reduce__', '__reduce_ex__', '__repr__', '__reversed__', '__ror__', '__setattr__', '__setitem__', '__sizeof__', '__str__', '__subclasshook__', 'clear', 'copy', 'fromkeys', 'get', 'items', 'keys', 'pop', 'popitem', 'setdefault', 'update', 'values']\n"
     ]
    }
   ],
   "source": [
    "print(dir(e))"
   ]
  },
  {
   "cell_type": "code",
   "execution_count": 81,
   "id": "4ec4ce80",
   "metadata": {},
   "outputs": [
    {
     "name": "stdout",
     "output_type": "stream",
     "text": [
      "[]\n",
      "**************************************************\n",
      "[1, 2]\n"
     ]
    }
   ],
   "source": [
    "print(l)\n",
    "print('*'*50)\n",
    "l.append(1)\n",
    "l.append(2)\n",
    "print(l)"
   ]
  },
  {
   "cell_type": "code",
   "execution_count": 82,
   "id": "d35d704b",
   "metadata": {},
   "outputs": [
    {
     "name": "stdout",
     "output_type": "stream",
     "text": [
      "vinay\n",
      "**************************************************\n"
     ]
    },
    {
     "ename": "AttributeError",
     "evalue": "'str' object has no attribute 'append'",
     "output_type": "error",
     "traceback": [
      "\u001b[1;31m---------------------------------------------------------------------------\u001b[0m",
      "\u001b[1;31mAttributeError\u001b[0m                            Traceback (most recent call last)",
      "\u001b[1;32mC:\\Users\\SANJEE~1\\AppData\\Local\\Temp/ipykernel_24700/1903001876.py\u001b[0m in \u001b[0;36m<module>\u001b[1;34m\u001b[0m\n\u001b[0;32m      3\u001b[0m \u001b[0mprint\u001b[0m\u001b[1;33m(\u001b[0m\u001b[0mname\u001b[0m\u001b[1;33m)\u001b[0m\u001b[1;33m\u001b[0m\u001b[1;33m\u001b[0m\u001b[0m\n\u001b[0;32m      4\u001b[0m \u001b[0mprint\u001b[0m\u001b[1;33m(\u001b[0m\u001b[1;34m'*'\u001b[0m\u001b[1;33m*\u001b[0m\u001b[1;36m50\u001b[0m\u001b[1;33m)\u001b[0m\u001b[1;33m\u001b[0m\u001b[1;33m\u001b[0m\u001b[0m\n\u001b[1;32m----> 5\u001b[1;33m \u001b[0mname\u001b[0m\u001b[1;33m.\u001b[0m\u001b[0mappend\u001b[0m\u001b[1;33m(\u001b[0m\u001b[0mname1\u001b[0m\u001b[1;33m)\u001b[0m\u001b[1;33m\u001b[0m\u001b[1;33m\u001b[0m\u001b[0m\n\u001b[0m\u001b[0;32m      6\u001b[0m \u001b[0mprint\u001b[0m\u001b[1;33m(\u001b[0m\u001b[0mname\u001b[0m\u001b[1;33m)\u001b[0m\u001b[1;33m\u001b[0m\u001b[1;33m\u001b[0m\u001b[0m\n",
      "\u001b[1;31mAttributeError\u001b[0m: 'str' object has no attribute 'append'"
     ]
    }
   ],
   "source": [
    "name = 'vinay'\n",
    "name1 = 'pravali'\n",
    "print(name)\n",
    "print('*'*50)\n",
    "name.append(name1)\n",
    "print(name)"
   ]
  },
  {
   "cell_type": "code",
   "execution_count": 83,
   "id": "553eedab",
   "metadata": {},
   "outputs": [],
   "source": [
    "class student:\n",
    "    pass"
   ]
  },
  {
   "cell_type": "code",
   "execution_count": 84,
   "id": "273e35fe",
   "metadata": {},
   "outputs": [
    {
     "name": "stdout",
     "output_type": "stream",
     "text": [
      "<__main__.student object at 0x00000256FA8EA130>\n",
      "<__main__.student object at 0x00000256FA8EA4C0>\n",
      "<__main__.student object at 0x00000256FA8F32B0>\n"
     ]
    }
   ],
   "source": [
    "stu1 = student()\n",
    "stu2 = student()\n",
    "stu3 = student()\n",
    "\n",
    "print(stu1)\n",
    "print(stu2)\n",
    "print(stu3)"
   ]
  },
  {
   "cell_type": "code",
   "execution_count": 85,
   "id": "99416526",
   "metadata": {},
   "outputs": [
    {
     "name": "stdout",
     "output_type": "stream",
     "text": [
      "vinay sai 21 1999\n",
      "Pravalika 13 2004\n",
      "pravinay 18 2013\n",
      "hema 123 2001\n"
     ]
    }
   ],
   "source": [
    "class student:\n",
    "    pass\n",
    "stu1 = student()\n",
    "stu2 = student()\n",
    "stu3 = student()\n",
    "q = student()\n",
    "\n",
    "stu1.name = 'vinay sai'\n",
    "stu1.rollno = 21\n",
    "stu1.dob = 1999\n",
    "stu2.name = 'Pravalika'\n",
    "stu2.rollno = 13\n",
    "stu2.dob = 2004\n",
    "stu3.name = 'pravinay'\n",
    "stu3.rollno = 18\n",
    "stu3.dob = 2013\n",
    "q.name = 'hema'\n",
    "q.rollno = 123\n",
    "q.dob = 2001\n",
    "print(stu1.name, stu1.rollno, stu1.dob)\n",
    "print(stu2.name, stu2.rollno, stu2.dob)\n",
    "print(stu3.name, stu3.rollno, stu3.dob)\n",
    "print(q.name,     q.rollno,    q.dob)"
   ]
  },
  {
   "cell_type": "code",
   "execution_count": 86,
   "id": "20b54702",
   "metadata": {},
   "outputs": [
    {
     "name": "stdout",
     "output_type": "stream",
     "text": [
      "vinay sai 324 1999 bobbili\n",
      "pravali 512 2004 chodavaram\n",
      "hema 506 2003 pendurthi\n",
      "Hari 536 2001 subbavaram\n"
     ]
    }
   ],
   "source": [
    "class student:\n",
    "    def __init__(self,name,rollno,dob,city):\n",
    "        self.name = name\n",
    "        self.rollno = rollno\n",
    "        self.dob = dob\n",
    "        self.city = city\n",
    "        \n",
    "stu1 = student('vinay sai',324,1999,'bobbili')\n",
    "stu2 = student('pravali',512,2004,'chodavaram')\n",
    "stu3 = student('hema',506,2003,'pendurthi')\n",
    "q = student('Hari',536,2001,'subbavaram')\n",
    "\n",
    "print(stu1.name,stu1.rollno,stu1.dob,stu1.city)\n",
    "print(stu2.name,stu2.rollno,stu2.dob,stu2.city)\n",
    "print(stu3.name,stu3.rollno,stu3.dob,stu3.city)\n",
    "print(q.name,q.rollno,q.dob,q.city)"
   ]
  },
  {
   "cell_type": "code",
   "execution_count": 87,
   "id": "e8ef1ec4",
   "metadata": {},
   "outputs": [
    {
     "name": "stdout",
     "output_type": "stream",
     "text": [
      "Vinay 324 1999 Bobbili\n",
      "Pravali 512 2004 Chodavaram\n",
      "Hari 513 2003 Sabbavaram\n",
      "Hema 526 2001 Pendurthi\n",
      "******************************\n",
      "Name : Vinay, \n",
      " Roll no: 324, \n",
      " Dob : 1999, \n",
      " City : Bobbili\n",
      "------------------------------\n",
      "Name : Pravali, \n",
      " Roll no: 512, \n",
      " Dob : 2004, \n",
      " City : Chodavaram\n",
      "------------------------------\n",
      "Name : Hari, \n",
      " Roll no: 513, \n",
      " Dob : 2003, \n",
      " City : Sabbavaram\n",
      "------------------------------\n",
      "Name : Hema, \n",
      " Roll no: 526, \n",
      " Dob : 2001, \n",
      " City : Pendurthi\n"
     ]
    }
   ],
   "source": [
    "class student:\n",
    "    def __init__(self,name,rollno,dob,city):\n",
    "        self.name = name\n",
    "        self.rollno = rollno\n",
    "        self.dob = dob\n",
    "        self.city = city\n",
    "    def address(self):\n",
    "        address = f'Name : {self.name}, \\n Roll no: {self.rollno}, \\n Dob : {self.dob}, \\n City : {self.city}'\n",
    "        return address\n",
    "stu1 = student('Vinay',324,1999,'Bobbili')\n",
    "stu2 = student('Pravali',512,2004,'Chodavaram')\n",
    "stu3 = student('Hari',513,2003,'Sabbavaram')\n",
    "q = student('Hema',526,2001,'Pendurthi')\n",
    "\n",
    "print(stu1.name,stu1.rollno,stu1.dob,stu1.city)\n",
    "print(stu2.name,stu2.rollno,stu2.dob,stu2.city)\n",
    "print(stu3.name,stu3.rollno,stu3.dob,stu3.city)\n",
    "print(q.name,q.rollno,q.dob,q.city)\n",
    "print(\"*\"*30)\n",
    "print(stu1.address())\n",
    "print(\"-\"*30)\n",
    "print(stu2.address())\n",
    "print(\"-\"*30)\n",
    "print(stu3.address())\n",
    "print(\"-\"*30)\n",
    "print(q.address())"
   ]
  },
  {
   "cell_type": "code",
   "execution_count": null,
   "id": "1c0cdfeb",
   "metadata": {},
   "outputs": [],
   "source": [
    "from datetime import date\n",
    "class student:\n",
    "    def __init__(self,name,rollno,dob,city):\n",
    "        self.name = name\n",
    "        self.rollno = rollno\n",
    "        self.dob = dob\n",
    "        self.city = city\n",
    "        \n",
    "    def address(self):\n",
    "        address = f'Name : {self.name}, \\n Roll no: {self.rollno}, \\n Dob : {self.dob}, \\n City : {self.city}'\n",
    "        return address\n",
    "    \n",
    "    def age(self):\n",
    "        return date.today().year-self.dob\n",
    "    \n",
    "stu1 = student('Vinay',324,1999,'Bobbili')\n",
    "stu2 = student('Pravali',512,2004,'Chodavaram')\n",
    "stu3 = student('Hari',513,2003,'Sabbavaram')\n",
    "q = student('Hema',526,2001,'Pendurthi')\n",
    "\n",
    "print(stu1.age())\n",
    "print(stu2.age())\n",
    "print(stu3.age())\n",
    "print(q.age())\n",
    "print(stu1.name,stu1.rollno,stu1.dob,stu1.city)\n",
    "print(stu2.name,stu2.rollno,stu2.dob,stu2.city)\n",
    "print(stu3.name,stu3.rollno,stu3.dob,stu3.city)\n",
    "print(q.name,q.rollno,q.dob,q.city)\n",
    "print(\"*\"*30)\n",
    "print(stu1.address())\n",
    "print(\"-\"*30)\n",
    "print(stu2.address())\n",
    "print(\"-\"*30)\n",
    "print(stu3.address())\n",
    "print(\"-\"*30)\n",
    "print(q.address())\n",
    "print('='*30)\n",
    "print(stu2.name ,':',stu2.rollno)"
   ]
  },
  {
   "cell_type": "code",
   "execution_count": null,
   "id": "4896b790",
   "metadata": {},
   "outputs": [],
   "source": [
    "from datetime import date\n",
    "class student:\n",
    "    def __init__(self,name,rollno,dob,city):\n",
    "        self.name = name\n",
    "        self.rollno = rollno\n",
    "        self.dob = dob\n",
    "        self.city = city\n",
    "        \n",
    "    def address(self):\n",
    "        address = f'Name : {self.name}, \\n Roll no: {self.rollno}, \\n Dob : {self.dob}, \\n City : {self.city}'\n",
    "        return address\n",
    "    \n",
    "    def age(self):\n",
    "        return date.today().year-self.dob\n",
    "    \n",
    "stu1 = student('Vinay',324,1999,'Bobbili')\n",
    "stu2 = student('Pravali',512,2004,'Chodavaram')\n",
    "stu3 = student('Hari',513,2003,'Sabbavaram')\n",
    "q = student('Hema',526,2001,'Pendurthi')\n",
    "\n",
    "student.fees = 10000\n",
    "print(stu1.fees)\n",
    "print(stu2.fees)\n",
    "print(stu3.fees)\n",
    "print(q.fees)"
   ]
  },
  {
   "cell_type": "code",
   "execution_count": null,
   "id": "8c8ed4cb",
   "metadata": {},
   "outputs": [],
   "source": [
    "from datetime import date\n",
    "class student:\n",
    "    fees = 10000\n",
    "    def __init__(self,name,rollno,dob,city):\n",
    "        self.name = name\n",
    "        self.rollno = rollno\n",
    "        self.dob = dob\n",
    "        self.city = city\n",
    "        \n",
    "    def address(self):\n",
    "        address = f'Name : {self.name}, \\n Roll no: {self.rollno}, \\n Dob : {self.dob}, \\n City : {self.city}'\n",
    "        return address\n",
    "    \n",
    "    def age(self):\n",
    "        return date.today().year-self.dob\n",
    "    \n",
    "stu1 = student('Vinay',324,1999,'Bobbili')\n",
    "stu2 = student('Pravali',512,2004,'Chodavaram')\n",
    "stu3 = student('Hari',513,2003,'Sabbavaram')\n",
    "q = student('Hema',526,2001,'Pendurthi')\n",
    "\n",
    "\n",
    "print(stu1.fees)\n",
    "print(stu2.fees)\n",
    "print(stu3.fees)\n",
    "print(q.fees)"
   ]
  },
  {
   "cell_type": "code",
   "execution_count": null,
   "id": "d10a1817",
   "metadata": {},
   "outputs": [],
   "source": [
    "stu1.fees = 15000\n",
    "print(stu1.fees)\n",
    "print(stu2.fees)\n",
    "print(stu3.fees)"
   ]
  },
  {
   "cell_type": "code",
   "execution_count": null,
   "id": "bbf8cd67",
   "metadata": {},
   "outputs": [],
   "source": [
    "print(stu1.__dict__)"
   ]
  },
  {
   "cell_type": "code",
   "execution_count": null,
   "id": "ff857774",
   "metadata": {},
   "outputs": [],
   "source": [
    "print(stu2.__dict__)"
   ]
  },
  {
   "cell_type": "code",
   "execution_count": null,
   "id": "42d79b03",
   "metadata": {},
   "outputs": [],
   "source": [
    "print(stu3.__dict__)"
   ]
  },
  {
   "cell_type": "code",
   "execution_count": null,
   "id": "8a7c9a7b",
   "metadata": {},
   "outputs": [],
   "source": [
    "print(q.__dict__)"
   ]
  },
  {
   "cell_type": "code",
   "execution_count": null,
   "id": "9a7af370",
   "metadata": {},
   "outputs": [],
   "source": [
    "class Student:\n",
    "    fees = 10000\n",
    "    no_of_students = 0\n",
    "    def __init__(self,name,rollno,dob,city):\n",
    "        self.name = name\n",
    "        self.rollno = rollno\n",
    "        self.dob = dob\n",
    "        self.city = city\n",
    "        Student.no_of_students = Student.no_of_students + 1\n",
    "        \n",
    "    def address(self):\n",
    "        address = f'Name : {self.name}, \\n Roll no: {self.rollno}, \\n Dob : {self.dob}, \\n City : {self.city}'\n",
    "        return address\n",
    "    \n",
    "    def pay_fees(self,amount):\n",
    "        return self.fees-amount\n",
    "    \n",
    "stu1 = Student('Vinay',324,1999,'Bobbili')\n",
    "stu2 = Student('Pravali',512,2004,'Chodavaram')\n",
    "stu3 = Student('Hari',513,2003,'Sabbavaram')\n",
    "q = Student('Hema',526,2001,'Pendurthi')\n",
    "\n",
    "\n",
    "print(stu1.pay_fees(5000))\n",
    "print(stu2.pay_fees(5000))\n",
    "print(stu3.pay_fees(2630))\n",
    "print(q.pay_fees(2300))\n",
    "print('+'*30)\n",
    "stu1.fees = 30000\n",
    "print(stu1.pay_fees(5000))\n",
    "print(stu1.pay_fees(2635))\n",
    "print(stu1.pay_fees(3624))"
   ]
  },
  {
   "cell_type": "code",
   "execution_count": null,
   "id": "dc5cb95c",
   "metadata": {},
   "outputs": [],
   "source": [
    "print(Student.no_of_students)"
   ]
  },
  {
   "cell_type": "code",
   "execution_count": null,
   "id": "67667239",
   "metadata": {},
   "outputs": [],
   "source": []
  }
 ],
 "metadata": {
  "kernelspec": {
   "display_name": "Python 3 (ipykernel)",
   "language": "python",
   "name": "python3"
  },
  "language_info": {
   "codemirror_mode": {
    "name": "ipython",
    "version": 3
   },
   "file_extension": ".py",
   "mimetype": "text/x-python",
   "name": "python",
   "nbconvert_exporter": "python",
   "pygments_lexer": "ipython3",
   "version": "3.9.7"
  }
 },
 "nbformat": 4,
 "nbformat_minor": 5
}
