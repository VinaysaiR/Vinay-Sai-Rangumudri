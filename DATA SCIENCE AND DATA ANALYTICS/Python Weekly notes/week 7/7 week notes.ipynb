{
 "cells": [
  {
   "cell_type": "markdown",
   "id": "222d1f9d",
   "metadata": {},
   "source": [
    "## OOPS - Object oriented program "
   ]
  },
  {
   "cell_type": "code",
   "execution_count": 35,
   "id": "c71ba261",
   "metadata": {},
   "outputs": [],
   "source": [
    "class Employee:\n",
    "    def set_data(self,n,a,s):\n",
    "        self._name = n\n",
    "        self._age = a\n",
    "        self._salary = s\n",
    "    def display_data(self):\n",
    "        print('Name   :',self._name)\n",
    "        print('Age    :',self._age)\n",
    "        print('Salary :',self._salary)"
   ]
  },
  {
   "cell_type": "code",
   "execution_count": 36,
   "id": "bc02414e",
   "metadata": {},
   "outputs": [
    {
     "name": "stdout",
     "output_type": "stream",
     "text": [
      "Name   : Vinay\n",
      "Age    : 25\n",
      "Salary : 53000\n",
      "***************\n",
      "Name   : Pravalika\n",
      "Age    : 21\n",
      "Salary : 60000\n",
      "***************\n",
      "--------------------------------------------------------------------------------\n",
      "{ Deleting the object : <__main__.Employee object at 0x0000028A2C6D6730> }\n",
      "--------------------------------------------------------------------------------\n",
      "Name   : Hema\n",
      "Age    : 20\n",
      "Salary : 55000\n",
      "***************\n",
      "Name   : Hari\n",
      "Age    : 22\n",
      "Salary : 56000\n"
     ]
    }
   ],
   "source": [
    "e1 = Employee()\n",
    "e1.set_data('Vinay',25,53000)\n",
    "e2 = Employee()\n",
    "e2.set_data('Pravalika',21,60000)\n",
    "\n",
    "e1.display_data()\n",
    "print('*'*15)\n",
    "e2.display_data()\n",
    "print('*'*15)\n",
    "\n",
    "e3 = Employee()\n",
    "e3.set_data('Hema',20,55000)\n",
    "e4 = Employee()\n",
    "e4.set_data('Hari',22,56000)\n",
    "\n",
    "e3.display_data()\n",
    "print('*'*15)\n",
    "e4.display_data()"
   ]
  },
  {
   "cell_type": "code",
   "execution_count": 38,
   "id": "172fa121",
   "metadata": {},
   "outputs": [
    {
     "name": "stdout",
     "output_type": "stream",
     "text": [
      "{'__module__': '__main__', 'set_data': <function Employee.set_data at 0x0000028A2C6D0C10>, 'display_data': <function Employee.display_data at 0x0000028A2C6D0700>, '__dict__': <attribute '__dict__' of 'Employee' objects>, '__weakref__': <attribute '__weakref__' of 'Employee' objects>, '__doc__': None}\n"
     ]
    }
   ],
   "source": [
    "print(vars(Employee))"
   ]
  },
  {
   "cell_type": "code",
   "execution_count": 41,
   "id": "796332cf",
   "metadata": {},
   "outputs": [
    {
     "data": {
      "text/plain": [
       "mappingproxy({'__module__': '__main__',\n",
       "              'set_data': <function __main__.Employee.set_data(self, n, a, s)>,\n",
       "              'display_data': <function __main__.Employee.display_data(self)>,\n",
       "              '__dict__': <attribute '__dict__' of 'Employee' objects>,\n",
       "              '__weakref__': <attribute '__weakref__' of 'Employee' objects>,\n",
       "              '__doc__': None})"
      ]
     },
     "execution_count": 41,
     "metadata": {},
     "output_type": "execute_result"
    }
   ],
   "source": [
    "vars(Employee)"
   ]
  },
  {
   "cell_type": "code",
   "execution_count": 42,
   "id": "302a8ecc",
   "metadata": {},
   "outputs": [],
   "source": [
    "class Employee:\n",
    "    \"\"\"An Employee class to create and \n",
    "    manipulate Employee objects\"\"\"\n",
    "    def __init__(self,n='',a=0,s=0.0):\n",
    "        self._name   = n\n",
    "        self._age    = a\n",
    "        self._salary = s\n",
    "    def set_data(self,n,a,s):\n",
    "        self._name   = n\n",
    "        self._age    = a\n",
    "        self._salary = s\n",
    "    def display_data(self):\n",
    "        print('Name   :',self._name)\n",
    "        print('Age    :',self._age)\n",
    "        print('salary :',self._salary)"
   ]
  },
  {
   "cell_type": "code",
   "execution_count": 43,
   "id": "57352a81",
   "metadata": {},
   "outputs": [
    {
     "name": "stdout",
     "output_type": "stream",
     "text": [
      "Name   : Vinay\n",
      "Age    : 25\n",
      "salary : 53000\n",
      "***************\n",
      "Name   : Pravalika\n",
      "Age    : 21\n",
      "salary : 60000\n",
      "***************\n",
      "Name   : \n",
      "Age    : 0\n",
      "salary : 0.0\n",
      "~~~~~~~~~~~~~~~\n",
      "Name   : Hema\n",
      "Age    : 20\n",
      "salary : 55000\n",
      "***************\n",
      "Name   : Hari\n",
      "Age    : 22\n",
      "salary : 56000\n"
     ]
    }
   ],
   "source": [
    "e1 = Employee('Vinay',25,53000)\n",
    "\n",
    "e2 = Employee('Pravalika',21,60000)\n",
    "\n",
    "e1.display_data()\n",
    "print('*'*15)\n",
    "e2.display_data()\n",
    "print('*'*15)\n",
    "\n",
    "e3 = Employee()\n",
    "e3.display_data()\n",
    "print('~'*15)\n",
    "e3.set_data('Hema',20,55000)\n",
    "\n",
    "e4 = Employee()\n",
    "e4.set_data('Hari',22,56000)\n",
    "\n",
    "e3.display_data()\n",
    "print('*'*15)\n",
    "e4.display_data()"
   ]
  },
  {
   "cell_type": "code",
   "execution_count": 44,
   "id": "733468f8",
   "metadata": {},
   "outputs": [
    {
     "data": {
      "text/plain": [
       "mappingproxy({'__module__': '__main__',\n",
       "              '__doc__': 'An Employee class to create and \\n    manipulate Employee objects',\n",
       "              '__init__': <function __main__.Employee.__init__(self, n='', a=0, s=0.0)>,\n",
       "              'set_data': <function __main__.Employee.set_data(self, n, a, s)>,\n",
       "              'display_data': <function __main__.Employee.display_data(self)>,\n",
       "              '__dict__': <attribute '__dict__' of 'Employee' objects>,\n",
       "              '__weakref__': <attribute '__weakref__' of 'Employee' objects>})"
      ]
     },
     "execution_count": 44,
     "metadata": {},
     "output_type": "execute_result"
    }
   ],
   "source": [
    "vars(Employee)"
   ]
  },
  {
   "cell_type": "code",
   "execution_count": 47,
   "id": "ee5d6025",
   "metadata": {},
   "outputs": [],
   "source": [
    "# demonistraion inti and del functions in Employee class\n",
    "class Employee:\n",
    "    \"\"\"An Employee class to create and \n",
    "    manipulate Employee objects\"\"\"\n",
    "    def __init__(self,n='',a=0,s=0.0):\n",
    "        self._name   = n\n",
    "        self._age    = a\n",
    "        self._salary = s\n",
    "    def set_data(self,n,a,s):\n",
    "        self._name   = n\n",
    "        self._age    = a\n",
    "        self._salary = s\n",
    "    def display_data(self):\n",
    "        print('Name   :',self._name)\n",
    "        print('Age    :',self._age)\n",
    "        print('salary :',self._salary)\n",
    "        \n",
    "    def __del__(self):\n",
    "        print('-'*80)\n",
    "        print(\"{ Deleting the object : \"+str(self),'}')\n",
    "        print('-'*80)"
   ]
  },
  {
   "cell_type": "code",
   "execution_count": 48,
   "id": "89318c3b",
   "metadata": {},
   "outputs": [
    {
     "name": "stdout",
     "output_type": "stream",
     "text": [
      "--------------------------------------------------------------------------------\n",
      "{ Deleting the object : <__main__.Employee object at 0x0000028A2C6866D0> }\n",
      "--------------------------------------------------------------------------------\n",
      "--------------------------------------------------------------------------------\n",
      "{ Deleting the object : <__main__.Employee object at 0x0000028A2C686730> }\n",
      "--------------------------------------------------------------------------------\n",
      "Name   : Vinay\n",
      "Age    : 25\n",
      "salary : 53000\n",
      "***************\n",
      "Name   : Pravalika\n",
      "Age    : 21\n",
      "salary : 60000\n",
      "***************\n",
      "--------------------------------------------------------------------------------\n",
      "{ Deleting the object : <__main__.Employee object at 0x0000028A2C6C19A0> }\n",
      "--------------------------------------------------------------------------------\n",
      "Name   : \n",
      "Age    : 0\n",
      "salary : 0.0\n",
      "~~~~~~~~~~~~~~~\n",
      "--------------------------------------------------------------------------------\n",
      "{ Deleting the object : <__main__.Employee object at 0x0000028A2C6C1250> }\n",
      "--------------------------------------------------------------------------------\n",
      "Name   : Hema\n",
      "Age    : 20\n",
      "salary : 55000\n",
      "***************\n",
      "Name   : Hari\n",
      "Age    : 22\n",
      "salary : 56000\n"
     ]
    }
   ],
   "source": [
    "e1 = Employee('Vinay',25,53000)\n",
    "\n",
    "e2 = Employee('Pravalika',21,60000)\n",
    "\n",
    "e1.display_data()\n",
    "print('*'*15)\n",
    "e2.display_data()\n",
    "print('*'*15)\n",
    "\n",
    "e3 = Employee()\n",
    "e3.display_data()\n",
    "print('~'*15)\n",
    "e3.set_data('Hema',20,55000)\n",
    "\n",
    "e4 = Employee()\n",
    "e4.set_data('Hari',22,56000)\n",
    "\n",
    "e3.display_data()\n",
    "print('*'*15)\n",
    "e4.display_data()"
   ]
  },
  {
   "cell_type": "code",
   "execution_count": 49,
   "id": "55308d1c",
   "metadata": {},
   "outputs": [
    {
     "data": {
      "text/plain": [
       "mappingproxy({'__module__': '__main__',\n",
       "              '__doc__': 'An Employee class to create and \\n    manipulate Employee objects',\n",
       "              '__init__': <function __main__.Employee.__init__(self, n='', a=0, s=0.0)>,\n",
       "              'set_data': <function __main__.Employee.set_data(self, n, a, s)>,\n",
       "              'display_data': <function __main__.Employee.display_data(self)>,\n",
       "              '__del__': <function __main__.Employee.__del__(self)>,\n",
       "              '__dict__': <attribute '__dict__' of 'Employee' objects>,\n",
       "              '__weakref__': <attribute '__weakref__' of 'Employee' objects>})"
      ]
     },
     "execution_count": 49,
     "metadata": {},
     "output_type": "execute_result"
    }
   ],
   "source": [
    "vars(Employee)"
   ]
  },
  {
   "cell_type": "code",
   "execution_count": 29,
   "id": "600e4b69",
   "metadata": {},
   "outputs": [],
   "source": [
    "# demonistrate class variables and class methods\n",
    "class Employee2:\n",
    "    \n",
    "    instance_count = 0\n",
    "    def __init__(self,n='',a=0,s=0.0):\n",
    "        Employee2.increment_instance_count()\n",
    "        self._name   = n\n",
    "        self._age    = a\n",
    "        self._salary = s\n",
    "    def set_data(self,n,a,s):\n",
    "        self._name = n\n",
    "        self._age = a\n",
    "        self._salary = s\n",
    "    def display_data(self):\n",
    "        print('Name   :',self._name)\n",
    "        print('Age    :',self._age)\n",
    "        print('Salary :',self._salary)\n",
    "    @classmethod\n",
    "    def increment_instance_count(cls):\n",
    "        cls.instance_count += 1"
   ]
  },
  {
   "cell_type": "code",
   "execution_count": 30,
   "id": "ae3c23b1",
   "metadata": {},
   "outputs": [
    {
     "name": "stdout",
     "output_type": "stream",
     "text": [
      "Number of Employee objects created so far :  3\n"
     ]
    }
   ],
   "source": [
    "e1 = Employee2()\n",
    "e2 = Employee2('vinay',25,55000)\n",
    "e3 = Employee2('pravalika',21,60000)\n",
    "print(\"Number of Employee objects created so far : \",Employee2.instance_count)"
   ]
  },
  {
   "cell_type": "code",
   "execution_count": 32,
   "id": "c167fd89",
   "metadata": {},
   "outputs": [
    {
     "name": "stdout",
     "output_type": "stream",
     "text": [
      "{'__module__': '__main__', 'instance_count': 3, '__init__': <function Employee2.__init__ at 0x0000028A2C6DE1F0>, 'set_data': <function Employee2.set_data at 0x0000028A2C6DE310>, 'display_data': <function Employee2.display_data at 0x0000028A2C6DE3A0>, 'increment_instance_count': <classmethod object at 0x0000028A2C78E100>, '__dict__': <attribute '__dict__' of 'Employee2' objects>, '__weakref__': <attribute '__weakref__' of 'Employee2' objects>, '__doc__': None}\n"
     ]
    }
   ],
   "source": [
    "#vars and dir functions\n",
    "\n",
    "print(vars(Employee2))"
   ]
  },
  {
   "cell_type": "code",
   "execution_count": 33,
   "id": "aa720507",
   "metadata": {},
   "outputs": [
    {
     "data": {
      "text/plain": [
       "mappingproxy({'__module__': '__main__',\n",
       "              'instance_count': 3,\n",
       "              '__init__': <function __main__.Employee2.__init__(self, n='', a=0, s=0.0)>,\n",
       "              'set_data': <function __main__.Employee2.set_data(self, n, a, s)>,\n",
       "              'display_data': <function __main__.Employee2.display_data(self)>,\n",
       "              'increment_instance_count': <classmethod at 0x28a2c78e100>,\n",
       "              '__dict__': <attribute '__dict__' of 'Employee2' objects>,\n",
       "              '__weakref__': <attribute '__weakref__' of 'Employee2' objects>,\n",
       "              '__doc__': None})"
      ]
     },
     "execution_count": 33,
     "metadata": {},
     "output_type": "execute_result"
    }
   ],
   "source": [
    "vars(Employee2)"
   ]
  },
  {
   "cell_type": "code",
   "execution_count": 53,
   "id": "6a5b8399",
   "metadata": {},
   "outputs": [
    {
     "name": "stdout",
     "output_type": "stream",
     "text": [
      "['__class__', '__del__', '__delattr__', '__dict__', '__dir__', '__doc__', '__eq__', '__format__', '__ge__', '__getattribute__', '__gt__', '__hash__', '__init__', '__init_subclass__', '__le__', '__lt__', '__module__', '__ne__', '__new__', '__reduce__', '__reduce_ex__', '__repr__', '__setattr__', '__sizeof__', '__str__', '__subclasshook__', '__weakref__', '_age', '_name', '_salary', 'display_data', 'set_data']\n"
     ]
    }
   ],
   "source": [
    "print(dir(e1))"
   ]
  },
  {
   "cell_type": "code",
   "execution_count": 54,
   "id": "02fedcda",
   "metadata": {},
   "outputs": [
    {
     "data": {
      "text/plain": [
       "['__class__',\n",
       " '__del__',\n",
       " '__delattr__',\n",
       " '__dict__',\n",
       " '__dir__',\n",
       " '__doc__',\n",
       " '__eq__',\n",
       " '__format__',\n",
       " '__ge__',\n",
       " '__getattribute__',\n",
       " '__gt__',\n",
       " '__hash__',\n",
       " '__init__',\n",
       " '__init_subclass__',\n",
       " '__le__',\n",
       " '__lt__',\n",
       " '__module__',\n",
       " '__ne__',\n",
       " '__new__',\n",
       " '__reduce__',\n",
       " '__reduce_ex__',\n",
       " '__repr__',\n",
       " '__setattr__',\n",
       " '__sizeof__',\n",
       " '__str__',\n",
       " '__subclasshook__',\n",
       " '__weakref__',\n",
       " '_age',\n",
       " '_name',\n",
       " '_salary',\n",
       " 'display_data',\n",
       " 'set_data']"
      ]
     },
     "execution_count": 54,
     "metadata": {},
     "output_type": "execute_result"
    }
   ],
   "source": [
    "dir(e1)"
   ]
  },
  {
   "cell_type": "code",
   "execution_count": 58,
   "id": "7429cf15",
   "metadata": {},
   "outputs": [],
   "source": [
    "class Quantity:\n",
    "    def __init__(self, v=0):\n",
    "        self._value = v\n",
    "    def __add__(self,other):\n",
    "        new_value = self._value + other._value\n",
    "        return Quantity(new_value)\n",
    "    def __sub__(self,other):\n",
    "        new_value = self._value - other._value\n",
    "        return Quantity(new_value)\n",
    "    def __str__(self):\n",
    "        return str(self._value)"
   ]
  },
  {
   "cell_type": "code",
   "execution_count": 60,
   "id": "89a35f54",
   "metadata": {},
   "outputs": [
    {
     "name": "stdout",
     "output_type": "stream",
     "text": [
      "q1 = 12 q2 = 10\n",
      "The sum of two integers is q3 = 22\n",
      "The subtract of two integers is q4 = 2\n"
     ]
    }
   ],
   "source": [
    "q1 = Quantity(12)\n",
    "q2 = Quantity(10)\n",
    "q3 = Quantity()\n",
    "print('q1 =',q1,'q2 =',q2)\n",
    "q3 = q1 + q2\n",
    "print('The sum of two integers is q3 =',q3)\n",
    "q4 = q1 - q2\n",
    "print('The subtract of two integers is q4 =',q4)"
   ]
  },
  {
   "cell_type": "code",
   "execution_count": 69,
   "id": "20875408",
   "metadata": {},
   "outputs": [],
   "source": [
    "class Quantity:\n",
    "    def __init__(self, v=0):\n",
    "        self._value = v\n",
    "    def __add__(self,other):\n",
    "        new_value = self._value + other._value\n",
    "        return Quantity(new_value)\n",
    "    def __sub__(self,other):\n",
    "        new_value = self._value - other._value\n",
    "        return Quantity(new_value)\n",
    "    def __pow__(self,other):\n",
    "        new_value = self._value**other._value\n",
    "        return Quantity(new_value)\n",
    "    def __lt__(self,other):\n",
    "        return self._value < other._value\n",
    "    def __str__(self):\n",
    "        return str(self._value)"
   ]
  },
  {
   "cell_type": "code",
   "execution_count": 70,
   "id": "3a76a763",
   "metadata": {},
   "outputs": [
    {
     "name": "stdout",
     "output_type": "stream",
     "text": [
      "q1 = 12 q2 = 10\n",
      "The sum of two integers is q3 = 22\n",
      "The subtract of two integers is q4 = 2\n",
      "The power of the values is q5 = 61917364224\n",
      "The power of the values is q5 = 144\n",
      "10 is less than 12\n"
     ]
    }
   ],
   "source": [
    "q1 = Quantity(12)\n",
    "q2 = Quantity(10)\n",
    "q3 = Quantity()\n",
    "print('q1 =',q1,'q2 =',q2)\n",
    "q3 = q1 + q2\n",
    "print('The sum of two integers is q3 =',q3)\n",
    "q4 = q1 - q2\n",
    "print('The subtract of two integers is q4 =',q4)\n",
    "q5 = q1**q2\n",
    "print('The power of the values is q5 =',q5)\n",
    "\n",
    "q6 = q1**q4\n",
    "print('The power of the values is q5 =',q6)\n",
    "\n",
    "if q2 < q1:\n",
    "    print(q2, \"is less than\",q1)"
   ]
  },
  {
   "cell_type": "code",
   "execution_count": 82,
   "id": "77c8bd09",
   "metadata": {},
   "outputs": [
    {
     "name": "stdout",
     "output_type": "stream",
     "text": [
      "Enter employee id     : 324\n",
      "Enter employee name   : RANGUMUDRI VINAY SAI\n",
      "Enter department id   : MECH\n",
      "Enter department name : MECHANICAL ENGINEERING\n",
      "------------------------------\n",
      "Employee ID     :  324\n",
      "Employee Name   :  RANGUMUDRI VINAY SAI\n",
      "Department ID   :  MECH\n",
      "Department Name :  MECHANICAL ENGINEERING\n"
     ]
    }
   ],
   "source": [
    "class Department:\n",
    "    def set_department(self):\n",
    "        self._id = input('Enter department id   : ')\n",
    "        self._name = input('Enter department name : ')\n",
    "    def display_department(self):\n",
    "        print('Department ID   : ',self._id)\n",
    "        print('Department Name : ',self._name)\n",
    "class Employee:\n",
    "    def set_employee(self):\n",
    "        self._eid = input('Enter employee id     : ')\n",
    "        self._ename = input('Enter employee name   : ')\n",
    "        self._dept = Department()\n",
    "        self._dept.set_department()\n",
    "    def display_employee(self):\n",
    "        print('Employee ID     : ',self._eid)\n",
    "        print('Employee Name   : ',self._ename)\n",
    "        self._dept.display_department()\n",
    "emp = Employee()\n",
    "emp.set_employee()\n",
    "print('-'*30)\n",
    "emp.display_employee()"
   ]
  },
  {
   "cell_type": "code",
   "execution_count": 3,
   "id": "c6b71d2b",
   "metadata": {},
   "outputs": [],
   "source": [
    "class Person:\n",
    "    def __init__(self,n,a):\n",
    "        self._name = n\n",
    "        self._age  = a\n",
    "    def birthday(self):\n",
    "        print('Happy birthday you were',self._age)\n",
    "        self._age += 1\n",
    "        print('you are now',self._age)\n",
    "    def __str__(self):\n",
    "        return self._name + ' is ' + str(self._age) + ' years old'"
   ]
  },
  {
   "cell_type": "code",
   "execution_count": 7,
   "id": "1fe8df49",
   "metadata": {},
   "outputs": [
    {
     "name": "stdout",
     "output_type": "stream",
     "text": [
      "A Person only object\n",
      "The person object p is:  Vinay Sai is 21 years old\n",
      "**************************************************\n",
      "An Employee object : \n",
      "Happy birthday you were 18\n",
      "you are now 19\n",
      "pravali is 19 years old Pay of Employee for 40 hours is :  300.0\n",
      "**************************************************\n"
     ]
    }
   ],
   "source": [
    "# Class Inheritance - Child class\n",
    "class Employee(Person):\n",
    "    def __init__(self,n,a,i):\n",
    "        super().__init__(n,a)\n",
    "        self._id = i\n",
    "    def calculate_pay(self,hours_worked):\n",
    "        rate_of_pay = 7.50\n",
    "        if self._age >= 21:\n",
    "            rate_of_pay += 2.50\n",
    "        return hours_worked*rate_of_pay\n",
    "print('A Person only object')\n",
    "p = Person('Vinay Sai',21)\n",
    "print('The person object p is: ',p)\n",
    "\n",
    "print('*'*50)\n",
    "\n",
    "print('An Employee object : ')\n",
    "e = Employee('pravali',18,7711)\n",
    "\n",
    "e.birthday()\n",
    "\n",
    "print(e,'Pay of Employee for 40 hours is : ',e.calculate_pay(40))\n",
    "print('*'*50)"
   ]
  },
  {
   "cell_type": "code",
   "execution_count": 8,
   "id": "ba56f11d",
   "metadata": {},
   "outputs": [],
   "source": [
    "class SalesPerson(Employee):\n",
    "    def __init__(self,n,a,i,r,s):\n",
    "        super().__init__(n,a,i)\n",
    "        self._region = r\n",
    "        self._sales  = s\n",
    "    def bonus(self):\n",
    "        return self._sales * 0.5"
   ]
  },
  {
   "cell_type": "code",
   "execution_count": 9,
   "id": "df3521b3",
   "metadata": {},
   "outputs": [
    {
     "name": "stdout",
     "output_type": "stream",
     "text": [
      "Sales Person object\n",
      "Happy birthday you were 22\n",
      "you are now 23\n",
      "Vinay is 23 years old Pay of this object for 40 hrs is :  400.0\n",
      "bonus is :  6000.0\n"
     ]
    }
   ],
   "source": [
    "print('Sales Person object')\n",
    "\n",
    "s = SalesPerson('Vinay',22,52000,'INDIA',12000)\n",
    "s.birthday()\n",
    "print(s,'Pay of this object for 40 hrs is : ',s.calculate_pay(40))\n",
    "print('bonus is : ',s.bonus())"
   ]
  },
  {
   "cell_type": "code",
   "execution_count": 26,
   "id": "40ae08f9",
   "metadata": {},
   "outputs": [],
   "source": [
    "class SalesPerson(Employee):\n",
    "    def __init__(self,n,a,i,r,s):\n",
    "        super().__init__(n,a,i)\n",
    "        self._region = r\n",
    "        self._sales  = s\n",
    "    def bonus(self):\n",
    "        return self._sales * 0.5\n",
    "    def __str__(self):\n",
    "        sn = self._name\n",
    "        sa = self._age\n",
    "        si = self._id\n",
    "        sr = self._region\n",
    "        return sn + ' is ' + str(sa) + ' years old, ID is : '+ str(si) + ', region is ' + str(sr)"
   ]
  },
  {
   "cell_type": "code",
   "execution_count": 27,
   "id": "9eb88ef3",
   "metadata": {},
   "outputs": [
    {
     "name": "stdout",
     "output_type": "stream",
     "text": [
      "Sales Person object\n",
      "Happy birthday you were 22\n",
      "you are now 23\n",
      "Vinay is 23 years old, ID is : 1321, region is INDIA Pay of this object for 40 hrs is :  400.0\n",
      "bonus is :  6000.0\n"
     ]
    }
   ],
   "source": [
    "print('Sales Person object')\n",
    "\n",
    "s = SalesPerson('Vinay',22,1321,'INDIA',12000)\n",
    "s.birthday()\n",
    "print(s,'Pay of this object for 40 hrs is : ',s.calculate_pay(40))\n",
    "print('bonus is : ',s.bonus())"
   ]
  }
 ],
 "metadata": {
  "kernelspec": {
   "display_name": "Python 3 (ipykernel)",
   "language": "python",
   "name": "python3"
  },
  "language_info": {
   "codemirror_mode": {
    "name": "ipython",
    "version": 3
   },
   "file_extension": ".py",
   "mimetype": "text/x-python",
   "name": "python",
   "nbconvert_exporter": "python",
   "pygments_lexer": "ipython3",
   "version": "3.9.7"
  }
 },
 "nbformat": 4,
 "nbformat_minor": 5
}
