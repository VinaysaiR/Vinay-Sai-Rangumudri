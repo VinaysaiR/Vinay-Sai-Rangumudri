{
 "cells": [
  {
   "cell_type": "markdown",
   "id": "37eba3a9",
   "metadata": {},
   "source": [
    "### 1.Create two numpy arrays. The first array, called arr1 should be of one dimension and consist of six elements of float type. The second array, called arr2 should be of two dimensions and each sub-array should consist of 5 elements of string type. Display these two numpy arrays."
   ]
  },
  {
   "cell_type": "code",
   "execution_count": 1,
   "id": "89e8a079",
   "metadata": {},
   "outputs": [
    {
     "name": "stdout",
     "output_type": "stream",
     "text": [
      "Array1 :\n",
      "\n",
      "[1. 2. 3. 4. 5. 6.]\n",
      "------------------------------\n",
      "Array2 :\n",
      "\n",
      "[['11' '12' '13' '14' '15']\n",
      " ['21' '22' '23' '24' '25']\n",
      " ['31' '32' '33' '34' '35']\n",
      " ['41' '42' '43' '44' '45']\n",
      " ['51' '52' '53' '54' '55']]\n"
     ]
    }
   ],
   "source": [
    "import numpy as np\n",
    "arr1 = np.array([1,2,3,4,5,6],dtype=float)\n",
    "print('Array1 :\\n')\n",
    "print(arr1)\n",
    "print('-'*30)\n",
    "arr2 = np.array([[11,12,13,14,15],[21,22,23,24,25],[31,32,33,34,35],[41,42,43,44,45],[51,52,53,54,55]],dtype=str)\n",
    "print('Array2 :\\n')\n",
    "print(arr2)"
   ]
  },
  {
   "cell_type": "markdown",
   "id": "7bf4f306",
   "metadata": {},
   "source": [
    "### 2.For the arrays arr1 and arr2 created in Q.No.1, display the following properties: data type and dimensions. Reshape arr1 into a two dimensional array of 2 rows and three columns, and display the reshaped array. Similarly, reshape arr2 into a single dimensional array and display the reshaped array."
   ]
  },
  {
   "cell_type": "code",
   "execution_count": 2,
   "id": "1302e9b7",
   "metadata": {},
   "outputs": [
    {
     "name": "stdout",
     "output_type": "stream",
     "text": [
      "The datatype of arr1 { float64 } and Dimensions of the arr1 : (6,)\n",
      "The datatype of arr2 { <U2 } and Dimensions of the arr2 :  (5, 5)\n",
      "----------------------------------------------------------------------------------------------------\n",
      "Dimension of arr1 : 1 Dimensional\n",
      "Dimension of arr2 : 2 Dimensional\n"
     ]
    }
   ],
   "source": [
    "## display the following properties: data type and dimensions.\n",
    "print('The datatype of arr1 {',arr1.dtype,'} and Dimensions of the arr1 :',np.shape(arr1))\n",
    "print('The datatype of arr2 {',arr2.dtype,'} and Dimensions of the arr2 : ',np.shape(arr2))\n",
    "print('-'*100)\n",
    "print('Dimension of arr1 :',arr1.ndim,\"Dimensional\")\n",
    "print('Dimension of arr2 :',arr2.ndim,\"Dimensional\")"
   ]
  },
  {
   "cell_type": "code",
   "execution_count": 3,
   "id": "04a03875",
   "metadata": {},
   "outputs": [
    {
     "name": "stdout",
     "output_type": "stream",
     "text": [
      "Reshape arr1 into a two dimensional array of 2 rows and 3 columns :\n",
      "\n",
      "[[1. 2. 3.]\n",
      " [4. 5. 6.]]\n",
      "--------------------------------------------------------------------------------\n",
      "Reshape arr2 into a single dimensional array :\n",
      "\n",
      "[['11' '12' '13' '14' '15' '21' '22' '23' '24' '25' '31' '32' '33' '34'\n",
      "  '35' '41' '42' '43' '44' '45' '51' '52' '53' '54' '55']]\n"
     ]
    }
   ],
   "source": [
    "# Reshape arr1 into a two dimensional array of 2 rows and 3 columns, and display the reshaped array.\n",
    "re_arr1 = np.reshape(arr1,(2,3))\n",
    "\n",
    "re_arr2 = np.reshape(arr2,(1,25))\n",
    "\n",
    "print(\"Reshape arr1 into a two dimensional array of 2 rows and 3 columns :\\n\")\n",
    "print(re_arr1)\n",
    "print('-'*80)\n",
    "print(\"Reshape arr2 into a single dimensional array :\\n\")\n",
    "print(re_arr2)"
   ]
  },
  {
   "cell_type": "markdown",
   "id": "84fb2a53",
   "metadata": {},
   "source": [
    "### 3.Create a two dimensional array called arr3, of 3 rows and 4 columns which is initialized to zeroes. Create another single dimensional array called arr4, with 6 elements and which is initialized to ones. The type of arr4 is int."
   ]
  },
  {
   "cell_type": "code",
   "execution_count": 4,
   "id": "9cf6b387",
   "metadata": {},
   "outputs": [
    {
     "name": "stdout",
     "output_type": "stream",
     "text": [
      "arr3, of 3 rows and 4 columns which is initialized to zeroes :\n",
      "Array3 :\n",
      "[[0. 0. 0. 0.]\n",
      " [0. 0. 0. 0.]\n",
      " [0. 0. 0. 0.]]\n",
      "--------------------------------------------------------------------------------\n",
      "arr4, with 6 elements of single dimensional array and which is initialized to ones:\n",
      "Array4 :\n",
      "[1 1 1 1 1 1]\n"
     ]
    }
   ],
   "source": [
    "import numpy as np\n",
    "arr3 = np.zeros([3,4],dtype=float)\n",
    "print(\"arr3, of 3 rows and 4 columns which is initialized to zeroes :\\nArray3 :\")\n",
    "print(arr3)\n",
    "print(\"-\"*80)\n",
    "arr4 = np.ones(6,dtype=int)\n",
    "print(\"arr4, with 6 elements of single dimensional array and which is initialized to ones:\\nArray4 :\")\n",
    "print(arr4)"
   ]
  },
  {
   "cell_type": "markdown",
   "id": "c60b808d",
   "metadata": {},
   "source": [
    "### 4.Create a list called list1 with the elements 10,20,30,40,50. Now, create a numpy array called arr5 from list1, using the method asarray. The data type of arr5 is float. Similarly, create another array called arr6, from list1, using the method fromiter, whose data type is int. Display arr5 and arr6."
   ]
  },
  {
   "cell_type": "code",
   "execution_count": 5,
   "id": "6ac06e9b",
   "metadata": {},
   "outputs": [
    {
     "name": "stdout",
     "output_type": "stream",
     "text": [
      "Asarray Method of arr5 :\n",
      "\n",
      "[10. 20. 30. 40. 50.]\n",
      "-----------------------------------\n",
      "Fromiter method of arr6 :\n",
      "\n",
      "[10 20 30 40 50]\n"
     ]
    }
   ],
   "source": [
    "list1 = [10,20,30,40,50]\n",
    "\n",
    "arr5 = np.asarray(list1,dtype=float)\n",
    "arr6 = np.fromiter(list1,dtype=int)\n",
    "\n",
    "print('Asarray Method of arr5 :\\n')\n",
    "print(arr5)\n",
    "print('-'*35)\n",
    "print('Fromiter method of arr6 :\\n')\n",
    "print(arr6)"
   ]
  },
  {
   "cell_type": "markdown",
   "id": "eac7d408",
   "metadata": {},
   "source": [
    "### 5.Create a numpy array called arr7 using the method arange. The starting value of this array is 12 and ending value is 99, with a step size of 3. Use the linspace method to create another array called arr8, where the starting value is 12 and ending value is 99 and which contains 50 evenly spaced elements."
   ]
  },
  {
   "cell_type": "code",
   "execution_count": 6,
   "id": "9f8142f0",
   "metadata": {},
   "outputs": [
    {
     "name": "stdout",
     "output_type": "stream",
     "text": [
      "The starting value of this array is 12 and ending value is 99, with a step size of 3 : \n",
      " ---------------------------------------------------------------------------------------------------- \n",
      "arr7:\n",
      "\n",
      "[12 15 18 21 24 27 30 33 36 39 42 45 48 51 54 57 60 63 66 69 72 75 78 81\n",
      " 84 87 90 93 96 99]\n",
      "****************************************************************************************************\n",
      "The starting value is 12 and ending value is 99 and which contains 50 evenly spaced elements : \n",
      " ----------------------------------------------------------------------------------------------------  \n",
      "arr8:\n",
      "\n",
      "[12.         13.7755102  15.55102041 17.32653061 19.10204082 20.87755102\n",
      " 22.65306122 24.42857143 26.20408163 27.97959184 29.75510204 31.53061224\n",
      " 33.30612245 35.08163265 36.85714286 38.63265306 40.40816327 42.18367347\n",
      " 43.95918367 45.73469388 47.51020408 49.28571429 51.06122449 52.83673469\n",
      " 54.6122449  56.3877551  58.16326531 59.93877551 61.71428571 63.48979592\n",
      " 65.26530612 67.04081633 68.81632653 70.59183673 72.36734694 74.14285714\n",
      " 75.91836735 77.69387755 79.46938776 81.24489796 83.02040816 84.79591837\n",
      " 86.57142857 88.34693878 90.12244898 91.89795918 93.67346939 95.44897959\n",
      " 97.2244898  99.        ]\n"
     ]
    }
   ],
   "source": [
    "arr7 = np.arange(12,100,3,int)\n",
    "print(\"The starting value of this array is 12 and ending value is 99, with a step size of 3 : \\n\",'-'*100,\"\\narr7:\\n\")\n",
    "print(arr7)\n",
    "print('*'*100)\n",
    "arr8 = np.linspace(12,99,50,endpoint = True)\n",
    "print(\"The starting value is 12 and ending value is 99 and which contains 50 evenly spaced elements : \\n\",'-'*100,\" \\narr8:\\n\")\n",
    "print(arr8)"
   ]
  },
  {
   "cell_type": "markdown",
   "id": "45dd62f6",
   "metadata": {},
   "source": [
    "### 6.In the array arr2 defined in Q.No. 1, what is the output of the following statements: print(arr2), print(arr2[0:1]), print(arr2[1][3]), print (arr2[1])."
   ]
  },
  {
   "cell_type": "code",
   "execution_count": 7,
   "id": "7ab3a124",
   "metadata": {},
   "outputs": [
    {
     "name": "stdout",
     "output_type": "stream",
     "text": [
      "Array2 :\n",
      "\n",
      "[['11' '12' '13' '14' '15']\n",
      " ['21' '22' '23' '24' '25']\n",
      " ['31' '32' '33' '34' '35']\n",
      " ['41' '42' '43' '44' '45']\n",
      " ['51' '52' '53' '54' '55']]\n"
     ]
    }
   ],
   "source": [
    "print(\"Array2 :\\n\")\n",
    "print(arr2)"
   ]
  },
  {
   "cell_type": "code",
   "execution_count": 8,
   "id": "e5bc77dd",
   "metadata": {},
   "outputs": [
    {
     "name": "stdout",
     "output_type": "stream",
     "text": [
      "arr2[0:1] :\n",
      "\n",
      "[['11' '12' '13' '14' '15']]\n"
     ]
    }
   ],
   "source": [
    "print(\"arr2[0:1] :\\n\")\n",
    "print(arr2[0:1])"
   ]
  },
  {
   "cell_type": "code",
   "execution_count": 9,
   "id": "d586c6d0",
   "metadata": {},
   "outputs": [
    {
     "name": "stdout",
     "output_type": "stream",
     "text": [
      "arr2[1][3] :\n",
      "\n",
      "24\n"
     ]
    }
   ],
   "source": [
    "print(\"arr2[1][3] :\\n\")\n",
    "print(arr2[1][3])"
   ]
  },
  {
   "cell_type": "code",
   "execution_count": 10,
   "id": "f532a007",
   "metadata": {},
   "outputs": [
    {
     "name": "stdout",
     "output_type": "stream",
     "text": [
      "arr2[1] :\n",
      "\n",
      "['21' '22' '23' '24' '25']\n"
     ]
    }
   ],
   "source": [
    "print(\"arr2[1] :\\n\")\n",
    "print(arr2[1])"
   ]
  },
  {
   "cell_type": "markdown",
   "id": "566cc9ed",
   "metadata": {},
   "source": [
    "### 7.Create a two dimensional array called arr9 with the following elements: [101, 322, 768], [233, 124, 390], [534, 122, 216]. From arr9, create an array called arr10 which contains the elements 101, 322, 390, 122 using advanced integer indexing. Create another array called arr11 which contains elements of first and second rows, and second and third columns using slicing operations."
   ]
  },
  {
   "cell_type": "code",
   "execution_count": 11,
   "id": "cad766fd",
   "metadata": {},
   "outputs": [
    {
     "name": "stdout",
     "output_type": "stream",
     "text": [
      "Dimensional array : 2 \n",
      "\n",
      "[[101 322 768]\n",
      " [233 124 390]\n",
      " [534 122 216]]\n"
     ]
    }
   ],
   "source": [
    "arr9 = np.array([[101,322,768],[233,124,390],[534,122,216]])\n",
    "print(\"Dimensional array :\",arr9.ndim,\"\\n\")\n",
    "print(arr9)"
   ]
  },
  {
   "cell_type": "markdown",
   "id": "97703152",
   "metadata": {},
   "source": [
    "#### *Advanced integer indexing*"
   ]
  },
  {
   "cell_type": "code",
   "execution_count": 12,
   "id": "c7c98862",
   "metadata": {},
   "outputs": [
    {
     "name": "stdout",
     "output_type": "stream",
     "text": [
      "Advanced Integer Indexing :\n",
      "\n",
      "[101 322 390 122]\n"
     ]
    }
   ],
   "source": [
    "print(\"Advanced Integer Indexing :\\n\")\n",
    "arr10 = arr9[[0,0,1,2],[0,1,2,1]]\n",
    "print(arr10)"
   ]
  },
  {
   "cell_type": "markdown",
   "id": "921b9a49",
   "metadata": {},
   "source": [
    "#### *elements of first and second rows, and second and third columns using slicing operations.*"
   ]
  },
  {
   "cell_type": "code",
   "execution_count": 13,
   "id": "acd814b3",
   "metadata": {},
   "outputs": [
    {
     "name": "stdout",
     "output_type": "stream",
     "text": [
      "arr11 which contains elements of first and second rows, and second and third columns :\n",
      "Slicing Operations :\n",
      "\n",
      "[[322 768]\n",
      " [124 390]]\n"
     ]
    }
   ],
   "source": [
    "print(\"arr11 which contains elements of first and second rows, and second and third columns :\")\n",
    "print(\"Slicing Operations :\\n\")\n",
    "arr11 = arr9[0:2,(1,2)]\n",
    "print(arr11)"
   ]
  },
  {
   "cell_type": "markdown",
   "id": "83b6f899",
   "metadata": {},
   "source": [
    "### 8.From array arr9 created in Q.No. 7, find all elements greater than 200 using boolean indexing, find all non-NaN elements, and find all non-float elements. Find the result of adding arrays arr9 and another array of 3 elements, using the concept of broadcasting."
   ]
  },
  {
   "cell_type": "code",
   "execution_count": 14,
   "id": "7d0bd464",
   "metadata": {},
   "outputs": [
    {
     "name": "stdout",
     "output_type": "stream",
     "text": [
      "Array9 :\n",
      "[[101 322 768]\n",
      " [233 124 390]\n",
      " [534 122 216]]\n"
     ]
    }
   ],
   "source": [
    "print(\"Array9 :\")\n",
    "print(arr9)"
   ]
  },
  {
   "cell_type": "markdown",
   "id": "eeabad0b",
   "metadata": {},
   "source": [
    "#### *find all elements greater than 200 using boolean indexing*"
   ]
  },
  {
   "cell_type": "code",
   "execution_count": 15,
   "id": "7ccc22c6",
   "metadata": {},
   "outputs": [
    {
     "name": "stdout",
     "output_type": "stream",
     "text": [
      "[[False  True  True]\n",
      " [ True False  True]\n",
      " [ True False  True]]\n"
     ]
    }
   ],
   "source": [
    "import numpy as np\n",
    "x = np.array(arr9>200,dtype = bool)\n",
    "print(x)"
   ]
  },
  {
   "cell_type": "code",
   "execution_count": 16,
   "id": "a0ec4681",
   "metadata": {},
   "outputs": [
    {
     "name": "stdout",
     "output_type": "stream",
     "text": [
      "The elements greater than 200 : [322 768 233 390 534 216]\n"
     ]
    }
   ],
   "source": [
    "print('The elements greater than 200 :',arr9[arr9>200])"
   ]
  },
  {
   "cell_type": "markdown",
   "id": "89a9839d",
   "metadata": {},
   "source": [
    "#### *find all non-NaN elements*"
   ]
  },
  {
   "cell_type": "code",
   "execution_count": 17,
   "id": "f1bfb59d",
   "metadata": {},
   "outputs": [
    {
     "name": "stdout",
     "output_type": "stream",
     "text": [
      "[[ True  True  True]\n",
      " [ True  True  True]\n",
      " [ True  True  True]]\n"
     ]
    }
   ],
   "source": [
    "import numpy as np\n",
    "x = np.array(~np.isnan(arr9),dtype = bool)\n",
    "print(x)"
   ]
  },
  {
   "cell_type": "code",
   "execution_count": 18,
   "id": "95cad7d1",
   "metadata": {},
   "outputs": [
    {
     "name": "stdout",
     "output_type": "stream",
     "text": [
      "All non-NaN elements : [101 322 768 233 124 390 534 122 216]\n"
     ]
    }
   ],
   "source": [
    "print('All non-NaN elements :',arr9[~np.isnan(arr9)])"
   ]
  },
  {
   "cell_type": "markdown",
   "id": "4bd78c61",
   "metadata": {},
   "source": [
    "#### *find all non-float elements.*"
   ]
  },
  {
   "cell_type": "code",
   "execution_count": 19,
   "id": "c29b5bf1",
   "metadata": {},
   "outputs": [
    {
     "name": "stdout",
     "output_type": "stream",
     "text": [
      "All non-float elements :\n",
      "\n",
      " [[[101 322 768]\n",
      "  [233 124 390]\n",
      "  [534 122 216]]]\n"
     ]
    }
   ],
   "source": [
    "print('All non-float elements :\\n\\n',arr9[arr9.dtype!='float'])"
   ]
  },
  {
   "cell_type": "code",
   "execution_count": 20,
   "id": "1992a4fb",
   "metadata": {},
   "outputs": [
    {
     "name": "stdout",
     "output_type": "stream",
     "text": [
      "True\n"
     ]
    }
   ],
   "source": [
    "import numpy as np\n",
    "x = np.array(arr9.dtype!='float')\n",
    "y = np.array(x,dtype = bool)\n",
    "print(y)"
   ]
  },
  {
   "cell_type": "markdown",
   "id": "f34ed833",
   "metadata": {},
   "source": [
    "#### *concept of broadcasting*"
   ]
  },
  {
   "cell_type": "code",
   "execution_count": 21,
   "id": "d3a5504e",
   "metadata": {},
   "outputs": [
    {
     "name": "stdout",
     "output_type": "stream",
     "text": [
      "Array9 :\n",
      "\n",
      "[[101 322 768]\n",
      " [233 124 390]\n",
      " [534 122 216]]\n",
      "\n",
      "Array12 :\n",
      "\n",
      "[21 13  5]\n"
     ]
    }
   ],
   "source": [
    "print(\"Array9 :\\n\")\n",
    "print(arr9)\n",
    "print(\"\\nArray12 :\\n\")\n",
    "arr12 = np.array([21,13,5])\n",
    "print(arr12)"
   ]
  },
  {
   "cell_type": "code",
   "execution_count": 22,
   "id": "4e5e88e9",
   "metadata": {},
   "outputs": [
    {
     "name": "stdout",
     "output_type": "stream",
     "text": [
      "Adding of arr9 + arr12 arrays using broadcasting :\n",
      "\n",
      "[[122 335 773]\n",
      " [254 137 395]\n",
      " [555 135 221]]\n"
     ]
    }
   ],
   "source": [
    "print('Adding of arr9 + arr12 arrays using broadcasting :\\n')\n",
    "print(arr12 + arr9)"
   ]
  },
  {
   "cell_type": "markdown",
   "id": "9de5eb2f",
   "metadata": {},
   "source": [
    "### 9.For the array arr9, find its transpose. Find the result of joining the arrays arr1 and arr4 along axis 0"
   ]
  },
  {
   "cell_type": "markdown",
   "id": "4d09e3ea",
   "metadata": {},
   "source": [
    "#### *array arr9, find its transpose*"
   ]
  },
  {
   "cell_type": "code",
   "execution_count": 23,
   "id": "f703c8c7",
   "metadata": {},
   "outputs": [
    {
     "name": "stdout",
     "output_type": "stream",
     "text": [
      "Array9 :\n",
      " [[101 322 768]\n",
      " [233 124 390]\n",
      " [534 122 216]]\n",
      "\n",
      "The Transpose of arr9 is given below :\n",
      "\n",
      "[[101 233 534]\n",
      " [322 124 122]\n",
      " [768 390 216]]\n"
     ]
    }
   ],
   "source": [
    "print('Array9 :\\n',arr9)\n",
    "print('\\nThe Transpose of arr9 is given below :\\n')\n",
    "print(arr9.T)"
   ]
  },
  {
   "cell_type": "markdown",
   "id": "9398e086",
   "metadata": {},
   "source": [
    "#### *the result of joining the arrays arr1 and arr4 along axis 0the result of joining the arrays arr1 and arr4 along axis 0*"
   ]
  },
  {
   "cell_type": "code",
   "execution_count": 24,
   "id": "de83b608",
   "metadata": {},
   "outputs": [
    {
     "name": "stdout",
     "output_type": "stream",
     "text": [
      "[1. 2. 3. 4. 5. 6.]\n",
      "[1 1 1 1 1 1]\n",
      "--------------------------------------------------------------------------------\n",
      "The joining of two arrays are arr1 and arr4 given below :\n",
      "\n",
      "[1. 2. 3. 4. 5. 6. 1. 1. 1. 1. 1. 1.]\n"
     ]
    }
   ],
   "source": [
    "print(arr1)\n",
    "print(arr4)\n",
    "print('-'*80)\n",
    "print('The joining of two arrays are arr1 and arr4 given below :\\n')\n",
    "arr = np.concatenate((arr1,arr4),axis=0)\n",
    "print(arr)"
   ]
  },
  {
   "cell_type": "markdown",
   "id": "37005272",
   "metadata": {},
   "source": [
    "### 10.Using any two 2-dimensional arrays, demonstrate the working of the methods, hstack, vstack, hsplit and vsplit"
   ]
  },
  {
   "cell_type": "code",
   "execution_count": 28,
   "id": "1c9ed5c5",
   "metadata": {},
   "outputs": [
    {
     "name": "stdout",
     "output_type": "stream",
     "text": [
      "[[21 13]\n",
      " [19 24]]\n",
      "--------------------\n",
      "hstack :\n",
      " [21 13 19 24]\n",
      "--------------------\n",
      "vstack :\n",
      " [[21 13]\n",
      " [19 24]]\n",
      "--------------------\n",
      "hsplit :\n",
      " [array([[21, 13],\n",
      "       [19, 24]])]\n",
      "--------------------\n",
      "vsplit :\n",
      " [array([[21, 13],\n",
      "       [19, 24]])]\n"
     ]
    }
   ],
   "source": [
    "import numpy as np\n",
    "arr13 = np.array([[21,13],[19,24]])\n",
    "print(arr13)\n",
    "print('-'*20)\n",
    "arr14=np.hstack(arr13)\n",
    "arr15=np.vstack(arr13)\n",
    "arr16=np.hsplit(arr13,1)\n",
    "arr17=np.vsplit(arr13,1)\n",
    "print(\"hstack :\\n\",arr14)\n",
    "print('-'*20)\n",
    "print(\"vstack :\\n\",arr15)\n",
    "print('-'*20)\n",
    "print(\"hsplit :\\n\",arr16)\n",
    "print('-'*20)\n",
    "print(\"vsplit :\\n\",arr17)"
   ]
  },
  {
   "cell_type": "code",
   "execution_count": 29,
   "id": "4acee664",
   "metadata": {},
   "outputs": [
    {
     "name": "stdout",
     "output_type": "stream",
     "text": [
      "hstack :\n",
      " [[21 13 21 13]\n",
      " [19 24 19 24]]\n",
      "--------------------\n",
      "vstack :\n",
      " [[21 13]\n",
      " [19 24]\n",
      " [21 13]\n",
      " [19 24]]\n"
     ]
    }
   ],
   "source": [
    "arr14 = np.hstack((arr13,arr13))\n",
    "arr15 = np.vstack((arr13,arr13))\n",
    "print(\"hstack :\\n\",arr14)\n",
    "print('-'*20)\n",
    "print(\"vstack :\\n\",arr15)"
   ]
  },
  {
   "cell_type": "code",
   "execution_count": 30,
   "id": "c7b256c0",
   "metadata": {},
   "outputs": [
    {
     "name": "stdout",
     "output_type": "stream",
     "text": [
      "hsplit :\n",
      " [array([[21],\n",
      "       [19]]), array([[13],\n",
      "       [24]])]\n",
      "--------------------\n",
      "vsplit :\n",
      " [array([[21, 13]]), array([[19, 24]])]\n"
     ]
    }
   ],
   "source": [
    "arr16=np.hsplit(arr13,2)\n",
    "arr17=np.vsplit(arr13,2)\n",
    "print(\"hsplit :\\n\",arr16)\n",
    "print('-'*20)\n",
    "print(\"vsplit :\\n\",arr17)"
   ]
  }
 ],
 "metadata": {
  "kernelspec": {
   "display_name": "Python 3 (ipykernel)",
   "language": "python",
   "name": "python3"
  },
  "language_info": {
   "codemirror_mode": {
    "name": "ipython",
    "version": 3
   },
   "file_extension": ".py",
   "mimetype": "text/x-python",
   "name": "python",
   "nbconvert_exporter": "python",
   "pygments_lexer": "ipython3",
   "version": "3.9.7"
  }
 },
 "nbformat": 4,
 "nbformat_minor": 5
}
