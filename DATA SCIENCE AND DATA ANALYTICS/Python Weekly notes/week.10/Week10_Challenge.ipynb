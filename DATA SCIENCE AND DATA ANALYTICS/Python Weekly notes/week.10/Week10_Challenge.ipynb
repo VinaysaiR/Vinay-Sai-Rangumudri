{
 "cells": [
  {
   "cell_type": "markdown",
   "id": "a0cb3914",
   "metadata": {},
   "source": [
    "# Q 1"
   ]
  },
  {
   "cell_type": "code",
   "execution_count": 1,
   "id": "3b3636c6",
   "metadata": {},
   "outputs": [
    {
     "name": "stdout",
     "output_type": "stream",
     "text": [
      "[ 0.1   2.5   3.81 41.4  15.2  10.8 ]\n",
      "[['apple' 'banana' 'orange' 'cherry' 'mango']\n",
      " ['papaya' 'kiwi' 'strawberry' 'grapes' 'plums']]\n"
     ]
    }
   ],
   "source": [
    "import numpy as np\n",
    "arr1 = np.array([0.1, 2.5, 3.81, 41.4, 15.2,10.8])\n",
    "arr2=np.array([['apple','banana','orange','cherry','mango'], ['papaya','kiwi','strawberry','grapes','plums']])\n",
    "print(arr1)\n",
    "print(arr2)"
   ]
  },
  {
   "cell_type": "markdown",
   "id": "fa01cf50",
   "metadata": {},
   "source": [
    "# Q 2"
   ]
  },
  {
   "cell_type": "code",
   "execution_count": 2,
   "id": "035d76fe",
   "metadata": {},
   "outputs": [
    {
     "name": "stdout",
     "output_type": "stream",
     "text": [
      "type is:  <class 'numpy.ndarray'>\n",
      "dtype is:  float64\n",
      "type is:  <class 'numpy.ndarray'>\n",
      "dtype is:  <U10\n",
      "[[ 0.1   2.5   3.81]\n",
      " [41.4  15.2  10.8 ]]\n",
      "['apple' 'banana' 'orange' 'cherry' 'mango' 'papaya' 'kiwi' 'strawberry'\n",
      " 'grapes' 'plums']\n"
     ]
    }
   ],
   "source": [
    "print(\"type is: \",type(arr1))\n",
    "print(\"dtype is: \",arr1.dtype)\n",
    "print(\"type is: \",type(arr2))\n",
    "print(\"dtype is: \",arr2.dtype)\n",
    "arr1re=arr1.reshape(2,3)\n",
    "print(arr1re)\n",
    "arr2re=arr2.flatten()\n",
    "print(arr2re)"
   ]
  },
  {
   "cell_type": "markdown",
   "id": "c8173e54",
   "metadata": {},
   "source": [
    "# Q 3"
   ]
  },
  {
   "cell_type": "code",
   "execution_count": 3,
   "id": "2db2a942",
   "metadata": {},
   "outputs": [
    {
     "name": "stdout",
     "output_type": "stream",
     "text": [
      "[[0. 0. 0. 0.]\n",
      " [0. 0. 0. 0.]\n",
      " [0. 0. 0. 0.]]\n"
     ]
    }
   ],
   "source": [
    "import numpy as np\n",
    "arr3=np.zeros([3,4],dtype=float)\n",
    "print(arr3)"
   ]
  },
  {
   "cell_type": "code",
   "execution_count": 4,
   "id": "e5103697",
   "metadata": {},
   "outputs": [
    {
     "name": "stdout",
     "output_type": "stream",
     "text": [
      "[1 1 1 1 1 1]\n"
     ]
    }
   ],
   "source": [
    "arr4=np.ones(6,dtype=int)\n",
    "\n",
    "print(arr4)"
   ]
  },
  {
   "cell_type": "markdown",
   "id": "0baa8e3b",
   "metadata": {},
   "source": [
    "# Q 4"
   ]
  },
  {
   "cell_type": "code",
   "execution_count": 5,
   "id": "f33301b6",
   "metadata": {},
   "outputs": [
    {
     "name": "stdout",
     "output_type": "stream",
     "text": [
      "[10, 20, 30, 40, 50]\n"
     ]
    }
   ],
   "source": [
    "list1 = [10,20,30,40,50]\n",
    "print(list1)"
   ]
  },
  {
   "cell_type": "code",
   "execution_count": 6,
   "id": "5dc2a425",
   "metadata": {},
   "outputs": [
    {
     "name": "stdout",
     "output_type": "stream",
     "text": [
      "[10. 20. 30. 40. 50.]\n"
     ]
    }
   ],
   "source": [
    "arr5=np.asarray(list1,dtype=float)\n",
    "print(arr5)"
   ]
  },
  {
   "cell_type": "code",
   "execution_count": 7,
   "id": "45af7249",
   "metadata": {},
   "outputs": [
    {
     "name": "stdout",
     "output_type": "stream",
     "text": [
      "[10 20 30 40 50]\n"
     ]
    }
   ],
   "source": [
    "arr6=np.fromiter(list1,dtype=int,count=-1)\n",
    "print(arr6)"
   ]
  },
  {
   "cell_type": "markdown",
   "id": "489ee18f",
   "metadata": {},
   "source": [
    "# Q 5"
   ]
  },
  {
   "cell_type": "code",
   "execution_count": 8,
   "id": "6ad527b0",
   "metadata": {},
   "outputs": [
    {
     "name": "stdout",
     "output_type": "stream",
     "text": [
      "[12 15 18 21 24 27 30 33 36 39 42 45 48 51 54 57 60 63 66 69 72 75 78 81\n",
      " 84 87 90 93 96 99]\n"
     ]
    }
   ],
   "source": [
    "arr7=np.arange(12,100,3)\n",
    "print(arr7)"
   ]
  },
  {
   "cell_type": "code",
   "execution_count": 9,
   "id": "d618d2d6",
   "metadata": {},
   "outputs": [
    {
     "name": "stdout",
     "output_type": "stream",
     "text": [
      "[12.         13.7755102  15.55102041 17.32653061 19.10204082 20.87755102\n",
      " 22.65306122 24.42857143 26.20408163 27.97959184 29.75510204 31.53061224\n",
      " 33.30612245 35.08163265 36.85714286 38.63265306 40.40816327 42.18367347\n",
      " 43.95918367 45.73469388 47.51020408 49.28571429 51.06122449 52.83673469\n",
      " 54.6122449  56.3877551  58.16326531 59.93877551 61.71428571 63.48979592\n",
      " 65.26530612 67.04081633 68.81632653 70.59183673 72.36734694 74.14285714\n",
      " 75.91836735 77.69387755 79.46938776 81.24489796 83.02040816 84.79591837\n",
      " 86.57142857 88.34693878 90.12244898 91.89795918 93.67346939 95.44897959\n",
      " 97.2244898  99.        ]\n"
     ]
    }
   ],
   "source": [
    "arr8=np.linspace(12,99,num=50,endpoint=True)\n",
    "print(arr8)"
   ]
  },
  {
   "cell_type": "markdown",
   "id": "eced4eb0",
   "metadata": {},
   "source": [
    "# Q 6"
   ]
  },
  {
   "cell_type": "code",
   "execution_count": 10,
   "id": "70e0ef70",
   "metadata": {},
   "outputs": [
    {
     "name": "stdout",
     "output_type": "stream",
     "text": [
      "[['apple' 'banana' 'orange' 'cherry' 'mango']\n",
      " ['papaya' 'kiwi' 'strawberry' 'grapes' 'plums']]\n"
     ]
    }
   ],
   "source": [
    "import numpy as np\n",
    "arr2=np.array([['apple','banana','orange','cherry','mango'], ['papaya','kiwi','strawberry','grapes','plums']])\n",
    "print(arr2) "
   ]
  },
  {
   "cell_type": "code",
   "execution_count": 11,
   "id": "80e5f496",
   "metadata": {},
   "outputs": [
    {
     "name": "stdout",
     "output_type": "stream",
     "text": [
      "[['apple' 'banana' 'orange' 'cherry' 'mango']]\n"
     ]
    }
   ],
   "source": [
    "print(arr2[0:1])"
   ]
  },
  {
   "cell_type": "code",
   "execution_count": 12,
   "id": "8c7ec686",
   "metadata": {},
   "outputs": [
    {
     "name": "stdout",
     "output_type": "stream",
     "text": [
      "grapes\n"
     ]
    }
   ],
   "source": [
    "print(arr2[1][3])"
   ]
  },
  {
   "cell_type": "code",
   "execution_count": 13,
   "id": "3621a86f",
   "metadata": {},
   "outputs": [
    {
     "name": "stdout",
     "output_type": "stream",
     "text": [
      "['papaya' 'kiwi' 'strawberry' 'grapes' 'plums']\n"
     ]
    }
   ],
   "source": [
    "print(arr2[1])"
   ]
  },
  {
   "cell_type": "markdown",
   "id": "2a442b3c",
   "metadata": {},
   "source": [
    "# Q 7"
   ]
  },
  {
   "cell_type": "code",
   "execution_count": 14,
   "id": "61bf14ec",
   "metadata": {},
   "outputs": [
    {
     "name": "stdout",
     "output_type": "stream",
     "text": [
      "[[101 322 768]\n",
      " [233 124 390]\n",
      " [534 122 216]]\n"
     ]
    }
   ],
   "source": [
    "import numpy as np\n",
    "arr9=np.array([[101, 322, 768], [233, 124, 390], [534, 122, 216]])\n",
    "print(arr9)"
   ]
  },
  {
   "cell_type": "code",
   "execution_count": 15,
   "id": "b7b8d0c2",
   "metadata": {},
   "outputs": [
    {
     "name": "stdout",
     "output_type": "stream",
     "text": [
      "(101, 322, 390, 122)\n"
     ]
    }
   ],
   "source": [
    "arr10=arr9[0] [0],arr9[0][1],arr9[1][2],arr9[2][1]\n",
    "print(arr10)"
   ]
  },
  {
   "cell_type": "code",
   "execution_count": 16,
   "id": "f050ad0f",
   "metadata": {},
   "outputs": [
    {
     "name": "stdout",
     "output_type": "stream",
     "text": [
      "[[322 768]\n",
      " [124 390]]\n"
     ]
    }
   ],
   "source": [
    "arr11 =arr9[0:2,1:3]\n",
    "print(arr11)"
   ]
  },
  {
   "cell_type": "markdown",
   "id": "fc5a7764",
   "metadata": {},
   "source": [
    "# Q 8"
   ]
  },
  {
   "cell_type": "code",
   "execution_count": 17,
   "id": "87fe44d1",
   "metadata": {},
   "outputs": [
    {
     "name": "stdout",
     "output_type": "stream",
     "text": [
      "Items that are greater than 200 are :\n",
      "[322 768 233 390 534 216]\n"
     ]
    }
   ],
   "source": [
    "print('Items that are greater than 200 are :')\n",
    "print(arr9[arr9>200])"
   ]
  },
  {
   "cell_type": "code",
   "execution_count": 18,
   "id": "34107f9c",
   "metadata": {},
   "outputs": [
    {
     "name": "stdout",
     "output_type": "stream",
     "text": [
      "non-NaN elements :\n",
      "[101 322 768 233 124 390 534 122 216]\n"
     ]
    }
   ],
   "source": [
    "print('non-NaN elements :')\n",
    "print(arr9[~np.isnan(arr9)])"
   ]
  },
  {
   "cell_type": "code",
   "execution_count": 19,
   "id": "40d1d8d6",
   "metadata": {},
   "outputs": [
    {
     "name": "stdout",
     "output_type": "stream",
     "text": [
      "non float elements :\n",
      "[[[101 322 768]\n",
      "  [233 124 390]\n",
      "  [534 122 216]]]\n"
     ]
    }
   ],
   "source": [
    "print('non float elements :')\n",
    "print (arr9[arr9.dtype!='float'])"
   ]
  },
  {
   "cell_type": "code",
   "execution_count": 20,
   "id": "baa2d9ac",
   "metadata": {},
   "outputs": [],
   "source": [
    "arr15 = np.array([1,2,3])"
   ]
  },
  {
   "cell_type": "code",
   "execution_count": 21,
   "id": "1be58954",
   "metadata": {},
   "outputs": [
    {
     "name": "stdout",
     "output_type": "stream",
     "text": [
      "arr9 : \n",
      "[[101 322 768]\n",
      " [233 124 390]\n",
      " [534 122 216]]\n",
      "arr15 :\n",
      "[1 2 3]\n",
      "arr9 + arr15\n",
      "[[102 324 771]\n",
      " [234 126 393]\n",
      " [535 124 219]]\n"
     ]
    }
   ],
   "source": [
    "print('arr9 : ')\n",
    "print(arr9)\n",
    "print('arr15 :')\n",
    "print(arr15)\n",
    "print('arr9 + arr15')\n",
    "print(arr9 +arr15)"
   ]
  },
  {
   "cell_type": "markdown",
   "id": "dbd74903",
   "metadata": {},
   "source": [
    "# Q 9"
   ]
  },
  {
   "cell_type": "code",
   "execution_count": 22,
   "id": "9a5d4b2a",
   "metadata": {},
   "outputs": [
    {
     "name": "stdout",
     "output_type": "stream",
     "text": [
      "The Transpose of arr9 is given below :\n",
      "[[101 233 534]\n",
      " [322 124 122]\n",
      " [768 390 216]]\n"
     ]
    }
   ],
   "source": [
    "print('The Transpose of arr9 is given below :')\n",
    "print(arr9.T)"
   ]
  },
  {
   "cell_type": "code",
   "execution_count": 23,
   "id": "3831f440",
   "metadata": {},
   "outputs": [
    {
     "name": "stdout",
     "output_type": "stream",
     "text": [
      "[ 0.1   2.5   3.81 41.4  15.2  10.8 ]\n",
      "[1 1 1 1 1 1]\n",
      "The joining of the arrays arr1 and arr4 along axis 0 : \n",
      "[ 0.1   2.5   3.81 41.4  15.2  10.8   1.    1.    1.    1.    1.    1.  ]\n"
     ]
    }
   ],
   "source": [
    "print(arr1)\n",
    "print(arr4)\n",
    "print('The joining of the arrays arr1 and arr4 along axis 0 : ')\n",
    "x=np.concatenate((arr1,arr4),axis=0)\n",
    "print(x)"
   ]
  },
  {
   "cell_type": "markdown",
   "id": "8e225414",
   "metadata": {},
   "source": [
    "# Q 10"
   ]
  },
  {
   "cell_type": "code",
   "execution_count": 24,
   "id": "006575af",
   "metadata": {},
   "outputs": [
    {
     "name": "stdout",
     "output_type": "stream",
     "text": [
      "[[ 1000  5000]\n",
      " [10000 40000]]\n",
      "[ 1000  5000 10000 40000]\n",
      "[[ 1000  5000]\n",
      " [10000 40000]]\n",
      "[array([[ 1000,  5000],\n",
      "       [10000, 40000]])]\n",
      "[array([[ 1000,  5000],\n",
      "       [10000, 40000]])]\n"
     ]
    }
   ],
   "source": [
    "import numpy as np\n",
    "array2D=np.array([[1000,5000],[10000,40000]])\n",
    "print(array2D)\n",
    "a=np.hstack(array2D)\n",
    "b=np.vstack(array2D)\n",
    "c=np.hsplit(array2D,1)\n",
    "d=np.vsplit(array2D,1)\n",
    "print(a)\n",
    "print(b)\n",
    "print(c)\n",
    "print(d)"
   ]
  },
  {
   "cell_type": "code",
   "execution_count": null,
   "id": "9c7dd250",
   "metadata": {},
   "outputs": [],
   "source": []
  }
 ],
 "metadata": {
  "kernelspec": {
   "display_name": "Python 3 (ipykernel)",
   "language": "python",
   "name": "python3"
  },
  "language_info": {
   "codemirror_mode": {
    "name": "ipython",
    "version": 3
   },
   "file_extension": ".py",
   "mimetype": "text/x-python",
   "name": "python",
   "nbconvert_exporter": "python",
   "pygments_lexer": "ipython3",
   "version": "3.9.7"
  }
 },
 "nbformat": 4,
 "nbformat_minor": 5
}
