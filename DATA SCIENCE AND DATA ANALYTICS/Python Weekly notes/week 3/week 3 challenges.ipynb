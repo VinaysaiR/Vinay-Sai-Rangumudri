{
 "cells": [
  {
   "cell_type": "markdown",
   "id": "f10e146c",
   "metadata": {},
   "source": [
    "## 1. write  a program to accept an integer n greater than 10. Then print all the odd numbers from 1 to n"
   ]
  },
  {
   "cell_type": "code",
   "execution_count": 2,
   "id": "18e66e8e",
   "metadata": {},
   "outputs": [
    {
     "name": "stdout",
     "output_type": "stream",
     "text": [
      "enter the number12\n",
      "the number is odd number 1\n",
      "the number is odd number 3\n",
      "the number is odd number 5\n",
      "the number is odd number 7\n",
      "the number is odd number 9\n",
      "the number is odd number 11\n"
     ]
    }
   ],
   "source": [
    "n = int(input(\"enter the number\"))\n",
    "if n>10:\n",
    "    for i in range(1,n+1):\n",
    "        if  i%2!=0:\n",
    "            \n",
    "            print('the number is odd number',i)\n",
    "else:\n",
    "    print('the number is even number')"
   ]
  },
  {
   "cell_type": "markdown",
   "id": "cf5a70fb",
   "metadata": {},
   "source": [
    "## write a program to accept an integer n greater than 10. then print all the prime numbers from 1 to n (doubt)\n"
   ]
  },
  {
   "cell_type": "code",
   "execution_count": 3,
   "id": "797eda44",
   "metadata": {},
   "outputs": [
    {
     "name": "stdout",
     "output_type": "stream",
     "text": [
      "Enter the number till you want to check: 23\n",
      "[2, 3, 5, 7, 11, 13, 17, 19, 23]\n"
     ]
    }
   ],
   "source": [
    "n=int(input(\"Enter the number till you want to check: \"))\n",
    "primes = []\n",
    "for i in range (2, n+1):\n",
    "    for j in range(2, i):\n",
    "        if i%j == 0:\n",
    "            break\n",
    "    else:\n",
    "        primes.append(i)\n",
    "print(primes) "
   ]
  },
  {
   "cell_type": "markdown",
   "id": "2e2c6796",
   "metadata": {},
   "source": [
    "## 3. In this exercise you will create a program that computes the average of a collection of values entered by the user. The user will enter O as a sentinel value to indicate that no further values will be provided. Your program should display an appropriate error message if the first value entered by the user is 0"
   ]
  },
  {
   "cell_type": "code",
   "execution_count": 92,
   "id": "58081961",
   "metadata": {},
   "outputs": [
    {
     "name": "stdout",
     "output_type": "stream",
     "text": [
      "0\n"
     ]
    },
    {
     "ename": "ZeroDivisionError",
     "evalue": "float division by zero",
     "output_type": "error",
     "traceback": [
      "\u001b[1;31m---------------------------------------------------------------------------\u001b[0m",
      "\u001b[1;31mZeroDivisionError\u001b[0m                         Traceback (most recent call last)",
      "Input \u001b[1;32mIn [92]\u001b[0m, in \u001b[0;36m<cell line: 10>\u001b[1;34m()\u001b[0m\n\u001b[0;32m      7\u001b[0m         \u001b[38;5;28msum\u001b[39m \u001b[38;5;241m+\u001b[39m\u001b[38;5;241m=\u001b[39m num\n\u001b[0;32m      8\u001b[0m         count \u001b[38;5;241m+\u001b[39m\u001b[38;5;241m=\u001b[39m \u001b[38;5;241m1\u001b[39m\n\u001b[1;32m---> 10\u001b[0m avg \u001b[38;5;241m=\u001b[39m \u001b[38;5;28;43msum\u001b[39;49m\u001b[38;5;241;43m/\u001b[39;49m\u001b[43m(\u001b[49m\u001b[43mcount\u001b[49m\u001b[38;5;241;43m-\u001b[39;49m\u001b[38;5;241;43m1\u001b[39;49m\u001b[43m)\u001b[49m\n\u001b[0;32m     11\u001b[0m \u001b[38;5;28mprint\u001b[39m(avg)\n",
      "\u001b[1;31mZeroDivisionError\u001b[0m: float division by zero"
     ]
    }
   ],
   "source": [
    "count = 0\n",
    "sum = 0.0\n",
    "num = 1\n",
    "\n",
    "while num != 0:\n",
    "        num = int(input(\"\"))\n",
    "        sum += num\n",
    "        count += 1\n",
    "\n",
    "avg = sum/(count-1)\n",
    "print(avg)"
   ]
  },
  {
   "cell_type": "code",
   "execution_count": 1,
   "id": "d8e82797",
   "metadata": {},
   "outputs": [
    {
     "name": "stdout",
     "output_type": "stream",
     "text": [
      "45 \n",
      "25\n",
      " 64\n",
      "65\n",
      "25\n",
      "0\n",
      "44.8\n"
     ]
    }
   ],
   "source": [
    "count = 0\n",
    "sum = 0.0\n",
    "num = 1 \n",
    "\n",
    "while num != 0:\n",
    "        num = int(input(\"\"))\n",
    "        sum += num\n",
    "        count += 1\n",
    "\n",
    "avg = sum/(count-1)\n",
    "print(avg)"
   ]
  },
  {
   "cell_type": "markdown",
   "id": "a6c00522",
   "metadata": {},
   "source": [
    "## 4. Write a program that takes a number as input and prints its multiplication table."
   ]
  },
  {
   "cell_type": "code",
   "execution_count": 102,
   "id": "7833a123",
   "metadata": {},
   "outputs": [
    {
     "name": "stdout",
     "output_type": "stream",
     "text": [
      "Enter the number of which the user wants to print the multiplication table: 4\n",
      "The Multiplication Table of:  4\n",
      "4 x 1 = 4\n",
      "4 x 2 = 8\n",
      "4 x 3 = 12\n",
      "4 x 4 = 16\n",
      "4 x 5 = 20\n",
      "4 x 6 = 24\n",
      "4 x 7 = 28\n",
      "4 x 8 = 32\n",
      "4 x 9 = 36\n",
      "4 x 10 = 40\n"
     ]
    }
   ],
   "source": [
    "number = int(input (\"Enter the number of which the user wants to print the multiplication table: \"))      \n",
    "print (\"The Multiplication Table of: \", number)    \n",
    "for count in range(1, 11):      \n",
    "   print (number, 'x', count, '=', number * count)    "
   ]
  },
  {
   "cell_type": "markdown",
   "id": "46e2b548",
   "metadata": {},
   "source": [
    "## 5. Write a program that displays a temperature conversion table for degrees Celsius and degrees Fahrenheit. The table should include rows for all temperatures between 0 and 100 degrees Celsius that are multiples of 10 degrees Celsius. Include appropriate headings on your columns. (Doubt)"
   ]
  },
  {
   "cell_type": "code",
   "execution_count": 6,
   "id": "fe524f3f",
   "metadata": {},
   "outputs": [
    {
     "name": "stdout",
     "output_type": "stream",
     "text": [
      "Farenhiet Table:\n",
      "Farenhiet temperatue for temperature in 0 C is 32.0\n",
      "Farenhiet temperatue for temperature in 10 C is 50.0\n",
      "Farenhiet temperatue for temperature in 20 C is 68.0\n",
      "Farenhiet temperatue for temperature in 30 C is 86.0\n",
      "Farenhiet temperatue for temperature in 40 C is 104.0\n",
      "Farenhiet temperatue for temperature in 50 C is 122.0\n",
      "Farenhiet temperatue for temperature in 60 C is 140.0\n",
      "Farenhiet temperatue for temperature in 70 C is 158.0\n",
      "Farenhiet temperatue for temperature in 80 C is 176.0\n",
      "Farenhiet temperatue for temperature in 90 C is 194.0\n",
      "Farenhiet temperatue for temperature in 100 C is 212.0\n",
      "Celcius Table:\n",
      "Celcius temperatue for temperature in 0 F is -17.77777777777778\n",
      "Celcius temperatue for temperature in 10 F is -12.222222222222221\n",
      "Celcius temperatue for temperature in 20 F is -6.666666666666666\n",
      "Celcius temperatue for temperature in 30 F is -1.1111111111111112\n",
      "Celcius temperatue for temperature in 40 F is 4.444444444444445\n",
      "Celcius temperatue for temperature in 50 F is 10.0\n",
      "Celcius temperatue for temperature in 60 F is 15.555555555555555\n",
      "Celcius temperatue for temperature in 70 F is 21.11111111111111\n",
      "Celcius temperatue for temperature in 80 F is 26.666666666666664\n",
      "Celcius temperatue for temperature in 90 F is 32.22222222222222\n",
      "Celcius temperatue for temperature in 100 F is 37.77777777777778\n"
     ]
    }
   ],
   "source": [
    "degC=0\n",
    "degF=0\n",
    "print('Farenhiet Table:')\n",
    "for i in range(0,11):\n",
    "    print('Farenhiet temperatue for temperature in',degC,'C is',(degC*1.8)+32)\n",
    "    degC+=10\n",
    "print('Celcius Table:')\n",
    "for j in range(0,11):\n",
    "    print('Celcius temperatue for temperature in',degF,'F is',(degF-32)/1.8)\n",
    "    degF+=10"
   ]
  },
  {
   "cell_type": "markdown",
   "id": "301f89a6",
   "metadata": {},
   "source": [
    "## 6. A string is a palindrome If it is identical forward and backward. For example \"anna\" \" \"ciVic\" \"level\" and madam\" are all examples of palindrome words. Write a program that reads a string from the user and uses a loop to determine whether or not it is a palindrome. Display the result, including a meoningful output message."
   ]
  },
  {
   "cell_type": "code",
   "execution_count": 1,
   "id": "4466eca5",
   "metadata": {},
   "outputs": [
    {
     "name": "stdout",
     "output_type": "stream",
     "text": [
      "enter the string: level\n",
      "the string level is a palidrome\n"
     ]
    }
   ],
   "source": [
    " # given string is palindrome or not\n",
    "str1 = input('enter the string: ')\n",
    "\n",
    "rev = str1[::-1]\n",
    "       \n",
    "for i in range(len(str1)):\n",
    "    if str1[i]!= rev[i]:\n",
    "       print('the string',str1,'is not a palindrome')\n",
    "       break \n",
    "else:\n",
    "    print('the string',str1,'is a palidrome')\n",
    "    "
   ]
  },
  {
   "cell_type": "markdown",
   "id": "8e9ba849",
   "metadata": {},
   "source": [
    "## 7. The greatest common divisor (GCD) of two positive integers, n and m, is the largest number, d, which divides evenly into both n and m. The following algorithm is used to find GCD of n and m ((Doubt)\n",
    "#### Initialize d to the smaller of m and n. \n",
    "#### While d does not evenly divide m or d does not evenly divide n do Decrease the value of d by 1 \n",
    "#### Report d as the greatest common divisor of n and m \n",
    "#### Write a program that reads two positive integers from the user and uses this algorithm to determine and report their greatest common divisor."
   ]
  },
  {
   "cell_type": "code",
   "execution_count": 17,
   "id": "223f85ba",
   "metadata": {},
   "outputs": [
    {
     "name": "stdout",
     "output_type": "stream",
     "text": [
      "Enter the number, m: 12\n",
      "Enter the number, n: 13\n",
      "the greatest common divisor 1\n"
     ]
    }
   ],
   "source": [
    "m = int(input(\"Enter the number, m: \"))\n",
    "n = int(input(\"Enter the number, n: \"))\n",
    "if m>n:\n",
    "    d=n\n",
    "else:\n",
    "    d=m\n",
    "while 1:\n",
    "    if m%d!=0:\n",
    "        d = d - 1\n",
    "    elif n%d!=0:\n",
    "        d=d-1\n",
    "    else: \n",
    "        print (\"the greatest common divisor\" , d, )\n",
    "        break"
   ]
  },
  {
   "cell_type": "markdown",
   "id": "3be75f43",
   "metadata": {},
   "source": [
    "## 8. The prime factorization of an integer, n, can be determined using the following steps:\n",
    "#### Initialize factor to two\n",
    "#### While factor is less than or equal to n do\n",
    "#### If n is evenly divisible by factor then\n",
    "#### Conclude that factor is a factor of n\n",
    "#### Divide n by factor using integer division\n",
    "#### Else\n",
    "#### Increase factor by one\n",
    "#### Write o program that reads an integer from the user. If the value entered bv the user is less than 2\n",
    "#### then your program should display an appropriate error message. Otherwise your program should\n",
    "#### disploy the prime numbers that can be multiplied together to compute n, with one factor appearing on each line\n",
    "# (Doubt)"
   ]
  },
  {
   "cell_type": "code",
   "execution_count": 2,
   "id": "5444f02b",
   "metadata": {},
   "outputs": [
    {
     "name": "stdout",
     "output_type": "stream",
     "text": [
      "enter any number 12\n",
      "2\n",
      "2\n",
      "3\n"
     ]
    }
   ],
   "source": [
    "num = int(input(\"enter any number \")) \n",
    "temp=num\n",
    "i = 2\n",
    "while  temp>1:\n",
    "    if temp%i == 0:\n",
    "        print(i)\n",
    "        temp=int(temp/i)\n",
    "    else:\n",
    "        i+=1        "
   ]
  },
  {
   "cell_type": "code",
   "execution_count": 1,
   "id": "2d510aa7",
   "metadata": {},
   "outputs": [
    {
     "ename": "NameError",
     "evalue": "name 'prime_factor' is not defined",
     "output_type": "error",
     "traceback": [
      "\u001b[1;31m---------------------------------------------------------------------------\u001b[0m",
      "\u001b[1;31mNameError\u001b[0m                                 Traceback (most recent call last)",
      "\u001b[1;32mC:\\Users\\SANJEE~1\\AppData\\Local\\Temp/ipykernel_1212/3366672063.py\u001b[0m in \u001b[0;36m<module>\u001b[1;34m\u001b[0m\n\u001b[1;32m----> 1\u001b[1;33m \u001b[0mprime_factor\u001b[0m\u001b[1;33m(\u001b[0m\u001b[1;36m36\u001b[0m\u001b[1;33m)\u001b[0m\u001b[1;33m\u001b[0m\u001b[1;33m\u001b[0m\u001b[0m\n\u001b[0m",
      "\u001b[1;31mNameError\u001b[0m: name 'prime_factor' is not defined"
     ]
    }
   ],
   "source": [
    "prime_factor(36)"
   ]
  },
  {
   "cell_type": "markdown",
   "id": "685ca5e7",
   "metadata": {},
   "source": [
    "## 9. Write a program that converts a binary (base 2) number to decimal (base 10). Your program should begin by reading the binary number from the user as a string. Then it should compute the equivalent decimal number by processing each digit in the binary number. Finally, your program should display the equivalent decimal number with an appropriate message. (Doubt)"
   ]
  },
  {
   "cell_type": "code",
   "execution_count": 6,
   "id": "41603f65",
   "metadata": {},
   "outputs": [
    {
     "name": "stdout",
     "output_type": "stream",
     "text": [
      "enter the binary to convert (greater than 0): 1010\n",
      "The number 10\n"
     ]
    }
   ],
   "source": [
    "# write a program to accept a binary equivalaent to deciaml\n",
    "num =int(input('enter the binary to convert (greater than 0): '))\n",
    "sum = 0\n",
    "i = 0\n",
    "while  num != 0:\n",
    "    remainder = num % 10\n",
    "    sum = sum + remainder * pow(2,i)\n",
    "    num =int(num/10)\n",
    "    i += 1\n",
    "print('The number',sum )"
   ]
  },
  {
   "cell_type": "markdown",
   "id": "87ac72e4",
   "metadata": {},
   "source": [
    "## 10. Demonstrate the formatting capabilities of format function on integers, floats and strings"
   ]
  },
  {
   "cell_type": "code",
   "execution_count": 4,
   "id": "fb1ff46b",
   "metadata": {},
   "outputs": [
    {
     "name": "stdout",
     "output_type": "stream",
     "text": [
      "length =10.5,breadth =12.66,radius=1.56, name=Subhash Chandra Bose\n",
      "name: ['Subhash', 'Chandra', 'Bose']\n",
      "length =10.5,breadth =12.66,radius=1.56\n",
      "radius =1.56, length =10.5, breadth = 12.66\n",
      "radius =       1.56\n"
     ]
    }
   ],
   "source": [
    "## floats , int, strings\n",
    "r,l,b,name = 1.56, 10.5, 12.66 ,'Subhash Chandra Bose'\n",
    "\n",
    "print(f'length ={l},breadth ={b},radius={r}, name={name}')\n",
    "print('name:',name.split())\n",
    "print('length ={},breadth ={},radius={}'.format(l,b,r))\n",
    "print('radius ={2}, length ={1}, breadth = {0}'.format(b,l,r))\n",
    "print('radius = {0:10.2f}'.format(r)) # spaces"
   ]
  },
  {
   "cell_type": "code",
   "execution_count": 16,
   "id": "e9c7583b",
   "metadata": {},
   "outputs": [
    {
     "name": "stdout",
     "output_type": "stream",
     "text": [
      "name =renuka,age =20,salary=20000\n",
      "name =renuka          salary =      20000\n",
      "name =renuka, salary =20000, age = 20\n"
     ]
    }
   ],
   "source": [
    " name,age,salary ='renuka',20,20000\n",
    "print('name ={},age ={},salary={}'.format(name,age,salary))\n",
    "print ('name ={0:15} salary = {1:10}'.format(name,salary))\n",
    "print('name ={1}, salary ={0}, age = {2}'.format(salary,name,age))"
   ]
  },
  {
   "cell_type": "code",
   "execution_count": 13,
   "id": "ef8d2e04",
   "metadata": {},
   "outputs": [
    {
     "data": {
      "text/plain": [
       "(4, 8)"
      ]
     },
     "execution_count": 13,
     "metadata": {},
     "output_type": "execute_result"
    }
   ],
   "source": [
    "def gcd(a,b):\n",
    "    if a==0:\n",
    "        return b\n",
    "    return (b%a,a)\n",
    "\n",
    "gcd(8,12)"
   ]
  },
  {
   "cell_type": "code",
   "execution_count": 16,
   "id": "ec16328b",
   "metadata": {},
   "outputs": [
    {
     "data": {
      "text/plain": [
       "20"
      ]
     },
     "execution_count": 16,
     "metadata": {},
     "output_type": "execute_result"
    }
   ],
   "source": [
    "import math\n",
    "\n",
    "math.gcd(2,3)\n",
    "\n",
    "math.lcm(4,20)"
   ]
  },
  {
   "cell_type": "code",
   "execution_count": null,
   "id": "d72e522a",
   "metadata": {},
   "outputs": [],
   "source": []
  }
 ],
 "metadata": {
  "kernelspec": {
   "display_name": "Python 3 (ipykernel)",
   "language": "python",
   "name": "python3"
  },
  "language_info": {
   "codemirror_mode": {
    "name": "ipython",
    "version": 3
   },
   "file_extension": ".py",
   "mimetype": "text/x-python",
   "name": "python",
   "nbconvert_exporter": "python",
   "pygments_lexer": "ipython3",
   "version": "3.9.7"
  }
 },
 "nbformat": 4,
 "nbformat_minor": 5
}
