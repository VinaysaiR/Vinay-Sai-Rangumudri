{
 "cells": [
  {
   "cell_type": "markdown",
   "id": "933a6848",
   "metadata": {},
   "source": [
    "### while loop"
   ]
  },
  {
   "cell_type": "code",
   "execution_count": 3,
   "id": "b77aee0a",
   "metadata": {},
   "outputs": [
    {
     "name": "stdout",
     "output_type": "stream",
     "text": [
      "Welcome to ittarative statement count = 0\n",
      "Welcome to ittarative statement count = 1\n",
      "Welcome to ittarative statement count = 2\n",
      "Welcome to ittarative statement count = 3\n",
      "Welcome to ittarative statement count = 4\n",
      "Welcome to ittarative statement count = 5\n",
      "outside the statement\n"
     ]
    }
   ],
   "source": [
    "#print the values below the five\n",
    "count = 0\n",
    "while count<=5:\n",
    "    print(\"Welcome to ittarative statement count =\",count)\n",
    "    count+=1\n",
    "print(\"outside the statement\")"
   ]
  },
  {
   "cell_type": "code",
   "execution_count": 5,
   "id": "e1b1a53a",
   "metadata": {},
   "outputs": [
    {
     "name": "stdout",
     "output_type": "stream",
     "text": [
      "enter the value = 9\n",
      "the count statement =  0\n",
      "the count statement =  1\n",
      "the count statement =  2\n",
      "the count statement =  3\n",
      "the count statement =  4\n",
      "the count statement =  5\n",
      "the count statement =  6\n",
      "the count statement =  7\n",
      "the count statement =  8\n",
      "the programming complited\n"
     ]
    }
   ],
   "source": [
    "n = int(input(\"enter the value = \"))\n",
    "count = 0\n",
    "while count<n:\n",
    "    print(\"the count statement = \",count)\n",
    "    count+=1\n",
    "print(\"the programming complited\")"
   ]
  },
  {
   "cell_type": "code",
   "execution_count": 6,
   "id": "fd19ebbe",
   "metadata": {},
   "outputs": [
    {
     "name": "stdout",
     "output_type": "stream",
     "text": [
      "enter the value =10\n",
      "the count statement = 0\n",
      "the count statement = 2\n",
      "the count statement = 4\n",
      "the count statement = 6\n",
      "the count statement = 8\n",
      "the programing completed\n"
     ]
    }
   ],
   "source": [
    "n = int(input(\"enter the value =\"))\n",
    "count = 0\n",
    "while count<n:\n",
    "    print(\"the count statement =\",count)\n",
    "    count+=2\n",
    "print(\"the programing completed\")"
   ]
  },
  {
   "cell_type": "code",
   "execution_count": 1,
   "id": "24876e86",
   "metadata": {},
   "outputs": [
    {
     "name": "stdout",
     "output_type": "stream",
     "text": [
      "enter the m is the starting value =2\n",
      "enter the n is the ending value =15\n",
      "count 2\n",
      "count 3\n",
      "count 4\n",
      "count 5\n",
      "count 6\n",
      "count 7\n",
      "count 8\n",
      "count 9\n",
      "count 10\n",
      "count 11\n",
      "count 12\n",
      "count 13\n",
      "count 14\n"
     ]
    }
   ],
   "source": [
    "m = int(input(\"enter the m is the starting value =\"))\n",
    "n = int(input(\"enter the n is the ending value =\"))\n",
    "count = m\n",
    "while count<n:\n",
    "    print(\"count\",count)\n",
    "    count+=1"
   ]
  },
  {
   "cell_type": "code",
   "execution_count": 4,
   "id": "d84ce9bc",
   "metadata": {},
   "outputs": [
    {
     "name": "stdout",
     "output_type": "stream",
     "text": [
      "9\n",
      "8\n",
      "7\n",
      "6\n",
      "5\n",
      "4\n",
      "3\n",
      "2\n",
      "1\n",
      "0\n",
      "programing completed\n"
     ]
    }
   ],
   "source": [
    "count = 9\n",
    "\n",
    "while count>=0:\n",
    "    print(count)\n",
    "    count-=1\n",
    "print(\"programing completed\")"
   ]
  },
  {
   "cell_type": "code",
   "execution_count": 8,
   "id": "aa95b43a",
   "metadata": {},
   "outputs": [
    {
     "name": "stdout",
     "output_type": "stream",
     "text": [
      "Enter a value =5\n",
      "enter the value of number10\n",
      "enter the value of number52\n",
      "enter the value of number96\n",
      "enter the value of number98\n",
      "enter the value of number24\n",
      "The average value 56.0\n"
     ]
    }
   ],
   "source": [
    "n = int(input('Enter a value ='))\n",
    "\n",
    "sum = 0\n",
    "\n",
    "count = 0\n",
    "\n",
    "while count<n:\n",
    "    num = int(input(\"enter the value of number\"))\n",
    "    sum+=num\n",
    "    count+=1\n",
    "avr = sum/n\n",
    "\n",
    "print(\"The average value\",avr)"
   ]
  },
  {
   "cell_type": "code",
   "execution_count": 13,
   "id": "87e16d9b",
   "metadata": {},
   "outputs": [
    {
     "name": "stdout",
     "output_type": "stream",
     "text": [
      "Enter a value =5\n",
      "enter the value of number2\n",
      "enter the value of number9\n",
      "enter the value of number94\n",
      "The average value 21.0\n"
     ]
    }
   ],
   "source": [
    "n = int(input('Enter a value ='))\n",
    "\n",
    "sum = 0\n",
    "\n",
    "count = 0\n",
    "\n",
    "while count<n:\n",
    "    num = int(input(\"enter the value of number\"))\n",
    "    sum+=num\n",
    "    count+=2\n",
    "avr = sum/n\n",
    "\n",
    "print(\"The average value\",avr)"
   ]
  },
  {
   "cell_type": "code",
   "execution_count": 17,
   "id": "f328c0d2",
   "metadata": {},
   "outputs": [
    {
     "name": "stdout",
     "output_type": "stream",
     "text": [
      "Enter a value =5\n",
      "enter the value of number10\n",
      "enter the value of number20\n",
      "enter the value of number30\n",
      "enter the value of number40\n",
      "enter the value of number50\n",
      "The average value 30.2\n"
     ]
    }
   ],
   "source": [
    "n = int(input('Enter a value ='))\n",
    "\n",
    "sum = 1      # value of digit equal to the sum to  be added the sum value\n",
    "\n",
    "count = 0  # Count be defined to add the value at stage\n",
    "\n",
    "while count<n: # count value end < n value or > n value at decremnet <= or >=\n",
    "    num = int(input(\"enter the value of number\"))\n",
    "    sum+=num\n",
    "    count+=1\n",
    "avr = sum/n\n",
    "\n",
    "print(\"The average value\",avr)"
   ]
  },
  {
   "cell_type": "markdown",
   "id": "3ebe6007",
   "metadata": {},
   "source": [
    "### for loop condition "
   ]
  },
  {
   "cell_type": "code",
   "execution_count": 23,
   "id": "504459e6",
   "metadata": {},
   "outputs": [
    {
     "name": "stdout",
     "output_type": "stream",
     "text": [
      "for loop condition 0\n",
      "for loop condition 1\n",
      "for loop condition 2\n",
      "for loop condition 3\n",
      "for loop condition 4\n"
     ]
    }
   ],
   "source": [
    "for i in range(0,5):\n",
    "    print(\"for loop condition\",i) #is end value we want the give range is greater than 1"
   ]
  },
  {
   "cell_type": "code",
   "execution_count": 22,
   "id": "e42f47a0",
   "metadata": {},
   "outputs": [
    {
     "name": "stdout",
     "output_type": "stream",
     "text": [
      "range(0, 5)\n"
     ]
    }
   ],
   "source": [
    "print(range(0,5))"
   ]
  },
  {
   "cell_type": "code",
   "execution_count": 24,
   "id": "4d4c895d",
   "metadata": {},
   "outputs": [
    {
     "name": "stdout",
     "output_type": "stream",
     "text": [
      "i = 0\n",
      "i = 1\n",
      "i = 2\n",
      "i = 3\n",
      "i = 4\n",
      "i = 5\n",
      "i = 6\n",
      "i = 7\n",
      "i = 8\n",
      "i = 9\n",
      "for loop codition\n"
     ]
    }
   ],
   "source": [
    "for i in range (0,10):\n",
    "    print(\"i =\",i)\n",
    "print(\"for loop codition\")"
   ]
  },
  {
   "cell_type": "code",
   "execution_count": 25,
   "id": "f38082de",
   "metadata": {},
   "outputs": [
    {
     "name": "stdout",
     "output_type": "stream",
     "text": [
      "i= 0\n",
      "i= 1\n",
      "i= 2\n",
      "i= 3\n",
      "i= 4\n",
      "for loop outside\n"
     ]
    }
   ],
   "source": [
    "for i in range(0,5,1):\n",
    "    print(\"i=\",i)\n",
    "print(\"for loop outside\")"
   ]
  },
  {
   "cell_type": "code",
   "execution_count": 26,
   "id": "ea05fe87",
   "metadata": {},
   "outputs": [
    {
     "name": "stdout",
     "output_type": "stream",
     "text": [
      "i= 0\n",
      "i= 2\n",
      "i= 4\n",
      "for loop outside\n"
     ]
    }
   ],
   "source": [
    "for i in range(0,5,2):\n",
    "    print(\"i=\",i)\n",
    "print(\"for loop outside\")"
   ]
  },
  {
   "cell_type": "markdown",
   "id": "1a559b65",
   "metadata": {},
   "source": [
    "flow of execution of loop\n",
    "1. instalisition - only once -i=0\n",
    "2. condition test i<11\n",
    "3. execute the body\n",
    "4. increment i=i+2\n",
    "5. executive steps 2 to 4"
   ]
  },
  {
   "cell_type": "code",
   "execution_count": 27,
   "id": "bb983087",
   "metadata": {},
   "outputs": [
    {
     "name": "stdout",
     "output_type": "stream",
     "text": [
      "i= 10\n",
      "i= 9\n",
      "i= 8\n",
      "i= 7\n",
      "i= 6\n",
      "i= 5\n",
      "i= 4\n",
      "i= 3\n",
      "i= 2\n",
      "i= 1\n",
      "i= 0\n",
      "outside for loop\n"
     ]
    }
   ],
   "source": [
    "for i in  range(10,-1,-1):\n",
    "    print(\"i=\",i)\n",
    "print(\"outside for loop\")"
   ]
  },
  {
   "cell_type": "code",
   "execution_count": 31,
   "id": "91f02343",
   "metadata": {},
   "outputs": [
    {
     "name": "stdout",
     "output_type": "stream",
     "text": [
      "enter the value = 5\n",
      "enter the value =10\n",
      "enter the value =20\n",
      "enter the value =30\n",
      "enter the value =40\n",
      "enter the value =50\n",
      "avarage value = 30.0\n",
      "outside for loop\n"
     ]
    }
   ],
   "source": [
    "n = int(input(\"enter the value = \"))\n",
    "sum = 0\n",
    "for i in range(0,n):\n",
    "    num = int(input('enter the value ='))\n",
    "    sum+=num\n",
    "avr = sum/n\n",
    "print(\"avarage value =\", avr)\n",
    "print(\"outside for loop\")"
   ]
  },
  {
   "cell_type": "markdown",
   "id": "92f70876",
   "metadata": {},
   "source": [
    "### break statement"
   ]
  },
  {
   "cell_type": "code",
   "execution_count": 32,
   "id": "ce7906fb",
   "metadata": {},
   "outputs": [
    {
     "name": "stdout",
     "output_type": "stream",
     "text": [
      "while loop...\n",
      "i= 0\n",
      "i= 1\n",
      "i= 2\n",
      "i= 3\n",
      "i= 4\n",
      "i= 5\n",
      "i= 6\n",
      "outside the loop\n"
     ]
    }
   ],
   "source": [
    "i = 0\n",
    "print(\"while loop...\")\n",
    "\n",
    "while i<9:\n",
    "    print(\"i=\",i)\n",
    "    i+=1\n",
    "    if i == 7:\n",
    "        break\n",
    "print(\"outside the loop\")"
   ]
  },
  {
   "cell_type": "code",
   "execution_count": 33,
   "id": "4b879130",
   "metadata": {},
   "outputs": [
    {
     "name": "stdout",
     "output_type": "stream",
     "text": [
      "i = 0\n",
      "i = 1\n",
      "i = 2\n",
      "i = 3\n",
      "i = 4\n",
      "i = 5\n",
      "i = 6\n",
      "i = 7\n",
      "loop outside\n"
     ]
    }
   ],
   "source": [
    "for i in range(0,10):\n",
    "    print(\"i =\",i)\n",
    "    if (i == 7):\n",
    "        break\n",
    "print(\"loop outside\")"
   ]
  },
  {
   "cell_type": "code",
   "execution_count": 36,
   "id": "4dd9f89d",
   "metadata": {},
   "outputs": [
    {
     "name": "stdout",
     "output_type": "stream",
     "text": [
      "while loop...\n",
      "i= 0\n",
      "i= 1\n",
      "i= 2\n",
      "i= 3\n",
      "i= 4\n",
      "i= 5\n",
      "i= 6\n",
      "outside the loop\n"
     ]
    }
   ],
   "source": [
    "i = 0\n",
    "print(\"while loop...\")\n",
    "\n",
    "while i<9:\n",
    "    print(\"i=\",i)\n",
    "    i+=1\n",
    "    if i == 7:\n",
    "        break\n",
    "print(\"outside the loop\")"
   ]
  },
  {
   "cell_type": "markdown",
   "id": "84589622",
   "metadata": {},
   "source": [
    "### continue statement"
   ]
  },
  {
   "cell_type": "code",
   "execution_count": 37,
   "id": "ed47b458",
   "metadata": {},
   "outputs": [
    {
     "name": "stdout",
     "output_type": "stream",
     "text": [
      "i= 0\n",
      "i= 1\n",
      "i= 2\n",
      "i= 3\n",
      "i= 4\n",
      "i= 5\n",
      "i= 6\n",
      "i= 7\n",
      "i= 8\n",
      "i= 9\n",
      "outside the loop\n"
     ]
    }
   ],
   "source": [
    "for i in range(0,10):\n",
    "    print(\"i=\",i)\n",
    "    if (i == 7):\n",
    "        continue\n",
    "print(\"outside the loop\")"
   ]
  },
  {
   "cell_type": "code",
   "execution_count": 40,
   "id": "abbbdac7",
   "metadata": {},
   "outputs": [
    {
     "name": "stdout",
     "output_type": "stream",
     "text": [
      "i= 0\n",
      "i= 1\n",
      "i= 2\n",
      "i= 3\n",
      "i= 4\n",
      "i= 5\n",
      "i= 6\n",
      "i= 8\n",
      "i= 9\n"
     ]
    }
   ],
   "source": [
    "for i in range(0,10):\n",
    "    if (i == 7):\n",
    "        continue\n",
    "    print(\"i=\",i)"
   ]
  },
  {
   "cell_type": "code",
   "execution_count": 41,
   "id": "5eacba2a",
   "metadata": {},
   "outputs": [
    {
     "name": "stdout",
     "output_type": "stream",
     "text": [
      "i= 9\n"
     ]
    }
   ],
   "source": [
    "for i in range(0,10):\n",
    "    if (i == 7):\n",
    "        continue\n",
    "print(\"i=\",i)"
   ]
  },
  {
   "cell_type": "code",
   "execution_count": 48,
   "id": "627234f1",
   "metadata": {},
   "outputs": [
    {
     "name": "stdout",
     "output_type": "stream",
     "text": [
      "i= 0\n",
      "i= 1\n",
      "i= 2\n",
      "i= 3\n",
      "i= 4\n",
      "i= 5\n",
      "i= 6\n",
      "i = 7\n",
      "i= 7\n",
      "i= 8\n",
      "i= 9\n",
      "while loop outside...\n"
     ]
    }
   ],
   "source": [
    "i = 0\n",
    "while i<10:\n",
    "    print(\"i=\",i)\n",
    "    i+=1\n",
    "    if i == 7:\n",
    "        print(\"i =\",i)\n",
    "        continue\n",
    "print(\"while loop outside...\")"
   ]
  },
  {
   "cell_type": "code",
   "execution_count": 49,
   "id": "84e73f20",
   "metadata": {},
   "outputs": [
    {
     "name": "stdout",
     "output_type": "stream",
     "text": [
      "i= 0\n",
      "i= 1\n",
      "i= 2\n",
      "i= 3\n",
      "i= 4\n",
      "i= 5\n",
      "i= 6\n",
      "i= 7\n",
      "i= 8\n",
      "i= 9\n",
      "while loop outside...\n"
     ]
    }
   ],
   "source": [
    "i = 0\n",
    "while i<10:\n",
    "    print(\"i=\",i)\n",
    "    i+=1\n",
    "    if i == 7:\n",
    "        \n",
    "        continue\n",
    "print(\"while loop outside...\")"
   ]
  },
  {
   "cell_type": "code",
   "execution_count": 58,
   "id": "ac4c417c",
   "metadata": {},
   "outputs": [
    {
     "name": "stdout",
     "output_type": "stream",
     "text": [
      "i= 0\n",
      "i= 1\n",
      "i= 2\n",
      "i= 3\n",
      "i= 4\n",
      "i= 5\n",
      "i= 6\n"
     ]
    },
    {
     "ename": "KeyboardInterrupt",
     "evalue": "",
     "output_type": "error",
     "traceback": [
      "\u001b[1;31m---------------------------------------------------------------------------\u001b[0m",
      "\u001b[1;31mKeyboardInterrupt\u001b[0m                         Traceback (most recent call last)",
      "\u001b[1;32mC:\\Users\\SANJEE~1\\AppData\\Local\\Temp/ipykernel_22844/1047102098.py\u001b[0m in \u001b[0;36m<module>\u001b[1;34m\u001b[0m\n\u001b[0;32m      1\u001b[0m \u001b[0mi\u001b[0m \u001b[1;33m=\u001b[0m \u001b[1;36m0\u001b[0m\u001b[1;33m\u001b[0m\u001b[1;33m\u001b[0m\u001b[0m\n\u001b[0;32m      2\u001b[0m \u001b[1;32mwhile\u001b[0m \u001b[0mi\u001b[0m\u001b[1;33m<\u001b[0m\u001b[1;36m10\u001b[0m\u001b[1;33m:\u001b[0m\u001b[1;33m\u001b[0m\u001b[1;33m\u001b[0m\u001b[0m\n\u001b[1;32m----> 3\u001b[1;33m     \u001b[1;32mif\u001b[0m \u001b[0mi\u001b[0m \u001b[1;33m==\u001b[0m \u001b[1;36m7\u001b[0m\u001b[1;33m:\u001b[0m\u001b[1;33m\u001b[0m\u001b[1;33m\u001b[0m\u001b[0m\n\u001b[0m\u001b[0;32m      4\u001b[0m         \u001b[1;32mcontinue\u001b[0m\u001b[1;33m\u001b[0m\u001b[1;33m\u001b[0m\u001b[0m\n\u001b[0;32m      5\u001b[0m     \u001b[0mprint\u001b[0m\u001b[1;33m(\u001b[0m\u001b[1;34m\"i=\"\u001b[0m\u001b[1;33m,\u001b[0m\u001b[0mi\u001b[0m\u001b[1;33m)\u001b[0m\u001b[1;33m\u001b[0m\u001b[1;33m\u001b[0m\u001b[0m\n",
      "\u001b[1;31mKeyboardInterrupt\u001b[0m: "
     ]
    }
   ],
   "source": [
    "i = 0\n",
    "while i<10:\n",
    "    if i == 7:\n",
    "        continue\n",
    "    print(\"i=\",i)\n",
    "    i += 1\n",
    "print(\"while loop outside...\")"
   ]
  },
  {
   "cell_type": "markdown",
   "id": "f64de31e",
   "metadata": {},
   "source": [
    "### pass statement"
   ]
  },
  {
   "cell_type": "code",
   "execution_count": 57,
   "id": "8ebc55a8",
   "metadata": {},
   "outputs": [
    {
     "name": "stdout",
     "output_type": "stream",
     "text": [
      "enter a value = 10\n"
     ]
    }
   ],
   "source": [
    "i = int(input(\"enter a value = \"))\n",
    "\n",
    "if i == 10:\n",
    "    pass\n",
    "else:\n",
    "    print(\"the value not valid with 10\")"
   ]
  },
  {
   "cell_type": "markdown",
   "id": "692261a3",
   "metadata": {},
   "source": [
    "## else statement in loop condition"
   ]
  },
  {
   "cell_type": "code",
   "execution_count": 59,
   "id": "843eec89",
   "metadata": {},
   "outputs": [
    {
     "name": "stdout",
     "output_type": "stream",
     "text": [
      "i= 0\n",
      "i= 1\n",
      "i= 2\n",
      "i= 3\n",
      "i= 4\n",
      "i= 5\n",
      "i= 6\n",
      "i= 7\n",
      "out side thw loop\n"
     ]
    }
   ],
   "source": [
    "for i in range(0,10):\n",
    "    print(\"i=\",i)\n",
    "    if i == 7:\n",
    "        break\n",
    "else:\n",
    "    print(\"all ittirative statements\")\n",
    "print(\"out side thw loop\")"
   ]
  },
  {
   "cell_type": "code",
   "execution_count": 61,
   "id": "92e9982f",
   "metadata": {},
   "outputs": [
    {
     "name": "stdout",
     "output_type": "stream",
     "text": [
      "i= 0\n",
      "i= 1\n",
      "i= 2\n",
      "i= 3\n",
      "i= 4\n",
      "i= 5\n",
      "i= 6\n",
      "i= 7\n",
      "i= 8\n",
      "i= 9\n",
      "all ittirative statements\n",
      "out side thw loop\n"
     ]
    }
   ],
   "source": [
    "for i in range(0,10):\n",
    "    print(\"i=\",i)\n",
    "    #if i == 7:\n",
    "        #break\n",
    "else:\n",
    "    print(\"all ittirative statements\")\n",
    "print(\"out side thw loop\")"
   ]
  },
  {
   "cell_type": "markdown",
   "id": "4b9348c2",
   "metadata": {},
   "source": [
    "## programing examples"
   ]
  },
  {
   "cell_type": "code",
   "execution_count": 62,
   "id": "921547cc",
   "metadata": {},
   "outputs": [
    {
     "name": "stdout",
     "output_type": "stream",
     "text": [
      "enter the value is greater than 10 =8\n",
      "hence n value is invalid\n"
     ]
    }
   ],
   "source": [
    "n = int(input(\"enter the value is greater than 10 =\"))\n",
    "if n >10:\n",
    "    for i in range(i,n+1):\n",
    "        if i%2 == 0:\n",
    "            print(i)\n",
    "else:\n",
    "    print(\"hence n value is invalid\")"
   ]
  },
  {
   "cell_type": "code",
   "execution_count": 71,
   "id": "1cf2cf39",
   "metadata": {},
   "outputs": [
    {
     "name": "stdout",
     "output_type": "stream",
     "text": [
      "enter the value is greater than 10 =20\n",
      "2\n",
      "4\n",
      "6\n",
      "8\n",
      "10\n",
      "12\n",
      "14\n",
      "16\n",
      "18\n",
      "20\n"
     ]
    }
   ],
   "source": [
    "n = int(input(\"enter the value is greater than 10 =\"))\n",
    "if n >10:\n",
    "    for i in range(1,n+1):\n",
    "        if i%2 == 0:\n",
    "            print(i)\n",
    "else:\n",
    "    print(\"hence n value is invalid\")"
   ]
  },
  {
   "cell_type": "code",
   "execution_count": 73,
   "id": "33d6cf4f",
   "metadata": {},
   "outputs": [
    {
     "name": "stdout",
     "output_type": "stream",
     "text": [
      "enter the Number: 56\n",
      "the 56 number is not prime number\n"
     ]
    }
   ],
   "source": [
    "n = int(input(\"enter the Number: \"))\n",
    "\n",
    "for i in range(2,n):\n",
    "    if n%i==0:\n",
    "        print(\"the\",n,\"number is not prime number\")\n",
    "        break\n",
    "else:\n",
    "    print(\"the number\",n,\"is prime number\")"
   ]
  },
  {
   "cell_type": "code",
   "execution_count": 75,
   "id": "49b49ef3",
   "metadata": {},
   "outputs": [
    {
     "name": "stdout",
     "output_type": "stream",
     "text": [
      "enter the word = level\n",
      "the string level is a pailndrome\n"
     ]
    }
   ],
   "source": [
    "# write a code on estring formate in palindrome\n",
    "\n",
    "str = input(\"enter the word = \")\n",
    "\n",
    "rev = str[::-1]\n",
    "\n",
    "for i in range(len(str)):\n",
    "    if str[i] != rev[i]:\n",
    "        print(\"the string\",str,\"is not a pailndrome\")\n",
    "        break\n",
    "else:\n",
    "    print(\"the string\",str,\"is a pailndrome\")\n",
    "        "
   ]
  },
  {
   "cell_type": "code",
   "execution_count": 76,
   "id": "cad24bbc",
   "metadata": {},
   "outputs": [
    {
     "name": "stdout",
     "output_type": "stream",
     "text": [
      "enter the word = vinaypravlika\n",
      "the string vinaypravlika is not a pailndrome\n"
     ]
    }
   ],
   "source": [
    "# write a code on estring formate in palindrome\n",
    "\n",
    "str = input(\"enter the word = \")\n",
    "\n",
    "rev = str[::-1]\n",
    "\n",
    "for i in range(len(str)):\n",
    "    if str[i] != rev[i]:\n",
    "        print(\"the string\",str,\"is not a pailndrome\")\n",
    "        break\n",
    "else:\n",
    "    print(\"the string\",str,\"is a pailndrome\")\n",
    "        "
   ]
  },
  {
   "cell_type": "code",
   "execution_count": 81,
   "id": "b914d6ca",
   "metadata": {},
   "outputs": [
    {
     "name": "stdout",
     "output_type": "stream",
     "text": [
      "enter the sentence =vinay loves pravalika mostly she is happy with her\n",
      "the number of spaces in the sentence is count = 8\n"
     ]
    }
   ],
   "source": [
    "# write the code accepting the string from the user.count the spaces\n",
    "\n",
    "str1 = input(\"enter the sentence =\")\n",
    "\n",
    "count = 0\n",
    "\n",
    "for i in str1:\n",
    "    if i.isspace():\n",
    "        count += 1\n",
    "        \n",
    "print(\"the number of spaces in the sentence is count =\",count)\n",
    "        "
   ]
  },
  {
   "cell_type": "code",
   "execution_count": 83,
   "id": "64502f68",
   "metadata": {},
   "outputs": [
    {
     "name": "stdout",
     "output_type": "stream",
     "text": [
      "enter the sentence =Vinay loves PRAVALIKA, at last NIGHT 11:00 pm\n",
      "the number of upper cases = 15\n",
      "the number of lower cases = 17\n",
      "the number of digit cases = 4\n",
      "the number of space cases = 7\n",
      "the number of other cases = 2\n"
     ]
    }
   ],
   "source": [
    "# write a code accepting a string from the user and find the number of upper, lower, digit, spaces, other charaters\n",
    "\n",
    "str = input(\"enter the sentence =\")\n",
    "no_of_upper = 0\n",
    "no_of_lower = 0\n",
    "no_of_digit = 0\n",
    "no_of_space = 0\n",
    "other = 0\n",
    "\n",
    "for i in str:\n",
    "    if i.isupper():\n",
    "        no_of_upper += 1\n",
    "    elif i.islower():\n",
    "        no_of_lower += 1\n",
    "    elif i.isdigit():\n",
    "        no_of_digit += 1\n",
    "    elif i.isspace():\n",
    "        no_of_space += 1\n",
    "    else:\n",
    "        other += 1\n",
    "print(\"the number of upper cases =\",no_of_upper)\n",
    "print(\"the number of lower cases =\",no_of_lower)\n",
    "print(\"the number of digit cases =\",no_of_digit)\n",
    "print(\"the number of space cases =\",no_of_space)\n",
    "print(\"the number of other cases =\",other)"
   ]
  },
  {
   "cell_type": "code",
   "execution_count": 84,
   "id": "2c6a5a4f",
   "metadata": {},
   "outputs": [
    {
     "name": "stdout",
     "output_type": "stream",
     "text": [
      "Enter the sentence =go dog\n",
      "the string go dog is polidrom\n"
     ]
    }
   ],
   "source": [
    "#write a code accept a string from user to find the mulite word is a palidrom or not.\n",
    "\n",
    "str1 = input(\"Enter the sentence =\")\n",
    "\n",
    "str2 = str1.replace(\" \",\"\")\n",
    "rev = str2[::-1]\n",
    "\n",
    "for i in range(len(str2)):\n",
    "    if str2[i] != rev[i]:\n",
    "        print(\"the string\",str1,\"is not a poildrom\")\n",
    "        break\n",
    "else:\n",
    "    print(\"the string\",str1,\"is polidrom\")"
   ]
  },
  {
   "cell_type": "code",
   "execution_count": 85,
   "id": "4061af41",
   "metadata": {},
   "outputs": [
    {
     "name": "stdout",
     "output_type": "stream",
     "text": [
      "Enter the sentence =we are going to bath\n",
      "the string we are going to bath is not a poildrom\n"
     ]
    }
   ],
   "source": [
    "\n",
    "str1 = input(\"Enter the sentence =\")\n",
    "\n",
    "str2 = str1.replace(\" \",\"\")\n",
    "rev = str2[::-1]\n",
    "\n",
    "for i in range(len(str2)):\n",
    "    if str2[i] != rev[i]:\n",
    "        print(\"the string\",str1,\"is not a poildrom\")\n",
    "        break\n",
    "else:\n",
    "    print(\"the string\",str1,\"is polidrom\")"
   ]
  },
  {
   "cell_type": "code",
   "execution_count": 91,
   "id": "b4f91f8d",
   "metadata": {},
   "outputs": [
    {
     "name": "stdout",
     "output_type": "stream",
     "text": [
      "Enter the value of digit to converetd into binary(is greaterthan 0) = 5\n",
      "the binary equivalent of 0 is: iVi\n"
     ]
    }
   ],
   "source": [
    "result = ''\n",
    "\n",
    "q = int(input(\"Enter the value of digit to converetd into binary(is greaterthan 0) = \"))\n",
    "\n",
    "while q != 0:\n",
    "    r = q % 2\n",
    "    result += str[r]\n",
    "    q //= 2\n",
    "    \n",
    "result = result[::-1]\n",
    "\n",
    "print('the binary equivalent of',q,\"is:\",result)"
   ]
  },
  {
   "cell_type": "code",
   "execution_count": 2,
   "id": "cc63e0f1",
   "metadata": {},
   "outputs": [
    {
     "name": "stdout",
     "output_type": "stream",
     "text": [
      "Enter the value of digit to converetd into binary(is greaterthan 0) = 5\n",
      "the binary equivalent of 0 is: 101\n"
     ]
    }
   ],
   "source": [
    "# write a number into a binary code,\n",
    "result = ''\n",
    "\n",
    "q = int(input(\"Enter the value of digit to converetd into binary(is greaterthan 0) = \"))\n",
    "\n",
    "while q != 0 :\n",
    "    r = q % 2\n",
    "    result += str(r)          #'str' object is not callable\n",
    "    q //= 2\n",
    "    \n",
    "result = result[::-1]\n",
    "\n",
    "print('the binary equivalent of',q,\"is:\",result)"
   ]
  },
  {
   "cell_type": "markdown",
   "id": "091a6a5c",
   "metadata": {},
   "source": [
    "### console input"
   ]
  },
  {
   "cell_type": "code",
   "execution_count": 4,
   "id": "a5bd9859",
   "metadata": {},
   "outputs": [
    {
     "name": "stdout",
     "output_type": "stream",
     "text": [
      "enter the value of a,b,c: 10 20 30\n",
      "10  20  30\n"
     ]
    }
   ],
   "source": [
    "a,b,c = input(\"enter the value of a,b,c: \").split()\n",
    "print(a,'',b,'',c)"
   ]
  },
  {
   "cell_type": "code",
   "execution_count": 5,
   "id": "48427795",
   "metadata": {},
   "outputs": [
    {
     "name": "stdout",
     "output_type": "stream",
     "text": [
      "enter the value of a,b,c10 20 30\n",
      "10 20 30\n"
     ]
    }
   ],
   "source": [
    "a,b,c = input(\"enter the value of a,b,c\").split()\n",
    "print(a,b,c)"
   ]
  },
  {
   "cell_type": "code",
   "execution_count": 6,
   "id": "d154684e",
   "metadata": {},
   "outputs": [
    {
     "name": "stdout",
     "output_type": "stream",
     "text": [
      "enter the value of a,b,c10 20 30\n",
      "10:20:30\n"
     ]
    }
   ],
   "source": [
    "a,b,c = input(\"enter the value of a,b,c\").split()\n",
    "print(a,b,c,sep=':')"
   ]
  },
  {
   "cell_type": "code",
   "execution_count": 7,
   "id": "9640ffcc",
   "metadata": {},
   "outputs": [
    {
     "name": "stdout",
     "output_type": "stream",
     "text": [
      "enter the value of a,b,c10 20 30\n",
      "10*20*30\n"
     ]
    }
   ],
   "source": [
    "a,b,c = input(\"enter the value of a,b,c\").split()\n",
    "print(a,b,c,sep = \"*\")"
   ]
  },
  {
   "cell_type": "code",
   "execution_count": 11,
   "id": "a816a8b6",
   "metadata": {},
   "outputs": [
    {
     "name": "stdout",
     "output_type": "stream",
     "text": [
      "enter the value of a,b,c10 20 3\n",
      "10\n",
      "20\n",
      "3\n"
     ]
    }
   ],
   "source": [
    "a,b,c = input(\"enter the value of a,b,c\").split()\n",
    "print(a,b,c,sep =\"\\n\")"
   ]
  },
  {
   "cell_type": "code",
   "execution_count": 12,
   "id": "5fbc930a",
   "metadata": {},
   "outputs": [
    {
     "name": "stdout",
     "output_type": "stream",
     "text": [
      "enter the value of a,b,c10 20 30\n",
      "10 20 30***"
     ]
    }
   ],
   "source": [
    "a,b,c = input(\"enter the value of a,b,c\").split()\n",
    "print(a,b,c, end =\"***\")"
   ]
  },
  {
   "cell_type": "code",
   "execution_count": 13,
   "id": "cf0d12b9",
   "metadata": {},
   "outputs": [
    {
     "name": "stdout",
     "output_type": "stream",
     "text": [
      "enter the value of a,b,c10 20 30\n",
      "10,20,30***"
     ]
    }
   ],
   "source": [
    "a,b,c = input(\"enter the value of a,b,c\").split()\n",
    "print(a,b,c, sep = ',', end =\"***\")"
   ]
  },
  {
   "cell_type": "code",
   "execution_count": 14,
   "id": "70d76a5e",
   "metadata": {},
   "outputs": [
    {
     "name": "stdout",
     "output_type": "stream",
     "text": [
      "enter the value of a,b,c10 20 30\n",
      "10:20:30\tthe programing ended\n"
     ]
    }
   ],
   "source": [
    "a,b,c = input(\"enter the value of a,b,c\").split()\n",
    "print(a,b,c,sep=\":\",end=\"\\t\")\n",
    "print(\"the programing ended\")"
   ]
  },
  {
   "cell_type": "markdown",
   "id": "8ec97acb",
   "metadata": {},
   "source": [
    "### formatted output"
   ]
  },
  {
   "cell_type": "code",
   "execution_count": 27,
   "id": "393ea514",
   "metadata": {},
   "outputs": [
    {
     "name": "stdout",
     "output_type": "stream",
     "text": [
      "radius=10,\n",
      "length=20,\n",
      "breadth=30,\n",
      "name=vinaypravalika,\n",
      "address=1-324 main road,chilakalapalli\n",
      "1-324     \n",
      "main      \n",
      "road,chilakalapalli\n"
     ]
    }
   ],
   "source": [
    "r,l,b,name,address = 10,20,30,'vinaypravalika','1-324 main road,chilakalapalli'\n",
    "\n",
    "print( f'radius={r},\\nlength={l},\\nbreadth={b},\\nname={name},\\naddress={address}',sep=\"\\n\")\n",
    "for i in address.split():\n",
    "    print(f'{i:10}')"
   ]
  },
  {
   "cell_type": "code",
   "execution_count": 33,
   "id": "72818774",
   "metadata": {},
   "outputs": [
    {
     "name": "stdout",
     "output_type": "stream",
     "text": [
      "radius= 10, length= 20 , breadth= 30\n",
      "name= vinaypravalika, address= 1-324 main road, chilakalapalli\n"
     ]
    }
   ],
   "source": [
    "r,l,b,name,address = 10,20,30,'vinaypravalika','1-324 main road, chilakalapalli' # index values to defined the function\n",
    "\n",
    "print('radius= {}, length= {} , breadth= {}'.format(r,l,b))\n",
    "print('name= {}, address= {}'.format(name,address))"
   ]
  },
  {
   "cell_type": "code",
   "execution_count": 43,
   "id": "fa1131a3",
   "metadata": {},
   "outputs": [
    {
     "name": "stdout",
     "output_type": "stream",
     "text": [
      "radius=1.5678, length=10.5, breadth=12.66\n",
      "name=Ramesh, age=30, salary=25000\n"
     ]
    }
   ],
   "source": [
    "r, l, b = 1.5678, 10.5, 12.66\n",
    "name, age, salary = 'Ramesh', 30, 25000\n",
    "# print in order of position of variables using empty {}\n",
    "print('radius={}, length={}, breadth={}'.format(r,l,b))\n",
    "print('name={}, age={}, salary={}'.format(name,age,salary))\n"
   ]
  },
  {
   "cell_type": "code",
   "execution_count": 55,
   "id": "ad4f8d9b",
   "metadata": {},
   "outputs": [
    {
     "name": "stdout",
     "output_type": "stream",
     "text": [
      "radius = 12.66 length=10.5 breadth=1.5678\n",
      "age=30 salary=25000 name=Ramesh\n",
      "name = Ramesh          salary=      25000\n",
      "radius =            1.57\n"
     ]
    }
   ],
   "source": [
    "# print in any desired order\n",
    "print('radius = {2} length={1} breadth={0}'.format(r,l,b))\n",
    "print('age={1} salary={2} name={0}'.format(name,age,salary))\n",
    "\n",
    "# print name in 15 columns and salary in 10 columns\n",
    "print('name = {0:15} salary={1:11}'.format(name,salary))\n",
    "# print(radius in 10 columns, with only 2 digits after decimal point\n",
    "print('radius = {0:15.2f}'.format(r)) # f formate tells the number of digits"
   ]
  },
  {
   "cell_type": "code",
   "execution_count": null,
   "id": "69e705f2",
   "metadata": {},
   "outputs": [],
   "source": []
  }
 ],
 "metadata": {
  "kernelspec": {
   "display_name": "Python 3 (ipykernel)",
   "language": "python",
   "name": "python3"
  },
  "language_info": {
   "codemirror_mode": {
    "name": "ipython",
    "version": 3
   },
   "file_extension": ".py",
   "mimetype": "text/x-python",
   "name": "python",
   "nbconvert_exporter": "python",
   "pygments_lexer": "ipython3",
   "version": "3.9.7"
  }
 },
 "nbformat": 4,
 "nbformat_minor": 5
}
