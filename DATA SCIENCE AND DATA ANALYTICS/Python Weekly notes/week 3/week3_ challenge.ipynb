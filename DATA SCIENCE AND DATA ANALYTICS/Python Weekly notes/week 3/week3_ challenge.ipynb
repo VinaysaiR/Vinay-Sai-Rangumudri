{
 "cells": [
  {
   "cell_type": "markdown",
   "id": "12746542",
   "metadata": {},
   "source": [
    "### 1. write  a program to accept an integer n greater than 10. Then print all the odd numbers from 1 to n"
   ]
  },
  {
   "cell_type": "code",
   "execution_count": 20,
   "id": "0bfeea43",
   "metadata": {},
   "outputs": [
    {
     "name": "stdout",
     "output_type": "stream",
     "text": [
      "enter the value is greater than 10 =15\n",
      "The odd number = 1\n",
      "The odd number = 3\n",
      "The odd number = 5\n",
      "The odd number = 7\n",
      "The odd number = 9\n",
      "The odd number = 11\n",
      "The odd number = 13\n",
      "The odd number = 15\n"
     ]
    }
   ],
   "source": [
    "n = int(input(\"enter the value is greater than 10 =\"))\n",
    "if n>10:\n",
    "    for i in range(1,n+1):\n",
    "        if i%2 != 0:\n",
    "            print(\"The odd number =\",i)\n",
    "else:\n",
    "    print(\"hence n value is lessthan 10, it is invalid\")"
   ]
  },
  {
   "cell_type": "code",
   "execution_count": 33,
   "id": "a93faa9b",
   "metadata": {},
   "outputs": [
    {
     "name": "stdout",
     "output_type": "stream",
     "text": [
      "enter a value is greater than 10: 8\n",
      "the value of n is invalid\n"
     ]
    }
   ],
   "source": [
    "n = int(input(\"enter a value is greater than 10: \"))\n",
    "if n>10:\n",
    "    for i in range(1,n+1):\n",
    "        if i%2 != 0:\n",
    "            print(i)\n",
    "else:\n",
    "    print(\"the value of n is invalid\")"
   ]
  },
  {
   "cell_type": "markdown",
   "id": "b5452530",
   "metadata": {},
   "source": [
    "### 2.write a program to accept an integer n greater than 10. then print all the prime numbers from 1 to n."
   ]
  },
  {
   "cell_type": "code",
   "execution_count": 2,
   "id": "8357e71c",
   "metadata": {},
   "outputs": [
    {
     "name": "stdout",
     "output_type": "stream",
     "text": [
      "Enter an integer greater then 10 = 45\n",
      "prime numbers: 2 3 5 7 11 13 17 19 23 29 31 37 41 43 "
     ]
    }
   ],
   "source": [
    "num = int(input(\"Enter an integer greater then 10 = \"))\n",
    "print(\"prime numbers: \",end='')\n",
    "if num > 10:\n",
    "    for n in range(2,num):\n",
    "        for i in range(2,n):\n",
    "            if(n%i==0):\n",
    "                break\n",
    "        else:\n",
    "            print(n,end=' ')\n",
    "else:\n",
    "    print(\"the\",num,\"value is less the 10, it is invalid\")\n",
    "    "
   ]
  },
  {
   "cell_type": "code",
   "execution_count": 6,
   "id": "22822d1e",
   "metadata": {},
   "outputs": [
    {
     "name": "stdout",
     "output_type": "stream",
     "text": [
      "Enter an integer greater then 10 = 8\n",
      "prime numbers: the 8 value is less the 10, it is invalid\n"
     ]
    }
   ],
   "source": [
    "num = int(input(\"Enter an integer greater then 10 = \"))\n",
    "print(\"prime numbers: \",end='')\n",
    "if num >10:\n",
    "    for n in range(2,num):\n",
    "        for i in range(2,n):\n",
    "            if(n%i==0):\n",
    "                break\n",
    "        else:\n",
    "            print(n,end=' ')\n",
    "else:\n",
    "    print(\"the\",num,\"value is less the 10, it is invalid\")"
   ]
  },
  {
   "cell_type": "markdown",
   "id": "9be2d9b6",
   "metadata": {},
   "source": [
    "### 3. In this exercise you will create a program that computes the average of a collection of values entered by the user. The user will enter O as a sentinel value to indicate that no further values will be provided. Your program should display an appropriate error message if the first value entered by the user is 0"
   ]
  },
  {
   "cell_type": "code",
   "execution_count": 3,
   "id": "99f07ec6",
   "metadata": {},
   "outputs": [
    {
     "name": "stdout",
     "output_type": "stream",
     "text": [
      "(if enter 0 to end the value) = 25\n",
      "(if enter 0 to end the value) = 45\n",
      "(if enter 0 to end the value) = 65\n",
      "(if enter 0 to end the value) = 43\n",
      "(if enter 0 to end the value) = 84\n",
      "(if enter 0 to end the value) = 65\n",
      "(if enter 0 to end the value) = 0\n",
      "The average value 54.5\n"
     ]
    }
   ],
   "source": [
    "sum = 0\n",
    "\n",
    "count = 0\n",
    "\n",
    "data = int(input(\"(if enter 0 to end the value) = \"))\n",
    "\n",
    "while data != 0:\n",
    "    sum += data\n",
    "    count+=1\n",
    "    data = int(input(\"(if enter 0 to end the value) = \"))\n",
    "avr = sum/(count) \n",
    "\n",
    "print(\"The average value\",avr)"
   ]
  },
  {
   "cell_type": "code",
   "execution_count": 45,
   "id": "f7951911",
   "metadata": {},
   "outputs": [
    {
     "name": "stdout",
     "output_type": "stream",
     "text": [
      "45\n",
      "25\n",
      "46\n",
      "0\n",
      "29.0\n"
     ]
    }
   ],
   "source": [
    "count = 0\n",
    "sum = 0.0\n",
    "num = 1 \n",
    "\n",
    "while num != 0:\n",
    "        num = int(input(\"\"))\n",
    "        sum += num\n",
    "        count += 1\n",
    "\n",
    "avg = sum/(count-1)\n",
    "print(avg)"
   ]
  },
  {
   "cell_type": "markdown",
   "id": "4ad746a0",
   "metadata": {},
   "source": [
    "### 4. Write a program that takes a number as input and prints its multiplication table."
   ]
  },
  {
   "cell_type": "code",
   "execution_count": 23,
   "id": "902d2d20",
   "metadata": {},
   "outputs": [
    {
     "name": "stdout",
     "output_type": "stream",
     "text": [
      "enter a number = 12\n",
      "12 x 1 = 12\n",
      "12 x 2 = 24\n",
      "12 x 3 = 36\n",
      "12 x 4 = 48\n",
      "12 x 5 = 60\n",
      "12 x 6 = 72\n",
      "12 x 7 = 84\n",
      "12 x 8 = 96\n",
      "12 x 9 = 108\n",
      "12 x 10 = 120\n"
     ]
    }
   ],
   "source": [
    "n = int(input(\"enter a number = \"))\n",
    "for i in range(1,11):\n",
    "    print(n,'x',i,'=',n*i)"
   ]
  },
  {
   "cell_type": "code",
   "execution_count": 1,
   "id": "ca96dcb5",
   "metadata": {},
   "outputs": [
    {
     "name": "stdout",
     "output_type": "stream",
     "text": [
      "Enter the value  = 13\n",
      "13 × 1 = 13\n",
      "13 × 2 = 26\n",
      "13 × 3 = 39\n",
      "13 × 4 = 52\n",
      "13 × 5 = 65\n",
      "13 × 6 = 78\n",
      "13 × 7 = 91\n",
      "13 × 8 = 104\n",
      "13 × 9 = 117\n",
      "13 × 10 = 130\n",
      "The 13 table is completed\n"
     ]
    }
   ],
   "source": [
    "Num = int(input(\"Enter the value  = \"))\n",
    "i = 1\n",
    "while i < 11:\n",
    "    print(Num,'×',i,'=',Num*i)\n",
    "    i+=1\n",
    "print(\"The\",Num,\"table is completed\")"
   ]
  },
  {
   "cell_type": "markdown",
   "id": "78b10c1a",
   "metadata": {},
   "source": [
    "### 5. Write a program that displays a temperature conversion table for degrees Celsius and degrees Fahrenheit. The table should include rows for all temperatures between 0 and 100 degrees Celsius that are multiples of 10 degrees Celsius. Include appropriate headings on your columns."
   ]
  },
  {
   "cell_type": "code",
   "execution_count": 14,
   "id": "435f66d2",
   "metadata": {},
   "outputs": [
    {
     "name": "stdout",
     "output_type": "stream",
     "text": [
      "Fahrenheit (F)    Celsius (C)\n",
      "32.0                 0\n",
      "50.0                 10\n",
      "68.0                 20\n",
      "86.0                 30\n",
      "104.0                 40\n",
      "122.0                 50\n",
      "140.0                 60\n",
      "158.0                 70\n",
      "176.0                 80\n",
      "194.0                 90\n",
      "212.0                 100\n",
      "The degree_celsius is multiple with 10\n"
     ]
    }
   ],
   "source": [
    "print ('Fahrenheit (F)    Celsius (C)')\n",
    "degree_celsius = 0\n",
    "while degree_celsius <= 100:\n",
    "    fahrenheit_celsius = 9*degree_celsius/5+32\n",
    "    print(fahrenheit_celsius,degree_celsius,sep = '                 ')\n",
    "    degree_celsius+=10\n",
    "\n",
    "print(\"The degree_celsius is multiple with 10\")"
   ]
  },
  {
   "cell_type": "markdown",
   "id": "01f08b65",
   "metadata": {},
   "source": [
    "### 6. A string is a palindrome If it is identical forward and backward. For example \"anna\" \" \"ciVic\" \"level\" and madam\" are all examples of palindrome words. Write a program that reads a string from the user and uses a loop to determine whether or not it is a palindrome. Display the result, including a meoningful output message"
   ]
  },
  {
   "cell_type": "code",
   "execution_count": 4,
   "id": "8ac5474d",
   "metadata": {},
   "outputs": [
    {
     "name": "stdout",
     "output_type": "stream",
     "text": [
      "Enter the word = determine\n",
      "the word determine is not a pailndrome\n"
     ]
    }
   ],
   "source": [
    "str = input(\"Enter the word = \")\n",
    "\n",
    "rev = str[::-1]\n",
    "\n",
    "for i in range(len(str)):\n",
    "    if str[i] != rev[i]:\n",
    "        print(\"the word\",str,\"is not a pailndrome\")\n",
    "        break\n",
    "else:\n",
    "    print(\"the word\",str,\"is a pailndrome\")"
   ]
  },
  {
   "cell_type": "code",
   "execution_count": 57,
   "id": "6faaa834",
   "metadata": {},
   "outputs": [
    {
     "name": "stdout",
     "output_type": "stream",
     "text": [
      "Enter the word = rotator\n",
      "the word rotator is a pailndrome\n"
     ]
    }
   ],
   "source": [
    "str = input(\"Enter the word = \")\n",
    "\n",
    "rev = str[::-1]\n",
    "\n",
    "for i in range(len(str)):\n",
    "    if str[i] != rev[i]:\n",
    "        print(\"the word\",str,\"is not a pailndrome\")\n",
    "        break\n",
    "else:\n",
    "    print(\"the word\",str,\"is a pailndrome\")"
   ]
  },
  {
   "cell_type": "markdown",
   "id": "81921516",
   "metadata": {},
   "source": [
    "### 7. The greatest common divisor (GCD) of two positive integers, n and m, is the largest number, d, which divides evenly into both n and m. The following algorithm is used to find GCD of n and m ((Doubt)\n",
    "#### Initialize d to the smaller of m and n. \n",
    "#### While d does not evenly divide m or d does not evenly divide n do Decrease the value of d by 1 \n",
    "#### Report d as the greatest common divisor of n and m \n",
    "#### Write a program that reads two positive integers from the user and uses this algorithm to determine and report their greatest common divisor."
   ]
  },
  {
   "cell_type": "code",
   "execution_count": 6,
   "id": "43fc1fca",
   "metadata": {},
   "outputs": [
    {
     "name": "stdout",
     "output_type": "stream",
     "text": [
      "Enter the number, m: 36\n",
      "Enter the number, n: 48\n",
      "the greatest common divisor 12\n"
     ]
    }
   ],
   "source": [
    "#Initialize d to the smaller of m and n.\n",
    "\n",
    "m = int(input(\"Enter the number, m: \"))\n",
    "n = int(input(\"Enter the number, n: \"))\n",
    "if m > n:\n",
    "    d = n \n",
    "else:\n",
    "    d = m \n",
    "while 1:\n",
    "    if m%d!=0:       # While d does not evenly divide m\n",
    "        d = d - 1\n",
    "    elif n%d!=0:\n",
    "        d = d - 1    # d does not evenly divide n\n",
    "    else: \n",
    "        print (\"the greatest common divisor\" , d) # d as the greatest common divisor of n and m\n",
    "        break"
   ]
  },
  {
   "cell_type": "markdown",
   "id": "ecad5386",
   "metadata": {},
   "source": [
    "### 8. The prime factorization of an integer, n, can be determined using the following steps:\n",
    "#### Initialize factor to two\n",
    "#### While factor is less than or equal to n do\n",
    "#### If n is evenly divisible by factor then\n",
    "   #### Conclude that factor is a factor of n\n",
    "   #### Divide n by factor using integer division\n",
    "#### Else\n",
    "#### Increase factor by one\n",
    "\n",
    "#### Write o program that reads an integer from the user. If the value entered bv the user is less than 2 then your program should display an appropriate error message. Otherwise your program should disploy the prime numbers that can be multiplied together to compute n, with one factor appearing on each line"
   ]
  },
  {
   "cell_type": "code",
   "execution_count": null,
   "id": "1f0399eb",
   "metadata": {},
   "outputs": [
    {
     "name": "stdout",
     "output_type": "stream",
     "text": [
      "enter any number 72\n",
      "2\n",
      "2\n",
      "2\n",
      "3\n",
      "3\n"
     ]
    }
   ],
   "source": [
    "num = int(input(\"enter any number \")) \n",
    "temp=num\n",
    "i = 2          #Initialize factor to two\n",
    "while  temp>=1: # While factor is less than or equal to n\n",
    "    if temp%i == 0: #If n is evenly divisible by factor then\n",
    "        print(i)   #Conclude that factor is a factor of n\n",
    "        temp=int(temp/i) #Divide n by factor using integer division\n",
    "    else:\n",
    "        i+=1  #Increase factor by one"
   ]
  },
  {
   "cell_type": "markdown",
   "id": "925f14e1",
   "metadata": {},
   "source": [
    "### 9. Write a program that converts a binary (base 2) number to decimal (base 10). Your program should begin by reading the binary number from the user as a string. Then it should compute the equivalent decimal number by processing each digit in the binary number. Finally, your program should display the equivalent decimal number with an appropriate message."
   ]
  },
  {
   "cell_type": "code",
   "execution_count": 32,
   "id": "8a944d13",
   "metadata": {},
   "outputs": [
    {
     "name": "stdout",
     "output_type": "stream",
     "text": [
      "enter the binary to convert (greater than 0): 10110\n",
      "The number 22\n"
     ]
    }
   ],
   "source": [
    "# write a program to accept a binary equivalaent to deciaml\n",
    "num =int(input('enter the binary to convert (greater than 0): '))\n",
    "sum = 0\n",
    "i = 0\n",
    "while  num != 0:\n",
    "    remainder = num % 10\n",
    "    sum = sum + remainder * pow(2,i)\n",
    "    num =int(num/10)\n",
    "    i += 1\n",
    "print('The number',sum )"
   ]
  },
  {
   "cell_type": "markdown",
   "id": "837250d9",
   "metadata": {},
   "source": [
    "### 10. Demonstrate the formatting capabilities of format function on integers, floats and strings"
   ]
  },
  {
   "cell_type": "code",
   "execution_count": 28,
   "id": "8b7e8115",
   "metadata": {},
   "outputs": [
    {
     "name": "stdout",
     "output_type": "stream",
     "text": [
      "length =10.5,breadth =12.66,radius=1.56, name=vishu vardhan rangumudri\n",
      "name: ['vishu', 'vardhan', 'rangumudri']\n",
      "length =10.5,breadth =12.66,radius=1.56\n",
      "radius =1.56, length =10.5, breadth = 12.66\n",
      "radius =       1.56\n"
     ]
    }
   ],
   "source": [
    "## floats , int, strings\n",
    "r,l,b,name = 5.23, 45.3, 17.23 ,'vishu vardhan rangumudri'\n",
    "\n",
    "print(f'length ={l},breadth ={b},radius={r}, name={name}')\n",
    "print('name:',name.split())\n",
    "print('length ={},breadth ={},radius={}'.format(l,b,r))\n",
    "print('radius ={2}, length ={1}, breadth = {0}'.format(b,l,r))\n",
    "print('radius = {0:10.2f}'.format(r)) # spaces"
   ]
  },
  {
   "cell_type": "code",
   "execution_count": 30,
   "id": "c8d4d871",
   "metadata": {},
   "outputs": [
    {
     "name": "stdout",
     "output_type": "stream",
     "text": [
      "name =vinay sai, age =21, salary=48500\n",
      "name =vinay sai       salary =      48500\n",
      "name =vinay sai, salary =48500, age = 21\n"
     ]
    }
   ],
   "source": [
    "name,age,salary ='vinay sai',21,48500\n",
    "print('name ={}, age ={}, salary={}'.format(name,age,salary))\n",
    "print ('name ={0:15} salary = {1:10}'.format(name,salary))\n",
    "print('name ={1}, salary ={0}, age = {2}'.format(salary,name,age))"
   ]
  }
 ],
 "metadata": {
  "kernelspec": {
   "display_name": "Python 3 (ipykernel)",
   "language": "python",
   "name": "python3"
  },
  "language_info": {
   "codemirror_mode": {
    "name": "ipython",
    "version": 3
   },
   "file_extension": ".py",
   "mimetype": "text/x-python",
   "name": "python",
   "nbconvert_exporter": "python",
   "pygments_lexer": "ipython3",
   "version": "3.9.7"
  }
 },
 "nbformat": 4,
 "nbformat_minor": 5
}
