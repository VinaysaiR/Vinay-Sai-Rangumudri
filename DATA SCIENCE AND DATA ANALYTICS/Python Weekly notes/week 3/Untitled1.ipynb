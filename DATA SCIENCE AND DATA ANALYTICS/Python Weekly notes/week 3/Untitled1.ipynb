{
 "cells": [
  {
   "cell_type": "code",
   "execution_count": 1,
   "id": "8c80ae93",
   "metadata": {},
   "outputs": [
    {
     "name": "stdout",
     "output_type": "stream",
     "text": [
      "Enter the value of digit to converetd into binary(is greaterthan 0) = 5\n",
      "the binary equivalent of 0 is: 101\n"
     ]
    }
   ],
   "source": [
    "result = ''\n",
    "\n",
    "q = int(input(\"Enter the value of digit to converetd into binary(is greaterthan 0) = \"))\n",
    "\n",
    "while q != 0 :\n",
    "    r = q % 2\n",
    "    result += str(r)\n",
    "    q //= 2\n",
    "    \n",
    "result = result[::-1]\n",
    "\n",
    "print('the binary equivalent of',q,\"is:\",result)"
   ]
  },
  {
   "cell_type": "code",
   "execution_count": 1,
   "id": "e8e80094",
   "metadata": {},
   "outputs": [
    {
     "ename": "NameError",
     "evalue": "name 'prime_factor' is not defined",
     "output_type": "error",
     "traceback": [
      "\u001b[1;31m---------------------------------------------------------------------------\u001b[0m",
      "\u001b[1;31mNameError\u001b[0m                                 Traceback (most recent call last)",
      "\u001b[1;32mC:\\Users\\SANJEE~1\\AppData\\Local\\Temp/ipykernel_27212/3366672063.py\u001b[0m in \u001b[0;36m<module>\u001b[1;34m\u001b[0m\n\u001b[1;32m----> 1\u001b[1;33m \u001b[0mprime_factor\u001b[0m\u001b[1;33m(\u001b[0m\u001b[1;36m36\u001b[0m\u001b[1;33m)\u001b[0m\u001b[1;33m\u001b[0m\u001b[1;33m\u001b[0m\u001b[0m\n\u001b[0m",
      "\u001b[1;31mNameError\u001b[0m: name 'prime_factor' is not defined"
     ]
    }
   ],
   "source": [
    "prime_factor(36)"
   ]
  },
  {
   "cell_type": "code",
   "execution_count": null,
   "id": "9753924f",
   "metadata": {},
   "outputs": [],
   "source": []
  }
 ],
 "metadata": {
  "kernelspec": {
   "display_name": "Python 3 (ipykernel)",
   "language": "python",
   "name": "python3"
  },
  "language_info": {
   "codemirror_mode": {
    "name": "ipython",
    "version": 3
   },
   "file_extension": ".py",
   "mimetype": "text/x-python",
   "name": "python",
   "nbconvert_exporter": "python",
   "pygments_lexer": "ipython3",
   "version": "3.9.7"
  }
 },
 "nbformat": 4,
 "nbformat_minor": 5
}
