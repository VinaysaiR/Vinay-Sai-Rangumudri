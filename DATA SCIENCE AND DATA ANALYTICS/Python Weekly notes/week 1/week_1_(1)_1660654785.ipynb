{
 "cells": [
  {
   "cell_type": "markdown",
   "id": "0f13b27b",
   "metadata": {},
   "source": [
    "### 1) Create a program that displays your name and complete mailing address formatted in the manner that you would usually see it on the outside of an envelope. Your program does not need to read any input from the user."
   ]
  },
  {
   "cell_type": "code",
   "execution_count": 1,
   "id": "0e72314e",
   "metadata": {},
   "outputs": [
    {
     "name": "stdout",
     "output_type": "stream",
     "text": [
      "Rangumudri Vinay Sai\n",
      "1-324 main\n",
      "chilakalapalli village\n",
      "balijipeta mandal\n",
      "vizinagaram district\n"
     ]
    }
   ],
   "source": [
    "print(\"Rangumudri Vinay Sai\")\n",
    "print(\"1-324 main\")\n",
    "print(\"chilakalapalli village\")\n",
    "print(\"balijipeta mandal\")\n",
    "print(\"vizinagaram district\")"
   ]
  },
  {
   "cell_type": "code",
   "execution_count": 12,
   "id": "a603e72f",
   "metadata": {},
   "outputs": [
    {
     "name": "stdout",
     "output_type": "stream",
     "text": [
      "address: rangumudri vinay sai1-324\n",
      "          chilakalapalli village,\n",
      "          balijipeta mandal,\n",
      "          vizinagaram district\n",
      "          \n"
     ]
    }
   ],
   "source": [
    "# strings are immutable\n",
    "str1 = \"rangumudri vinay sai\"\n",
    "str2 = \"\"\"1-324\n",
    "          chilakalapalli village,\n",
    "          balijipeta mandal,\n",
    "          vizinagaram district\n",
    "          \"\"\"\n",
    "print(\"address:\",str1+str2)"
   ]
  },
  {
   "cell_type": "markdown",
   "id": "0c3afb34",
   "metadata": {},
   "source": [
    "### 2) Write a program that asks the user to enter his or her name. The program should respond with a message that says hello to the user, using his or her name."
   ]
  },
  {
   "cell_type": "code",
   "execution_count": 2,
   "id": "32e9221b",
   "metadata": {},
   "outputs": [
    {
     "name": "stdout",
     "output_type": "stream",
     "text": [
      "Enter your name: vinay sai\n",
      "hello vinay sai\n"
     ]
    }
   ],
   "source": [
    "name = input(\"Enter your name: \")\n",
    "print('hello',name);"
   ]
  },
  {
   "cell_type": "markdown",
   "id": "d90a31b5",
   "metadata": {},
   "source": [
    "### 3) Write a program that accepts radius (datatype: float) of a circle from the user. Calculate and display the area and circumference of the circle"
   ]
  },
  {
   "cell_type": "code",
   "execution_count": 3,
   "id": "63e97957",
   "metadata": {},
   "outputs": [
    {
     "name": "stdout",
     "output_type": "stream",
     "text": [
      "Enter the radius of circle: 5.4\n",
      "Area of the circle =  91.56240000000003\n",
      "circumference of the circle =  33.912000000000006\n"
     ]
    }
   ],
   "source": [
    "radius = float(input(\"Enter the radius of circle: \"))\n",
    "\n",
    "area = 3.14*radius*radius\n",
    "\n",
    "circum = 2*3.14*radius\n",
    "\n",
    "print(\"Area of the circle = \",area)\n",
    "print(\"circumference of the circle = \",circum)"
   ]
  },
  {
   "cell_type": "markdown",
   "id": "0b7784ed",
   "metadata": {},
   "source": [
    "### 4) Write a program that accepts length and breadth (both float) of a rectangle from the user. Calculate and display the area and perimeter of the rectangle"
   ]
  },
  {
   "cell_type": "code",
   "execution_count": 4,
   "id": "1dc77bd5",
   "metadata": {},
   "outputs": [
    {
     "name": "stdout",
     "output_type": "stream",
     "text": [
      "Enter the value of length = 13.6\n",
      "Enter the value of breadth = 15.8\n",
      "Area of rectangle =  214.88\n",
      "parimeter of the rectangle =  58.8\n"
     ]
    }
   ],
   "source": [
    "length = float(input(\"Enter the value of length = \"))\n",
    "breadth = float(input(\"Enter the value of breadth = \"))\n",
    "\n",
    "area = length*breadth\n",
    "\n",
    "parimeter = 2*(length + breadth)\n",
    "\n",
    "print(\"Area of rectangle = \",area)\n",
    "print(\"parimeter of the rectangle = \",parimeter)"
   ]
  },
  {
   "cell_type": "markdown",
   "id": "61a51caf",
   "metadata": {},
   "source": [
    "### 5) Write a program to accept the side (datatype: float) of a square from the user. Calculate and display the area and perimeter of the square"
   ]
  },
  {
   "cell_type": "code",
   "execution_count": 5,
   "id": "9f01320a",
   "metadata": {},
   "outputs": [
    {
     "name": "stdout",
     "output_type": "stream",
     "text": [
      "Enter the value of side = 12.6\n",
      "Area of the square = 158.76\n",
      "Perimeter of the square = 50.4\n"
     ]
    }
   ],
   "source": [
    "side = float(input(\"Enter the value of side = \"))\n",
    "\n",
    "area = side*side\n",
    "\n",
    "perimeter = 4*side\n",
    "\n",
    "print(\"Area of the square =\",area)\n",
    "print(\"Perimeter of the square =\",perimeter)"
   ]
  },
  {
   "cell_type": "markdown",
   "id": "83635169",
   "metadata": {},
   "source": [
    "### 6) Write a program to accept the temperature (datatype: float) in Fahrenheit and convert it into Centigrade. Modify the program to accept the temperature in Centigrade and convert it into Fahrenheit"
   ]
  },
  {
   "cell_type": "code",
   "execution_count": 6,
   "id": "70208d17",
   "metadata": {},
   "outputs": [
    {
     "name": "stdout",
     "output_type": "stream",
     "text": [
      "Enter the temperature = 23.56\n",
      "Centigrade of temperature = -4.68888888888889\n",
      "farhrenheit of temperature = 23.559999999999995\n"
     ]
    }
   ],
   "source": [
    "fahrenheit = float(input(\"Enter the temperature = \"))\n",
    "\n",
    "centigrade = (fahrenheit - 32)*(5/9)\n",
    "\n",
    "farhrenheit_1 = (9/5)*centigrade + 32\n",
    "\n",
    "print(\"Centigrade of temperature =\",centigrade)\n",
    "print(\"farhrenheit of temperature =\",farhrenheit_1)"
   ]
  },
  {
   "cell_type": "markdown",
   "id": "a0a1d47c",
   "metadata": {},
   "source": [
    "### 7) Write a program to accept two complex numbers. Perform addition, subtraction and multiplication of these numbers an display the results to the user."
   ]
  },
  {
   "cell_type": "code",
   "execution_count": 7,
   "id": "3b575c7e",
   "metadata": {},
   "outputs": [
    {
     "name": "stdout",
     "output_type": "stream",
     "text": [
      "Enter the first complex number = 4+7j\n",
      "Enter the second complex number = 6+4j\n",
      "The sum of two complex numbers = (10+11j)\n",
      "the subtraction of two complex numbers = (-2+3j)\n",
      "The multipilcation of two complex numbers = (-4+58j)\n"
     ]
    }
   ],
   "source": [
    "a = complex(input(\"Enter the first complex number = \"))\n",
    "b = complex(input(\"Enter the second complex number = \"))\n",
    "\n",
    "addition = a + b\n",
    "subtraction = a - b\n",
    "multiplication = a*b\n",
    "\n",
    "print(\"The sum of two complex numbers =\",addition)\n",
    "print(\"the subtraction of two complex numbers =\",subtraction)\n",
    "print(\"The multipilcation of two complex numbers =\",multiplication)"
   ]
  },
  {
   "cell_type": "markdown",
   "id": "c2c226bb",
   "metadata": {},
   "source": [
    "### 8) Write a program to accept the name and basic salary (datatype: float) of an employee. Calculate the deamness allowance as 40% of basic and house rent allowance as 20% of basic. Display the gross salary to the user. (Hint: gross salary = basic salary + dearness allowance + house rent allowance)"
   ]
  },
  {
   "cell_type": "code",
   "execution_count": 8,
   "id": "afbf527b",
   "metadata": {},
   "outputs": [
    {
     "name": "stdout",
     "output_type": "stream",
     "text": [
      "Enter the name of an employee :vinay sai\n",
      "Enter the basic salary of an employee = 43164.523\n",
      "the gross salary of vinay sai = 69063.2368\n"
     ]
    }
   ],
   "source": [
    "name = input(\"Enter the name of an employee :\")\n",
    "basic_salary = float(input(\"Enter the basic salary of an employee = \"))\n",
    "\n",
    "dearness_allowance = basic_salary*(40/100)\n",
    "\n",
    "house_rent_allowance = basic_salary*(20/100)\n",
    "\n",
    "gross_salary = basic_salary + dearness_allowance + house_rent_allowance\n",
    "\n",
    "print(\"the gross salary of\",name,\"=\",gross_salary)"
   ]
  },
  {
   "cell_type": "markdown",
   "id": "78d5ee2f",
   "metadata": {},
   "source": [
    "### 9) Write a program that reads a positive integer, n from the user and then displays the sum of all of the integers from 1 to n. The sum of the first n positive integers can be computed using the formula: sum = (n)(n+1)/2"
   ]
  },
  {
   "cell_type": "code",
   "execution_count": 9,
   "id": "b093a12e",
   "metadata": {},
   "outputs": [
    {
     "name": "stdout",
     "output_type": "stream",
     "text": [
      "Enter the positive integer =52\n",
      "The sum of first 52 positive integers = 1378.0\n"
     ]
    }
   ],
   "source": [
    "n = int(input(\"Enter the positive integer =\"))\n",
    "\n",
    "total = (n*(n+1))/2\n",
    "\n",
    "print(\"The sum of first\",n,\"positive integers =\",total)"
   ]
  },
  {
   "cell_type": "markdown",
   "id": "f150e291",
   "metadata": {},
   "source": [
    "### 10) Create a program that reads two integers, a and b, from the user: Your program should compute and display.\n",
    "\n",
    "a. The sum of a and b\n",
    "\n",
    "b. The difference when bis subtracted from a\n",
    "\n",
    "c. The product of a and b\n",
    "\n",
    "d. The quotient when a is divided by b\n",
    "\n",
    "e. The remainder when a is divided by b\n",
    "\n",
    "f. The result of a^b"
   ]
  },
  {
   "cell_type": "code",
   "execution_count": 10,
   "id": "29a8a663",
   "metadata": {},
   "outputs": [
    {
     "name": "stdout",
     "output_type": "stream",
     "text": [
      "Enter the first integer =52\n",
      "Enter the second integer =5\n",
      "The sum of two integers = 57\n",
      "The subtraction of two integers = 47\n",
      "The product of two integers = 260\n",
      "The quotient of two integers = 10.4\n",
      "The remainder of two integers = 2\n",
      "The square of two integers = 380204032\n"
     ]
    }
   ],
   "source": [
    "a = int(input(\"Enter the first integer =\"))\n",
    "b = int(input(\"Enter the second integer =\"))\n",
    "\n",
    "add = a + b\n",
    "subtraction = a - b\n",
    "product = a*b\n",
    "quotient = a/b\n",
    "remainder = a%b\n",
    "square = a**b\n",
    "\n",
    "print(\"The sum of two integers =\",add)\n",
    "print(\"The subtraction of two integers =\",subtraction)\n",
    "print(\"The product of two integers =\",product)\n",
    "print(\"The quotient of two integers =\",quotient)\n",
    "print(\"The remainder of two integers =\",remainder)\n",
    "print(\"The square of two integers =\",square)"
   ]
  }
 ],
 "metadata": {
  "kernelspec": {
   "display_name": "Python 3 (ipykernel)",
   "language": "python",
   "name": "python3"
  },
  "language_info": {
   "codemirror_mode": {
    "name": "ipython",
    "version": 3
   },
   "file_extension": ".py",
   "mimetype": "text/x-python",
   "name": "python",
   "nbconvert_exporter": "python",
   "pygments_lexer": "ipython3",
   "version": "3.9.7"
  }
 },
 "nbformat": 4,
 "nbformat_minor": 5
}
