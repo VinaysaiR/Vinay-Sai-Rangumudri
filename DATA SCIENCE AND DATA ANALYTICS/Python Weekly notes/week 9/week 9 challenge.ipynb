{
 "cells": [
  {
   "cell_type": "markdown",
   "id": "55d11b2d",
   "metadata": {},
   "source": [
    "### Q1 -- Create a data frame called DataFrame1. It should contain data about five employees. Each employee data consists of employee number, name, salary, department number and designation."
   ]
  },
  {
   "cell_type": "code",
   "execution_count": 83,
   "id": "79113310",
   "metadata": {},
   "outputs": [
    {
     "data": {
      "text/html": [
       "<div>\n",
       "<style scoped>\n",
       "    .dataframe tbody tr th:only-of-type {\n",
       "        vertical-align: middle;\n",
       "    }\n",
       "\n",
       "    .dataframe tbody tr th {\n",
       "        vertical-align: top;\n",
       "    }\n",
       "\n",
       "    .dataframe thead th {\n",
       "        text-align: right;\n",
       "    }\n",
       "</style>\n",
       "<table border=\"1\" class=\"dataframe\">\n",
       "  <thead>\n",
       "    <tr style=\"text-align: right;\">\n",
       "      <th></th>\n",
       "      <th>0</th>\n",
       "      <th>1</th>\n",
       "      <th>2</th>\n",
       "      <th>3</th>\n",
       "      <th>4</th>\n",
       "    </tr>\n",
       "  </thead>\n",
       "  <tbody>\n",
       "    <tr>\n",
       "      <th>0</th>\n",
       "      <td>1105</td>\n",
       "      <td>Vinay sai</td>\n",
       "      <td>350000</td>\n",
       "      <td>156</td>\n",
       "      <td>product manager</td>\n",
       "    </tr>\n",
       "    <tr>\n",
       "      <th>1</th>\n",
       "      <td>1106</td>\n",
       "      <td>pravalika</td>\n",
       "      <td>400000</td>\n",
       "      <td>203</td>\n",
       "      <td>cheif Architect</td>\n",
       "    </tr>\n",
       "    <tr>\n",
       "      <th>2</th>\n",
       "      <td>2135</td>\n",
       "      <td>Hema</td>\n",
       "      <td>360000</td>\n",
       "      <td>321</td>\n",
       "      <td>Marketing</td>\n",
       "    </tr>\n",
       "    <tr>\n",
       "      <th>3</th>\n",
       "      <td>4662</td>\n",
       "      <td>Hari</td>\n",
       "      <td>412000</td>\n",
       "      <td>453</td>\n",
       "      <td>Digital Officer</td>\n",
       "    </tr>\n",
       "    <tr>\n",
       "      <th>4</th>\n",
       "      <td>5123</td>\n",
       "      <td>Ajay</td>\n",
       "      <td>360000</td>\n",
       "      <td>512</td>\n",
       "      <td>Back-End developer</td>\n",
       "    </tr>\n",
       "  </tbody>\n",
       "</table>\n",
       "</div>"
      ],
      "text/plain": [
       "      0          1       2    3                   4\n",
       "0  1105  Vinay sai  350000  156     product manager\n",
       "1  1106  pravalika  400000  203     cheif Architect\n",
       "2  2135       Hema  360000  321           Marketing\n",
       "3  4662       Hari  412000  453     Digital Officer\n",
       "4  5123       Ajay  360000  512  Back-End developer"
      ]
     },
     "execution_count": 83,
     "metadata": {},
     "output_type": "execute_result"
    }
   ],
   "source": [
    "import pandas as pd\n",
    "\n",
    "DataFrame1 = pd.DataFrame([[1105,\"Vinay sai\",350000,156,\"product manager\"],\n",
    "                   [1106,\"pravalika\",400000,203,\"cheif Architect\"],\n",
    "                   [2135,\"Hema\",360000,321,\"Marketing\"],\n",
    "                   [4662,\"Hari\",412000,453,\"Digital Officer\"],\n",
    "                   [5123,\"Ajay\",360000,512,\"Back-End developer\"]])\n",
    "DataFrame1"
   ]
  },
  {
   "cell_type": "markdown",
   "id": "12f61dcd",
   "metadata": {},
   "source": [
    "### Q2 -- In the DataFrame1 defined in Q.No. 1, add appropriate column names to the columns. Find the mean of the salary in the DataFrame1"
   ]
  },
  {
   "cell_type": "code",
   "execution_count": 84,
   "id": "25cac4ad",
   "metadata": {},
   "outputs": [
    {
     "name": "stdout",
     "output_type": "stream",
     "text": [
      "   Employee Number Employee Name  Salary  Dept No         Designation\n",
      "0             1105     Vinay sai  350000      156     product manager\n",
      "1             1106     pravalika  400000      203     cheif Architect\n",
      "2             2135          Hema  360000      321           Marketing\n",
      "3             4662          Hari  412000      453     Digital Officer\n",
      "4             5123          Ajay  360000      512  Back-End developer\n",
      "================================================================================\n",
      "The mean of salary =  376400.0\n",
      "================================================================================\n"
     ]
    }
   ],
   "source": [
    "DataFrame1.columns = ['Employee Number','Employee Name','Salary','Dept No','Designation']\n",
    "print(DataFrame1)\n",
    "print('='*80)\n",
    "print(\"The mean of salary = \",DataFrame1.Salary.mean())\n",
    "print('='*80)"
   ]
  },
  {
   "cell_type": "code",
   "execution_count": 85,
   "id": "9520e446",
   "metadata": {},
   "outputs": [
    {
     "data": {
      "text/html": [
       "<div>\n",
       "<style scoped>\n",
       "    .dataframe tbody tr th:only-of-type {\n",
       "        vertical-align: middle;\n",
       "    }\n",
       "\n",
       "    .dataframe tbody tr th {\n",
       "        vertical-align: top;\n",
       "    }\n",
       "\n",
       "    .dataframe thead th {\n",
       "        text-align: right;\n",
       "    }\n",
       "</style>\n",
       "<table border=\"1\" class=\"dataframe\">\n",
       "  <thead>\n",
       "    <tr style=\"text-align: right;\">\n",
       "      <th></th>\n",
       "      <th>Employee Number</th>\n",
       "      <th>Employee Name</th>\n",
       "      <th>Salary</th>\n",
       "      <th>Dept No</th>\n",
       "      <th>Designation</th>\n",
       "    </tr>\n",
       "  </thead>\n",
       "  <tbody>\n",
       "    <tr>\n",
       "      <th>0</th>\n",
       "      <td>1105</td>\n",
       "      <td>Vinay sai</td>\n",
       "      <td>350000</td>\n",
       "      <td>156</td>\n",
       "      <td>product manager</td>\n",
       "    </tr>\n",
       "    <tr>\n",
       "      <th>1</th>\n",
       "      <td>1106</td>\n",
       "      <td>pravalika</td>\n",
       "      <td>400000</td>\n",
       "      <td>203</td>\n",
       "      <td>cheif Architect</td>\n",
       "    </tr>\n",
       "    <tr>\n",
       "      <th>2</th>\n",
       "      <td>2135</td>\n",
       "      <td>Hema</td>\n",
       "      <td>360000</td>\n",
       "      <td>321</td>\n",
       "      <td>Marketing</td>\n",
       "    </tr>\n",
       "    <tr>\n",
       "      <th>3</th>\n",
       "      <td>4662</td>\n",
       "      <td>Hari</td>\n",
       "      <td>412000</td>\n",
       "      <td>453</td>\n",
       "      <td>Digital Officer</td>\n",
       "    </tr>\n",
       "    <tr>\n",
       "      <th>4</th>\n",
       "      <td>5123</td>\n",
       "      <td>Ajay</td>\n",
       "      <td>360000</td>\n",
       "      <td>512</td>\n",
       "      <td>Back-End developer</td>\n",
       "    </tr>\n",
       "  </tbody>\n",
       "</table>\n",
       "</div>"
      ],
      "text/plain": [
       "   Employee Number Employee Name  Salary  Dept No         Designation\n",
       "0             1105     Vinay sai  350000      156     product manager\n",
       "1             1106     pravalika  400000      203     cheif Architect\n",
       "2             2135          Hema  360000      321           Marketing\n",
       "3             4662          Hari  412000      453     Digital Officer\n",
       "4             5123          Ajay  360000      512  Back-End developer"
      ]
     },
     "execution_count": 85,
     "metadata": {},
     "output_type": "execute_result"
    }
   ],
   "source": [
    "DataFrame1"
   ]
  },
  {
   "cell_type": "markdown",
   "id": "9da9b344",
   "metadata": {},
   "source": [
    "### Q3 -- Create a dictionary called dept. In this dictionary, the columns are deptno, deptname and location. Create a data frame called DataFrame2 from the dictionary dept."
   ]
  },
  {
   "cell_type": "code",
   "execution_count": 86,
   "id": "67632124",
   "metadata": {},
   "outputs": [
    {
     "data": {
      "text/html": [
       "<div>\n",
       "<style scoped>\n",
       "    .dataframe tbody tr th:only-of-type {\n",
       "        vertical-align: middle;\n",
       "    }\n",
       "\n",
       "    .dataframe tbody tr th {\n",
       "        vertical-align: top;\n",
       "    }\n",
       "\n",
       "    .dataframe thead th {\n",
       "        text-align: right;\n",
       "    }\n",
       "</style>\n",
       "<table border=\"1\" class=\"dataframe\">\n",
       "  <thead>\n",
       "    <tr style=\"text-align: right;\">\n",
       "      <th></th>\n",
       "      <th>deptno</th>\n",
       "      <th>deptname</th>\n",
       "      <th>location</th>\n",
       "    </tr>\n",
       "  </thead>\n",
       "  <tbody>\n",
       "    <tr>\n",
       "      <th>1</th>\n",
       "      <td>101</td>\n",
       "      <td>Civil</td>\n",
       "      <td>Vishvaswara Block, 2nd Floor</td>\n",
       "    </tr>\n",
       "    <tr>\n",
       "      <th>2</th>\n",
       "      <td>201</td>\n",
       "      <td>Electrical</td>\n",
       "      <td>Abdhul Kalam Block, 3rd Floor</td>\n",
       "    </tr>\n",
       "    <tr>\n",
       "      <th>3</th>\n",
       "      <td>301</td>\n",
       "      <td>Mechanical</td>\n",
       "      <td>Vishvaswara Block, 3rd Floor</td>\n",
       "    </tr>\n",
       "    <tr>\n",
       "      <th>4</th>\n",
       "      <td>401</td>\n",
       "      <td>Electronic</td>\n",
       "      <td>Annapurna Block, 2nd Floor</td>\n",
       "    </tr>\n",
       "    <tr>\n",
       "      <th>5</th>\n",
       "      <td>501</td>\n",
       "      <td>Computer Science</td>\n",
       "      <td>Abdhul Kalam Block, 4th Floor</td>\n",
       "    </tr>\n",
       "  </tbody>\n",
       "</table>\n",
       "</div>"
      ],
      "text/plain": [
       "   deptno          deptname                       location\n",
       "1     101             Civil   Vishvaswara Block, 2nd Floor\n",
       "2     201        Electrical  Abdhul Kalam Block, 3rd Floor\n",
       "3     301        Mechanical   Vishvaswara Block, 3rd Floor\n",
       "4     401        Electronic     Annapurna Block, 2nd Floor\n",
       "5     501  Computer Science  Abdhul Kalam Block, 4th Floor"
      ]
     },
     "execution_count": 86,
     "metadata": {},
     "output_type": "execute_result"
    }
   ],
   "source": [
    "import pandas as pd\n",
    "dept = {\"deptno\":(101,201,301,401,501),\n",
    "       \"deptname\":(\"Civil\",\"Electrical\",\"Mechanical\",\"Electronic\",\"Computer Science\"),\n",
    "       \"location\":(\"Vishvaswara Block, 2nd Floor\",\"Abdhul Kalam Block, 3rd Floor\",\n",
    "       \"Vishvaswara Block, 3rd Floor\",\"Annapurna Block, 2nd Floor\",\"Abdhul Kalam Block, 4th Floor\")}\n",
    "DataFrame2 = pd.DataFrame(dept,index = [1,2,3,4,5])\n",
    "DataFrame2"
   ]
  },
  {
   "cell_type": "markdown",
   "id": "32aca489",
   "metadata": {},
   "source": [
    "### Q4 -- Consider a sales.csv file with the following data: The data represents salesman name and sales in three regions: region1, region2 and region3. Load sles.csv into a data frame called DataFrame3. Give appropriate column names to the columns in DataFrame3. Display the contents of DataFrame3."
   ]
  },
  {
   "cell_type": "code",
   "execution_count": 87,
   "id": "e6943a5d",
   "metadata": {},
   "outputs": [
    {
     "data": {
      "text/html": [
       "<div>\n",
       "<style scoped>\n",
       "    .dataframe tbody tr th:only-of-type {\n",
       "        vertical-align: middle;\n",
       "    }\n",
       "\n",
       "    .dataframe tbody tr th {\n",
       "        vertical-align: top;\n",
       "    }\n",
       "\n",
       "    .dataframe thead th {\n",
       "        text-align: right;\n",
       "    }\n",
       "</style>\n",
       "<table border=\"1\" class=\"dataframe\">\n",
       "  <thead>\n",
       "    <tr style=\"text-align: right;\">\n",
       "      <th></th>\n",
       "      <th>salesman name</th>\n",
       "      <th>region1</th>\n",
       "      <th>region2</th>\n",
       "      <th>region3</th>\n",
       "    </tr>\n",
       "  </thead>\n",
       "  <tbody>\n",
       "    <tr>\n",
       "      <th>0</th>\n",
       "      <td>Dinesh</td>\n",
       "      <td>7800</td>\n",
       "      <td>6500.0</td>\n",
       "      <td>4590.0</td>\n",
       "    </tr>\n",
       "    <tr>\n",
       "      <th>1</th>\n",
       "      <td>Mahesh</td>\n",
       "      <td>8900</td>\n",
       "      <td>NaN</td>\n",
       "      <td>3790.0</td>\n",
       "    </tr>\n",
       "    <tr>\n",
       "      <th>2</th>\n",
       "      <td>Ramesh</td>\n",
       "      <td>10800</td>\n",
       "      <td>2300.0</td>\n",
       "      <td>NaN</td>\n",
       "    </tr>\n",
       "    <tr>\n",
       "      <th>3</th>\n",
       "      <td>Suresh</td>\n",
       "      <td>5600</td>\n",
       "      <td>6790.0</td>\n",
       "      <td>2300.0</td>\n",
       "    </tr>\n",
       "    <tr>\n",
       "      <th>4</th>\n",
       "      <td>Basha</td>\n",
       "      <td>7600</td>\n",
       "      <td>2300.0</td>\n",
       "      <td>2400.0</td>\n",
       "    </tr>\n",
       "  </tbody>\n",
       "</table>\n",
       "</div>"
      ],
      "text/plain": [
       "  salesman name  region1  region2  region3\n",
       "0        Dinesh     7800   6500.0   4590.0\n",
       "1        Mahesh     8900      NaN   3790.0\n",
       "2        Ramesh    10800   2300.0      NaN\n",
       "3        Suresh     5600   6790.0   2300.0\n",
       "4         Basha     7600   2300.0   2400.0"
      ]
     },
     "execution_count": 87,
     "metadata": {},
     "output_type": "execute_result"
    }
   ],
   "source": [
    "import pandas as pd\n",
    "\n",
    "DataFrame3 = pd.read_csv(\".\\sales.csv\",header = None,names = (\"salesman name\",\"region1\",\"region2\",\"region3\"))\n",
    "\n",
    "DataFrame3"
   ]
  },
  {
   "cell_type": "markdown",
   "id": "f423f449",
   "metadata": {},
   "source": [
    "### Q5 --  In this exercise, demonstrate different methods of handling missing data in data frames. For reference, consider the DataFrame3 created in Q.No. 4. In DataFrame3, do the following: fill missing values with zeroes, fill missing values with the mean of their respective column, drop the rows containing missing values, drop the columns containing missing values."
   ]
  },
  {
   "cell_type": "markdown",
   "id": "5eb7c2b2",
   "metadata": {},
   "source": [
    "#### *fillna(0)*"
   ]
  },
  {
   "cell_type": "code",
   "execution_count": 88,
   "id": "7c4cb313",
   "metadata": {},
   "outputs": [
    {
     "name": "stdout",
     "output_type": "stream",
     "text": [
      "::__missing values with zeroes__::\n"
     ]
    },
    {
     "data": {
      "text/html": [
       "<div>\n",
       "<style scoped>\n",
       "    .dataframe tbody tr th:only-of-type {\n",
       "        vertical-align: middle;\n",
       "    }\n",
       "\n",
       "    .dataframe tbody tr th {\n",
       "        vertical-align: top;\n",
       "    }\n",
       "\n",
       "    .dataframe thead th {\n",
       "        text-align: right;\n",
       "    }\n",
       "</style>\n",
       "<table border=\"1\" class=\"dataframe\">\n",
       "  <thead>\n",
       "    <tr style=\"text-align: right;\">\n",
       "      <th></th>\n",
       "      <th>salesman name</th>\n",
       "      <th>region1</th>\n",
       "      <th>region2</th>\n",
       "      <th>region3</th>\n",
       "    </tr>\n",
       "  </thead>\n",
       "  <tbody>\n",
       "    <tr>\n",
       "      <th>0</th>\n",
       "      <td>Dinesh</td>\n",
       "      <td>7800</td>\n",
       "      <td>6500.0</td>\n",
       "      <td>4590.0</td>\n",
       "    </tr>\n",
       "    <tr>\n",
       "      <th>1</th>\n",
       "      <td>Mahesh</td>\n",
       "      <td>8900</td>\n",
       "      <td>0.0</td>\n",
       "      <td>3790.0</td>\n",
       "    </tr>\n",
       "    <tr>\n",
       "      <th>2</th>\n",
       "      <td>Ramesh</td>\n",
       "      <td>10800</td>\n",
       "      <td>2300.0</td>\n",
       "      <td>0.0</td>\n",
       "    </tr>\n",
       "    <tr>\n",
       "      <th>3</th>\n",
       "      <td>Suresh</td>\n",
       "      <td>5600</td>\n",
       "      <td>6790.0</td>\n",
       "      <td>2300.0</td>\n",
       "    </tr>\n",
       "    <tr>\n",
       "      <th>4</th>\n",
       "      <td>Basha</td>\n",
       "      <td>7600</td>\n",
       "      <td>2300.0</td>\n",
       "      <td>2400.0</td>\n",
       "    </tr>\n",
       "  </tbody>\n",
       "</table>\n",
       "</div>"
      ],
      "text/plain": [
       "  salesman name  region1  region2  region3\n",
       "0        Dinesh     7800   6500.0   4590.0\n",
       "1        Mahesh     8900      0.0   3790.0\n",
       "2        Ramesh    10800   2300.0      0.0\n",
       "3        Suresh     5600   6790.0   2300.0\n",
       "4         Basha     7600   2300.0   2400.0"
      ]
     },
     "execution_count": 88,
     "metadata": {},
     "output_type": "execute_result"
    }
   ],
   "source": [
    "print(\"::__missing values with zeroes__::\")\n",
    "DataFrame3.fillna(0)"
   ]
  },
  {
   "cell_type": "markdown",
   "id": "b8f5f416",
   "metadata": {},
   "source": [
    "#### *fill missing values with the mean of their respective column*"
   ]
  },
  {
   "cell_type": "code",
   "execution_count": 89,
   "id": "4f11e8dd",
   "metadata": {},
   "outputs": [
    {
     "name": "stdout",
     "output_type": "stream",
     "text": [
      "missing values with the mean of their respective column Given below\n"
     ]
    },
    {
     "name": "stderr",
     "output_type": "stream",
     "text": [
      "C:\\Users\\SANJEE~1\\AppData\\Local\\Temp/ipykernel_38832/795123465.py:2: FutureWarning: Dropping of nuisance columns in DataFrame reductions (with 'numeric_only=None') is deprecated; in a future version this will raise TypeError.  Select only valid columns before calling the reduction.\n",
      "  DataFrame3.fillna(DataFrame3[:].mean())\n"
     ]
    },
    {
     "data": {
      "text/html": [
       "<div>\n",
       "<style scoped>\n",
       "    .dataframe tbody tr th:only-of-type {\n",
       "        vertical-align: middle;\n",
       "    }\n",
       "\n",
       "    .dataframe tbody tr th {\n",
       "        vertical-align: top;\n",
       "    }\n",
       "\n",
       "    .dataframe thead th {\n",
       "        text-align: right;\n",
       "    }\n",
       "</style>\n",
       "<table border=\"1\" class=\"dataframe\">\n",
       "  <thead>\n",
       "    <tr style=\"text-align: right;\">\n",
       "      <th></th>\n",
       "      <th>salesman name</th>\n",
       "      <th>region1</th>\n",
       "      <th>region2</th>\n",
       "      <th>region3</th>\n",
       "    </tr>\n",
       "  </thead>\n",
       "  <tbody>\n",
       "    <tr>\n",
       "      <th>0</th>\n",
       "      <td>Dinesh</td>\n",
       "      <td>7800</td>\n",
       "      <td>6500.0</td>\n",
       "      <td>4590.0</td>\n",
       "    </tr>\n",
       "    <tr>\n",
       "      <th>1</th>\n",
       "      <td>Mahesh</td>\n",
       "      <td>8900</td>\n",
       "      <td>4472.5</td>\n",
       "      <td>3790.0</td>\n",
       "    </tr>\n",
       "    <tr>\n",
       "      <th>2</th>\n",
       "      <td>Ramesh</td>\n",
       "      <td>10800</td>\n",
       "      <td>2300.0</td>\n",
       "      <td>3270.0</td>\n",
       "    </tr>\n",
       "    <tr>\n",
       "      <th>3</th>\n",
       "      <td>Suresh</td>\n",
       "      <td>5600</td>\n",
       "      <td>6790.0</td>\n",
       "      <td>2300.0</td>\n",
       "    </tr>\n",
       "    <tr>\n",
       "      <th>4</th>\n",
       "      <td>Basha</td>\n",
       "      <td>7600</td>\n",
       "      <td>2300.0</td>\n",
       "      <td>2400.0</td>\n",
       "    </tr>\n",
       "  </tbody>\n",
       "</table>\n",
       "</div>"
      ],
      "text/plain": [
       "  salesman name  region1  region2  region3\n",
       "0        Dinesh     7800   6500.0   4590.0\n",
       "1        Mahesh     8900   4472.5   3790.0\n",
       "2        Ramesh    10800   2300.0   3270.0\n",
       "3        Suresh     5600   6790.0   2300.0\n",
       "4         Basha     7600   2300.0   2400.0"
      ]
     },
     "execution_count": 89,
     "metadata": {},
     "output_type": "execute_result"
    }
   ],
   "source": [
    "print(\"missing values with the mean of their respective column Given below\")\n",
    "DataFrame3.fillna(DataFrame3[:].mean())"
   ]
  },
  {
   "cell_type": "code",
   "execution_count": 90,
   "id": "3c3adc42",
   "metadata": {},
   "outputs": [
    {
     "name": "stdout",
     "output_type": "stream",
     "text": [
      "::::::::::::::::::::::::::::::::::::::::::::::::::::::::::::\n",
      "fill missing values with the mean of their respective columns\n",
      "::::::::::::::::::::::::::::::::::::::::::::::::::::::::::::\n",
      "0     7800\n",
      "1     8900\n",
      "2    10800\n",
      "3     5600\n",
      "4     7600\n",
      "Name: region1, dtype: int64\n",
      "======================================================================\n",
      "0    6500.0\n",
      "1    4472.5\n",
      "2    2300.0\n",
      "3    6790.0\n",
      "4    2300.0\n",
      "Name: region2, dtype: float64\n",
      "======================================================================\n",
      "0    4590.0\n",
      "1    3790.0\n",
      "2    3270.0\n",
      "3    2300.0\n",
      "4    2400.0\n",
      "Name: region3, dtype: float64\n"
     ]
    }
   ],
   "source": [
    "print(\":\"*60)\n",
    "print(\"fill missing values with the mean of their respective columns\")\n",
    "print(\":\"*60)\n",
    "print(DataFrame3['region1'].fillna(DataFrame3['region1'].mean()))\n",
    "print(\"=\"*70)\n",
    "print(DataFrame3['region2'].fillna(DataFrame3['region2'].mean()))\n",
    "print(\"=\"*70)\n",
    "print(DataFrame3['region3'].fillna(DataFrame3['region3'].mean()))"
   ]
  },
  {
   "cell_type": "markdown",
   "id": "f413050b",
   "metadata": {},
   "source": [
    "#### *drop the rows containing missing values*"
   ]
  },
  {
   "cell_type": "code",
   "execution_count": 91,
   "id": "ed1f3ef0",
   "metadata": {},
   "outputs": [
    {
     "name": "stdout",
     "output_type": "stream",
     "text": [
      ":::Drop the rows containing missing values:::\n"
     ]
    },
    {
     "data": {
      "text/html": [
       "<div>\n",
       "<style scoped>\n",
       "    .dataframe tbody tr th:only-of-type {\n",
       "        vertical-align: middle;\n",
       "    }\n",
       "\n",
       "    .dataframe tbody tr th {\n",
       "        vertical-align: top;\n",
       "    }\n",
       "\n",
       "    .dataframe thead th {\n",
       "        text-align: right;\n",
       "    }\n",
       "</style>\n",
       "<table border=\"1\" class=\"dataframe\">\n",
       "  <thead>\n",
       "    <tr style=\"text-align: right;\">\n",
       "      <th></th>\n",
       "      <th>salesman name</th>\n",
       "      <th>region1</th>\n",
       "      <th>region2</th>\n",
       "      <th>region3</th>\n",
       "    </tr>\n",
       "  </thead>\n",
       "  <tbody>\n",
       "    <tr>\n",
       "      <th>0</th>\n",
       "      <td>Dinesh</td>\n",
       "      <td>7800</td>\n",
       "      <td>6500.0</td>\n",
       "      <td>4590.0</td>\n",
       "    </tr>\n",
       "    <tr>\n",
       "      <th>3</th>\n",
       "      <td>Suresh</td>\n",
       "      <td>5600</td>\n",
       "      <td>6790.0</td>\n",
       "      <td>2300.0</td>\n",
       "    </tr>\n",
       "    <tr>\n",
       "      <th>4</th>\n",
       "      <td>Basha</td>\n",
       "      <td>7600</td>\n",
       "      <td>2300.0</td>\n",
       "      <td>2400.0</td>\n",
       "    </tr>\n",
       "  </tbody>\n",
       "</table>\n",
       "</div>"
      ],
      "text/plain": [
       "  salesman name  region1  region2  region3\n",
       "0        Dinesh     7800   6500.0   4590.0\n",
       "3        Suresh     5600   6790.0   2300.0\n",
       "4         Basha     7600   2300.0   2400.0"
      ]
     },
     "execution_count": 91,
     "metadata": {},
     "output_type": "execute_result"
    }
   ],
   "source": [
    "print(\":::Drop the rows containing missing values:::\")\n",
    "DataFrame3.dropna()"
   ]
  },
  {
   "cell_type": "markdown",
   "id": "be7f6cda",
   "metadata": {},
   "source": [
    "#### *drop the columns containing missing values.*"
   ]
  },
  {
   "cell_type": "code",
   "execution_count": 92,
   "id": "e8f8f1ff",
   "metadata": {},
   "outputs": [
    {
     "name": "stdout",
     "output_type": "stream",
     "text": [
      ":::Drop the column containing missing values:::\n"
     ]
    },
    {
     "data": {
      "text/html": [
       "<div>\n",
       "<style scoped>\n",
       "    .dataframe tbody tr th:only-of-type {\n",
       "        vertical-align: middle;\n",
       "    }\n",
       "\n",
       "    .dataframe tbody tr th {\n",
       "        vertical-align: top;\n",
       "    }\n",
       "\n",
       "    .dataframe thead th {\n",
       "        text-align: right;\n",
       "    }\n",
       "</style>\n",
       "<table border=\"1\" class=\"dataframe\">\n",
       "  <thead>\n",
       "    <tr style=\"text-align: right;\">\n",
       "      <th></th>\n",
       "      <th>salesman name</th>\n",
       "      <th>region1</th>\n",
       "    </tr>\n",
       "  </thead>\n",
       "  <tbody>\n",
       "    <tr>\n",
       "      <th>0</th>\n",
       "      <td>Dinesh</td>\n",
       "      <td>7800</td>\n",
       "    </tr>\n",
       "    <tr>\n",
       "      <th>1</th>\n",
       "      <td>Mahesh</td>\n",
       "      <td>8900</td>\n",
       "    </tr>\n",
       "    <tr>\n",
       "      <th>2</th>\n",
       "      <td>Ramesh</td>\n",
       "      <td>10800</td>\n",
       "    </tr>\n",
       "    <tr>\n",
       "      <th>3</th>\n",
       "      <td>Suresh</td>\n",
       "      <td>5600</td>\n",
       "    </tr>\n",
       "    <tr>\n",
       "      <th>4</th>\n",
       "      <td>Basha</td>\n",
       "      <td>7600</td>\n",
       "    </tr>\n",
       "  </tbody>\n",
       "</table>\n",
       "</div>"
      ],
      "text/plain": [
       "  salesman name  region1\n",
       "0        Dinesh     7800\n",
       "1        Mahesh     8900\n",
       "2        Ramesh    10800\n",
       "3        Suresh     5600\n",
       "4         Basha     7600"
      ]
     },
     "execution_count": 92,
     "metadata": {},
     "output_type": "execute_result"
    }
   ],
   "source": [
    "print(\":::Drop the column containing missing values:::\")\n",
    "DataFrame3.dropna(axis = 1)"
   ]
  },
  {
   "cell_type": "markdown",
   "id": "f9a61226",
   "metadata": {},
   "source": [
    "### Q6 -- From DataFrame1 create a new data frame called DataFrame4. In DataFrame4, set the employee number as an in-place index. Display data from the 3rd row and 4th column using label-based and integer-based indexing."
   ]
  },
  {
   "cell_type": "code",
   "execution_count": 93,
   "id": "f7cc3e87",
   "metadata": {},
   "outputs": [
    {
     "data": {
      "text/html": [
       "<div>\n",
       "<style scoped>\n",
       "    .dataframe tbody tr th:only-of-type {\n",
       "        vertical-align: middle;\n",
       "    }\n",
       "\n",
       "    .dataframe tbody tr th {\n",
       "        vertical-align: top;\n",
       "    }\n",
       "\n",
       "    .dataframe thead th {\n",
       "        text-align: right;\n",
       "    }\n",
       "</style>\n",
       "<table border=\"1\" class=\"dataframe\">\n",
       "  <thead>\n",
       "    <tr style=\"text-align: right;\">\n",
       "      <th></th>\n",
       "      <th>Employee Number</th>\n",
       "      <th>Employee Name</th>\n",
       "      <th>Salary</th>\n",
       "      <th>Dept No</th>\n",
       "      <th>Designation</th>\n",
       "    </tr>\n",
       "  </thead>\n",
       "  <tbody>\n",
       "    <tr>\n",
       "      <th>0</th>\n",
       "      <td>1105</td>\n",
       "      <td>Vinay sai</td>\n",
       "      <td>350000</td>\n",
       "      <td>156</td>\n",
       "      <td>product manager</td>\n",
       "    </tr>\n",
       "    <tr>\n",
       "      <th>1</th>\n",
       "      <td>1106</td>\n",
       "      <td>pravalika</td>\n",
       "      <td>400000</td>\n",
       "      <td>203</td>\n",
       "      <td>cheif Architect</td>\n",
       "    </tr>\n",
       "    <tr>\n",
       "      <th>2</th>\n",
       "      <td>2135</td>\n",
       "      <td>Hema</td>\n",
       "      <td>360000</td>\n",
       "      <td>321</td>\n",
       "      <td>Marketing</td>\n",
       "    </tr>\n",
       "    <tr>\n",
       "      <th>3</th>\n",
       "      <td>4662</td>\n",
       "      <td>Hari</td>\n",
       "      <td>412000</td>\n",
       "      <td>453</td>\n",
       "      <td>Digital Officer</td>\n",
       "    </tr>\n",
       "    <tr>\n",
       "      <th>4</th>\n",
       "      <td>5123</td>\n",
       "      <td>Ajay</td>\n",
       "      <td>360000</td>\n",
       "      <td>512</td>\n",
       "      <td>Back-End developer</td>\n",
       "    </tr>\n",
       "  </tbody>\n",
       "</table>\n",
       "</div>"
      ],
      "text/plain": [
       "   Employee Number Employee Name  Salary  Dept No         Designation\n",
       "0             1105     Vinay sai  350000      156     product manager\n",
       "1             1106     pravalika  400000      203     cheif Architect\n",
       "2             2135          Hema  360000      321           Marketing\n",
       "3             4662          Hari  412000      453     Digital Officer\n",
       "4             5123          Ajay  360000      512  Back-End developer"
      ]
     },
     "execution_count": 93,
     "metadata": {},
     "output_type": "execute_result"
    }
   ],
   "source": [
    "DataFrame1"
   ]
  },
  {
   "cell_type": "markdown",
   "id": "f9571941",
   "metadata": {},
   "source": [
    "##### set the employee number as an in-place index."
   ]
  },
  {
   "cell_type": "code",
   "execution_count": 94,
   "id": "f1512b26",
   "metadata": {},
   "outputs": [],
   "source": [
    "DataFrame4 = DataFrame1\n",
    "\n",
    "DataFrame4.set_index('Employee Number',inplace=True)"
   ]
  },
  {
   "cell_type": "code",
   "execution_count": 95,
   "id": "a0e3b3b1",
   "metadata": {},
   "outputs": [
    {
     "data": {
      "text/html": [
       "<div>\n",
       "<style scoped>\n",
       "    .dataframe tbody tr th:only-of-type {\n",
       "        vertical-align: middle;\n",
       "    }\n",
       "\n",
       "    .dataframe tbody tr th {\n",
       "        vertical-align: top;\n",
       "    }\n",
       "\n",
       "    .dataframe thead th {\n",
       "        text-align: right;\n",
       "    }\n",
       "</style>\n",
       "<table border=\"1\" class=\"dataframe\">\n",
       "  <thead>\n",
       "    <tr style=\"text-align: right;\">\n",
       "      <th></th>\n",
       "      <th>Employee Name</th>\n",
       "      <th>Salary</th>\n",
       "      <th>Dept No</th>\n",
       "      <th>Designation</th>\n",
       "    </tr>\n",
       "    <tr>\n",
       "      <th>Employee Number</th>\n",
       "      <th></th>\n",
       "      <th></th>\n",
       "      <th></th>\n",
       "      <th></th>\n",
       "    </tr>\n",
       "  </thead>\n",
       "  <tbody>\n",
       "    <tr>\n",
       "      <th>1105</th>\n",
       "      <td>Vinay sai</td>\n",
       "      <td>350000</td>\n",
       "      <td>156</td>\n",
       "      <td>product manager</td>\n",
       "    </tr>\n",
       "    <tr>\n",
       "      <th>1106</th>\n",
       "      <td>pravalika</td>\n",
       "      <td>400000</td>\n",
       "      <td>203</td>\n",
       "      <td>cheif Architect</td>\n",
       "    </tr>\n",
       "    <tr>\n",
       "      <th>2135</th>\n",
       "      <td>Hema</td>\n",
       "      <td>360000</td>\n",
       "      <td>321</td>\n",
       "      <td>Marketing</td>\n",
       "    </tr>\n",
       "    <tr>\n",
       "      <th>4662</th>\n",
       "      <td>Hari</td>\n",
       "      <td>412000</td>\n",
       "      <td>453</td>\n",
       "      <td>Digital Officer</td>\n",
       "    </tr>\n",
       "    <tr>\n",
       "      <th>5123</th>\n",
       "      <td>Ajay</td>\n",
       "      <td>360000</td>\n",
       "      <td>512</td>\n",
       "      <td>Back-End developer</td>\n",
       "    </tr>\n",
       "  </tbody>\n",
       "</table>\n",
       "</div>"
      ],
      "text/plain": [
       "                Employee Name  Salary  Dept No         Designation\n",
       "Employee Number                                                   \n",
       "1105                Vinay sai  350000      156     product manager\n",
       "1106                pravalika  400000      203     cheif Architect\n",
       "2135                     Hema  360000      321           Marketing\n",
       "4662                     Hari  412000      453     Digital Officer\n",
       "5123                     Ajay  360000      512  Back-End developer"
      ]
     },
     "execution_count": 95,
     "metadata": {},
     "output_type": "execute_result"
    }
   ],
   "source": [
    "DataFrame4"
   ]
  },
  {
   "cell_type": "markdown",
   "id": "25473fda",
   "metadata": {},
   "source": [
    "##### label-based"
   ]
  },
  {
   "cell_type": "code",
   "execution_count": 96,
   "id": "ee804622",
   "metadata": {},
   "outputs": [
    {
     "name": "stdout",
     "output_type": "stream",
     "text": [
      "Display data from the 3rd row and 4th column :  Marketing\n"
     ]
    }
   ],
   "source": [
    "#label Based Indexing\n",
    "print(\"Display data from the 3rd row and 4th column : \",DataFrame4.loc[2135,'Designation'])"
   ]
  },
  {
   "cell_type": "markdown",
   "id": "18c0c1fd",
   "metadata": {},
   "source": [
    "##### integer-based indexing."
   ]
  },
  {
   "cell_type": "code",
   "execution_count": 97,
   "id": "03573b15",
   "metadata": {},
   "outputs": [
    {
     "name": "stdout",
     "output_type": "stream",
     "text": [
      "Display data from the 3rd row and 4th column :  Marketing\n"
     ]
    }
   ],
   "source": [
    "# integer-based indexing.\n",
    "print(\"Display data from the 3rd row and 4th column : \",DataFrame4.iloc[2,3])"
   ]
  },
  {
   "cell_type": "markdown",
   "id": "a4b53e0f",
   "metadata": {},
   "source": [
    "### Q7 -- In DataFrame3 created in Q.No. 5, find the salesmen whose sales are greater than 7000 in region1 but less than 3000 in region2"
   ]
  },
  {
   "cell_type": "code",
   "execution_count": 98,
   "id": "db431e8e",
   "metadata": {},
   "outputs": [
    {
     "data": {
      "text/html": [
       "<div>\n",
       "<style scoped>\n",
       "    .dataframe tbody tr th:only-of-type {\n",
       "        vertical-align: middle;\n",
       "    }\n",
       "\n",
       "    .dataframe tbody tr th {\n",
       "        vertical-align: top;\n",
       "    }\n",
       "\n",
       "    .dataframe thead th {\n",
       "        text-align: right;\n",
       "    }\n",
       "</style>\n",
       "<table border=\"1\" class=\"dataframe\">\n",
       "  <thead>\n",
       "    <tr style=\"text-align: right;\">\n",
       "      <th></th>\n",
       "      <th>salesman name</th>\n",
       "      <th>region1</th>\n",
       "      <th>region2</th>\n",
       "      <th>region3</th>\n",
       "    </tr>\n",
       "  </thead>\n",
       "  <tbody>\n",
       "    <tr>\n",
       "      <th>0</th>\n",
       "      <td>Dinesh</td>\n",
       "      <td>7800</td>\n",
       "      <td>6500.0</td>\n",
       "      <td>4590.0</td>\n",
       "    </tr>\n",
       "    <tr>\n",
       "      <th>1</th>\n",
       "      <td>Mahesh</td>\n",
       "      <td>8900</td>\n",
       "      <td>NaN</td>\n",
       "      <td>3790.0</td>\n",
       "    </tr>\n",
       "    <tr>\n",
       "      <th>2</th>\n",
       "      <td>Ramesh</td>\n",
       "      <td>10800</td>\n",
       "      <td>2300.0</td>\n",
       "      <td>NaN</td>\n",
       "    </tr>\n",
       "    <tr>\n",
       "      <th>3</th>\n",
       "      <td>Suresh</td>\n",
       "      <td>5600</td>\n",
       "      <td>6790.0</td>\n",
       "      <td>2300.0</td>\n",
       "    </tr>\n",
       "    <tr>\n",
       "      <th>4</th>\n",
       "      <td>Basha</td>\n",
       "      <td>7600</td>\n",
       "      <td>2300.0</td>\n",
       "      <td>2400.0</td>\n",
       "    </tr>\n",
       "  </tbody>\n",
       "</table>\n",
       "</div>"
      ],
      "text/plain": [
       "  salesman name  region1  region2  region3\n",
       "0        Dinesh     7800   6500.0   4590.0\n",
       "1        Mahesh     8900      NaN   3790.0\n",
       "2        Ramesh    10800   2300.0      NaN\n",
       "3        Suresh     5600   6790.0   2300.0\n",
       "4         Basha     7600   2300.0   2400.0"
      ]
     },
     "execution_count": 98,
     "metadata": {},
     "output_type": "execute_result"
    }
   ],
   "source": [
    "DataFrame3"
   ]
  },
  {
   "cell_type": "code",
   "execution_count": 99,
   "id": "95c0318b",
   "metadata": {},
   "outputs": [
    {
     "data": {
      "text/html": [
       "<div>\n",
       "<style scoped>\n",
       "    .dataframe tbody tr th:only-of-type {\n",
       "        vertical-align: middle;\n",
       "    }\n",
       "\n",
       "    .dataframe tbody tr th {\n",
       "        vertical-align: top;\n",
       "    }\n",
       "\n",
       "    .dataframe thead th {\n",
       "        text-align: right;\n",
       "    }\n",
       "</style>\n",
       "<table border=\"1\" class=\"dataframe\">\n",
       "  <thead>\n",
       "    <tr style=\"text-align: right;\">\n",
       "      <th></th>\n",
       "      <th>salesman name</th>\n",
       "      <th>region1</th>\n",
       "      <th>region2</th>\n",
       "      <th>region3</th>\n",
       "    </tr>\n",
       "  </thead>\n",
       "  <tbody>\n",
       "    <tr>\n",
       "      <th>2</th>\n",
       "      <td>Ramesh</td>\n",
       "      <td>10800</td>\n",
       "      <td>2300.0</td>\n",
       "      <td>NaN</td>\n",
       "    </tr>\n",
       "    <tr>\n",
       "      <th>4</th>\n",
       "      <td>Basha</td>\n",
       "      <td>7600</td>\n",
       "      <td>2300.0</td>\n",
       "      <td>2400.0</td>\n",
       "    </tr>\n",
       "  </tbody>\n",
       "</table>\n",
       "</div>"
      ],
      "text/plain": [
       "  salesman name  region1  region2  region3\n",
       "2        Ramesh    10800   2300.0      NaN\n",
       "4         Basha     7600   2300.0   2400.0"
      ]
     },
     "execution_count": 99,
     "metadata": {},
     "output_type": "execute_result"
    }
   ],
   "source": [
    "DataFrame3[(DataFrame3['region1'] > 7000) & (DataFrame3['region2'] < 3000)]"
   ]
  },
  {
   "cell_type": "markdown",
   "id": "e6c0aa3f",
   "metadata": {},
   "source": [
    "### Q8 -- In DataFrame1 created in Q. No. 1, find the employees with the highest salary in each department. Use the group by clause and the max() function. Similarly, in DataFrame3 created in Q. No. 5, find the salesman with the highest amount of sales for each region."
   ]
  },
  {
   "cell_type": "markdown",
   "id": "065ac9be",
   "metadata": {},
   "source": [
    "###  *In DataFrame1 created in Q. No. 1, find the employees with the highest salary in each department. Use the group by clause and the max() function*"
   ]
  },
  {
   "cell_type": "code",
   "execution_count": 100,
   "id": "5d7eec45",
   "metadata": {
    "scrolled": true
   },
   "outputs": [
    {
     "data": {
      "text/html": [
       "<div>\n",
       "<style scoped>\n",
       "    .dataframe tbody tr th:only-of-type {\n",
       "        vertical-align: middle;\n",
       "    }\n",
       "\n",
       "    .dataframe tbody tr th {\n",
       "        vertical-align: top;\n",
       "    }\n",
       "\n",
       "    .dataframe thead th {\n",
       "        text-align: right;\n",
       "    }\n",
       "</style>\n",
       "<table border=\"1\" class=\"dataframe\">\n",
       "  <thead>\n",
       "    <tr style=\"text-align: right;\">\n",
       "      <th></th>\n",
       "      <th>Employee Name</th>\n",
       "      <th>Salary</th>\n",
       "      <th>Dept No</th>\n",
       "      <th>Designation</th>\n",
       "    </tr>\n",
       "    <tr>\n",
       "      <th>Employee Number</th>\n",
       "      <th></th>\n",
       "      <th></th>\n",
       "      <th></th>\n",
       "      <th></th>\n",
       "    </tr>\n",
       "  </thead>\n",
       "  <tbody>\n",
       "    <tr>\n",
       "      <th>1105</th>\n",
       "      <td>Vinay sai</td>\n",
       "      <td>350000</td>\n",
       "      <td>156</td>\n",
       "      <td>product manager</td>\n",
       "    </tr>\n",
       "    <tr>\n",
       "      <th>1106</th>\n",
       "      <td>pravalika</td>\n",
       "      <td>400000</td>\n",
       "      <td>203</td>\n",
       "      <td>cheif Architect</td>\n",
       "    </tr>\n",
       "    <tr>\n",
       "      <th>2135</th>\n",
       "      <td>Hema</td>\n",
       "      <td>360000</td>\n",
       "      <td>321</td>\n",
       "      <td>Marketing</td>\n",
       "    </tr>\n",
       "    <tr>\n",
       "      <th>4662</th>\n",
       "      <td>Hari</td>\n",
       "      <td>412000</td>\n",
       "      <td>453</td>\n",
       "      <td>Digital Officer</td>\n",
       "    </tr>\n",
       "    <tr>\n",
       "      <th>5123</th>\n",
       "      <td>Ajay</td>\n",
       "      <td>360000</td>\n",
       "      <td>512</td>\n",
       "      <td>Back-End developer</td>\n",
       "    </tr>\n",
       "  </tbody>\n",
       "</table>\n",
       "</div>"
      ],
      "text/plain": [
       "                Employee Name  Salary  Dept No         Designation\n",
       "Employee Number                                                   \n",
       "1105                Vinay sai  350000      156     product manager\n",
       "1106                pravalika  400000      203     cheif Architect\n",
       "2135                     Hema  360000      321           Marketing\n",
       "4662                     Hari  412000      453     Digital Officer\n",
       "5123                     Ajay  360000      512  Back-End developer"
      ]
     },
     "execution_count": 100,
     "metadata": {},
     "output_type": "execute_result"
    }
   ],
   "source": [
    "DataFrame1"
   ]
  },
  {
   "cell_type": "code",
   "execution_count": 101,
   "id": "a63d5511",
   "metadata": {},
   "outputs": [
    {
     "name": "stdout",
     "output_type": "stream",
     "text": [
      "The employees with the highest salary in each department\n"
     ]
    },
    {
     "data": {
      "text/plain": [
       "Employee Name\n",
       "Ajay         360000\n",
       "Hari         412000\n",
       "Hema         360000\n",
       "Vinay sai    350000\n",
       "pravalika    400000\n",
       "Name: Salary, dtype: int64"
      ]
     },
     "execution_count": 101,
     "metadata": {},
     "output_type": "execute_result"
    }
   ],
   "source": [
    "print(\"The employees with the highest salary in each department\")\n",
    "DataFrame1.groupby([\"Employee Name\"]).max()[\"Salary\"]"
   ]
  },
  {
   "cell_type": "code",
   "execution_count": 102,
   "id": "e5fae326",
   "metadata": {},
   "outputs": [
    {
     "name": "stdout",
     "output_type": "stream",
     "text": [
      "The employee with the highest salary consider in all department\n"
     ]
    },
    {
     "data": {
      "text/plain": [
       "Employee Number\n",
       "4662    Hari\n",
       "Name: Employee Name, dtype: object"
      ]
     },
     "execution_count": 102,
     "metadata": {},
     "output_type": "execute_result"
    }
   ],
   "source": [
    "print(\"The employee with the highest salary consider in all department\")\n",
    "DataFrame1[DataFrame1[\"Salary\"]==DataFrame1[\"Salary\"].max()][\"Employee Name\"]"
   ]
  },
  {
   "cell_type": "markdown",
   "id": "2c0ca229",
   "metadata": {},
   "source": [
    "### *Similarly, in DataFrame3 created in Q. No. 5, find the salesman with the highest amount of sales for each region.*"
   ]
  },
  {
   "cell_type": "code",
   "execution_count": 103,
   "id": "0bb68e2f",
   "metadata": {},
   "outputs": [
    {
     "data": {
      "text/html": [
       "<div>\n",
       "<style scoped>\n",
       "    .dataframe tbody tr th:only-of-type {\n",
       "        vertical-align: middle;\n",
       "    }\n",
       "\n",
       "    .dataframe tbody tr th {\n",
       "        vertical-align: top;\n",
       "    }\n",
       "\n",
       "    .dataframe thead th {\n",
       "        text-align: right;\n",
       "    }\n",
       "</style>\n",
       "<table border=\"1\" class=\"dataframe\">\n",
       "  <thead>\n",
       "    <tr style=\"text-align: right;\">\n",
       "      <th></th>\n",
       "      <th>salesman name</th>\n",
       "      <th>region1</th>\n",
       "      <th>region2</th>\n",
       "      <th>region3</th>\n",
       "    </tr>\n",
       "  </thead>\n",
       "  <tbody>\n",
       "    <tr>\n",
       "      <th>0</th>\n",
       "      <td>Dinesh</td>\n",
       "      <td>7800</td>\n",
       "      <td>6500.0</td>\n",
       "      <td>4590.0</td>\n",
       "    </tr>\n",
       "    <tr>\n",
       "      <th>1</th>\n",
       "      <td>Mahesh</td>\n",
       "      <td>8900</td>\n",
       "      <td>NaN</td>\n",
       "      <td>3790.0</td>\n",
       "    </tr>\n",
       "    <tr>\n",
       "      <th>2</th>\n",
       "      <td>Ramesh</td>\n",
       "      <td>10800</td>\n",
       "      <td>2300.0</td>\n",
       "      <td>NaN</td>\n",
       "    </tr>\n",
       "    <tr>\n",
       "      <th>3</th>\n",
       "      <td>Suresh</td>\n",
       "      <td>5600</td>\n",
       "      <td>6790.0</td>\n",
       "      <td>2300.0</td>\n",
       "    </tr>\n",
       "    <tr>\n",
       "      <th>4</th>\n",
       "      <td>Basha</td>\n",
       "      <td>7600</td>\n",
       "      <td>2300.0</td>\n",
       "      <td>2400.0</td>\n",
       "    </tr>\n",
       "  </tbody>\n",
       "</table>\n",
       "</div>"
      ],
      "text/plain": [
       "  salesman name  region1  region2  region3\n",
       "0        Dinesh     7800   6500.0   4590.0\n",
       "1        Mahesh     8900      NaN   3790.0\n",
       "2        Ramesh    10800   2300.0      NaN\n",
       "3        Suresh     5600   6790.0   2300.0\n",
       "4         Basha     7600   2300.0   2400.0"
      ]
     },
     "execution_count": 103,
     "metadata": {},
     "output_type": "execute_result"
    }
   ],
   "source": [
    "DataFrame3"
   ]
  },
  {
   "cell_type": "code",
   "execution_count": 104,
   "id": "cfe90e3b",
   "metadata": {},
   "outputs": [
    {
     "data": {
      "text/plain": [
       "2    Ramesh\n",
       "Name: salesman name, dtype: object"
      ]
     },
     "execution_count": 104,
     "metadata": {},
     "output_type": "execute_result"
    }
   ],
   "source": [
    "DataFrame3[DataFrame3[\"region1\"]==DataFrame3[\"region1\"].max()][\"salesman name\"]"
   ]
  },
  {
   "cell_type": "code",
   "execution_count": 105,
   "id": "6a6b64da",
   "metadata": {},
   "outputs": [
    {
     "data": {
      "text/plain": [
       "3    Suresh\n",
       "Name: salesman name, dtype: object"
      ]
     },
     "execution_count": 105,
     "metadata": {},
     "output_type": "execute_result"
    }
   ],
   "source": [
    "DataFrame3[DataFrame3[\"region2\"]==DataFrame3[\"region2\"].max()][\"salesman name\"]"
   ]
  },
  {
   "cell_type": "code",
   "execution_count": 106,
   "id": "974e3e99",
   "metadata": {},
   "outputs": [
    {
     "data": {
      "text/plain": [
       "0    Dinesh\n",
       "Name: salesman name, dtype: object"
      ]
     },
     "execution_count": 106,
     "metadata": {},
     "output_type": "execute_result"
    }
   ],
   "source": [
    "DataFrame3[DataFrame3[\"region3\"]==DataFrame3[\"region3\"].max()][\"salesman name\"]"
   ]
  },
  {
   "cell_type": "code",
   "execution_count": 107,
   "id": "54fb516e",
   "metadata": {},
   "outputs": [
    {
     "data": {
      "text/plain": [
       "salesman name    Suresh\n",
       "region1           10800\n",
       "region2          6790.0\n",
       "region3          4590.0\n",
       "dtype: object"
      ]
     },
     "execution_count": 107,
     "metadata": {},
     "output_type": "execute_result"
    }
   ],
   "source": [
    "DataFrame3.max()"
   ]
  },
  {
   "cell_type": "code",
   "execution_count": 108,
   "id": "ea71acb6",
   "metadata": {},
   "outputs": [
    {
     "name": "stdout",
     "output_type": "stream",
     "text": [
      "::::::::::::::::::::::::::::::::::::::::\n",
      "salesman name\n",
      "Basha      7600\n",
      "Dinesh     7800\n",
      "Mahesh     8900\n",
      "Ramesh    10800\n",
      "Suresh     5600\n",
      "Name: region1, dtype: int64\n",
      "========================================\n",
      "salesman name\n",
      "Basha     2300.0\n",
      "Dinesh    6500.0\n",
      "Mahesh       NaN\n",
      "Ramesh    2300.0\n",
      "Suresh    6790.0\n",
      "Name: region2, dtype: float64\n",
      "========================================\n",
      "salesman name\n",
      "Basha     2400.0\n",
      "Dinesh    4590.0\n",
      "Mahesh    3790.0\n",
      "Ramesh       NaN\n",
      "Suresh    2300.0\n",
      "Name: region3, dtype: float64\n"
     ]
    }
   ],
   "source": [
    "print(':'*40)\n",
    "print(DataFrame3.groupby([\"salesman name\"]).max()[\"region1\"])\n",
    "print('='*40)\n",
    "print(DataFrame3.groupby([\"salesman name\"]).max()[\"region2\"])\n",
    "print('='*40)\n",
    "print(DataFrame3.groupby([\"salesman name\"]).max()[\"region3\"])"
   ]
  },
  {
   "cell_type": "markdown",
   "id": "c976e6c1",
   "metadata": {},
   "source": [
    "### Q9 -- In DataFrame1 created in Q. No. 1, add a new column called Address. In this new column, set the value as ‘Chennai’ for all the existing rows"
   ]
  },
  {
   "cell_type": "code",
   "execution_count": 109,
   "id": "d2729758",
   "metadata": {},
   "outputs": [],
   "source": [
    "DataFrame1['Address'] = DataFrame1.shape[0]*['chennai']"
   ]
  },
  {
   "cell_type": "code",
   "execution_count": 110,
   "id": "984fe68c",
   "metadata": {},
   "outputs": [
    {
     "data": {
      "text/html": [
       "<div>\n",
       "<style scoped>\n",
       "    .dataframe tbody tr th:only-of-type {\n",
       "        vertical-align: middle;\n",
       "    }\n",
       "\n",
       "    .dataframe tbody tr th {\n",
       "        vertical-align: top;\n",
       "    }\n",
       "\n",
       "    .dataframe thead th {\n",
       "        text-align: right;\n",
       "    }\n",
       "</style>\n",
       "<table border=\"1\" class=\"dataframe\">\n",
       "  <thead>\n",
       "    <tr style=\"text-align: right;\">\n",
       "      <th></th>\n",
       "      <th>Employee Name</th>\n",
       "      <th>Salary</th>\n",
       "      <th>Dept No</th>\n",
       "      <th>Designation</th>\n",
       "      <th>Address</th>\n",
       "    </tr>\n",
       "    <tr>\n",
       "      <th>Employee Number</th>\n",
       "      <th></th>\n",
       "      <th></th>\n",
       "      <th></th>\n",
       "      <th></th>\n",
       "      <th></th>\n",
       "    </tr>\n",
       "  </thead>\n",
       "  <tbody>\n",
       "    <tr>\n",
       "      <th>1105</th>\n",
       "      <td>Vinay sai</td>\n",
       "      <td>350000</td>\n",
       "      <td>156</td>\n",
       "      <td>product manager</td>\n",
       "      <td>chennai</td>\n",
       "    </tr>\n",
       "    <tr>\n",
       "      <th>1106</th>\n",
       "      <td>pravalika</td>\n",
       "      <td>400000</td>\n",
       "      <td>203</td>\n",
       "      <td>cheif Architect</td>\n",
       "      <td>chennai</td>\n",
       "    </tr>\n",
       "    <tr>\n",
       "      <th>2135</th>\n",
       "      <td>Hema</td>\n",
       "      <td>360000</td>\n",
       "      <td>321</td>\n",
       "      <td>Marketing</td>\n",
       "      <td>chennai</td>\n",
       "    </tr>\n",
       "    <tr>\n",
       "      <th>4662</th>\n",
       "      <td>Hari</td>\n",
       "      <td>412000</td>\n",
       "      <td>453</td>\n",
       "      <td>Digital Officer</td>\n",
       "      <td>chennai</td>\n",
       "    </tr>\n",
       "    <tr>\n",
       "      <th>5123</th>\n",
       "      <td>Ajay</td>\n",
       "      <td>360000</td>\n",
       "      <td>512</td>\n",
       "      <td>Back-End developer</td>\n",
       "      <td>chennai</td>\n",
       "    </tr>\n",
       "  </tbody>\n",
       "</table>\n",
       "</div>"
      ],
      "text/plain": [
       "                Employee Name  Salary  Dept No         Designation  Address\n",
       "Employee Number                                                            \n",
       "1105                Vinay sai  350000      156     product manager  chennai\n",
       "1106                pravalika  400000      203     cheif Architect  chennai\n",
       "2135                     Hema  360000      321           Marketing  chennai\n",
       "4662                     Hari  412000      453     Digital Officer  chennai\n",
       "5123                     Ajay  360000      512  Back-End developer  chennai"
      ]
     },
     "execution_count": 110,
     "metadata": {},
     "output_type": "execute_result"
    }
   ],
   "source": [
    "DataFrame1"
   ]
  },
  {
   "cell_type": "markdown",
   "id": "e45bbfec",
   "metadata": {},
   "source": [
    "### Q10 -- Create a line graph and bar chart to visualize the two data frames, DataFrame1 and DataFrame3."
   ]
  },
  {
   "cell_type": "markdown",
   "id": "ce9e64f6",
   "metadata": {},
   "source": [
    "### $DataFrame1$   line graph and bar chart to visualize"
   ]
  },
  {
   "cell_type": "code",
   "execution_count": 111,
   "id": "4e3d8147",
   "metadata": {},
   "outputs": [
    {
     "data": {
      "text/html": [
       "<div>\n",
       "<style scoped>\n",
       "    .dataframe tbody tr th:only-of-type {\n",
       "        vertical-align: middle;\n",
       "    }\n",
       "\n",
       "    .dataframe tbody tr th {\n",
       "        vertical-align: top;\n",
       "    }\n",
       "\n",
       "    .dataframe thead th {\n",
       "        text-align: right;\n",
       "    }\n",
       "</style>\n",
       "<table border=\"1\" class=\"dataframe\">\n",
       "  <thead>\n",
       "    <tr style=\"text-align: right;\">\n",
       "      <th></th>\n",
       "      <th>Employee Name</th>\n",
       "      <th>Salary</th>\n",
       "      <th>Dept No</th>\n",
       "      <th>Designation</th>\n",
       "      <th>Address</th>\n",
       "    </tr>\n",
       "    <tr>\n",
       "      <th>Employee Number</th>\n",
       "      <th></th>\n",
       "      <th></th>\n",
       "      <th></th>\n",
       "      <th></th>\n",
       "      <th></th>\n",
       "    </tr>\n",
       "  </thead>\n",
       "  <tbody>\n",
       "    <tr>\n",
       "      <th>1105</th>\n",
       "      <td>Vinay sai</td>\n",
       "      <td>350000</td>\n",
       "      <td>156</td>\n",
       "      <td>product manager</td>\n",
       "      <td>chennai</td>\n",
       "    </tr>\n",
       "    <tr>\n",
       "      <th>1106</th>\n",
       "      <td>pravalika</td>\n",
       "      <td>400000</td>\n",
       "      <td>203</td>\n",
       "      <td>cheif Architect</td>\n",
       "      <td>chennai</td>\n",
       "    </tr>\n",
       "    <tr>\n",
       "      <th>2135</th>\n",
       "      <td>Hema</td>\n",
       "      <td>360000</td>\n",
       "      <td>321</td>\n",
       "      <td>Marketing</td>\n",
       "      <td>chennai</td>\n",
       "    </tr>\n",
       "    <tr>\n",
       "      <th>4662</th>\n",
       "      <td>Hari</td>\n",
       "      <td>412000</td>\n",
       "      <td>453</td>\n",
       "      <td>Digital Officer</td>\n",
       "      <td>chennai</td>\n",
       "    </tr>\n",
       "    <tr>\n",
       "      <th>5123</th>\n",
       "      <td>Ajay</td>\n",
       "      <td>360000</td>\n",
       "      <td>512</td>\n",
       "      <td>Back-End developer</td>\n",
       "      <td>chennai</td>\n",
       "    </tr>\n",
       "  </tbody>\n",
       "</table>\n",
       "</div>"
      ],
      "text/plain": [
       "                Employee Name  Salary  Dept No         Designation  Address\n",
       "Employee Number                                                            \n",
       "1105                Vinay sai  350000      156     product manager  chennai\n",
       "1106                pravalika  400000      203     cheif Architect  chennai\n",
       "2135                     Hema  360000      321           Marketing  chennai\n",
       "4662                     Hari  412000      453     Digital Officer  chennai\n",
       "5123                     Ajay  360000      512  Back-End developer  chennai"
      ]
     },
     "execution_count": 111,
     "metadata": {},
     "output_type": "execute_result"
    }
   ],
   "source": [
    "DataFrame1"
   ]
  },
  {
   "cell_type": "code",
   "execution_count": 112,
   "id": "80da5a2a",
   "metadata": {},
   "outputs": [
    {
     "data": {
      "image/png": "[encoded data removed]",
      "text/plain": [
       "<Figure size 432x288 with 1 Axes>"
      ]
     },
     "metadata": {
      "needs_background": "light"
     },
     "output_type": "display_data"
    }
   ],
   "source": [
    "# import matplotlib function helpful to draw the plots\n",
    "import matplotlib.pyplot as plt\n",
    "import pandas as pd\n",
    "df = pd.DataFrame(DataFrame1)\n",
    "x = list(df.iloc[:,0])\n",
    "y = list(df.iloc[:,1])\n",
    "plt.title(\"The Salary got by the Employee in each department\",size = 15,color='r')\n",
    "plt.xlabel(\"Name of Employees\",size = 13,color = 'g')\n",
    "plt.ylabel(\"Employee Salary\",size = 13,color = 'm')\n",
    "plt.plot(x,y,'-o',color = 'orange',alpha = 1,mec = 'k')\n",
    "plt.show()"
   ]
  },
  {
   "cell_type": "code",
   "execution_count": 113,
   "id": "eb59e1e7",
   "metadata": {},
   "outputs": [
    {
     "data": {
      "image/png": "[encoded data removed]",
      "text/plain": [
       "<Figure size 432x288 with 1 Axes>"
      ]
     },
     "metadata": {
      "needs_background": "light"
     },
     "output_type": "display_data"
    }
   ],
   "source": [
    "import matplotlib.pyplot as plt\n",
    "import pandas as pd\n",
    "df = pd.DataFrame(DataFrame1)\n",
    "x = list(df.iloc[:,0])\n",
    "y = list(df.iloc[:,1])\n",
    "plt.title(\"The Salary got by the Employee in each department\",size = 15,color='r')\n",
    "plt.xlabel(\"Name of Employees\",size = 13,color = 'g')\n",
    "plt.ylabel(\"Employee Salary\",size = 13,color = 'm')\n",
    "plt.bar(x,y,color = 'b',alpha = 0.6,width = 0.5)\n",
    "plt.grid(axis = 'y',ls = '--',c ='r')\n",
    "plt.show()"
   ]
  },
  {
   "cell_type": "markdown",
   "id": "c1eca32c",
   "metadata": {},
   "source": [
    "## or"
   ]
  },
  {
   "cell_type": "code",
   "execution_count": 114,
   "id": "49458056",
   "metadata": {},
   "outputs": [
    {
     "data": {
      "text/plain": [
       "<AxesSubplot:xlabel='Employee Number'>"
      ]
     },
     "execution_count": 114,
     "metadata": {},
     "output_type": "execute_result"
    },
    {
     "data": {
      "image/png": "[encoded data removed]",
      "text/plain": [
       "<Figure size 432x288 with 1 Axes>"
      ]
     },
     "metadata": {
      "needs_background": "light"
     },
     "output_type": "display_data"
    }
   ],
   "source": [
    "DataFrame1.plot()"
   ]
  },
  {
   "cell_type": "code",
   "execution_count": 115,
   "id": "b63368b2",
   "metadata": {},
   "outputs": [
    {
     "data": {
      "text/plain": [
       "<AxesSubplot:xlabel='Employee Number'>"
      ]
     },
     "execution_count": 115,
     "metadata": {},
     "output_type": "execute_result"
    },
    {
     "data": {
      "image/png": "[encoded data removed]",
      "text/plain": [
       "<Figure size 432x288 with 1 Axes>"
      ]
     },
     "metadata": {
      "needs_background": "light"
     },
     "output_type": "display_data"
    }
   ],
   "source": [
    "DataFrame1.plot.bar()"
   ]
  },
  {
   "cell_type": "markdown",
   "id": "ebee4133",
   "metadata": {},
   "source": [
    "### $DataFrame3$   line graph and bar chart to visualize"
   ]
  },
  {
   "cell_type": "code",
   "execution_count": 116,
   "id": "901425cf",
   "metadata": {},
   "outputs": [
    {
     "data": {
      "text/html": [
       "<div>\n",
       "<style scoped>\n",
       "    .dataframe tbody tr th:only-of-type {\n",
       "        vertical-align: middle;\n",
       "    }\n",
       "\n",
       "    .dataframe tbody tr th {\n",
       "        vertical-align: top;\n",
       "    }\n",
       "\n",
       "    .dataframe thead th {\n",
       "        text-align: right;\n",
       "    }\n",
       "</style>\n",
       "<table border=\"1\" class=\"dataframe\">\n",
       "  <thead>\n",
       "    <tr style=\"text-align: right;\">\n",
       "      <th></th>\n",
       "      <th>salesman name</th>\n",
       "      <th>region1</th>\n",
       "      <th>region2</th>\n",
       "      <th>region3</th>\n",
       "    </tr>\n",
       "  </thead>\n",
       "  <tbody>\n",
       "    <tr>\n",
       "      <th>0</th>\n",
       "      <td>Dinesh</td>\n",
       "      <td>7800</td>\n",
       "      <td>6500.0</td>\n",
       "      <td>4590.0</td>\n",
       "    </tr>\n",
       "    <tr>\n",
       "      <th>1</th>\n",
       "      <td>Mahesh</td>\n",
       "      <td>8900</td>\n",
       "      <td>NaN</td>\n",
       "      <td>3790.0</td>\n",
       "    </tr>\n",
       "    <tr>\n",
       "      <th>2</th>\n",
       "      <td>Ramesh</td>\n",
       "      <td>10800</td>\n",
       "      <td>2300.0</td>\n",
       "      <td>NaN</td>\n",
       "    </tr>\n",
       "    <tr>\n",
       "      <th>3</th>\n",
       "      <td>Suresh</td>\n",
       "      <td>5600</td>\n",
       "      <td>6790.0</td>\n",
       "      <td>2300.0</td>\n",
       "    </tr>\n",
       "    <tr>\n",
       "      <th>4</th>\n",
       "      <td>Basha</td>\n",
       "      <td>7600</td>\n",
       "      <td>2300.0</td>\n",
       "      <td>2400.0</td>\n",
       "    </tr>\n",
       "  </tbody>\n",
       "</table>\n",
       "</div>"
      ],
      "text/plain": [
       "  salesman name  region1  region2  region3\n",
       "0        Dinesh     7800   6500.0   4590.0\n",
       "1        Mahesh     8900      NaN   3790.0\n",
       "2        Ramesh    10800   2300.0      NaN\n",
       "3        Suresh     5600   6790.0   2300.0\n",
       "4         Basha     7600   2300.0   2400.0"
      ]
     },
     "execution_count": 116,
     "metadata": {},
     "output_type": "execute_result"
    }
   ],
   "source": [
    "DataFrame3"
   ]
  },
  {
   "cell_type": "code",
   "execution_count": 117,
   "id": "8b25fae5",
   "metadata": {},
   "outputs": [
    {
     "data": {
      "image/png": "[encoded data removed]",
      "text/plain": [
       "<Figure size 432x288 with 1 Axes>"
      ]
     },
     "metadata": {
      "needs_background": "light"
     },
     "output_type": "display_data"
    }
   ],
   "source": [
    "import matplotlib.pyplot as plt\n",
    "import pandas as pd\n",
    "df = pd.DataFrame(DataFrame3)\n",
    "x1 = list(df.iloc[:,0])\n",
    "y1 = list(df.iloc[:,1])\n",
    "x2 = list(df.iloc[:,0])\n",
    "y2 = list(df.iloc[:,2])\n",
    "x3 = list(df.iloc[:,0])\n",
    "y3 = list(df.iloc[:,3])\n",
    "plt.plot(x1,y1,label = 'region1')\n",
    "plt.plot(x2,y2,label = 'region2')\n",
    "plt.plot(x3,y3,label = 'region3')\n",
    "plt.title(\"Salesman sales in the region\",color = 'r',size =15)\n",
    "plt.xlabel(\"Salesman Names\",color = 'b',size = 13)\n",
    "plt.ylabel(\"Number of sales in 3 region\",color = 'g',size =13)\n",
    "plt.legend(title = 'Region')\n",
    "plt.show()"
   ]
  },
  {
   "cell_type": "code",
   "execution_count": 118,
   "id": "05e353da",
   "metadata": {},
   "outputs": [
    {
     "data": {
      "text/plain": [
       "<AxesSubplot:xlabel='salesman name'>"
      ]
     },
     "execution_count": 118,
     "metadata": {},
     "output_type": "execute_result"
    },
    {
     "data": {
      "image/png": "[encoded data removed]",
      "text/plain": [
       "<Figure size 432x288 with 1 Axes>"
      ]
     },
     "metadata": {
      "needs_background": "light"
     },
     "output_type": "display_data"
    }
   ],
   "source": [
    "import pandas as pd\n",
    "DataFrame3_visu = pd.DataFrame(DataFrame3.groupby([\"salesman name\"]).max())\n",
    "DataFrame3_visu.plot.bar()"
   ]
  },
  {
   "cell_type": "markdown",
   "id": "28e2fd7c",
   "metadata": {},
   "source": [
    "## or"
   ]
  },
  {
   "cell_type": "code",
   "execution_count": 119,
   "id": "43c56954",
   "metadata": {},
   "outputs": [
    {
     "data": {
      "text/plain": [
       "<AxesSubplot:>"
      ]
     },
     "execution_count": 119,
     "metadata": {},
     "output_type": "execute_result"
    },
    {
     "data": {
      "image/png": "[encoded data removed]",
      "text/plain": [
       "<Figure size 432x288 with 1 Axes>"
      ]
     },
     "metadata": {
      "needs_background": "light"
     },
     "output_type": "display_data"
    }
   ],
   "source": [
    "DataFrame3.plot()"
   ]
  },
  {
   "cell_type": "code",
   "execution_count": 120,
   "id": "792155a6",
   "metadata": {},
   "outputs": [
    {
     "data": {
      "image/png": "[encoded data removed]",
      "text/plain": [
       "<Figure size 432x288 with 1 Axes>"
      ]
     },
     "metadata": {
      "needs_background": "light"
     },
     "output_type": "display_data"
    }
   ],
   "source": [
    "import matplotlib.pyplot as plt\n",
    "import pandas as pd\n",
    "df = pd.DataFrame(DataFrame3)\n",
    "x1 = list(df.iloc[:,0])\n",
    "y1 = list(df.iloc[:,1])\n",
    "x2 = list(df.iloc[:,0])\n",
    "y2 = list(df.iloc[:,2])\n",
    "x3 = list(df.iloc[:,0])\n",
    "y3 = list(df.iloc[:,3])\n",
    "plt.bar(x1,y1,label = 'region1')\n",
    "plt.bar(x2,y2,label = 'region2')\n",
    "plt.bar(x3,y3,label = 'region3')\n",
    "plt.title(\"Salesman sales in the region\",color = 'r',size =15)\n",
    "plt.xlabel(\"Salesman Names\",color = 'b',size = 13)\n",
    "plt.ylabel(\"Number of sales in 3 region\",color = 'g',size =13)\n",
    "plt.legend(title = 'Region')\n",
    "plt.show()"
   ]
  }
 ],
 "metadata": {
  "kernelspec": {
   "display_name": "Python 3 (ipykernel)",
   "language": "python",
   "name": "python3"
  },
  "language_info": {
   "codemirror_mode": {
    "name": "ipython",
    "version": 3
   },
   "file_extension": ".py",
   "mimetype": "text/x-python",
   "name": "python",
   "nbconvert_exporter": "python",
   "pygments_lexer": "ipython3",
   "version": "3.9.7"
  }
 },
 "nbformat": 4,
 "nbformat_minor": 5
}
