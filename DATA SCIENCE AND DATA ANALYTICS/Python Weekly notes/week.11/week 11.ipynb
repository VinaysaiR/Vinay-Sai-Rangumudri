{
 "cells": [
  {
   "cell_type": "markdown",
   "id": "3c314cce",
   "metadata": {},
   "source": [
    "## Tkinter GUI Applications"
   ]
  },
  {
   "cell_type": "code",
   "execution_count": 2,
   "id": "34f5fe34",
   "metadata": {},
   "outputs": [],
   "source": [
    "import tkinter\n",
    "m = tkinter.Tk()\n",
    "'''\n",
    "widgets are added here. widgets means button or checkbox etc..\n",
    "'''\n",
    "m.mainloop()"
   ]
  },
  {
   "cell_type": "markdown",
   "id": "d282945b",
   "metadata": {},
   "source": [
    "Create a Execute Button"
   ]
  },
  {
   "cell_type": "code",
   "execution_count": 4,
   "id": "820c18ec",
   "metadata": {},
   "outputs": [],
   "source": [
    "from tkinter import *\n",
    "window = Tk()\n",
    "b1 = Button(window,text = \"Execute\")\n",
    "b1.grid()\n",
    "window.mainloop()"
   ]
  },
  {
   "cell_type": "code",
   "execution_count": 5,
   "id": "d7fbb4c4",
   "metadata": {},
   "outputs": [],
   "source": [
    "from tkinter import *\n",
    "window = Tk()\n",
    "b1 = Button(window,text = \"Execute\")\n",
    "b1.grid(row = 0, column = 0)\n",
    "window.mainloop()"
   ]
  },
  {
   "cell_type": "code",
   "execution_count": 2,
   "id": "79af6a80",
   "metadata": {},
   "outputs": [],
   "source": [
    "from tkinter import *\n",
    "window = Tk()\n",
    "b1 = Button(window,text = \"Execute\")\n",
    "b1.grid(row = 2,column = 2)\n",
    "window.mainloop()"
   ]
  },
  {
   "cell_type": "code",
   "execution_count": null,
   "id": "00e28e83",
   "metadata": {},
   "outputs": [],
   "source": []
  },
  {
   "cell_type": "code",
   "execution_count": 6,
   "id": "a038a234",
   "metadata": {},
   "outputs": [
    {
     "ename": "SyntaxError",
     "evalue": "invalid syntax (Temp/ipykernel_38680/1720358394.py, line 1)",
     "output_type": "error",
     "traceback": [
      "\u001b[1;36m  File \u001b[1;32m\"C:\\Users\\SANJEE~1\\AppData\\Local\\Temp/ipykernel_38680/1720358394.py\"\u001b[1;36m, line \u001b[1;32m1\u001b[0m\n\u001b[1;33m    there are three methods to pack the widget.\u001b[0m\n\u001b[1;37m          ^\u001b[0m\n\u001b[1;31mSyntaxError\u001b[0m\u001b[1;31m:\u001b[0m invalid syntax\n"
     ]
    }
   ],
   "source": [
    "there are three methods to pack the widget.\n",
    "pack()\n",
    "place()\n",
    "grid()\n",
    "\n",
    "The widgets:\n",
    "\n",
    "1. Button"
   ]
  },
  {
   "cell_type": "code",
   "execution_count": 12,
   "id": "f109264e",
   "metadata": {},
   "outputs": [
    {
     "ename": "NameError",
     "evalue": "name 'value' is not defined",
     "output_type": "error",
     "traceback": [
      "\u001b[1;31m---------------------------------------------------------------------------\u001b[0m",
      "\u001b[1;31mNameError\u001b[0m                                 Traceback (most recent call last)",
      "\u001b[1;32mC:\\Users\\SANJEE~1\\AppData\\Local\\Temp/ipykernel_26144/1563826443.py\u001b[0m in \u001b[0;36m<module>\u001b[1;34m\u001b[0m\n\u001b[0;32m      1\u001b[0m \u001b[1;32mimport\u001b[0m \u001b[0mtkinter\u001b[0m \u001b[1;32mas\u001b[0m \u001b[0mtk\u001b[0m\u001b[1;33m\u001b[0m\u001b[1;33m\u001b[0m\u001b[0m\n\u001b[0;32m      2\u001b[0m \u001b[0mwindows\u001b[0m \u001b[1;33m=\u001b[0m \u001b[0mtk\u001b[0m\u001b[1;33m.\u001b[0m\u001b[0mTk\u001b[0m\u001b[1;33m(\u001b[0m\u001b[1;33m)\u001b[0m\u001b[1;33m\u001b[0m\u001b[1;33m\u001b[0m\u001b[0m\n\u001b[1;32m----> 3\u001b[1;33m \u001b[0mwidget\u001b[0m \u001b[1;33m=\u001b[0m \u001b[0mButton\u001b[0m\u001b[1;33m(\u001b[0m\u001b[0mmaster\u001b[0m\u001b[1;33m,\u001b[0m \u001b[0moption\u001b[0m \u001b[1;33m=\u001b[0m \u001b[0mvalue\u001b[0m\u001b[1;33m)\u001b[0m\u001b[1;33m\u001b[0m\u001b[1;33m\u001b[0m\u001b[0m\n\u001b[0m\u001b[0;32m      4\u001b[0m \u001b[0mwidget\u001b[0m\u001b[1;33m.\u001b[0m\u001b[0mpack\u001b[0m\u001b[1;33m(\u001b[0m\u001b[1;33m)\u001b[0m\u001b[1;33m\u001b[0m\u001b[1;33m\u001b[0m\u001b[0m\n\u001b[0;32m      5\u001b[0m \u001b[0mwindow\u001b[0m\u001b[1;33m.\u001b[0m\u001b[0mmainloop\u001b[0m\u001b[1;33m(\u001b[0m\u001b[1;33m)\u001b[0m\u001b[1;33m\u001b[0m\u001b[1;33m\u001b[0m\u001b[0m\n",
      "\u001b[1;31mNameError\u001b[0m: name 'value' is not defined"
     ]
    }
   ],
   "source": [
    "import tkinter as tk\n",
    "windows = tk.Tk()\n",
    "widget = Button(master, option = value)\n",
    "widget.pack()\n",
    "window.mainloop()"
   ]
  },
  {
   "cell_type": "code",
   "execution_count": null,
   "id": "1f95d7b5",
   "metadata": {},
   "outputs": [],
   "source": [
    "import tkinter as tk\n",
    "windows = tk.Tk()\n",
    "windows.title('Some title')\n",
    "button = tk.Button(r, text='Stop', width=25, command=r.destroy)\n",
    "button.pack()\n",
    "window.mainloop()"
   ]
  },
  {
   "cell_type": "code",
   "execution_count": 15,
   "id": "787bb89c",
   "metadata": {},
   "outputs": [
    {
     "ename": "NameError",
     "evalue": "name 'r' is not defined",
     "output_type": "error",
     "traceback": [
      "\u001b[1;31m---------------------------------------------------------------------------\u001b[0m",
      "\u001b[1;31mNameError\u001b[0m                                 Traceback (most recent call last)",
      "\u001b[1;32mC:\\Users\\SANJEE~1\\AppData\\Local\\Temp/ipykernel_38680/3967231233.py\u001b[0m in \u001b[0;36m<module>\u001b[1;34m\u001b[0m\n\u001b[0;32m      2\u001b[0m \u001b[0mwindows\u001b[0m \u001b[1;33m=\u001b[0m \u001b[0mtk\u001b[0m\u001b[1;33m.\u001b[0m\u001b[0mTk\u001b[0m\u001b[1;33m(\u001b[0m\u001b[1;33m)\u001b[0m\u001b[1;33m\u001b[0m\u001b[1;33m\u001b[0m\u001b[0m\n\u001b[0;32m      3\u001b[0m \u001b[0mwindows\u001b[0m\u001b[1;33m.\u001b[0m\u001b[0mtitle\u001b[0m\u001b[1;33m(\u001b[0m\u001b[1;34m'Some title'\u001b[0m\u001b[1;33m)\u001b[0m\u001b[1;33m\u001b[0m\u001b[1;33m\u001b[0m\u001b[0m\n\u001b[1;32m----> 4\u001b[1;33m \u001b[0mbutton\u001b[0m \u001b[1;33m=\u001b[0m \u001b[0mtk\u001b[0m\u001b[1;33m.\u001b[0m\u001b[0mButton\u001b[0m\u001b[1;33m(\u001b[0m\u001b[0mr\u001b[0m\u001b[1;33m,\u001b[0m\u001b[0mtext\u001b[0m \u001b[1;33m=\u001b[0m \u001b[1;34m'Stop'\u001b[0m\u001b[1;33m,\u001b[0m \u001b[0mwidth\u001b[0m \u001b[1;33m=\u001b[0m \u001b[1;36m25\u001b[0m\u001b[1;33m,\u001b[0m \u001b[0mcommand\u001b[0m \u001b[1;33m=\u001b[0m \u001b[0mr\u001b[0m\u001b[1;33m.\u001b[0m\u001b[0mdestroy\u001b[0m\u001b[1;33m)\u001b[0m\u001b[1;33m\u001b[0m\u001b[1;33m\u001b[0m\u001b[0m\n\u001b[0m\u001b[0;32m      5\u001b[0m \u001b[0mbutton\u001b[0m\u001b[1;33m.\u001b[0m\u001b[0mpack\u001b[0m\u001b[1;33m(\u001b[0m\u001b[1;33m)\u001b[0m\u001b[1;33m\u001b[0m\u001b[1;33m\u001b[0m\u001b[0m\n\u001b[0;32m      6\u001b[0m \u001b[0mwindow\u001b[0m\u001b[1;33m.\u001b[0m\u001b[0mmainloop\u001b[0m\u001b[1;33m(\u001b[0m\u001b[1;33m)\u001b[0m\u001b[1;33m\u001b[0m\u001b[1;33m\u001b[0m\u001b[0m\n",
      "\u001b[1;31mNameError\u001b[0m: name 'r' is not defined"
     ]
    }
   ],
   "source": [
    "import tkinter as tk\n",
    "windows = tk.Tk()\n",
    "windows.title('Some title')\n",
    "button = tk.Button(r,text = 'Stop', width = 25, command = r.destroy)\n",
    "button.pack()\n",
    "window.mainloop()"
   ]
  },
  {
   "cell_type": "code",
   "execution_count": null,
   "id": "602959ae",
   "metadata": {},
   "outputs": [],
   "source": [
    "there are three methods to pack the widget.\n",
    "pack()\n",
    "place()\n",
    "grid()\n",
    "\n",
    "The widgets:\n",
    "\n",
    "1. Button\n",
    "widget = Button(master, option = value)\n",
    "widget.pack()"
   ]
  },
  {
   "cell_type": "markdown",
   "id": "d699f993",
   "metadata": {},
   "source": [
    "2. Canvas ( mainly used for drawing pictures or comples structures)\n",
    "The options that can be set are\n",
    "bd: to set the border width in pixels.\n",
    "bg: to set the normal background color.\n",
    "cursor: to set the cursor used in the canvas.\n",
    "highlightcolor: to set the color shown in the focus highlight.\n",
    "width: to set the width of the widget.\n",
    "height: to set the height of the widget."
   ]
  },
  {
   "cell_type": "code",
   "execution_count": 18,
   "id": "a3fc508c",
   "metadata": {},
   "outputs": [],
   "source": [
    "from tkinter import *\n",
    "windows = Tk()\n",
    "widget = Canvas(windows, width=40, height=60)\n",
    "widget.pack()\n",
    "canvas_height=20\n",
    "canvas_width=200\n",
    "y = int(canvas_height / 2)\n",
    "widget.create_line(0, y, canvas_width, y )\n",
    "mainloop()"
   ]
  },
  {
   "cell_type": "markdown",
   "id": "87a66c17",
   "metadata": {},
   "source": [
    "3. CheckButton is for selecting options\n",
    "Most commonly used options in check button are\n",
    "Title: To set the title of the widget.\n",
    "activebackground: to set the background color when widget is under the cursor.\n",
    "activeforeground: to set the foreground color when widget is under the cursor.\n",
    "bg: to set he normal background Steganography\n",
    "command: to call a function.\n",
    "font: to set the font on the button label.\n",
    "image: to set the image on the widget.\n",
    "Here grid method is used to pack the widget."
   ]
  },
  {
   "cell_type": "code",
   "execution_count": 20,
   "id": "43c2c849",
   "metadata": {},
   "outputs": [],
   "source": [
    "from tkinter import *\n",
    "window = Tk()\n",
    "var1 = IntVar()\n",
    "Checkbutton(window, text='male', variable=var1).grid(row=0, sticky=W)\n",
    "var2 = IntVar()\n",
    "Checkbutton(window, text='female', variable=var2).grid(row=1, sticky=W)\n",
    "mainloop()"
   ]
  },
  {
   "cell_type": "markdown",
   "id": "1a158dbb",
   "metadata": {},
   "source": [
    "4. Entry is to get text data from the user.\n",
    "bd: to set the border width in pixels.\n",
    "bg: to set the normal background color.\n",
    "cursor: to set the cursor used.\n",
    "command: to call a function.\n",
    "highlightcolor: to set the color shown in the focus highlight.\n",
    "width: to set the width of the button.\n",
    "height: to set the height of the button."
   ]
  },
  {
   "cell_type": "code",
   "execution_count": 21,
   "id": "156df872",
   "metadata": {},
   "outputs": [],
   "source": [
    "from tkinter import *\n",
    "window = Tk()\n",
    "Label(window, text='First Name').grid(row=0)\n",
    "Label(window, text='Last Name').grid(row=1)\n",
    "e1 = Entry(window)\n",
    "e2 = Entry(window)\n",
    "e1.grid(row=0, column=1)\n",
    "e2.grid(row=1, column=1)\n",
    "mainloop()"
   ]
  },
  {
   "cell_type": "markdown",
   "id": "3d17b75c",
   "metadata": {},
   "source": [
    "5. Frame holds all the widgets together\n",
    "The options used in this are listed below\n",
    "highlightcolor: To set the color of the focus highlight when widget has to be focused.\n",
    "bd: to set the border width in pixels.\n",
    "bg: to set the normal background color.\n",
    "cursor: to set the cursor used.\n",
    "width: to set the width of the widget.\n",
    "height: to set the height of the widget"
   ]
  },
  {
   "cell_type": "code",
   "execution_count": 22,
   "id": "5b5ca50d",
   "metadata": {},
   "outputs": [],
   "source": [
    "from tkinter import *\n",
    " \n",
    "root = Tk()\n",
    "frame = Frame(root)\n",
    "frame.pack()\n",
    "bottomframe = Frame(root)\n",
    "bottomframe.pack( side = BOTTOM )\n",
    "redbutton = Button(frame, text = 'Red', fg ='red')\n",
    "redbutton.pack( side = LEFT)\n",
    "greenbutton = Button(frame, text = 'Brown', fg='brown')\n",
    "greenbutton.pack( side = LEFT )\n",
    "bluebutton = Button(frame, text ='Blue', fg ='blue')\n",
    "bluebutton.pack( side = LEFT )\n",
    "blackbutton = Button(bottomframe, text ='Black', fg ='black')\n",
    "blackbutton.pack( side = BOTTOM)\n",
    "root.mainloop()"
   ]
  },
  {
   "cell_type": "markdown",
   "id": "8a9335cb",
   "metadata": {},
   "source": [
    "6. Label feature allows u to name the button\n",
    "bg: to set he normal background color.\n",
    "bg to set he normal background color.\n",
    "command: to call a function.\n",
    "font: to set the font on the button label.\n",
    "image: to set the image on the button.\n",
    "width: to set the width of the button.\n",
    "height” to set the height of the button."
   ]
  },
  {
   "cell_type": "code",
   "execution_count": 23,
   "id": "cb1658f3",
   "metadata": {},
   "outputs": [],
   "source": [
    "from tkinter import *\n",
    "root = Tk()\n",
    "w = Label(root, text='Skill-Lync')\n",
    "w.pack()\n",
    "root.mainloop()"
   ]
  },
  {
   "cell_type": "markdown",
   "id": "6aefb371",
   "metadata": {},
   "source": [
    "7. List box gives you a the options that are available\n",
    "These are the various option"
   ]
  },
  {
   "cell_type": "code",
   "execution_count": 24,
   "id": "aaa99120",
   "metadata": {},
   "outputs": [],
   "source": [
    "from tkinter import *\n",
    " \n",
    "root= Tk()\n",
    "Lb = Listbox(root)\n",
    "Lb.insert(1, 'Python')\n",
    "Lb.insert(2, 'Java')\n",
    "Lb.insert(3, 'C++')\n",
    "Lb.insert(4, 'Any other')\n",
    "Lb.pack()\n",
    "root.mainloop()"
   ]
  },
  {
   "cell_type": "markdown",
   "id": "673ae096",
   "metadata": {},
   "source": [
    "8. Menu Button (top down menu list that gives the content)\n",
    "activebackground: To set the background when mouse is over the widget.\n",
    "activeforeground: To set the foreground when mouse is over the widget.\n",
    "bg: to set he normal background color.\n",
    "bd: to set the size of border around the indicator.\n",
    "cursor: To appear the cursor when the mouse over the menubutton.\n",
    "image: to set the image on the widget.\n",
    "width: to set the width of the widget.\n",
    "height: to set the height of the widget.\n",
    "highlightcolor: To set the color of the focus highlight when widget has to be focused"
   ]
  },
  {
   "cell_type": "code",
   "execution_count": 25,
   "id": "7e3c686c",
   "metadata": {},
   "outputs": [],
   "source": [
    "from tkinter import *\n",
    "root = Tk()\n",
    "mb = Menubutton ( root, text = \"Apple\")\n",
    "mb.grid()\n",
    "mb.menu = Menu ( mb, tearoff = 0 )\n",
    "mb[\"menu\"] = mb.menu\n",
    "cVar = IntVar()\n",
    "aVar = IntVar()\n",
    "mb.menu.add_checkbutton ( label ='Contact', variable = cVar )\n",
    "mb.menu.add_checkbutton ( label = 'About', variable = aVar )\n",
    "mb.pack()\n",
    "root.mainloop()"
   ]
  },
  {
   "cell_type": "markdown",
   "id": "bfcbb1fc",
   "metadata": {},
   "source": [
    "9. Menu\n",
    "Possible options\n",
    "title: To set the title of the widget.\n",
    "activebackground: to set the background color when widget is under the cursor.\n",
    "activeforeground: to set the foreground color when widget is under the cursor.\n",
    "bg: to set he normal background color.\n",
    "command: to call a function.\n",
    "font: to set the font on the button label.\n",
    "image: to set the image on the widget."
   ]
  },
  {
   "cell_type": "code",
   "execution_count": 1,
   "id": "c6168cc7",
   "metadata": {},
   "outputs": [],
   "source": [
    "from tkinter import *\n",
    " \n",
    "root = Tk()\n",
    "menu = Menu(root)\n",
    "root.config(menu=menu)\n",
    "filemenu = Menu(menu)\n",
    "menu.add_cascade(label='File', menu=filemenu)\n",
    "filemenu.add_command(label='New')\n",
    "filemenu.add_command(label='Open...')\n",
    "filemenu.add_separator()\n",
    "filemenu.add_command(label='Exit', command=root.quit)\n",
    "helpmenu = Menu(menu)\n",
    "menu.add_cascade(label='Help', menu=helpmenu)\n",
    "helpmenu.add_command(label='About')\n",
    "mainloop()"
   ]
  },
  {
   "cell_type": "markdown",
   "id": "6fbd515d",
   "metadata": {},
   "source": [
    "10. Message ( for the user to read)\n",
    "options:\n",
    "bd: to set the border around the indicator.\n",
    "bg: to set he normal background color.\n",
    "font: to set the font on the button label.\n",
    "image: to set the image on the widget.\n",
    "width: to set the width of the widget.\n",
    "height: to set the height of the widget."
   ]
  },
  {
   "cell_type": "code",
   "execution_count": 2,
   "id": "62e4d645",
   "metadata": {},
   "outputs": [],
   "source": [
    "from tkinter import *\n",
    "main = Tk()\n",
    "ourMessage ='This is Skill-lync'\n",
    "messageVar = Message(main, text = ourMessage)\n",
    "messageVar.config(bg='lightgreen')\n",
    "messageVar.pack( )\n",
    "main.mainloop( )"
   ]
  },
  {
   "cell_type": "markdown",
   "id": "13f7758b",
   "metadata": {},
   "source": [
    "11. RadioButton ( This is to create MCQ like selections)\n",
    "activebackground: to set the background color when widget is under the cursor.\n",
    "activeforeground: to set the foreground color when widget is under the cursor.\n",
    "bg: to set he normal background color.\n",
    "command: to call a function.\n",
    "font: to set the font on the button label.\n",
    "image: to set the image on the widget.\n",
    "width: to set the width of the label in characters.\n",
    "height: to set the height of the label in characters"
   ]
  },
  {
   "cell_type": "code",
   "execution_count": 4,
   "id": "2976aa72",
   "metadata": {},
   "outputs": [],
   "source": [
    "from tkinter import *\n",
    "root = Tk()\n",
    "v = IntVar()\n",
    "Radiobutton(root, text='GfG', variable=v, value=1).pack(anchor=W)\n",
    "Radiobutton(root, text='MIT', variable=v, value=2).pack(anchor=W)\n",
    "mainloop()"
   ]
  },
  {
   "cell_type": "markdown",
   "id": "22f29026",
   "metadata": {},
   "source": [
    "12. Scale ( graphic slider which can let u select the value)\n",
    "cursor: To change the cursor pattern when the mouse is over the widget.\n",
    "activebackground: To set the background of the widget when mouse is over the widget.\n",
    "bg: to set he normal background color.\n",
    "orient: Set it to HORIZONTAL or VERTICAL according to the requirement.\n",
    "from_: To set the value of one end of the scale range.\n",
    "to: To set the value of the other end of the scale range.\n",
    "image: to set the image on the widget.\n",
    "width: to set the width of the widget."
   ]
  },
  {
   "cell_type": "code",
   "execution_count": 6,
   "id": "744e784b",
   "metadata": {},
   "outputs": [],
   "source": [
    "from tkinter import *\n",
    "root = Tk()\n",
    "w = Scale(root, from_=0, to=200)\n",
    "w.pack()\n",
    "w = Scale(root, from_=0, to=200, orient=HORIZONTAL)\n",
    "w.pack()\n",
    "mainloop()"
   ]
  },
  {
   "cell_type": "markdown",
   "id": "56ee0d59",
   "metadata": {},
   "source": [
    "13. Scrollbar\n",
    "width: to set the width of the widget.\n",
    "activebackground: To set the background when mouse is over the widget.\n",
    "bg: to set he normal background color.\n",
    "bd: to set the size of border around the indicator.\n",
    "cursor: To appear the cursor when the mouse over the menubutton."
   ]
  },
  {
   "cell_type": "code",
   "execution_count": 7,
   "id": "192801ee",
   "metadata": {},
   "outputs": [],
   "source": [
    "from tkinter import *\n",
    "root = Tk()\n",
    "scrollbar = Scrollbar(root)\n",
    "scrollbar.pack( side = RIGHT, fill = Y )\n",
    "mylist = Listbox(root, yscrollcommand = scrollbar.set )\n",
    "for line in range(100):\n",
    "    mylist.insert(END, 'This is line number' + str(line))\n",
    "mylist.pack( side = LEFT, fill = BOTH )\n",
    "scrollbar.config( command = mylist.yview )\n",
    "mainloop()"
   ]
  },
  {
   "cell_type": "markdown",
   "id": "53597ffb",
   "metadata": {},
   "source": [
    "14. Text\n",
    "options\n",
    "highlightcolor: To set the color of the focus highlight when widget has to be focused.\n",
    "insertbackground: To set the background of the widget.\n",
    "bg: to set he normal background color.\n",
    "font: to set the font on the button label.\n",
    "image: to set the image on the widget.\n",
    "width: to set the width of the widget.\n",
    "height: to set the height of the widget."
   ]
  },
  {
   "cell_type": "code",
   "execution_count": 8,
   "id": "70efb27b",
   "metadata": {},
   "outputs": [],
   "source": [
    "from tkinter import *\n",
    "root = Tk()\n",
    "T = Text(root, height=2, width=30)\n",
    "T.pack()\n",
    "T.insert(END, 'Skill - Lync nBEST WEBSITEn')\n",
    "mainloop()"
   ]
  },
  {
   "cell_type": "markdown",
   "id": "311f8591",
   "metadata": {},
   "source": [
    "15. SpinBox\n",
    "bg: to set he normal background color.\n",
    "bd: to set the size of border around the indicator.\n",
    "cursor: To appear the cursor when the mouse over the menubutton.\n",
    "command: To call a function.\n",
    "width: to set the width of the widget.\n",
    "activebackground: To set the background when mouse is over the widget.\n",
    "disabledbackground: To disable the background when mouse is over the widget.\n",
    "from_: To set the value of one end of the range.\n",
    "to: To set the value of the other end of the range."
   ]
  },
  {
   "cell_type": "code",
   "execution_count": 9,
   "id": "fe2e77ca",
   "metadata": {},
   "outputs": [],
   "source": [
    "from tkinter import *\n",
    "master = Tk()\n",
    "w = Spinbox(master, from_ = 0, to = 10)\n",
    "w.pack()\n",
    "mainloop()"
   ]
  },
  {
   "cell_type": "markdown",
   "id": "9d5f9c10",
   "metadata": {},
   "source": [
    "16. Panned Window\n",
    "bg: to set he normal background color.\n",
    "bd: to set the size of border around the indicator.\n",
    "cursor: To appear the cursor when the mouse over the menubutton.\n",
    "width: to set the width of the widget.\n",
    "height: to set the height of the widget."
   ]
  },
  {
   "cell_type": "code",
   "execution_count": 10,
   "id": "b7191b44",
   "metadata": {},
   "outputs": [],
   "source": [
    "from tkinter import *\n",
    "m1 = PanedWindow()\n",
    "m1.pack(fill = BOTH, expand = 1)\n",
    "left = Entry(m1, bd = 5)\n",
    "m1.add(left)\n",
    "m2 = PanedWindow(m1, orient = VERTICAL)\n",
    "m1.add(m2)\n",
    "top = Scale( m2, orient = HORIZONTAL)\n",
    "m2.add(top)\n",
    "mainloop()"
   ]
  },
  {
   "cell_type": "code",
   "execution_count": null,
   "id": "c5bda235",
   "metadata": {},
   "outputs": [],
   "source": []
  }
 ],
 "metadata": {
  "kernelspec": {
   "display_name": "Python 3 (ipykernel)",
   "language": "python",
   "name": "python3"
  },
  "language_info": {
   "codemirror_mode": {
    "name": "ipython",
    "version": 3
   },
   "file_extension": ".py",
   "mimetype": "text/x-python",
   "name": "python",
   "nbconvert_exporter": "python",
   "pygments_lexer": "ipython3",
   "version": "3.9.7"
  }
 },
 "nbformat": 4,
 "nbformat_minor": 5
}
