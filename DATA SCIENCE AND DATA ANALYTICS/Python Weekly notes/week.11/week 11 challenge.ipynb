{
 "cells": [
  {
   "cell_type": "markdown",
   "id": "2a6e328c",
   "metadata": {},
   "source": [
    "### Question No .1 : Create a simple tkinter application to display a welcome message in a window using the label widget."
   ]
  },
  {
   "cell_type": "code",
   "execution_count": 1,
   "id": "f7ac3d6d",
   "metadata": {},
   "outputs": [],
   "source": [
    "from tkinter import *\n",
    "window=Tk()\n",
    "Label(window,text='Welcome').pack()\n",
    "window.geometry(\"150x150\")\n",
    "window.mainloop()"
   ]
  },
  {
   "cell_type": "markdown",
   "id": "a4213f2c",
   "metadata": {},
   "source": [
    "### Question No . 2 : Create tkinter application to accept user name in a text widget. Then display the user name with a welcome message in a label widget"
   ]
  },
  {
   "cell_type": "code",
   "execution_count": 2,
   "id": "65099a9f",
   "metadata": {},
   "outputs": [
    {
     "name": "stdout",
     "output_type": "stream",
     "text": [
      "Successfully Printed\n"
     ]
    }
   ],
   "source": [
    "from tkinter import *\n",
    "def message():\n",
    "    string = \"Welcome \" + str(t.get(1.0,'end-1c'))\n",
    "    label.config(text = string)\n",
    "    print('Successfully Printed')   \n",
    "window = Tk()\n",
    "t = Text(window,height=5,width=20)\n",
    "t.pack() \n",
    "label= Label(window)\n",
    "label.pack()\n",
    "b = Button(window,text='Click',bg = 'skyblue',command=message)\n",
    "b.pack()\n",
    "window.mainloop()"
   ]
  },
  {
   "cell_type": "markdown",
   "id": "6bce40d9",
   "metadata": {},
   "source": [
    "### Question No . 3 : Modify the tkinter application developed in Q.No. 2 so that it uses a grid layout"
   ]
  },
  {
   "cell_type": "code",
   "execution_count": 3,
   "id": "e060615e",
   "metadata": {},
   "outputs": [
    {
     "name": "stdout",
     "output_type": "stream",
     "text": [
      "Successfully Printed\n"
     ]
    }
   ],
   "source": [
    "from tkinter import *\n",
    "\n",
    "def message():\n",
    "    string ='Welcome ' + str(t.get(1.0,'end-1c'))\n",
    "    label.config(text = string)\n",
    "    print('Successfully Printed')\n",
    "window = Tk()\n",
    "\n",
    "t = Text(window,height=2,width=20)\n",
    "t.grid(row=0,column=0)\n",
    "\n",
    "b = Button(window,text='Click',bg ='pink',command=message)\n",
    "b.grid(row=0,column=1)\n",
    "\n",
    "label = Label(window,text=' ')\n",
    "label.grid(row=1,column=0)\n",
    "\n",
    "window.mainloop()"
   ]
  },
  {
   "cell_type": "markdown",
   "id": "1729f090",
   "metadata": {},
   "source": [
    "### Question No. 4 : Create a tkinter application to accept radius of a circle and display the area."
   ]
  },
  {
   "cell_type": "code",
   "execution_count": 4,
   "id": "df25877e",
   "metadata": {},
   "outputs": [
    {
     "name": "stdout",
     "output_type": "stream",
     "text": [
      "Successfully Executed\n"
     ]
    }
   ],
   "source": [
    "from tkinter import *\n",
    "\n",
    "def area():\n",
    "    radius = float(e_val.get())\n",
    "    Area = 3.14*(radius**2)\n",
    "    t.delete('1.0',END)\n",
    "    t.insert(END,Area)\n",
    "    print(\"Successfully Executed\")\n",
    "    \n",
    "window = Tk()\n",
    "\n",
    "l1 = Label(window,text=\"Enter the Radius of  Circle \")\n",
    "l1.grid(row=0,column=0)\n",
    "\n",
    "e_val = StringVar()\n",
    "\n",
    "e = Entry(window,textvariable=e_val)\n",
    "e.grid(row=0,column=1)\n",
    "\n",
    "l2 = Label(window,text=\"Area of the circle is \")\n",
    "l2.grid(row=1,column=0)\n",
    "\n",
    "t = Text(window,height=1,width=20)\n",
    "t.grid(row=1,column=1)\n",
    "\n",
    "b = Button(window,text=\"Convert\",bg = 'yellow',command = area)\n",
    "b.grid(row=2,column=1)\n",
    "\n",
    "window.mainloop()"
   ]
  },
  {
   "cell_type": "markdown",
   "id": "b19629ec",
   "metadata": {},
   "source": [
    "### Question No . 5 : Create a tkinter application to accept temperature in Celsius and convert and display the temperature in Fahrenheit."
   ]
  },
  {
   "cell_type": "code",
   "execution_count": 5,
   "id": "18c88490",
   "metadata": {},
   "outputs": [
    {
     "name": "stdout",
     "output_type": "stream",
     "text": [
      "Successfully Executed\n"
     ]
    }
   ],
   "source": [
    "window = Tk()\n",
    "\n",
    "def Temp():\n",
    "    fehrenheit = float(e1_val.get()) * 9/5 + 32,\"(F)\"\n",
    "    t1.delete(\"1.0\",END)\n",
    "    t1.insert(END,fehrenheit)\n",
    "    print('Successfully Executed')\n",
    "    \n",
    "l1 = Label(window,text=\"Enter temperature in celcius (C) : \")\n",
    "l1.grid(row=0,column=0)\n",
    "\n",
    "e1_val = StringVar()\n",
    "\n",
    "e1 = Entry(window,textvariable=e1_val)\n",
    "e1.grid(row=0,column=1)\n",
    "\n",
    "l2 = Label(window,text=\"Temperature in fehrenheit : \")\n",
    "l2.grid(row=1,column=0)\n",
    "\n",
    "t1 = Text(window,height=1,width=20)\n",
    "t1.grid(row=1,column=1)\n",
    "\n",
    "b1 = Button(window,text=\"Convert\",bg = 'skyblue',command=Temp)\n",
    "b1.grid(row=2,column=1)\n",
    "\n",
    "window.mainloop()"
   ]
  },
  {
   "cell_type": "markdown",
   "id": "4ea241e0",
   "metadata": {},
   "source": [
    "### Question No . 6 : Create a tkinter application to accept distance in kilometers and convert and display distance in miles."
   ]
  },
  {
   "cell_type": "code",
   "execution_count": 6,
   "id": "e6ccc492",
   "metadata": {},
   "outputs": [
    {
     "name": "stdout",
     "output_type": "stream",
     "text": [
      "Successfully Executed\n"
     ]
    }
   ],
   "source": [
    "from tkinter import *\n",
    "window = Tk()\n",
    "def km_to_miles():\n",
    "    miles = float(e1_val.get())/1.6,'miles'\n",
    "    t1.delete(\"1.0\", END)\n",
    "    t1.insert(END,miles)\n",
    "    print('Successfully Executed')\n",
    "    \n",
    "l1=Label(window,text=\"Distance in Kilometers (KM):\")\n",
    "l1.grid(row=0,column=0)\n",
    "\n",
    "e1_val=StringVar()\n",
    "\n",
    "e1=Entry(window,textvariable=e1_val)\n",
    "e1.grid(row=0,column=1)\n",
    "\n",
    "l2=Label(window,text=\"Distance in miles:\")\n",
    "l2.grid(row=1,column=0)\n",
    "\n",
    "t1=Text(window,height=1,width=20)\n",
    "t1.grid(row=1,column=1)\n",
    "\n",
    "b1=Button(window,text=\"Convert\",bg = 'lightgreen', command=km_to_miles)\n",
    "b1.grid(row=2,column=1)\n",
    "\n",
    "window.mainloop()"
   ]
  },
  {
   "cell_type": "markdown",
   "id": "89a71c48",
   "metadata": {},
   "source": [
    "### Question No . 7 : Create a tkinter application to display a menu with three items. A separate message should be display when each of the three menu items is clicked."
   ]
  },
  {
   "cell_type": "code",
   "execution_count": 7,
   "id": "5451b488",
   "metadata": {},
   "outputs": [],
   "source": [
    "from tkinter import *\n",
    "\n",
    "window=Tk()\n",
    "\n",
    "def option1():\n",
    "    l1 = Label(window,text='File Opened ')\n",
    "    l1.grid(row=0,column=0)\n",
    "def option2():\n",
    "    l1 = Label(window,text='File Saved')\n",
    "    l1.grid(row=1,column=0)\n",
    "def option3():\n",
    "    l1 = Label(window,text='File Called')\n",
    "    l1.grid(row=2,column=0)\n",
    "    \n",
    "menubar=Menu(window)\n",
    "file1=Menu(menubar)\n",
    "file1.add_command(label='Open',command=option1)\n",
    "file1.add_separator()\n",
    "file1.add_command(label='Save',command=option2)\n",
    "file1.add_separator()\n",
    "file1.add_command(label='Call',command=option3)\n",
    "file1.add_separator()\n",
    "file1.add_command(label='EXIT',command=window.destroy)\n",
    "file1.add_separator()\n",
    "menubar.add_cascade(label='File',menu=file1)\n",
    "\n",
    "window.config(menu=menubar)\n",
    "window.geometry('250x250')\n",
    "window.mainloop()"
   ]
  },
  {
   "cell_type": "markdown",
   "id": "8cc8b81e",
   "metadata": {},
   "source": [
    "### Question No . 8 : Create a tkinter application to display a radio button group with three items. A separate message should be display when each of the three radio buttons items is clicked."
   ]
  },
  {
   "cell_type": "code",
   "execution_count": 8,
   "id": "96f5dd2f",
   "metadata": {},
   "outputs": [],
   "source": [
    "from tkinter import *\n",
    "\n",
    "window = Tk()\n",
    "window.title('Display a Train Numbers')\n",
    "\n",
    "def sel():\n",
    "    selection = 'Welcome to indian railway, Train no. '+str(var.get())\n",
    "    label.config(text=selection)\n",
    "    \n",
    "var = IntVar()\n",
    "\n",
    "R1 = Radiobutton(window,text='Vishakapatanam Train no.',variable=var,value= 15324,command=sel)\n",
    "R1.pack() \n",
    "\n",
    "R2 = Radiobutton(window,text='Hyderabad Train no.',variable=var,value=26462,command=sel)\n",
    "R2.pack()\n",
    "\n",
    "R3 = Radiobutton(window,text='Delhi Train no.',variable=var,value=14555,command=sel)\n",
    "R3.pack()\n",
    "\n",
    "label=Label(window)\n",
    "label.pack()\n",
    "window.geometry('250x250')\n",
    "window.mainloop()"
   ]
  },
  {
   "cell_type": "markdown",
   "id": "62e73b17",
   "metadata": {},
   "source": [
    "### Question No . 9 : Create a tkinter application to display three check boxes. A separate message should be display when each of the three check boxes items is selected."
   ]
  },
  {
   "cell_type": "code",
   "execution_count": 9,
   "id": "95484bb2",
   "metadata": {},
   "outputs": [],
   "source": [
    "from tkinter import *\n",
    "window=Tk()\n",
    "window.title('Display 3 Checkboxes')\n",
    "def sel1():\n",
    "    if (CheckVar1.get()==1):\n",
    "        selection = \"You have selected Vishakapatanam\"\n",
    "    else:\n",
    "        selection = \"You unselected Vishakapatanam\"\n",
    "    label.config(text=selection)\n",
    "def sel2():\n",
    "    if (CheckVar2.get()==1):\n",
    "        selection = \"You have selected Hyderabad\"\n",
    "    else:\n",
    "        selection = \"You unselected Hyderabad\"\n",
    "    label.config(text=selection)\n",
    "    \n",
    "def sel3():\n",
    "    if (CheckVar3.get()==1):\n",
    "        selection = \"You have selected Delhi\"\n",
    "    else:\n",
    "        selection = \"You unselected Delhi\"\n",
    "    label.config(text=selection)\n",
    "    \n",
    "CheckVar1=IntVar()\n",
    "CheckVar2=IntVar()\n",
    "CheckVar3=IntVar()\n",
    "C1=Checkbutton(window,text='Vishakapatanam',variable=CheckVar1,onvalue=1,offvalue=0,height=5,width=20,command=sel1)\n",
    "C2=Checkbutton(window,text='Hyderabad',variable=CheckVar2,onvalue=1,offvalue=0,height=5,width=20,command=sel2)\n",
    "C3=Checkbutton(window,text='Delhi',variable=CheckVar3,onvalue=1,offvalue=0,height=5,width=20,command=sel3)\n",
    "C1.pack()\n",
    "C2.pack()\n",
    "C3.pack()\n",
    "label = Label(window)\n",
    "label.pack()\n",
    "window.geometry('300x300')\n",
    "window.mainloop()"
   ]
  },
  {
   "cell_type": "markdown",
   "id": "78353afc",
   "metadata": {},
   "source": [
    "### Question No . 10 : Create a tkinter application which contains a list box with five items. Whenever an item in the list box is selected, the item’s text should be displayed"
   ]
  },
  {
   "cell_type": "code",
   "execution_count": 10,
   "id": "41866b92",
   "metadata": {},
   "outputs": [
    {
     "name": "stdout",
     "output_type": "stream",
     "text": [
      "tkinter\n",
      "Python\n",
      "Pandas\n",
      "Numpy\n",
      "SQLite\n"
     ]
    }
   ],
   "source": [
    "window = Tk()\n",
    "def my_upd():\n",
    "    print (l1.get(ACTIVE))\n",
    "    \n",
    "l1 = Listbox (window,height=5)\n",
    "l1.grid(row=1,column=1)\n",
    "my_list = ['tkinter', 'Python', 'Numpy', 'Pandas', 'SQLite']\n",
    "\n",
    "for element in my_list:\n",
    "    l1.insert(END, element)\n",
    "    \n",
    "b1 = Button(window, text=\"Show\", width=16, bg=\"lightgreen\", command=my_upd)\n",
    "b1.grid(row=1,column=2)\n",
    "window.mainloop()"
   ]
  }
 ],
 "metadata": {
  "kernelspec": {
   "display_name": "Python 3 (ipykernel)",
   "language": "python",
   "name": "python3"
  },
  "language_info": {
   "codemirror_mode": {
    "name": "ipython",
    "version": 3
   },
   "file_extension": ".py",
   "mimetype": "text/x-python",
   "name": "python",
   "nbconvert_exporter": "python",
   "pygments_lexer": "ipython3",
   "version": "3.9.7"
  }
 },
 "nbformat": 4,
 "nbformat_minor": 5
}
