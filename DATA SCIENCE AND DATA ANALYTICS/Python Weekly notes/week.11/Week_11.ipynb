{
 "cells": [
  {
   "cell_type": "code",
   "execution_count": 1,
   "id": "f9c9adc1",
   "metadata": {},
   "outputs": [],
   "source": [
    "import tkinter as Tk"
   ]
  },
  {
   "cell_type": "code",
   "execution_count": 1,
   "id": "dd97b454",
   "metadata": {
    "scrolled": true
   },
   "outputs": [],
   "source": [
    "from tkinter import *\n",
    "window = Tk()\n",
    "b1=Button(window,text=\"Execute\")\n",
    "b1.grid(row=0,column=0)\n",
    "e1=Entry(window)\n",
    "e1.grid(row=0,column=1)\n",
    "t1=Text(window,height=1,width=20)\n",
    "t1.grid(row=0,column=2)\n",
    "window.mainloop()"
   ]
  },
  {
   "cell_type": "code",
   "execution_count": 42,
   "id": "d585a29e",
   "metadata": {
    "scrolled": true
   },
   "outputs": [],
   "source": [
    "# Entry and Text Widgets\n",
    "window = Tk()\n",
    "b1 = Button(window, text=\"Execute\")\n",
    "b1.grid(row=0, column=0)\n",
    "e1 = Entry(window)\n",
    "e1.grid(row=0, column=1)\n",
    "t1 = Text (window, height=1,width=20)\n",
    "t1.grid(row=0, column=2)\n",
    "window.mainloop()"
   ]
  },
  {
   "cell_type": "code",
   "execution_count": 6,
   "id": "d309fc9c",
   "metadata": {},
   "outputs": [
    {
     "name": "stdout",
     "output_type": "stream",
     "text": [
      "Successfully Converted\n"
     ]
    }
   ],
   "source": [
    "from tkinter import *\n",
    "window = Tk()\n",
    "def km_to_miles():\n",
    "    miles = float(e1_val.get())/1.6\n",
    "    t1.delete(\"1.0\", END)\n",
    "    t1.insert(END,miles)\n",
    "    print('Successfully Converted')\n",
    "l1=Label(window,text=\"Enter Kilometers:\")\n",
    "l1.grid(row=0,column=0)\n",
    "e1_val=StringVar()\n",
    "e1=Entry(window,textvariable=e1_val)\n",
    "e1.grid(row=0,column=1)\n",
    "l2=Label(window,text=\"Kilometers in Miles is:\")\n",
    "l2.grid(row=1,column=0)\n",
    "t1=Text(window,height=1,width=20)\n",
    "t1.grid(row=1,column=1)\n",
    "b1=Button(window,text=\"Convert\", command=km_to_miles)\n",
    "b1.grid(row=2,column=1)\n",
    "window.mainloop()"
   ]
  },
  {
   "cell_type": "code",
   "execution_count": 44,
   "id": "1a067eb8",
   "metadata": {
    "scrolled": true
   },
   "outputs": [
    {
     "name": "stdout",
     "output_type": "stream",
     "text": [
      "Successfully executed\n"
     ]
    }
   ],
   "source": [
    "window = Tk()\n",
    "def km_to_miles():\n",
    "    miles = float(e1_val.get())*1.6\n",
    "    t1.delete(\"1.0\", END)\n",
    "    t1.insert(END,miles)\n",
    "    print (\"Successfully executed\")\n",
    "l1 = Label (window, text=\"Enter Miles: \")\n",
    "l1.grid(row=0, column=0)\n",
    "e1_val = StringVar()\n",
    "e1 = Entry (window, textvariable=e1_val)\n",
    "e1.grid(row=0, column=1)\n",
    "l2 = Label (window, text=\"miles in kilometers is: \")\n",
    "l2.grid(row=1, column=0)\n",
    "t1=Text(window, height=1,width=20)\n",
    "t1.grid(row=1, column=1)\n",
    "b1 = Button(window, text=\"Convert\", command=km_to_miles)\n",
    "b1.grid(row=2, column=1)\n",
    "window.mainloop()"
   ]
  },
  {
   "cell_type": "code",
   "execution_count": 2,
   "id": "25aa2575",
   "metadata": {},
   "outputs": [
    {
     "name": "stdout",
     "output_type": "stream",
     "text": [
      "Hello World\n"
     ]
    }
   ],
   "source": [
    "from tkinter import *\n",
    "window=Tk()\n",
    "def hello():\n",
    "    print('Hello World')\n",
    "# create a toplevel menu in the main window\n",
    "menubar = Menu(window)\n",
    "# create a pulldown menu, and add it to the menu bar\n",
    "filemenu = Menu(menubar)\n",
    "filemenu.add_command(label=\"Open\",command=hello)\n",
    "filemenu.add_separator()\n",
    "filemenu.add_command(label=\"Exit\",command=window.destroy)\n",
    "filemenu.add_separator()\n",
    "menubar.add_cascade(label=\"File\", menu=filemenu)\n",
    "window.config(menu=menubar)\n",
    "window.mainloop()"
   ]
  },
  {
   "cell_type": "code",
   "execution_count": null,
   "id": "04559074",
   "metadata": {},
   "outputs": [],
   "source": [
    "# Creating Menus\n",
    "window = Tk()\n",
    "def hello():\n",
    "    print (\"Hello World')\n",
    "# Create a top Level menu in the main window\n",
    "menubar= Menu(window)\n",
    "# Create a pulldown menu and add it to the menu bar\n",
    "filemenu = Menu(menubar)\n",
    "filemenu.add_command(label='Open', command=hello)\n",
    "filemenu.add_separator()\n",
    "filemenu.add_command (label='Exit',command=window.destroy)\n"
   ]
  },
  {
   "cell_type": "code",
   "execution_count": 9,
   "id": "a6d5fb97",
   "metadata": {},
   "outputs": [],
   "source": [
    "from tkinter import *\n",
    "def sel():\n",
    "    selection = \"You selected the option \"+ str(var.get())\n",
    "    label.config(text = selection)\n",
    "window = Tk()\n",
    "var = IntVar()\n",
    "R1 = Radiobutton(window, text=\"Option 1\", variable=var, value=1,command=sel)\n",
    "R1.pack()\n",
    "R2 = Radiobutton(window, text=\"Option 2\", variable=var, value=2,command=sel)\n",
    "R2.pack()\n",
    "R3 = Radiobutton(window, text=\"Option 3\", variable=var, value=3, command=sel)\n",
    "R3.pack()\n",
    "label = Label(window)\n",
    "label.pack()\n",
    "window.mainloop()"
   ]
  },
  {
   "cell_type": "code",
   "execution_count": 40,
   "id": "55cf9776",
   "metadata": {},
   "outputs": [],
   "source": [
    "window= Tk()\n",
    "def sel():\n",
    "    selection = \"You are \"+var.get() \n",
    "    label.config(text=selection)\n",
    "var = StringVar()\n",
    "R1 = Radiobutton (window, text=\"male\", variable=var, value=\"male\", command=sel) \n",
    "R1.pack() # Use the packer geometry manager\n",
    "R2 = Radiobutton (window, text=\"female\", variable=var,value='female', command=sel)\n",
    "R2.pack()\n",
    "label=Label(window) \n",
    "label.pack()\n",
    "window.mainloop()"
   ]
  },
  {
   "cell_type": "code",
   "execution_count": 4,
   "id": "bd16b43c",
   "metadata": {},
   "outputs": [],
   "source": [
    "window= Tk()\n",
    "def sel():\n",
    "    selection = \"You are \"+var.get() \n",
    "    label.config(text=selection)\n",
    "var = StringVar()\n",
    "R1 = Radiobutton (window, text=\"Male\", variable = var,value='male', command=sel) \n",
    "R1.pack() # Use the packer geometry manager\n",
    "R2 = Radiobutton (window, text=\"Female\",variable = var, value='female', command=sel)\n",
    "R2.pack()\n",
    "label = Label (window) \n",
    "label.pack()\n",
    "window.mainloop()"
   ]
  },
  {
   "cell_type": "code",
   "execution_count": 3,
   "id": "706bceb9",
   "metadata": {},
   "outputs": [],
   "source": [
    "from tkinter import *\n",
    "def sel():\n",
    "    selection = \"You selected the option\" + str(var.get()) \n",
    "    label.config(text = selection)\n",
    "window = Tk()\n",
    "var = IntVar()\n",
    "R1 = Radiobutton(window, text=\"Option 1\", variable=var, value=1,command=sel)\n",
    "R1.pack()\n",
    "R2 = Radiobutton(window, text=\"Option 2\", variable=var, value=2, command=sel)\n",
    "R2.pack()\n",
    "R3 = Radiobutton (window, text=\"Option 3\", variable=var, value=3, command=sel)\n",
    "R3.pack()\n",
    "label = Label(window) \n",
    "label.pack() \n",
    "window.mainloop()"
   ]
  },
  {
   "cell_type": "code",
   "execution_count": 18,
   "id": "d6235be3",
   "metadata": {
    "scrolled": false
   },
   "outputs": [],
   "source": [
    "window = Tk()\n",
    "CheckVar1 = IntVar()\n",
    "CheckVar2 = IntVar()\n",
    "C1 = Checkbutton(window, text = \"Python Programming\", variable = CheckVar1,onvalue= 1, offvalue = 0, height=5,width = 20, command=sel) \n",
    "C2 = Checkbutton(window, text = \"Tkinter\", variable = CheckVar2,onvalue = 1, offvalue = 0, height=5,width= 20,command=sel)\n",
    "C1.pack()\n",
    "C2.pack()\n",
    "label = Label(window)\n",
    "label.pack()\n",
    "window.mainloop()"
   ]
  },
  {
   "cell_type": "code",
   "execution_count": 7,
   "id": "77125cd3",
   "metadata": {},
   "outputs": [],
   "source": [
    "# Checkbutton example\n",
    "def sel1():\n",
    "    if (CheckVar1.get() == 1):\n",
    "        selection=\"You selected Python Programming option\"\n",
    "    else:\n",
    "        selection = \"You de-selected the Python Programming option.\"\n",
    "    label.config(text=selection)\n",
    "def sel2():\n",
    "    if (CheckVar2.get() == 1):\n",
    "        selection = \"You selected tkinter option\"\n",
    "    else:\n",
    "        selection = \"You de-selected the tkinter option\"\n",
    "    label.config(text=selection)"
   ]
  },
  {
   "cell_type": "code",
   "execution_count": 9,
   "id": "d11c087a",
   "metadata": {
    "scrolled": false
   },
   "outputs": [],
   "source": [
    "window = Tk()\n",
    "CheckVar1 = IntVar()\n",
    "CheckVar2= IntVar()\n",
    "C1 = Checkbutton (window, text=\"Python Programming\", variable=CheckVar1, onvalue=1,offvalue=0,height=5,width=28, command=sel1)\n",
    "C2 = Checkbutton (window, text=\"Tkinter\", variable=CheckVar2, onvalue=1,offvalue=0,height=5, width=20,command=sel2)\n",
    "C1.pack()\n",
    "C2.pack()\n",
    "label = Label (window) \n",
    "label.pack()\n",
    "window.mainloop()"
   ]
  },
  {
   "cell_type": "code",
   "execution_count": 29,
   "id": "44c89fd9",
   "metadata": {},
   "outputs": [],
   "source": [
    "# Listboxes\n",
    "window = Tk()\n",
    "def my_upd():\n",
    "    print (l1.get(ACTIVE)) # Get the active/ selected element\n",
    "l1 = Listbox(window,height=4)\n",
    "l1.grid(row=1, column=1)\n",
    "my_list = ['tkinter', 'Python', 'Numpy']\n",
    "for element in my_list:\n",
    "    l1.insert(END, element)\n",
    "b1 = Button (window, text=\"Show\", width=10, bg='yellow', command=my_upd)\n",
    "b1.grid(row=1, column=2)\n",
    "window.mainloop()"
   ]
  },
  {
   "cell_type": "code",
   "execution_count": 30,
   "id": "ccc037ff",
   "metadata": {},
   "outputs": [
    {
     "name": "stdout",
     "output_type": "stream",
     "text": [
      "Numpy\n",
      "Pandas\n",
      "Pandas\n",
      "Python\n"
     ]
    }
   ],
   "source": [
    "# Listboxes\n",
    "window = Tk()\n",
    "def my_upd():\n",
    "    print (l1.get(ACTIVE)) # Get the active/ selected element\n",
    "l1 = Listbox (window,height=4)\n",
    "l1.grid(row=1, column=1)\n",
    "my_list = ['tkinter', 'Python', 'Numpy', 'Pandas', 'SQLite']\n",
    "for element in my_list:\n",
    "    l1.insert(END, element)\n",
    "b1=Button (window, text='Show', width=18, bg='yellow', command = my_upd)\n",
    "b1.grid(row=1, column=2)\n",
    "window.mainloop()"
   ]
  },
  {
   "cell_type": "code",
   "execution_count": 10,
   "id": "f6871902",
   "metadata": {},
   "outputs": [],
   "source": [
    "window = Tk()\n",
    "def my_upd():\n",
    "    print (l1.get(ACTIVE)) # Get the active/ selected element\n",
    "l1 = Listbox (window,height=4)\n",
    "l1.pack()\n",
    "my_list = ['tkinter', 'Python', 'Numpy', 'Pandas', 'SQLite']\n",
    "for element in my_list:\n",
    "    l1.insert(END, element)\n",
    "b1 = Button(window, text=\"Show\", width=16, bg=\"yellow\", command=my_upd)\n",
    "b1.pack()\n",
    "window.mainloop()"
   ]
  },
  {
   "cell_type": "code",
   "execution_count": 1,
   "id": "3a0ad910",
   "metadata": {},
   "outputs": [],
   "source": [
    "import tkinter as tk\n",
    "from tkinter import ttk\n",
    "from tkinter import font\n",
    "from tkinter import *\n",
    "   \n",
    "window =Tk()\n",
    "window.title('Find area of Circle')\n",
    "window.geometry('300x200')\n",
    "window.resizable(False,False)\n",
    "\n",
    "\n",
    "\n",
    "tabCont =ttk.Notebook(window)\n",
    "tab1= ttk.Frame(tabCont)\n",
    "tabCont.add(tab1,text='Area')\n",
    "tabCont.pack(expand=True)\n",
    "\n",
    "def cal_area():\n",
    "    cval=tv.get()\n",
    "    ans=round((3.142*float(cval)*float(cval)),2)\n",
    "    str_ans=str(ans)\n",
    "    l1b.configure(text='The area of the circle is :'+str_ans+'cmsq')\n",
    "    \n",
    "bf1=ttk.LabelFrame(tab1,text='Area')\n",
    "bf1.grid(column=0,row=0,padx=8,pady=4)\n",
    "l1=ttk.Label(bf1,text='Enter Radius of Circle(cm) :')\n",
    "l1.grid(column=0,row=0,sticky=tk.W)\n",
    "\n",
    "\n",
    "tv=tk.StringVar()\n",
    "\n",
    "e1= ttk.Entry(bf1,text='',textvariable=tv)\n",
    "e1.grid(column=0,row=1,sticky=tk.W)\n",
    "\n",
    "\n",
    "butt1=ttk.Button(bf1,text='Calculate Area of circle',command=cal_area)\n",
    "butt1.grid(column=0,row=2,sticky=tk.W)\n",
    "\n",
    "\n",
    "l1b=ttk.Label(bf1,text='')\n",
    "\n",
    "l1b.grid(column=0,row=3,sticky=tk.W)\n",
    "\n",
    "window.mainloop()"
   ]
  },
  {
   "cell_type": "code",
   "execution_count": null,
   "id": "8edf22a6",
   "metadata": {},
   "outputs": [],
   "source": [
    "import tkinter as tk\n",
    "from tkinter import ttk\n",
    "from tkinter import font\n",
    "from tkinter import *\n",
    "   \n",
    "window =Tk()\n",
    "window.title('Find area of Circle')\n",
    "window.geometry('300x200')\n",
    "window.resizable(False,False)\n",
    "\n",
    "\n",
    "\n",
    "tabCont =ttk.Notebook(window)\n",
    "tab1= ttk.Frame(tabCont)\n",
    "tabCont.add(tab1,text='Area')\n",
    "tabCont.pack(expand=True)\n",
    "\n",
    "def cal_area():\n",
    "    cval=tv.get()\n",
    "    ans=round((3.142*float(cval)*float(cval)),2)\n",
    "    str_ans=str(ans)\n",
    "    l1b.configure(text='The area of the circle is :'+str_ans+'cmsq')\n",
    "    \n",
    "bf1=ttk.LabelFrame(tab1,text='Area')\n",
    "bf1.grid(column=0,row=0,padx=8,pady=4)\n",
    "l1=ttk.Label(bf1,text='Enter Radius of Circle(cm) :')\n",
    "l1.grid(column=0,row=0,sticky=tk.W)\n",
    "\n",
    "\n",
    "tv=tk.StringVar()\n",
    "\n",
    "e1= ttk.Entry(bf1,text='',textvariable=tv)\n",
    "e1.grid(column=0,row=1,sticky=tk.W)\n",
    "\n",
    "\n",
    "butt1=ttk.Button(bf1,text='Calculate Area of circle',command=cal_area)\n",
    "butt1.grid(column=0,row=2,sticky=tk.W)\n",
    "\n",
    "\n",
    "l1b=ttk.Label(bf1,text='')\n",
    "\n",
    "l1b.grid(column=0,row=3,sticky=tk.W)\n",
    "\n",
    "window.mainloop()"
   ]
  },
  {
   "cell_type": "code",
   "execution_count": 2,
   "id": "5a073006",
   "metadata": {},
   "outputs": [],
   "source": [
    "from tkinter import *\n",
    "def convert_temperature():\n",
    "    temp = float(entry.get())\n",
    "    temp = 9/5 * temp+32\n",
    "    output_label.configure(text = ' Converted to Fahrenheit: {:.1f} ' .format(temp))\n",
    "\n",
    "main_window = Tk()\n",
    "main_window.title('Celcius to Fahernheit Converter')\n",
    "message_label = Label(text='Enter a temperature in Celsius :' ,font=( ' Verdana ' , 12))\n",
    "output_label = Label(font=( ' Verdana ' , 12))\n",
    "entry = Entry(font=( ' Verdana ' , 12), width=6)\n",
    "calc_button = Button(text= ' Convert Celsius to Farenheit ' , font=( ' Verdana ' , 12),\n",
    "command=convert_temperature)\n",
    "message_label.grid(row=0, column=0)\n",
    "entry.grid(row=0, column=1)\n",
    "calc_button.grid(row=1, column=2)\n",
    "output_label.grid(row=2, column=0, columnspan=3)\n",
    "mainloop()"
   ]
  },
  {
   "cell_type": "code",
   "execution_count": null,
   "id": "e2827e0d",
   "metadata": {},
   "outputs": [],
   "source": [
    "from tkinter import*\n",
    "\n",
    "window = Tk()\n",
    "\n",
    "def km_to_miles():\n",
    "    miles = float(e1_val.get()) * 1.6\n",
    "    t1.delete(\"1.0\", END)\n",
    "    t1.insert(END,miles)\n",
    "    print(\"Successfully Converted\")\n",
    "\n",
    "l1 = Label(window,text=\"Enter Kilometers:\")\n",
    "l1.grid(row=0,column=0)\n",
    "\n",
    "e1_val=StringVar()\n",
    "\n",
    "e1 = Entry(window,textvariable=e1_val) \n",
    "e1.grid(row=0,column=1) \n",
    "l2 = Label(window,text=\"Miles : \")\n",
    "\n",
    "l2.grid(row=2,column=0)\n",
    "\n",
    "t1=Text(window,height=1,width=20)\n",
    "\n",
    "t1.grid(row=2,column=1)\n",
    "\n",
    "b1 = Button(window,text=\"Convert\",command=km_to_miles)\n",
    "\n",
    "b1.grid(row=1,column=1)\n",
    "\n",
    "window.mainloop()"
   ]
  }
 ],
 "metadata": {
  "kernelspec": {
   "display_name": "Python 3 (ipykernel)",
   "language": "python",
   "name": "python3"
  },
  "language_info": {
   "codemirror_mode": {
    "name": "ipython",
    "version": 3
   },
   "file_extension": ".py",
   "mimetype": "text/x-python",
   "name": "python",
   "nbconvert_exporter": "python",
   "pygments_lexer": "ipython3",
   "version": "3.9.7"
  }
 },
 "nbformat": 4,
 "nbformat_minor": 5
}
