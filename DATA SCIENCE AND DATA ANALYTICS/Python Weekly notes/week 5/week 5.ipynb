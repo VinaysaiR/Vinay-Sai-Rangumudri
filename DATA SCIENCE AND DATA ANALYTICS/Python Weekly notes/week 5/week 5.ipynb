{
 "cells": [
  {
   "cell_type": "markdown",
   "id": "7b46b0ac",
   "metadata": {},
   "source": [
    "# functions"
   ]
  },
  {
   "cell_type": "markdown",
   "id": "7441a0ed",
   "metadata": {},
   "source": [
    "### built in functions"
   ]
  },
  {
   "cell_type": "code",
   "execution_count": 2,
   "id": "8d7453fc",
   "metadata": {},
   "outputs": [
    {
     "name": "stdout",
     "output_type": "stream",
     "text": [
      "[10, 20, 30, 40, 50]\n",
      "50\n",
      "10\n",
      "5\n",
      "<class 'list'>\n"
     ]
    }
   ],
   "source": [
    "list = [10, 20, 30, 40, 50]\n",
    "print(list)\n",
    "print(max(list))\n",
    "print(min(list))\n",
    "print(len(list))\n",
    "print(type(list))"
   ]
  },
  {
   "cell_type": "code",
   "execution_count": 4,
   "id": "71c65f76",
   "metadata": {},
   "outputs": [
    {
     "name": "stdout",
     "output_type": "stream",
     "text": [
      "32.0 32 32\n",
      "<class 'float'> <class 'int'> <class 'str'>\n"
     ]
    }
   ],
   "source": [
    "a = 32.0\n",
    "b = int(a)\n",
    "c = str(b)\n",
    "print(a, b, c)\n",
    "print(type(a), type(b), type(c))"
   ]
  },
  {
   "cell_type": "code",
   "execution_count": 5,
   "id": "aa7135c4",
   "metadata": {},
   "outputs": [
    {
     "name": "stdout",
     "output_type": "stream",
     "text": [
      "Enter a number to find the square root: 5\n",
      "2.23606797749979\n"
     ]
    }
   ],
   "source": [
    "import math \n",
    "n = int(input(\"Enter a number to find the square root: \"))\n",
    "\n",
    "print(math.sqrt(n))"
   ]
  },
  {
   "cell_type": "markdown",
   "id": "4cc23e7d",
   "metadata": {},
   "source": [
    "#### RANDOM"
   ]
  },
  {
   "cell_type": "code",
   "execution_count": 8,
   "id": "a5f98fa1",
   "metadata": {},
   "outputs": [
    {
     "name": "stdout",
     "output_type": "stream",
     "text": [
      "The value are given between th 0 to 1 = 0.16913038168392402\n"
     ]
    }
   ],
   "source": [
    "# random module\n",
    "\n",
    "import random\n",
    "print(\"The value are given between th 0 to 1 =\",random.random())"
   ]
  },
  {
   "cell_type": "code",
   "execution_count": 12,
   "id": "0e16dc89",
   "metadata": {},
   "outputs": [
    {
     "name": "stdout",
     "output_type": "stream",
     "text": [
      "Enter the value =4\n",
      "Enter the value =16\n",
      "a random in beteen the low and high value: 7\n"
     ]
    }
   ],
   "source": [
    "low = int(input(\"Enter the value =\"))\n",
    "high = int(input(\"Enter the value =\"))\n",
    "print(\"a random in beteen the low and high value:\",random.randint(low,high))"
   ]
  },
  {
   "cell_type": "code",
   "execution_count": 13,
   "id": "7d030a1e",
   "metadata": {},
   "outputs": [
    {
     "name": "stdout",
     "output_type": "stream",
     "text": [
      "Enter the value =-36465\n",
      "Enter the value =50235\n",
      "a random in beteen the low and high value: -21682\n"
     ]
    }
   ],
   "source": [
    "low = int(input(\"Enter the value =\"))\n",
    "high = int(input(\"Enter the value =\"))\n",
    "print(\"a random in beteen the low and high value:\",random.randint(low,high))"
   ]
  },
  {
   "cell_type": "code",
   "execution_count": 36,
   "id": "26b55459",
   "metadata": {},
   "outputs": [
    {
     "name": "stdout",
     "output_type": "stream",
     "text": [
      "(1, 2, 3, 4, 5, 6, 7, 8, 9, 10, 100)\n",
      "<class 'tuple'>\n",
      "100\n",
      "[9, 5]\n",
      "10\n",
      "12\n",
      "11.119124185877967\n"
     ]
    }
   ],
   "source": [
    "t = (1, 2, 3, 4, 5, 6, 7, 8, 9, 10, 100)\n",
    "print(t)\n",
    "print(type(t))\n",
    "print(random.choice(t))\n",
    "print(random.choices(t,k=2))\n",
    "print(random.randrange(10,15,1))\n",
    "print(random.randrange(10,15,2))\n",
    "print(random.uniform(10,15))"
   ]
  },
  {
   "cell_type": "code",
   "execution_count": 28,
   "id": "a5832f20",
   "metadata": {},
   "outputs": [
    {
     "name": "stdout",
     "output_type": "stream",
     "text": [
      "[10, 20, 30, 40, 50, 60, 70]\n",
      "None\n"
     ]
    }
   ],
   "source": [
    "l = [10, 20, 30, 40, 50, 60 , 70]\n",
    "print(l)\n",
    "rand = random.shuffle(l)\n",
    "print(rand)"
   ]
  },
  {
   "cell_type": "markdown",
   "id": "4928be98",
   "metadata": {},
   "source": [
    "#### USER DEFINED FUNCTIONS"
   ]
  },
  {
   "cell_type": "code",
   "execution_count": 43,
   "id": "7f8eec6e",
   "metadata": {},
   "outputs": [
    {
     "name": "stdout",
     "output_type": "stream",
     "text": [
      "Hello World!\n"
     ]
    }
   ],
   "source": [
    "def my_function():\n",
    "    print(\"Hello World!\")\n",
    "my_function()"
   ]
  },
  {
   "cell_type": "code",
   "execution_count": 44,
   "id": "e3f8c4d9",
   "metadata": {},
   "outputs": [
    {
     "name": "stdout",
     "output_type": "stream",
     "text": [
      "Hello world!\n"
     ]
    }
   ],
   "source": [
    "def function_msg():\n",
    "    print(\"Hello world!\")\n",
    "function_msg()"
   ]
  },
  {
   "cell_type": "code",
   "execution_count": 108,
   "id": "3e675030",
   "metadata": {},
   "outputs": [
    {
     "name": "stdout",
     "output_type": "stream",
     "text": [
      "enter the name: vinay\n",
      "vinay\n"
     ]
    }
   ],
   "source": [
    "def function_msg():\n",
    "    name = input(\"enter the name: \")\n",
    "    print(name)\n",
    "function_msg()"
   ]
  },
  {
   "cell_type": "code",
   "execution_count": 50,
   "id": "3cfdc53d",
   "metadata": {},
   "outputs": [
    {
     "name": "stdout",
     "output_type": "stream",
     "text": [
      "hello world!\n",
      "The is the function call\n",
      "hello world!\n",
      "the descripition of display_msg function is: the function display the message hello word!\n"
     ]
    }
   ],
   "source": [
    "def my_function():\n",
    "    '''the function display the message hello word!'''\n",
    "    print(\"hello world!\")\n",
    "my_function()\n",
    "\n",
    "print(\"The is the function call\")\n",
    "\n",
    "my_function()\n",
    "\n",
    "print(\"the descripition of display_msg function is:\", my_function.__doc__)"
   ]
  },
  {
   "cell_type": "code",
   "execution_count": 68,
   "id": "f09fc9d5",
   "metadata": {},
   "outputs": [
    {
     "name": "stdout",
     "output_type": "stream",
     "text": [
      "diplay a msg:  hello word!\n",
      "diplay a msg:  bye\n"
     ]
    }
   ],
   "source": [
    "# function takes arguments / parameters\n",
    "def display_msg1(msg):\n",
    "    print(\"diplay a msg: \",msg)\n",
    "display_msg1('hello word!')\n",
    "display_msg1('bye')"
   ]
  },
  {
   "cell_type": "code",
   "execution_count": 76,
   "id": "a93e31d1",
   "metadata": {},
   "outputs": [
    {
     "name": "stdout",
     "output_type": "stream",
     "text": [
      "recieved msg: hi world\n",
      "diplay a msg:  hi world\n"
     ]
    }
   ],
   "source": [
    "\n",
    "def display_msg1(msg):\n",
    "    msg = input(\"recieved msg: \")\n",
    "    print(\"diplay a msg: \",msg)\n",
    "display_msg1('msg')"
   ]
  },
  {
   "cell_type": "code",
   "execution_count": 77,
   "id": "523e9350",
   "metadata": {},
   "outputs": [
    {
     "name": "stdout",
     "output_type": "stream",
     "text": [
      "the return value is:  25\n",
      "the square of 345 is:  119025\n"
     ]
    }
   ],
   "source": [
    "def square(n):\n",
    "    res = n*n\n",
    "    return res\n",
    "sqr = square(5)\n",
    "print('the return value is: ',sqr)\n",
    "print('the square of 345 is: ',square(345))"
   ]
  },
  {
   "cell_type": "code",
   "execution_count": 79,
   "id": "c5c4f9ec",
   "metadata": {},
   "outputs": [
    {
     "name": "stdout",
     "output_type": "stream",
     "text": [
      "the sum of two values 78\n"
     ]
    }
   ],
   "source": [
    "# the function sum of two numbers return\n",
    "def sum_of_two(x,y):\n",
    "    return x + y\n",
    "res = sum_of_two(45,33)\n",
    "print(\"the sum of two values\",res)"
   ]
  },
  {
   "cell_type": "code",
   "execution_count": 80,
   "id": "2a13334d",
   "metadata": {},
   "outputs": [
    {
     "name": "stdout",
     "output_type": "stream",
     "text": [
      "the sub of values 163\n"
     ]
    }
   ],
   "source": [
    "def sub(x,y,z):\n",
    "    return x+y+z\n",
    "res = sub(45,32,86)\n",
    "print(\"the sub of values\", res)"
   ]
  },
  {
   "cell_type": "code",
   "execution_count": 84,
   "id": "90612276",
   "metadata": {},
   "outputs": [
    {
     "name": "stdout",
     "output_type": "stream",
     "text": [
      "vinay welcome to python programming\n",
      "pravali welcome to my world\n",
      "vinay hello welcome\n"
     ]
    }
   ],
   "source": [
    "#default parameters\n",
    "def greater(name,prompt='welcome',msg = 'to python programming'):\n",
    "    print(name,prompt,msg)\n",
    "greater('vinay')\n",
    "greater('pravali',msg =\"to my world\")\n",
    "\n",
    "greater(msg = 'welcome',name= 'vinay',prompt='hello')"
   ]
  },
  {
   "cell_type": "code",
   "execution_count": 87,
   "id": "60ae26f0",
   "metadata": {},
   "outputs": [
    {
     "name": "stdout",
     "output_type": "stream",
     "text": [
      "welcome vinay\n",
      "welcome pravali\n",
      "welcome hari\n",
      "welcome hema\n",
      "welcome ashok\n",
      "welcome pravinay\n"
     ]
    }
   ],
   "source": [
    "#Arbitrary arguments\n",
    "#positional and arguments\n",
    "\n",
    "def greater(*args):\n",
    "    for name in args:\n",
    "        print(\"welcome\",name)\n",
    "greater(\"vinay\",\"pravali\",\"hari\",\"hema\")\n",
    "greater(\"ashok\",'pravinay')"
   ]
  },
  {
   "cell_type": "code",
   "execution_count": 91,
   "id": "e4564c1e",
   "metadata": {},
   "outputs": [
    {
     "name": "stdout",
     "output_type": "stream",
     "text": [
      "arg: vinay\n",
      "arg: pravali\n",
      "key son has value hari\n",
      "key daughter has value hema\n"
     ]
    }
   ],
   "source": [
    "def my_function(*args,**kwargs):\n",
    "    for arg in args:\n",
    "        print(\"arg:\",arg)\n",
    "        \n",
    "    for key in kwargs.keys():\n",
    "        print('key', key,'has value',kwargs[key])\n",
    "        \n",
    "my_function('vinay',\"pravali\",son = \"hari\",daughter = \"hema\")"
   ]
  },
  {
   "cell_type": "code",
   "execution_count": 94,
   "id": "79ea977a",
   "metadata": {},
   "outputs": [
    {
     "name": "stdout",
     "output_type": "stream",
     "text": [
      "arg: vinay\n",
      "arg: pravali\n",
      "key son has value hari\n",
      "key daughter1 has value hema\n",
      "key daughter2 has value prasanna\n"
     ]
    }
   ],
   "source": [
    "my_function(\"vinay\",\"pravali\",son ='hari',daughter1 ='hema',daughter2 ='prasanna')"
   ]
  },
  {
   "cell_type": "code",
   "execution_count": 96,
   "id": "c5f94dce",
   "metadata": {},
   "outputs": [
    {
     "name": "stdout",
     "output_type": "stream",
     "text": [
      "key a has value 1\n",
      "key b has value 2\n",
      "key c has value 3\n",
      "key d has value 4\n",
      "key e has value 5\n"
     ]
    }
   ],
   "source": [
    "# function only key words arguments\n",
    "def named(**kwargs):\n",
    "    for key in kwargs.keys():\n",
    "        print('arg:', key,'has value:',kwargs[key])\n",
    "my_function(a =1,b=2,c=3,d=4,e=5)"
   ]
  },
  {
   "cell_type": "code",
   "execution_count": 97,
   "id": "368cee67",
   "metadata": {},
   "outputs": [
    {
     "name": "stdout",
     "output_type": "stream",
     "text": [
      "100\n"
     ]
    }
   ],
   "source": [
    "# global and local\n",
    "# local variable\n",
    "def my_function():\n",
    "    a_variable = 100\n",
    "    print(a_variable)\n",
    "my_function()"
   ]
  },
  {
   "cell_type": "code",
   "execution_count": 98,
   "id": "6fb2b36e",
   "metadata": {},
   "outputs": [
    {
     "name": "stdout",
     "output_type": "stream",
     "text": [
      "100\n",
      "200\n"
     ]
    }
   ],
   "source": [
    "# Global variable\n",
    "a_variable = 200   # global variable\n",
    "def my_function():\n",
    "    a_variable = 100  #local variable\n",
    "    print(a_variable)\n",
    "my_function()\n",
    "print(a_variable)"
   ]
  },
  {
   "cell_type": "code",
   "execution_count": 104,
   "id": "5d6604c2",
   "metadata": {},
   "outputs": [
    {
     "name": "stdout",
     "output_type": "stream",
     "text": [
      "200\n",
      "100\n"
     ]
    }
   ],
   "source": [
    "a_variable = 200\n",
    "def my_function():\n",
    "    global a_variable\n",
    "    print(a_variable)\n",
    "    a_variable = 100\n",
    "    print(a_variable)\n",
    "my_function()"
   ]
  },
  {
   "cell_type": "code",
   "execution_count": 111,
   "id": "327bfb9e",
   "metadata": {},
   "outputs": [
    {
     "name": "stdout",
     "output_type": "stream",
     "text": [
      "the value of x after increment:  201\n",
      "the value of  x 201\n"
     ]
    }
   ],
   "source": [
    "x = 200\n",
    "def my_func1():\n",
    "    global x\n",
    "    x = x + 1\n",
    "    print(\"the value of x after increment: \",x)\n",
    "    \n",
    "my_func1()\n",
    "print(\"the value of  x\",x)"
   ]
  },
  {
   "cell_type": "code",
   "execution_count": 112,
   "id": "c28a2f56",
   "metadata": {},
   "outputs": [
    {
     "name": "stdout",
     "output_type": "stream",
     "text": [
      "x in func1 100\n",
      "x in func2 x = 101\n",
      "in func1 after caling func2 x= 101\n"
     ]
    }
   ],
   "source": [
    "def func1():\n",
    "    x = 100\n",
    "    print(\"x in func1\",x)\n",
    "    def func2():\n",
    "        nonlocal x\n",
    "        x = x + 1\n",
    "        print('x in func2 x =',x)\n",
    "    func2()\n",
    "    print(\"in func1 after caling func2 x=\",x)\n",
    "func1()"
   ]
  },
  {
   "cell_type": "code",
   "execution_count": 7,
   "id": "c31a70b2",
   "metadata": {},
   "outputs": [
    {
     "name": "stdout",
     "output_type": "stream",
     "text": [
      "Enter the digit =12\n",
      "print the 12 factorial 479001600\n"
     ]
    }
   ],
   "source": [
    "#recursion\n",
    "'''in this recursion we have to know about the factorial of a digit ! that means n!'''\n",
    "\"\"\"5! = 5 * 4! , 4! = 4 *3!, 3! = 3 * 2!\"\"\"\n",
    "def fact(x):\n",
    "    if x <= 1:\n",
    "        return 1\n",
    "    else:\n",
    "        return x*fact(x-1)\n",
    "n = int(input(\"Enter the digit =\"))\n",
    "\n",
    "print(\"print the\",n,\"factorial\",fact(n))"
   ]
  },
  {
   "cell_type": "code",
   "execution_count": 10,
   "id": "b997c403",
   "metadata": {},
   "outputs": [
    {
     "name": "stdout",
     "output_type": "stream",
     "text": [
      "25\n"
     ]
    }
   ],
   "source": [
    "#Anonymous/ Lambda functions\n",
    "# lambda arguments: expression\n",
    "# Example square = lambda i:i*i\n",
    "# prit(square(5))\n",
    "square = lambda i:i*i\n",
    "print(square(5))"
   ]
  },
  {
   "cell_type": "code",
   "execution_count": 11,
   "id": "bcffaf2d",
   "metadata": {},
   "outputs": [
    {
     "name": "stdout",
     "output_type": "stream",
     "text": [
      "The above functions can be called as:\n",
      "no args\n",
      "16\n",
      "585\n",
      "11\n"
     ]
    }
   ],
   "source": [
    "func0 = lambda: print('no args')\n",
    "func1 = lambda x:x*x\n",
    "func2 = lambda x,y:x*y\n",
    "func4 = lambda x,y,z:x+y+z\n",
    "print(\"The above functions can be called as:\")\n",
    "func0()\n",
    "print(func1(4))\n",
    "print(func2(13,45))\n",
    "print(func4(2,4,5))"
   ]
  },
  {
   "cell_type": "code",
   "execution_count": 14,
   "id": "01cbe855",
   "metadata": {},
   "outputs": [
    {
     "name": "stdout",
     "output_type": "stream",
     "text": [
      "162\n"
     ]
    }
   ],
   "source": [
    "func6 = lambda x,y,z:print(x*(y**z))\n",
    "func6(2,3,4)"
   ]
  },
  {
   "cell_type": "markdown",
   "id": "6ddfec3f",
   "metadata": {},
   "source": [
    "## Higher order function"
   ]
  },
  {
   "cell_type": "code",
   "execution_count": 5,
   "id": "566faecd",
   "metadata": {},
   "outputs": [
    {
     "name": "stdout",
     "output_type": "stream",
     "text": [
      "100\n"
     ]
    }
   ],
   "source": [
    "def apply(x,function):\n",
    "    result = function(x)\n",
    "    return result\n",
    "def square(y):\n",
    "    return y*y\n",
    "print(apply(10,square))"
   ]
  },
  {
   "cell_type": "code",
   "execution_count": 4,
   "id": "4a9b953c",
   "metadata": {},
   "outputs": [
    {
     "name": "stdout",
     "output_type": "stream",
     "text": [
      "60\n"
     ]
    }
   ],
   "source": [
    "def apply(a,b,c,function): # higher order function\n",
    "    result = function(a,b,c)\n",
    "    return result\n",
    "def sum(x,y,z):\n",
    "    return x+y+z\n",
    "print(apply(10,20,30,sum))"
   ]
  },
  {
   "cell_type": "code",
   "execution_count": 6,
   "id": "c50ca584",
   "metadata": {},
   "outputs": [
    {
     "name": "stdout",
     "output_type": "stream",
     "text": [
      "<function make_checker.<locals>.<lambda> at 0x0000028B155FAAF0>\n",
      "<function make_checker.<locals>.<lambda> at 0x0000028B155FAC10>\n",
      "<function make_checker.<locals>.<lambda> at 0x0000028B15609040>\n"
     ]
    }
   ],
   "source": [
    "def  make_checker(s):\n",
    "    if s == 'even':return lambda n:n%2 == 0\n",
    "    elif s == 'positive':return lambda n:n>=0\n",
    "    elif s == 'negitive':return lambda n:n<=0\n",
    "f1 = make_checker('even')\n",
    "f2 = make_checker('positive')\n",
    "f3 = make_checker('negitive')\n",
    "print(f1)\n",
    "print(f2)\n",
    "print(f3)"
   ]
  },
  {
   "cell_type": "code",
   "execution_count": 7,
   "id": "f3cd9e17",
   "metadata": {},
   "outputs": [
    {
     "name": "stdout",
     "output_type": "stream",
     "text": [
      "False\n",
      "True\n",
      "False\n"
     ]
    }
   ],
   "source": [
    "def  make_checker(s):\n",
    "    if s == 'even':return lambda n:n%2 == 0\n",
    "    elif s == 'positive':return lambda n:n>=0\n",
    "    elif s == 'negitive':return lambda n:n<=0\n",
    "f1 = make_checker('even')\n",
    "f2 = make_checker('positive')\n",
    "f3 = make_checker('negitive')\n",
    "print(f1(5))\n",
    "print(f2(5))\n",
    "print(f3(5))"
   ]
  },
  {
   "cell_type": "code",
   "execution_count": 8,
   "id": "35d4e086",
   "metadata": {},
   "outputs": [
    {
     "name": "stdout",
     "output_type": "stream",
     "text": [
      "True\n",
      "True\n",
      "True\n"
     ]
    }
   ],
   "source": [
    "def  make_checker(s):\n",
    "    if s == 'even':return lambda n:n%2 == 0\n",
    "    elif s == 'positive':return lambda n:n>=0\n",
    "    elif s == 'negitive':return lambda n:n<=0\n",
    "f1 = make_checker('even')\n",
    "f2 = make_checker('positive')\n",
    "f3 = make_checker('negitive')\n",
    "print(f1(22))\n",
    "print(f2(5))\n",
    "print(f3(-6))"
   ]
  },
  {
   "cell_type": "markdown",
   "id": "deed52a8",
   "metadata": {},
   "source": [
    "### map, reduce and filter"
   ]
  },
  {
   "cell_type": "code",
   "execution_count": 10,
   "id": "ddf7300e",
   "metadata": {},
   "outputs": [
    {
     "name": "stdout",
     "output_type": "stream",
     "text": [
      "data:  [1, 56, 24, 75, 65, 6, 6623, 4865, 1356]\n",
      "even numbers in the list: [56, 24, 6, 1356]\n"
     ]
    }
   ],
   "source": [
    "# filter()\n",
    "data = [1, 56, 24, 75, 65, 6, 6623, 4865, 1356]\n",
    "print('data: ',data)\n",
    "def is_even(i):\n",
    "    return i%2 == 0\n",
    "# filter of even numbers using a named function\n",
    "even_data = list(filter(is_even,data))\n",
    "print('even numbers in the list:', even_data)"
   ]
  },
  {
   "cell_type": "code",
   "execution_count": 14,
   "id": "d5fd398e",
   "metadata": {},
   "outputs": [
    {
     "name": "stdout",
     "output_type": "stream",
     "text": [
      "data:  [13, 45, 132, 453, 184, 166, 3, 565623, 3565, 3321, 4995]\n",
      "odd data list: [13, 45, 453, 3, 565623, 3565, 3321, 4995]\n"
     ]
    }
   ],
   "source": [
    "data = [ 13,45,132,453,184,166,3,565623,3565,3321,4995]\n",
    "print('data: ', data)\n",
    "def is_odd(i):\n",
    "    return i%2 != 0\n",
    "odd_data = list(filter(is_odd,data))\n",
    "print('odd data list:',odd_data)"
   ]
  },
  {
   "cell_type": "code",
   "execution_count": 16,
   "id": "d07c0246",
   "metadata": {},
   "outputs": [
    {
     "name": "stdout",
     "output_type": "stream",
     "text": [
      "Enter the sum of two set:  [7, 9, 11, 13, 15]\n"
     ]
    }
   ],
   "source": [
    "# map function map()\n",
    "data1 = [1, 2, 3, 4, 5]\n",
    "data2 = [6, 7, 8, 9, 10]\n",
    "\n",
    "result = list(map(lambda x,y: x+y, data1,data2))\n",
    "print(\"Enter the sum of two set: \",result)"
   ]
  },
  {
   "cell_type": "code",
   "execution_count": 17,
   "id": "dfed1ea1",
   "metadata": {},
   "outputs": [
    {
     "name": "stdout",
     "output_type": "stream",
     "text": [
      "data: [10, 20, 30, 40, 50]\n",
      "the final result [100, 400, 900, 1600, 2500]\n"
     ]
    }
   ],
   "source": [
    "data = [10, 20, 30, 40, 50]\n",
    "print(\"data:\", data)\n",
    "def square(i):\n",
    "    return i*i\n",
    "result = list(map(square, data))\n",
    "print(\"the final result\", result)"
   ]
  },
  {
   "cell_type": "code",
   "execution_count": 19,
   "id": "11b8ad76",
   "metadata": {},
   "outputs": [
    {
     "name": "stdout",
     "output_type": "stream",
     "text": [
      "the final result 150\n"
     ]
    }
   ],
   "source": [
    "# reduce()\n",
    "from functools import reduce\n",
    "data = [10, 20, 30, 40, 50]\n",
    "result = reduce(lambda total,value : total + value, data)\n",
    "print(\"the final result\", result)"
   ]
  },
  {
   "cell_type": "code",
   "execution_count": 20,
   "id": "346d9d10",
   "metadata": {},
   "outputs": [
    {
     "name": "stdout",
     "output_type": "stream",
     "text": [
      "The total value of data 12000000\n"
     ]
    }
   ],
   "source": [
    "result = reduce(lambda total,value:total*value,data)\n",
    "print(\"The total value of data\",result)"
   ]
  },
  {
   "cell_type": "code",
   "execution_count": 24,
   "id": "99113e6f",
   "metadata": {},
   "outputs": [
    {
     "name": "stdout",
     "output_type": "stream",
     "text": [
      "0\n",
      "1\n",
      "2\n",
      "3\n",
      "4\n",
      "5\n",
      "6\n",
      "7\n",
      "8\n",
      "9\n"
     ]
    }
   ],
   "source": [
    "for j in range(10):\n",
    "    print(j)"
   ]
  },
  {
   "cell_type": "code",
   "execution_count": 27,
   "id": "445e770b",
   "metadata": {},
   "outputs": [
    {
     "name": "stdout",
     "output_type": "stream",
     "text": [
      "the number is odd\n"
     ]
    }
   ],
   "source": [
    "## functions \n",
    "def evenodd(num):\n",
    "    '''evenodd Function: this is function will test whether it is even or odd'''\n",
    "    if num %2 == 0:\n",
    "        print(\"the number is even\")\n",
    "    else:\n",
    "        print(\"the number is odd\")\n",
    "evenodd(5)"
   ]
  },
  {
   "cell_type": "code",
   "execution_count": 29,
   "id": "5be921ab",
   "metadata": {},
   "outputs": [
    {
     "name": "stdout",
     "output_type": "stream",
     "text": [
      "the number is even\n"
     ]
    }
   ],
   "source": [
    "evenodd(10)"
   ]
  },
  {
   "cell_type": "code",
   "execution_count": 32,
   "id": "1b234dde",
   "metadata": {},
   "outputs": [
    {
     "name": "stdout",
     "output_type": "stream",
     "text": [
      "evenodd Function: this is function will test whether it is even or odd\n"
     ]
    }
   ],
   "source": [
    "print(evenodd.__doc__)"
   ]
  },
  {
   "cell_type": "code",
   "execution_count": 33,
   "id": "c8898d62",
   "metadata": {},
   "outputs": [
    {
     "name": "stdout",
     "output_type": "stream",
     "text": [
      "100\n",
      "100\n"
     ]
    }
   ],
   "source": [
    "var = 100\n",
    "def myfunc():\n",
    "    print(var)\n",
    "myfunc()\n",
    "print(var)"
   ]
  },
  {
   "cell_type": "code",
   "execution_count": 36,
   "id": "15adfa34",
   "metadata": {},
   "outputs": [
    {
     "name": "stdout",
     "output_type": "stream",
     "text": [
      "10\n",
      "120\n"
     ]
    }
   ],
   "source": [
    "var2 = 120\n",
    "def myfunc1():\n",
    "    var1 = 10\n",
    "    print(var1)\n",
    "def myfunc2():\n",
    "    print(var2)\n",
    "myfunc1()\n",
    "myfunc2()"
   ]
  },
  {
   "cell_type": "code",
   "execution_count": 45,
   "id": "158e4ee8",
   "metadata": {},
   "outputs": [
    {
     "name": "stdout",
     "output_type": "stream",
     "text": [
      "30\n",
      "30\n",
      "180\n",
      "150\n"
     ]
    }
   ],
   "source": [
    "addtwonos(10,20)\n",
    "def addtwonos(x,y):\n",
    "    return x+y\n",
    "print(addtwonos(10,20))\n",
    "\n",
    "def addthreenos(x,y,z):\n",
    "    return x+y+z\n",
    "print(addtwonos(10,20))\n",
    "print(addthreenos(50,60,70))\n",
    "\n",
    "def addrandom(x,y,z,s):\n",
    "    return x+y+z+s\n",
    "print(addrandom(45, 54, 46,5))"
   ]
  },
  {
   "cell_type": "code",
   "execution_count": 1,
   "id": "030c2422",
   "metadata": {},
   "outputs": [
    {
     "name": "stdout",
     "output_type": "stream",
     "text": [
      "60\n",
      "100\n",
      "150\n",
      "200\n",
      "210\n",
      "210\n"
     ]
    }
   ],
   "source": [
    "def add1(*args):\n",
    "    return sum(args)\n",
    "\n",
    "print(add1(10, 20, 30))\n",
    "print(add1(10, 20, 30, 40))\n",
    "print(add1(10, 20, 30, 40, 50))\n",
    "print(add1(10, 10, 30, 40, 50, 60))\n",
    "\n",
    "\n",
    "list1 = [10, 20, 30, 40, 50, 60]\n",
    "tuple1 = (10, 20, 30, 40, 50, 60)\n",
    "\n",
    "print(add1(*list1))\n",
    "print(add1(*tuple1))"
   ]
  },
  {
   "cell_type": "code",
   "execution_count": 2,
   "id": "76e08b07",
   "metadata": {},
   "outputs": [
    {
     "name": "stdout",
     "output_type": "stream",
     "text": [
      "210\n",
      "210\n"
     ]
    }
   ],
   "source": [
    "def add1(*args):\n",
    "    return sum(args)\n",
    "\n",
    "list1 = [10, 20, 30, 40, 50, 60]\n",
    "tuple1 = (10, 20, 30, 40, 50, 60)\n",
    "\n",
    "print(add1(*list1))\n",
    "print(add1(*tuple1))"
   ]
  },
  {
   "cell_type": "code",
   "execution_count": 10,
   "id": "467a0c29",
   "metadata": {},
   "outputs": [
    {
     "name": "stdout",
     "output_type": "stream",
     "text": [
      "1202\n"
     ]
    }
   ],
   "source": [
    "def add1(*args):\n",
    "    return sum(args)\n",
    "print(add1(556,646))"
   ]
  },
  {
   "cell_type": "code",
   "execution_count": 5,
   "id": "4d7de48a",
   "metadata": {},
   "outputs": [
    {
     "name": "stdout",
     "output_type": "stream",
     "text": [
      "840\n"
     ]
    }
   ],
   "source": [
    "def add1(*args):\n",
    "    return sum(args)\n",
    "\n",
    "list1 = [10, 20, 30, 40, 50, 60]\n",
    "list2 = [10, 20, 30, 40, 50, 60]\n",
    "list3 = [10, 20, 30, 40, 50, 60]\n",
    "list4 = [10, 20, 30, 40, 50, 60]\n",
    "\n",
    "print(add1(*list1, *list2, *list3,*list4))"
   ]
  },
  {
   "cell_type": "code",
   "execution_count": 80,
   "id": "85679e39",
   "metadata": {},
   "outputs": [
    {
     "name": "stdout",
     "output_type": "stream",
     "text": [
      "Name :- vinay sai\n",
      "age :- 21\n",
      "place :- Chilakapalli\n",
      "pincode :- 535557\n"
     ]
    }
   ],
   "source": [
    "def userdetails(**kwargs):\n",
    "    for key,val in kwargs.items():\n",
    "        print(\"{} :- {}\".format(key,val))\n",
    "userdetails(Name = \"vinay sai\", age = 21, place = \"Chilakapalli\", pincode = 535557 )"
   ]
  },
  {
   "cell_type": "code",
   "execution_count": 81,
   "id": "f59b87d6",
   "metadata": {},
   "outputs": [
    {
     "name": "stdout",
     "output_type": "stream",
     "text": [
      "Name :- pravalika\n",
      "age :- 18\n",
      "place :- Chodavaram\n",
      "pincode :- 53647\n"
     ]
    }
   ],
   "source": [
    "userdetails(Name = \"pravalika\", age = \"18\", place = \"Chodavaram\", pincode = \"53647\" )"
   ]
  },
  {
   "cell_type": "code",
   "execution_count": 83,
   "id": "80e868e6",
   "metadata": {},
   "outputs": [
    {
     "name": "stdout",
     "output_type": "stream",
     "text": [
      "vinay\n",
      "21\n",
      "chilakapalli\n",
      "535557\n",
      "Name :- vinay\n",
      "age :- 21\n",
      "place :- chilakapalli\n",
      "pincode :- 535557\n"
     ]
    }
   ],
   "source": [
    "def userdetails(**kwargs):\n",
    "    for key,val in kwargs.items():\n",
    "        print(\"{} :- {}\".format(key,val))\n",
    "userdetails(Name = input(), age = int(input()), place = input(), pincode = int(input()) )"
   ]
  },
  {
   "cell_type": "code",
   "execution_count": 89,
   "id": "4ae7a0be",
   "metadata": {},
   "outputs": [
    {
     "name": "stdout",
     "output_type": "stream",
     "text": [
      "Enter your name: vinay sai\n",
      "Enter your age: 21\n",
      "Enter your place: chilakalapalli\n",
      "Enter your pincode535557\n",
      "Name :- vinay sai\n",
      "Age :- 21\n",
      "Place :- chilakalapalli\n",
      "Pincode :- 535557\n"
     ]
    }
   ],
   "source": [
    "Name = input(\"Enter your name: \")\n",
    "Age = int(input(\"Enter your age: \"))\n",
    "Place = input(\"Enter your place: \")\n",
    "Pincode = int(input(\"Enter your pincode\"))\n",
    "def userdetails(**kwargs):\n",
    "    for key,val in kwargs.items():\n",
    "        print(\"{} :- {}\".format(key,val))\n",
    "userdetails(Name = Name, Age = Age, Place = Place, Pincode = Pincode)"
   ]
  },
  {
   "cell_type": "code",
   "execution_count": 94,
   "id": "5fc3052b",
   "metadata": {},
   "outputs": [
    {
     "name": "stdout",
     "output_type": "stream",
     "text": [
      "Name :- vinay sai\n",
      "Age :- 21\n",
      "Place :- chilakapalli\n",
      "Pincode :- 535557\n"
     ]
    }
   ],
   "source": [
    "data = {'Name' : 'vinay sai', 'Age' : 21, 'Place' : 'chilakapalli', 'Pincode' : 535557}\n",
    "\n",
    "userdetails(**data)"
   ]
  },
  {
   "cell_type": "code",
   "execution_count": 102,
   "id": "406c9c98",
   "metadata": {},
   "outputs": [
    {
     "name": "stdout",
     "output_type": "stream",
     "text": [
      "license No:- hj236g\n",
      "full name:- vinay sai\n",
      "phone Number 1234567890\n",
      "name :-vinay sai\n",
      "age :-21\n"
     ]
    }
   ],
   "source": [
    "def userdetails(licenseno, *args, phonenumber =0, **kwargs):\n",
    "    print('license No:-', licenseno)\n",
    "    j=''\n",
    "    for i in args:\n",
    "        j = j+i\n",
    "    print('full name:-',j)\n",
    "    print('phone Number',phonenumber)\n",
    "    for key,val in kwargs.items():\n",
    "        print(\"{} :-{}\".format(key,val))\n",
    "    \n",
    "name = {\"vinay sai\"}\n",
    "mydict = {'name': \"vinay sai\", 'age': 21}\n",
    "userdetails('hj236g', *name, phonenumber=1234567890,**mydict)"
   ]
  }
 ],
 "metadata": {
  "kernelspec": {
   "display_name": "Python 3 (ipykernel)",
   "language": "python",
   "name": "python3"
  },
  "language_info": {
   "codemirror_mode": {
    "name": "ipython",
    "version": 3
   },
   "file_extension": ".py",
   "mimetype": "text/x-python",
   "name": "python",
   "nbconvert_exporter": "python",
   "pygments_lexer": "ipython3",
   "version": "3.9.7"
  }
 },
 "nbformat": 4,
 "nbformat_minor": 5
}
