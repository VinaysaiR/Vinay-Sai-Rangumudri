{
 "cells": [
  {
   "cell_type": "markdown",
   "id": "8dc649a6",
   "metadata": {},
   "source": [
    "### 1. Write a function that takes the lengths of the two shorter sides of a right triangle as its parameters. Return the hypotenuse of the triangle, computed using Pythagorean theorem, as the function’s result."
   ]
  },
  {
   "cell_type": "code",
   "execution_count": 2,
   "id": "a46be875",
   "metadata": {},
   "outputs": [
    {
     "name": "stdout",
     "output_type": "stream",
     "text": [
      "Enter the side of right triangle: 3\n",
      "Enter the side of right triangle: 4\n",
      "The hypotenuse of the right triangle:  5.0\n"
     ]
    }
   ],
   "source": [
    "from math import sqrt\n",
    "def hypotenuse(s1,s2):\n",
    "    return sqrt(s1**2 + s2**2)\n",
    "s1 = float(input(\"Enter the side of right triangle: \"))\n",
    "s2 = float(input(\"Enter the side of right triangle: \"))\n",
    "result = hypotenuse(s1,s2)\n",
    "print(\"The hypotenuse of the right triangle: \",result)"
   ]
  },
  {
   "cell_type": "markdown",
   "id": "4476d8e1",
   "metadata": {},
   "source": [
    "### 2-- An online retailer provides express shipping for many of its items at a rate of $10.95 for the first item, and $2.95 for each subsequent item. Write a function that takes the number of items in the order as its only parameter. Return the shipping charge for the order as the function’s result. Include a main program that reads the number of items purchased from the user and displays the shipping charge."
   ]
  },
  {
   "cell_type": "code",
   "execution_count": 3,
   "id": "05d65f7c",
   "metadata": {},
   "outputs": [
    {
     "name": "stdout",
     "output_type": "stream",
     "text": [
      "Enter the number of items = 4\n",
      "Enter the first item :apple\n",
      "your first item : apple for shiping charge is $10.95\n",
      "==================================================\n",
      "Enter the items :mango\n",
      "your item is : mango with shiping charge is $2.95 \n",
      "==================================================\n",
      "Enter the items :grape\n",
      "your item is : grape with shiping charge is $2.95 \n",
      "==================================================\n",
      "Enter the items :orange\n",
      "your item is : orange with shiping charge is $2.95 \n",
      "==================================================\n",
      "your all items shipping charge is : 19.8\n"
     ]
    }
   ],
   "source": [
    "n = int(input(\"Enter the number of items = \"))\n",
    "def shipping_charges(c1,c2):\n",
    "    return (c1 + c2*(n-1))\n",
    "first_cost = 10.95\n",
    "other_cost = 2.95\n",
    "c1 = float(first_cost)\n",
    "c2 = float(other_cost)\n",
    "x = input('Enter the first item :')\n",
    "print ('your first item :',x,'for shiping charge is $10.95')\n",
    "print('='*50)\n",
    "for i in range(0,n-1):\n",
    "    a = input('Enter the items :')\n",
    "    print ('your item is :',a,'with shiping charge is $2.95 ')\n",
    "    print ('='*50)\n",
    "    \n",
    "result = shipping_charges(c1,c2)\n",
    "print('your all items shipping charge is :',result)"
   ]
  },
  {
   "cell_type": "markdown",
   "id": "58b1867d",
   "metadata": {},
   "source": [
    "### 3-- Write a function that takes three numbers as parameters, and returns the median value of those parameters as its result. Include a main program that reads three values from the user and displays their median."
   ]
  },
  {
   "cell_type": "code",
   "execution_count": 4,
   "id": "8bf6fd6e",
   "metadata": {},
   "outputs": [
    {
     "name": "stdout",
     "output_type": "stream",
     "text": [
      "Enter the first number = 91\n",
      "Enter the second number = 36\n",
      "Enter the third number = 54\n",
      "========================================\n",
      "The median of the three number = 54\n"
     ]
    }
   ],
   "source": [
    "def median(n1,n2,n3):\n",
    "    s = [n1,n2,n3]\n",
    "    s.sort()\n",
    "    return s[1]\n",
    "\n",
    "n1 = int(input(\"Enter the first number = \"))\n",
    "n2 = int(input(\"Enter the second number = \"))\n",
    "n3 = int(input(\"Enter the third number = \"))\n",
    "\n",
    "result = median(n1,n2,n3)\n",
    "s = '=' \n",
    "print(s*40)\n",
    "print(\"The median of the three number =\",result)"
   ]
  },
  {
   "cell_type": "markdown",
   "id": "fa12e1cf",
   "metadata": {},
   "source": [
    "### 4-- Write a function that determines whether or not three lengths can form a triangle. The function will take 3 parameters and return a Boolean result. In addition, write a program that reads 3 lengths from the user and demonstrates the behavior of this function. In general, if any one length is greater than or equal to the sum of the other two then the lengths cannot be used to form a triangle. Otherwise they can form a triangle."
   ]
  },
  {
   "cell_type": "code",
   "execution_count": 5,
   "id": "539e927c",
   "metadata": {},
   "outputs": [
    {
     "name": "stdout",
     "output_type": "stream",
     "text": [
      "Enter the first side = 3\n",
      "Enter the second side = 4\n",
      "Enter the third side = 5\n",
      "======================================================================\n",
      "The three sides 3 , 4 and 5 of the lengths can be used to form a triangle.\n"
     ]
    }
   ],
   "source": [
    "def check(s1,s2,s3):\n",
    "    if s1 + s2 <= s3 or s2 + s3 <= s1 or s3 + s1 <= s2:\n",
    "        return False\n",
    "\n",
    "    else:\n",
    "        return True\n",
    "s1 = int(input(\"Enter the first side = \"))\n",
    "s2 = int(input(\"Enter the second side = \"))\n",
    "s3 = int(input(\"Enter the third side = \"))\n",
    "print(\"=\"*70)\n",
    "if check(s1,s2,s3):\n",
    "    print(\"The three sides\", s1,\",\", s2,'and',s3,\"of the lengths can be used to form a triangle.\")\n",
    "else:\n",
    "    print(\"The three sides\", s1,\",\", s2,'and',s3,\"of the lengths cannot be used to form triangle\")"
   ]
  },
  {
   "cell_type": "code",
   "execution_count": 6,
   "id": "c61b76e9",
   "metadata": {},
   "outputs": [
    {
     "name": "stdout",
     "output_type": "stream",
     "text": [
      "Enter the first side = 3\n",
      "Enter the second side = 3\n",
      "Enter the third side = 8\n",
      "======================================================================\n",
      "The three sides 3 , 3 and 8 of the lengths cannot be used to form triangle\n"
     ]
    }
   ],
   "source": [
    "def check(s1,s2,s3):\n",
    "    if s1 + s2 <= s3 or s2 + s3 <= s1 or s3 + s1 <= s2:\n",
    "        return False\n",
    "\n",
    "    else:\n",
    "        return True\n",
    "s1 = int(input(\"Enter the first side = \"))\n",
    "s2 = int(input(\"Enter the second side = \"))\n",
    "s3 = int(input(\"Enter the third side = \"))\n",
    "print(\"=\"*70)\n",
    "if check(s1,s2,s3):\n",
    "    print(\"The three sides\", s1,\",\", s2,'and',s3,\"of the lengths can be used to form a triangle.\")\n",
    "else:\n",
    "    print(\"The three sides\", s1,\",\", s2,'and',s3,\"of the lengths cannot be used to form triangle\")"
   ]
  },
  {
   "cell_type": "markdown",
   "id": "5686d828",
   "metadata": {},
   "source": [
    "### 5-- In this exercise you will write a function named isInteger that determines whether or not the characters in a string represent a valid integer. When determining if a string represents an integer you should ignore any leading or trailing white space. Once this white space is ignored, a string represents an integer if its length is at least 1 and it only contains digits, or if its first character is either + or - and the first character is followed by one or more characters, all of which are digits. Write a main program that reads a string from the user and reports whether or not it represents an integer."
   ]
  },
  {
   "cell_type": "code",
   "execution_count": 7,
   "id": "a96dd2a4",
   "metadata": {},
   "outputs": [
    {
     "name": "stdout",
     "output_type": "stream",
     "text": [
      "Enter a string:    21\n",
      "That string represents an integer.\n"
     ]
    }
   ],
   "source": [
    "def isInteger(str):\n",
    "    str = str.strip()\n",
    "    if (str[0] ==  \"+\"  or  str[0] == \"-\"):\n",
    "        return True\n",
    "    if str[1:].isdigit():\n",
    "        return True\n",
    "    if str.isdigit():\n",
    "        return True\n",
    "    return False\n",
    "\n",
    "str  = input (\"Enter a string:    \")\n",
    "\n",
    "if  isInteger(str):\n",
    "    print (\"That string represents an integer.\")\n",
    "else:\n",
    "    print (\"That string does not represent an integer.\")"
   ]
  },
  {
   "cell_type": "code",
   "execution_count": 8,
   "id": "84b24446",
   "metadata": {},
   "outputs": [
    {
     "name": "stdout",
     "output_type": "stream",
     "text": [
      "Enter a string:    -21\n",
      "That string represents an integer.\n"
     ]
    }
   ],
   "source": [
    "def isInteger(str):\n",
    "    str = str.strip()\n",
    "    if (str[0] ==  \"+\"  or  str[0] == \"-\"):\n",
    "        return True\n",
    "    if str[1:].isdigit():\n",
    "        return True\n",
    "    if str.isdigit():\n",
    "        return True\n",
    "    return False\n",
    "\n",
    "str  = input (\"Enter a string:    \")\n",
    "\n",
    "if  isInteger(str):\n",
    "    print (\"That string represents an integer.\")\n",
    "else:\n",
    "    print (\"That string does not represent an integer.\")"
   ]
  },
  {
   "cell_type": "code",
   "execution_count": 9,
   "id": "e7fd94a8",
   "metadata": {},
   "outputs": [
    {
     "name": "stdout",
     "output_type": "stream",
     "text": [
      "Enter a string:    vinnu12\n",
      "That string does not represent an integer.\n"
     ]
    }
   ],
   "source": [
    "def isInteger(str):\n",
    "    str = str.strip()\n",
    "    if (str[0] ==  \"+\"  or  str[0] == \"-\"):\n",
    "        return True\n",
    "    if str[1:].isdigit():\n",
    "        return True\n",
    "    if str.isdigit():\n",
    "        return True\n",
    "    return False\n",
    "\n",
    "str  = input (\"Enter a string:    \")\n",
    "\n",
    "if  isInteger(str):\n",
    "    print (\"That string represents an integer.\")\n",
    "else:\n",
    "    print (\"That string does not represent an integer.\")"
   ]
  },
  {
   "cell_type": "markdown",
   "id": "61abfa0d",
   "metadata": {},
   "source": [
    "### 6-- In this exercise you will create a function named nextPrime that finds and returns the first prime number larger than some integer, n. The value of n will be passed to the function as its only parameter. Include a main program that reads an integer from the user and displays the first prime number larger than the entered value."
   ]
  },
  {
   "cell_type": "code",
   "execution_count": 10,
   "id": "007b248c",
   "metadata": {},
   "outputs": [
    {
     "name": "stdout",
     "output_type": "stream",
     "text": [
      "Enter an integer :84\n",
      "The next first prime number larger than integer 84 is :  89\n"
     ]
    }
   ],
   "source": [
    "import math\n",
    "def isPrime(n):\n",
    "    if(n <= 1):\n",
    "        return False\n",
    "    if(n <= 3):\n",
    "        return True\n",
    "    if(n % 2 == 0 or n % 3 == 0):\n",
    "        return False\n",
    "\n",
    "    for i in range(5,int(math.sqrt(n) + 1), 6):\n",
    "        if(n % i == 0 or n % (i + 2) == 0):\n",
    "            return False\n",
    "\n",
    "    return True\n",
    "def nextPrime(N):\n",
    "    if (N <= 1):\n",
    "        return 2\n",
    "    prime = N\n",
    "    found = False\n",
    "\n",
    "    while(not found):\n",
    "        prime = prime + 1\n",
    "\n",
    "        if(isPrime(prime) == True):\n",
    "            found = True\n",
    "            return prime\n",
    "\n",
    "\n",
    "N = int(input('Enter an integer :'))\n",
    "print(\"The next first prime number larger than integer\",N,\"is : \",nextPrime(N))"
   ]
  },
  {
   "cell_type": "markdown",
   "id": "e5026782",
   "metadata": {},
   "source": [
    "### 7--In this exercise you will write a function that determines whether or not a password is good. We will define a good password to be a one that is at least 8 characters long and contains at least one uppercase letter, at least one lowercase letter, and at least one number. Your function should return true if the password passed to it as its only parameter is good. Otherwise it should return false. Include a main program that reads a password from the user and reports whether or not it is good."
   ]
  },
  {
   "cell_type": "code",
   "execution_count": 11,
   "id": "34bcdcff",
   "metadata": {},
   "outputs": [
    {
     "name": "stdout",
     "output_type": "stream",
     "text": [
      "Input your password : Vinay@1234\n",
      "Vinay@1234 is Valid Password\n"
     ]
    }
   ],
   "source": [
    "import re\n",
    "pw = input(\"Input your password : \")\n",
    "password = True\n",
    "while password:  \n",
    "    if (len(pw)<6 or len(pw)>12):\n",
    "        break\n",
    "    elif not re.search(\"[a-z]\",pw):\n",
    "        break\n",
    "    elif not re.search(\"[0-9]\",pw):\n",
    "        break\n",
    "    elif not re.search(\"[A-Z]\",pw):\n",
    "        break\n",
    "    elif not re.search(\"[$#@]\",pw):\n",
    "        break\n",
    "    elif re.search(\"\\s\",pw):\n",
    "        break\n",
    "    else:\n",
    "        print(pw,\"is Valid Password\")\n",
    "        password=False\n",
    "    break\n",
    "if password:\n",
    "    print(pw,\"is Not a Valid Password\")"
   ]
  },
  {
   "cell_type": "markdown",
   "id": "b45cd195",
   "metadata": {},
   "source": [
    "### 8-- Write a program that reads values from the user until a blank line is entered. Display the total of all of the values entered by the user (or 0.0 if the first value entered is a blank line). Complete this task using recursion. Your program may not use any loops. The body of your recursive function will need to read one value from the user, and then determine whether or not to make a recursive call. Your function does not need to take any parameters, but it will need to return a numeric result."
   ]
  },
  {
   "cell_type": "code",
   "execution_count": 12,
   "id": "5fbe9700",
   "metadata": {},
   "outputs": [
    {
     "name": "stdout",
     "output_type": "stream",
     "text": [
      "If you want to exit enter a blank line otherwise enter a value : 30\n",
      "If you want to exit enter a blank line otherwise enter a value : 85\n",
      "If you want to exit enter a blank line otherwise enter a value : 16\n",
      "If you want to exit enter a blank line otherwise enter a value : 24\n",
      "If you want to exit enter a blank line otherwise enter a value : \n",
      "================================================================================ \n",
      "Total of all the values =  155.0\n"
     ]
    }
   ],
   "source": [
    "def fun():\n",
    "    n = input(\"If you want to exit enter a blank line otherwise enter a value : \")\n",
    "    if n == \"\":\n",
    "        return 0.0\n",
    "    else:\n",
    "        n = int(n)\n",
    "        return (n + fun())\n",
    "print(\"=\"*80,\"\\nTotal of all the values = \", fun())"
   ]
  },
  {
   "cell_type": "markdown",
   "id": "a67afa25",
   "metadata": {},
   "source": [
    "### 9-- In this exercise you will write a recursive function that determines whether or not a string is a palindrome. The empty string is a palindrome, as is any string containing only one character. Any longer string is a palindrome if its first and last characters match, and if the string formed by removing the first and last characters is also a palindrome. Write a main program that reads a string from the user. Use your recursive function to determine whether or not the string is a palindrome. Then display an appropriate message for the user."
   ]
  },
  {
   "cell_type": "code",
   "execution_count": 13,
   "id": "56aa9af7",
   "metadata": {},
   "outputs": [
    {
     "name": "stdout",
     "output_type": "stream",
     "text": [
      "Enter a value: level\n",
      "The input level  is a palindrome\n"
     ]
    }
   ],
   "source": [
    "def check_palindrome(v):\n",
    "    if len(v) < 1:\n",
    "        return True\n",
    "    else:\n",
    "        if v[0] == v[-1]:\n",
    "            return check_palindrome(v[1:-1])\n",
    "        else:\n",
    "            return False\n",
    "var = input((\"Enter a value: \"))\n",
    "if(check_palindrome(var)):\n",
    "    print(\"The input\",var,\" is a palindrome\")\n",
    "else:\n",
    "    print(\"The input\",var,\"is not a palindrome\") "
   ]
  },
  {
   "cell_type": "markdown",
   "id": "375152cf",
   "metadata": {},
   "source": [
    "### 10--Write a function that takes a list of strings as its only parameter. Your function should return a string that contains all of the items in the list formatted in the manner described previously as its only result. While the examples shown previously only include lists containing four elements or less, your function should behave correctly for lists of any length. Include a main program that reads several items from the user, formats them by calling your function, and then displays the result returned by the function. Consider the following four lists:\n",
    "\n",
    "### apples\n",
    "\n",
    "#### apples and oranges\n",
    "\n",
    "#### apples, oranges and bananas\n",
    "\n",
    "#### apples, oranges, bananas and lemons"
   ]
  },
  {
   "cell_type": "code",
   "execution_count": 14,
   "id": "28046772",
   "metadata": {},
   "outputs": [
    {
     "name": "stdout",
     "output_type": "stream",
     "text": [
      "Enter the list : apples, oranges, bananas and lemons\n",
      "\n",
      " ['apples, oranges, bananas and lemons']\n",
      "apples, oranges, bananas and lemons\n"
     ]
    }
   ],
   "source": [
    "def userdetails():\n",
    "    l1=[]\n",
    "    str1 = input('Enter the list : ')\n",
    "    str1.split()\n",
    "    l1.append(str1)\n",
    "    print(\"\\n\",l1)\n",
    "    return str1\n",
    "\n",
    "print(userdetails())"
   ]
  }
 ],
 "metadata": {
  "kernelspec": {
   "display_name": "Python 3 (ipykernel)",
   "language": "python",
   "name": "python3"
  },
  "language_info": {
   "codemirror_mode": {
    "name": "ipython",
    "version": 3
   },
   "file_extension": ".py",
   "mimetype": "text/x-python",
   "name": "python",
   "nbconvert_exporter": "python",
   "pygments_lexer": "ipython3",
   "version": "3.9.7"
  }
 },
 "nbformat": 4,
 "nbformat_minor": 5
}
