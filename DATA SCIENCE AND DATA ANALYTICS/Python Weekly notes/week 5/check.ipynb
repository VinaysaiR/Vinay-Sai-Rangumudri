{
 "cells": [
  {
   "cell_type": "code",
   "execution_count": 1,
   "id": "bde83e2e",
   "metadata": {},
   "outputs": [
    {
     "name": "stdout",
     "output_type": "stream",
     "text": [
      "Enter the side of right triangle: 3\n",
      "Enter the side of right triangle: 4\n",
      "The hypotenuse of the right triangle:  5.0\n"
     ]
    }
   ],
   "source": [
    "from math import sqrt\n",
    "def hypotenuse(s1,s2):\n",
    "    return sqrt(s1**2 + s2**2)\n",
    "s1 = float(input(\"Enter the side of right triangle: \"))\n",
    "s2 = float(input(\"Enter the side of right triangle: \"))\n",
    "result = hypotenuse(s1,s2)\n",
    "print(\"The hypotenuse of the right triangle: \",result)"
   ]
  },
  {
   "cell_type": "code",
   "execution_count": 2,
   "id": "f34df520",
   "metadata": {},
   "outputs": [
    {
     "name": "stdout",
     "output_type": "stream",
     "text": [
      "Enter the number of items = 4\n",
      "Enter the first item :mango\n",
      "your first item : mango for shiping charge is $10.95\n",
      "==================================================\n",
      "Enter the items :apple\n",
      "your item is : apple with shiping charge is $2.95 \n",
      "==================================================\n",
      "Enter the items :grape\n",
      "your item is : grape with shiping charge is $2.95 \n",
      "==================================================\n",
      "Enter the items :orange\n",
      "your item is : orange with shiping charge is $2.95 \n",
      "==================================================\n",
      "your all items shipping charge is : 19.8\n"
     ]
    }
   ],
   "source": [
    "n = int(input(\"Enter the number of items = \"))\n",
    "def shipping_charges(c1,c2):\n",
    "    return (c1 + c2*(n-1))\n",
    "first_cost = 10.95\n",
    "other_cost = 2.95\n",
    "c1 = float(first_cost)\n",
    "c2 = float(other_cost)\n",
    "x = input('Enter the first item :')\n",
    "print ('your first item :',x,'for shiping charge is $10.95')\n",
    "print('='*50)\n",
    "for i in range(0,n-1):\n",
    "    a = input('Enter the items :')\n",
    "    print ('your item is :',a,'with shiping charge is $2.95 ')\n",
    "    print ('='*50)\n",
    "    \n",
    "result = shipping_charges(c1,c2)\n",
    "print('your all items shipping charge is :',result)"
   ]
  },
  {
   "cell_type": "code",
   "execution_count": 3,
   "id": "6cbb5af4",
   "metadata": {},
   "outputs": [
    {
     "name": "stdout",
     "output_type": "stream",
     "text": [
      "Enter the first number = 91\n",
      "Enter the second number = 25\n",
      "Enter the third number = 12\n",
      "========================================\n",
      "The median of the three number = 25\n"
     ]
    }
   ],
   "source": [
    "def median(n1,n2,n3):\n",
    "    s = [n1,n2,n3]\n",
    "    s.sort()\n",
    "    return s[1]\n",
    "\n",
    "n1 = int(input(\"Enter the first number = \"))\n",
    "n2 = int(input(\"Enter the second number = \"))\n",
    "n3 = int(input(\"Enter the third number = \"))\n",
    "\n",
    "result = median(n1,n2,n3)\n",
    "s = '=' \n",
    "print(s*40)\n",
    "print(\"The median of the three number =\",result)"
   ]
  },
  {
   "cell_type": "code",
   "execution_count": 6,
   "id": "91a56fc7",
   "metadata": {},
   "outputs": [
    {
     "name": "stdout",
     "output_type": "stream",
     "text": [
      "Enter the first side = 2\n",
      "Enter the second side = 2\n",
      "Enter the third side = 5\n",
      "======================================================================\n",
      "The three sides 2 , 2 and 5 of the lengths cannot be used to form triangle\n"
     ]
    }
   ],
   "source": [
    "def check(s1,s2,s3):\n",
    "    if s1 + s2 <= s3 or s2 + s3 <= s1 or s3 + s1 <= s2:\n",
    "        return False\n",
    "    else:\n",
    "        return True\n",
    "s1 = int(input(\"Enter the first side = \"))\n",
    "s2 = int(input(\"Enter the second side = \"))\n",
    "s3 = int(input(\"Enter the third side = \"))\n",
    "print(\"=\"*70)\n",
    "if check(s1,s2,s3):\n",
    "    print(\"The three sides\", s1,\",\", s2,'and',s3,\"of the lengths can be used to form a triangle.\")\n",
    "else:\n",
    "    print(\"The three sides\", s1,\",\", s2,'and',s3,\"of the lengths cannot be used to form triangle\")"
   ]
  },
  {
   "cell_type": "code",
   "execution_count": 17,
   "id": "0974b4e2",
   "metadata": {},
   "outputs": [
    {
     "name": "stdout",
     "output_type": "stream",
     "text": [
      "Enter the first side = 3\n",
      "Enter the second side = 3\n",
      "Enter the third side = 6\n",
      "======================================================================\n",
      "The three sides 3 , 3 and 6 of the lengths cannot be used to form triangle\n"
     ]
    }
   ],
   "source": [
    "def check(s1,s2,s3):\n",
    "    if s1 + s2 <= s3 or s2 + s3 <= s1 or s3 + s1 <= s2:\n",
    "        return False\n",
    "    else:\n",
    "        return True\n",
    "s1 = int(input(\"Enter the first side = \"))\n",
    "s2 = int(input(\"Enter the second side = \"))\n",
    "s3 = int(input(\"Enter the third side = \"))\n",
    "print(\"=\"*70)\n",
    "if check(s1,s2,s3):\n",
    "    print(\"The three sides\", s1,\",\", s2,'and',s3,\"of the lengths can be used to form a triangle.\")\n",
    "else:\n",
    "    print(\"The three sides\", s1,\",\", s2,'and',s3,\"of the lengths cannot be used to form triangle\")"
   ]
  },
  {
   "cell_type": "code",
   "execution_count": 9,
   "id": "7ca90844",
   "metadata": {},
   "outputs": [
    {
     "name": "stdout",
     "output_type": "stream",
     "text": [
      "Enter a string:    +12\n",
      "That string represents an integer.\n"
     ]
    }
   ],
   "source": [
    "def isInteger(str):\n",
    "    str = str.strip()\n",
    "    if (str[0] ==  \"+\"  or  str[0] == \"-\"):\n",
    "        return True\n",
    "    if str[1:].isdigit():\n",
    "        return True\n",
    "    if str.isdigit():\n",
    "        return True\n",
    "    return False\n",
    "\n",
    "str  = input (\"Enter a string:    \")\n",
    "\n",
    "if  isInteger(str):\n",
    "    print (\"That string represents an integer.\")\n",
    "else:\n",
    "    print (\"That string does not represent an integer.\")"
   ]
  },
  {
   "cell_type": "code",
   "execution_count": 19,
   "id": "27f74ca7",
   "metadata": {},
   "outputs": [
    {
     "name": "stdout",
     "output_type": "stream",
     "text": [
      "Enter a string:    -21\n",
      "That string represents an integer.\n"
     ]
    }
   ],
   "source": [
    "def isInteger(str):\n",
    "    str = str.strip()\n",
    "    if (str[0] ==  \"+\"  or  str[0] == \"-\"):\n",
    "        return True\n",
    "    if str[1:].isdigit():\n",
    "        return True\n",
    "    if str.isdigit():\n",
    "        return True\n",
    "    return False\n",
    "\n",
    "str  = input (\"Enter a string:    \")\n",
    "\n",
    "if  isInteger(str):\n",
    "    print (\"That string represents an integer.\")\n",
    "else:\n",
    "    print (\"That string does not represent an integer.\")"
   ]
  },
  {
   "cell_type": "code",
   "execution_count": 11,
   "id": "b60e12f4",
   "metadata": {},
   "outputs": [
    {
     "name": "stdout",
     "output_type": "stream",
     "text": [
      "Enter an integer :73\n",
      "The next first prime number larger than integer 73 is :  79\n"
     ]
    }
   ],
   "source": [
    "import math\n",
    "def isPrime(n):\n",
    "    if(n <= 1):\n",
    "        return False\n",
    "    if(n <= 3):\n",
    "        return True\n",
    "    if(n % 2 == 0 or n % 3 == 0):\n",
    "        return False\n",
    "\n",
    "    for i in range(5,int(math.sqrt(n) + 1), 6):\n",
    "        if(n % i == 0 or n % (i + 2) == 0):\n",
    "            return False\n",
    "\n",
    "    return True\n",
    "def nextPrime(N):\n",
    "    if (N <= 1):\n",
    "        return 2\n",
    "    prime = N\n",
    "    found = False\n",
    "\n",
    "    while(not found):\n",
    "        prime = prime + 1\n",
    "\n",
    "        if(isPrime(prime) == True):\n",
    "            found = True\n",
    "            return prime\n",
    "\n",
    "\n",
    "N = int(input('Enter an integer :'))\n",
    "print(\"The next first prime number larger than integer\",N,\"is : \",nextPrime(N))"
   ]
  },
  {
   "cell_type": "code",
   "execution_count": 13,
   "id": "147a1677",
   "metadata": {},
   "outputs": [
    {
     "name": "stdout",
     "output_type": "stream",
     "text": [
      "Input your password : Vinay12\n",
      "Vinay12 is Not a Valid Password\n"
     ]
    }
   ],
   "source": [
    "import re\n",
    "pw = input(\"Input your password : \")\n",
    "password = True\n",
    "while password:  \n",
    "    if (len(pw)<6 or len(pw)>12):\n",
    "        break\n",
    "    elif not re.search(\"[a-z]\",pw):\n",
    "        break\n",
    "    elif not re.search(\"[0-9]\",pw):\n",
    "        break\n",
    "    elif not re.search(\"[A-Z]\",pw):\n",
    "        break\n",
    "    elif not re.search(\"[$#@]\",pw):\n",
    "        break\n",
    "    elif re.search(\"\\s\",pw):\n",
    "        break\n",
    "    else:\n",
    "        print(pw,\"is Valid Password\")\n",
    "        password=False\n",
    "    break\n",
    "if password:\n",
    "    print(pw,\"is Not a Valid Password\")"
   ]
  },
  {
   "cell_type": "code",
   "execution_count": 14,
   "id": "cca149e5",
   "metadata": {},
   "outputs": [
    {
     "name": "stdout",
     "output_type": "stream",
     "text": [
      "If you want to exit enter a blank line otherwise enter a value : 25\n",
      "If you want to exit enter a blank line otherwise enter a value : 56\n",
      "If you want to exit enter a blank line otherwise enter a value : 557\n",
      "If you want to exit enter a blank line otherwise enter a value : 8\n",
      "If you want to exit enter a blank line otherwise enter a value : \n",
      "================================================================================ \n",
      "Total of all the values =  646.0\n"
     ]
    }
   ],
   "source": [
    "def fun():\n",
    "    n = input(\"If you want to exit enter a blank line otherwise enter a value : \")\n",
    "    if n == \"\":\n",
    "        return 0.0\n",
    "    else:\n",
    "        n = int(n)\n",
    "        return (n + fun())\n",
    "print(\"=\"*80,\"\\nTotal of all the values = \", fun())"
   ]
  },
  {
   "cell_type": "code",
   "execution_count": 16,
   "id": "10431119",
   "metadata": {},
   "outputs": [
    {
     "name": "stdout",
     "output_type": "stream",
     "text": [
      "Enter a value: hello\n",
      "The input hello is not a palindrome\n"
     ]
    }
   ],
   "source": [
    "def check_palindrome(v):\n",
    "    if len(v) < 1:\n",
    "        return True\n",
    "    else:\n",
    "        if v[0] == v[-1]:\n",
    "            return check_palindrome(v[1:-1])\n",
    "        else:\n",
    "            return False\n",
    "var = input((\"Enter a value: \"))\n",
    "if(check_palindrome(var)):\n",
    "    print(\"The input\",var,\" is a palindrome\")\n",
    "else:\n",
    "    print(\"The input\",var,\"is not a palindrome\") "
   ]
  },
  {
   "cell_type": "code",
   "execution_count": 26,
   "id": "8ff92294",
   "metadata": {},
   "outputs": [
    {
     "name": "stdout",
     "output_type": "stream",
     "text": [
      "Enter the list : apple, grape, banana, mango\n",
      "\n",
      " ['apple, grape, banana, mango']\n",
      "apple, grape, banana, mango\n"
     ]
    }
   ],
   "source": [
    "def userdetails():\n",
    "    l1=[]\n",
    "    str1 = input('Enter the list : ')\n",
    "    str1.split()\n",
    "    l1.append(str1)\n",
    "    print(\"\\n\",l1)\n",
    "    return str1\n",
    "\n",
    "print(userdetails())"
   ]
  }
 ],
 "metadata": {
  "kernelspec": {
   "display_name": "Python 3 (ipykernel)",
   "language": "python",
   "name": "python3"
  },
  "language_info": {
   "codemirror_mode": {
    "name": "ipython",
    "version": 3
   },
   "file_extension": ".py",
   "mimetype": "text/x-python",
   "name": "python",
   "nbconvert_exporter": "python",
   "pygments_lexer": "ipython3",
   "version": "3.9.7"
  }
 },
 "nbformat": 4,
 "nbformat_minor": 5
}
