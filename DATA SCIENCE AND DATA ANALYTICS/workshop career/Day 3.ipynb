{
 "cells": [
  {
   "cell_type": "code",
   "execution_count": 1,
   "id": "f08bb317",
   "metadata": {},
   "outputs": [],
   "source": [
    "#Python Basics-->Introduction\n",
    "#Data types\n",
    "#If else\n",
    "#Strings\n",
    "#Data Structures"
   ]
  },
  {
   "cell_type": "code",
   "execution_count": null,
   "id": "da4eaa65",
   "metadata": {},
   "outputs": [],
   "source": [
    "#Looping Statements\n",
    "#Functions\n",
    "\n",
    "\n",
    "\n",
    "\n"
   ]
  },
  {
   "cell_type": "code",
   "execution_count": null,
   "id": "7f0c2222",
   "metadata": {},
   "outputs": [],
   "source": [
    "#Loops--> A Repetitive Statements for a particular execution of a condition\n",
    "#Types of loops\n",
    "#1.While Loop--> it has a condition and the loop will run unless and until the condition fails\n",
    "#2.For Loop\n",
    "#3.Nested Loop"
   ]
  },
  {
   "cell_type": "code",
   "execution_count": 4,
   "id": "32ceead2",
   "metadata": {},
   "outputs": [
    {
     "name": "stdout",
     "output_type": "stream",
     "text": [
      "0\n",
      "1\n",
      "2\n",
      "3\n",
      "4\n",
      "5\n",
      "6\n",
      "7\n",
      "8\n",
      "9\n"
     ]
    }
   ],
   "source": [
    "i=0\n",
    "while i<10: #i<10(less than 10)\n",
    "    print(i)#action statement\n",
    "    i+=1#increment value\n",
    "    "
   ]
  },
  {
   "cell_type": "code",
   "execution_count": null,
   "id": "470ac228",
   "metadata": {},
   "outputs": [],
   "source": [
    "#while loop has a condition \n",
    "#we have to initialize the variable\n",
    "#increment is necessary\n",
    "#We use while loop when we dont know the no of iteration (no of iteration will be dependent on increment value) "
   ]
  },
  {
   "cell_type": "code",
   "execution_count": 5,
   "id": "66c8303a",
   "metadata": {},
   "outputs": [
    {
     "name": "stdout",
     "output_type": "stream",
     "text": [
      "0\n",
      "1\n",
      "2\n",
      "3\n",
      "4\n",
      "5\n",
      "6\n",
      "7\n",
      "8\n",
      "9\n"
     ]
    }
   ],
   "source": [
    "#for loop is used when we know the no of iterations\n",
    "list1=[0,1,2,3,4,5,6,7,8,9]#iterable (a sequence on which our iterator will run)\n",
    "#iterator(i) is an object that runs through the loop\n",
    "#The entire process is known as iteration \n",
    "for i in list1:#i is our iterator , list1 is our iterable and the whole process is iteration\n",
    "    print(i)"
   ]
  },
  {
   "cell_type": "code",
   "execution_count": null,
   "id": "01a34210",
   "metadata": {},
   "outputs": [],
   "source": [
    "#difference between for and while loop (MIMP Question)\n",
    "#1.Usage--> While loop is used when the no of iterations is not known\n",
    "#For loop is used when the no of iterations is known\n",
    "\n",
    "#2 Initialization-->In While loop,initialization is required whereas in for loop initialization is not required\n",
    "\n",
    "#3 Increment --> In while loop , increment is necessary whereas in for loop increment is not necessary\n",
    "\n",
    "#4.Application--> In while loop we have a condition and loop will run unless and until the condition doesnt turns out to be false\n",
    "#In for loop we have an iteration process going on and iterator will run accross the iterable \n"
   ]
  },
  {
   "cell_type": "code",
   "execution_count": null,
   "id": "92f17121",
   "metadata": {},
   "outputs": [],
   "source": [
    "#3 Nested Loop--> Loops within a loop\n"
   ]
  },
  {
   "cell_type": "code",
   "execution_count": 9,
   "id": "3ce54ee8",
   "metadata": {},
   "outputs": [
    {
     "name": "stdout",
     "output_type": "stream",
     "text": [
      "56\n"
     ]
    }
   ],
   "source": []
  },
  {
   "cell_type": "code",
   "execution_count": 14,
   "id": "44bde9eb",
   "metadata": {},
   "outputs": [
    {
     "name": "stdout",
     "output_type": "stream",
     "text": [
      "56\n",
      "2\n",
      "3\n",
      "5\n",
      "7\n",
      "11\n",
      "13\n",
      "17\n",
      "19\n",
      "23\n",
      "29\n"
     ]
    }
   ],
   "source": [
    "#nested loop\n",
    "n=int(input())\n",
    "for i in range(2,n+1): #for i in [2,3,4,5,6,...71] \n",
    "        for j in range(2,i):#for j in [2,]\n",
    "            if i % j== 0:\n",
    "                break \n",
    "        else:\n",
    "            if i >30:\n",
    "                break\n",
    "            print(i)"
   ]
  },
  {
   "cell_type": "code",
   "execution_count": null,
   "id": "db21d1c0",
   "metadata": {},
   "outputs": [],
   "source": []
  },
  {
   "cell_type": "code",
   "execution_count": null,
   "id": "cc639be7",
   "metadata": {},
   "outputs": [],
   "source": [
    "#how to get the control of loops?\n",
    "#using control statement \n",
    "#Control statements are those statement that helps you to get control over the loop\n"
   ]
  },
  {
   "cell_type": "code",
   "execution_count": null,
   "id": "9ed42b76",
   "metadata": {},
   "outputs": [],
   "source": [
    "#3 types of control statements\n",
    "#1.Break--> end the loop abruptly\n",
    "#2.Continue--> exclude the value which is passed in the condition\n",
    "#3.Pass-->it will allow the null value to be stored in a function\n",
    "\n",
    "#C C++ we can only use else with the conditional statements\n",
    "\n",
    "#Whereas in python we can also use else statement with looping as well \n",
    "\n",
    "\n"
   ]
  },
  {
   "cell_type": "code",
   "execution_count": 24,
   "id": "7c346bd4",
   "metadata": {},
   "outputs": [
    {
     "name": "stdout",
     "output_type": "stream",
     "text": [
      "0\n",
      "1\n",
      "2\n",
      "3\n",
      "4\n",
      "5\n",
      "6\n",
      "7\n",
      "8\n",
      "9\n",
      "10\n",
      "11\n",
      "12\n",
      "13\n",
      "14\n"
     ]
    }
   ],
   "source": [
    "#break \n",
    "for i in range(25):\n",
    "    if i==15:\n",
    "        break\n",
    "    print(i)"
   ]
  },
  {
   "cell_type": "code",
   "execution_count": 22,
   "id": "a318deae",
   "metadata": {},
   "outputs": [
    {
     "name": "stdout",
     "output_type": "stream",
     "text": [
      "0\n",
      "1\n",
      "2\n",
      "3\n",
      "4\n",
      "5\n",
      "6\n",
      "7\n",
      "8\n",
      "9\n",
      "10\n",
      "11\n",
      "12\n",
      "13\n",
      "14\n",
      "16\n",
      "17\n",
      "18\n",
      "19\n",
      "20\n",
      "21\n",
      "22\n",
      "23\n",
      "24\n"
     ]
    }
   ],
   "source": [
    "#continue \n",
    "for i in range(25):\n",
    "    if i==15:\n",
    "        continue\n",
    "    print(i)\n"
   ]
  },
  {
   "cell_type": "code",
   "execution_count": null,
   "id": "70a1fa85",
   "metadata": {},
   "outputs": [],
   "source": [
    "#imp note--> when ever we are dealing with control statements always use the control statement before the action statement\n"
   ]
  },
  {
   "cell_type": "code",
   "execution_count": 5,
   "id": "893af383",
   "metadata": {},
   "outputs": [
    {
     "name": "stdout",
     "output_type": "stream",
     "text": [
      "Enter no of iteration5\n",
      "Enter the value6\n",
      "Enter the value2\n",
      "Enter the value5\n",
      "Enter the value0\n",
      "4.333333333333333\n",
      "The average value is []\n",
      "The above average is  [6, 5]\n",
      "The below average is [2]\n"
     ]
    }
   ],
   "source": [
    "#Q6 W4\n",
    "#Take the values from user\n",
    "#if value is 0 end the loop\n",
    "#calculate the avg\n",
    "#Display the avg,below_avg and above_avg\n",
    "\n",
    "\n",
    "n=int(input('Enter no of iteration'))\n",
    "sum1=0\n",
    "count=0\n",
    "list1=[]\n",
    "if n==0:\n",
    "    print('Error')\n",
    "else:\n",
    "    while n>0:\n",
    "        num=int(input('Enter the value'))\n",
    "        if num==0:\n",
    "            break\n",
    "        else:\n",
    "            sum1+=num\n",
    "            count+=1\n",
    "            list1.append(num)\n",
    "            \n",
    "avg1=sum1/count\n",
    "\n",
    "avg=[]\n",
    "above_avg=[]\n",
    "below_avg=[]\n",
    "\n",
    "for i in list1:\n",
    "    if i>avg1:\n",
    "        above_avg.append(i)\n",
    "    elif i==avg1:\n",
    "        avg.append(i)\n",
    "    else:\n",
    "        below_avg.append(i)\n",
    "print(avg1)        \n",
    "print('The average value is',avg)\n",
    "print('The above average is ',above_avg)\n",
    "print('The below average is',below_avg)    \n"
   ]
  },
  {
   "cell_type": "code",
   "execution_count": null,
   "id": "15107dc1",
   "metadata": {},
   "outputs": [],
   "source": [
    "#10 minutes\n",
    "#6:30 to 7\n",
    "\n",
    "#Functions \n",
    "#It is a block of code which runs when it is called \n",
    "\n",
    "#Reusable block of code that executes when it is called\n",
    "\n",
    "\n"
   ]
  },
  {
   "cell_type": "code",
   "execution_count": 6,
   "id": "6fcf2ea3",
   "metadata": {},
   "outputs": [
    {
     "data": {
      "text/plain": [
       "3"
      ]
     },
     "execution_count": 6,
     "metadata": {},
     "output_type": "execute_result"
    }
   ],
   "source": [
    "#check the length of list1\n",
    "len(list1) #len is a function that will execute and will display us the length when we are calling it\n"
   ]
  },
  {
   "cell_type": "code",
   "execution_count": null,
   "id": "e7d9f7cc",
   "metadata": {},
   "outputs": [],
   "source": [
    "#2 Types of Functions\n",
    "#1.User defined-> can be modified and can be used as per the demand of the user\n",
    "#2.In built -: rigid(we cant make some modifications),it has a fixed use \n"
   ]
  },
  {
   "cell_type": "code",
   "execution_count": null,
   "id": "57b54570",
   "metadata": {},
   "outputs": [],
   "source": [
    "#User Defined is more suitable to the need of the user as compared to the built in functions\n",
    "#def is a keyword used to create a function \n",
    "\n"
   ]
  },
  {
   "cell_type": "code",
   "execution_count": 13,
   "id": "4c26225d",
   "metadata": {},
   "outputs": [],
   "source": [
    "def add1(x,y):#x,y--> are parameters\n",
    "    return x+y\n",
    "\n"
   ]
  },
  {
   "cell_type": "code",
   "execution_count": 12,
   "id": "be65cd3b",
   "metadata": {},
   "outputs": [
    {
     "data": {
      "text/plain": [
       "'sfdg'"
      ]
     },
     "execution_count": 12,
     "metadata": {},
     "output_type": "execute_result"
    }
   ],
   "source": [
    "add1(5,6)"
   ]
  },
  {
   "cell_type": "code",
   "execution_count": null,
   "id": "c9b53294",
   "metadata": {},
   "outputs": [],
   "source": [
    "#Return and print\n",
    "#print can be used anywhere \n",
    "#return can only be used with a function\n",
    "\n",
    "#print requires a parenthesis\n",
    "#return doesnt requires a parenthesis\n"
   ]
  },
  {
   "cell_type": "code",
   "execution_count": 10,
   "id": "3d2a206a",
   "metadata": {},
   "outputs": [
    {
     "ename": "SyntaxError",
     "evalue": "'return' outside function (3881923386.py, line 1)",
     "output_type": "error",
     "traceback": [
      "\u001b[1;36m  Input \u001b[1;32mIn [10]\u001b[1;36m\u001b[0m\n\u001b[1;33m    return z+2\u001b[0m\n\u001b[1;37m    ^\u001b[0m\n\u001b[1;31mSyntaxError\u001b[0m\u001b[1;31m:\u001b[0m 'return' outside function\n"
     ]
    }
   ],
   "source": [
    "return z+2"
   ]
  },
  {
   "cell_type": "code",
   "execution_count": null,
   "id": "c9a418b9",
   "metadata": {},
   "outputs": [],
   "source": [
    "#function --> 24 lines\n",
    "#breaking of a function is known as function decomposition \n",
    "#functional structural analysis\n",
    "#process of analysis of the structure of the function is known as functional structural analysis\n",
    "\n"
   ]
  },
  {
   "cell_type": "code",
   "execution_count": null,
   "id": "73caad02",
   "metadata": {},
   "outputs": [],
   "source": [
    "#Calculator\n",
    "def Calculator():#5 (X,Y,Z,A,B)\n",
    "    n=int(input('NO OF ARGUMENTS:')) #LIMIT N TO 5\n",
    "    x=int(input())\n",
    "    symbol=input()\n",
    "    y=int(input())\n",
    "    \n",
    "    print('X SYMBOL Y'=ANSWER)\n",
    "    \n",
    "    \n",
    "x+y/z * a"
   ]
  },
  {
   "cell_type": "code",
   "execution_count": null,
   "id": "b63aad85",
   "metadata": {},
   "outputs": [],
   "source": [
    "#Lambda function,map,reduce,filter"
   ]
  }
 ],
 "metadata": {
  "kernelspec": {
   "display_name": "Python 3 (ipykernel)",
   "language": "python",
   "name": "python3"
  },
  "language_info": {
   "codemirror_mode": {
    "name": "ipython",
    "version": 3
   },
   "file_extension": ".py",
   "mimetype": "text/x-python",
   "name": "python",
   "nbconvert_exporter": "python",
   "pygments_lexer": "ipython3",
   "version": "3.9.7"
  }
 },
 "nbformat": 4,
 "nbformat_minor": 5
}
