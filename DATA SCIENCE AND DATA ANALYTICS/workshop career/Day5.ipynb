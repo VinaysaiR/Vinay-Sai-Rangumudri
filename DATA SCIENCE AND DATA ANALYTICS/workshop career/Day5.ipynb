{
 "cells": [
  {
   "cell_type": "code",
   "execution_count": 1,
   "id": "96207289",
   "metadata": {},
   "outputs": [],
   "source": [
    "#Numpy --> Numerical Python \n",
    "#It is a python library mainly used for scientific and numerical computation\n",
    "#The data type we have it is array\n",
    "\n",
    "#How array and a list is different from each other \n",
    "#Array has one data type for all the elements in particular array whereas\n",
    "#list can support multiple data types in one list\n",
    "\n",
    "#Array can be multidimensional but list is only single dimensional \n",
    "\n",
    "#Arrays are faster than list \n",
    "\n",
    "#Array has many functionalities for computation as compared to list\n",
    "\n",
    "\n"
   ]
  },
  {
   "cell_type": "code",
   "execution_count": 2,
   "id": "f8001d60",
   "metadata": {},
   "outputs": [],
   "source": [
    "#Q1)---> Which of these is not an application of numpy array?\n",
    "#A)--> outlier detection\n",
    "#B)--> dealing with images\n",
    "#C)--> finding a particular element or a condition in a dataset\n",
    "#D)-->Generating some random numbers \n",
    "\n",
    "#D)\n"
   ]
  },
  {
   "cell_type": "code",
   "execution_count": 5,
   "id": "0d1c7f32",
   "metadata": {},
   "outputs": [
    {
     "data": {
      "text/plain": [
       "array([12, 15, 18, 21, 24, 27, 30, 33, 36, 39, 42, 45, 48, 51, 54, 57, 60,\n",
       "       63, 66, 69, 72, 75, 78, 81, 84, 87, 90, 93, 96, 99])"
      ]
     },
     "execution_count": 5,
     "metadata": {},
     "output_type": "execute_result"
    }
   ],
   "source": [
    "#Q5)--> 1)--> using numpy .arange create an array which has 99 as the last val and 12 with a difference of 3\n",
    "x=np.arange(12,100,3)\n",
    "x"
   ]
  },
  {
   "cell_type": "code",
   "execution_count": 8,
   "id": "424e14ad",
   "metadata": {},
   "outputs": [],
   "source": [
    "y=np.zeros((3,3)) #will initialize all elements as 0"
   ]
  },
  {
   "cell_type": "code",
   "execution_count": 9,
   "id": "fb110697",
   "metadata": {},
   "outputs": [
    {
     "data": {
      "text/plain": [
       "array([[0., 0., 0.],\n",
       "       [0., 0., 0.],\n",
       "       [0., 0., 0.]])"
      ]
     },
     "execution_count": 9,
     "metadata": {},
     "output_type": "execute_result"
    }
   ],
   "source": [
    "y"
   ]
  },
  {
   "cell_type": "code",
   "execution_count": 10,
   "id": "ecc7d166",
   "metadata": {},
   "outputs": [],
   "source": [
    "z=np.ones((3,3)) #it will initialize all elements as 1\n"
   ]
  },
  {
   "cell_type": "code",
   "execution_count": 14,
   "id": "00e971f3",
   "metadata": {},
   "outputs": [],
   "source": [
    "a=np.eye(3,3) #it will create a diagnol matrix for a given shape"
   ]
  },
  {
   "cell_type": "code",
   "execution_count": 15,
   "id": "1dd523fd",
   "metadata": {},
   "outputs": [
    {
     "data": {
      "text/plain": [
       "array([[1., 0., 0.],\n",
       "       [0., 1., 0.],\n",
       "       [0., 0., 1.]])"
      ]
     },
     "execution_count": 15,
     "metadata": {},
     "output_type": "execute_result"
    }
   ],
   "source": [
    "a"
   ]
  },
  {
   "cell_type": "code",
   "execution_count": 16,
   "id": "d0cd496b",
   "metadata": {},
   "outputs": [
    {
     "data": {
      "text/plain": [
       "array([10. , 12.5, 15. , 17.5, 20. ])"
      ]
     },
     "execution_count": 16,
     "metadata": {},
     "output_type": "execute_result"
    }
   ],
   "source": [
    "np.linspace(10,20,5) #it will fill the array with the no of elements at a given interval between 2 numbers"
   ]
  },
  {
   "cell_type": "code",
   "execution_count": 18,
   "id": "19c505c7",
   "metadata": {},
   "outputs": [
    {
     "data": {
      "text/plain": [
       "array([[0., 1., 0., 0.],\n",
       "       [0., 0., 1., 0.],\n",
       "       [0., 0., 0., 1.],\n",
       "       [0., 0., 0., 0.]])"
      ]
     },
     "execution_count": 18,
     "metadata": {},
     "output_type": "execute_result"
    }
   ],
   "source": [
    "#[4*4 with only diagnols having 1s and rest all are 0]\n",
    "np.eye(4,4,k=1)"
   ]
  },
  {
   "cell_type": "code",
   "execution_count": 19,
   "id": "137cf76e",
   "metadata": {},
   "outputs": [],
   "source": [
    "#inspecting \n",
    "x=np.array([1,2,3,4,5])"
   ]
  },
  {
   "cell_type": "code",
   "execution_count": 42,
   "id": "3346c60f",
   "metadata": {},
   "outputs": [],
   "source": [
    "y=np.array([[[1,2,3,4],[5,6,7,8]]])"
   ]
  },
  {
   "cell_type": "code",
   "execution_count": 39,
   "id": "45ca34b3",
   "metadata": {},
   "outputs": [
    {
     "data": {
      "text/plain": [
       "(5,)"
      ]
     },
     "execution_count": 39,
     "metadata": {},
     "output_type": "execute_result"
    }
   ],
   "source": [
    "np.shape(x)"
   ]
  },
  {
   "cell_type": "code",
   "execution_count": 43,
   "id": "be54f57a",
   "metadata": {},
   "outputs": [
    {
     "data": {
      "text/plain": [
       "(1, 2, 4)"
      ]
     },
     "execution_count": 43,
     "metadata": {},
     "output_type": "execute_result"
    }
   ],
   "source": [
    "np.shape(y) #shape(x,y) #x--> always gives no of rows and y will give no of columns"
   ]
  },
  {
   "cell_type": "code",
   "execution_count": 23,
   "id": "eb30fd0a",
   "metadata": {},
   "outputs": [
    {
     "data": {
      "text/plain": [
       "5"
      ]
     },
     "execution_count": 23,
     "metadata": {},
     "output_type": "execute_result"
    }
   ],
   "source": [
    "#shape will return the shape of array\n",
    "\n",
    "np.size(x) #return the total no of elements"
   ]
  },
  {
   "cell_type": "code",
   "execution_count": 24,
   "id": "18a47a2c",
   "metadata": {},
   "outputs": [
    {
     "data": {
      "text/plain": [
       "8"
      ]
     },
     "execution_count": 24,
     "metadata": {},
     "output_type": "execute_result"
    }
   ],
   "source": [
    "np.size(y)"
   ]
  },
  {
   "cell_type": "code",
   "execution_count": 31,
   "id": "610a5d6a",
   "metadata": {},
   "outputs": [
    {
     "data": {
      "text/plain": [
       "dtype('int32')"
      ]
     },
     "execution_count": 31,
     "metadata": {},
     "output_type": "execute_result"
    }
   ],
   "source": [
    "x.dtype #it will return data type of the entire array"
   ]
  },
  {
   "cell_type": "code",
   "execution_count": 32,
   "id": "8fc0e0f8",
   "metadata": {},
   "outputs": [
    {
     "data": {
      "text/plain": [
       "dtype('int32')"
      ]
     },
     "execution_count": 32,
     "metadata": {},
     "output_type": "execute_result"
    }
   ],
   "source": [
    "y.dtype"
   ]
  },
  {
   "cell_type": "code",
   "execution_count": 34,
   "id": "f350ad69",
   "metadata": {},
   "outputs": [
    {
     "data": {
      "text/plain": [
       "1"
      ]
     },
     "execution_count": 34,
     "metadata": {},
     "output_type": "execute_result"
    }
   ],
   "source": [
    "x.ndim"
   ]
  },
  {
   "cell_type": "code",
   "execution_count": 44,
   "id": "3ed490bb",
   "metadata": {},
   "outputs": [
    {
     "data": {
      "text/plain": [
       "3"
      ]
     },
     "execution_count": 44,
     "metadata": {},
     "output_type": "execute_result"
    }
   ],
   "source": [
    "y.ndim"
   ]
  },
  {
   "cell_type": "code",
   "execution_count": 46,
   "id": "7b20a53a",
   "metadata": {},
   "outputs": [
    {
     "data": {
      "text/plain": [
       "array([1, 2, 3, 4, 5])"
      ]
     },
     "execution_count": 46,
     "metadata": {},
     "output_type": "execute_result"
    }
   ],
   "source": [
    "x.view()"
   ]
  },
  {
   "cell_type": "code",
   "execution_count": 52,
   "id": "67c5c81e",
   "metadata": {},
   "outputs": [],
   "source": [
    "#Manipulation\n",
    "#Reshape\n",
    "#Resize\n",
    "\n",
    "#y.reshape(1,8)#no of rows*col== size #will change the shape\n",
    "y.resize((2,10),refcheck=False) #will change the size "
   ]
  },
  {
   "cell_type": "code",
   "execution_count": 54,
   "id": "f8cba98c",
   "metadata": {},
   "outputs": [
    {
     "data": {
      "text/plain": [
       "array([1, 2, 3, 4, 5, 6, 7, 8, 0, 0, 0, 0, 0, 0, 0, 0, 0, 0, 0, 0])"
      ]
     },
     "execution_count": 54,
     "metadata": {},
     "output_type": "execute_result"
    }
   ],
   "source": [
    "y.flatten() #flatten will convert any dimensional array into one dimension"
   ]
  },
  {
   "cell_type": "code",
   "execution_count": 58,
   "id": "bcb68c83",
   "metadata": {},
   "outputs": [],
   "source": [
    "y.resize((4,8),refcheck=False) #refcheck =true #reshape"
   ]
  },
  {
   "cell_type": "code",
   "execution_count": 59,
   "id": "28d5ad4f",
   "metadata": {},
   "outputs": [
    {
     "data": {
      "text/plain": [
       "array([[1, 2, 3, 4, 5, 6, 7, 8],\n",
       "       [0, 0, 0, 0, 0, 0, 0, 0],\n",
       "       [0, 0, 0, 0, 0, 0, 0, 0],\n",
       "       [0, 0, 0, 0, 0, 0, 0, 0]])"
      ]
     },
     "execution_count": 59,
     "metadata": {},
     "output_type": "execute_result"
    }
   ],
   "source": [
    "y"
   ]
  },
  {
   "cell_type": "code",
   "execution_count": null,
   "id": "fdedb463",
   "metadata": {},
   "outputs": [],
   "source": [
    "#1.Scalar \n",
    "#2.Vector \n",
    "#3.Mathematical operation\n",
    "#4.Hstack,vstack,concat,hsplit \n"
   ]
  },
  {
   "cell_type": "code",
   "execution_count": 73,
   "id": "d12d8a01",
   "metadata": {},
   "outputs": [
    {
     "data": {
      "text/plain": [
       "[1, 2, 3, 4, 5, nan]"
      ]
     },
     "execution_count": 73,
     "metadata": {},
     "output_type": "execute_result"
    }
   ],
   "source": [
    "#Mean,median,percentile,std,variance,max,min\n",
    "x=np.percentile(a=[1,2,3,4,5,6,7],q=25)\n",
    "y=[1,2,3,4,5,np.nan]\n",
    "y"
   ]
  },
  {
   "cell_type": "code",
   "execution_count": 62,
   "id": "d005f68e",
   "metadata": {},
   "outputs": [
    {
     "name": "stdout",
     "output_type": "stream",
     "text": [
      "The 25th percentile value of a is 2.5\n"
     ]
    }
   ],
   "source": [
    "print('The 25th percentile value of a is',x)"
   ]
  },
  {
   "cell_type": "code",
   "execution_count": 63,
   "id": "3ebaa9fe",
   "metadata": {},
   "outputs": [],
   "source": [
    "a=[1,3,4,5,5,2,52,52,5,22,5,24,35,24,3,4,245,44,3,53,35,33,34,39,35,3,53,5,34,35]"
   ]
  },
  {
   "cell_type": "code",
   "execution_count": 77,
   "id": "174082df",
   "metadata": {},
   "outputs": [
    {
     "name": "stdout",
     "output_type": "stream",
     "text": [
      "Mean of data is 29.9\n",
      "Median of the data is 24.0\n",
      "Standard deviation of data is 43.90242969737932\n",
      "Minimum value of data is 1\n",
      "Maximum value of data is 245\n",
      "Variance of the data is 1927.4233333333334\n",
      "1st Quartile of data is 4.25\n",
      "3rd Quartile of data is 35.0\n",
      "IQR of data is 30.75\n"
     ]
    }
   ],
   "source": [
    "#mean,median,std,min,max,var,#25%,75%\n",
    "#statistical summary \n",
    "\n",
    "print('Mean of data is',np.mean(a))\n",
    "print('Median of the data is',np.median(a))\n",
    "print('Standard deviation of data is',np.std(a))\n",
    "print('Minimum value of data is',np.min(a))\n",
    "print('Maximum value of data is',np.max(a))\n",
    "print('Variance of the data is',np.var(a))\n",
    "print('1st Quartile of data is',np.quantile(a,0.25))\n",
    "print('3rd Quartile of data is',np.percentile(a,q=75))\n",
    "print('IQR of data is',(np.percentile(a,q=75))-(np.percentile(a,q=25)))"
   ]
  },
  {
   "cell_type": "code",
   "execution_count": 79,
   "id": "d6fa8cd4",
   "metadata": {},
   "outputs": [],
   "source": [
    "#Outlier  Z score\n",
    "from scipy.stats import zscore\n",
    "z=np.abs(zscore(a))"
   ]
  },
  {
   "cell_type": "code",
   "execution_count": 80,
   "id": "6a77c190",
   "metadata": {},
   "outputs": [
    {
     "data": {
      "text/plain": [
       "array([0.65827792, 0.61272235, 0.58994457, 0.56716679, 0.56716679,\n",
       "       0.63550014, 0.503389  , 0.503389  , 0.56716679, 0.17994448,\n",
       "       0.56716679, 0.13438892, 0.11616669, 0.13438892, 0.61272235,\n",
       "       0.58994457, 4.89950104, 0.32116673, 0.61272235, 0.52616678,\n",
       "       0.11616669, 0.07061113, 0.09338891, 0.20727782, 0.11616669,\n",
       "       0.61272235, 0.52616678, 0.56716679, 0.09338891, 0.11616669])"
      ]
     },
     "execution_count": 80,
     "metadata": {},
     "output_type": "execute_result"
    }
   ],
   "source": [
    "z\n"
   ]
  },
  {
   "cell_type": "code",
   "execution_count": 81,
   "id": "84342288",
   "metadata": {},
   "outputs": [
    {
     "name": "stdout",
     "output_type": "stream",
     "text": [
      "(array([16], dtype=int64),)\n"
     ]
    }
   ],
   "source": [
    "threshold=3\n",
    "#mean-3 std to mean+3std --> normal value\n",
    "print(np.where(z>3))\n"
   ]
  },
  {
   "cell_type": "code",
   "execution_count": 83,
   "id": "c8dfcfd8",
   "metadata": {},
   "outputs": [
    {
     "name": "stdout",
     "output_type": "stream",
     "text": [
      "Outlier is 245\n"
     ]
    }
   ],
   "source": [
    "print('Outlier is',a[16])"
   ]
  },
  {
   "cell_type": "code",
   "execution_count": 91,
   "id": "968f07e6",
   "metadata": {},
   "outputs": [
    {
     "data": {
      "text/plain": [
       "array([[  1,   3,   4,   5,   5,   2,  52,  52,   5,  22,   5,  24,  35,\n",
       "         24,   3,   4, 245,  44,   3,  53,  35,  33,  34,  39,  35,   3,\n",
       "         53,   5,  34,  35],\n",
       "       [  1,   3,   4,   5,   5,   2,  52,  52,   5,  22,   5,  24,  35,\n",
       "         24,   3,   4, 245,  44,   3,  53,  35,  33,  34,  39,  35,   3,\n",
       "         53,   5,  34,  35],\n",
       "       [  1,   3,   4,   5,   5,   2,  52,  52,   5,  22,   5,  24,  35,\n",
       "         24,   3,   4, 245,  44,   3,  53,  35,  33,  34,  39,  35,   3,\n",
       "         53,   5,  34,  35]])"
      ]
     },
     "execution_count": 91,
     "metadata": {},
     "output_type": "execute_result"
    }
   ],
   "source": [
    "#Indexing and slicing\n",
    "b=np.resize(a,(3,30))\n",
    "b"
   ]
  },
  {
   "cell_type": "code",
   "execution_count": 90,
   "id": "18bd48df",
   "metadata": {},
   "outputs": [
    {
     "data": {
      "text/plain": [
       "array([ 5,  5,  2, 52, 52,  5, 22,  5, 24, 35, 24,  3,  4])"
      ]
     },
     "execution_count": 90,
     "metadata": {},
     "output_type": "execute_result"
    }
   ],
   "source": [
    "b[1,3:16]"
   ]
  },
  {
   "cell_type": "code",
   "execution_count": 92,
   "id": "45493d1c",
   "metadata": {},
   "outputs": [
    {
     "data": {
      "text/plain": [
       "array([[  5,   2,  52,  52,   5,  22,   5,  24,  35,  24,   3,   4, 245,\n",
       "         44],\n",
       "       [  5,   2,  52,  52,   5,  22,   5,  24,  35,  24,   3,   4, 245,\n",
       "         44]])"
      ]
     },
     "execution_count": 92,
     "metadata": {},
     "output_type": "execute_result"
    }
   ],
   "source": [
    "#b[#row,#col]\n",
    "b[:2,4:18]"
   ]
  },
  {
   "cell_type": "code",
   "execution_count": null,
   "id": "e634b012",
   "metadata": {},
   "outputs": [],
   "source": []
  }
 ],
 "metadata": {
  "kernelspec": {
   "display_name": "Python 3 (ipykernel)",
   "language": "python",
   "name": "python3"
  },
  "language_info": {
   "codemirror_mode": {
    "name": "ipython",
    "version": 3
   },
   "file_extension": ".py",
   "mimetype": "text/x-python",
   "name": "python",
   "nbconvert_exporter": "python",
   "pygments_lexer": "ipython3",
   "version": "3.9.7"
  }
 },
 "nbformat": 4,
 "nbformat_minor": 5
}
