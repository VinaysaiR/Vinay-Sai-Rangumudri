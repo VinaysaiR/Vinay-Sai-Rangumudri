{
 "cells": [
  {
   "cell_type": "code",
   "execution_count": 1,
   "id": "faf1fb92",
   "metadata": {},
   "outputs": [
    {
     "data": {
      "text/plain": [
       "'I Love Python'"
      ]
     },
     "execution_count": 1,
     "metadata": {},
     "output_type": "execute_result"
    }
   ],
   "source": [
    "#String Operations\n",
    "#Immutable--> those values that cant be changed\n",
    "#Mutable--> those values that can be changed\n",
    "\n",
    "str1='I Love Python'\n",
    "str1"
   ]
  },
  {
   "cell_type": "code",
   "execution_count": 2,
   "id": "68b27af4",
   "metadata": {},
   "outputs": [
    {
     "ename": "TypeError",
     "evalue": "'str' object does not support item assignment",
     "output_type": "error",
     "traceback": [
      "\u001b[1;31m---------------------------------------------------------------------------\u001b[0m",
      "\u001b[1;31mTypeError\u001b[0m                                 Traceback (most recent call last)",
      "Input \u001b[1;32mIn [2]\u001b[0m, in \u001b[0;36m<cell line: 1>\u001b[1;34m()\u001b[0m\n\u001b[1;32m----> 1\u001b[0m str1[\u001b[38;5;241m4\u001b[39m]\u001b[38;5;241m=\u001b[39m\u001b[38;5;124m'\u001b[39m\u001b[38;5;124mV\u001b[39m\u001b[38;5;124m'\u001b[39m\n",
      "\u001b[1;31mTypeError\u001b[0m: 'str' object does not support item assignment"
     ]
    }
   ],
   "source": [
    "str1[4]='V'"
   ]
  },
  {
   "cell_type": "code",
   "execution_count": 4,
   "id": "24490645",
   "metadata": {},
   "outputs": [
    {
     "data": {
      "text/plain": [
       "'e'"
      ]
     },
     "execution_count": 4,
     "metadata": {},
     "output_type": "execute_result"
    }
   ],
   "source": [
    "#STRING CANT BE CHANGED ONCE CREATED\n",
    "#Indexing--> When we are fetching one value at a time from a sequence\n",
    "str1[0]\n",
    "str1[5]\n",
    "#indexing always starts with 0\n",
    "str1[-1]\n",
    "#negative indexing it is a process when we are fetching values in reverse order\n",
    " "
   ]
  },
  {
   "cell_type": "code",
   "execution_count": 5,
   "id": "acf84d5e",
   "metadata": {},
   "outputs": [
    {
     "data": {
      "text/plain": [
       "13"
      ]
     },
     "execution_count": 5,
     "metadata": {},
     "output_type": "execute_result"
    }
   ],
   "source": [
    "#length keyword is used to display the total no of members in a seq\n",
    "len(str1)"
   ]
  },
  {
   "cell_type": "code",
   "execution_count": 6,
   "id": "a2b3e151",
   "metadata": {},
   "outputs": [
    {
     "data": {
      "text/plain": [
       "'I Love Python'"
      ]
     },
     "execution_count": 6,
     "metadata": {},
     "output_type": "execute_result"
    }
   ],
   "source": [
    "#Slicing--> When we have to fetch multiple values at a particular time from a sequence\n",
    "str1"
   ]
  },
  {
   "cell_type": "code",
   "execution_count": 11,
   "id": "6572b38c",
   "metadata": {},
   "outputs": [
    {
     "name": "stdout",
     "output_type": "stream",
     "text": [
      "Ivethon\n"
     ]
    }
   ],
   "source": [
    "str1[3:8]\n",
    "#Ivethon \n",
    "print(str1[0],str1[4:6],str1[9:],sep='')\n",
    "\n",
    "\n"
   ]
  },
  {
   "cell_type": "code",
   "execution_count": 14,
   "id": "fe190e2c",
   "metadata": {},
   "outputs": [
    {
     "name": "stdout",
     "output_type": "stream",
     "text": [
      "nohtyp evol i\n"
     ]
    }
   ],
   "source": [
    "str1=str1.lower()\n",
    "str1\n",
    "print(str1[::-1])"
   ]
  },
  {
   "cell_type": "code",
   "execution_count": 16,
   "id": "80fab209",
   "metadata": {},
   "outputs": [
    {
     "data": {
      "text/plain": [
       "'Devang Sareen'"
      ]
     },
     "execution_count": 16,
     "metadata": {},
     "output_type": "execute_result"
    }
   ],
   "source": [
    "str1='devang sareen'\n",
    "str1.title()"
   ]
  },
  {
   "cell_type": "code",
   "execution_count": 17,
   "id": "998756c5",
   "metadata": {},
   "outputs": [
    {
     "data": {
      "text/plain": [
       "'DEVANG SAREEN'"
      ]
     },
     "execution_count": 17,
     "metadata": {},
     "output_type": "execute_result"
    }
   ],
   "source": [
    "str1.upper()"
   ]
  },
  {
   "cell_type": "code",
   "execution_count": 19,
   "id": "bf18402a",
   "metadata": {},
   "outputs": [
    {
     "data": {
      "text/plain": [
       "'Devang sareen'"
      ]
     },
     "execution_count": 19,
     "metadata": {},
     "output_type": "execute_result"
    }
   ],
   "source": [
    "str1.capitalize()"
   ]
  },
  {
   "cell_type": "code",
   "execution_count": 20,
   "id": "29cb1dcd",
   "metadata": {},
   "outputs": [
    {
     "data": {
      "text/plain": [
       "1"
      ]
     },
     "execution_count": 20,
     "metadata": {},
     "output_type": "execute_result"
    }
   ],
   "source": [
    "str1.find('e') #find --> it is used to find the index of 1st occurence of a particular element"
   ]
  },
  {
   "cell_type": "code",
   "execution_count": 23,
   "id": "e9a6ff82",
   "metadata": {},
   "outputs": [],
   "source": [
    "str1.count('e')\n",
    "str2='Python Trainer'"
   ]
  },
  {
   "cell_type": "code",
   "execution_count": 26,
   "id": "58c8364a",
   "metadata": {},
   "outputs": [
    {
     "data": {
      "text/plain": [
       "'!devang sareen!devang sareen!devang sareen!'"
      ]
     },
     "execution_count": 26,
     "metadata": {},
     "output_type": "execute_result"
    }
   ],
   "source": [
    "str1.join('!!!!')"
   ]
  },
  {
   "cell_type": "code",
   "execution_count": 31,
   "id": "efec7ac4",
   "metadata": {},
   "outputs": [
    {
     "data": {
      "text/plain": [
       "True"
      ]
     },
     "execution_count": 31,
     "metadata": {},
     "output_type": "execute_result"
    }
   ],
   "source": [
    "str1.isalpha()\n",
    "str1='DEVANGSAREEN5'\n",
    "str1.isalnum()"
   ]
  },
  {
   "cell_type": "code",
   "execution_count": 34,
   "id": "51fb35d6",
   "metadata": {},
   "outputs": [
    {
     "name": "stdout",
     "output_type": "stream",
     "text": [
      "-10\n",
      "X is not in the list\n"
     ]
    }
   ],
   "source": [
    "#Conditional Statements---> these statements are used to pass the condition and execute the output according to the condition\n",
    "\n",
    "a=[-8,-7,-6,-5,-4,-3,-2,-1,0,1,2,3,4,5,6,7,8]\n",
    "x=int(input())\n",
    "\n",
    "if x in a:\n",
    "    print('X is in the list')\n",
    "    if x >0:\n",
    "        print('X is a positive integer')\n",
    "    elif x==0:\n",
    "        print('X is zero')\n",
    "    else:\n",
    "        print('X is negative integer')\n",
    "else:\n",
    "    print('X is not in the list')\n",
    "\n"
   ]
  },
  {
   "cell_type": "code",
   "execution_count": null,
   "id": "7e7e1fe8",
   "metadata": {},
   "outputs": [],
   "source": [
    "#It ia an eligiblity criteria for voting\n",
    "#X enters his name and nationality\n",
    "#X is having nationality--> Indian\n",
    "\n",
    "#Ask the age --> IF age is 18+\n",
    "#print (eligible for voting)\n",
    "#else ('not eligible')\n",
    "\n",
    "#Nationality is not indian\n",
    "#Ask for location--> (location--> India)\n",
    "#How many years in india ?\n",
    "#If it is 5+\n",
    "#print('eligible for voting')\n",
    "#else\n",
    "#print('Not eligible')\n",
    "\n",
    "#Sorry you are not eligible for voting\n",
    "\n",
    "#3,4,7,8,9--> Q5 (1 each )\n",
    "#5)--> 10th--> this will taken as your grading"
   ]
  }
 ],
 "metadata": {
  "kernelspec": {
   "display_name": "Python 3 (ipykernel)",
   "language": "python",
   "name": "python3"
  },
  "language_info": {
   "codemirror_mode": {
    "name": "ipython",
    "version": 3
   },
   "file_extension": ".py",
   "mimetype": "text/x-python",
   "name": "python",
   "nbconvert_exporter": "python",
   "pygments_lexer": "ipython3",
   "version": "3.9.7"
  }
 },
 "nbformat": 4,
 "nbformat_minor": 5
}
