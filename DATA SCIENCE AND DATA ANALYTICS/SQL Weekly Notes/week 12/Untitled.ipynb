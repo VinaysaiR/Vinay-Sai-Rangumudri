{
 "cells": [
  {
   "cell_type": "code",
   "execution_count": 37,
   "id": "bab09df7",
   "metadata": {},
   "outputs": [],
   "source": [
    "import mysql.connector\n",
    "testdb = mysql.connector.connect(host=\"localhost\",\n",
    "user=\"root\",\n",
    "password=\"1321\")"
   ]
  },
  {
   "cell_type": "code",
   "execution_count": 38,
   "id": "bd6d82e0",
   "metadata": {},
   "outputs": [
    {
     "name": "stdout",
     "output_type": "stream",
     "text": [
      "('backup_sakila',)\n",
      "('ecommerce',)\n",
      "('employee5',)\n",
      "('employees',)\n",
      "('employees2',)\n",
      "('employees3',)\n",
      "('employees4',)\n",
      "('information_schema',)\n",
      "('mysql',)\n",
      "('performance_schema',)\n",
      "('sakila',)\n",
      "('sys',)\n",
      "('world',)\n"
     ]
    }
   ],
   "source": [
    "# Checking Existing Database\n",
    "import mysql.connector\n",
    "testdb = mysql.connector.connect(\n",
    "host=\"localhost\",\n",
    "user=\"root\",\n",
    "password=\"1321\")\n",
    "testcursor = testdb.cursor()\n",
    "testcursor.execute(\"SHOW DATABASES\")\n",
    "for x in testcursor:\n",
    "    print(x)"
   ]
  },
  {
   "cell_type": "code",
   "execution_count": 39,
   "id": "aa8e8356",
   "metadata": {},
   "outputs": [],
   "source": [
    "# Creating Database\n",
    "import mysql.connector\n",
    "testdb = mysql.connector.connect( host=\"localhost\",\n",
    "user=\"root\",\n",
    "password=\"1321\" )\n",
    "testcursor = testdb.cursor()\n",
    "testcursor.execute(\"CREATE DATABASE test\")"
   ]
  },
  {
   "cell_type": "code",
   "execution_count": 40,
   "id": "3855a6b8",
   "metadata": {},
   "outputs": [],
   "source": [
    "# Connecting with Database\n",
    "import mysql.connector\n",
    "testdb = mysql.connector.connect( host=\"localhost\",\n",
    "user=\"root\",\n",
    "password=\"1321\",\n",
    "database = \"test\")"
   ]
  },
  {
   "cell_type": "code",
   "execution_count": 41,
   "id": "15da85ca",
   "metadata": {},
   "outputs": [],
   "source": [
    "import mysql.connector\n",
    "testdb = mysql.connector.connect(\n",
    "    host=\"localhost\",\n",
    "    user=\"root\",\n",
    "    password=\"1321\",\n",
    "    database=\"test\")\n",
    "testcursor = testdb.cursor()\n",
    "testcursor.execute(\"CREATE TABLE alumni (roll_no INT, first_name VARCHAR(30),last_name VARCHAR(30), status VARCHAR(50), location VARCHAR(50))\")\n"
   ]
  },
  {
   "cell_type": "code",
   "execution_count": 42,
   "id": "1cacb567",
   "metadata": {},
   "outputs": [
    {
     "name": "stdout",
     "output_type": "stream",
     "text": [
      "('alumni',)\n"
     ]
    }
   ],
   "source": [
    "# Checking Table\n",
    "import mysql.connector\n",
    "testdb = mysql.connector.connect(\n",
    "host=\"localhost\",\n",
    "user=\"root\",\n",
    "password=\"1321\",\n",
    "database=\"test\")\n",
    "testcursor = testdb.cursor()\n",
    "testcursor.execute(\"SHOW TABLES\")\n",
    "for a in testcursor:\n",
    "    print(a)"
   ]
  },
  {
   "cell_type": "code",
   "execution_count": 43,
   "id": "9851ddbf",
   "metadata": {},
   "outputs": [],
   "source": [
    "# Table Alteration\n",
    "import mysql.connector\n",
    "testdb = mysql.connector.connect(\n",
    "host=\"localhost\",\n",
    "user=\"root\",\n",
    "password=\"1321\",\n",
    "database=\"test\")\n",
    "testcursor = testdb.cursor()\n",
    "testcursor.execute(\"ALTER TABLE alumni ADD COLUMN test_id INT AUTO_INCREMENT PRIMARY KEY\")"
   ]
  },
  {
   "cell_type": "code",
   "execution_count": 44,
   "id": "ae22f1e7",
   "metadata": {},
   "outputs": [
    {
     "name": "stdout",
     "output_type": "stream",
     "text": [
      "('roll_no', b'int', 'YES', '', None, '')\n",
      "('first_name', b'varchar(30)', 'YES', '', None, '')\n",
      "('last_name', b'varchar(30)', 'YES', '', None, '')\n",
      "('status', b'varchar(50)', 'YES', '', None, '')\n",
      "('location', b'varchar(50)', 'YES', '', None, '')\n",
      "('test_id', b'int', 'NO', 'PRI', None, 'auto_increment')\n"
     ]
    }
   ],
   "source": [
    "# Desc Command\n",
    "import mysql.connector\n",
    "testdb = mysql.connector.connect(\n",
    "host=\"localhost\",\n",
    "user=\"root\",\n",
    "password=\"1321\",\n",
    "database=\"test\")\n",
    "testcursor = testdb.cursor()\n",
    "testcursor.execute(\"DESC alumni\")\n",
    "for a in testcursor:\n",
    "    print(a)"
   ]
  },
  {
   "cell_type": "code",
   "execution_count": 45,
   "id": "63ce66d9",
   "metadata": {},
   "outputs": [
    {
     "name": "stdout",
     "output_type": "stream",
     "text": [
      "1 record inserted.\n"
     ]
    }
   ],
   "source": [
    "# Data Insertion\n",
    "import mysql.connector\n",
    "testdb = mysql.connector.connect(host=\"localhost\",user=\"root\",password=\"1321\",\n",
    "database=\"test\")\n",
    "testcursor = testdb.cursor()\n",
    "a = \"INSERT INTO alumni (roll_no, first_name, last_name, status, location) VALUES (%s, %s, %s, %s, %s)\"\n",
    "b = (\"121\", \"John\", \"Anthony\", \"Self Employed\", \"Chandigarh\")\n",
    "testcursor.execute(a,b)\n",
    "testdb.commit()\n",
    "print(testcursor.rowcount, \"record inserted.\")"
   ]
  },
  {
   "cell_type": "code",
   "execution_count": 46,
   "id": "c2ef7b5c",
   "metadata": {},
   "outputs": [],
   "source": [
    "## Multiple Rows Insertion\n",
    "b = [\n",
    "(\"121\", \"John\", \"Anthony\", \"Self Employed\", \"Chandigarh\"),\n",
    "(\"122\", \"Ram\", \"Singh\", \"Job\", \"Chennai\"),\n",
    "(\"123\", \"Sham\", \"Shankar\", \"Job\", \"Kochi\"),\n",
    "(\"124\", \"Jai\", \"Sharma\", \"Job\", \"Patiala\")\n",
    "]\n",
    "testcursor.executemany(a,b)"
   ]
  },
  {
   "cell_type": "code",
   "execution_count": 47,
   "id": "cc1227dd",
   "metadata": {},
   "outputs": [
    {
     "name": "stdout",
     "output_type": "stream",
     "text": [
      "(121, 'John', 'Anthony', 'Self Employed', 'Chandigarh', 1)\n"
     ]
    }
   ],
   "source": [
    "## Select Command\n",
    "import mysql.connector\n",
    "testdb = mysql.connector.connect(\n",
    "    host=\"localhost\",\n",
    "    user=\"root\",\n",
    "    password=\"1321\",\n",
    "    database=\"test\")\n",
    "testcursor = testdb.cursor()\n",
    "testcursor.execute(\"SELECT * FROM alumni\")\n",
    "a = testcursor.fetchall()\n",
    "for b in a:\n",
    "    print(b)"
   ]
  },
  {
   "cell_type": "code",
   "execution_count": 25,
   "id": "0fdf2d97",
   "metadata": {},
   "outputs": [
    {
     "name": "stdout",
     "output_type": "stream",
     "text": [
      "121\n",
      "John\n",
      "Anthony\n",
      "Self Employed\n",
      "Chandigarh\n",
      "1\n"
     ]
    }
   ],
   "source": [
    "import mysql.connector\n",
    "testdb = mysql.connector.connect(\n",
    "    host=\"localhost\",\n",
    "    user=\"root\",\n",
    "    password=\"1321\",\n",
    "    database=\"test\")\n",
    "testcursor = testdb.cursor()\n",
    "testcursor.execute(\"SELECT * FROM alumni\")\n",
    "a = testcursor.fetchone()\n",
    "for b in a:\n",
    "    print(b)"
   ]
  },
  {
   "cell_type": "code",
   "execution_count": 18,
   "id": "2f3e5e56",
   "metadata": {},
   "outputs": [
    {
     "name": "stdout",
     "output_type": "stream",
     "text": [
      "(110022, 'd001', datetime.date(1985, 1, 1), datetime.date(1991, 10, 1))\n",
      "(110039, 'd001', datetime.date(1991, 10, 1), datetime.date(9999, 1, 1))\n",
      "(110085, 'd002', datetime.date(1985, 1, 1), datetime.date(1989, 12, 17))\n",
      "(110114, 'd002', datetime.date(1989, 12, 17), datetime.date(9999, 1, 1))\n",
      "(110183, 'd003', datetime.date(1985, 1, 1), datetime.date(1992, 3, 21))\n",
      "(110228, 'd003', datetime.date(1992, 3, 21), datetime.date(9999, 1, 1))\n",
      "(110303, 'd004', datetime.date(1985, 1, 1), datetime.date(1988, 9, 9))\n",
      "(110344, 'd004', datetime.date(1988, 9, 9), datetime.date(1992, 8, 2))\n",
      "(110386, 'd004', datetime.date(1992, 8, 2), datetime.date(1996, 8, 30))\n",
      "(110420, 'd004', datetime.date(1996, 8, 30), datetime.date(9999, 1, 1))\n",
      "(110511, 'd005', datetime.date(1985, 1, 1), datetime.date(1992, 4, 25))\n",
      "(110567, 'd005', datetime.date(1992, 4, 25), datetime.date(9999, 1, 1))\n",
      "(110725, 'd006', datetime.date(1985, 1, 1), datetime.date(1989, 5, 6))\n",
      "(110765, 'd006', datetime.date(1989, 5, 6), datetime.date(1991, 9, 12))\n",
      "(110800, 'd006', datetime.date(1991, 9, 12), datetime.date(1994, 6, 28))\n",
      "(110854, 'd006', datetime.date(1994, 6, 28), datetime.date(9999, 1, 1))\n",
      "(111035, 'd007', datetime.date(1985, 1, 1), datetime.date(1991, 3, 7))\n",
      "(111133, 'd007', datetime.date(1991, 3, 7), datetime.date(9999, 1, 1))\n",
      "(111400, 'd008', datetime.date(1985, 1, 1), datetime.date(1991, 4, 8))\n",
      "(111534, 'd008', datetime.date(1991, 4, 8), datetime.date(9999, 1, 1))\n",
      "(111692, 'd009', datetime.date(1985, 1, 1), datetime.date(1988, 10, 17))\n",
      "(111784, 'd009', datetime.date(1988, 10, 17), datetime.date(1992, 9, 8))\n",
      "(111877, 'd009', datetime.date(1992, 9, 8), datetime.date(1996, 1, 3))\n",
      "(111939, 'd009', datetime.date(1996, 1, 3), datetime.date(9999, 1, 1))\n"
     ]
    }
   ],
   "source": [
    "## Select Command\n",
    "import mysql.connector\n",
    "testdb = mysql.connector.connect(\n",
    "    host=\"localhost\",\n",
    "    user=\"root\",\n",
    "    password=\"1321\",\n",
    "    database=\"employees\")\n",
    "testcursor = testdb.cursor()\n",
    "testcursor.execute(\"SELECT * FROM dept_manager\")\n",
    "a = testcursor.fetchall()\n",
    "for b in a:\n",
    "    print(b)"
   ]
  },
  {
   "cell_type": "code",
   "execution_count": 19,
   "id": "acec4124",
   "metadata": {},
   "outputs": [
    {
     "name": "stdout",
     "output_type": "stream",
     "text": [
      "(110022, 'd001')\n",
      "(110039, 'd001')\n",
      "(110085, 'd002')\n",
      "(110114, 'd002')\n",
      "(110183, 'd003')\n",
      "(110228, 'd003')\n",
      "(110303, 'd004')\n",
      "(110344, 'd004')\n",
      "(110386, 'd004')\n",
      "(110420, 'd004')\n",
      "(110511, 'd005')\n",
      "(110567, 'd005')\n",
      "(110725, 'd006')\n",
      "(110765, 'd006')\n",
      "(110800, 'd006')\n",
      "(110854, 'd006')\n",
      "(111035, 'd007')\n",
      "(111133, 'd007')\n",
      "(111400, 'd008')\n",
      "(111534, 'd008')\n",
      "(111692, 'd009')\n",
      "(111784, 'd009')\n",
      "(111877, 'd009')\n",
      "(111939, 'd009')\n"
     ]
    }
   ],
   "source": [
    "## Select Command\n",
    "import mysql.connector\n",
    "testdb = mysql.connector.connect(\n",
    "    host=\"localhost\",\n",
    "    user=\"root\",\n",
    "    password=\"1321\",\n",
    "    database=\"employees\")\n",
    "testcursor = testdb.cursor()\n",
    "testcursor.execute(\"SELECT emp_no, dept_no FROM dept_manager\")\n",
    "a = testcursor.fetchall()\n",
    "for b in a:\n",
    "    print(b)"
   ]
  },
  {
   "cell_type": "code",
   "execution_count": 2,
   "id": "e64e9bfd",
   "metadata": {},
   "outputs": [
    {
     "name": "stdout",
     "output_type": "stream",
     "text": [
      "(10001, datetime.date(1953, 9, 2), 'Georgi', 'Facello', 'M', datetime.date(1986, 6, 26))\n",
      "(10002, datetime.date(1964, 6, 2), 'Bezalel', 'Simmel', 'F', datetime.date(1985, 11, 21))\n",
      "(10003, datetime.date(1959, 12, 3), 'Parto', 'Bamford', 'M', datetime.date(1986, 8, 28))\n",
      "(10004, datetime.date(1954, 5, 1), 'Chirstian', 'Koblick', 'M', datetime.date(1986, 12, 1))\n",
      "(10005, datetime.date(1955, 1, 21), 'Kyoichi', 'Maliniak', 'M', datetime.date(1989, 9, 12))\n",
      "(10006, datetime.date(1953, 4, 20), 'Anneke', 'Preusig', 'F', datetime.date(1989, 6, 2))\n",
      "(10007, datetime.date(1957, 5, 23), 'Tzvetan', 'Zielinski', 'F', datetime.date(1989, 2, 10))\n",
      "(10008, datetime.date(1958, 2, 19), 'Saniya', 'Kalloufi', 'M', datetime.date(1994, 9, 15))\n",
      "(10009, datetime.date(1952, 4, 19), 'Sumant', 'Peac', 'F', datetime.date(1985, 2, 18))\n",
      "(10010, datetime.date(1963, 6, 1), 'Duangkaew', 'Piveteau', 'F', datetime.date(1989, 8, 24))\n",
      "(10011, datetime.date(1953, 11, 7), 'Mary', 'Sluis', 'F', datetime.date(1990, 1, 22))\n",
      "(10012, datetime.date(1960, 10, 4), 'Patricio', 'Bridgland', 'M', datetime.date(1992, 12, 18))\n",
      "(10013, datetime.date(1963, 6, 7), 'Eberhardt', 'Terkki', 'M', datetime.date(1985, 10, 20))\n",
      "(10014, datetime.date(1956, 2, 12), 'Berni', 'Genin', 'M', datetime.date(1987, 3, 11))\n",
      "(10015, datetime.date(1959, 8, 19), 'Guoxiang', 'Nooteboom', 'M', datetime.date(1987, 7, 2))\n",
      "(10016, datetime.date(1961, 5, 2), 'Kazuhito', 'Cappelletti', 'M', datetime.date(1995, 1, 27))\n",
      "(10017, datetime.date(1958, 7, 6), 'Cristinel', 'Bouloucos', 'F', datetime.date(1993, 8, 3))\n",
      "(10018, datetime.date(1954, 6, 19), 'Kazuhide', 'Peha', 'F', datetime.date(1987, 4, 3))\n",
      "(10019, datetime.date(1953, 1, 23), 'Lillian', 'Haddadi', 'M', datetime.date(1999, 4, 30))\n",
      "(10020, datetime.date(1952, 12, 24), 'Mayuko', 'Warwick', 'M', datetime.date(1991, 1, 26))\n",
      "(10021, datetime.date(1960, 2, 20), 'Ramzi', 'Erde', 'M', datetime.date(1988, 2, 10))\n",
      "(10022, datetime.date(1952, 7, 8), 'Shahaf', 'Famili', 'M', datetime.date(1995, 8, 22))\n",
      "(10023, datetime.date(1953, 9, 29), 'Bojan', 'Montemayor', 'F', datetime.date(1989, 12, 17))\n",
      "(10024, datetime.date(1958, 9, 5), 'Suzette', 'Pettey', 'F', datetime.date(1997, 5, 19))\n",
      "(10025, datetime.date(1958, 10, 31), 'Prasadram', 'Heyers', 'M', datetime.date(1987, 8, 17))\n",
      "(10026, datetime.date(1953, 4, 3), 'Yongqiao', 'Berztiss', 'M', datetime.date(1995, 3, 20))\n",
      "(10027, datetime.date(1962, 7, 10), 'Divier', 'Reistad', 'F', datetime.date(1989, 7, 7))\n",
      "(10028, datetime.date(1963, 11, 26), 'Domenick', 'Tempesti', 'M', datetime.date(1991, 10, 22))\n",
      "(10029, datetime.date(1956, 12, 13), 'Otmar', 'Herbst', 'M', datetime.date(1985, 11, 20))\n",
      "(10030, datetime.date(1958, 7, 14), 'Elvis', 'Demeyer', 'M', datetime.date(1994, 2, 17))\n",
      "(10031, datetime.date(1959, 1, 27), 'Karsten', 'Joslin', 'M', datetime.date(1991, 9, 1))\n",
      "(10032, datetime.date(1960, 8, 9), 'Jeong', 'Reistad', 'F', datetime.date(1990, 6, 20))\n",
      "(10033, datetime.date(1956, 11, 14), 'Arif', 'Merlo', 'M', datetime.date(1987, 3, 18))\n",
      "(10034, datetime.date(1962, 12, 29), 'Bader', 'Swan', 'M', datetime.date(1988, 9, 21))\n",
      "(10035, datetime.date(1953, 2, 8), 'Alain', 'Chappelet', 'M', datetime.date(1988, 9, 5))\n",
      "(10036, datetime.date(1959, 8, 10), 'Adamantios', 'Portugali', 'M', datetime.date(1992, 1, 3))\n",
      "(10037, datetime.date(1963, 7, 22), 'Pradeep', 'Makrucki', 'M', datetime.date(1990, 12, 5))\n",
      "(10038, datetime.date(1960, 7, 20), 'Huan', 'Lortz', 'M', datetime.date(1989, 9, 20))\n",
      "(10039, datetime.date(1959, 10, 1), 'Alejandro', 'Brender', 'M', datetime.date(1988, 1, 19))\n",
      "(10040, datetime.date(1959, 9, 13), 'Weiyi', 'Meriste', 'F', datetime.date(1993, 2, 14))\n",
      "(10041, datetime.date(1959, 8, 27), 'Uri', 'Lenart', 'F', datetime.date(1989, 11, 12))\n",
      "(10042, datetime.date(1956, 2, 26), 'Magy', 'Stamatiou', 'F', datetime.date(1993, 3, 21))\n",
      "(10043, datetime.date(1960, 9, 19), 'Yishay', 'Tzvieli', 'M', datetime.date(1990, 10, 20))\n",
      "(10044, datetime.date(1961, 9, 21), 'Mingsen', 'Casley', 'F', datetime.date(1994, 5, 21))\n",
      "(10045, datetime.date(1957, 8, 14), 'Moss', 'Shanbhogue', 'M', datetime.date(1989, 9, 2))\n",
      "(10046, datetime.date(1960, 7, 23), 'Lucien', 'Rosenbaum', 'M', datetime.date(1992, 6, 20))\n",
      "(10047, datetime.date(1952, 6, 29), 'Zvonko', 'Nyanchama', 'M', datetime.date(1989, 3, 31))\n",
      "(10048, datetime.date(1963, 7, 11), 'Florian', 'Syrotiuk', 'M', datetime.date(1985, 2, 24))\n",
      "(10049, datetime.date(1961, 4, 24), 'Basil', 'Tramer', 'F', datetime.date(1992, 5, 4))\n",
      "(10050, datetime.date(1958, 5, 21), 'Yinghua', 'Dredge', 'M', datetime.date(1990, 12, 25))\n",
      "(10051, datetime.date(1953, 7, 28), 'Hidefumi', 'Caine', 'M', datetime.date(1992, 10, 15))\n",
      "(10052, datetime.date(1961, 2, 26), 'Heping', 'Nitsch', 'M', datetime.date(1988, 5, 21))\n",
      "(10053, datetime.date(1954, 9, 13), 'Sanjiv', 'Zschoche', 'F', datetime.date(1986, 2, 4))\n",
      "(10054, datetime.date(1957, 4, 4), 'Mayumi', 'Schueller', 'M', datetime.date(1995, 3, 13))\n",
      "(10055, datetime.date(1956, 6, 6), 'Georgy', 'Dredge', 'M', datetime.date(1992, 4, 27))\n",
      "(10056, datetime.date(1961, 9, 1), 'Brendon', 'Bernini', 'F', datetime.date(1990, 2, 1))\n",
      "(10057, datetime.date(1954, 5, 30), 'Ebbe', 'Callaway', 'F', datetime.date(1992, 1, 15))\n",
      "(10058, datetime.date(1954, 10, 1), 'Berhard', 'McFarlin', 'M', datetime.date(1987, 4, 13))\n",
      "(10059, datetime.date(1953, 9, 19), 'Alejandro', 'McAlpine', 'F', datetime.date(1991, 6, 26))\n",
      "(10060, datetime.date(1961, 10, 15), 'Breannda', 'Billingsley', 'M', datetime.date(1987, 11, 2))\n",
      "(10061, datetime.date(1962, 10, 19), 'Tse', 'Herber', 'M', datetime.date(1985, 9, 17))\n",
      "(10062, datetime.date(1961, 11, 2), 'Anoosh', 'Peyn', 'M', datetime.date(1991, 8, 30))\n",
      "(10063, datetime.date(1952, 8, 6), 'Gino', 'Leonhardt', 'F', datetime.date(1989, 4, 8))\n",
      "(10064, datetime.date(1959, 4, 7), 'Udi', 'Jansch', 'M', datetime.date(1985, 11, 20))\n",
      "(10065, datetime.date(1963, 4, 14), 'Satosi', 'Awdeh', 'M', datetime.date(1988, 5, 18))\n",
      "(10066, datetime.date(1952, 11, 13), 'Kwee', 'Schusler', 'M', datetime.date(1986, 2, 26))\n",
      "(10067, datetime.date(1953, 1, 7), 'Claudi', 'Stavenow', 'M', datetime.date(1987, 3, 4))\n",
      "(10068, datetime.date(1962, 11, 26), 'Charlene', 'Brattka', 'M', datetime.date(1987, 8, 7))\n",
      "(10069, datetime.date(1960, 9, 6), 'Margareta', 'Bierman', 'F', datetime.date(1989, 11, 5))\n",
      "(10070, datetime.date(1955, 8, 20), 'Reuven', 'Garigliano', 'M', datetime.date(1985, 10, 14))\n",
      "(10071, datetime.date(1958, 1, 21), 'Hisao', 'Lipner', 'M', datetime.date(1987, 10, 1))\n",
      "(10072, datetime.date(1952, 5, 15), 'Hironoby', 'Sidou', 'F', datetime.date(1988, 7, 21))\n",
      "(10073, datetime.date(1954, 2, 23), 'Shir', 'McClurg', 'M', datetime.date(1991, 12, 1))\n",
      "(10074, datetime.date(1955, 8, 28), 'Mokhtar', 'Bernatsky', 'F', datetime.date(1990, 8, 13))\n",
      "(10075, datetime.date(1960, 3, 9), 'Gao', 'Dolinsky', 'F', datetime.date(1987, 3, 19))\n",
      "(10076, datetime.date(1952, 6, 13), 'Erez', 'Ritzmann', 'F', datetime.date(1985, 7, 9))\n",
      "(10077, datetime.date(1964, 4, 18), 'Mona', 'Azuma', 'M', datetime.date(1990, 3, 2))\n",
      "(10078, datetime.date(1959, 12, 25), 'Danel', 'Mondadori', 'F', datetime.date(1987, 5, 26))\n",
      "(10079, datetime.date(1961, 10, 5), 'Kshitij', 'Gils', 'F', datetime.date(1986, 3, 27))\n",
      "(10080, datetime.date(1957, 12, 3), 'Premal', 'Baek', 'M', datetime.date(1985, 11, 19))\n",
      "(10081, datetime.date(1960, 12, 17), 'Zhongwei', 'Rosen', 'M', datetime.date(1986, 10, 30))\n",
      "(10082, datetime.date(1963, 9, 9), 'Parviz', 'Lortz', 'M', datetime.date(1990, 1, 3))\n",
      "(10083, datetime.date(1959, 7, 23), 'Vishv', 'Zockler', 'M', datetime.date(1987, 3, 31))\n",
      "(10084, datetime.date(1960, 5, 25), 'Tuval', 'Kalloufi', 'M', datetime.date(1995, 12, 15))\n",
      "(10085, datetime.date(1962, 11, 7), 'Kenroku', 'Malabarba', 'M', datetime.date(1994, 4, 9))\n",
      "(10086, datetime.date(1962, 11, 19), 'Somnath', 'Foote', 'M', datetime.date(1990, 2, 16))\n",
      "(10087, datetime.date(1959, 7, 23), 'Xinglin', 'Eugenio', 'F', datetime.date(1986, 9, 8))\n",
      "(10088, datetime.date(1954, 2, 25), 'Jungsoon', 'Syrzycki', 'F', datetime.date(1988, 9, 2))\n",
      "(10089, datetime.date(1963, 3, 21), 'Sudharsan', 'Flasterstein', 'F', datetime.date(1986, 8, 12))\n",
      "(10090, datetime.date(1961, 5, 30), 'Kendra', 'Hofting', 'M', datetime.date(1986, 3, 14))\n",
      "(10091, datetime.date(1955, 10, 4), 'Amabile', 'Gomatam', 'M', datetime.date(1992, 11, 18))\n",
      "(10092, datetime.date(1964, 10, 18), 'Valdiodio', 'Niizuma', 'F', datetime.date(1989, 9, 22))\n",
      "(10093, datetime.date(1964, 6, 11), 'Sailaja', 'Desikan', 'M', datetime.date(1996, 11, 5))\n",
      "(10094, datetime.date(1957, 5, 25), 'Arumugam', 'Ossenbruggen', 'F', datetime.date(1987, 4, 18))\n",
      "(10095, datetime.date(1965, 1, 3), 'Hilari', 'Morton', 'M', datetime.date(1986, 7, 15))\n",
      "(10096, datetime.date(1954, 9, 16), 'Jayson', 'Mandell', 'M', datetime.date(1990, 1, 14))\n",
      "(10097, datetime.date(1952, 2, 27), 'Remzi', 'Waschkowski', 'M', datetime.date(1990, 9, 15))\n",
      "(10098, datetime.date(1961, 9, 23), 'Sreekrishna', 'Servieres', 'F', datetime.date(1985, 5, 13))\n",
      "(10099, datetime.date(1956, 5, 25), 'Valter', 'Sullins', 'F', datetime.date(1988, 10, 18))\n",
      "(10100, datetime.date(1953, 4, 21), 'Hironobu', 'Haraldson', 'F', datetime.date(1987, 9, 21))\n"
     ]
    }
   ],
   "source": [
    "import mysql.connector\n",
    "testdb = mysql.connector.connect(\n",
    "    host=\"localhost\",\n",
    "    user=\"root\",\n",
    "    password=\"1321\",\n",
    "    database=\"employees\")\n",
    "testcursor = testdb.cursor()\n",
    "testcursor.execute(\"SELECT * FROM employees LIMIT 100\")\n",
    "a = testcursor.fetchall()\n",
    "for b in a:\n",
    "    print(b)"
   ]
  },
  {
   "cell_type": "markdown",
   "id": "d35d1d38",
   "metadata": {},
   "source": [
    "import mysql.connector\n",
    "testdb = mysql.connector.connect(\n",
    "    host=\"localhost\",\n",
    "    user=\"root\",\n",
    "    password=\"1321\",\n",
    "    database=\"employees\")\n",
    "testcursor = testdb.cursor()\n",
    "testcursor.execute(\"SELECT * FROM employees\")\n",
    "a = testcursor.fetchall()\n",
    "for b in a:\n",
    "    print(b)"
   ]
  },
  {
   "cell_type": "code",
   "execution_count": 21,
   "id": "37e04227",
   "metadata": {},
   "outputs": [
    {
     "name": "stdout",
     "output_type": "stream",
     "text": [
      "10001\n",
      "23056\n",
      "1963-06-25\n",
      "1985-12-11\n"
     ]
    }
   ],
   "source": [
    "import mysql.connector\n",
    "testdb = mysql.connector.connect(\n",
    "    host=\"localhost\",\n",
    "    user=\"root\",\n",
    "    password=\"1321\",\n",
    "    database=\"employees\")\n",
    "testcursor = testdb.cursor()\n",
    "testcursor.execute(\"SELECT * FROM salaries\")\n",
    "a = testcursor.fetchone()\n",
    "for b in a:\n",
    "    print(b)"
   ]
  },
  {
   "cell_type": "code",
   "execution_count": 22,
   "id": "3bc0a703",
   "metadata": {},
   "outputs": [
    {
     "name": "stdout",
     "output_type": "stream",
     "text": [
      "(10001, 23056, datetime.date(1963, 6, 25), datetime.date(1985, 12, 11))\n",
      "(10001, 60117, datetime.date(1986, 6, 26), datetime.date(1987, 6, 26))\n",
      "(10001, 62102, datetime.date(1987, 6, 26), datetime.date(1988, 6, 25))\n",
      "(10001, 66074, datetime.date(1988, 6, 25), datetime.date(1989, 6, 25))\n",
      "(10001, 66596, datetime.date(1989, 6, 25), datetime.date(1990, 6, 25))\n",
      "(10001, 66961, datetime.date(1990, 6, 25), datetime.date(1991, 6, 25))\n",
      "(10001, 71046, datetime.date(1991, 6, 25), datetime.date(1992, 6, 24))\n",
      "(10001, 74333, datetime.date(1992, 6, 24), datetime.date(1993, 6, 24))\n",
      "(10001, 75286, datetime.date(1993, 6, 24), datetime.date(1994, 6, 24))\n",
      "(10001, 75994, datetime.date(1994, 6, 24), datetime.date(1995, 6, 24))\n",
      "(10001, 76884, datetime.date(1995, 6, 24), datetime.date(1996, 6, 23))\n",
      "(10001, 80013, datetime.date(1996, 6, 23), datetime.date(1997, 6, 23))\n",
      "(10001, 81025, datetime.date(1997, 6, 23), datetime.date(1998, 6, 23))\n",
      "(10001, 81097, datetime.date(1998, 6, 23), datetime.date(1999, 6, 23))\n",
      "(10001, 84917, datetime.date(1999, 6, 23), datetime.date(2000, 6, 22))\n",
      "(10001, 85112, datetime.date(2000, 6, 22), datetime.date(2001, 6, 22))\n",
      "(10001, 85097, datetime.date(2001, 6, 22), datetime.date(2002, 6, 22))\n",
      "(10001, 88958, datetime.date(2002, 6, 22), datetime.date(9999, 1, 1))\n"
     ]
    }
   ],
   "source": [
    "import mysql.connector\n",
    "testdb = mysql.connector.connect(\n",
    "    host=\"localhost\",\n",
    "    user=\"root\",\n",
    "    password=\"1321\",\n",
    "    database=\"employees\")\n",
    "testcursor = testdb.cursor()\n",
    "testcursor.execute(\"SELECT * FROM salaries WHERE emp_no = 10001\")\n",
    "a = testcursor.fetchall()\n",
    "for b in a:\n",
    "    print(b)"
   ]
  },
  {
   "cell_type": "code",
   "execution_count": 23,
   "id": "7d2c20fd",
   "metadata": {},
   "outputs": [
    {
     "name": "stdout",
     "output_type": "stream",
     "text": [
      "(100001, 42707, datetime.date(2002, 7, 15), datetime.date(9999, 1, 1))\n",
      "(100001, 41952, datetime.date(2001, 7, 15), datetime.date(2002, 7, 15))\n",
      "(100001, 40651, datetime.date(2000, 7, 15), datetime.date(2001, 7, 15))\n",
      "(100001, 40000, datetime.date(1999, 7, 17), datetime.date(2000, 7, 15))\n"
     ]
    }
   ],
   "source": [
    "import mysql.connector\n",
    "testdb = mysql.connector.connect(\n",
    "    host=\"localhost\",\n",
    "    user=\"root\",\n",
    "    password=\"1321\",\n",
    "    database=\"employees\")\n",
    "testcursor = testdb.cursor()\n",
    "testcursor.execute(\"SELECT * FROM salaries WHERE emp_no = 100001 ORDER by from_date DESC\")\n",
    "a = testcursor.fetchall()\n",
    "for b in a:\n",
    "    print(b)"
   ]
  },
  {
   "cell_type": "code",
   "execution_count": 24,
   "id": "24cc6de5",
   "metadata": {},
   "outputs": [],
   "source": [
    "import mysql.connector\n",
    "testdb = mysql.connector.connect(\n",
    "    host=\"localhost\",\n",
    "    user=\"root\",\n",
    "    password=\"1321\",\n",
    "    database=\"employees\")\n",
    "testcursor = testdb.cursor()\n",
    "testcursor.execute(\"SELECT * FROM salaries WHERE emp_no = 100001 AND salary = 62707 ORDER by from_date DESC\")\n",
    "a = testcursor.fetchall()\n",
    "for b in a:\n",
    "    print(b)"
   ]
  },
  {
   "cell_type": "code",
   "execution_count": 3,
   "id": "3635f391",
   "metadata": {},
   "outputs": [
    {
     "ename": "ProgrammingError",
     "evalue": "1146 (42S02): Table 'test.alumni' doesn't exist",
     "output_type": "error",
     "traceback": [
      "\u001b[1;31m---------------------------------------------------------------------------\u001b[0m",
      "\u001b[1;31mMySQLInterfaceError\u001b[0m                       Traceback (most recent call last)",
      "\u001b[1;32mC:\\ProgramData\\Anaconda3\\lib\\site-packages\\mysql\\connector\\connection_cext.py\u001b[0m in \u001b[0;36mcmd_query\u001b[1;34m(self, query, raw, buffered, raw_as_string)\u001b[0m\n\u001b[0;32m    564\u001b[0m                 \u001b[0mquery\u001b[0m \u001b[1;33m=\u001b[0m \u001b[0mquery\u001b[0m\u001b[1;33m.\u001b[0m\u001b[0mencode\u001b[0m\u001b[1;33m(\u001b[0m\u001b[1;34m\"utf-8\"\u001b[0m\u001b[1;33m)\u001b[0m\u001b[1;33m\u001b[0m\u001b[1;33m\u001b[0m\u001b[0m\n\u001b[1;32m--> 565\u001b[1;33m             self._cmysql.query(\n\u001b[0m\u001b[0;32m    566\u001b[0m                 \u001b[0mquery\u001b[0m\u001b[1;33m,\u001b[0m\u001b[1;33m\u001b[0m\u001b[1;33m\u001b[0m\u001b[0m\n",
      "\u001b[1;31mMySQLInterfaceError\u001b[0m: Table 'test.alumni' doesn't exist",
      "\nThe above exception was the direct cause of the following exception:\n",
      "\u001b[1;31mProgrammingError\u001b[0m                          Traceback (most recent call last)",
      "\u001b[1;32mC:\\Users\\SANJEE~1\\AppData\\Local\\Temp/ipykernel_10524/600427141.py\u001b[0m in \u001b[0;36m<module>\u001b[1;34m\u001b[0m\n\u001b[0;32m      6\u001b[0m \u001b[0ma1\u001b[0m \u001b[1;33m=\u001b[0m \u001b[1;34m\"DELETE FROM alumni WHERE test_id =%s\"\u001b[0m\u001b[1;33m\u001b[0m\u001b[1;33m\u001b[0m\u001b[0m\n\u001b[0;32m      7\u001b[0m \u001b[0mb1\u001b[0m \u001b[1;33m=\u001b[0m \u001b[1;33m(\u001b[0m\u001b[1;34m\"1\"\u001b[0m\u001b[1;33m,\u001b[0m\u001b[1;33m)\u001b[0m\u001b[1;33m\u001b[0m\u001b[1;33m\u001b[0m\u001b[0m\n\u001b[1;32m----> 8\u001b[1;33m \u001b[0mtestcursor\u001b[0m\u001b[1;33m.\u001b[0m\u001b[0mexecute\u001b[0m\u001b[1;33m(\u001b[0m\u001b[0ma1\u001b[0m\u001b[1;33m,\u001b[0m\u001b[0mb1\u001b[0m\u001b[1;33m)\u001b[0m\u001b[1;33m\u001b[0m\u001b[1;33m\u001b[0m\u001b[0m\n\u001b[0m\u001b[0;32m      9\u001b[0m \u001b[0mtestdb\u001b[0m\u001b[1;33m.\u001b[0m\u001b[0mcommit\u001b[0m\u001b[1;33m(\u001b[0m\u001b[1;33m)\u001b[0m\u001b[1;33m\u001b[0m\u001b[1;33m\u001b[0m\u001b[0m\n",
      "\u001b[1;32mC:\\ProgramData\\Anaconda3\\lib\\site-packages\\mysql\\connector\\cursor_cext.py\u001b[0m in \u001b[0;36mexecute\u001b[1;34m(self, operation, params, multi)\u001b[0m\n\u001b[0;32m    277\u001b[0m \u001b[1;33m\u001b[0m\u001b[0m\n\u001b[0;32m    278\u001b[0m         \u001b[1;32mtry\u001b[0m\u001b[1;33m:\u001b[0m\u001b[1;33m\u001b[0m\u001b[1;33m\u001b[0m\u001b[0m\n\u001b[1;32m--> 279\u001b[1;33m             result = self._cnx.cmd_query(\n\u001b[0m\u001b[0;32m    280\u001b[0m                 \u001b[0mstmt\u001b[0m\u001b[1;33m,\u001b[0m\u001b[1;33m\u001b[0m\u001b[1;33m\u001b[0m\u001b[0m\n\u001b[0;32m    281\u001b[0m                 \u001b[0mraw\u001b[0m\u001b[1;33m=\u001b[0m\u001b[0mself\u001b[0m\u001b[1;33m.\u001b[0m\u001b[0m_raw\u001b[0m\u001b[1;33m,\u001b[0m\u001b[1;33m\u001b[0m\u001b[1;33m\u001b[0m\u001b[0m\n",
      "\u001b[1;32mC:\\ProgramData\\Anaconda3\\lib\\site-packages\\mysql\\connector\\connection_cext.py\u001b[0m in \u001b[0;36mcmd_query\u001b[1;34m(self, query, raw, buffered, raw_as_string)\u001b[0m\n\u001b[0;32m    571\u001b[0m             )\n\u001b[0;32m    572\u001b[0m         \u001b[1;32mexcept\u001b[0m \u001b[0mMySQLInterfaceError\u001b[0m \u001b[1;32mas\u001b[0m \u001b[0merr\u001b[0m\u001b[1;33m:\u001b[0m\u001b[1;33m\u001b[0m\u001b[1;33m\u001b[0m\u001b[0m\n\u001b[1;32m--> 573\u001b[1;33m             raise get_mysql_exception(\n\u001b[0m\u001b[0;32m    574\u001b[0m                 \u001b[0merr\u001b[0m\u001b[1;33m.\u001b[0m\u001b[0merrno\u001b[0m\u001b[1;33m,\u001b[0m \u001b[0mmsg\u001b[0m\u001b[1;33m=\u001b[0m\u001b[0merr\u001b[0m\u001b[1;33m.\u001b[0m\u001b[0mmsg\u001b[0m\u001b[1;33m,\u001b[0m \u001b[0msqlstate\u001b[0m\u001b[1;33m=\u001b[0m\u001b[0merr\u001b[0m\u001b[1;33m.\u001b[0m\u001b[0msqlstate\u001b[0m\u001b[1;33m\u001b[0m\u001b[1;33m\u001b[0m\u001b[0m\n\u001b[0;32m    575\u001b[0m             ) from err\n",
      "\u001b[1;31mProgrammingError\u001b[0m: 1146 (42S02): Table 'test.alumni' doesn't exist"
     ]
    }
   ],
   "source": [
    "# Deletion of Rows\n",
    "import mysql.connector\n",
    "testdb = mysql.connector.connect(host=\"localhost\",user=\"root\",password=\"1321\",\n",
    "database=\"test\")\n",
    "testcursor = testdb.cursor()\n",
    "a1 = \"DELETE FROM alumni WHERE test_id =%s\"\n",
    "b1 = (\"1\",)\n",
    "testcursor.execute(a1,b1)\n",
    "testdb.commit()"
   ]
  },
  {
   "cell_type": "code",
   "execution_count": 62,
   "id": "2cf2fcac",
   "metadata": {},
   "outputs": [],
   "source": [
    "import mysql.connector\n",
    "testdb = mysql.connector.connect(host=\"localhost\",user=\"root\",password=\"1321\",\n",
    "database=\"employees2\")\n",
    "testcursor = testdb.cursor()\n",
    "a1 = \"DELETE FROM salaries WHERE emp_no = %s\"\n",
    "b1 = (\"10009\",)\n",
    "testcursor.execute(a1,b1)\n",
    "testdb.commit()"
   ]
  },
  {
   "cell_type": "code",
   "execution_count": 71,
   "id": "85bcd9b1",
   "metadata": {},
   "outputs": [],
   "source": [
    "# Drop Command\n",
    "import mysql.connector\n",
    "testdb = mysql.connector.connect(host=\"localhost\",user=\"root\",password=\"1321\",\n",
    "database=\"test\")\n",
    "testcursor = testdb.cursor()\n",
    "testcursor.execute(\"DROP TABLE alumni\")\n",
    "a = testcursor.fetchall()\n",
    "store = []\n",
    "for b in a:\n",
    "    store.append(b)\n",
    "    print(b)"
   ]
  },
  {
   "cell_type": "code",
   "execution_count": 72,
   "id": "a394dfc1",
   "metadata": {},
   "outputs": [
    {
     "data": {
      "text/plain": [
       "0"
      ]
     },
     "execution_count": 72,
     "metadata": {},
     "output_type": "execute_result"
    }
   ],
   "source": [
    "type(store)\n",
    "len(store)\n"
   ]
  },
  {
   "cell_type": "code",
   "execution_count": 73,
   "id": "e9dec47c",
   "metadata": {},
   "outputs": [
    {
     "ename": "ProgrammingError",
     "evalue": "1146 (42S02): Table 'test.alumni' doesn't exist",
     "output_type": "error",
     "traceback": [
      "\u001b[1;31m---------------------------------------------------------------------------\u001b[0m",
      "\u001b[1;31mMySQLInterfaceError\u001b[0m                       Traceback (most recent call last)",
      "\u001b[1;32mC:\\ProgramData\\Anaconda3\\lib\\site-packages\\mysql\\connector\\connection_cext.py\u001b[0m in \u001b[0;36mcmd_query\u001b[1;34m(self, query, raw, buffered, raw_as_string)\u001b[0m\n\u001b[0;32m    564\u001b[0m                 \u001b[0mquery\u001b[0m \u001b[1;33m=\u001b[0m \u001b[0mquery\u001b[0m\u001b[1;33m.\u001b[0m\u001b[0mencode\u001b[0m\u001b[1;33m(\u001b[0m\u001b[1;34m\"utf-8\"\u001b[0m\u001b[1;33m)\u001b[0m\u001b[1;33m\u001b[0m\u001b[1;33m\u001b[0m\u001b[0m\n\u001b[1;32m--> 565\u001b[1;33m             self._cmysql.query(\n\u001b[0m\u001b[0;32m    566\u001b[0m                 \u001b[0mquery\u001b[0m\u001b[1;33m,\u001b[0m\u001b[1;33m\u001b[0m\u001b[1;33m\u001b[0m\u001b[0m\n",
      "\u001b[1;31mMySQLInterfaceError\u001b[0m: Table 'test.alumni' doesn't exist",
      "\nThe above exception was the direct cause of the following exception:\n",
      "\u001b[1;31mProgrammingError\u001b[0m                          Traceback (most recent call last)",
      "\u001b[1;32mC:\\Users\\SANJEE~1\\AppData\\Local\\Temp/ipykernel_19904/1223048279.py\u001b[0m in \u001b[0;36m<module>\u001b[1;34m\u001b[0m\n\u001b[0;32m      4\u001b[0m database=\"test\")\n\u001b[0;32m      5\u001b[0m \u001b[0mtestcursor\u001b[0m \u001b[1;33m=\u001b[0m \u001b[0mtestdb\u001b[0m\u001b[1;33m.\u001b[0m\u001b[0mcursor\u001b[0m\u001b[1;33m(\u001b[0m\u001b[1;33m)\u001b[0m\u001b[1;33m\u001b[0m\u001b[1;33m\u001b[0m\u001b[0m\n\u001b[1;32m----> 6\u001b[1;33m \u001b[0mtestcursor\u001b[0m\u001b[1;33m.\u001b[0m\u001b[0mexecute\u001b[0m\u001b[1;33m(\u001b[0m\u001b[1;34m\"SELECT roll_no FROM alumni\"\u001b[0m\u001b[1;33m)\u001b[0m\u001b[1;33m\u001b[0m\u001b[1;33m\u001b[0m\u001b[0m\n\u001b[0m\u001b[0;32m      7\u001b[0m \u001b[0ma\u001b[0m \u001b[1;33m=\u001b[0m \u001b[0mtestcursor\u001b[0m\u001b[1;33m.\u001b[0m\u001b[0mfetchall\u001b[0m\u001b[1;33m(\u001b[0m\u001b[1;33m)\u001b[0m\u001b[1;33m\u001b[0m\u001b[1;33m\u001b[0m\u001b[0m\n\u001b[0;32m      8\u001b[0m \u001b[0mstore\u001b[0m \u001b[1;33m=\u001b[0m \u001b[1;33m[\u001b[0m\u001b[1;33m]\u001b[0m\u001b[1;33m\u001b[0m\u001b[1;33m\u001b[0m\u001b[0m\n",
      "\u001b[1;32mC:\\ProgramData\\Anaconda3\\lib\\site-packages\\mysql\\connector\\cursor_cext.py\u001b[0m in \u001b[0;36mexecute\u001b[1;34m(self, operation, params, multi)\u001b[0m\n\u001b[0;32m    277\u001b[0m \u001b[1;33m\u001b[0m\u001b[0m\n\u001b[0;32m    278\u001b[0m         \u001b[1;32mtry\u001b[0m\u001b[1;33m:\u001b[0m\u001b[1;33m\u001b[0m\u001b[1;33m\u001b[0m\u001b[0m\n\u001b[1;32m--> 279\u001b[1;33m             result = self._cnx.cmd_query(\n\u001b[0m\u001b[0;32m    280\u001b[0m                 \u001b[0mstmt\u001b[0m\u001b[1;33m,\u001b[0m\u001b[1;33m\u001b[0m\u001b[1;33m\u001b[0m\u001b[0m\n\u001b[0;32m    281\u001b[0m                 \u001b[0mraw\u001b[0m\u001b[1;33m=\u001b[0m\u001b[0mself\u001b[0m\u001b[1;33m.\u001b[0m\u001b[0m_raw\u001b[0m\u001b[1;33m,\u001b[0m\u001b[1;33m\u001b[0m\u001b[1;33m\u001b[0m\u001b[0m\n",
      "\u001b[1;32mC:\\ProgramData\\Anaconda3\\lib\\site-packages\\mysql\\connector\\connection_cext.py\u001b[0m in \u001b[0;36mcmd_query\u001b[1;34m(self, query, raw, buffered, raw_as_string)\u001b[0m\n\u001b[0;32m    571\u001b[0m             )\n\u001b[0;32m    572\u001b[0m         \u001b[1;32mexcept\u001b[0m \u001b[0mMySQLInterfaceError\u001b[0m \u001b[1;32mas\u001b[0m \u001b[0merr\u001b[0m\u001b[1;33m:\u001b[0m\u001b[1;33m\u001b[0m\u001b[1;33m\u001b[0m\u001b[0m\n\u001b[1;32m--> 573\u001b[1;33m             raise get_mysql_exception(\n\u001b[0m\u001b[0;32m    574\u001b[0m                 \u001b[0merr\u001b[0m\u001b[1;33m.\u001b[0m\u001b[0merrno\u001b[0m\u001b[1;33m,\u001b[0m \u001b[0mmsg\u001b[0m\u001b[1;33m=\u001b[0m\u001b[0merr\u001b[0m\u001b[1;33m.\u001b[0m\u001b[0mmsg\u001b[0m\u001b[1;33m,\u001b[0m \u001b[0msqlstate\u001b[0m\u001b[1;33m=\u001b[0m\u001b[0merr\u001b[0m\u001b[1;33m.\u001b[0m\u001b[0msqlstate\u001b[0m\u001b[1;33m\u001b[0m\u001b[1;33m\u001b[0m\u001b[0m\n\u001b[0;32m    575\u001b[0m             ) from err\n",
      "\u001b[1;31mProgrammingError\u001b[0m: 1146 (42S02): Table 'test.alumni' doesn't exist"
     ]
    }
   ],
   "source": [
    "import mysql.connector\n",
    "import statistics as st\n",
    "testdb = mysql.connector.connect(host=\"localhost\",user=\"root\",password=\"1321\",\n",
    "database=\"test\")\n",
    "testcursor = testdb.cursor()\n",
    "testcursor.execute(\"SELECT roll_no FROM alumni\")\n",
    "a = testcursor.fetchall()\n",
    "store = []\n",
    "for b in a:\n",
    "    store.append(b)\n",
    "    print(b)\n"
   ]
  },
  {
   "cell_type": "code",
   "execution_count": null,
   "id": "b943d426",
   "metadata": {},
   "outputs": [],
   "source": [
    "max(store)\n",
    "min(store)"
   ]
  },
  {
   "cell_type": "code",
   "execution_count": null,
   "id": "0957e163",
   "metadata": {},
   "outputs": [],
   "source": [
    "a = testcursor.fetchall()\n",
    "store = []\n",
    "for b in a:\n",
    "store.append(b)\n",
    "print(b)\n",
    "type(store)\n",
    "len(store)\n",
    "import mysql.connector\n",
    "import statistics as st\n",
    "testdb = mysql.connector.connect(host=\"localhost\",user=\"root\",password=\"****\",\n",
    "database=\"test\")\n",
    "testcursor = testdb.cursor()\n",
    "testcursor.execute(\"SELECT roll_no FROM alumni\")\n",
    "a = testcursor.fetchall()\n",
    "store = []\n",
    "for b in a:\n",
    "store.append(b)\n",
    "print(b)\n",
    "max(store)\n",
    "min(store)\n"
   ]
  }
 ],
 "metadata": {
  "kernelspec": {
   "display_name": "Python 3 (ipykernel)",
   "language": "python",
   "name": "python3"
  },
  "language_info": {
   "codemirror_mode": {
    "name": "ipython",
    "version": 3
   },
   "file_extension": ".py",
   "mimetype": "text/x-python",
   "name": "python",
   "nbconvert_exporter": "python",
   "pygments_lexer": "ipython3",
   "version": "3.9.7"
  }
 },
 "nbformat": 4,
 "nbformat_minor": 5
}
