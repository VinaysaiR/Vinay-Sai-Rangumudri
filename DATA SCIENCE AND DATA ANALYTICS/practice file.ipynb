{
 "cells": [
  {
   "cell_type": "markdown",
   "id": "01e28c72",
   "metadata": {},
   "source": [
    "### Change the elements in tuple"
   ]
  },
  {
   "cell_type": "code",
   "execution_count": 5,
   "id": "b4aec82a",
   "metadata": {},
   "outputs": [
    {
     "name": "stdout",
     "output_type": "stream",
     "text": [
      "('apple', 'kiwi', 'cherry')\n"
     ]
    }
   ],
   "source": [
    "x = (\"apple\", \"banana\", \"cherry\")\n",
    "y = list(x)\n",
    "y[1] = \"kiwi\"\n",
    "x = tuple(y)\n",
    "\n",
    "print(x)"
   ]
  },
  {
   "cell_type": "markdown",
   "id": "9e63d6fa",
   "metadata": {},
   "source": [
    "### Kth” max and min element in Python"
   ]
  },
  {
   "cell_type": "code",
   "execution_count": 1,
   "id": "0961260d",
   "metadata": {},
   "outputs": [
    {
     "name": "stdout",
     "output_type": "stream",
     "text": [
      "Tuple :  (4, 9, 1, 7, 3, 6, 5, 2)\n",
      "K maximum and minimum values :  (1, 9)\n"
     ]
    }
   ],
   "source": [
    "myTuple = (4, 9, 1, 7, 3, 6, 5, 2)\n",
    "K = 1\n",
    "\n",
    "sortedColl = sorted(list(myTuple))\n",
    "vals = tuple(sortedColl[:K] + sortedColl[-K:])\n",
    "\n",
    "\n",
    "print(\"Tuple : \",str(myTuple))\n",
    "print(\"K maximum and minimum values : \",str(vals))"
   ]
  },
  {
   "cell_type": "code",
   "execution_count": 2,
   "id": "488eedf2",
   "metadata": {},
   "outputs": [
    {
     "name": "stdout",
     "output_type": "stream",
     "text": [
      "Tuple :  (4, 9, 1, 7, 3, 6, 5, 2)\n",
      "K maximum and minimum values :  (1, 2, 3, 6, 7, 9)\n"
     ]
    }
   ],
   "source": [
    "myTuple = (4, 9, 1, 7, 3, 6, 5, 2)\n",
    "K = 3\n",
    "\n",
    "sortedColl = sorted(list(myTuple))\n",
    "vals = tuple(sortedColl[:K] + sortedColl[-K:])\n",
    "\n",
    "\n",
    "print(\"Tuple : \",str(myTuple))\n",
    "print(\"K maximum and minimum values : \",str(vals))"
   ]
  },
  {
   "cell_type": "code",
   "execution_count": 3,
   "id": "56352e1e",
   "metadata": {},
   "outputs": [
    {
     "name": "stdout",
     "output_type": "stream",
     "text": [
      "Tuple :  (4, 9, 1, 7, 3, 6, 5, 2)\n",
      "K maximum and minimum values :  (1, 2, 7, 9)\n"
     ]
    }
   ],
   "source": [
    "myTuple = (4, 9, 1, 7, 3, 6, 5, 2)\n",
    "K = 2\n",
    "\n",
    "sortedColl = sorted(list(myTuple))\n",
    "vals = tuple(sortedColl[:K] + sortedColl[-K:])\n",
    "\n",
    "\n",
    "print(\"Tuple : \",str(myTuple))\n",
    "print(\"K maximum and minimum values : \",str(vals))"
   ]
  },
  {
   "cell_type": "code",
   "execution_count": 4,
   "id": "8e552de1",
   "metadata": {},
   "outputs": [
    {
     "name": "stdout",
     "output_type": "stream",
     "text": [
      "Enter a Kth max and min element in Python : 3\n",
      "Tuple :  (4, 9, 1, 7, 3, 6, 5, 2)\n",
      "K maximum and minimum values :  (1, 2, 3, 6, 7, 9)\n"
     ]
    }
   ],
   "source": [
    "myTuple = (4, 9, 1, 7, 3, 6, 5, 2)\n",
    "K = int(input(\"Enter a Kth max and min element in Python : \"))\n",
    "\n",
    "sortedColl = sorted(list(myTuple))\n",
    "vals = tuple(sortedColl[:K] + sortedColl[-K:])\n",
    "\n",
    "\n",
    "print(\"Tuple : \",str(myTuple))\n",
    "print(\"K maximum and minimum values : \",str(vals))"
   ]
  },
  {
   "cell_type": "code",
   "execution_count": 10,
   "id": "d6bc751a",
   "metadata": {},
   "outputs": [
    {
     "name": "stdout",
     "output_type": "stream",
     "text": [
      "the length of tuple 8\n",
      "maximum Kth value : 4\n",
      "Enter a Kth lessthan or equal value the maximum Kth value max and min element in Python : 3\n",
      "Tuple :  (4, 9, 1, 7, 3, 6, 5, 2)\n",
      "K maximum and minimum values :  (1, 2, 3, 6, 7, 9)\n"
     ]
    }
   ],
   "source": [
    "myTuple = (4, 9, 1, 7, 3, 6, 5, 2)\n",
    "x = len(myTuple)\n",
    "print(\"the length of tuple\",x)\n",
    "y = x/2\n",
    "print(\"maximum Kth value :\",int(y))\n",
    "K = int(input(\"Enter a Kth lessthan or equal value the maximum Kth value max and min element in Python : \"))\n",
    "if K <= y:\n",
    "    sortedColl = sorted(list(myTuple))\n",
    "    vals = tuple(sortedColl[:K] + sortedColl[-K:])\n",
    "else:\n",
    "    print(\"K value is valide\")\n",
    "\n",
    "print(\"Tuple : \",str(myTuple))\n",
    "print(\"K maximum and minimum values : \",str(vals))"
   ]
  },
  {
   "cell_type": "markdown",
   "id": "9d676f90",
   "metadata": {},
   "source": [
    "### find the length of the tuple"
   ]
  },
  {
   "cell_type": "code",
   "execution_count": 6,
   "id": "b756f602",
   "metadata": {},
   "outputs": [
    {
     "name": "stdout",
     "output_type": "stream",
     "text": [
      "3\n"
     ]
    }
   ],
   "source": [
    "x = (\"apple\", \"banana\", \"cherry\")\n",
    "print(len(x))"
   ]
  },
  {
   "cell_type": "code",
   "execution_count": null,
   "id": "5136af38",
   "metadata": {},
   "outputs": [],
   "source": []
  },
  {
   "cell_type": "code",
   "execution_count": 2,
   "id": "1ba3358a",
   "metadata": {},
   "outputs": [
    {
     "name": "stdout",
     "output_type": "stream",
     "text": [
      "Enter 5 Numbers: \n",
      "5\n",
      "45\n",
      "745\n",
      "54\n",
      "75\n",
      "\n",
      "Multiplication Result: \n",
      "678881250\n"
     ]
    }
   ],
   "source": [
    "nums = []\n",
    "print(\"Enter 5 Numbers: \")\n",
    "for i in range(5):\n",
    "    nums.append(int(input()))\n",
    "mul = 1\n",
    "for i in range(5):\n",
    "    mul = mul*nums[i]\n",
    "print(\"\\nMultiplication Result: \")\n",
    "print(mul)"
   ]
  },
  {
   "cell_type": "code",
   "execution_count": 5,
   "id": "e88f12ca",
   "metadata": {},
   "outputs": [
    {
     "name": "stdout",
     "output_type": "stream",
     "text": [
      "Enter 5 Numbers: \n",
      "5\n",
      "6\n",
      "4\n",
      "2\n",
      "31\n",
      "\n",
      "Multiplication Result: \n",
      "7440\n"
     ]
    }
   ],
   "source": [
    "nums = []\n",
    "print(\"Enter 5 Numbers: \")\n",
    "for i in range(5):\n",
    "    nums.append(int(input()))\n",
    "mul = 1\n",
    "for i in range(5):\n",
    "    mul = mul*nums[i]\n",
    "print(\"\\nMultiplication Result: \")\n",
    "print(mul)"
   ]
  },
  {
   "cell_type": "code",
   "execution_count": 4,
   "id": "67e81cfd",
   "metadata": {},
   "outputs": [
    {
     "name": "stdout",
     "output_type": "stream",
     "text": [
      "Enter the Size: 6\n",
      "Enter 6 Elements: 1\n",
      "2\n",
      "3\n",
      "4\n",
      "5\n",
      "5\n",
      "\n",
      "Multiplication Result = 600\n"
     ]
    }
   ],
   "source": [
    "nums = list()\n",
    "\n",
    "print(end=\"Enter the Size: \")\n",
    "numsSize = int(input())\n",
    "print(end=\"Enter \" +str(numsSize)+ \" Elements: \")\n",
    "for i in range(numsSize):\n",
    "    nums.append(int(input()))\n",
    "\n",
    "mul = 1\n",
    "for i in range(numsSize):\n",
    "    mul = mul*nums[i]\n",
    "print(\"\\nMultiplication Result = \" +str(mul))"
   ]
  },
  {
   "cell_type": "code",
   "execution_count": 16,
   "id": "b7e2f330",
   "metadata": {},
   "outputs": [
    {
     "name": "stdout",
     "output_type": "stream",
     "text": [
      "Enter number of elements in list: 5\n",
      "Enter elements: 12\n",
      "Enter elements: 4\n",
      "Enter elements: 52\n",
      "Enter elements: 62\n",
      "Enter elements: 13\n",
      "Smallest element is: 4\n",
      "Smallest element is: 62\n"
     ]
    }
   ],
   "source": [
    "list1 = []\n",
    "\n",
    "num = int(input(\"Enter number of elements in list: \"))\n",
    " \n",
    "for i in range(1, num + 1):\n",
    "    ele= int(input(\"Enter elements: \"))\n",
    "    list1.append(ele)\n",
    "    \n",
    "list1.sort()\n",
    "print(\"Smallest element is:\",list1[0])\n",
    "print(\"largest element is:\",list1[-1])"
   ]
  },
  {
   "cell_type": "code",
   "execution_count": 21,
   "id": "63bc6e64",
   "metadata": {},
   "outputs": [
    {
     "data": {
      "text/plain": [
       "2"
      ]
     },
     "execution_count": 21,
     "metadata": {},
     "output_type": "execute_result"
    }
   ],
   "source": [
    "ls= ['abc', 'xyz', 'abhja', '121']\n",
    "len([x for x in ls if (len(x) >= 2 and x[-1] == x[0])])"
   ]
  },
  {
   "cell_type": "code",
   "execution_count": 23,
   "id": "6f292b0a",
   "metadata": {},
   "outputs": [
    {
     "data": {
      "text/plain": [
       "1"
      ]
     },
     "execution_count": 23,
     "metadata": {},
     "output_type": "execute_result"
    }
   ],
   "source": [
    "ls= ['abc', 'xyz', 'abhja']\n",
    "len([x for x in ls if (len(x) >= 2 and x[-1] == x[0])])"
   ]
  },
  {
   "cell_type": "code",
   "execution_count": 29,
   "id": "77ae4680",
   "metadata": {},
   "outputs": [
    {
     "data": {
      "text/plain": [
       "1"
      ]
     },
     "execution_count": 29,
     "metadata": {},
     "output_type": "execute_result"
    }
   ],
   "source": [
    "ls= ['abc', 'xyz', 'aba']\n",
    "len([x for x in ls if (len(x) >= 2 and x[-1] == x[0])])"
   ]
  },
  {
   "cell_type": "code",
   "execution_count": null,
   "id": "dc354338",
   "metadata": {},
   "outputs": [],
   "source": []
  }
 ],
 "metadata": {
  "kernelspec": {
   "display_name": "Python 3 (ipykernel)",
   "language": "python",
   "name": "python3"
  },
  "language_info": {
   "codemirror_mode": {
    "name": "ipython",
    "version": 3
   },
   "file_extension": ".py",
   "mimetype": "text/x-python",
   "name": "python",
   "nbconvert_exporter": "python",
   "pygments_lexer": "ipython3",
   "version": "3.9.7"
  }
 },
 "nbformat": 4,
 "nbformat_minor": 5
}
