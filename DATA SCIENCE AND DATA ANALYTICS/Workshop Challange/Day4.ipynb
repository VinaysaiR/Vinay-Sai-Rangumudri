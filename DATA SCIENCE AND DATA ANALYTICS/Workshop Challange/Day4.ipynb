{
 "cells": [
  {
   "cell_type": "code",
   "execution_count": null,
   "id": "97c7d299",
   "metadata": {},
   "outputs": [],
   "source": [
    "#lambda,filter,reduce and map\n",
    "\n",
    "#Numpy "
   ]
  },
  {
   "cell_type": "code",
   "execution_count": null,
   "id": "7cb54a26",
   "metadata": {},
   "outputs": [],
   "source": [
    "_____ function is known as anonymous function\n",
    "#lambda"
   ]
  },
  {
   "cell_type": "code",
   "execution_count": 10,
   "id": "c35276d4",
   "metadata": {},
   "outputs": [],
   "source": [
    "#lambda function can take any number of arguments but expression will be only one\n",
    "x=lambda d,b,c,a:(((a+b)/c)*d)\n"
   ]
  },
  {
   "cell_type": "code",
   "execution_count": 11,
   "id": "4abc569b",
   "metadata": {},
   "outputs": [
    {
     "name": "stdout",
     "output_type": "stream",
     "text": [
      "2.0\n"
     ]
    }
   ],
   "source": [
    "print(x(1,2,3,4))"
   ]
  },
  {
   "cell_type": "code",
   "execution_count": 6,
   "id": "a30d68c9",
   "metadata": {},
   "outputs": [
    {
     "name": "stdout",
     "output_type": "stream",
     "text": [
      "<function func1.<locals>.<lambda> at 0x000001DFC28B0790>\n",
      "625\n"
     ]
    }
   ],
   "source": [
    "def func1(n):\n",
    "    return lambda a:a**n\n",
    "\n",
    "x=func1(4)\n",
    "print(x)\n",
    "print(x(5))"
   ]
  },
  {
   "cell_type": "code",
   "execution_count": null,
   "id": "a7154ffc",
   "metadata": {},
   "outputs": [],
   "source": [
    "#map function that returns a map object (which is an iterator ) after applying function to each item of iterable\n",
    "#function=sqr\n",
    "#seq=[1,2,3,4,5,6]\n",
    "#map(fun,seq)\n",
    "#[1,4,9,16,25,36]"
   ]
  },
  {
   "cell_type": "code",
   "execution_count": 15,
   "id": "129675f3",
   "metadata": {},
   "outputs": [
    {
     "name": "stdout",
     "output_type": "stream",
     "text": [
      "[1, 4, 9, 16, 25, 36, 49, 64, 81, 100, 121, 144, 169, 196, 225, 256, 289, 324, 361, 400, 441, 484, 529, 576, 625, 676, 729, 784, 841, 900, 961, 1024, 1089, 1156, 1225, 1296, 1369, 1444, 1521, 1600, 1681, 1764, 1849, 1936, 2025, 2116, 2209, 2304, 2401, 2500]\n"
     ]
    }
   ],
   "source": [
    "def sqr(n):#function\n",
    "    return n**2\n",
    "#we want the sum of first 50 natural no\n",
    "seq=range(1,51) #[1,2,3,4,5,..50]\n",
    "\n",
    "res=map(add,seq)\n",
    "print(list(res))\n",
    "\n"
   ]
  },
  {
   "cell_type": "code",
   "execution_count": 17,
   "id": "2b3f7024",
   "metadata": {},
   "outputs": [
    {
     "name": "stdout",
     "output_type": "stream",
     "text": [
      "[1.0, 1.4142135623730951, 1.7320508075688772, 2.0, 2.23606797749979, 2.449489742783178, 2.6457513110645907, 2.8284271247461903, 3.0, 3.1622776601683795, 3.3166247903554, 3.4641016151377544, 3.605551275463989, 3.7416573867739413, 3.872983346207417, 4.0, 4.123105625617661, 4.242640687119285, 4.358898943540674, 4.47213595499958, 4.58257569495584, 4.69041575982343, 4.795831523312719, 4.898979485566356, 5.0, 5.0990195135927845, 5.196152422706632, 5.291502622129181, 5.385164807134504, 5.477225575051661, 5.5677643628300215, 5.656854249492381, 5.744562646538029, 5.830951894845301, 5.916079783099616, 6.0, 6.082762530298219, 6.164414002968976, 6.244997998398398, 6.324555320336759, 6.4031242374328485, 6.48074069840786, 6.557438524302, 6.6332495807108, 6.708203932499369, 6.782329983125268, 6.855654600401044, 6.928203230275509, 7.0, 7.0710678118654755]\n"
     ]
    }
   ],
   "source": [
    "def sqrt(n):#function\n",
    "    return n**0.5\n",
    "#we want the sum of first 50 natural no\n",
    "seq=range(1,51) #[1,2,3,4,5,..50]\n",
    "\n",
    "res=map(sqrt,seq)\n",
    "print(list(res))\n"
   ]
  },
  {
   "cell_type": "code",
   "execution_count": null,
   "id": "bdf1c57f",
   "metadata": {},
   "outputs": [],
   "source": [
    "#map(function,sequence)"
   ]
  },
  {
   "cell_type": "code",
   "execution_count": 18,
   "id": "84612913",
   "metadata": {},
   "outputs": [],
   "source": [
    "#filter function\n",
    "#65 students\n",
    "#marks of each student\n",
    "#passing marks is 35\n",
    "\n",
    "def function(mark):\n",
    "    if mark>35:\n",
    "        return True\n",
    "    else:\n",
    "        return False\n",
    "    \n",
    "seq=[23,45,67,67,34,56,78,89,100,23,24]\n",
    "filtered=filter(function,seq)\n"
   ]
  },
  {
   "cell_type": "code",
   "execution_count": 19,
   "id": "af8debf1",
   "metadata": {},
   "outputs": [
    {
     "name": "stdout",
     "output_type": "stream",
     "text": [
      "The students who have passed are:\n",
      "45\n",
      "67\n",
      "67\n",
      "56\n",
      "78\n",
      "89\n",
      "100\n"
     ]
    }
   ],
   "source": [
    "print('The students who have passed are:')\n",
    "for s in filtered:\n",
    "    print(s)"
   ]
  },
  {
   "cell_type": "code",
   "execution_count": 21,
   "id": "d1cd0fa2",
   "metadata": {},
   "outputs": [
    {
     "name": "stdout",
     "output_type": "stream",
     "text": [
      "The filtered vowels are\n",
      "a\n",
      "e\n",
      "u\n",
      "i\n",
      "e\n"
     ]
    }
   ],
   "source": [
    "def function1(variable):\n",
    "    vowels=['a','e','i','o','u']\n",
    "    if variable in vowels:\n",
    "        return True\n",
    "    else:\n",
    "        return False\n",
    "\n",
    "seq=['a','t','m','r','e','r','t','u','i','e','t','s','k','l','l','c']\n",
    "\n",
    "filtered=filter(function1,seq)\n",
    "print('The filtered vowels are')\n",
    "for s in filtered:\n",
    "    print(s)"
   ]
  },
  {
   "cell_type": "code",
   "execution_count": 31,
   "id": "41fbf89b",
   "metadata": {},
   "outputs": [
    {
     "name": "stdout",
     "output_type": "stream",
     "text": [
      "25\n",
      "246\n"
     ]
    }
   ],
   "source": [
    "#reduce function is used to apply a particular function passed in its argument\n",
    "#reduce function is part of functools library \n",
    "#reduce function is generally used with lambda function\n",
    "\n",
    "seq1=[1,2,3,4,5,6,7,10,15,20,24,30,35,10,4,2,3,1,3,23,4,2,4,4,24]\n",
    "print(len(seq1))\n",
    "\n",
    "#max as well as sum\n",
    "import functools\n",
    "\n",
    "sum1=0\n",
    "for i in seq1:\n",
    "    sum1+=i\n",
    "    \n",
    "print(sum1)"
   ]
  },
  {
   "cell_type": "code",
   "execution_count": 32,
   "id": "9bb48cb9",
   "metadata": {},
   "outputs": [
    {
     "name": "stdout",
     "output_type": "stream",
     "text": [
      "The average of the list is 9.84\n"
     ]
    }
   ],
   "source": [
    "print('The average of the list is',functools.reduce(lambda a,b:((a+b)),seq1)/len(seq1))"
   ]
  },
  {
   "cell_type": "code",
   "execution_count": 24,
   "id": "b6d6a4a1",
   "metadata": {},
   "outputs": [
    {
     "name": "stdout",
     "output_type": "stream",
     "text": [
      "The maximum of the list is 35\n"
     ]
    }
   ],
   "source": [
    "print('The maximum of the list is',functools.reduce(lambda a,b:a if a>b else b,seq1))"
   ]
  },
  {
   "cell_type": "code",
   "execution_count": null,
   "id": "4f291ded",
   "metadata": {},
   "outputs": [],
   "source": [
    "____ is the only drawback of python?\n",
    "#python is interpreted language \n",
    "#it executes the code line by line \n",
    "#thus due to this , the time taken for python to execute code is higher as compared to other libraries\n",
    "#we write a library (list of functions written in C,C++)\n",
    "\n",
    "#Libraries like numpy,pandas,sklearn\n",
    "\n",
    "_____ amongst the following is not a library used for analytics or data science?\n",
    "A.re\n",
    "B.tensorflow\n",
    "C.pandas\n",
    "D.ggplot2\n",
    "\n",
    "\n"
   ]
  },
  {
   "cell_type": "code",
   "execution_count": null,
   "id": "be9191db",
   "metadata": {},
   "outputs": [],
   "source": []
  }
 ],
 "metadata": {
  "kernelspec": {
   "display_name": "Python 3 (ipykernel)",
   "language": "python",
   "name": "python3"
  },
  "language_info": {
   "codemirror_mode": {
    "name": "ipython",
    "version": 3
   },
   "file_extension": ".py",
   "mimetype": "text/x-python",
   "name": "python",
   "nbconvert_exporter": "python",
   "pygments_lexer": "ipython3",
   "version": "3.9.12"
  }
 },
 "nbformat": 4,
 "nbformat_minor": 5
}
