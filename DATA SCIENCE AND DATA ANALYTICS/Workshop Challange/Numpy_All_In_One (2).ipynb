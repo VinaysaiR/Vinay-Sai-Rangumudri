{
 "cells": [
  {
   "cell_type": "markdown",
   "id": "1edd75ae",
   "metadata": {},
   "source": [
    "# Numpy\n",
    "Numpy stands for numerical python\n",
    "It is a library used to perform scientific and mathematical computation on array\n"
   ]
  },
  {
   "cell_type": "markdown",
   "id": "063065e7",
   "metadata": {},
   "source": [
    "# Array\n",
    "Array is a datastructure of numpy.Array is homogenous and faster than list and also you can perform many mathematical inbuilt operations on an array\n",
    "Array can be multidimensional but list is unidimensional"
   ]
  },
  {
   "cell_type": "code",
   "execution_count": null,
   "id": "05f85879",
   "metadata": {},
   "outputs": [],
   "source": []
  },
  {
   "cell_type": "code",
   "execution_count": 1,
   "id": "e3ae85e7",
   "metadata": {},
   "outputs": [],
   "source": [
    "# importing library\n",
    "import numpy as np # import is used to import the library , np is the alias name \n"
   ]
  },
  {
   "cell_type": "markdown",
   "id": "0cb4f237",
   "metadata": {},
   "source": [
    "# Creating an array\n",
    "## From a list\n",
    "## Using numpy functions\n",
    "## Special functions\n"
   ]
  },
  {
   "cell_type": "code",
   "execution_count": 7,
   "id": "5f2f5bc7",
   "metadata": {},
   "outputs": [
    {
     "data": {
      "text/plain": [
       "array(['1', '2', '3', '4', '5', '6', '7', '7', '8', '14.4', 'Devang'],\n",
       "      dtype='<U32')"
      ]
     },
     "execution_count": 7,
     "metadata": {},
     "output_type": "execute_result"
    }
   ],
   "source": [
    "#From a list\n",
    "import numpy as np\n",
    "list=[1,2,3,4,5,6,7,7,8,14.4,'Devang']\n",
    "first_array=np.array(list)\n",
    "first_array"
   ]
  },
  {
   "cell_type": "code",
   "execution_count": 8,
   "id": "f501d74c",
   "metadata": {},
   "outputs": [
    {
     "data": {
      "text/plain": [
       "dtype('<U32')"
      ]
     },
     "execution_count": 8,
     "metadata": {},
     "output_type": "execute_result"
    }
   ],
   "source": [
    "first_array.dtype"
   ]
  },
  {
   "cell_type": "code",
   "execution_count": 119,
   "id": "1254c45d",
   "metadata": {},
   "outputs": [
    {
     "name": "stdout",
     "output_type": "stream",
     "text": [
      "1\n",
      "2\n",
      "<class 'numpy.ndarray'>\n"
     ]
    }
   ],
   "source": [
    "#Numpy function \n",
    "second_array= np.array([1,1,2,3,4,5,6,7,8])\n",
    "two_d_array=np.array([[1,2,4,5,6],[56,75,67,59,10]])\n",
    "two_d_array\n",
    "print(second_array.ndim)\n",
    "print(two_d_array.ndim)\n",
    "print(type(second_array))\n",
    "\n",
    "# no of Square brackets will determine the dimension\n",
    "\n",
    "#11th,12th--> Matrix "
   ]
  },
  {
   "cell_type": "code",
   "execution_count": 103,
   "id": "2787e6c5",
   "metadata": {},
   "outputs": [
    {
     "name": "stdout",
     "output_type": "stream",
     "text": [
      "(9,)\n",
      "(2, 5)\n",
      "9\n",
      "10\n"
     ]
    }
   ],
   "source": [
    "print(second_array.shape)\n",
    "print(two_d_array.shape)\n",
    "\n",
    "print(second_array.size)\n",
    "print(two_d_array.size)"
   ]
  },
  {
   "cell_type": "code",
   "execution_count": 104,
   "id": "be7eb8a6",
   "metadata": {},
   "outputs": [
    {
     "data": {
      "text/plain": [
       "dtype('int32')"
      ]
     },
     "execution_count": 104,
     "metadata": {},
     "output_type": "execute_result"
    }
   ],
   "source": [
    "second_array.dtype"
   ]
  },
  {
   "cell_type": "code",
   "execution_count": 6,
   "id": "2bed375d",
   "metadata": {},
   "outputs": [],
   "source": [
    "# 2 D Array\n",
    "first_2d_array=np.array([[1,13,49,5,6,7],[1,3,5,27,18,8]])"
   ]
  },
  {
   "cell_type": "code",
   "execution_count": 124,
   "id": "cab8c0ca",
   "metadata": {},
   "outputs": [
    {
     "name": "stdout",
     "output_type": "stream",
     "text": [
      "[[ 1  5  6  7 13 49]\n",
      " [ 1  3  5  8 18 27]]\n"
     ]
    }
   ],
   "source": [
    "first_2d_array\n",
    "first_2d_array.sort()\n",
    "print(first_2d_array)"
   ]
  },
  {
   "cell_type": "code",
   "execution_count": 8,
   "id": "7046da41",
   "metadata": {},
   "outputs": [],
   "source": [
    "first_3d_array=np.array([[[1, 2, 3], [4, 5, 6]], [[1, 2, 3], [4, 5, 6]]])"
   ]
  },
  {
   "cell_type": "code",
   "execution_count": 9,
   "id": "0c062919",
   "metadata": {},
   "outputs": [
    {
     "data": {
      "text/plain": [
       "array([[[1, 2, 3],\n",
       "        [4, 5, 6]],\n",
       "\n",
       "       [[1, 2, 3],\n",
       "        [4, 5, 6]]])"
      ]
     },
     "execution_count": 9,
     "metadata": {},
     "output_type": "execute_result"
    }
   ],
   "source": [
    "first_3d_array"
   ]
  },
  {
   "cell_type": "markdown",
   "id": "5583103f",
   "metadata": {},
   "source": [
    "# Some important parameters\n",
    "1.Shape\n",
    "2.Size\n",
    "3.Dimension\n",
    "4.Data type"
   ]
  },
  {
   "cell_type": "code",
   "execution_count": 10,
   "id": "30c0f1af",
   "metadata": {},
   "outputs": [],
   "source": [
    "#Creating array from special functions\n",
    "special_array1=np.zeros([4,4])"
   ]
  },
  {
   "cell_type": "code",
   "execution_count": 11,
   "id": "45afd449",
   "metadata": {},
   "outputs": [
    {
     "data": {
      "text/plain": [
       "array([[0., 0., 0., 0.],\n",
       "       [0., 0., 0., 0.],\n",
       "       [0., 0., 0., 0.],\n",
       "       [0., 0., 0., 0.]])"
      ]
     },
     "execution_count": 11,
     "metadata": {},
     "output_type": "execute_result"
    }
   ],
   "source": [
    "special_array1"
   ]
  },
  {
   "cell_type": "code",
   "execution_count": 105,
   "id": "8b537290",
   "metadata": {},
   "outputs": [],
   "source": [
    "special_array2=np.eye(4,4)"
   ]
  },
  {
   "cell_type": "code",
   "execution_count": 106,
   "id": "25a4247f",
   "metadata": {},
   "outputs": [
    {
     "data": {
      "text/plain": [
       "array([[1., 0., 0., 0.],\n",
       "       [0., 1., 0., 0.],\n",
       "       [0., 0., 1., 0.],\n",
       "       [0., 0., 0., 1.]])"
      ]
     },
     "execution_count": 106,
     "metadata": {},
     "output_type": "execute_result"
    }
   ],
   "source": [
    "special_array2"
   ]
  },
  {
   "cell_type": "code",
   "execution_count": 109,
   "id": "bf8351b9",
   "metadata": {},
   "outputs": [],
   "source": [
    "special_array3=np.arange(20).reshape(2,10)"
   ]
  },
  {
   "cell_type": "code",
   "execution_count": 110,
   "id": "9c6e28af",
   "metadata": {},
   "outputs": [
    {
     "data": {
      "text/plain": [
       "array([[ 0,  1,  2,  3,  4,  5,  6,  7,  8,  9],\n",
       "       [10, 11, 12, 13, 14, 15, 16, 17, 18, 19]])"
      ]
     },
     "execution_count": 110,
     "metadata": {},
     "output_type": "execute_result"
    }
   ],
   "source": [
    "special_array3"
   ]
  },
  {
   "cell_type": "code",
   "execution_count": 16,
   "id": "8480b65f",
   "metadata": {},
   "outputs": [],
   "source": [
    "special_array4=np.ones([3,4])"
   ]
  },
  {
   "cell_type": "code",
   "execution_count": 17,
   "id": "e445e31c",
   "metadata": {},
   "outputs": [
    {
     "data": {
      "text/plain": [
       "array([[1., 1., 1., 1.],\n",
       "       [1., 1., 1., 1.],\n",
       "       [1., 1., 1., 1.]])"
      ]
     },
     "execution_count": 17,
     "metadata": {},
     "output_type": "execute_result"
    }
   ],
   "source": [
    "special_array4"
   ]
  },
  {
   "cell_type": "code",
   "execution_count": 111,
   "id": "18b12d02",
   "metadata": {},
   "outputs": [],
   "source": [
    "special_array5=np.full((3,3),10)"
   ]
  },
  {
   "cell_type": "code",
   "execution_count": 112,
   "id": "87db07f0",
   "metadata": {},
   "outputs": [
    {
     "data": {
      "text/plain": [
       "array([[10, 10, 10],\n",
       "       [10, 10, 10],\n",
       "       [10, 10, 10]])"
      ]
     },
     "execution_count": 112,
     "metadata": {},
     "output_type": "execute_result"
    }
   ],
   "source": [
    "special_array5\n"
   ]
  },
  {
   "cell_type": "code",
   "execution_count": 115,
   "id": "b903bc21",
   "metadata": {},
   "outputs": [],
   "source": [
    "special_array6=np.linspace(0,20,4)"
   ]
  },
  {
   "cell_type": "code",
   "execution_count": 116,
   "id": "7ce9fcab",
   "metadata": {},
   "outputs": [
    {
     "data": {
      "text/plain": [
       "array([ 0.        ,  6.66666667, 13.33333333, 20.        ])"
      ]
     },
     "execution_count": 116,
     "metadata": {},
     "output_type": "execute_result"
    }
   ],
   "source": [
    "special_array6"
   ]
  },
  {
   "cell_type": "code",
   "execution_count": 117,
   "id": "ac662a22",
   "metadata": {},
   "outputs": [],
   "source": [
    "special_array7=np.random.random((3,2))"
   ]
  },
  {
   "cell_type": "code",
   "execution_count": 118,
   "id": "da7d0168",
   "metadata": {},
   "outputs": [
    {
     "data": {
      "text/plain": [
       "array([[0.95664692, 0.49886422],\n",
       "       [0.22840516, 0.02862718],\n",
       "       [0.42927527, 0.77465415]])"
      ]
     },
     "execution_count": 118,
     "metadata": {},
     "output_type": "execute_result"
    }
   ],
   "source": [
    "special_array7"
   ]
  },
  {
   "cell_type": "markdown",
   "id": "512bb307",
   "metadata": {},
   "source": [
    "# Examining numpy array\n",
    "1.Shape\n",
    "2.Size\n",
    "3.Dimension\n",
    "4.Data type\n",
    "5.Type"
   ]
  },
  {
   "cell_type": "code",
   "execution_count": 24,
   "id": "adf43927",
   "metadata": {},
   "outputs": [
    {
     "data": {
      "text/plain": [
       "(10,)"
      ]
     },
     "execution_count": 24,
     "metadata": {},
     "output_type": "execute_result"
    }
   ],
   "source": [
    "#shape\n",
    "first_array.shape"
   ]
  },
  {
   "cell_type": "code",
   "execution_count": 25,
   "id": "2d1c6f94",
   "metadata": {},
   "outputs": [
    {
     "data": {
      "text/plain": [
       "10"
      ]
     },
     "execution_count": 25,
     "metadata": {},
     "output_type": "execute_result"
    }
   ],
   "source": [
    "#size\n",
    "first_array.size"
   ]
  },
  {
   "cell_type": "code",
   "execution_count": 26,
   "id": "dd478bf2",
   "metadata": {},
   "outputs": [
    {
     "data": {
      "text/plain": [
       "1"
      ]
     },
     "execution_count": 26,
     "metadata": {},
     "output_type": "execute_result"
    }
   ],
   "source": [
    "#dimensions\n",
    "first_array.ndim"
   ]
  },
  {
   "cell_type": "code",
   "execution_count": 27,
   "id": "f3620904",
   "metadata": {},
   "outputs": [
    {
     "data": {
      "text/plain": [
       "numpy.ndarray"
      ]
     },
     "execution_count": 27,
     "metadata": {},
     "output_type": "execute_result"
    }
   ],
   "source": [
    "#type\n",
    "type(first_array)"
   ]
  },
  {
   "cell_type": "code",
   "execution_count": 28,
   "id": "8e1bf6de",
   "metadata": {},
   "outputs": [
    {
     "data": {
      "text/plain": [
       "dtype('int32')"
      ]
     },
     "execution_count": 28,
     "metadata": {},
     "output_type": "execute_result"
    }
   ],
   "source": [
    "#dtype\n",
    "first_array.dtype"
   ]
  },
  {
   "cell_type": "markdown",
   "id": "363ffcc0",
   "metadata": {},
   "source": [
    "# Manipulating the array\n",
    "1.Sorting\n",
    "2.Flatten\n",
    "3.Transpose\n",
    "4.Reshape\n",
    "5.Copy\n",
    "6.Resize\n",
    "7.Append\n",
    "8.Insert\n",
    "9.Delete"
   ]
  },
  {
   "cell_type": "code",
   "execution_count": 120,
   "id": "308aca8d",
   "metadata": {},
   "outputs": [
    {
     "name": "stdout",
     "output_type": "stream",
     "text": [
      "[[ 1  5  6  7 13 49]\n",
      " [ 1  3  5  8 18 27]]\n",
      "[[ 1  5  6  7 13 49]\n",
      " [ 1  3  5  8 18 27]]\n"
     ]
    }
   ],
   "source": [
    "#sort\n",
    "first_2d_array.sort()\n",
    "print(first_2d_array)"
   ]
  },
  {
   "cell_type": "code",
   "execution_count": null,
   "id": "5f1b3974",
   "metadata": {},
   "outputs": [],
   "source": []
  },
  {
   "cell_type": "code",
   "execution_count": 126,
   "id": "756df0e6",
   "metadata": {},
   "outputs": [
    {
     "data": {
      "text/plain": [
       "array([ 1,  5,  6,  7, 13, 49,  1,  3,  5,  8, 18, 27])"
      ]
     },
     "execution_count": 126,
     "metadata": {},
     "output_type": "execute_result"
    }
   ],
   "source": [
    "#flatten\n",
    "arr=first_2d_array.flatten()\n",
    "arr"
   ]
  },
  {
   "cell_type": "code",
   "execution_count": 31,
   "id": "906c4b9d",
   "metadata": {},
   "outputs": [
    {
     "data": {
      "text/plain": [
       "(2, 6)"
      ]
     },
     "execution_count": 31,
     "metadata": {},
     "output_type": "execute_result"
    }
   ],
   "source": [
    "first_2d_array.shape"
   ]
  },
  {
   "cell_type": "code",
   "execution_count": 32,
   "id": "bd5ffd69",
   "metadata": {},
   "outputs": [
    {
     "data": {
      "text/plain": [
       "array([[ 1,  1],\n",
       "       [ 5,  3],\n",
       "       [ 6,  5],\n",
       "       [ 7,  8],\n",
       "       [13, 18],\n",
       "       [49, 27]])"
      ]
     },
     "execution_count": 32,
     "metadata": {},
     "output_type": "execute_result"
    }
   ],
   "source": [
    "#Transpose\n",
    "first_2d_array.T"
   ]
  },
  {
   "cell_type": "code",
   "execution_count": 128,
   "id": "4dd9c66c",
   "metadata": {},
   "outputs": [
    {
     "data": {
      "text/plain": [
       "array([[ 1,  5,  6],\n",
       "       [ 7, 13, 49],\n",
       "       [ 1,  3,  5],\n",
       "       [ 8, 18, 27]])"
      ]
     },
     "execution_count": 128,
     "metadata": {},
     "output_type": "execute_result"
    }
   ],
   "source": [
    "#Reshaping\n",
    "first_2d_array.reshape(4,3)"
   ]
  },
  {
   "cell_type": "code",
   "execution_count": 129,
   "id": "6953ef96",
   "metadata": {},
   "outputs": [],
   "source": [
    "#Copy\n",
    "arr=np.copy(first_2d_array)"
   ]
  },
  {
   "cell_type": "code",
   "execution_count": 130,
   "id": "84b91bd0",
   "metadata": {},
   "outputs": [],
   "source": [
    "#Resize\n",
    "arr.resize((5,5))"
   ]
  },
  {
   "cell_type": "code",
   "execution_count": 131,
   "id": "96c341c4",
   "metadata": {},
   "outputs": [
    {
     "data": {
      "text/plain": [
       "array([[ 1,  5,  6,  7, 13],\n",
       "       [49,  1,  3,  5,  8],\n",
       "       [18, 27,  0,  0,  0],\n",
       "       [ 0,  0,  0,  0,  0],\n",
       "       [ 0,  0,  0,  0,  0]])"
      ]
     },
     "execution_count": 131,
     "metadata": {},
     "output_type": "execute_result"
    }
   ],
   "source": [
    "arr"
   ]
  },
  {
   "cell_type": "code",
   "execution_count": null,
   "id": "cd870717",
   "metadata": {},
   "outputs": [],
   "source": []
  },
  {
   "cell_type": "code",
   "execution_count": null,
   "id": "0240ff01",
   "metadata": {},
   "outputs": [],
   "source": []
  },
  {
   "cell_type": "code",
   "execution_count": 37,
   "id": "51c80e34",
   "metadata": {},
   "outputs": [
    {
     "data": {
      "text/plain": [
       "array([ 1,  5,  6,  7, 13, 49,  1,  3,  5,  8, 18, 27,  0,  0,  0,  0,  0,\n",
       "        0,  0,  0,  0,  0,  0,  0,  0,  0,  0,  0,  0,  0,  2,  4,  5,  6,\n",
       "        8])"
      ]
     },
     "execution_count": 37,
     "metadata": {},
     "output_type": "execute_result"
    }
   ],
   "source": [
    "#Append\n",
    "np.append(arr,[2,4,5,6,8])\n"
   ]
  },
  {
   "cell_type": "code",
   "execution_count": 136,
   "id": "17f6d9d1",
   "metadata": {},
   "outputs": [
    {
     "data": {
      "text/plain": [
       "array([ 1,  5,  6,  7, 13, 10, 49,  1,  3,  5,  8, 18, 27,  0,  0,  0,  0,\n",
       "        0,  0,  0,  0,  0,  0,  0,  0,  0])"
      ]
     },
     "execution_count": 136,
     "metadata": {},
     "output_type": "execute_result"
    }
   ],
   "source": [
    "#Insert\n",
    "np.insert(arr,5,10)"
   ]
  },
  {
   "cell_type": "code",
   "execution_count": 135,
   "id": "3fb940f2",
   "metadata": {},
   "outputs": [
    {
     "data": {
      "text/plain": [
       "array([[ 1,  5,  6,  7, 13],\n",
       "       [49,  1,  3,  5,  8],\n",
       "       [ 0,  0,  0,  0,  0],\n",
       "       [ 0,  0,  0,  0,  0]])"
      ]
     },
     "execution_count": 135,
     "metadata": {},
     "output_type": "execute_result"
    }
   ],
   "source": [
    "#Delete\n",
    "np.delete(arr,2,axis=0)"
   ]
  },
  {
   "cell_type": "markdown",
   "id": "679a6eda",
   "metadata": {},
   "source": [
    "# Index and Slicing\n",
    "Similar to list in single dimensional array but its a bit different for 2-d array and 3-array \n",
    "indexing refers to the position at which an element is placed \n",
    "slicing refers to calling the object/s at a particular position/s"
   ]
  },
  {
   "cell_type": "code",
   "execution_count": 138,
   "id": "3d585f07",
   "metadata": {},
   "outputs": [
    {
     "name": "stdout",
     "output_type": "stream",
     "text": [
      "[0 1 2 3 4 5 6 7 8 9]\n",
      "[2 4 6 8]\n",
      "9\n",
      "[3 4 5 6 7 8 9]\n"
     ]
    }
   ],
   "source": [
    "#indexing and slicing 1-d array \n",
    "a = np.arange(10) \n",
    "print(a)\n",
    "\n",
    "s = slice(2,9,2) \n",
    "print (a[s])\n",
    "\n",
    "d=a[9]\n",
    "print(d)\n",
    "\n",
    "r=a[3:]\n",
    "print(r)"
   ]
  },
  {
   "cell_type": "code",
   "execution_count": 41,
   "id": "89dce5a2",
   "metadata": {},
   "outputs": [
    {
     "name": "stdout",
     "output_type": "stream",
     "text": [
      "[33 44  5]\n",
      "[ 2 44 25]\n",
      "16\n",
      "33\n",
      "[[25  2 23]\n",
      " [33 50  5]\n",
      " [84 25 15]]\n"
     ]
    }
   ],
   "source": [
    "#slicing and indexing 2-d array\n",
    "ap = np.array([[11,2,23],[33,44,5],[84,25,16]])\n",
    "i=ap[1,] #ap[row,column]\n",
    "print(i)\n",
    "\n",
    "x=ap[:,1]\n",
    "print(x)\n",
    "\n",
    "u=ap[2,2]\n",
    "print(u)\n",
    "\n",
    "y=ap[1,0]\n",
    "print(y)\n",
    "\n",
    "ap[2,2]=15\n",
    "ap[1,1]=50\n",
    "ap[0,0]=25\n",
    "\n",
    "print(ap)"
   ]
  },
  {
   "cell_type": "markdown",
   "id": "601772a0",
   "metadata": {},
   "source": [
    "# Scalar Mathematics\n",
    "Scalar operations include\n",
    "1.Add\n",
    "2.Subtract\n",
    "3.Multiply\n",
    "4.Divide\n",
    "5.Power"
   ]
  },
  {
   "cell_type": "code",
   "execution_count": 42,
   "id": "eb4cc950",
   "metadata": {},
   "outputs": [
    {
     "data": {
      "text/plain": [
       "array([[26,  3, 24],\n",
       "       [34, 51,  6],\n",
       "       [85, 26, 16]])"
      ]
     },
     "execution_count": 42,
     "metadata": {},
     "output_type": "execute_result"
    }
   ],
   "source": [
    "np.add(ap,1)"
   ]
  },
  {
   "cell_type": "code",
   "execution_count": 43,
   "id": "c816b766",
   "metadata": {},
   "outputs": [
    {
     "data": {
      "text/plain": [
       "array([[22, -1, 20],\n",
       "       [30, 47,  2],\n",
       "       [81, 22, 12]])"
      ]
     },
     "execution_count": 43,
     "metadata": {},
     "output_type": "execute_result"
    }
   ],
   "source": [
    "np.subtract(ap,3)"
   ]
  },
  {
   "cell_type": "code",
   "execution_count": 44,
   "id": "f975d37c",
   "metadata": {},
   "outputs": [
    {
     "data": {
      "text/plain": [
       "array([[ 50,   4,  46],\n",
       "       [ 66, 100,  10],\n",
       "       [168,  50,  30]])"
      ]
     },
     "execution_count": 44,
     "metadata": {},
     "output_type": "execute_result"
    }
   ],
   "source": [
    "np.multiply(ap,2)"
   ]
  },
  {
   "cell_type": "code",
   "execution_count": 45,
   "id": "44b5aadf",
   "metadata": {},
   "outputs": [
    {
     "data": {
      "text/plain": [
       "array([[12.5,  1. , 11.5],\n",
       "       [16.5, 25. ,  2.5],\n",
       "       [42. , 12.5,  7.5]])"
      ]
     },
     "execution_count": 45,
     "metadata": {},
     "output_type": "execute_result"
    }
   ],
   "source": [
    "np.divide(ap,2)"
   ]
  },
  {
   "cell_type": "code",
   "execution_count": 46,
   "id": "c803264a",
   "metadata": {},
   "outputs": [
    {
     "data": {
      "text/plain": [
       "array([[ 15625,      8,  12167],\n",
       "       [ 35937, 125000,    125],\n",
       "       [592704,  15625,   3375]], dtype=int32)"
      ]
     },
     "execution_count": 46,
     "metadata": {},
     "output_type": "execute_result"
    }
   ],
   "source": [
    "np.power(ap,3)"
   ]
  },
  {
   "cell_type": "markdown",
   "id": "6192d580",
   "metadata": {},
   "source": [
    "# Vector Operations\n",
    "Vector Operations \n",
    "1.Add\n",
    "2.Subtract\n",
    "3.Multiply\n",
    "4.Divide\n",
    "5.Power\n",
    "6.Is_equal\n",
    "7.sqrt\n",
    "8.sin,log,abs,floor,ceil,round\n"
   ]
  },
  {
   "cell_type": "code",
   "execution_count": 47,
   "id": "75997f05",
   "metadata": {},
   "outputs": [
    {
     "data": {
      "text/plain": [
       "array([[26,  4, 26],\n",
       "       [37, 55, 11],\n",
       "       [91, 33, 24]])"
      ]
     },
     "execution_count": 47,
     "metadata": {},
     "output_type": "execute_result"
    }
   ],
   "source": [
    "ds= np.array([[1,2,3],[4,5,6],[7,8,9]])\n",
    "np.add(ap,ds)"
   ]
  },
  {
   "cell_type": "code",
   "execution_count": 48,
   "id": "bf81f2dd",
   "metadata": {},
   "outputs": [
    {
     "data": {
      "text/plain": [
       "array([[24,  0, 20],\n",
       "       [29, 45, -1],\n",
       "       [77, 17,  6]])"
      ]
     },
     "execution_count": 48,
     "metadata": {},
     "output_type": "execute_result"
    }
   ],
   "source": [
    "np.subtract(ap,ds)"
   ]
  },
  {
   "cell_type": "code",
   "execution_count": 49,
   "id": "922c23c8",
   "metadata": {},
   "outputs": [
    {
     "data": {
      "text/plain": [
       "array([[25.        ,  1.        ,  7.66666667],\n",
       "       [ 8.25      , 10.        ,  0.83333333],\n",
       "       [12.        ,  3.125     ,  1.66666667]])"
      ]
     },
     "execution_count": 49,
     "metadata": {},
     "output_type": "execute_result"
    }
   ],
   "source": [
    "np.divide(ap,ds)"
   ]
  },
  {
   "cell_type": "code",
   "execution_count": 50,
   "id": "09106840",
   "metadata": {},
   "outputs": [
    {
     "data": {
      "text/plain": [
       "array([[ 25,   4,  69],\n",
       "       [132, 250,  30],\n",
       "       [588, 200, 135]])"
      ]
     },
     "execution_count": 50,
     "metadata": {},
     "output_type": "execute_result"
    }
   ],
   "source": [
    "np.multiply(ap,ds)"
   ]
  },
  {
   "cell_type": "code",
   "execution_count": 51,
   "id": "16a200e9",
   "metadata": {},
   "outputs": [
    {
     "data": {
      "text/plain": [
       "array([[         25,           4,       12167],\n",
       "       [    1185921,   312500000,       15625],\n",
       "       [-1685635072, -2030932031,  -211346289]], dtype=int32)"
      ]
     },
     "execution_count": 51,
     "metadata": {},
     "output_type": "execute_result"
    }
   ],
   "source": [
    "np.power(ap,ds)"
   ]
  },
  {
   "cell_type": "code",
   "execution_count": 52,
   "id": "df9ccc5c",
   "metadata": {},
   "outputs": [
    {
     "data": {
      "text/plain": [
       "array([[5.        , 1.41421356, 4.79583152],\n",
       "       [5.74456265, 7.07106781, 2.23606798],\n",
       "       [9.16515139, 5.        , 3.87298335]])"
      ]
     },
     "execution_count": 52,
     "metadata": {},
     "output_type": "execute_result"
    }
   ],
   "source": [
    "np.sqrt(ap)"
   ]
  },
  {
   "cell_type": "code",
   "execution_count": 53,
   "id": "8e5a6ea3",
   "metadata": {},
   "outputs": [
    {
     "data": {
      "text/plain": [
       "array([[False,  True, False],\n",
       "       [False, False, False],\n",
       "       [False, False, False]])"
      ]
     },
     "execution_count": 53,
     "metadata": {},
     "output_type": "execute_result"
    }
   ],
   "source": [
    "np.equal(ap,ds)"
   ]
  },
  {
   "cell_type": "code",
   "execution_count": 54,
   "id": "f76ec0fc",
   "metadata": {},
   "outputs": [
    {
     "data": {
      "text/plain": [
       "array([[-0.13235175,  0.90929743, -0.8462204 ],\n",
       "       [ 0.99991186, -0.26237485, -0.95892427],\n",
       "       [ 0.73319032, -0.13235175,  0.65028784]])"
      ]
     },
     "execution_count": 54,
     "metadata": {},
     "output_type": "execute_result"
    }
   ],
   "source": [
    "np.sin(ap)\n"
   ]
  },
  {
   "cell_type": "code",
   "execution_count": 55,
   "id": "c1189191",
   "metadata": {},
   "outputs": [
    {
     "data": {
      "text/plain": [
       "array([[3.21887582, 0.69314718, 3.13549422],\n",
       "       [3.49650756, 3.91202301, 1.60943791],\n",
       "       [4.4308168 , 3.21887582, 2.7080502 ]])"
      ]
     },
     "execution_count": 55,
     "metadata": {},
     "output_type": "execute_result"
    }
   ],
   "source": [
    "np.log(ap)"
   ]
  },
  {
   "cell_type": "code",
   "execution_count": 56,
   "id": "9f9cab0b",
   "metadata": {},
   "outputs": [
    {
     "data": {
      "text/plain": [
       "array([[25,  2, 23],\n",
       "       [33, 50,  5],\n",
       "       [84, 25, 15]])"
      ]
     },
     "execution_count": 56,
     "metadata": {},
     "output_type": "execute_result"
    }
   ],
   "source": [
    "np.abs(ap)"
   ]
  },
  {
   "cell_type": "markdown",
   "id": "3a037702",
   "metadata": {},
   "source": [
    "# Statistical Functions\n",
    "\n"
   ]
  },
  {
   "cell_type": "code",
   "execution_count": 57,
   "id": "edede47b",
   "metadata": {},
   "outputs": [
    {
     "data": {
      "text/plain": [
       "29.11111111111111"
      ]
     },
     "execution_count": 57,
     "metadata": {},
     "output_type": "execute_result"
    }
   ],
   "source": [
    "np.mean(ap)"
   ]
  },
  {
   "cell_type": "code",
   "execution_count": 58,
   "id": "7acc515a",
   "metadata": {},
   "outputs": [
    {
     "data": {
      "text/plain": [
       "25.0"
      ]
     },
     "execution_count": 58,
     "metadata": {},
     "output_type": "execute_result"
    }
   ],
   "source": [
    "np.median(ap)"
   ]
  },
  {
   "cell_type": "code",
   "execution_count": 59,
   "id": "1ee1ee28",
   "metadata": {},
   "outputs": [
    {
     "data": {
      "text/plain": [
       "84"
      ]
     },
     "execution_count": 59,
     "metadata": {},
     "output_type": "execute_result"
    }
   ],
   "source": [
    "np.max(ap)"
   ]
  },
  {
   "cell_type": "code",
   "execution_count": 60,
   "id": "96f63e24",
   "metadata": {},
   "outputs": [
    {
     "data": {
      "text/plain": [
       "2"
      ]
     },
     "execution_count": 60,
     "metadata": {},
     "output_type": "execute_result"
    }
   ],
   "source": [
    "np.min(ap)"
   ]
  },
  {
   "cell_type": "code",
   "execution_count": 61,
   "id": "82d70809",
   "metadata": {},
   "outputs": [
    {
     "data": {
      "text/plain": [
       "array([[ 1.        , -0.73686815,  0.45080483],\n",
       "       [-0.73686815,  1.        ,  0.27126169],\n",
       "       [ 0.45080483,  0.27126169,  1.        ]])"
      ]
     },
     "execution_count": 61,
     "metadata": {},
     "output_type": "execute_result"
    }
   ],
   "source": [
    "np.corrcoef(ap)"
   ]
  },
  {
   "cell_type": "code",
   "execution_count": 62,
   "id": "d55cc802",
   "metadata": {},
   "outputs": [
    {
     "data": {
      "text/plain": [
       "15.0"
      ]
     },
     "execution_count": 62,
     "metadata": {},
     "output_type": "execute_result"
    }
   ],
   "source": [
    "np.percentile(ap,25)"
   ]
  },
  {
   "cell_type": "code",
   "execution_count": 63,
   "id": "3c279370",
   "metadata": {},
   "outputs": [
    {
     "data": {
      "text/plain": [
       "561.2098765432098"
      ]
     },
     "execution_count": 63,
     "metadata": {},
     "output_type": "execute_result"
    }
   ],
   "source": [
    "np.var(ap)"
   ]
  },
  {
   "cell_type": "code",
   "execution_count": 64,
   "id": "1282038c",
   "metadata": {},
   "outputs": [
    {
     "data": {
      "text/plain": [
       "23.68986864765632"
      ]
     },
     "execution_count": 64,
     "metadata": {},
     "output_type": "execute_result"
    }
   ],
   "source": [
    "np.std(ap)"
   ]
  },
  {
   "cell_type": "markdown",
   "id": "c946080a",
   "metadata": {},
   "source": [
    "# Concatenation  Split Stack BroadCasting"
   ]
  },
  {
   "cell_type": "code",
   "execution_count": 65,
   "id": "64438b61",
   "metadata": {},
   "outputs": [
    {
     "data": {
      "text/plain": [
       "array([[25,  2, 23],\n",
       "       [33, 50,  5],\n",
       "       [84, 25, 15],\n",
       "       [ 1,  2,  3],\n",
       "       [ 4,  5,  6],\n",
       "       [ 7,  8,  9]])"
      ]
     },
     "execution_count": 65,
     "metadata": {},
     "output_type": "execute_result"
    }
   ],
   "source": [
    "np.concatenate((ap,ds),axis=0)"
   ]
  },
  {
   "cell_type": "code",
   "execution_count": 66,
   "id": "ea2895a1",
   "metadata": {},
   "outputs": [
    {
     "data": {
      "text/plain": [
       "array([[25,  2, 23,  1,  2,  3],\n",
       "       [33, 50,  5,  4,  5,  6],\n",
       "       [84, 25, 15,  7,  8,  9]])"
      ]
     },
     "execution_count": 66,
     "metadata": {},
     "output_type": "execute_result"
    }
   ],
   "source": [
    "np.concatenate((ap,ds),axis=1)"
   ]
  },
  {
   "cell_type": "code",
   "execution_count": 89,
   "id": "6359d809",
   "metadata": {},
   "outputs": [
    {
     "data": {
      "text/plain": [
       "[array([[25,  2, 23]]), array([[33, 50,  5]]), array([[84, 25, 15]])]"
      ]
     },
     "execution_count": 89,
     "metadata": {},
     "output_type": "execute_result"
    }
   ],
   "source": [
    "np.split(ap,3)\n"
   ]
  },
  {
   "cell_type": "code",
   "execution_count": 68,
   "id": "dc9386a1",
   "metadata": {},
   "outputs": [
    {
     "data": {
      "text/plain": [
       "[array([[25],\n",
       "        [33],\n",
       "        [84]]),\n",
       " array([[ 2],\n",
       "        [50],\n",
       "        [25]]),\n",
       " array([[23],\n",
       "        [ 5],\n",
       "        [15]])]"
      ]
     },
     "execution_count": 68,
     "metadata": {},
     "output_type": "execute_result"
    }
   ],
   "source": [
    "np.hsplit(ap,3)"
   ]
  },
  {
   "cell_type": "code",
   "execution_count": 91,
   "id": "626eff33",
   "metadata": {},
   "outputs": [
    {
     "data": {
      "text/plain": [
       "array([[194, 244, 294],\n",
       "       [268, 356, 444],\n",
       "       [289, 413, 537]])"
      ]
     },
     "execution_count": 91,
     "metadata": {},
     "output_type": "execute_result"
    }
   ],
   "source": [
    "np.matmul(ap,ds)\n"
   ]
  },
  {
   "cell_type": "code",
   "execution_count": 70,
   "id": "b4f4ef5f",
   "metadata": {},
   "outputs": [
    {
     "data": {
      "text/plain": [
       "array([25,  2, 23, 33, 50,  5, 84, 25, 15])"
      ]
     },
     "execution_count": 70,
     "metadata": {},
     "output_type": "execute_result"
    }
   ],
   "source": [
    "np.hstack(ap)"
   ]
  },
  {
   "cell_type": "code",
   "execution_count": 71,
   "id": "b0eda84d",
   "metadata": {},
   "outputs": [
    {
     "data": {
      "text/plain": [
       "array([[25,  2, 23],\n",
       "       [33, 50,  5],\n",
       "       [84, 25, 15]])"
      ]
     },
     "execution_count": 71,
     "metadata": {},
     "output_type": "execute_result"
    }
   ],
   "source": [
    "np.vstack(ap)"
   ]
  },
  {
   "cell_type": "code",
   "execution_count": 83,
   "id": "0a06dfb9",
   "metadata": {},
   "outputs": [],
   "source": [
    "vs=np.array([1,3,5])\n",
    "broad_cast=vs+ap\n"
   ]
  },
  {
   "cell_type": "code",
   "execution_count": 81,
   "id": "cb450ced",
   "metadata": {},
   "outputs": [
    {
     "data": {
      "text/plain": [
       "array([[26,  5, 28],\n",
       "       [34, 53, 10],\n",
       "       [85, 28, 20]])"
      ]
     },
     "execution_count": 81,
     "metadata": {},
     "output_type": "execute_result"
    }
   ],
   "source": [
    "broad_cast"
   ]
  },
  {
   "cell_type": "markdown",
   "id": "a6c496fe",
   "metadata": {},
   "source": [
    "# Application of arrays\n",
    "1.Working with the image dataset\n",
    "2.Machine Learning Model\n",
    "3.Statistical Summary\n"
   ]
  },
  {
   "cell_type": "code",
   "execution_count": 86,
   "id": "0fe2a10f",
   "metadata": {},
   "outputs": [
    {
     "data": {
      "text/plain": [
       "23.5"
      ]
     },
     "execution_count": 86,
     "metadata": {},
     "output_type": "execute_result"
    }
   ],
   "source": [
    "#Examples of Application \n",
    "#Finding IQR\n",
    "\n",
    "import numpy as np\n",
    "\n",
    "#define array of data\n",
    "data = np.array([14, 19, 20, 22, 24, 26, 27, 30, 30, 31, 36, 38, 44, 47,50,55,100,125,150])\n",
    "\n",
    "#calculate interquartile range \n",
    "q3, q1 = np.percentile(data, [75 ,25])\n",
    "iqr = q3 - q1\n",
    "\n",
    "#display interquartile range \n",
    "iqr\n",
    "\n"
   ]
  },
  {
   "cell_type": "code",
   "execution_count": 87,
   "id": "2722a588",
   "metadata": {},
   "outputs": [
    {
     "name": "stdout",
     "output_type": "stream",
     "text": [
      "[[1008   65  128]]\n"
     ]
    }
   ],
   "source": [
    "## Outliers Detection\n",
    "import numpy as np\n",
    "## Website analytics data:\n",
    "## (row = day), (col = users, bounce, duration)\n",
    "a = np.array([[815, 70, 115],\n",
    "              [767, 80, 50],\n",
    "              [912, 74, 77],\n",
    "              [554, 88, 70],\n",
    "              [1008, 65, 128]])\n",
    "mean, stdev = np.mean(a, axis=0), np.std(a, axis=0)\n",
    " #Mean: [811.2  76.4  88. ]\n",
    "#Std: [152.97764543   6.85857128  29.04479299]\n",
    "## Find Outliers\n",
    "outliers = ((np.abs(a[:,0] - mean[0]) > stdev[0])\n",
    "            * (np.abs(a[:,1] - mean[1]) > stdev[1])\n",
    "            * (np.abs(a[:,2] - mean[2]) > stdev[2]))\n",
    "## Result\n",
    "print(a[outliers])"
   ]
  },
  {
   "cell_type": "code",
   "execution_count": null,
   "id": "003e8215",
   "metadata": {},
   "outputs": [],
   "source": []
  }
 ],
 "metadata": {
  "kernelspec": {
   "display_name": "Python 3 (ipykernel)",
   "language": "python",
   "name": "python3"
  },
  "language_info": {
   "codemirror_mode": {
    "name": "ipython",
    "version": 3
   },
   "file_extension": ".py",
   "mimetype": "text/x-python",
   "name": "python",
   "nbconvert_exporter": "python",
   "pygments_lexer": "ipython3",
   "version": "3.9.12"
  }
 },
 "nbformat": 4,
 "nbformat_minor": 5
}
