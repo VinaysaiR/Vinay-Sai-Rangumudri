{
 "cells": [
  {
   "cell_type": "code",
   "execution_count": null,
   "id": "b138fb10",
   "metadata": {},
   "outputs": [],
   "source": [
    "#Day 2 - Looping and Data Structure\n",
    "\n",
    "#Which of these is not a data structure in Python?\n",
    "A.Dictionary\n",
    "B.Tables\n",
    "C.Sets\n",
    "D- List\n",
    "\n",
    "Which of these is immutable?\n",
    "A.Tuple\n",
    "B.List\n",
    "C.Set\n",
    "D.Dictionary\n",
    "\n",
    "Which of these are used to eradicate the duplicate?\n",
    "\n",
    "Sets"
   ]
  },
  {
   "cell_type": "code",
   "execution_count": 4,
   "id": "72b08e16",
   "metadata": {},
   "outputs": [],
   "source": [
    "#Which of these is faster?\n",
    "#Tuples \n",
    "#List\n",
    "\n",
    "#Which function will remove last element from the list\n",
    "#A.Remove\n",
    "#B.Pop\n",
    "#C.Delete\n",
    "\n",
    "#POP\n",
    "\n",
    "list1=[1,2,3,4,6]\n",
    "list1\n",
    "\n",
    "#Data Structure--> It is a collection of many values also known as data structures\n",
    "\n",
    "#List is mutable,It can store different forms of data , it contains duplicates\n",
    "\n",
    "\n",
    "list1=[14,16,20,27,00]\n",
    "list1[4]=46"
   ]
  },
  {
   "cell_type": "code",
   "execution_count": 7,
   "id": "1a52d9b0",
   "metadata": {},
   "outputs": [],
   "source": [
    "list1.append(100)#adds up to the list AT LAST POSITION\n",
    "list1.extend([13,42,4,3,53,]) #each and every element has thier own position "
   ]
  },
  {
   "cell_type": "code",
   "execution_count": 11,
   "id": "8fd17de9",
   "metadata": {},
   "outputs": [
    {
     "ename": "TypeError",
     "evalue": "'set' object is not subscriptable",
     "output_type": "error",
     "traceback": [
      "\u001b[1;31m---------------------------------------------------------------------------\u001b[0m",
      "\u001b[1;31mTypeError\u001b[0m                                 Traceback (most recent call last)",
      "Input \u001b[1;32mIn [11]\u001b[0m, in \u001b[0;36m<cell line: 3>\u001b[1;34m()\u001b[0m\n\u001b[0;32m      1\u001b[0m list1[\u001b[38;5;241m4\u001b[39m]\n\u001b[0;32m      2\u001b[0m set1\u001b[38;5;241m=\u001b[39m{\u001b[38;5;241m3\u001b[39m,\u001b[38;5;241m5\u001b[39m,\u001b[38;5;241m6\u001b[39m,\u001b[38;5;241m2\u001b[39m,\u001b[38;5;241m4\u001b[39m,\u001b[38;5;241m2\u001b[39m}\n\u001b[1;32m----> 3\u001b[0m \u001b[43mset1\u001b[49m\u001b[43m[\u001b[49m\u001b[38;5;241;43m3\u001b[39;49m\u001b[43m]\u001b[49m\n",
      "\u001b[1;31mTypeError\u001b[0m: 'set' object is not subscriptable"
     ]
    }
   ],
   "source": [
    "list1[4]\n",
    "set1={3,5,6,2,4,2}\n",
    "set1[3]"
   ]
  },
  {
   "cell_type": "code",
   "execution_count": null,
   "id": "ba504fb0",
   "metadata": {},
   "outputs": [],
   "source": [
    "#List-It is a mutable,ordered and it can support many data types in one sequence\n",
    "#We want to do dynamic programming--> programming that is constantly changing or updating\n",
    "\n",
    "#Tuples--> It is ordered,it can support many data types in one sequence but it is immutable\n",
    "#We can use it for static programming--> Cookies and passwords --> we dont want rapid changes\n",
    "\n",
    "\n",
    "#Sets-->It is mutable,it can support many data typs in sequence but it is unordered and will not repeat\n",
    "#We can use it for removing duplicates\n",
    "\n",
    "#Dictionary--> It is a combination of key and value pairs \n",
    "#Duplicate values can be allowed\n",
    "#Duplicate keys CANT BE ALLOWED... collection of value and key is known as items\n",
    "#Dictionary values can be accessed by key\n",
    "#Dictionary can be used where we have to map the combination of key with a value\n",
    "\n"
   ]
  },
  {
   "cell_type": "code",
   "execution_count": 2,
   "id": "cd29a7bb",
   "metadata": {},
   "outputs": [],
   "source": [
    "#List Operation\n",
    "list1=[1,2,3,4,5,6]\n",
    "list1.append(4) #adding one element"
   ]
  },
  {
   "cell_type": "code",
   "execution_count": 3,
   "id": "61c4ec03",
   "metadata": {},
   "outputs": [],
   "source": [
    "list1.extend([1,5,8]) #adding the whole elements as a list\n",
    "\n"
   ]
  },
  {
   "cell_type": "code",
   "execution_count": 14,
   "id": "5a91d0a2",
   "metadata": {},
   "outputs": [],
   "source": [
    "#list1.clear() #deletes all the elements of list"
   ]
  },
  {
   "cell_type": "code",
   "execution_count": 4,
   "id": "5c83b44a",
   "metadata": {},
   "outputs": [
    {
     "data": {
      "text/plain": [
       "2"
      ]
     },
     "execution_count": 4,
     "metadata": {},
     "output_type": "execute_result"
    }
   ],
   "source": [
    "list1.count(5)#count the no of occurances\n"
   ]
  },
  {
   "cell_type": "code",
   "execution_count": 9,
   "id": "3eff1e32",
   "metadata": {},
   "outputs": [
    {
     "data": {
      "text/plain": [
       "3"
      ]
     },
     "execution_count": 9,
     "metadata": {},
     "output_type": "execute_result"
    }
   ],
   "source": [
    "list1.remove(2)#it will remove the element\n",
    "list1.pop(1) #it will remove the element at given index"
   ]
  },
  {
   "cell_type": "code",
   "execution_count": 11,
   "id": "f70e3013",
   "metadata": {},
   "outputs": [],
   "source": [
    "del list1#will delete the structure along with val"
   ]
  },
  {
   "cell_type": "code",
   "execution_count": 12,
   "id": "5e3e9328",
   "metadata": {},
   "outputs": [
    {
     "ename": "NameError",
     "evalue": "name 'list1' is not defined",
     "output_type": "error",
     "traceback": [
      "\u001b[1;31m---------------------------------------------------------------------------\u001b[0m",
      "\u001b[1;31mNameError\u001b[0m                                 Traceback (most recent call last)",
      "Input \u001b[1;32mIn [12]\u001b[0m, in \u001b[0;36m<cell line: 1>\u001b[1;34m()\u001b[0m\n\u001b[1;32m----> 1\u001b[0m \u001b[43mlist1\u001b[49m\n",
      "\u001b[1;31mNameError\u001b[0m: name 'list1' is not defined"
     ]
    }
   ],
   "source": [
    "list1"
   ]
  },
  {
   "cell_type": "code",
   "execution_count": 13,
   "id": "35b860fa",
   "metadata": {},
   "outputs": [],
   "source": [
    "#tuples\n",
    "tuple1=(1,2,3,5)"
   ]
  },
  {
   "cell_type": "code",
   "execution_count": 16,
   "id": "dba069f3",
   "metadata": {},
   "outputs": [],
   "source": [
    "tuple1.count(1) #no of occurances\n",
    "tuple1.index(3) #returns the index of the element\n",
    "tuple2=tuple1*5 "
   ]
  },
  {
   "cell_type": "code",
   "execution_count": 19,
   "id": "1fd67881",
   "metadata": {},
   "outputs": [
    {
     "data": {
      "text/plain": [
       "(1, 2, 3, 5, 1, 2, 3, 5, 1, 2, 3, 5, 1, 2, 3, 5, 1, 2, 3, 5, 1, 2, 3, 5)"
      ]
     },
     "execution_count": 19,
     "metadata": {},
     "output_type": "execute_result"
    }
   ],
   "source": [
    "tuple2\n",
    "tuple1+tuple2"
   ]
  },
  {
   "cell_type": "code",
   "execution_count": 21,
   "id": "c289d003",
   "metadata": {},
   "outputs": [],
   "source": [
    "set1={1,2,3,4,5,6,1,2,3,4}"
   ]
  },
  {
   "cell_type": "code",
   "execution_count": 23,
   "id": "5561100f",
   "metadata": {},
   "outputs": [],
   "source": [
    "set1.add(8)#it will add element at last"
   ]
  },
  {
   "cell_type": "code",
   "execution_count": 24,
   "id": "4dc8b51e",
   "metadata": {},
   "outputs": [
    {
     "data": {
      "text/plain": [
       "{1, 2, 3, 4, 5, 6, 8}"
      ]
     },
     "execution_count": 24,
     "metadata": {},
     "output_type": "execute_result"
    }
   ],
   "source": [
    "set1"
   ]
  },
  {
   "cell_type": "code",
   "execution_count": 25,
   "id": "d33aeed4",
   "metadata": {},
   "outputs": [],
   "source": [
    "set1\n",
    "set2={2,3,4,6,8}"
   ]
  },
  {
   "cell_type": "code",
   "execution_count": 26,
   "id": "1eedf439",
   "metadata": {},
   "outputs": [
    {
     "data": {
      "text/plain": [
       "{1, 5}"
      ]
     },
     "execution_count": 26,
     "metadata": {},
     "output_type": "execute_result"
    }
   ],
   "source": [
    "set1.difference(set2)#it will return the difference "
   ]
  },
  {
   "cell_type": "code",
   "execution_count": 27,
   "id": "3785467c",
   "metadata": {},
   "outputs": [],
   "source": [
    "set1.difference_update(set2)#it will update the set with difference of two sets"
   ]
  },
  {
   "cell_type": "code",
   "execution_count": 28,
   "id": "e6524be7",
   "metadata": {},
   "outputs": [
    {
     "data": {
      "text/plain": [
       "{1, 5}"
      ]
     },
     "execution_count": 28,
     "metadata": {},
     "output_type": "execute_result"
    }
   ],
   "source": [
    "set1"
   ]
  },
  {
   "cell_type": "code",
   "execution_count": 31,
   "id": "aa270afd",
   "metadata": {},
   "outputs": [],
   "source": [
    "dict1={1:45,2:56,3:56,3:65,4:100,4:56}"
   ]
  },
  {
   "cell_type": "code",
   "execution_count": 32,
   "id": "1229505a",
   "metadata": {},
   "outputs": [
    {
     "data": {
      "text/plain": [
       "{1: 45, 2: 56, 3: 65, 4: 56}"
      ]
     },
     "execution_count": 32,
     "metadata": {},
     "output_type": "execute_result"
    }
   ],
   "source": [
    "dict1"
   ]
  },
  {
   "cell_type": "code",
   "execution_count": 33,
   "id": "b41217bf",
   "metadata": {},
   "outputs": [],
   "source": [
    "dict1[4]=125"
   ]
  },
  {
   "cell_type": "code",
   "execution_count": 34,
   "id": "66ec2528",
   "metadata": {},
   "outputs": [
    {
     "data": {
      "text/plain": [
       "{1: 45, 2: 56, 3: 65, 4: 125}"
      ]
     },
     "execution_count": 34,
     "metadata": {},
     "output_type": "execute_result"
    }
   ],
   "source": [
    "dict1"
   ]
  },
  {
   "cell_type": "code",
   "execution_count": 36,
   "id": "945c1122",
   "metadata": {},
   "outputs": [
    {
     "ename": "TypeError",
     "evalue": "'int' object is not iterable",
     "output_type": "error",
     "traceback": [
      "\u001b[1;31m---------------------------------------------------------------------------\u001b[0m",
      "\u001b[1;31mTypeError\u001b[0m                                 Traceback (most recent call last)",
      "Input \u001b[1;32mIn [36]\u001b[0m, in \u001b[0;36m<cell line: 1>\u001b[1;34m()\u001b[0m\n\u001b[1;32m----> 1\u001b[0m \u001b[43mdict1\u001b[49m\u001b[38;5;241;43m.\u001b[39;49m\u001b[43mfromkeys\u001b[49m\u001b[43m(\u001b[49m\u001b[38;5;241;43m2\u001b[39;49m\u001b[43m)\u001b[49m\n",
      "\u001b[1;31mTypeError\u001b[0m: 'int' object is not iterable"
     ]
    }
   ],
   "source": [
    "dict1.fromkeys()#create the new dictionary"
   ]
  },
  {
   "cell_type": "code",
   "execution_count": 37,
   "id": "60c2642d",
   "metadata": {},
   "outputs": [
    {
     "data": {
      "text/plain": [
       "125"
      ]
     },
     "execution_count": 37,
     "metadata": {},
     "output_type": "execute_result"
    }
   ],
   "source": [
    "dict1.get(4) #returns the values corresponding to the key"
   ]
  },
  {
   "cell_type": "code",
   "execution_count": 38,
   "id": "8ea59a80",
   "metadata": {},
   "outputs": [
    {
     "data": {
      "text/plain": [
       "dict_items([(1, 45), (2, 56), (3, 65), (4, 125)])"
      ]
     },
     "execution_count": 38,
     "metadata": {},
     "output_type": "execute_result"
    }
   ],
   "source": [
    "dict1.items()#return the list of key and value pairs"
   ]
  },
  {
   "cell_type": "code",
   "execution_count": 39,
   "id": "4a1455d6",
   "metadata": {},
   "outputs": [
    {
     "data": {
      "text/plain": [
       "dict_keys([1, 2, 3, 4])"
      ]
     },
     "execution_count": 39,
     "metadata": {},
     "output_type": "execute_result"
    }
   ],
   "source": [
    "dict1.keys()"
   ]
  },
  {
   "cell_type": "code",
   "execution_count": 40,
   "id": "4545e537",
   "metadata": {},
   "outputs": [
    {
     "data": {
      "text/plain": [
       "dict_values([45, 56, 65, 125])"
      ]
     },
     "execution_count": 40,
     "metadata": {},
     "output_type": "execute_result"
    }
   ],
   "source": [
    "dict1.values()"
   ]
  },
  {
   "cell_type": "code",
   "execution_count": 42,
   "id": "56c172dc",
   "metadata": {},
   "outputs": [
    {
     "data": {
      "text/plain": [
       "56"
      ]
     },
     "execution_count": 42,
     "metadata": {},
     "output_type": "execute_result"
    }
   ],
   "source": [
    "dict1.pop(2)#it will take the key value and remove the entire item "
   ]
  },
  {
   "cell_type": "code",
   "execution_count": 43,
   "id": "fbf4ba02",
   "metadata": {},
   "outputs": [
    {
     "data": {
      "text/plain": [
       "(4, 125)"
      ]
     },
     "execution_count": 43,
     "metadata": {},
     "output_type": "execute_result"
    }
   ],
   "source": [
    "dict1.popitem()#it will remove the last item"
   ]
  },
  {
   "cell_type": "code",
   "execution_count": null,
   "id": "f4758d25",
   "metadata": {},
   "outputs": [],
   "source": []
  },
  {
   "cell_type": "code",
   "execution_count": 44,
   "id": "adc8de11",
   "metadata": {},
   "outputs": [
    {
     "name": "stdout",
     "output_type": "stream",
     "text": [
      "65\n",
      "3\n"
     ]
    }
   ],
   "source": [
    "value=int(input())\n",
    "for key,val in dict1.items():\n",
    "    if val==value:\n",
    "        print(key)"
   ]
  },
  {
   "cell_type": "code",
   "execution_count": 46,
   "id": "b4658ee6",
   "metadata": {},
   "outputs": [
    {
     "data": {
      "text/plain": [
       "[1, 3]"
      ]
     },
     "execution_count": 46,
     "metadata": {},
     "output_type": "execute_result"
    }
   ],
   "source": [
    "[key for (key,values) in dict1.items()]\n"
   ]
  },
  {
   "cell_type": "code",
   "execution_count": 48,
   "id": "af335df0",
   "metadata": {},
   "outputs": [
    {
     "data": {
      "text/plain": [
       "45"
      ]
     },
     "execution_count": 48,
     "metadata": {},
     "output_type": "execute_result"
    }
   ],
   "source": [
    "dict1.setdefault(1)"
   ]
  },
  {
   "cell_type": "code",
   "execution_count": null,
   "id": "9f6b9b59",
   "metadata": {},
   "outputs": [],
   "source": []
  }
 ],
 "metadata": {
  "kernelspec": {
   "display_name": "Python 3 (ipykernel)",
   "language": "python",
   "name": "python3"
  },
  "language_info": {
   "codemirror_mode": {
    "name": "ipython",
    "version": 3
   },
   "file_extension": ".py",
   "mimetype": "text/x-python",
   "name": "python",
   "nbconvert_exporter": "python",
   "pygments_lexer": "ipython3",
   "version": "3.9.12"
  }
 },
 "nbformat": 4,
 "nbformat_minor": 5
}
